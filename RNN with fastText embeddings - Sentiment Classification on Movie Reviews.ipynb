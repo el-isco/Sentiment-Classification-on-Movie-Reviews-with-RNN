{
  "nbformat": 4,
  "nbformat_minor": 0,
  "metadata": {
    "colab": {
      "name": "text_analytics_assigment_4.ipynb",
      "provenance": [],
      "collapsed_sections": []
    },
    "kernelspec": {
      "name": "python3",
      "display_name": "Python 3"
    },
    "language_info": {
      "name": "python"
    }
  },
  "cells": [
    {
      "cell_type": "markdown",
      "source": [
        "#Libraries"
      ],
      "metadata": {
        "id": "Gh4CDkWeSWJT"
      }
    },
    {
      "cell_type": "code",
      "source": [
        "import numpy as np\n",
        "import os\n",
        "import pandas as pd\n",
        "from sklearn.datasets import load_files\n",
        "import nltk\n",
        "import re\n",
        "from nltk.stem import WordNetLemmatizer\n",
        "from sklearn.model_selection import train_test_split  \n",
        "from sklearn.feature_extraction.text import TfidfVectorizer\n",
        "from nltk.corpus import stopwords\n",
        "from sklearn.feature_selection import mutual_info_classif\n",
        "from matplotlib import pyplot as plt\n",
        "nltk.download('stopwords')\n",
        "nltk.download('punkt')\n",
        "from nltk.tokenize import word_tokenize\n",
        "from sklearn.linear_model import LogisticRegression\n",
        "from sklearn.dummy import DummyClassifier\n",
        "from sklearn.metrics import accuracy_score, plot_confusion_matrix, classification_report, precision_recall_curve, auc, f1_score\n",
        "import warnings\n",
        "warnings.filterwarnings(\"ignore\")\n",
        "from tensorflow import keras\n",
        "from tensorflow.keras.callbacks import ModelCheckpoint\n",
        "from tensorflow.keras.models import Sequential\n",
        "from tensorflow.keras.layers import Dense, Dropout, Bidirectional, GRU, Embedding\n",
        "from tensorflow.keras.optimizers import Adam\n",
        "import tensorflow.keras.backend as K\n",
        "from tensorflow.keras import initializers, regularizers, constraints\n",
        "from tensorflow.keras.layers import Layer\n",
        "from keras.callbacks import ReduceLROnPlateau, EarlyStopping\n",
        "import tensorflow as tf\n",
        "from tensorflow.keras.preprocessing.text import Tokenizer\n",
        "from tensorflow.keras.preprocessing.sequence import pad_sequences\n",
        "import tensorflow as tf\n",
        "import pickle\n",
        "import spacy\n",
        "from spacy.lang.en.stop_words import STOP_WORDS\n",
        "from sklearn.preprocessing import LabelBinarizer"
      ],
      "metadata": {
        "id": "h4aDnv82YKta",
        "colab": {
          "base_uri": "https://localhost:8080/"
        },
        "outputId": "2c82a1c0-86f4-4a62-f775-0d3b73509e07"
      },
      "execution_count": null,
      "outputs": [
        {
          "output_type": "stream",
          "name": "stdout",
          "text": [
            "[nltk_data] Downloading package stopwords to /root/nltk_data...\n",
            "[nltk_data]   Package stopwords is already up-to-date!\n",
            "[nltk_data] Downloading package punkt to /root/nltk_data...\n",
            "[nltk_data]   Package punkt is already up-to-date!\n"
          ]
        }
      ]
    },
    {
      "cell_type": "code",
      "source": [
        "from google.colab import drive\n",
        "drive.mount('/content/drive')"
      ],
      "metadata": {
        "colab": {
          "base_uri": "https://localhost:8080/"
        },
        "id": "VzGJVg0Jv40j",
        "outputId": "901f7c4f-0eb1-437e-f5b1-180a040b1b71"
      },
      "execution_count": null,
      "outputs": [
        {
          "output_type": "stream",
          "name": "stdout",
          "text": [
            "Drive already mounted at /content/drive; to attempt to forcibly remount, call drive.mount(\"/content/drive\", force_remount=True).\n"
          ]
        }
      ]
    },
    {
      "cell_type": "code",
      "source": [
        "pip install keras-tuner --upgrade"
      ],
      "metadata": {
        "id": "ECc66gyReP-u",
        "colab": {
          "base_uri": "https://localhost:8080/"
        },
        "outputId": "a1f2c7d6-4985-4260-c1bb-3d3b9a70775c"
      },
      "execution_count": null,
      "outputs": [
        {
          "output_type": "stream",
          "name": "stdout",
          "text": [
            "Requirement already satisfied: keras-tuner in /usr/local/lib/python3.7/dist-packages (1.1.0)\n",
            "Requirement already satisfied: requests in /usr/local/lib/python3.7/dist-packages (from keras-tuner) (2.23.0)\n",
            "Requirement already satisfied: ipython in /usr/local/lib/python3.7/dist-packages (from keras-tuner) (5.5.0)\n",
            "Requirement already satisfied: scipy in /usr/local/lib/python3.7/dist-packages (from keras-tuner) (1.4.1)\n",
            "Requirement already satisfied: packaging in /usr/local/lib/python3.7/dist-packages (from keras-tuner) (21.3)\n",
            "Requirement already satisfied: tensorboard in /usr/local/lib/python3.7/dist-packages (from keras-tuner) (2.8.0)\n",
            "Requirement already satisfied: kt-legacy in /usr/local/lib/python3.7/dist-packages (from keras-tuner) (1.0.4)\n",
            "Requirement already satisfied: numpy in /usr/local/lib/python3.7/dist-packages (from keras-tuner) (1.21.5)\n",
            "Requirement already satisfied: decorator in /usr/local/lib/python3.7/dist-packages (from ipython->keras-tuner) (4.4.2)\n",
            "Requirement already satisfied: setuptools>=18.5 in /usr/local/lib/python3.7/dist-packages (from ipython->keras-tuner) (57.4.0)\n",
            "Requirement already satisfied: prompt-toolkit<2.0.0,>=1.0.4 in /usr/local/lib/python3.7/dist-packages (from ipython->keras-tuner) (1.0.18)\n",
            "Requirement already satisfied: simplegeneric>0.8 in /usr/local/lib/python3.7/dist-packages (from ipython->keras-tuner) (0.8.1)\n",
            "Requirement already satisfied: traitlets>=4.2 in /usr/local/lib/python3.7/dist-packages (from ipython->keras-tuner) (5.1.1)\n",
            "Requirement already satisfied: pygments in /usr/local/lib/python3.7/dist-packages (from ipython->keras-tuner) (2.6.1)\n",
            "Requirement already satisfied: pexpect in /usr/local/lib/python3.7/dist-packages (from ipython->keras-tuner) (4.8.0)\n",
            "Requirement already satisfied: pickleshare in /usr/local/lib/python3.7/dist-packages (from ipython->keras-tuner) (0.7.5)\n",
            "Requirement already satisfied: six>=1.9.0 in /usr/local/lib/python3.7/dist-packages (from prompt-toolkit<2.0.0,>=1.0.4->ipython->keras-tuner) (1.15.0)\n",
            "Requirement already satisfied: wcwidth in /usr/local/lib/python3.7/dist-packages (from prompt-toolkit<2.0.0,>=1.0.4->ipython->keras-tuner) (0.2.5)\n",
            "Requirement already satisfied: pyparsing!=3.0.5,>=2.0.2 in /usr/local/lib/python3.7/dist-packages (from packaging->keras-tuner) (3.0.7)\n",
            "Requirement already satisfied: ptyprocess>=0.5 in /usr/local/lib/python3.7/dist-packages (from pexpect->ipython->keras-tuner) (0.7.0)\n",
            "Requirement already satisfied: idna<3,>=2.5 in /usr/local/lib/python3.7/dist-packages (from requests->keras-tuner) (2.10)\n",
            "Requirement already satisfied: chardet<4,>=3.0.2 in /usr/local/lib/python3.7/dist-packages (from requests->keras-tuner) (3.0.4)\n",
            "Requirement already satisfied: certifi>=2017.4.17 in /usr/local/lib/python3.7/dist-packages (from requests->keras-tuner) (2021.10.8)\n",
            "Requirement already satisfied: urllib3!=1.25.0,!=1.25.1,<1.26,>=1.21.1 in /usr/local/lib/python3.7/dist-packages (from requests->keras-tuner) (1.24.3)\n",
            "Requirement already satisfied: markdown>=2.6.8 in /usr/local/lib/python3.7/dist-packages (from tensorboard->keras-tuner) (3.3.6)\n",
            "Requirement already satisfied: google-auth-oauthlib<0.5,>=0.4.1 in /usr/local/lib/python3.7/dist-packages (from tensorboard->keras-tuner) (0.4.6)\n",
            "Requirement already satisfied: tensorboard-data-server<0.7.0,>=0.6.0 in /usr/local/lib/python3.7/dist-packages (from tensorboard->keras-tuner) (0.6.1)\n",
            "Requirement already satisfied: protobuf>=3.6.0 in /usr/local/lib/python3.7/dist-packages (from tensorboard->keras-tuner) (3.17.3)\n",
            "Requirement already satisfied: werkzeug>=0.11.15 in /usr/local/lib/python3.7/dist-packages (from tensorboard->keras-tuner) (1.0.1)\n",
            "Requirement already satisfied: absl-py>=0.4 in /usr/local/lib/python3.7/dist-packages (from tensorboard->keras-tuner) (1.0.0)\n",
            "Requirement already satisfied: tensorboard-plugin-wit>=1.6.0 in /usr/local/lib/python3.7/dist-packages (from tensorboard->keras-tuner) (1.8.1)\n",
            "Requirement already satisfied: wheel>=0.26 in /usr/local/lib/python3.7/dist-packages (from tensorboard->keras-tuner) (0.37.1)\n",
            "Requirement already satisfied: google-auth<3,>=1.6.3 in /usr/local/lib/python3.7/dist-packages (from tensorboard->keras-tuner) (1.35.0)\n",
            "Requirement already satisfied: grpcio>=1.24.3 in /usr/local/lib/python3.7/dist-packages (from tensorboard->keras-tuner) (1.44.0)\n",
            "Requirement already satisfied: cachetools<5.0,>=2.0.0 in /usr/local/lib/python3.7/dist-packages (from google-auth<3,>=1.6.3->tensorboard->keras-tuner) (4.2.4)\n",
            "Requirement already satisfied: rsa<5,>=3.1.4 in /usr/local/lib/python3.7/dist-packages (from google-auth<3,>=1.6.3->tensorboard->keras-tuner) (4.8)\n",
            "Requirement already satisfied: pyasn1-modules>=0.2.1 in /usr/local/lib/python3.7/dist-packages (from google-auth<3,>=1.6.3->tensorboard->keras-tuner) (0.2.8)\n",
            "Requirement already satisfied: requests-oauthlib>=0.7.0 in /usr/local/lib/python3.7/dist-packages (from google-auth-oauthlib<0.5,>=0.4.1->tensorboard->keras-tuner) (1.3.1)\n",
            "Requirement already satisfied: importlib-metadata>=4.4 in /usr/local/lib/python3.7/dist-packages (from markdown>=2.6.8->tensorboard->keras-tuner) (4.11.2)\n",
            "Requirement already satisfied: zipp>=0.5 in /usr/local/lib/python3.7/dist-packages (from importlib-metadata>=4.4->markdown>=2.6.8->tensorboard->keras-tuner) (3.7.0)\n",
            "Requirement already satisfied: typing-extensions>=3.6.4 in /usr/local/lib/python3.7/dist-packages (from importlib-metadata>=4.4->markdown>=2.6.8->tensorboard->keras-tuner) (3.10.0.2)\n",
            "Requirement already satisfied: pyasn1<0.5.0,>=0.4.6 in /usr/local/lib/python3.7/dist-packages (from pyasn1-modules>=0.2.1->google-auth<3,>=1.6.3->tensorboard->keras-tuner) (0.4.8)\n",
            "Requirement already satisfied: oauthlib>=3.0.0 in /usr/local/lib/python3.7/dist-packages (from requests-oauthlib>=0.7.0->google-auth-oauthlib<0.5,>=0.4.1->tensorboard->keras-tuner) (3.2.0)\n"
          ]
        }
      ]
    },
    {
      "cell_type": "code",
      "source": [
        "import keras_tuner as kt"
      ],
      "metadata": {
        "id": "TMoE9r-Wh4bg"
      },
      "execution_count": null,
      "outputs": []
    },
    {
      "cell_type": "markdown",
      "source": [
        "# **BASELINES**"
      ],
      "metadata": {
        "id": "GgAGx25L9Tj5"
      }
    },
    {
      "cell_type": "markdown",
      "source": [
        "## Preprocessing"
      ],
      "metadata": {
        "id": "U1iLsFG8SctO"
      }
    },
    {
      "cell_type": "markdown",
      "source": [
        "Loading the review-files and their assigned class, 0 for negative and 1 for positive"
      ],
      "metadata": {
        "id": "XQlYIHNjYM2A"
      }
    },
    {
      "cell_type": "code",
      "execution_count": null,
      "metadata": {
        "id": "XqQ94-IGYADX",
        "colab": {
          "base_uri": "https://localhost:8080/"
        },
        "outputId": "f2da74d9-2692-4962-c417-6afc1cf7f17b"
      },
      "outputs": [
        {
          "output_type": "stream",
          "name": "stdout",
          "text": [
            "--2022-03-18 19:25:20--  http://www.cs.cornell.edu/people/pabo/movie-review-data/mix20_rand700_tokens_0211.tar\n",
            "Resolving www.cs.cornell.edu (www.cs.cornell.edu)... 132.236.207.36\n",
            "Connecting to www.cs.cornell.edu (www.cs.cornell.edu)|132.236.207.36|:80... connected.\n",
            "HTTP request sent, awaiting response... 200 OK\n",
            "Length: 2194052 (2.1M) [application/x-gzip]\n",
            "Saving to: ‘mix20_rand700_tokens_0211.tar.1’\n",
            "\n",
            "mix20_rand700_token 100%[===================>]   2.09M  4.30MB/s    in 0.5s    \n",
            "\n",
            "2022-03-18 19:25:20 (4.30 MB/s) - ‘mix20_rand700_tokens_0211.tar.1’ saved [2194052/2194052]\n",
            "\n",
            "diff.txt\n",
            "README\n",
            "tokens/\n",
            "tokens/neg/\n",
            "tokens/neg/cv303_tok-11557.txt\n",
            "tokens/neg/cv000_tok-9611.txt\n",
            "tokens/neg/cv001_tok-19324.txt\n",
            "tokens/neg/cv002_tok-3321.txt\n",
            "tokens/neg/cv003_tok-13044.txt\n",
            "tokens/neg/cv004_tok-25944.txt\n",
            "tokens/neg/cv005_tok-24602.txt\n",
            "tokens/neg/cv006_tok-29539.txt\n",
            "tokens/neg/cv007_tok-11669.txt\n",
            "tokens/neg/cv008_tok-11555.txt\n",
            "tokens/neg/cv009_tok-19587.txt\n",
            "tokens/neg/cv010_tok-2188.txt\n",
            "tokens/neg/cv011_tok-7845.txt\n",
            "tokens/neg/cv012_tok-26965.txt\n",
            "tokens/neg/cv013_tok-14854.txt\n",
            "tokens/neg/cv014_tok-12391.txt\n",
            "tokens/neg/cv015_tok-23730.txt\n",
            "tokens/neg/cv016_tok-16970.txt\n",
            "tokens/neg/cv017_tok-27221.txt\n",
            "tokens/neg/cv017_tok-29801.txt\n",
            "tokens/neg/cv018_tok-11502.txt\n",
            "tokens/neg/cv019_tok-2003.txt\n",
            "tokens/neg/cv020_tok-13096.txt\n",
            "tokens/neg/cv021_tok-29141.txt\n",
            "tokens/neg/cv022_tok-25633.txt\n",
            "tokens/neg/cv023_tok-25625.txt\n",
            "tokens/neg/cv024_tok-22867.txt\n",
            "tokens/neg/cv025_tok-12991.txt\n",
            "tokens/neg/cv026_tok-23590.txt\n",
            "tokens/neg/cv027_tok-20123.txt\n",
            "tokens/neg/cv028_tok-25883.txt\n",
            "tokens/neg/cv029_tok-27815.txt\n",
            "tokens/neg/cv030_tok-23788.txt\n",
            "tokens/neg/cv031_tok-25886.txt\n",
            "tokens/neg/cv032_tok-9567.txt\n",
            "tokens/neg/cv033_tok-13710.txt\n",
            "tokens/neg/cv034_tok-25395.txt\n",
            "tokens/neg/cv035_tok-22978.txt\n",
            "tokens/neg/cv036_tok-9704.txt\n",
            "tokens/neg/cv037_tok-18875.txt\n",
            "tokens/neg/cv038_tok-25639.txt\n",
            "tokens/neg/cv039_tok-11790.txt\n",
            "tokens/neg/cv040_tok-24758.txt\n",
            "tokens/neg/cv041_tok-17672.txt\n",
            "tokens/neg/cv042_tok-23615.txt\n",
            "tokens/neg/cv043_tok-12173.txt\n",
            "tokens/neg/cv044_tok-13701.txt\n",
            "tokens/neg/cv045_tok-13307.txt\n",
            "tokens/neg/cv046_tok-14467.txt\n",
            "tokens/neg/cv047_tok-26750.txt\n",
            "tokens/neg/cv048_tok-14254.txt\n",
            "tokens/neg/cv049_tok-24355.txt\n",
            "tokens/neg/cv050_tok-17527.txt\n",
            "tokens/neg/cv051_tok-11185.txt\n",
            "tokens/neg/cv052_tok-5653.txt\n",
            "tokens/neg/cv053_tok-16799.txt\n",
            "tokens/neg/cv054_tok-9183.txt\n",
            "tokens/neg/cv055_tok-24153.txt\n",
            "tokens/neg/cv056_tok-14710.txt\n",
            "tokens/neg/cv057_tok-20206.txt\n",
            "tokens/neg/cv058_tok-15653.txt\n",
            "tokens/neg/cv060_tok-14541.txt\n",
            "tokens/neg/cv061_tok-9126.txt\n",
            "tokens/neg/cv062_tok-12406.txt\n",
            "tokens/neg/cv063_tok-10848.txt\n",
            "tokens/neg/cv064_tok-16451.txt\n",
            "tokens/neg/cv065_tok-11153.txt\n",
            "tokens/neg/cv066_tok-2018.txt\n",
            "tokens/neg/cv067_tok-21549.txt\n",
            "tokens/neg/cv068_tok-12683.txt\n",
            "tokens/neg/cv069_tok-11865.txt\n",
            "tokens/neg/cv070_tok-20301.txt\n",
            "tokens/neg/cv071_tok-23104.txt\n",
            "tokens/neg/cv072_tok-16218.txt\n",
            "tokens/neg/cv073_tok-5425.txt\n",
            "tokens/neg/cv074_tok-11668.txt\n",
            "tokens/neg/cv075_tok-18185.txt\n",
            "tokens/neg/cv076_tok-14419.txt\n",
            "tokens/neg/cv077_tok-18725.txt\n",
            "tokens/neg/cv078_tok-21038.txt\n",
            "tokens/neg/cv079_tok-26009.txt\n",
            "tokens/neg/cv080_tok-13164.txt\n",
            "tokens/neg/cv081_tok-18077.txt\n",
            "tokens/neg/cv082_tok-26375.txt\n",
            "tokens/neg/cv083_tok-15981.txt\n",
            "tokens/neg/cv084_tok-7912.txt\n",
            "tokens/neg/cv085_tok-15948.txt\n",
            "tokens/neg/cv086_tok-29002.txt\n",
            "tokens/neg/cv087_tok-20128.txt\n",
            "tokens/neg/cv088_tok-24120.txt\n",
            "tokens/neg/cv089_tok-27063.txt\n",
            "tokens/neg/cv090_tok-11851.txt\n",
            "tokens/neg/cv091_tok-0612.txt\n",
            "tokens/neg/cv092_tok-5562.txt\n",
            "tokens/neg/cv093_tok-18380.txt\n",
            "tokens/neg/cv094_tok-4992.txt\n",
            "tokens/neg/cv095_tok-13660.txt\n",
            "tokens/neg/cv096_tok-24631.txt\n",
            "tokens/neg/cv097_tok-9469.txt\n",
            "tokens/neg/cv098_tok-19135.txt\n",
            "tokens/neg/cv099_tok-18662.txt\n",
            "tokens/neg/cv100_tok-20095.txt\n",
            "tokens/neg/cv101_tok-24219.txt\n",
            "tokens/neg/cv102_tok-26890.txt\n",
            "tokens/neg/cv103_tok-28381.txt\n",
            "tokens/neg/cv104_tok-11601.txt\n",
            "tokens/neg/cv105_tok-20325.txt\n",
            "tokens/neg/cv106_tok-14668.txt\n",
            "tokens/neg/cv107_tok-28898.txt\n",
            "tokens/neg/cv108_tok-13478.txt\n",
            "tokens/neg/cv109_tok-10152.txt\n",
            "tokens/neg/cv110_tok-28344.txt\n",
            "tokens/neg/cv112_tok-16585.txt\n",
            "tokens/neg/cv113_tok-23451.txt\n",
            "tokens/neg/cv114_tok-16135.txt\n",
            "tokens/neg/cv115_tok-15080.txt\n",
            "tokens/neg/cv116_tok-9636.txt\n",
            "tokens/neg/cv117_tok-10247.txt\n",
            "tokens/neg/cv118_tok-11320.txt\n",
            "tokens/neg/cv119_tok-25870.txt\n",
            "tokens/neg/cv120_tok-12182.txt\n",
            "tokens/neg/cv121_tok-18973.txt\n",
            "tokens/neg/cv122_tok-4509.txt\n",
            "tokens/neg/cv123_tok-19874.txt\n",
            "tokens/neg/cv124_tok-26479.txt\n",
            "tokens/neg/cv125_tok-5918.txt\n",
            "tokens/neg/cv126_tok-29825.txt\n",
            "tokens/neg/cv127_tok-5301.txt\n",
            "tokens/neg/cv128_tok-7245.txt\n",
            "tokens/neg/cv129_tok-24973.txt\n",
            "tokens/neg/cv130_tok-8319.txt\n",
            "tokens/neg/cv131_tok-11119.txt\n",
            "tokens/neg/cv132_tok-29083.txt\n",
            "tokens/neg/cv133_tok-15652.txt\n",
            "tokens/neg/cv134_tok-5743.txt\n",
            "tokens/neg/cv135_tok-11146.txt\n",
            "tokens/neg/cv136_tok-17638.txt\n",
            "tokens/neg/cv137_tok-11963.txt\n",
            "tokens/neg/cv138_tok-13988.txt\n",
            "tokens/neg/cv139_tok-22512.txt\n",
            "tokens/neg/cv140_tok-20790.txt\n",
            "tokens/neg/cv141_tok-19546.txt\n",
            "tokens/neg/cv142_tok-10859.txt\n",
            "tokens/neg/cv143_tok-7893.txt\n",
            "tokens/neg/cv144_tok-14311.txt\n",
            "tokens/neg/cv145_tok-29292.txt\n",
            "tokens/neg/cv146_tok-17277.txt\n",
            "tokens/neg/cv147_tok-14620.txt\n",
            "tokens/neg/cv148_tok-12723.txt\n",
            "tokens/neg/cv149_tok-14540.txt\n",
            "tokens/neg/cv150_tok-18938.txt\n",
            "tokens/neg/cv151_tok-26106.txt\n",
            "tokens/neg/cv152_tok-7571.txt\n",
            "tokens/neg/cv153_tok-21198.txt\n",
            "tokens/neg/cv154_tok-10706.txt\n",
            "tokens/neg/cv155_tok-11920.txt\n",
            "tokens/neg/cv156_tok-19046.txt\n",
            "tokens/neg/cv157_tok-19147.txt\n",
            "tokens/neg/cv158_tok-6654.txt\n",
            "tokens/neg/cv159_tok-25470.txt\n",
            "tokens/neg/cv160_tok-29356.txt\n",
            "tokens/neg/cv161_tok-23503.txt\n",
            "tokens/neg/cv162_tok-26844.txt\n",
            "tokens/neg/cv163_tok-18610.txt\n",
            "tokens/neg/cv164_tok-10606.txt\n",
            "tokens/neg/cv165_tok-22893.txt\n",
            "tokens/neg/cv166_tok-23172.txt\n",
            "tokens/neg/cv167_tok-27407.txt\n",
            "tokens/neg/cv168_tok-4250.txt\n",
            "tokens/neg/cv169_tok-10229.txt\n",
            "tokens/neg/cv170_tok-18402.txt\n",
            "tokens/neg/cv171_tok-12766.txt\n",
            "tokens/neg/cv172_tok-9076.txt\n",
            "tokens/neg/cv173_tok-11316.txt\n",
            "tokens/neg/cv174_tok-19826.txt\n",
            "tokens/neg/cv175_tok-18960.txt\n",
            "tokens/neg/cv176_tok-15880.txt\n",
            "tokens/neg/cv177_tok-29625.txt\n",
            "tokens/neg/cv178_tok-18689.txt\n",
            "tokens/neg/cv179_tok-14006.txt\n",
            "tokens/neg/cv180_tok-29281.txt\n",
            "tokens/neg/cv181_tok-29326.txt\n",
            "tokens/neg/cv182_tok-25803.txt\n",
            "tokens/neg/cv183_tok-18186.txt\n",
            "tokens/neg/cv184_tok-20654.txt\n",
            "tokens/neg/cv185_tok-22786.txt\n",
            "tokens/neg/cv186_tok-28009.txt\n",
            "tokens/neg/cv187_tok-29374.txt\n",
            "tokens/neg/cv188_tok-27386.txt\n",
            "tokens/neg/cv189_tok-12513.txt\n",
            "tokens/neg/cv190_tok-17313.txt\n",
            "tokens/neg/cv191_tok-29132.txt\n",
            "tokens/neg/cv192_tok-29416.txt\n",
            "tokens/neg/cv194_tok-12447.txt\n",
            "tokens/neg/cv195_tok-10704.txt\n",
            "tokens/neg/cv196_tok-25263.txt\n",
            "tokens/neg/cv197_tok-20306.txt\n",
            "tokens/neg/cv198_tok-11090.txt\n",
            "tokens/neg/cv199_tok-16299.txt\n",
            "tokens/neg/cv200_tok-14899.txt\n",
            "tokens/neg/cv201_tok-16077.txt\n",
            "tokens/neg/cv202_tok-15873.txt\n",
            "tokens/neg/cv203_tok-7773.txt\n",
            "tokens/neg/cv204_tok-6937.txt\n",
            "tokens/neg/cv205_tok-9909.txt\n",
            "tokens/neg/cv206_tok-15604.txt\n",
            "tokens/neg/cv207_tok-29808.txt\n",
            "tokens/neg/cv208_tok-17138.txt\n",
            "tokens/neg/cv209_tok-16563.txt\n",
            "tokens/neg/cv210_tok-15092.txt\n",
            "tokens/neg/cv211_tok-20701.txt\n",
            "tokens/neg/cv212_tok-29271.txt\n",
            "tokens/neg/cv213_tok-10363.txt\n",
            "tokens/neg/cv214_tok-11934.txt\n",
            "tokens/neg/cv215_tok-21565.txt\n",
            "tokens/neg/cv217_tok-29465.txt\n",
            "tokens/neg/cv218_tok-20838.txt\n",
            "tokens/neg/cv220_tok-16506.txt\n",
            "tokens/neg/cv221_tok-11058.txt\n",
            "tokens/neg/cv222_tok-19127.txt\n",
            "tokens/neg/cv223_tok-11761.txt\n",
            "tokens/neg/cv224_tok-15182.txt\n",
            "tokens/neg/cv225_tok-23018.txt\n",
            "tokens/neg/cv226_tok-12971.txt\n",
            "tokens/neg/cv227_tok-23748.txt\n",
            "tokens/neg/cv228_tok-23256.txt\n",
            "tokens/neg/cv229_tok-9484.txt\n",
            "tokens/neg/cv230_tok-5010.txt\n",
            "tokens/neg/cv231_tok-24634.txt\n",
            "tokens/neg/cv232_tok-6833.txt\n",
            "tokens/neg/cv233_tok-7435.txt\n",
            "tokens/neg/cv234_tok-28890.txt\n",
            "tokens/neg/cv235_tok-13412.txt\n",
            "tokens/neg/cv236_tok-19051.txt\n",
            "tokens/neg/cv237_tok-26058.txt\n",
            "tokens/neg/cv238_tok-14542.txt\n",
            "tokens/neg/cv239_tok-24885.txt\n",
            "tokens/neg/cv240_tok-7907.txt\n",
            "tokens/neg/cv241_tok-21519.txt\n",
            "tokens/neg/cv242_tok-13903.txt\n",
            "tokens/neg/cv243_tok-21901.txt\n",
            "tokens/neg/cv244_tok-14825.txt\n",
            "tokens/neg/cv245_tok-14009.txt\n",
            "tokens/neg/cv246_tok-18189.txt\n",
            "tokens/neg/cv247_tok-14944.txt\n",
            "tokens/neg/cv248_tok-17823.txt\n",
            "tokens/neg/cv249_tok-15275.txt\n",
            "tokens/neg/cv250_tok-2836.txt\n",
            "tokens/neg/cv251_tok-10475.txt\n",
            "tokens/neg/cv252_tok-28837.txt\n",
            "tokens/neg/cv253_tok-17065.txt\n",
            "tokens/neg/cv254_tok-11951.txt\n",
            "tokens/neg/cv255_tok-11186.txt\n",
            "tokens/neg/cv256_tok-17949.txt\n",
            "tokens/neg/cv257_tok-20349.txt\n",
            "tokens/neg/cv258_tok-15032.txt\n",
            "tokens/neg/cv259_tok-13518.txt\n",
            "tokens/neg/cv260_tok-18536.txt\n",
            "tokens/neg/cv261_tok-24932.txt\n",
            "tokens/neg/cv262_tok-16117.txt\n",
            "tokens/neg/cv263_tok-24157.txt\n",
            "tokens/neg/cv264_tok-16679.txt\n",
            "tokens/neg/cv265_tok-4595.txt\n",
            "tokens/neg/cv266_tok-5311.txt\n",
            "tokens/neg/cv267_tok-13643.txt\n",
            "tokens/neg/cv268_tok-11421.txt\n",
            "tokens/neg/cv269_tok-19393.txt\n",
            "tokens/neg/cv270_tok-26085.txt\n",
            "tokens/neg/cv271_tok-13020.txt\n",
            "tokens/neg/cv272_tok-0316.txt\n",
            "tokens/neg/cv273_tok-29386.txt\n",
            "tokens/neg/cv274_tok-26113.txt\n",
            "tokens/neg/cv275_tok-8955.txt\n",
            "tokens/neg/cv276_tok-17560.txt\n",
            "tokens/neg/cv277_tok-13229.txt\n",
            "tokens/neg/cv278_tok-16095.txt\n",
            "tokens/neg/cv280_tok-21672.txt\n",
            "tokens/neg/cv281_tok-9459.txt\n",
            "tokens/neg/cv282_tok-17022.txt\n",
            "tokens/neg/cv283_tok-24782.txt\n",
            "tokens/neg/cv284_tok-10350.txt\n",
            "tokens/neg/cv285_tok-10266.txt\n",
            "tokens/neg/cv286_tok-19487.txt\n",
            "tokens/neg/cv287_tok-19207.txt\n",
            "tokens/neg/cv288_tok-27167.txt\n",
            "tokens/neg/cv289_tok-26592.txt\n",
            "tokens/neg/cv290_tok-9740.txt\n",
            "tokens/neg/cv291_tok-29828.txt\n",
            "tokens/neg/cv292_tok-11615.txt\n",
            "tokens/neg/cv293_tok-27755.txt\n",
            "tokens/neg/cv294_tok-12642.txt\n",
            "tokens/neg/cv295_tok-13516.txt\n",
            "tokens/neg/cv296_tok-1054.txt\n",
            "tokens/neg/cv297_tok-5627.txt\n",
            "tokens/neg/cv298_tok-29444.txt\n",
            "tokens/neg/cv299_tok-13812.txt\n",
            "tokens/neg/cv300_tok-25472.txt\n",
            "tokens/neg/cv301_tok-20543.txt\n",
            "tokens/neg/cv302_tok-5107.txt\n",
            "tokens/neg/cv304_tok-20467.txt\n",
            "tokens/neg/cv305_tok-24131.txt\n",
            "tokens/neg/cv306_tok-14636.txt\n",
            "tokens/neg/cv307_tok-20139.txt\n",
            "tokens/neg/cv308_tok-21453.txt\n",
            "tokens/neg/cv309_tok-2366.txt\n",
            "tokens/neg/cv310_tok-16557.txt\n",
            "tokens/neg/cv311_tok-21872.txt\n",
            "tokens/neg/cv312_tok-10911.txt\n",
            "tokens/neg/cv313_tok-29411.txt\n",
            "tokens/neg/cv314_tok-10751.txt\n",
            "tokens/neg/cv315_tok-11956.txt\n",
            "tokens/neg/cv316_tok-11593.txt\n",
            "tokens/neg/cv317_tok-14191.txt\n",
            "tokens/neg/cv318_tok-11945.txt\n",
            "tokens/neg/cv319_tok-20264.txt\n",
            "tokens/neg/cv320_tok-29120.txt\n",
            "tokens/neg/cv321_tok-10520.txt\n",
            "tokens/neg/cv322_tok-26688.txt\n",
            "tokens/neg/cv323_tok-20687.txt\n",
            "tokens/neg/cv324_tok-11763.txt\n",
            "tokens/neg/cv325_tok-12695.txt\n",
            "tokens/neg/cv326_tok-15164.txt\n",
            "tokens/neg/cv327_tok-20117.txt\n",
            "tokens/neg/cv328_tok-23090.txt\n",
            "tokens/neg/cv329_tok-17076.txt\n",
            "tokens/neg/cv330_tok-20174.txt\n",
            "tokens/neg/cv331_tok-5380.txt\n",
            "tokens/neg/cv332_tok-4888.txt\n",
            "tokens/neg/cv333_tok-17204.txt\n",
            "tokens/neg/cv334_tok-15688.txt\n",
            "tokens/neg/cv335_tok-12547.txt\n",
            "tokens/neg/cv336_tok-24857.txt\n",
            "tokens/neg/cv337_tok-12262.txt\n",
            "tokens/neg/cv338_tok-24961.txt\n",
            "tokens/neg/cv339_tok-26055.txt\n",
            "tokens/neg/cv340_tok-10533.txt\n",
            "tokens/neg/cv341_tok-23117.txt\n",
            "tokens/neg/cv342_tok-24681.txt\n",
            "tokens/neg/cv343_tok-9813.txt\n",
            "tokens/neg/cv344_tok-10967.txt\n",
            "tokens/neg/cv345_tok-5414.txt\n",
            "tokens/neg/cv347_tok-16780.txt\n",
            "tokens/neg/cv348_tok-22403.txt\n",
            "tokens/neg/cv349_tok-29359.txt\n",
            "tokens/neg/cv350_tok-29549.txt\n",
            "tokens/neg/cv351_tok-23113.txt\n",
            "tokens/neg/cv352_tok-15921.txt\n",
            "tokens/neg/cv352_tok-15970.txt\n",
            "tokens/neg/cv353_tok-9723.txt\n",
            "tokens/neg/cv354_tok-12384.txt\n",
            "tokens/neg/cv355_tok-10185.txt\n",
            "tokens/neg/cv356_tok-25842.txt\n",
            "tokens/neg/cv357_tok-19457.txt\n",
            "tokens/neg/cv358_tok-17179.txt\n",
            "tokens/neg/cv359_tok-27937.txt\n",
            "tokens/neg/cv360_tok-9930.txt\n",
            "tokens/neg/cv361_tok-29119.txt\n",
            "tokens/neg/cv362_tok-20426.txt\n",
            "tokens/neg/cv363_tok-21128.txt\n",
            "tokens/neg/cv364_tok-12688.txt\n",
            "tokens/neg/cv365_tok-20429.txt\n",
            "tokens/neg/cv366_tok-25678.txt\n",
            "tokens/neg/cv367_tok-12969.txt\n",
            "tokens/neg/cv368_tok-14539.txt\n",
            "tokens/neg/cv369_tok-17444.txt\n",
            "tokens/neg/cv370_tok-14513.txt\n",
            "tokens/neg/cv371_tok-18848.txt\n",
            "tokens/neg/cv372_tok-16080.txt\n",
            "tokens/neg/cv373_tok-25938.txt\n",
            "tokens/neg/cv374_tok-26964.txt\n",
            "tokens/neg/cv375_tok-21437.txt\n",
            "tokens/neg/cv376_tok-13249.txt\n",
            "tokens/neg/cv377_tok-22816.txt\n",
            "tokens/neg/cv377_tok-7572.txt\n",
            "tokens/neg/cv378_tok-15002.txt\n",
            "tokens/neg/cv379_tok-24248.txt\n",
            "tokens/neg/cv380_tok-5079.txt\n",
            "tokens/neg/cv381_tok-25624.txt\n",
            "tokens/neg/cv382_tok-21934.txt\n",
            "tokens/neg/cv383_tok-5721.txt\n",
            "tokens/neg/cv384_tok-25866.txt\n",
            "tokens/neg/cv385_tok-14653.txt\n",
            "tokens/neg/cv386_tok-10970.txt\n",
            "tokens/neg/cv387_tok-17021.txt\n",
            "tokens/neg/cv388_tok-15557.txt\n",
            "tokens/neg/cv390_tok-12253.txt\n",
            "tokens/neg/cv391_tok-29447.txt\n",
            "tokens/neg/cv392_tok-14887.txt\n",
            "tokens/neg/cv393_tok-29397.txt\n",
            "tokens/neg/cv394_tok-12674.txt\n",
            "tokens/neg/cv395_tok-17026.txt\n",
            "tokens/neg/cv396_tok-19675.txt\n",
            "tokens/neg/cv397_tok-10698.txt\n",
            "tokens/neg/cv398_tok-20507.txt\n",
            "tokens/neg/cv399_tok-16535.txt\n",
            "tokens/neg/cv400_tok-28683.txt\n",
            "tokens/neg/cv401_tok-29815.txt\n",
            "tokens/neg/cv402_tok-10613.txt\n",
            "tokens/neg/cv403_tok-11120.txt\n",
            "tokens/neg/cv404_tok-23487.txt\n",
            "tokens/neg/cv405_tok-12506.txt\n",
            "tokens/neg/cv406_tok-18155.txt\n",
            "tokens/neg/cv407_tok-20078.txt\n",
            "tokens/neg/cv408_tok-20839.txt\n",
            "tokens/neg/cv409_tok-19452.txt\n",
            "tokens/neg/cv410_tok-5090.txt\n",
            "tokens/neg/cv411_tok-18373.txt\n",
            "tokens/neg/cv412_tok-12727.txt\n",
            "tokens/neg/cv413_tok-11382.txt\n",
            "tokens/neg/cv414_tok-15183.txt\n",
            "tokens/neg/cv415_tok-28738.txt\n",
            "tokens/neg/cv416_tok-12603.txt\n",
            "tokens/neg/cv417_tok-14044.txt\n",
            "tokens/neg/cv418_tok-14630.txt\n",
            "tokens/neg/cv419_tok-16024.txt\n",
            "tokens/neg/cv420_tok-19560.txt\n",
            "tokens/neg/cv421_tok-26204.txt\n",
            "tokens/neg/cv422_tok-10724.txt\n",
            "tokens/neg/cv424_tok-29318.txt\n",
            "tokens/neg/cv426_tok-23374.txt\n",
            "tokens/neg/cv427_tok-20165.txt\n",
            "tokens/neg/cv428_tok-20300.txt\n",
            "tokens/neg/cv429_tok-11028.txt\n",
            "tokens/neg/cv430_tok-26404.txt\n",
            "tokens/neg/cv431_tok-7937.txt\n",
            "tokens/neg/cv432_tok-16562.txt\n",
            "tokens/neg/cv433_tok-6824.txt\n",
            "tokens/neg/cv434_tok-29273.txt\n",
            "tokens/neg/cv435_tok-17966.txt\n",
            "tokens/neg/cv436_tok-10377.txt\n",
            "tokens/neg/cv437_tok-18687.txt\n",
            "tokens/neg/cv438_tok-17297.txt\n",
            "tokens/neg/cv439_tok-21510.txt\n",
            "tokens/neg/cv440_tok-25974.txt\n",
            "tokens/neg/cv441_tok-9002.txt\n",
            "tokens/neg/cv442_tok-27163.txt\n",
            "tokens/neg/cv443_tok-20084.txt\n",
            "tokens/neg/cv444_tok-18385.txt\n",
            "tokens/neg/cv445_tok-5393.txt\n",
            "tokens/neg/cv446_tok-27987.txt\n",
            "tokens/neg/cv447_tok-19197.txt\n",
            "tokens/neg/cv448_tok-10768.txt\n",
            "tokens/neg/cv449_tok-15691.txt\n",
            "tokens/neg/cv450_tok-13677.txt\n",
            "tokens/neg/cv451_tok-28707.txt\n",
            "tokens/neg/cv452_tok-18656.txt\n",
            "tokens/neg/cv453_tok-17410.txt\n",
            "tokens/neg/cv454_tok-11816.txt\n",
            "tokens/neg/cv455_tok-12222.txt\n",
            "tokens/neg/cv456_tok-29420.txt\n",
            "tokens/neg/cv457_tok-28466.txt\n",
            "tokens/neg/cv458_tok-19400.txt\n",
            "tokens/neg/cv459_tok-29432.txt\n",
            "tokens/neg/cv460_tok-5367.txt\n",
            "tokens/neg/cv461_tok-17064.txt\n",
            "tokens/neg/cv462_tok-9843.txt\n",
            "tokens/neg/cv463_tok-17950.txt\n",
            "tokens/neg/cv464_tok-26838.txt\n",
            "tokens/neg/cv465_tok-29619.txt\n",
            "tokens/neg/cv466_tok-28631.txt\n",
            "tokens/neg/cv467_tok-17618.txt\n",
            "tokens/neg/cv468_tok-15681.txt\n",
            "tokens/neg/cv469_tok-15267.txt\n",
            "tokens/neg/cv470_tok-17819.txt\n",
            "tokens/neg/cv471_tok-18174.txt\n",
            "tokens/neg/cv472_tok-11943.txt\n",
            "tokens/neg/cv473_tok-14810.txt\n",
            "tokens/neg/cv474_tok-20168.txt\n",
            "tokens/neg/cv475_tok-28203.txt\n",
            "tokens/neg/cv476_tok-12926.txt\n",
            "tokens/neg/cv477_tok-23067.txt\n",
            "tokens/neg/cv478_tok-10537.txt\n",
            "tokens/neg/cv479_tok-23674.txt\n",
            "tokens/neg/cv480_tok-15230.txt\n",
            "tokens/neg/cv481_tok-10977.txt\n",
            "tokens/neg/cv482_tok-7136.txt\n",
            "tokens/neg/cv483_tok-11054.txt\n",
            "tokens/neg/cv484_tok-25274.txt\n",
            "tokens/neg/cv485_tok-4248.txt\n",
            "tokens/neg/cv486_tok-25043.txt\n",
            "tokens/neg/cv487_tok-11827.txt\n",
            "tokens/neg/cv488_tok-13847.txt\n",
            "tokens/neg/cv489_tok-4226.txt\n",
            "tokens/neg/cv490_tok-4442.txt\n",
            "tokens/neg/cv491_tok-29357.txt\n",
            "tokens/neg/cv492_tok-24854.txt\n",
            "tokens/neg/cv493_tok-9478.txt\n",
            "tokens/neg/cv494_tok-11693.txt\n",
            "tokens/neg/cv495_tok-18551.txt\n",
            "tokens/neg/cv496_tok-17126.txt\n",
            "tokens/neg/cv497_tok-17948.txt\n",
            "tokens/neg/cv498_tok-12371.txt\n",
            "tokens/neg/cv499_tok-6649.txt\n",
            "tokens/neg/cv500_tok-13146.txt\n",
            "tokens/neg/cv501_tok-19704.txt\n",
            "tokens/neg/cv502_tok-11981.txt\n",
            "tokens/neg/cv503_tok-15683.txt\n",
            "tokens/neg/cv504_tok-8235.txt\n",
            "tokens/neg/cv505_tok-17424.txt\n",
            "tokens/neg/cv506_tok-19689.txt\n",
            "tokens/neg/cv507_tok-20531.txt\n",
            "tokens/neg/cv508_tok-16079.txt\n",
            "tokens/neg/cv509_tok-11233.txt\n",
            "tokens/neg/cv510_tok-10104.txt\n",
            "tokens/neg/cv511_tok-17721.txt\n",
            "tokens/neg/cv512_tok-28882.txt\n",
            "tokens/neg/cv513_tok-12179.txt\n",
            "tokens/neg/cv514_tok-23401.txt\n",
            "tokens/neg/cv515_tok-22440.txt\n",
            "tokens/neg/cv516_tok-10722.txt\n",
            "tokens/neg/cv517_tok-9975.txt\n",
            "tokens/neg/cv519_tok-12701.txt\n",
            "tokens/neg/cv520_tok-20758.txt\n",
            "tokens/neg/cv521_tok-28221.txt\n",
            "tokens/neg/cv522_tok-20266.txt\n",
            "tokens/neg/cv523_tok-23339.txt\n",
            "tokens/neg/cv524_tok-20616.txt\n",
            "tokens/neg/cv525_tok-11607.txt\n",
            "tokens/neg/cv526_tok-28522.txt\n",
            "tokens/neg/cv527_tok-28453.txt\n",
            "tokens/neg/cv528_tok-25667.txt\n",
            "tokens/neg/cv529_tok-13939.txt\n",
            "tokens/neg/cv530_tok-9973.txt\n",
            "tokens/neg/cv531_tok-11247.txt\n",
            "tokens/neg/cv532_tok-11471.txt\n",
            "tokens/neg/cv533_tok-23745.txt\n",
            "tokens/neg/cv534_tok-12128.txt\n",
            "tokens/neg/cv535_tok-19937.txt\n",
            "tokens/neg/cv536_tok-19345.txt\n",
            "tokens/neg/cv537_tok-24065.txt\n",
            "tokens/neg/cv538_tok-12106.txt\n",
            "tokens/neg/cv539_tok-17931.txt\n",
            "tokens/neg/cv540_tok-10668.txt\n",
            "tokens/neg/cv541_tok-18484.txt\n",
            "tokens/neg/cv542_tok-29423.txt\n",
            "tokens/neg/cv543_tok-10287.txt\n",
            "tokens/neg/cv544_tok-25047.txt\n",
            "tokens/neg/cv545_tok-17354.txt\n",
            "tokens/neg/cv546_tok-15673.txt\n",
            "tokens/neg/cv546_tok-23965.txt\n",
            "tokens/neg/cv547_tok-24217.txt\n",
            "tokens/neg/cv548_tok-22663.txt\n",
            "tokens/neg/cv549_tok-12178.txt\n",
            "tokens/neg/cv550_tok-18608.txt\n",
            "tokens/neg/cv551_tok-21834.txt\n",
            "tokens/neg/cv552_tok-13850.txt\n",
            "tokens/neg/cv553_tok-27936.txt\n",
            "tokens/neg/cv554_tok-13390.txt\n",
            "tokens/neg/cv555_tok-16925.txt\n",
            "tokens/neg/cv556_tok-14285.txt\n",
            "tokens/neg/cv557_tok-24760.txt\n",
            "tokens/neg/cv558_tok-29006.txt\n",
            "tokens/neg/cv559_tok-17078.txt\n",
            "tokens/neg/cv560_tok-14799.txt\n",
            "tokens/neg/cv561_tok-18471.txt\n",
            "tokens/neg/cv562_tok-26379.txt\n",
            "tokens/neg/cv563_tok-27217.txt\n",
            "tokens/neg/cv564_tok-5622.txt\n",
            "tokens/neg/cv565_tok-5626.txt\n",
            "tokens/neg/cv566_tok-4252.txt\n",
            "tokens/neg/cv567_tok-18129.txt\n",
            "tokens/neg/cv568_tok-10471.txt\n",
            "tokens/neg/cv569_tok-24855.txt\n",
            "tokens/neg/cv570_tok-29633.txt\n",
            "tokens/neg/cv571_tok-11568.txt\n",
            "tokens/neg/cv572_tok-17353.txt\n",
            "tokens/neg/cv573_tok-22268.txt\n",
            "tokens/neg/cv574_tok-23226.txt\n",
            "tokens/neg/cv575_tok-20855.txt\n",
            "tokens/neg/cv576_tok-19052.txt\n",
            "tokens/neg/cv577_tok-13758.txt\n",
            "tokens/neg/cv578_tok-8306.txt\n",
            "tokens/neg/cv579_tok-22940.txt\n",
            "tokens/neg/cv580_tok-5012.txt\n",
            "tokens/neg/cv581_tok-29376.txt\n",
            "tokens/neg/cv582_tok-17487.txt\n",
            "tokens/neg/cv583_tok-24881.txt\n",
            "tokens/neg/cv584_tok-12089.txt\n",
            "tokens/neg/cv585_tok-8500.txt\n",
            "tokens/neg/cv586_tok-19488.txt\n",
            "tokens/neg/cv587_tok-24974.txt\n",
            "tokens/neg/cv588_tok-9721.txt\n",
            "tokens/neg/cv589_tok-11893.txt\n",
            "tokens/neg/cv590_tok-7983.txt\n",
            "tokens/neg/cv591_tok-29061.txt\n",
            "tokens/neg/cv593_tok-6472.txt\n",
            "tokens/neg/cv594_tok-14484.txt\n",
            "tokens/neg/cv595_tok-22123.txt\n",
            "tokens/neg/cv596_tok-27611.txt\n",
            "tokens/neg/cv597_tok-11812.txt\n",
            "tokens/neg/cv598_tok-28906.txt\n",
            "tokens/neg/cv599_tok-11859.txt\n",
            "tokens/neg/cv600_tok-9234.txt\n",
            "tokens/neg/cv601_tok-2283.txt\n",
            "tokens/neg/cv602_tok-10847.txt\n",
            "tokens/neg/cv603_tok-18184.txt\n",
            "tokens/neg/cv604_tok-21195.txt\n",
            "tokens/neg/cv605_tok-12048.txt\n",
            "tokens/neg/cv606_tok-15225.txt\n",
            "tokens/neg/cv607_tok-7731.txt\n",
            "tokens/neg/cv608_tok-29484.txt\n",
            "tokens/neg/cv609_tok-18621.txt\n",
            "tokens/neg/cv610_tok-25438.txt\n",
            "tokens/neg/cv611_tok-17060.txt\n",
            "tokens/neg/cv612_tok-12853.txt\n",
            "tokens/neg/cv613_tok-11927.txt\n",
            "tokens/neg/cv614_tok-15689.txt\n",
            "tokens/neg/cv615_tok-9632.txt\n",
            "tokens/neg/cv616_tok-20339.txt\n",
            "tokens/neg/cv617_tok-24070.txt\n",
            "tokens/neg/cv618_tok-16325.txt\n",
            "tokens/neg/cv619_tok-5358.txt\n",
            "tokens/neg/cv620_tok-11532.txt\n",
            "tokens/neg/cv621_tok-24354.txt\n",
            "tokens/neg/cv622_tok-9693.txt\n",
            "tokens/neg/cv623_tok-17930.txt\n",
            "tokens/neg/cv624_tok-18090.txt\n",
            "tokens/neg/cv625_tok-24574.txt\n",
            "tokens/neg/cv626_tok-12687.txt\n",
            "tokens/neg/cv627_tok-18379.txt\n",
            "tokens/neg/cv628_tok-24133.txt\n",
            "tokens/neg/cv629_tok-26880.txt\n",
            "tokens/neg/cv630_tok-23300.txt\n",
            "tokens/neg/cv631_tok-20288.txt\n",
            "tokens/neg/cv632_tok-14112.txt\n",
            "tokens/neg/cv633_tok-14245.txt\n",
            "tokens/neg/cv634_tok-29293.txt\n",
            "tokens/neg/cv635_tok-10042.txt\n",
            "tokens/neg/cv636_tok-10765.txt\n",
            "tokens/neg/cv637_tok-23140.txt\n",
            "tokens/neg/cv638_tok-11294.txt\n",
            "tokens/neg/cv639_tok-16459.txt\n",
            "tokens/neg/cv640_tok-10291.txt\n",
            "tokens/neg/cv641_tok-27488.txt\n",
            "tokens/neg/cv642_tok-14663.txt\n",
            "tokens/neg/cv643_tok-14108.txt\n",
            "tokens/neg/cv644_tok-16844.txt\n",
            "tokens/neg/cv645_tok-20917.txt\n",
            "tokens/neg/cv646_tok-5855.txt\n",
            "tokens/neg/cv647_tok-5770.txt\n",
            "tokens/neg/cv648_tok-27988.txt\n",
            "tokens/neg/cv649_tok-25942.txt\n",
            "tokens/neg/cv650_tok-12799.txt\n",
            "tokens/neg/cv651_tok-28796.txt\n",
            "tokens/neg/cv652_tok-13494.txt\n",
            "tokens/neg/cv653_tok-18242.txt\n",
            "tokens/neg/cv654_tok-11931.txt\n",
            "tokens/neg/cv655_tok-20022.txt\n",
            "tokens/neg/cv656_tok-29675.txt\n",
            "tokens/neg/cv657_tok-5168.txt\n",
            "tokens/neg/cv658_tok-24887.txt\n",
            "tokens/neg/cv659_tok-29187.txt\n",
            "tokens/neg/cv660_tok-14943.txt\n",
            "tokens/neg/cv661_tok-19547.txt\n",
            "tokens/neg/cv662_tok-27088.txt\n",
            "tokens/neg/cv663_tok-26468.txt\n",
            "tokens/neg/cv664_tok-9268.txt\n",
            "tokens/neg/cv665_tok-10797.txt\n",
            "tokens/neg/cv666_tok-16121.txt\n",
            "tokens/neg/cv667_tok-18241.txt\n",
            "tokens/neg/cv668_tok-23578.txt\n",
            "tokens/neg/cv669_tok-12224.txt\n",
            "tokens/neg/cv670_tok-9891.txt\n",
            "tokens/neg/cv671_tok-2156.txt\n",
            "tokens/neg/cv672_tok-20564.txt\n",
            "tokens/neg/cv673_tok-20092.txt\n",
            "tokens/neg/cv674_tok-16930.txt\n",
            "tokens/neg/cv675_tok-10091.txt\n",
            "tokens/neg/cv676_tok-0583.txt\n",
            "tokens/neg/cv677_tok-11723.txt\n",
            "tokens/neg/cv678_tok-18362.txt\n",
            "tokens/neg/cv679_tok-8584.txt\n",
            "tokens/neg/cv680_tok-12227.txt\n",
            "tokens/neg/cv681_tok-11979.txt\n",
            "tokens/neg/cv682_tok-16618.txt\n",
            "tokens/neg/cv683_tok-11354.txt\n",
            "tokens/neg/cv684_tok-10190.txt\n",
            "tokens/neg/cv685_tok-15200.txt\n",
            "tokens/neg/cv686_tok-19988.txt\n",
            "tokens/neg/cv687_tok-25406.txt\n",
            "tokens/neg/cv688_tok-29384.txt\n",
            "tokens/neg/cv689_tok-12427.txt\n",
            "tokens/neg/cv690_tok-26288.txt\n",
            "tokens/neg/cv691_tok-28993.txt\n",
            "tokens/neg/cv692_tok-4797.txt\n",
            "tokens/neg/cv693_tok-16529.txt\n",
            "tokens/neg/cv694_tok-19302.txt\n",
            "tokens/neg/cv695_tok-21695.txt\n",
            "tokens/neg/cv696_tok-28821.txt\n",
            "tokens/neg/cv697_tok-12765.txt\n",
            "tokens/neg/cv698_tok-20916.txt\n",
            "tokens/neg/cv699_tok-0136.txt\n",
            "tokens/pos/\n",
            "tokens/pos/cv381_tok-12136.txt\n",
            "tokens/pos/cv000_tok-11609.txt\n",
            "tokens/pos/cv604_tok-13401.txt\n",
            "tokens/pos/cv001_tok-10180.txt\n",
            "tokens/pos/cv002_tok-12931.txt\n",
            "tokens/pos/cv003_tok-8338.txt\n",
            "tokens/pos/cv004_tok-29856.txt\n",
            "tokens/pos/cv005_tok-26110.txt\n",
            "tokens/pos/cv006_tok-28887.txt\n",
            "tokens/pos/cv007_tok-14417.txt\n",
            "tokens/pos/cv008_tok-15650.txt\n",
            "tokens/pos/cv009_tok-6385.txt\n",
            "tokens/pos/cv010_tok-29740.txt\n",
            "tokens/pos/cv011_tok-9168.txt\n",
            "tokens/pos/cv012_tok-13106.txt\n",
            "tokens/pos/cv013_tok-13924.txt\n",
            "tokens/pos/cv014_tok-16534.txt\n",
            "tokens/pos/cv015_tok-13846.txt\n",
            "tokens/pos/cv016_tok-9867.txt\n",
            "tokens/pos/cv018_tok-10094.txt\n",
            "tokens/pos/cv019_tok-11209.txt\n",
            "tokens/pos/cv020_tok-10493.txt\n",
            "tokens/pos/cv021_tok-9391.txt\n",
            "tokens/pos/cv022_tok-17069.txt\n",
            "tokens/pos/cv023_tok-12160.txt\n",
            "tokens/pos/cv024_tok-20251.txt\n",
            "tokens/pos/cv025_tok-12095.txt\n",
            "tokens/pos/cv026_tok-29622.txt\n",
            "tokens/pos/cv027_tok-18176.txt\n",
            "tokens/pos/cv028_tok-22015.txt\n",
            "tokens/pos/cv029_tok-10359.txt\n",
            "tokens/pos/cv030_tok-11739.txt\n",
            "tokens/pos/cv031_tok-10849.txt\n",
            "tokens/pos/cv032_tok-18177.txt\n",
            "tokens/pos/cv033_tok-13406.txt\n",
            "tokens/pos/cv034_tok-21430.txt\n",
            "tokens/pos/cv035_tok-22156.txt\n",
            "tokens/pos/cv036_tok-20629.txt\n",
            "tokens/pos/cv038_tok-12062.txt\n",
            "tokens/pos/cv039_tok-10188.txt\n",
            "tokens/pos/cv040_tok-13050.txt\n",
            "tokens/pos/cv041_tok-19601.txt\n",
            "tokens/pos/cv042_tok-18507.txt\n",
            "tokens/pos/cv043_tok-24397.txt\n",
            "tokens/pos/cv044_tok-29505.txt\n",
            "tokens/pos/cv045_tok-29121.txt\n",
            "tokens/pos/cv046_tok-6621.txt\n",
            "tokens/pos/cv047_tok-17351.txt\n",
            "tokens/pos/cv048_tok-12726.txt\n",
            "tokens/pos/cv049_tok-15888.txt\n",
            "tokens/pos/cv050_tok-3977.txt\n",
            "tokens/pos/cv051_tok-21020.txt\n",
            "tokens/pos/cv052_tok-20314.txt\n",
            "tokens/pos/cv053_tok-10907.txt\n",
            "tokens/pos/cv054_tok-19456.txt\n",
            "tokens/pos/cv055_tok-20285.txt\n",
            "tokens/pos/cv056_tok-29634.txt\n",
            "tokens/pos/cv057_tok-14094.txt\n",
            "tokens/pos/cv058_tok-18040.txt\n",
            "tokens/pos/cv059_tok-29707.txt\n",
            "tokens/pos/cv060_tok-28114.txt\n",
            "tokens/pos/cv061_tok-28023.txt\n",
            "tokens/pos/cv062_tok-16617.txt\n",
            "tokens/pos/cv063_tok-28706.txt\n",
            "tokens/pos/cv064_tok-11800.txt\n",
            "tokens/pos/cv065_tok-23111.txt\n",
            "tokens/pos/cv066_tok-21119.txt\n",
            "tokens/pos/cv067_tok-13038.txt\n",
            "tokens/pos/cv068_tok-12672.txt\n",
            "tokens/pos/cv069_tok-2190.txt\n",
            "tokens/pos/cv070_tok-18626.txt\n",
            "tokens/pos/cv071_tok-19119.txt\n",
            "tokens/pos/cv072_tok-10331.txt\n",
            "tokens/pos/cv073_tok-5045.txt\n",
            "tokens/pos/cv074_tok-11857.txt\n",
            "tokens/pos/cv075_tok-17788.txt\n",
            "tokens/pos/cv076_tok-0581.txt\n",
            "tokens/pos/cv077_tok-10246.txt\n",
            "tokens/pos/cv078_tok-11948.txt\n",
            "tokens/pos/cv079_tok-10862.txt\n",
            "tokens/pos/cv080_tok-11136.txt\n",
            "tokens/pos/cv081_tok-8841.txt\n",
            "tokens/pos/cv082_tok-15467.txt\n",
            "tokens/pos/cv083_tok-14309.txt\n",
            "tokens/pos/cv084_tok-7020.txt\n",
            "tokens/pos/cv085_tok-10481.txt\n",
            "tokens/pos/cv086_tok-8123.txt\n",
            "tokens/pos/cv087_tok-15638.txt\n",
            "tokens/pos/cv088_tok-10534.txt\n",
            "tokens/pos/cv089_tok-12635.txt\n",
            "tokens/pos/cv090_tok-25253.txt\n",
            "tokens/pos/cv091_tok-20660.txt\n",
            "tokens/pos/cv092_tok-18271.txt\n",
            "tokens/pos/cv093_tok-19162.txt\n",
            "tokens/pos/cv094_tok-21100.txt\n",
            "tokens/pos/cv095_tok-16212.txt\n",
            "tokens/pos/cv096_tok-12690.txt\n",
            "tokens/pos/cv097_tok-15308.txt\n",
            "tokens/pos/cv098_tok-4967.txt\n",
            "tokens/pos/cv099_tok-15838.txt\n",
            "tokens/pos/cv100_tok-11699.txt\n",
            "tokens/pos/cv101_tok-14394.txt\n",
            "tokens/pos/cv102_tok-21103.txt\n",
            "tokens/pos/cv103_tok-15771.txt\n",
            "tokens/pos/cv104_tok-28425.txt\n",
            "tokens/pos/cv105_tok-10942.txt\n",
            "tokens/pos/cv106_tok-14111.txt\n",
            "tokens/pos/cv107_tok-10379.txt\n",
            "tokens/pos/cv108_tok-12767.txt\n",
            "tokens/pos/cv109_tok-16113.txt\n",
            "tokens/pos/cv110_tok-10420.txt\n",
            "tokens/pos/cv111_tok-11236.txt\n",
            "tokens/pos/cv112_tok-19726.txt\n",
            "tokens/pos/cv113_tok-15243.txt\n",
            "tokens/pos/cv114_tok-16533.txt\n",
            "tokens/pos/cv115_tok-13331.txt\n",
            "tokens/pos/cv116_tok-9457.txt\n",
            "tokens/pos/cv117_tok-8424.txt\n",
            "tokens/pos/cv118_tok-12047.txt\n",
            "tokens/pos/cv119_tok-23275.txt\n",
            "tokens/pos/cv120_tok-12839.txt\n",
            "tokens/pos/cv121_tok-6500.txt\n",
            "tokens/pos/cv122_tok-27743.txt\n",
            "tokens/pos/cv123_tok-22269.txt\n",
            "tokens/pos/cv124_tok-29590.txt\n",
            "tokens/pos/cv125_tok-24367.txt\n",
            "tokens/pos/cv126_tok-13691.txt\n",
            "tokens/pos/cv127_tok-22921.txt\n",
            "tokens/pos/cv128_tok-12756.txt\n",
            "tokens/pos/cv129_tok-23781.txt\n",
            "tokens/pos/cv130_tok-23427.txt\n",
            "tokens/pos/cv131_tok-19363.txt\n",
            "tokens/pos/cv132_tok-5618.txt\n",
            "tokens/pos/cv133_tok-26239.txt\n",
            "tokens/pos/cv134_tok-24277.txt\n",
            "tokens/pos/cv135_tok-18510.txt\n",
            "tokens/pos/cv136_tok-4471.txt\n",
            "tokens/pos/cv137_tok-10362.txt\n",
            "tokens/pos/cv138_tok-10690.txt\n",
            "tokens/pos/cv139_tok-10209.txt\n",
            "tokens/pos/cv140_tok-6014.txt\n",
            "tokens/pos/cv141_tok-10154.txt\n",
            "tokens/pos/cv142_tok-11890.txt\n",
            "tokens/pos/cv143_tok-18467.txt\n",
            "tokens/pos/cv144_tok-11449.txt\n",
            "tokens/pos/cv145_tok-12286.txt\n",
            "tokens/pos/cv146_tok-8396.txt\n",
            "tokens/pos/cv147_tok-10406.txt\n",
            "tokens/pos/cv148_tok-19179.txt\n",
            "tokens/pos/cv149_tok-10036.txt\n",
            "tokens/pos/cv150_tok-10123.txt\n",
            "tokens/pos/cv151_tok-11098.txt\n",
            "tokens/pos/cv152_tok-11860.txt\n",
            "tokens/pos/cv153_tok-1035.txt\n",
            "tokens/pos/cv154_tok-10175.txt\n",
            "tokens/pos/cv155_tok-13650.txt\n",
            "tokens/pos/cv156_tok-12349.txt\n",
            "tokens/pos/cv157_tok-29786.txt\n",
            "tokens/pos/cv158_tok-29319.txt\n",
            "tokens/pos/cv159_tok-9799.txt\n",
            "tokens/pos/cv160_tok-3416.txt\n",
            "tokens/pos/cv161_tok-10713.txt\n",
            "tokens/pos/cv162_tok-15537.txt\n",
            "tokens/pos/cv163_tok-17862.txt\n",
            "tokens/pos/cv164_tok-7574.txt\n",
            "tokens/pos/cv165_tok-11425.txt\n",
            "tokens/pos/cv166_tok-22431.txt\n",
            "tokens/pos/cv167_tok-11059.txt\n",
            "tokens/pos/cv168_tok-12256.txt\n",
            "tokens/pos/cv169_tok-17718.txt\n",
            "tokens/pos/cv170_tok-13252.txt\n",
            "tokens/pos/cv171_tok-10221.txt\n",
            "tokens/pos/cv172_tok-24266.txt\n",
            "tokens/pos/cv173_tok-22636.txt\n",
            "tokens/pos/cv174_tok-12359.txt\n",
            "tokens/pos/cv175_tok-17154.txt\n",
            "tokens/pos/cv176_tok-15918.txt\n",
            "tokens/pos/cv177_tok-10001.txt\n",
            "tokens/pos/cv178_tok-7453.txt\n",
            "tokens/pos/cv179_tok-10822.txt\n",
            "tokens/pos/cv180_tok-20034.txt\n",
            "tokens/pos/cv181_tok-10144.txt\n",
            "tokens/pos/cv182_tok-15953.txt\n",
            "tokens/pos/cv183_tok-17001.txt\n",
            "tokens/pos/cv184_tok-20191.txt\n",
            "tokens/pos/cv185_tok-15956.txt\n",
            "tokens/pos/cv186_tok-7085.txt\n",
            "tokens/pos/cv187_tok-12009.txt\n",
            "tokens/pos/cv188_tok-16638.txt\n",
            "tokens/pos/cv189_tok-11798.txt\n",
            "tokens/pos/cv190_tok-29198.txt\n",
            "tokens/pos/cv191_tok-11933.txt\n",
            "tokens/pos/cv192_tok-18541.txt\n",
            "tokens/pos/cv193_tok-12620.txt\n",
            "tokens/pos/cv194_tok-10685.txt\n",
            "tokens/pos/cv195_tok-13683.txt\n",
            "tokens/pos/cv196_tok-19220.txt\n",
            "tokens/pos/cv197_tok-25730.txt\n",
            "tokens/pos/cv198_tok-23776.txt\n",
            "tokens/pos/cv199_tok-29366.txt\n",
            "tokens/pos/cv200_tok-19912.txt\n",
            "tokens/pos/cv201_tok-16071.txt\n",
            "tokens/pos/cv202_tok-13115.txt\n",
            "tokens/pos/cv203_tok-25054.txt\n",
            "tokens/pos/cv204_tok-10080.txt\n",
            "tokens/pos/cv205_tok-16721.txt\n",
            "tokens/pos/cv207_tok-10975.txt\n",
            "tokens/pos/cv208_tok-10364.txt\n",
            "tokens/pos/cv209_tok-24218.txt\n",
            "tokens/pos/cv210_tok-7751.txt\n",
            "tokens/pos/cv211_tok-24353.txt\n",
            "tokens/pos/cv212_tok-11472.txt\n",
            "tokens/pos/cv213_tok-29538.txt\n",
            "tokens/pos/cv214_tok-29332.txt\n",
            "tokens/pos/cv215_tok-23010.txt\n",
            "tokens/pos/cv216_tok-5088.txt\n",
            "tokens/pos/cv217_tok-12448.txt\n",
            "tokens/pos/cv218_tok-22601.txt\n",
            "tokens/pos/cv219_tok-22240.txt\n",
            "tokens/pos/cv220_tok-10368.txt\n",
            "tokens/pos/cv221_tok-20471.txt\n",
            "tokens/pos/cv222_tok-11962.txt\n",
            "tokens/pos/cv223_tok-4230.txt\n",
            "tokens/pos/cv224_tok-13681.txt\n",
            "tokens/pos/cv225_tok-14991.txt\n",
            "tokens/pos/cv226_tok-11393.txt\n",
            "tokens/pos/cv227_tok-16009.txt\n",
            "tokens/pos/cv228_tok-8817.txt\n",
            "tokens/pos/cv229_tok-11528.txt\n",
            "tokens/pos/cv230_tok-12901.txt\n",
            "tokens/pos/cv231_tok-15686.txt\n",
            "tokens/pos/cv232_tok-18168.txt\n",
            "tokens/pos/cv233_tok-12724.txt\n",
            "tokens/pos/cv234_tok-13419.txt\n",
            "tokens/pos/cv235_tok-11172.txt\n",
            "tokens/pos/cv236_tok-23452.txt\n",
            "tokens/pos/cv237_tok-28980.txt\n",
            "tokens/pos/cv238_tok-18636.txt\n",
            "tokens/pos/cv239_tok-29422.txt\n",
            "tokens/pos/cv240_tok-29525.txt\n",
            "tokens/pos/cv241_tok-17642.txt\n",
            "tokens/pos/cv242_tok-12762.txt\n",
            "tokens/pos/cv243_tok-5126.txt\n",
            "tokens/pos/cv244_tok-22147.txt\n",
            "tokens/pos/cv245_tok-19462.txt\n",
            "tokens/pos/cv246_tok-10038.txt\n",
            "tokens/pos/cv247_tok-26084.txt\n",
            "tokens/pos/cv248_tok-18791.txt\n",
            "tokens/pos/cv249_tok-18722.txt\n",
            "tokens/pos/cv250_tok-19995.txt\n",
            "tokens/pos/cv251_tok-26231.txt\n",
            "tokens/pos/cv252_tok-20469.txt\n",
            "tokens/pos/cv253_tok-19526.txt\n",
            "tokens/pos/cv254_tok-13711.txt\n",
            "tokens/pos/cv255_tok-15449.txt\n",
            "tokens/pos/cv256_tok-11576.txt\n",
            "tokens/pos/cv257_tok-10937.txt\n",
            "tokens/pos/cv258_tok-25234.txt\n",
            "tokens/pos/cv259_tok-25882.txt\n",
            "tokens/pos/cv260_tok-14730.txt\n",
            "tokens/pos/cv261_tok-11861.txt\n",
            "tokens/pos/cv262_tok-10678.txt\n",
            "tokens/pos/cv264_tok-6965.txt\n",
            "tokens/pos/cv265_tok-11051.txt\n",
            "tokens/pos/cv266_tok-6875.txt\n",
            "tokens/pos/cv267_tok-17989.txt\n",
            "tokens/pos/cv268_tok-0811.txt\n",
            "tokens/pos/cv269_tok-10916.txt\n",
            "tokens/pos/cv270_tok-29235.txt\n",
            "tokens/pos/cv271_tok-11240.txt\n",
            "tokens/pos/cv272_tok-13223.txt\n",
            "tokens/pos/cv273_tok-10626.txt\n",
            "tokens/pos/cv274_tok-12014.txt\n",
            "tokens/pos/cv275_tok-12167.txt\n",
            "tokens/pos/cv276_tok-24215.txt\n",
            "tokens/pos/cv277_tok-10654.txt\n",
            "tokens/pos/cv278_tok-17924.txt\n",
            "tokens/pos/cv279_tok-15969.txt\n",
            "tokens/pos/cv279_tok-23947.txt\n",
            "tokens/pos/cv280_tok-27724.txt\n",
            "tokens/pos/cv281_tok-12370.txt\n",
            "tokens/pos/cv282_tok-7439.txt\n",
            "tokens/pos/cv283_tok-16405.txt\n",
            "tokens/pos/cv284_tok-10073.txt\n",
            "tokens/pos/cv285_tok-13000.txt\n",
            "tokens/pos/cv286_tok-9530.txt\n",
            "tokens/pos/cv287_tok-14252.txt\n",
            "tokens/pos/cv288_tok-10926.txt\n",
            "tokens/pos/cv289_tok-8332.txt\n",
            "tokens/pos/cv290_tok-25396.txt\n",
            "tokens/pos/cv291_tok-20114.txt\n",
            "tokens/pos/cv292_tok-11776.txt\n",
            "tokens/pos/cv293_tok-5883.txt\n",
            "tokens/pos/cv294_tok-12972.txt\n",
            "tokens/pos/cv295_tok-13521.txt\n",
            "tokens/pos/cv296_tok-11353.txt\n",
            "tokens/pos/cv297_tok-13394.txt\n",
            "tokens/pos/cv298_tok-16139.txt\n",
            "tokens/pos/cv299_tok-19259.txt\n",
            "tokens/pos/cv300_tok-19831.txt\n",
            "tokens/pos/cv301_tok-18134.txt\n",
            "tokens/pos/cv302_tok-29013.txt\n",
            "tokens/pos/cv303_tok-18517.txt\n",
            "tokens/pos/cv304_tok-10308.txt\n",
            "tokens/pos/cv305_tok-14336.txt\n",
            "tokens/pos/cv306_tok-10026.txt\n",
            "tokens/pos/cv307_tok-7398.txt\n",
            "tokens/pos/cv308_tok-12426.txt\n",
            "tokens/pos/cv309_tok-12146.txt\n",
            "tokens/pos/cv310_tok-12587.txt\n",
            "tokens/pos/cv311_tok-10583.txt\n",
            "tokens/pos/cv312_tok-11603.txt\n",
            "tokens/pos/cv313_tok-19364.txt\n",
            "tokens/pos/cv314_tok-28997.txt\n",
            "tokens/pos/cv315_tok-29800.txt\n",
            "tokens/pos/cv316_tok-15684.txt\n",
            "tokens/pos/cv317_tok-10518.txt\n",
            "tokens/pos/cv318_tok-15253.txt\n",
            "tokens/pos/cv319_tok-23244.txt\n",
            "tokens/pos/cv320_tok-10251.txt\n",
            "tokens/pos/cv321_tok-29280.txt\n",
            "tokens/pos/cv322_tok-12245.txt\n",
            "tokens/pos/cv323_tok-24435.txt\n",
            "tokens/pos/cv324_tok-11182.txt\n",
            "tokens/pos/cv325_tok-19217.txt\n",
            "tokens/pos/cv326_tok-28892.txt\n",
            "tokens/pos/cv327_tok-10658.txt\n",
            "tokens/pos/cv328_tok-29692.txt\n",
            "tokens/pos/cv329_tok-15279.txt\n",
            "tokens/pos/cv330_tok-9709.txt\n",
            "tokens/pos/cv331_tok-29274.txt\n",
            "tokens/pos/cv332_tok-11084.txt\n",
            "tokens/pos/cv333_tok-29224.txt\n",
            "tokens/pos/cv334_tok-14528.txt\n",
            "tokens/pos/cv335_tok-12289.txt\n",
            "tokens/pos/cv336_tok-10681.txt\n",
            "tokens/pos/cv337_tok-14290.txt\n",
            "tokens/pos/cv338_tok-20112.txt\n",
            "tokens/pos/cv339_tok-10638.txt\n",
            "tokens/pos/cv340_tok-15954.txt\n",
            "tokens/pos/cv341_tok-14224.txt\n",
            "tokens/pos/cv342_tok-10814.txt\n",
            "tokens/pos/cv343_tok-12145.txt\n",
            "tokens/pos/cv344_tok-29737.txt\n",
            "tokens/pos/cv345_tok-9908.txt\n",
            "tokens/pos/cv346_tok-11690.txt\n",
            "tokens/pos/cv346_tok-24609.txt\n",
            "tokens/pos/cv347_tok-10691.txt\n",
            "tokens/pos/cv348_tok-24201.txt\n",
            "tokens/pos/cv349_tok-7946.txt\n",
            "tokens/pos/cv350_tok-17737.txt\n",
            "tokens/pos/cv351_tok-17657.txt\n",
            "tokens/pos/cv353_tok-29082.txt\n",
            "tokens/pos/cv354_tok-13227.txt\n",
            "tokens/pos/cv355_tok-11500.txt\n",
            "tokens/pos/cv356_tok-14107.txt\n",
            "tokens/pos/cv357_tok-10343.txt\n",
            "tokens/pos/cv358_tok-23862.txt\n",
            "tokens/pos/cv359_tok-24238.txt\n",
            "tokens/pos/cv360_tok-15530.txt\n",
            "tokens/pos/cv361_tok-7410.txt\n",
            "tokens/pos/cv362_tok-29691.txt\n",
            "tokens/pos/cv363_tok-29805.txt\n",
            "tokens/pos/cv364_tok-14611.txt\n",
            "tokens/pos/cv366_tok-10514.txt\n",
            "tokens/pos/cv367_tok-10982.txt\n",
            "tokens/pos/cv368_tok-7890.txt\n",
            "tokens/pos/cv369_tok-23611.txt\n",
            "tokens/pos/cv370_tok-15964.txt\n",
            "tokens/pos/cv371_tok-24888.txt\n",
            "tokens/pos/cv372_tok-17631.txt\n",
            "tokens/pos/cv373_tok-28907.txt\n",
            "tokens/pos/cv374_tok-14808.txt\n",
            "tokens/pos/cv375_tok-0514.txt\n",
            "tokens/pos/cv376_tok-16976.txt\n",
            "tokens/pos/cv378_tok-18453.txt\n",
            "tokens/pos/cv379_tok-16741.txt\n",
            "tokens/pos/cv380_tok-18179.txt\n",
            "tokens/pos/cv382_tok-11565.txt\n",
            "tokens/pos/cv383_tok-10601.txt\n",
            "tokens/pos/cv384_tok-3670.txt\n",
            "tokens/pos/cv385_tok-7573.txt\n",
            "tokens/pos/cv386_tok-23778.txt\n",
            "tokens/pos/cv387_tok-4672.txt\n",
            "tokens/pos/cv388_tok-20172.txt\n",
            "tokens/pos/cv389_tok-23627.txt\n",
            "tokens/pos/cv389_tok-8969.txt\n",
            "tokens/pos/cv390_tok-16378.txt\n",
            "tokens/pos/cv391_tok-29468.txt\n",
            "tokens/pos/cv392_tok-5009.txt\n",
            "tokens/pos/cv393_tok-11026.txt\n",
            "tokens/pos/cv394_tok-7540.txt\n",
            "tokens/pos/cv395_tok-27468.txt\n",
            "tokens/pos/cv396_tok-29722.txt\n",
            "tokens/pos/cv397_tok-22920.txt\n",
            "tokens/pos/cv398_tok-25270.txt\n",
            "tokens/pos/cv399_tok-19531.txt\n",
            "tokens/pos/cv401_tok-11239.txt\n",
            "tokens/pos/cv402_tok-22550.txt\n",
            "tokens/pos/cv403_tok-19027.txt\n",
            "tokens/pos/cv404_tok-23115.txt\n",
            "tokens/pos/cv405_tok-10279.txt\n",
            "tokens/pos/cv406_tok-29627.txt\n",
            "tokens/pos/cv407_tok-17378.txt\n",
            "tokens/pos/cv408_tok-24111.txt\n",
            "tokens/pos/cv409_tok-11193.txt\n",
            "tokens/pos/cv410_tok-24246.txt\n",
            "tokens/pos/cv411_tok-18834.txt\n",
            "tokens/pos/cv412_tok-22157.txt\n",
            "tokens/pos/cv413_tok-23923.txt\n",
            "tokens/pos/cv414_tok-15422.txt\n",
            "tokens/pos/cv415_tok-22892.txt\n",
            "tokens/pos/cv416_tok-29439.txt\n",
            "tokens/pos/cv417_tok-15007.txt\n",
            "tokens/pos/cv418_tok-10147.txt\n",
            "tokens/pos/cv419_tok-10532.txt\n",
            "tokens/pos/cv420_tok-22064.txt\n",
            "tokens/pos/cv421_tok-16014.txt\n",
            "tokens/pos/cv422_tok-16180.txt\n",
            "tokens/pos/cv423_tok-8534.txt\n",
            "tokens/pos/cv424_tok-14952.txt\n",
            "tokens/pos/cv425_tok-20233.txt\n",
            "tokens/pos/cv425_tok-8417.txt\n",
            "tokens/pos/cv426_tok-12735.txt\n",
            "tokens/pos/cv427_tok-12079.txt\n",
            "tokens/pos/cv428_tok-11458.txt\n",
            "tokens/pos/cv429_tok-16958.txt\n",
            "tokens/pos/cv430_tok-23981.txt\n",
            "tokens/pos/cv431_tok-29497.txt\n",
            "tokens/pos/cv432_tok-29741.txt\n",
            "tokens/pos/cv433_tok-16006.txt\n",
            "tokens/pos/cv434_tok-9390.txt\n",
            "tokens/pos/cv435_tok-15952.txt\n",
            "tokens/pos/cv436_tok-17028.txt\n",
            "tokens/pos/cv437_tok-13194.txt\n",
            "tokens/pos/cv438_tok-25436.txt\n",
            "tokens/pos/cv439_tok-13632.txt\n",
            "tokens/pos/cv440_tok-24265.txt\n",
            "tokens/pos/cv441_tok-17238.txt\n",
            "tokens/pos/cv442_tok-28944.txt\n",
            "tokens/pos/cv443_tok-11101.txt\n",
            "tokens/pos/cv444_tok-4968.txt\n",
            "tokens/pos/cv445_tok-23877.txt\n",
            "tokens/pos/cv446_tok-15037.txt\n",
            "tokens/pos/cv447_tok-13008.txt\n",
            "tokens/pos/cv448_tok-25113.txt\n",
            "tokens/pos/cv449_tok-18180.txt\n",
            "tokens/pos/cv450_tok-18817.txt\n",
            "tokens/pos/cv451_tok-19325.txt\n",
            "tokens/pos/cv452_tok-10307.txt\n",
            "tokens/pos/cv453_tok-13987.txt\n",
            "tokens/pos/cv454_tok-11053.txt\n",
            "tokens/pos/cv455_tok-25446.txt\n",
            "tokens/pos/cv456_tok-5007.txt\n",
            "tokens/pos/cv457_tok-12829.txt\n",
            "tokens/pos/cv458_tok-17822.txt\n",
            "tokens/pos/cv459_tok-12462.txt\n",
            "tokens/pos/cv460_tok-23360.txt\n",
            "tokens/pos/cv461_tok-29809.txt\n",
            "tokens/pos/cv462_tok-28654.txt\n",
            "tokens/pos/cv463_tok-28034.txt\n",
            "tokens/pos/cv464_tok-17451.txt\n",
            "tokens/pos/cv465_tok-10132.txt\n",
            "tokens/pos/cv466_tok-22246.txt\n",
            "tokens/pos/cv467_tok-23637.txt\n",
            "tokens/pos/cv468_tok-11620.txt\n",
            "tokens/pos/cv469_tok-12189.txt\n",
            "tokens/pos/cv470_tok-10845.txt\n",
            "tokens/pos/cv471_tok-21022.txt\n",
            "tokens/pos/cv472_tok-24511.txt\n",
            "tokens/pos/cv473_tok-7282.txt\n",
            "tokens/pos/cv474_tok-10825.txt\n",
            "tokens/pos/cv475_tok-12277.txt\n",
            "tokens/pos/cv476_tok-23253.txt\n",
            "tokens/pos/cv477_tok-10934.txt\n",
            "tokens/pos/cv478_tok-17872.txt\n",
            "tokens/pos/cv479_tok-22497.txt\n",
            "tokens/pos/cv480_tok-12251.txt\n",
            "tokens/pos/cv481_tok-18502.txt\n",
            "tokens/pos/cv482_tok-11657.txt\n",
            "tokens/pos/cv483_tok-16143.txt\n",
            "tokens/pos/cv484_tok-20319.txt\n",
            "tokens/pos/cv485_tok-17352.txt\n",
            "tokens/pos/cv486_tok-16582.txt\n",
            "tokens/pos/cv487_tok-15094.txt\n",
            "tokens/pos/cv488_tok-15824.txt\n",
            "tokens/pos/cv489_tok-23236.txt\n",
            "tokens/pos/cv490_tok-15448.txt\n",
            "tokens/pos/cv491_tok-10451.txt\n",
            "tokens/pos/cv492_tok-10981.txt\n",
            "tokens/pos/cv493_tok-10732.txt\n",
            "tokens/pos/cv494_tok-25127.txt\n",
            "tokens/pos/cv495_tok-29252.txt\n",
            "tokens/pos/cv496_tok-12747.txt\n",
            "tokens/pos/cv497_tok-10122.txt\n",
            "tokens/pos/cv498_tok-28077.txt\n",
            "tokens/pos/cv499_tok-28067.txt\n",
            "tokens/pos/cv500_tok-10421.txt\n",
            "tokens/pos/cv501_tok-7368.txt\n",
            "tokens/pos/cv502_tok-5016.txt\n",
            "tokens/pos/cv503_tok-21118.txt\n",
            "tokens/pos/cv504_tok-5619.txt\n",
            "tokens/pos/cv505_tok-12270.txt\n",
            "tokens/pos/cv506_tok-13396.txt\n",
            "tokens/pos/cv507_tok-22941.txt\n",
            "tokens/pos/cv508_tok-18027.txt\n",
            "tokens/pos/cv509_tok-18009.txt\n",
            "tokens/pos/cv510_tok-29540.txt\n",
            "tokens/pos/cv511_tok-16528.txt\n",
            "tokens/pos/cv512_tok-27457.txt\n",
            "tokens/pos/cv513_tok-5461.txt\n",
            "tokens/pos/cv514_tok-18057.txt\n",
            "tokens/pos/cv515_tok-19774.txt\n",
            "tokens/pos/cv516_tok-10558.txt\n",
            "tokens/pos/cv517_tok-12458.txt\n",
            "tokens/pos/cv518_tok-11610.txt\n",
            "tokens/pos/cv518_tok-12162.txt\n",
            "tokens/pos/cv519_tok-0778.txt\n",
            "tokens/pos/cv520_tok-13142.txt\n",
            "tokens/pos/cv521_tok-9946.txt\n",
            "tokens/pos/cv522_tok-14368.txt\n",
            "tokens/pos/cv523_tok-14293.txt\n",
            "tokens/pos/cv524_tok-10837.txt\n",
            "tokens/pos/cv525_tok-17405.txt\n",
            "tokens/pos/cv526_tok-11162.txt\n",
            "tokens/pos/cv527_tok-13133.txt\n",
            "tokens/pos/cv529_tok-17061.txt\n",
            "tokens/pos/cv530_tok-12074.txt\n",
            "tokens/pos/cv531_tok-12166.txt\n",
            "tokens/pos/cv532_tok-27520.txt\n",
            "tokens/pos/cv533_tok-10874.txt\n",
            "tokens/pos/cv534_tok-10159.txt\n",
            "tokens/pos/cv535_tok-16133.txt\n",
            "tokens/pos/cv536_tok-10580.txt\n",
            "tokens/pos/cv537_tok-24576.txt\n",
            "tokens/pos/cv538_tok-10197.txt\n",
            "tokens/pos/cv539_tok-13507.txt\n",
            "tokens/pos/cv540_tok-15570.txt\n",
            "tokens/pos/cv541_tok-15782.txt\n",
            "tokens/pos/cv542_tok-10116.txt\n",
            "tokens/pos/cv543_tok-17166.txt\n",
            "tokens/pos/cv544_tok-10143.txt\n",
            "tokens/pos/cv545_tok-16745.txt\n",
            "tokens/pos/cv547_tok-18643.txt\n",
            "tokens/pos/cv548_tok-11094.txt\n",
            "tokens/pos/cv549_tok-11592.txt\n",
            "tokens/pos/cv550_tok-10962.txt\n",
            "tokens/pos/cv551_tok-24154.txt\n",
            "tokens/pos/cv552_tok-23130.txt\n",
            "tokens/pos/cv553_tok-13743.txt\n",
            "tokens/pos/cv554_tok-14661.txt\n",
            "tokens/pos/cv555_tok-28378.txt\n",
            "tokens/pos/cv556_tok-23865.txt\n",
            "tokens/pos/cv557_tok-4659.txt\n",
            "tokens/pos/cv558_tok-23779.txt\n",
            "tokens/pos/cv559_tok-17268.txt\n",
            "tokens/pos/cv560_tok-11131.txt\n",
            "tokens/pos/cv561_tok-26915.txt\n",
            "tokens/pos/cv562_tok-19381.txt\n",
            "tokens/pos/cv563_tok-20751.txt\n",
            "tokens/pos/cv564_tok-13927.txt\n",
            "tokens/pos/cv565_tok-17275.txt\n",
            "tokens/pos/cv566_tok-20049.txt\n",
            "tokens/pos/cv567_tok-29658.txt\n",
            "tokens/pos/cv568_tok-25240.txt\n",
            "tokens/pos/cv569_tok-15018.txt\n",
            "tokens/pos/cv570_tok-15965.txt\n",
            "tokens/pos/cv571_tok-11605.txt\n",
            "tokens/pos/cv572_tok-19175.txt\n",
            "tokens/pos/cv573_tok-15975.txt\n",
            "tokens/pos/cv574_tok-28835.txt\n",
            "tokens/pos/cv575_tok-16237.txt\n",
            "tokens/pos/cv576_tok-12064.txt\n",
            "tokens/pos/cv577_tok-9749.txt\n",
            "tokens/pos/cv578_tok-5046.txt\n",
            "tokens/pos/cv579_tok-7082.txt\n",
            "tokens/pos/cv580_tok-6559.txt\n",
            "tokens/pos/cv581_tok-20785.txt\n",
            "tokens/pos/cv582_tok-28942.txt\n",
            "tokens/pos/cv583_tok-19290.txt\n",
            "tokens/pos/cv584_tok-14395.txt\n",
            "tokens/pos/cv585_tok-29721.txt\n",
            "tokens/pos/cv586_tok-20318.txt\n",
            "tokens/pos/cv587_tok-4670.txt\n",
            "tokens/pos/cv588_tok-10492.txt\n",
            "tokens/pos/cv589_tok-17484.txt\n",
            "tokens/pos/cv590_tok-15111.txt\n",
            "tokens/pos/cv591_tok-12721.txt\n",
            "tokens/pos/cv592_tok-21878.txt\n",
            "tokens/pos/cv593_tok-12180.txt\n",
            "tokens/pos/cv594_tok-11418.txt\n",
            "tokens/pos/cv595_tok-7281.txt\n",
            "tokens/pos/cv596_tok-29066.txt\n",
            "tokens/pos/cv597_tok-16324.txt\n",
            "tokens/pos/cv598_tok-18159.txt\n",
            "tokens/pos/cv599_tok-10744.txt\n",
            "tokens/pos/cv600_tok-23338.txt\n",
            "tokens/pos/cv601_tok-10066.txt\n",
            "tokens/pos/cv602_tok-22232.txt\n",
            "tokens/pos/cv603_tok-18542.txt\n",
            "tokens/pos/cv605_tok-11719.txt\n",
            "tokens/pos/cv606_tok-10057.txt\n",
            "tokens/pos/cv607_tok-14324.txt\n",
            "tokens/pos/cv608_tok-18458.txt\n",
            "tokens/pos/cv609_tok-27236.txt\n",
            "tokens/pos/cv610_tok-1019.txt\n",
            "tokens/pos/cv611_tok-18543.txt\n",
            "tokens/pos/cv612_tok-29364.txt\n",
            "tokens/pos/cv613_tok-10048.txt\n",
            "tokens/pos/cv614_tok-12857.txt\n",
            "tokens/pos/cv615_tok-10187.txt\n",
            "tokens/pos/cv616_tok-10844.txt\n",
            "tokens/pos/cv617_tok-10917.txt\n",
            "tokens/pos/cv618_tok-23497.txt\n",
            "tokens/pos/cv619_tok-19600.txt\n",
            "tokens/pos/cv620_tok-13475.txt\n",
            "tokens/pos/cv621_tok-10424.txt\n",
            "tokens/pos/cv622_tok-10271.txt\n",
            "tokens/pos/cv623_tok-22849.txt\n",
            "tokens/pos/cv624_tok-19219.txt\n",
            "tokens/pos/cv625_tok-0573.txt\n",
            "tokens/pos/cv626_tok-11039.txt\n",
            "tokens/pos/cv628_tok-24095.txt\n",
            "tokens/pos/cv629_tok-6997.txt\n",
            "tokens/pos/cv630_tok-10565.txt\n",
            "tokens/pos/cv631_tok-6027.txt\n",
            "tokens/pos/cv632_tok-16345.txt\n",
            "tokens/pos/cv633_tok-28885.txt\n",
            "tokens/pos/cv634_tok-28807.txt\n",
            "tokens/pos/cv635_tok-5043.txt\n",
            "tokens/pos/cv636_tok-22995.txt\n",
            "tokens/pos/cv637_tok-9659.txt\n",
            "tokens/pos/cv638_tok-22496.txt\n",
            "tokens/pos/cv639_tok-19221.txt\n",
            "tokens/pos/cv640_tok-26304.txt\n",
            "tokens/pos/cv641_tok-8581.txt\n",
            "tokens/pos/cv642_tok-25649.txt\n",
            "tokens/pos/cv643_tok-26988.txt\n",
            "tokens/pos/cv644_tok-23616.txt\n",
            "tokens/pos/cv645_tok-21150.txt\n",
            "tokens/pos/cv646_tok-17765.txt\n",
            "tokens/pos/cv647_tok-9974.txt\n",
            "tokens/pos/cv648_tok-15976.txt\n",
            "tokens/pos/cv649_tok-27594.txt\n",
            "tokens/pos/cv650_tok-14989.txt\n",
            "tokens/pos/cv651_tok-12083.txt\n",
            "tokens/pos/cv652_tok-15868.txt\n",
            "tokens/pos/cv653_tok-10211.txt\n",
            "tokens/pos/cv654_tok-17990.txt\n",
            "tokens/pos/cv655_tok-17267.txt\n",
            "tokens/pos/cv656_tok-28795.txt\n",
            "tokens/pos/cv657_tok-7984.txt\n",
            "tokens/pos/cv658_tok-13091.txt\n",
            "tokens/pos/cv659_tok-2155.txt\n",
            "tokens/pos/cv660_tok-17576.txt\n",
            "tokens/pos/cv661_tok-10482.txt\n",
            "tokens/pos/cv662_tok-14911.txt\n",
            "tokens/pos/cv663_tok-14903.txt\n",
            "tokens/pos/cv664_tok-13151.txt\n",
            "tokens/pos/cv665_tok-19873.txt\n",
            "tokens/pos/cv666_tok-13320.txt\n",
            "tokens/pos/cv667_tok-10027.txt\n",
            "tokens/pos/cv668_tok-10189.txt\n",
            "tokens/pos/cv669_tok-10965.txt\n",
            "tokens/pos/cv670_tok-24009.txt\n",
            "tokens/pos/cv671_tok-10077.txt\n",
            "tokens/pos/cv672_tok-12350.txt\n",
            "tokens/pos/cv673_tok-6552.txt\n",
            "tokens/pos/cv674_tok-11591.txt\n",
            "tokens/pos/cv675_tok-11864.txt\n",
            "tokens/pos/cv676_tok-19999.txt\n",
            "tokens/pos/cv677_tok-11867.txt\n",
            "tokens/pos/cv678_tok-24352.txt\n",
            "tokens/pos/cv679_tok-13972.txt\n",
            "tokens/pos/cv680_tok-18142.txt\n",
            "tokens/pos/cv681_tok-28559.txt\n",
            "tokens/pos/cv682_tok-21593.txt\n",
            "tokens/pos/cv683_tok-12295.txt\n",
            "tokens/pos/cv684_tok-10367.txt\n",
            "tokens/pos/cv685_tok-11187.txt\n",
            "tokens/pos/cv686_tok-22284.txt\n",
            "tokens/pos/cv687_tok-20347.txt\n",
            "tokens/pos/cv688_tok-10047.txt\n",
            "tokens/pos/cv689_tok-8825.txt\n",
            "tokens/pos/cv690_tok-23617.txt\n",
            "tokens/pos/cv691_tok-11491.txt\n",
            "tokens/pos/cv692_tok-24295.txt\n",
            "tokens/pos/cv693_tok-16307.txt\n",
            "tokens/pos/cv694_tok-18628.txt\n",
            "tokens/pos/cv695_tok-12873.txt\n",
            "tokens/pos/cv696_tok-10835.txt\n",
            "tokens/pos/cv697_tok-29325.txt\n",
            "tokens/pos/cv698_tok-27735.txt\n",
            "tokens/pos/cv699_tok-10425.txt\n"
          ]
        }
      ],
      "source": [
        "!wget http://www.cs.cornell.edu/people/pabo/movie-review-data/mix20_rand700_tokens_0211.tar\n",
        "!tar xvzf mix20_rand700_tokens_0211.tar\n",
        "\n",
        "movies = load_files(container_path=\"tokens\") \n",
        "x, y = movies.data, movies.target"
      ]
    },
    {
      "cell_type": "code",
      "source": [
        "# First sample and target\n",
        "print('Sample: {} \\nTarget: {}'.format(x[1], y[1]))   # 1 positive, 0 negative"
      ],
      "metadata": {
        "colab": {
          "base_uri": "https://localhost:8080/"
        },
        "id": "ninRje-dYKLp",
        "outputId": "be8884f0-5477-4cc7-9876-cb2bf7aacfa6"
      },
      "execution_count": null,
      "outputs": [
        {
          "output_type": "stream",
          "name": "stdout",
          "text": [
            "Sample: b'cast : russell crowe , joaquin phoenix , connie nielsen , oliver reed , derek jacobi , djimon hounsou , richard harris , spencer treat clark written by : david h . franzoni , john logan and william nicholson directed by : ridley scott running time : 157 minutes roman emperor marcus aurelius ( richard harris ) chooses his trusted general maximus ( russell crowe ) as his successor . however the emperor\\'s evil son commodus ( joaquin phoenix ) murders his father before the announcement can be made , and maximus ( as well as his family ) is sentenced to be executed . maximus is able to escape his executioners , but is later captured and sold as a slave to proximo ( oliver reed ) . proximo is looking for gladiators to earn himself money ( he being a former gladiator himself ) , and maximus reluctantly uses his skills to prove himself a powerful gladiator . when emperor commodus announces that new games will be held in the colisseum , proximo takes his gladiators there to do battle . maximus sees this as his chance to exact revenge on commodus . gladiator begins with a great battle sequence between the roman army and germania , and actually is able to maintain interest during the now required \" 40 minutes of exposition after a kick ass opening sequence \" style of moviemaking . the only downfall of the opening sequence is the editing style used . . . it\\'s choppy slow-motion which is unsettling and distracting . it\\'s similar to the opening sequence in saving private ryan , but nowhere near as effective . the actual gladiator battles are thrilling , but also a bit disjointed . many times it\\'s unclear as to exactly what\\'s going on . . . all the audience can tell is that blood is being spilled . we\\'re not sure who\\'s blood or by who\\'s hand though . there\\'s an instance of this earlier in the film too that\\'s disappointing . it\\'s comes when maximus escapes his executioners . some flashes and a few quick cuts later and maximus is free . . . but i still don\\'t know exactly how he did it . russell crowe should have become a major star after his gleefully over the top role as a computer generated serial killer in 1995\\'s virtuosity . for whatever reason his stardom never arrived . . . but he should have it now . from here on moviegoers should now be able to say , \" let\\'s go see the new russell crowe movie \" . he gets the best scene in the film ( and one of the best moments of all recent movies ) when he reveals his identity to commodus in the colisseum . it\\'s both rousing and chilling . joaquin phoenix does a very effective job of making commodus a person and not just a cartoon character ( which could have easily happened ) . commodus is conniving , sneaky and whiny , but phoenix never lets the character get silly . it\\'s a very good ( and very creepy ) performance . oliver reed died during the filming of gladiator , and it\\'s a huge loss to the acting world . i\\'ve always been fascinated with reed . . . he\\'s one of those very talented performers who once had a fine career but ended up in direct to video junk during his twilight years . it\\'s ironic that this film probably would have gotten him back into real movies again , as he gives a fun and sincere performance . the film is dedicated to him , and he will surely be missed . reed\\'s death presented the filmmakers with an obvious problem , as he still had scenes to be completed . rather than recast the role ( and end up reshooting a great deal of footage ) , a digital version of oliver reed was created at a reported cost of 2 million dollars . ironically , that was probably more money than reed ever earned for a single film . anyway , this digital effect is only used in one scene that i am aware of ( for about twenty seconds ) and if you aren\\'t looking for it you won\\'t even be able to tell . some of the other digital effects are less convincing however . . . and like i always say , noticable digital effects take me out of a movie immediately . it\\'s sad that such a good film has these distractions . movies like the fall of the roman empire and spartacus seemed to do okay without the use of computer effects . keep in mind that gladiator is based on real people and real events , but is entirely a work of fiction . however it\\'s a work of fiction that\\'s great entertainment , and another film to add to the list of damn fine flicks released in 2000 a . d . reviewed by chuck dowling - chuckd21@fdn . com aol instant messenger : filmjax the jacksonville film journal http : //www . jaxfilmjournal . com/ \\r\\n' \n",
            "Target: 1\n"
          ]
        }
      ]
    },
    {
      "cell_type": "markdown",
      "source": [
        "Removing unecessary characters from the data"
      ],
      "metadata": {
        "id": "7s_mzysFYfVD"
      }
    },
    {
      "cell_type": "code",
      "source": [
        "nltk.download('wordnet')\n",
        "lemmatizer = WordNetLemmatizer()\n",
        "\n",
        "docs = []\n",
        "docs_str=\"\"\n",
        "\n",
        "for doc in x: \n",
        "    \n",
        "    # Remove non-word (special) characters such as punctuation, numbers etc\n",
        "    document = re.sub(r'\\W', ' ', str(doc))              # \\W matches any single letter, number or underscore\n",
        "\n",
        "    document = re.sub(r'[0-9]',' ', document)\n",
        "\n",
        "    # Remove all single characters\n",
        "    document = re.sub(r'\\s+[a-zA-Z]\\s+', ' ', document)  # unnecessary\n",
        "    \n",
        "    #Remove the bs from the begining.\n",
        "    document = re.sub(r'^[a-zA-Z]\\s+', ' ', document)\n",
        "    # Substitute multiple spaces with single space\n",
        "    document = re.sub(r'\\s+', ' ', document, flags=re.I) # \\s+ means a string of whitespace characters\n",
        "\n",
        "    # Remove all numbers\n",
        "    #document = re.sub(\"^\\d+\\s|\\s\\d+\\s|\\s\\d+$\", \" \", document)\n",
        "\n",
        "    # Convert to Lowercase\n",
        "    document = document.lower()\n",
        "\n",
        "    # Split the document based on whitespaces (--> List of words)\n",
        "    document = document.split()\n",
        "    \n",
        "    # Lemmatization\n",
        "    document = [lemmatizer.lemmatize(word) for word in document]\n",
        "    \n",
        "    # Reconstruct the document by joining the words on each whitespace\n",
        "    document = ' '.join(document)\n",
        "\n",
        "    # Append all documents into a list 'docs'\n",
        "    docs.append(document)\n",
        "    docs_str = ''.join(document)"
      ],
      "metadata": {
        "colab": {
          "base_uri": "https://localhost:8080/"
        },
        "id": "WQYqus-dYJTx",
        "outputId": "faff8dd5-7534-4ae8-e73a-510a63cb0dd2"
      },
      "execution_count": null,
      "outputs": [
        {
          "output_type": "stream",
          "name": "stdout",
          "text": [
            "[nltk_data] Downloading package wordnet to /root/nltk_data...\n",
            "[nltk_data]   Package wordnet is already up-to-date!\n"
          ]
        }
      ]
    },
    {
      "cell_type": "markdown",
      "source": [
        "Average document length"
      ],
      "metadata": {
        "id": "ivE1NDpjvS4T"
      }
    },
    {
      "cell_type": "code",
      "source": [
        "lengths = []\n",
        "for document in docs:\n",
        "  lengths.append(len(document))\n",
        "print(f\"The average review length is {int(np.mean(lengths))} characters.\")"
      ],
      "metadata": {
        "id": "0eD8RqpYD4Cm",
        "colab": {
          "base_uri": "https://localhost:8080/"
        },
        "outputId": "86509050-fc52-4baf-8f3f-eb7db40908f2"
      },
      "execution_count": null,
      "outputs": [
        {
          "output_type": "stream",
          "name": "stdout",
          "text": [
            "The average review length is 3560 characters.\n"
          ]
        }
      ]
    },
    {
      "cell_type": "markdown",
      "source": [
        "Average document length per class"
      ],
      "metadata": {
        "id": "G1d5QLqy8x8d"
      }
    },
    {
      "cell_type": "code",
      "source": [
        "lengths_negative = []\n",
        "lengths_positive = []\n",
        "for i in range(len(docs)):\n",
        "  if y[i] == 0:\n",
        "      lengths_negative.append(len(docs[i]))\n",
        "  else:\n",
        "      lengths_positive.append(len(docs[i]))\n",
        "print(f\"The average review length for the negative class is {int(np.mean(lengths_negative))} characters.\")\n",
        "print(f\"The average review length for the positive class is {int(np.mean(lengths_positive))} characters.\")\n",
        "print(f\"The minimum review length for the negative class is {int(min(lengths_negative))} characters.\")\n",
        "print(f\"The minimum review length for the positive class is {int(min(lengths_positive))} characters.\")\n",
        "print(f\"The max review length for the negative class is {int(max(lengths_negative))} characters.\")\n",
        "print(f\"The max review length for the positive class is {int(max(lengths_positive))} characters.\")"
      ],
      "metadata": {
        "colab": {
          "base_uri": "https://localhost:8080/"
        },
        "id": "p39CTbcY83-q",
        "outputId": "b71f9ec9-8091-41a8-8862-838f88910ec4"
      },
      "execution_count": null,
      "outputs": [
        {
          "output_type": "stream",
          "name": "stdout",
          "text": [
            "The average review length for the negative class is 3346 characters.\n",
            "The average review length for the positive class is 3772 characters.\n",
            "The minimum review length for the negative class is 380 characters.\n",
            "The minimum review length for the positive class is 476 characters.\n",
            "The max review length for the negative class is 10109 characters.\n",
            "The max review length for the positive class is 9919 characters.\n"
          ]
        }
      ]
    },
    {
      "cell_type": "code",
      "source": [
        "tokenized_sents = [word_tokenize(i) for i in docs]\n",
        "tokenized_sents = [item for sublist in tokenized_sents for item in sublist]\n",
        "print(\"The vocabulary consists of\",str(len(np.unique(tokenized_sents)))+\" words.\")"
      ],
      "metadata": {
        "colab": {
          "base_uri": "https://localhost:8080/"
        },
        "id": "Yv0xOw9cIPDu",
        "outputId": "20077e2e-1efa-44d3-ecf0-daa77b9fc4e1"
      },
      "execution_count": null,
      "outputs": [
        {
          "output_type": "stream",
          "name": "stdout",
          "text": [
            "The vocabulary consists of 30797 words.\n"
          ]
        }
      ]
    },
    {
      "cell_type": "markdown",
      "source": [
        "Train test dev split"
      ],
      "metadata": {
        "id": "IEN6Aw0BZBwe"
      }
    },
    {
      "cell_type": "code",
      "source": [
        "x_train, x_test, y_train, y_test = train_test_split(docs, y, test_size=0.2, random_state=13579)\n",
        "\n",
        "x_train, x_dev, y_train, y_dev = train_test_split(x_train, y_train, test_size=0.25, random_state=13579)"
      ],
      "metadata": {
        "id": "GzneRTZ3ZA_t"
      },
      "execution_count": null,
      "outputs": []
    },
    {
      "cell_type": "code",
      "source": [
        "stop_words = list(set(stopwords.words('english')))"
      ],
      "metadata": {
        "id": "Y1D1U3jM9_0i"
      },
      "execution_count": null,
      "outputs": []
    },
    {
      "cell_type": "code",
      "source": [
        "x_train[0]"
      ],
      "metadata": {
        "colab": {
          "base_uri": "https://localhost:8080/",
          "height": 1000
        },
        "id": "FzGgNs_6HBZd",
        "outputId": "67779a6f-9e36-4cde-cd68-ec4758d12531"
      },
      "execution_count": null,
      "outputs": [
        {
          "output_type": "execute_result",
          "data": {
            "text/plain": [
              "'mr nice guy is the latest jackie chan film so you should know what to expect weak plot terrible dialogue very little acting ability but some jaw dropping action sequence that nearly make the rest of it worthwhile however mr nice guy lack the sparkle of jackie best effort and it weakness are more glaring than ever jackie chan play who else jackie this time out he a famous chef who host an australian cooking show not that it ever make difference in the plot there are only two scene of him cooking for the rest of the film somehow he mutates into jackie chan supercop it never doe explain why his character ha such superb martial art skill perhaps he wa in the same cooking class a steven seagal in under siege tv newswoman diana gabrielle fitzpatrick covertly tape drug deal involving kingpin giancarlo richard norton and local gang of tough the demon although she only ha one camcorder somehow the result is full of close ups and multiple angle hmmm shade of broadcast news anyway the goon discover diana and will do anything to recover the tape here lie another crucial flaw in the story doesn anyone realize you can copy tape oh well no one ever said jackie chan movie had to make sense a luck would have it diana run across jackie and wouldn you know it jackie accidentally end up with the tape this lead to countless chase and or fight scene which look like they could have been lifted from rumble in the bronx or nearly any other jackie chan movie in move apparently designed to woo american and other english speaking audience the film us english a it primary language however that doesn mean an end to the atrocious dubbing that ha afflicted jackie recent americanized release strangely many of the character speaking english are overdubbed with english and poorly too whether this is just very bad case of looping an effort to minimize accent or simple case of nostalgia it doe achieve the same level of distraction present in all of jackie dubbed film the plot in mr nice guy is negligible merely an excuse to have jackie on the run from various goon but even though plot have always been second to the action in jackie film it seems odd that the filmmaker have stuck u with this tired retread look if you have jackie chan playing chef why not use that to your advantage watching jackie doing his stuff in kitchen beating the bad guy with foodstuff sound like the perfect setup for innumerable comic stunt the action is mixed bag here there really only one no hold barred fight scene that have become the trademark of jackie film it take place in the arbitrary location of construction site apparently for the sole reason that there are lot of nifty thing lying around that can be useful ala jackie chan the action in the film is neither jackie best nor worst but you long for some more inspiration in the scene the film gratuitous use of slow motion is distracting once or twice it may be useful to highlight spectacular stunt sequence but to slo mo jackie running either this is nod to the six million dollar man or pathetic attempt to disguise the fact that jackie may be slowing down if you ve seen all of jackie film and are in need of another fix go ahead and see mr nice guy however if you re just in the mood for some good action you be better off hitting the video store for some of his better work such a supercop n'"
            ],
            "application/vnd.google.colaboratory.intrinsic+json": {
              "type": "string"
            }
          },
          "metadata": {},
          "execution_count": 13
        }
      ]
    },
    {
      "cell_type": "code",
      "source": [
        "# Use unigram & bi-gram tf*idf features\n",
        "vectorizer = TfidfVectorizer(ngram_range = (1, 2), max_features = 5000, sublinear_tf = True, stop_words = stopwords.words('english'))\n",
        "\n",
        "# Transform on all data (train - test)\n",
        "x_train_tfidf = vectorizer.fit_transform(x_train)\n",
        "x_test_tfidf = vectorizer.transform(x_test)\n",
        "x_dev_tfidf = vectorizer.transform(x_dev)\n",
        "\n",
        "print(vectorizer.get_feature_names())"
      ],
      "metadata": {
        "colab": {
          "base_uri": "https://localhost:8080/"
        },
        "id": "HTAiWyIqH83a",
        "outputId": "5255113d-fb95-41c6-84a7-e5b4edee8e01"
      },
      "execution_count": null,
      "outputs": [
        {
          "output_type": "stream",
          "name": "stdout",
          "text": [
            "['abandon', 'abandoned', 'ability', 'able', 'absent', 'absolute', 'absolutely', 'absurd', 'abuse', 'abyss', 'academy', 'academy award', 'accent', 'accept', 'acceptable', 'accident', 'accidentally', 'acclaimed', 'accomplished', 'according', 'account', 'accurate', 'accused', 'achieve', 'achievement', 'acid', 'across', 'act', 'acted', 'acting', 'acting ability', 'action', 'action comedy', 'action film', 'action hero', 'action movie', 'action scene', 'action sequence', 'action star', 'action thriller', 'activity', 'actor', 'actress', 'actual', 'actually', 'ad', 'adam', 'adam sandler', 'adaptation', 'adapted', 'add', 'added', 'adding', 'addition', 'address', 'admire', 'admit', 'admittedly', 'adult', 'advance', 'advanced', 'advantage', 'adventure', 'advice', 'affair', 'affected', 'affection', 'affleck', 'aforementioned', 'afraid', 'africa', 'african', 'african american', 'afterwards', 'age', 'aged', 'agent', 'aging', 'ago', 'agree', 'agrees', 'ah', 'ahead', 'aid', 'aim', 'aimed', 'air', 'airplane', 'aka', 'akiva', 'al', 'al pacino', 'ala', 'alan', 'albeit', 'albert', 'alda', 'alec', 'alec baldwin', 'alex', 'alfred', 'ali', 'ali larter', 'alice', 'alicia', 'alien', 'alive', 'allen', 'allow', 'allowed', 'allows', 'ally', 'almost', 'almost entirely', 'almost every', 'alone', 'along', 'along way', 'already', 'also', 'also good', 'also ha', 'although', 'altman', 'altogether', 'alvin', 'always', 'amanda', 'amazing', 'amazingly', 'ambitious', 'america', 'american', 'american pie', 'among', 'amongst', 'amount', 'amusing', 'amy', 'anaconda', 'ancient', 'anderson', 'andrew', 'andy', 'angel', 'angela', 'angeles', 'angelina', 'angelina jolie', 'anger', 'angle', 'angry', 'animal', 'animated', 'animated feature', 'animation', 'animator', 'ann', 'anna', 'anne', 'annette', 'annie', 'annoying', 'another', 'another film', 'another one', 'another scene', 'answer', 'anthony', 'anthony hopkins', 'anti', 'antic', 'antonio', 'antonio banderas', 'anybody', 'anymore', 'anyone', 'anyone else', 'anything', 'anything else', 'anyway', 'anywhere', 'aol', 'aol com', 'apart', 'apartment', 'ape', 'apollo', 'apparent', 'apparently', 'appeal', 'appealing', 'appear', 'appearance', 'appeared', 'appeared bloomington', 'appearing', 'appears', 'apple', 'appreciate', 'approach', 'appropriate', 'appropriately', 'apt', 'arab', 'archer', 'archive', 'archive http', 'archived', 'area', 'argento', 'argue', 'argument', 'arm', 'armageddon', 'armed', 'army', 'arnold', 'around', 'arquette', 'arrival', 'arrive', 'arrives', 'art', 'arthur', 'article', 'artificial', 'artist', 'artistic', 'ashley', 'asian', 'aside', 'ask', 'asked', 'asking', 'asks', 'asleep', 'aspect', 'aspect film', 'aspect ratio', 'assassin', 'assembled', 'assigned', 'assignment', 'assistant', 'associate', 'assume', 'assured', 'astronaut', 'atlantic', 'atmosphere', 'attack', 'attacked', 'attempt', 'attempted', 'attempting', 'attention', 'attitude', 'attorney', 'attraction', 'attractive', 'audience', 'audience get', 'audio', 'august', 'austin', 'australia', 'australian', 'authentic', 'author', 'authority', 'available', 'avenger', 'average', 'avoid', 'avoiding', 'awake', 'award', 'aware', 'away', 'awe', 'awesome', 'awful', 'awfully', 'awkward', 'awry', 'aykroyd', 'azaria', 'babe', 'baby', 'babysitter', 'back', 'back forth', 'back together', 'backdrop', 'background', 'bacon', 'bad', 'bad film', 'bad guy', 'bad movie', 'bad see', 'bad thing', 'badly', 'bag', 'bah', 'bail', 'baker', 'balance', 'baldwin', 'ball', 'bamboozled', 'banana', 'band', 'banderas', 'bang', 'bank', 'bar', 'bare', 'barely', 'barry', 'base', 'based', 'based book', 'based novel', 'basic', 'basically', 'basis', 'basketball', 'bastard', 'bat', 'bathroom', 'batman', 'batman robin', 'battle', 'battle scene', 'battlefield', 'battlefield earth', 'bay', 'beach', 'beam', 'bear', 'beast', 'beat', 'beaten', 'beating', 'beatrice', 'beatty', 'beaumarchais', 'beautiful', 'beautiful woman', 'beautifully', 'beauty', 'became', 'beck', 'become', 'becomes', 'becoming', 'bed', 'bedroom', 'began', 'begin', 'beginning', 'behavior', 'behind', 'belief', 'believable', 'believe', 'believed', 'beloved', 'ben', 'ben affleck', 'ben kingsley', 'beneath', 'benefit', 'bening', 'bergman', 'besides', 'best', 'best actor', 'best film', 'best friend', 'best known', 'best movie', 'best performance', 'best thing', 'bet', 'better', 'better film', 'better movie', 'better one', 'betty', 'beyond', 'big', 'big budget', 'big lebowski', 'big screen', 'big time', 'bigger', 'biggest', 'biggs', 'bill', 'bill murray', 'bill paxton', 'billy', 'billy crystal', 'bird', 'birdee', 'birth', 'birthday', 'bit', 'bitch', 'bite', 'bitter', 'bizarre', 'black', 'black comedy', 'black white', 'blade', 'blah', 'blah blah', 'blair', 'blair witch', 'blame', 'bland', 'blank', 'blast', 'blatant', 'blatantly', 'bleak', 'blend', 'blind', 'block', 'blockbuster', 'blonde', 'blood', 'bloody', 'bloom', 'bloomington', 'bloomington indiana', 'blow', 'blown', 'blue', 'blue brother', 'board', 'boast', 'boat', 'bob', 'bob bloom', 'bobby', 'body', 'bomb', 'bond', 'bone', 'bont', 'boogie', 'boogie night', 'book', 'bookstore', 'boot', 'bore', 'bored', 'boring', 'born', 'bos', 'boston', 'bother', 'bottle', 'bottom', 'bought', 'bound', 'bowfinger', 'bowling', 'box', 'box office', 'boxing', 'boy', 'boyfriend', 'brad', 'brain', 'branagh', 'brand', 'brandon', 'brandon herring', 'break', 'breakdown', 'breaking', 'breast', 'breath', 'bresson', 'brian', 'bride', 'bridge', 'bridget', 'bridget fonda', 'brief', 'briefly', 'bright', 'brilliant', 'brilliantly', 'bring', 'bringing', 'brings', 'british', 'broad', 'broadcast', 'broadway', 'broderick', 'broken', 'bronx', 'brook', 'bros', 'brosnan', 'brother', 'brought', 'brown', 'bruce', 'bruce willis', 'brutal', 'brutally', 'buck', 'bud', 'buddy', 'budget', 'buff', 'bug', 'build', 'building', 'built', 'bullet', 'bullock', 'bulow', 'bulworth', 'bunch', 'bunny', 'burn', 'burning', 'burst', 'bus', 'buscemi', 'busey', 'business', 'businessman', 'busy', 'butt', 'buy', 'bvoice', 'bvoice com', 'byrne', 'ca', 'ca sps', 'cab', 'cable', 'cage', 'california', 'call', 'called', 'calling', 'came', 'cameo', 'camera', 'camera angle', 'camerawork', 'cameron', 'cameron diaz', 'camp', 'campaign', 'campbell', 'campy', 'canada', 'canadian', 'candidate', 'candy', 'cannot', 'capable', 'capsule', 'captain', 'capture', 'captured', 'car', 'car chase', 'card', 'care', 'career', 'carefully', 'caricature', 'carl', 'carlito', 'carlos', 'carmen', 'carnage', 'carpenter', 'carrey', 'carried', 'carry', 'carter', 'cartoon', 'casablanca', 'case', 'cash', 'cast', 'cast member', 'casting', 'cat', 'catch', 'catch one', 'catching', 'category', 'catherine', 'catherine zeta', 'catholic', 'caught', 'cause', 'caused', 'causing', 'cave', 'cd', 'celebrity', 'cell', 'center', 'central', 'centre', 'century', 'certain', 'certainly', 'certificate', 'certificate minute', 'cesar', 'cgi', 'chain', 'chair', 'challenge', 'challenging', 'chamber', 'champion', 'chan', 'chance', 'change', 'changed', 'changing', 'channel', 'character', 'character actor', 'character development', 'character even', 'character film', 'character get', 'character ha', 'character like', 'character one', 'character play', 'character played', 'character wa', 'character well', 'characterization', 'charge', 'charged', 'charisma', 'charismatic', 'charles', 'charlie', 'charlize', 'charlize theron', 'charm', 'charming', 'chase', 'chasing', 'cheadle', 'cheap', 'cheating', 'check', 'cheerleader', 'cheese', 'cheesy', 'chemistry', 'chest', 'chicago', 'chicken', 'chicken run', 'chief', 'child', 'childers', 'childhood', 'childish', 'chilling', 'china', 'chinese', 'choice', 'choose', 'chooses', 'chore', 'chose', 'chosen', 'chow', 'chris', 'chris donnell', 'chris tucker', 'christian', 'christina', 'christmas', 'christopher', 'chuck', 'chuck dowling', 'chuckd', 'chuckle', 'chucky', 'church', 'cia', 'cigarette', 'cinema', 'cinematic', 'cinematographer', 'cinematography', 'circle', 'circumstance', 'citizen', 'city', 'civil', 'civil action', 'civilization', 'clad', 'claim', 'claire', 'claire dane', 'clara', 'clark', 'clash', 'class', 'classic', 'claude', 'claude van', 'claudia', 'clean', 'clear', 'clearly', 'clever', 'clich', 'clich xe', 'cliche', 'cliched', 'client', 'cliff', 'climactic', 'climax', 'clock', 'clone', 'clooney', 'close', 'close ups', 'closely', 'closer', 'closing', 'clothes', 'cloud', 'clown', 'club', 'clue', 'co', 'co star', 'co worker', 'coach', 'coast', 'code', 'coen', 'coffee', 'coincidence', 'cold', 'cole', 'collapse', 'colleague', 'collection', 'college', 'colonel', 'color', 'colorful', 'columbia', 'com', 'com film', 'com hollywood', 'com http', 'com misc', 'com present', 'com reviews_by', 'com reviewsby', 'com ukcritic', 'combat', 'combination', 'combine', 'combined', 'come', 'come across', 'come along', 'come back', 'comeback', 'comedian', 'comedic', 'comedy', 'comet', 'comic', 'comic book', 'comic relief', 'comical', 'coming', 'command', 'comment', 'commentary', 'commercial', 'committed', 'common', 'communication', 'community', 'companion', 'company', 'compare', 'compared', 'comparison', 'compelling', 'competition', 'complaint', 'complete', 'completely', 'complex', 'complicated', 'composed', 'computer', 'computer generated', 'con', 'conceived', 'concentrate', 'concept', 'concern', 'concerned', 'concerning', 'concert', 'conclusion', 'condition', 'confidence', 'confident', 'conflict', 'confrontation', 'confused', 'confusing', 'confusion', 'connected', 'connection', 'connell', 'connery', 'connie', 'conscious', 'consequence', 'consequently', 'consider', 'considerable', 'considered', 'considering', 'consistently', 'consists', 'conspiracy', 'conspiracy theory', 'constant', 'constantly', 'contact', 'contacted', 'contain', 'containing', 'contains', 'contemporary', 'contempt', 'content', 'contest', 'context', 'continually', 'continue', 'continues', 'contract', 'contrast', 'contrived', 'control', 'controlled', 'convenient', 'convention', 'conventional', 'conversation', 'conviction', 'convince', 'convinced', 'convincing', 'cookie', 'cool', 'cooper', 'cop', 'copy', 'copyright', 'copyright ian', 'copyright xa', 'core', 'corky', 'corner', 'corny', 'corporate', 'correct', 'corrupt', 'corruption', 'cost', 'costume', 'could', 'could done', 'could easily', 'could really', 'could see', 'counselor', 'count', 'countless', 'country', 'country origin', 'couple', 'courage', 'courier', 'course', 'court', 'courtroom', 'cousin', 'cover', 'covered', 'cowboy', 'cox', 'coyote', 'crack', 'crafted', 'craig', 'crap', 'crash', 'craven', 'crazy', 'cream', 'create', 'created', 'creates', 'creating', 'creation', 'creative', 'creator', 'creature', 'credibility', 'credible', 'credit', 'credit http', 'creepy', 'crew', 'crichton', 'crime', 'criminal', 'crisis', 'critic', 'critical', 'critically', 'criticism', 'critique', 'cromwell', 'cronenberg', 'cross', 'crossing', 'crow', 'crowd', 'crowe', 'crown', 'crucial', 'crude', 'cruel', 'cruise', 'crush', 'cry', 'crystal', 'cuba', 'cuban', 'cult', 'cultural', 'culture', 'cure', 'curiosity', 'curious', 'current', 'currently', 'curtis', 'cusack', 'customer', 'cut', 'cute', 'cutting', 'cynical', 'dad', 'daily', 'daisy', 'damage', 'damme', 'damn', 'damned', 'damon', 'dan', 'dance', 'dancing', 'dane', 'danger', 'dangerous', 'daniel', 'danny', 'danny devito', 'dante', 'dante peak', 'danza', 'dare', 'dark', 'dark city', 'darkness', 'darryl', 'database', 'date', 'dated', 'dating', 'daughter', 'dave', 'david', 'david arquette', 'david lynch', 'davis', 'dawn', 'dawson', 'day', 'de', 'de bont', 'de niro', 'de palma', 'dead', 'dead bang', 'deadly', 'deal', 'deal online', 'dealer', 'dealing', 'dealt', 'dean', 'death', 'debate', 'debt', 'debut', 'decade', 'december', 'decent', 'decide', 'decided', 'decidedly', 'decides', 'decision', 'dedicated', 'deep', 'deep impact', 'deeper', 'deeply', 'defense', 'definitely', 'degeneres', 'degree', 'deja', 'delight', 'delightful', 'deliver', 'delivered', 'delivers', 'delivery', 'demand', 'demon', 'demonstrates', 'denise', 'denise richards', 'dennis', 'denzel', 'denzel washington', 'depalma', 'department', 'depicted', 'depressing', 'depth', 'derek', 'describe', 'described', 'describes', 'description', 'desert', 'deserve', 'deserved', 'deserves', 'design', 'designed', 'designer', 'desire', 'desperate', 'desperately', 'despite', 'despite fact', 'destination', 'destined', 'destiny', 'destroy', 'destroyed', 'destruction', 'detail', 'detailed', 'detective', 'determine', 'determined', 'develop', 'developed', 'developing', 'development', 'develops', 'device', 'devil', 'devine', 'devito', 'devoid', 'devoted', 'dewey', 'dialog', 'dialogue', 'diamond', 'diane', 'diaz', 'dicaprio', 'dick', 'die', 'die hard', 'died', 'diesel', 'difference', 'different', 'difficult', 'difficulty', 'dig', 'digital', 'dillon', 'dimension', 'dimensional', 'dinner', 'direct', 'directed', 'directed john', 'directing', 'direction', 'directly', 'director', 'director john', 'director peter', 'directorial', 'dirt', 'dirty', 'disappears', 'disappointed', 'disappointing', 'disappointment', 'disaster', 'disaster film', 'disbelief', 'disc', 'discover', 'discovered', 'discovers', 'discovery', 'discus', 'discussing', 'discussion', 'disease', 'disguise', 'disney', 'disney film', 'display', 'distance', 'distant', 'distinctive', 'distracted', 'distracting', 'distraction', 'distributed', 'distribution', 'distributor', 'disturbing', 'divorce', 'doctor', 'documentary', 'doe', 'doe film', 'doe good', 'dog', 'doll', 'dollar', 'donald', 'donald sutherland', 'done', 'donnell', 'doom', 'doomed', 'door', 'double', 'double cross', 'doubt', 'douglas', 'dowling', 'downright', 'dozen', 'dr', 'drag', 'dragon', 'drama', 'dramatic', 'draw', 'drawing', 'drawn', 'dream', 'dream sequence', 'dreamworks', 'dress', 'dressed', 'dreyfus', 'drill', 'drink', 'drinking', 'drive', 'driven', 'driver', 'driving', 'drop', 'drowning', 'drug', 'drug use', 'drunk', 'drunken', 'drunken master', 'dry', 'dubbed', 'dubious', 'dud', 'dude', 'due', 'duke', 'dull', 'dumb', 'dungeon', 'duo', 'dustin', 'dustin putman', 'duty', 'duvall', 'dvd', 'dy', 'dying', 'dynamic', 'eager', 'ear', 'earlier', 'early', 'earth', 'easily', 'east', 'easy', 'eat', 'eating', 'eats', 'ebert', 'eccentric', 'ed', 'eddie', 'eddie murphy', 'edge', 'edited', 'editing', 'edition', 'editor', 'edu', 'edu jpeck', 'edu visit', 'edward', 'edward burn', 'effect', 'effective', 'effectively', 'effort', 'egg', 'eight', 'einstein', 'either', 'ejohnsonott', 'el', 'elaborate', 'elderly', 'element', 'elijah', 'elijah wood', 'elisabeth', 'elise', 'elizabeth', 'ellen', 'elli', 'ellie', 'elliott', 'else', 'elwood', 'email', 'embarrassed', 'embarrassing', 'embarrassment', 'emily', 'emma', 'emmerich', 'emotion', 'emotional', 'emotionally', 'empire', 'employ', 'emporium', 'emporium nsf', 'empty', 'encounter', 'encourage', 'end', 'end credit', 'end film', 'end movie', 'endearing', 'ended', 'ending', 'endless', 'endure', 'enemy', 'energetic', 'energy', 'engaging', 'england', 'english', 'engrossing', 'enhanced', 'enjoy', 'enjoy pain', 'enjoyable', 'enjoyed', 'enjoying', 'enjoyment', 'enormous', 'enough', 'enough make', 'ensemble', 'enter', 'enters', 'entertain', 'entertained', 'entertaining', 'entertainment', 'entire', 'entire film', 'entire movie', 'entirely', 'entry', 'environment', 'ephron', 'epic', 'episode', 'epps', 'equal', 'equally', 'er', 'era', 'eric', 'erin', 'erotic', 'error', 'escape', 'especially', 'esque', 'essential', 'essentially', 'established', 'et', 'et al', 'etc', 'ethan', 'eugene', 'eva', 'eve', 'even', 'even better', 'even get', 'even though', 'even worse', 'evening', 'event', 'event horizon', 'eventually', 'ever', 'ever made', 'ever seen', 'everett', 'every', 'every character', 'every scene', 'every single', 'every time', 'everybody', 'everyone', 'everyone else', 'everything', 'everything else', 'evidence', 'evil', 'ex', 'exact', 'exactly', 'example', 'excellent', 'except', 'exception', 'excessive', 'exchange', 'excite', 'excite com', 'excited', 'excitement', 'exciting', 'excuse', 'executed', 'execution', 'executive', 'exercise', 'exist', 'existence', 'existenz', 'exists', 'exorcist', 'expect', 'expectation', 'expected', 'expecting', 'expensive', 'experience', 'experienced', 'experiment', 'expert', 'explain', 'explained', 'explaining', 'explains', 'explanation', 'explicit', 'exploit', 'explore', 'explosion', 'explosive', 'express', 'expression', 'extended', 'extent', 'extra', 'extraordinary', 'extreme', 'extremely', 'extremely well', 'eye', 'eyed', 'face', 'faced', 'fact', 'fact film', 'factor', 'factory', 'faculty', 'fail', 'failed', 'failing', 'fails', 'failure', 'fair', 'fairly', 'fairy', 'faith', 'faithful', 'fake', 'fall', 'fall apart', 'fall flat', 'fall love', 'fallen', 'falling', 'false', 'fame', 'familiar', 'family', 'family film', 'famke', 'famous', 'fan', 'fancy', 'fantastic', 'fantasy', 'far', 'farce', 'fare', 'fargo', 'farina', 'farm', 'farrelly', 'farrelly brother', 'farrellys', 'fascinating', 'fashion', 'fashioned', 'fast', 'fast paced', 'fat', 'fatal', 'fate', 'father', 'fault', 'favor', 'favorite', 'fbi', 'fbi agent', 'fear', 'feat', 'feature', 'feature film', 'featured', 'featuring', 'february', 'fed', 'federation', 'feel', 'feel good', 'feel like', 'feeling', 'fei', 'fei hong', 'felix', 'fell', 'fellow', 'felt', 'felt like', 'female', 'festival', 'fi', 'fi film', 'fichtner', 'fiction', 'fiction film', 'fictional', 'field', 'fiennes', 'fifteen', 'fifteen minute', 'fifth', 'fifty', 'fight', 'fight scene', 'fighting', 'figure', 'file', 'fill', 'filled', 'filling', 'film', 'film actually', 'film also', 'film bad', 'film based', 'film begin', 'film character', 'film come', 'film could', 'film critic', 'film director', 'film doe', 'film end', 'film even', 'film ever', 'film festival', 'film first', 'film get', 'film give', 'film good', 'film ha', 'film however', 'film journal', 'film least', 'film like', 'film made', 'film make', 'film maker', 'film making', 'film many', 'film might', 'film much', 'film never', 'film noir', 'film one', 'film open', 'film really', 'film review', 'film seems', 'film seen', 'film set', 'film show', 'film since', 'film star', 'film start', 'film take', 'film time', 'film two', 'film wa', 'film way', 'film well', 'film work', 'film would', 'film year', 'filmcritic', 'filmcritic com', 'filmed', 'filming', 'filmmaker', 'filmmaking', 'final', 'final scene', 'finale', 'finally', 'find', 'find review', 'finding', 'fine', 'finest', 'finger', 'finish', 'finished', 'fire', 'fired', 'firefighter', 'first', 'first film', 'first half', 'first hour', 'first movie', 'first one', 'first place', 'first rate', 'first time', 'first two', 'fish', 'fishburne', 'fisher', 'fit', 'fitting', 'five', 'five minute', 'five star', 'five year', 'fix', 'flair', 'flame', 'flash', 'flashback', 'flashy', 'flat', 'flaw', 'flawed', 'flesh', 'flick', 'flight', 'float', 'floating', 'floor', 'flubber', 'fluff', 'fly', 'flying', 'flynt', 'focus', 'focused', 'foley', 'folk', 'follow', 'followed', 'following', 'follows', 'fonda', 'food', 'fool', 'foot', 'footage', 'football', 'force', 'forced', 'forcing', 'ford', 'foreign', 'forest', 'forever', 'forewarned', 'forget', 'forgettable', 'forgotten', 'form', 'former', 'formula', 'formulaic', 'forster', 'forsythe', 'forth', 'fortunately', 'fortune', 'forty', 'forward', 'foster', 'foul', 'found', 'four', 'fourth', 'fox', 'frame', 'framed', 'france', 'francis', 'frank', 'frankie', 'franklin', 'frankly', 'frantic', 'freak', 'fred', 'free', 'freedom', 'freeman', 'french', 'frequency', 'frequent', 'frequently', 'fresh', 'friday', 'friend', 'friend wedding', 'friendly', 'friendship', 'frightening', 'front', 'fry', 'fu', 'fugitive', 'full', 'full credit', 'fully', 'fun', 'fun watch', 'function', 'fund', 'funnier', 'funniest', 'funny', 'future', 'futuristic', 'gabriel', 'gadget', 'gag', 'gain', 'gal', 'galaxy', 'gale', 'gallery', 'gambling', 'game', 'gang', 'gangster', 'garbage', 'garofalo', 'gary', 'gary sinise', 'gas', 'gate', 'gattaca', 'gave', 'gavin', 'gay', 'gear', 'gellar', 'gem', 'gene', 'general', 'generally', 'generate', 'generated', 'generation', 'generic', 'genius', 'genre', 'gentle', 'gentleman', 'genuine', 'genuinely', 'geocities', 'geocities com', 'geoffrey', 'geoffrey rush', 'george', 'george clooney', 'gere', 'german', 'geronimo', 'gerry', 'get', 'get away', 'get back', 'get caught', 'get free', 'get involved', 'get job', 'get killed', 'get see', 'getting', 'ghost', 'ghost mar', 'giant', 'gibson', 'gift', 'gigantic', 'gilmore', 'gimmick', 'gina', 'giovanni', 'giovanni ribisi', 'girl', 'girlfriend', 'give', 'give away', 'give film', 'give one', 'given', 'giving', 'gl', 'gl umbc', 'glad', 'glance', 'glass', 'glenn', 'glimpse', 'gloria', 'glory', 'glover', 'go', 'go back', 'go see', 'go wrong', 'goal', 'god', 'godzilla', 'going', 'going happen', 'gold', 'goldberg', 'goldblum', 'golden', 'gone', 'gonna', 'good', 'good actor', 'good film', 'good guy', 'good hunting', 'good idea', 'good job', 'good laugh', 'good movie', 'good old', 'good one', 'good performance', 'good thing', 'good time', 'goodman', 'goofy', 'gordon', 'gore', 'gorgeous', 'gorilla', 'gory', 'got', 'got mail', 'gotten', 'government', 'grab', 'grace', 'grade', 'gradually', 'grady', 'graham', 'grand', 'granger', 'grant', 'granted', 'graphic', 'gratuitous', 'grease', 'great', 'great deal', 'great film', 'great flick', 'great job', 'greater', 'greatest', 'green', 'greg', 'grier', 'griffith', 'grim', 'gross', 'ground', 'group', 'grow', 'growing', 'grown', 'grows', 'guard', 'guess', 'guessed', 'guessing', 'guest', 'guidance', 'guilty', 'guilty pleasure', 'gun', 'guy', 'gwyneth', 'gwyneth paltrow', 'ha', 'ha already', 'ha become', 'ha come', 'ha created', 'ha done', 'ha good', 'ha great', 'ha ha', 'ha little', 'ha lot', 'ha made', 'ha never', 'ha nothing', 'ha one', 'ha seen', 'ha written', 'habit', 'hack', 'hackman', 'hair', 'hal', 'half', 'half film', 'half hour', 'half star', 'halfway', 'hall', 'halloween', 'ham', 'han', 'hand', 'handed', 'handful', 'handle', 'handled', 'handsome', 'hang', 'hanging', 'hank', 'hank meg', 'hannah', 'happen', 'happened', 'happening', 'happens', 'happily', 'happiness', 'happy', 'hara', 'hard', 'hard time', 'hardly', 'harmless', 'harold', 'harrelson', 'harris', 'harrison', 'harrison ford', 'harry', 'hart', 'harvey', 'hat', 'hate', 'hated', 'haunted', 'haunting', 'hayek', 'head', 'headed', 'hear', 'heard', 'hearing', 'heart', 'hearted', 'heartfelt', 'heat', 'heather', 'heaven', 'heavily', 'heavy', 'heche', 'heck', 'heist', 'held', 'helen', 'helicopter', 'hell', 'help', 'helped', 'helping', 'hence', 'henry', 'henstridge', 'hero', 'heroine', 'herring', 'heston', 'hewitt', 'hey', 'hidden', 'hide', 'hideous', 'hiding', 'high', 'high school', 'higher', 'highlight', 'highly', 'hilarious', 'hilary', 'hill', 'hill house', 'hint', 'hip', 'hire', 'hired', 'historical', 'history', 'hit', 'hit miss', 'hitchcock', 'hitman', 'ho', 'hockey', 'hoffman', 'hogarth', 'hokey', 'hold', 'holding', 'hole', 'holiday', 'hollow', 'holly', 'hollywood', 'hollywood movie', 'homage', 'home', 'home alone', 'home video', 'hometown', 'homosexual', 'honest', 'hong', 'hong kong', 'hood', 'hook', 'hope', 'hopefully', 'hopelessly', 'hoping', 'hopkins', 'hopper', 'horizon', 'horrible', 'horribly', 'horror', 'horror film', 'horror movie', 'horse', 'horse whisperer', 'hospital', 'host', 'hostage', 'hot', 'hotel', 'hotmail', 'hotmail com', 'hour', 'hour film', 'hour half', 'hour minute', 'house', 'household', 'howard', 'however', 'hrundi', 'htm', 'html', 'http', 'http imdb', 'http member', 'http www', 'hubbard', 'huge', 'hugh', 'hughes', 'hugo', 'human', 'humanity', 'humbert', 'humor', 'humorous', 'humour', 'hundred', 'hunt', 'hunter', 'hunting', 'hurricane', 'hurt', 'husband', 'hush', 'hype', 'ian', 'ian waldron', 'ice', 'idea', 'ideal', 'identify', 'identity', 'idiot', 'idiotic', 'ignored', 'ii', 'iii', 'ill', 'illegal', 'image', 'imagery', 'imagination', 'imagine', 'imdb', 'imdb com', 'imitation', 'immediate', 'immediately', 'immigrant', 'impact', 'important', 'importantly', 'impossible', 'impressed', 'impression', 'impressive', 'improved', 'improvement', 'inane', 'incident', 'include', 'included', 'includes', 'including', 'incoherent', 'incomprehensible', 'increasingly', 'incredible', 'incredibly', 'indeed', 'independence', 'independence day', 'independent', 'index', 'index html', 'indian', 'indiana', 'indiana michael', 'indie', 'individual', 'industry', 'inept', 'inevitable', 'inevitably', 'influence', 'influenced', 'information', 'ingredient', 'initial', 'initially', 'injury', 'inkpot', 'inner', 'innocence', 'innocent', 'insane', 'inside', 'insight', 'insightful', 'insists', 'inspector', 'inspiration', 'inspired', 'inspiring', 'installment', 'instance', 'instant', 'instantly', 'instead', 'instinct', 'insult', 'insulting', 'insurance', 'intellectual', 'intelligence', 'intelligent', 'intended', 'intense', 'intensity', 'intention', 'interaction', 'interest', 'interested', 'interesting', 'interesting character', 'international', 'internet', 'internet movie', 'interpretation', 'interview', 'intriguing', 'introduced', 'introduces', 'introduction', 'invasion', 'invention', 'inventive', 'investigate', 'investigating', 'investigation', 'investigator', 'invisible', 'involve', 'involved', 'involves', 'involving', 'irene', 'irish', 'iron', 'iron giant', 'ironic', 'ironically', 'irony', 'irritating', 'island', 'issue', 'italian', 'item', 'jack', 'jackal', 'jackie', 'jackie brown', 'jackie chan', 'jackson', 'jacksonville', 'jacksonville film', 'jail', 'jake', 'james', 'james bond', 'james cromwell', 'james wood', 'jamie', 'jamie kennedy', 'jamie lee', 'jamie peck', 'jan', 'jan de', 'jane', 'january', 'japanese', 'jar', 'jason', 'jaw', 'jaxfilmjournal', 'jaxfilmjournal com', 'jay', 'jealous', 'jean', 'jean claude', 'jeff', 'jeffrey', 'jennifer', 'jennifer lopez', 'jenny', 'jeremy', 'jerk', 'jerry', 'jerry connell', 'jesse', 'jesus', 'jet', 'jewish', 'jill', 'jim', 'jim carrey', 'jimmie', 'jimmy', 'joan', 'job', 'joblo', 'joblo com', 'jock', 'joe', 'joe young', 'joel', 'joey', 'john', 'john carpenter', 'john goodman', 'john travolta', 'john woo', 'johnny', 'johnson', 'johnson ott', 'join', 'joint', 'joke', 'joker', 'jolie', 'jon', 'jon voight', 'jonathan', 'jones', 'jordan', 'joseph', 'josh', 'joshua', 'journal', 'journal courier', 'journal http', 'journalist', 'journey', 'joy', 'jpeck', 'jpeck gl', 'jr', 'judd', 'judge', 'judging', 'judgment', 'judy', 'julia', 'julia robert', 'julianne', 'julie', 'jump', 'jumping', 'jungle', 'junk', 'jurassic', 'jurassic park', 'justice', 'justin', 'justin felix', 'juvenile', 'kane', 'karen', 'kate', 'kathleen', 'kattan', 'kaufman', 'kay', 'kaye', 'keanu', 'keanu reef', 'keaton', 'keep', 'keeping', 'keitel', 'keith', 'kelly', 'ken', 'kennedy', 'kenneth', 'kenny', 'kept', 'kermit', 'kevin', 'kevin bacon', 'kevin williamson', 'key', 'kick', 'kicking', 'kid', 'kidnapped', 'kidnapping', 'kill', 'killed', 'killer', 'killing', 'kilmer', 'kim', 'kind', 'kind movie', 'king', 'kingsley', 'kinnear', 'kip', 'kirk', 'kiss', 'kissing', 'kit', 'klein', 'kline', 'knee', 'knew', 'knight', 'knock', 'know', 'know going', 'know last', 'knowing', 'knowledge', 'known', 'known fact', 'kong', 'kubrick', 'kudrow', 'kung', 'kung fu', 'kurosawa', 'kurt', 'kyle', 'la', 'la vega', 'labor', 'lack', 'lacking', 'lady', 'laid', 'lake', 'lama', 'lamb', 'lame', 'lancelot', 'land', 'landscape', 'lane', 'lange', 'language', 'lara', 'large', 'largely', 'larger', 'larry', 'larry flynt', 'larter', 'last', 'last night', 'last summer', 'last year', 'late', 'late night', 'lately', 'later', 'latest', 'latter', 'laugh', 'laughable', 'laughably', 'laughed', 'laughing', 'laughter', 'laura', 'lauren', 'laurence', 'laurie', 'law', 'lawrence', 'lawyer', 'lazy', 'le', 'lead', 'lead role', 'leader', 'leading', 'leaf', 'league', 'lean', 'leap', 'learn', 'learned', 'learning', 'learns', 'least', 'least one', 'leather', 'leave', 'leaving', 'lebowski', 'led', 'leder', 'lee', 'lee curtis', 'lee jones', 'left', 'leg', 'legal', 'legend', 'legendary', 'leigh', 'leila', 'length', 'leo', 'leonard', 'leonardo', 'leonardo dicaprio', 'leoni', 'lerner', 'lesbian', 'leslie', 'lesson', 'let', 'lethal', 'lethal weapon', 'letter', 'letting', 'level', 'levinson', 'levy', 'lewis', 'li', 'liam', 'liam neeson', 'libby', 'lie', 'lieutenant', 'liev', 'liev schreiber', 'life', 'lifeless', 'lifestyle', 'lifetime', 'lifted', 'light', 'lighting', 'likable', 'like', 'like film', 'like many', 'like movie', 'like one', 'like wa', 'likeable', 'liked', 'likely', 'lili', 'lili taylor', 'limit', 'limited', 'linda', 'line', 'liner', 'link', 'lip', 'lisa', 'list', 'listen', 'listening', 'lit', 'literally', 'little', 'little bit', 'little girl', 'little known', 'live', 'live action', 'lived', 'lively', 'living', 'lloyd', 'load', 'local', 'located', 'location', 'lock', 'logic', 'london', 'lonely', 'long', 'long time', 'longer', 'look', 'look like', 'looked', 'looking', 'looking back', 'looking like', 'loose', 'loosely', 'lopez', 'lord', 'los', 'los angeles', 'lose', 'loser', 'loses', 'losing', 'loss', 'lost', 'lost space', 'lost world', 'lot', 'lou', 'loud', 'louis', 'louisiana', 'lousy', 'love', 'love interest', 'love story', 'loved', 'lovely', 'lover', 'loving', 'low', 'low budget', 'lower', 'loyal', 'luc', 'lucas', 'luck', 'luckily', 'lucky', 'lucy', 'ludicrous', 'luis', 'luke', 'lynch', 'lynn', 'macdonald', 'machine', 'macho', 'macy', 'mad', 'made', 'made see', 'madness', 'mafia', 'magazine', 'maggie', 'magic', 'magical', 'magnificent', 'magoo', 'mail', 'mail jpeck', 'mailto', 'mailto redman', 'main', 'main character', 'mainly', 'mainstream', 'major', 'majority', 'make', 'make film', 'make fun', 'make good', 'make movie', 'make much', 'make one', 'make sense', 'make sure', 'make wonder', 'maker', 'makeup', 'making', 'making film', 'male', 'malick', 'malkovich', 'mall', 'mamet', 'man', 'man ha', 'manage', 'managed', 'manager', 'manages', 'manipulative', 'mankind', 'mann', 'manner', 'mansion', 'many', 'many film', 'many movie', 'many people', 'many scene', 'many thing', 'many time', 'many way', 'many year', 'mar', 'marc', 'march', 'marco', 'maria', 'marie', 'marine', 'mark', 'market', 'marketing', 'marlon', 'marlon wayans', 'marriage', 'married', 'marry', 'marshall', 'martha', 'martial', 'martial art', 'martin', 'martin lawrence', 'marty', 'marvelous', 'mary', 'mask', 'mass', 'massive', 'master', 'masterpiece', 'match', 'mate', 'material', 'matrix', 'matt', 'matt damon', 'matt dillon', 'matter', 'matthew', 'mature', 'max', 'may', 'may well', 'maybe', 'mcconaughey', 'mcdonald', 'mcgregor', 'mckellar', 'meadow', 'meal', 'mean', 'meaning', 'meant', 'meanwhile', 'measure', 'medical', 'mediocre', 'medium', 'meet', 'meeting', 'meg', 'meg ryan', 'mel', 'mel gibson', 'melanie', 'melodrama', 'melodramatic', 'melvin', 'member', 'member aol', 'memorable', 'memory', 'memphis', 'men', 'men black', 'menace', 'mental', 'mention', 'mentioned', 'mercury', 'mercury rising', 'mere', 'merely', 'merit', 'mermaid', 'mess', 'message', 'messenger', 'met', 'metal', 'metaphor', 'method', 'mexico', 'meyer', 'mia', 'miami', 'michael', 'michael keaton', 'michael redman', 'michel', 'michelle', 'michelle gellar', 'mickey', 'mid', 'middle', 'middle aged', 'midnight', 'might', 'might well', 'mighty', 'mighty joe', 'mike', 'mild', 'mildly', 'mile', 'military', 'milk', 'mill', 'miller', 'million', 'million dollar', 'millionaire', 'mimi', 'min', 'mind', 'minded', 'mindless', 'mine', 'minnie', 'minnie driver', 'minor', 'minute', 'minute country', 'minute film', 'minute movie', 'minute rated', 'miracle', 'miramax', 'mirror', 'misc', 'misc emporium', 'miscast', 'misery', 'misguided', 'miss', 'missed', 'missing', 'mission', 'mission impossible', 'mission mar', 'mistake', 'mitchell', 'mix', 'mixed', 'mo', 'mob', 'mod', 'mod squad', 'model', 'modern', 'molly', 'mom', 'moment', 'moment film', 'momentum', 'mona', 'money', 'monkey', 'monkey bone', 'monster', 'montage', 'montana', 'month', 'monty', 'mood', 'moon', 'moore', 'moral', 'morgan', 'morgan freeman', 'morning', 'moronic', 'morrison', 'mortal', 'mostly', 'mother', 'motif', 'motion', 'motion picture', 'motivation', 'mountain', 'mouse', 'mouth', 'move', 'moved', 'movement', 'movie', 'movie bad', 'movie could', 'movie critic', 'movie database', 'movie doe', 'movie end', 'movie even', 'movie ever', 'movie first', 'movie get', 'movie go', 'movie good', 'movie ha', 'movie hit', 'movie html', 'movie know', 'movie like', 'movie made', 'movie make', 'movie movie', 'movie one', 'movie really', 'movie review', 'movie seen', 'movie star', 'movie take', 'movie wa', 'movie well', 'movie would', 'movie year', 'moving', 'mpaa', 'mpaa rating', 'mr', 'mr magoo', 'mtv', 'much', 'much better', 'much film', 'much going', 'much like', 'much time', 'mulan', 'mulder', 'mulholland', 'mulholland drive', 'multi', 'multiple', 'mun', 'mun ca', 'murder', 'murdered', 'murderer', 'muriel', 'murphy', 'murray', 'museum', 'music', 'music video', 'musical', 'musician', 'musketeer', 'must', 'myers', 'mysterious', 'mystery', 'nail', 'naive', 'naked', 'name', 'named', 'narration', 'narrative', 'narrator', 'nasty', 'natasha', 'natasha henstridge', 'nathaniel', 'nation', 'national', 'native', 'natural', 'naturally', 'nature', 'nazi', 'neal', 'near', 'nearby', 'nearly', 'nearly every', 'neat', 'necessarily', 'necessary', 'ned', 'ned devine', 'need', 'needed', 'needle', 'neeson', 'negative', 'neighbor', 'neighborhood', 'neil', 'neither', 'neo', 'nerd', 'nerve', 'nervous', 'net', 'network', 'neurotic', 'neve', 'neve campbell', 'never', 'never get', 'never really', 'never see', 'never seen', 'nevertheless', 'new', 'new film', 'new line', 'new york', 'newcomer', 'newest', 'newman', 'news', 'newspaper', 'newton', 'next', 'next day', 'nice', 'nice guy', 'nicely', 'nicholas', 'nicholson', 'nick', 'nicolas', 'nicolas cage', 'nicole', 'nielsen', 'nifty', 'night', 'night live', 'nightmare', 'nine', 'ninety', 'niro', 'noble', 'nobody', 'nod', 'noir', 'noise', 'nominated', 'nomination', 'non', 'none', 'nonetheless', 'nonsense', 'norm', 'normal', 'normally', 'norman', 'north', 'norton', 'notable', 'notably', 'notch', 'note', 'nothing', 'nothing else', 'notice', 'noticed', 'notion', 'notting', 'notting hill', 'novel', 'november', 'nowhere', 'nsf', 'nsf cd', 'nuclear', 'nudity', 'number', 'numerous', 'nurse', 'nuvo', 'object', 'obligatory', 'obnoxious', 'obsessed', 'obsession', 'obvious', 'obviously', 'occasion', 'occasional', 'occasionally', 'occur', 'occurs', 'ocean', 'october', 'odd', 'oddly', 'odds', 'odyssey', 'offensive', 'offer', 'offered', 'offering', 'office', 'officer', 'official', 'often', 'oh', 'oh yeah', 'ok', 'okay', 'old', 'old fashioned', 'old friend', 'old man', 'older', 'oliver', 'oliver platt', 'omar', 'omar epps', 'one', 'one another', 'one best', 'one big', 'one character', 'one day', 'one dimensional', 'one film', 'one first', 'one greatest', 'one ha', 'one joke', 'one last', 'one liner', 'one long', 'one man', 'one many', 'one might', 'one movie', 'one night', 'one okay', 'one one', 'one point', 'one really', 'one scene', 'one thing', 'one time', 'one two', 'one wa', 'one way', 'one worst', 'one would', 'onegin', 'online', 'online http', 'onscreen', 'onto', 'open', 'opendocument', 'opened', 'opening', 'opening credit', 'opening scene', 'opening sequence', 'opera', 'operation', 'opinion', 'opportunity', 'opposite', 'option', 'ordell', 'order', 'ordinary', 'org', 'origin', 'original', 'original film', 'original idea', 'original sin', 'original theatrical', 'originality', 'originally', 'oscar', 'oscar nomination', 'oscar wilde', 'others', 'otherwise', 'ott', 'outcome', 'outfit', 'outing', 'outrageous', 'outside', 'outside providence', 'outsider', 'outstanding', 'overall', 'overbearing', 'overcome', 'overly', 'owen', 'owen wilson', 'owner', 'owns', 'oz', 'pace', 'paced', 'pacing', 'pacino', 'pack', 'package', 'packed', 'page', 'paid', 'pain', 'painful', 'painfully', 'paint', 'painting', 'pair', 'pairing', 'pal', 'pale', 'palma', 'paltrow', 'pam', 'pam grier', 'pamela', 'pan', 'paper', 'par', 'parallel', 'paramount', 'paranoid', 'parent', 'paris', 'park', 'parker', 'parody', 'part', 'part film', 'part movie', 'particular', 'particularly', 'partly', 'partner', 'party', 'pas', 'pass', 'passable', 'passed', 'passenger', 'passing', 'passion', 'passive', 'past', 'pat', 'patch', 'patch adam', 'path', 'pathetic', 'patient', 'patricia', 'patrick', 'patrick sullivan', 'pattern', 'paul', 'paulie', 'paxton', 'pay', 'paycheck', 'paying', 'payoff', 'peak', 'peck', 'peck mail', 'peculiar', 'peel', 'penn', 'penned', 'people', 'people larry', 'people like', 'per', 'perfect', 'perfectly', 'perform', 'performance', 'performance film', 'performed', 'performer', 'performing', 'perhaps', 'period', 'permission', 'perry', 'person', 'persona', 'personal', 'personality', 'personally', 'perspective', 'pet', 'peter', 'pg', 'phantom', 'phantom menace', 'phenomenon', 'phil', 'philip', 'phillip', 'phillips', 'philosophy', 'phone', 'phony', 'photo', 'photograph', 'photographed', 'photography', 'phrase', 'physic', 'physic mun', 'physical', 'pick', 'picked', 'picking', 'picture', 'pie', 'piece', 'pierce', 'pile', 'pill', 'pilot', 'pinkett', 'pitch', 'pitch black', 'place', 'placed', 'placement', 'plain', 'plan', 'plane', 'planet', 'planet ape', 'planned', 'plant', 'platt', 'play', 'play like', 'played', 'player', 'playing', 'pleasant', 'please', 'please visit', 'pleasing', 'pleasure', 'plenty', 'plight', 'plot', 'plot element', 'plot hole', 'plot point', 'plot twist', 'plotting', 'plus', 'poetic', 'poetry', 'poignant', 'point', 'point film', 'point movie', 'point view', 'pointless', 'poker', 'polanski', 'police', 'police officer', 'political', 'politician', 'politics', 'pool', 'poor', 'poorly', 'pop', 'popcorn', 'popcorn gallery', 'popular', 'portion', 'portrait', 'portrayal', 'portrayed', 'portraying', 'portrays', 'posey', 'position', 'positive', 'posse', 'possessed', 'possibility', 'possible', 'possibly', 'post', 'poster', 'pot', 'potential', 'potentially', 'pound', 'power', 'powerful', 'practically', 'praise', 'pre', 'predecessor', 'predictability', 'predictable', 'pregnant', 'premiere', 'premise', 'prepared', 'presence', 'present', 'presented', 'presenting', 'president', 'press', 'preston', 'pretend', 'pretentious', 'pretty', 'pretty bad', 'pretty good', 'pretty much', 'pretty well', 'pretty woman', 'prevent', 'preview', 'previous', 'previously', 'price', 'pride', 'priest', 'primarily', 'primary', 'prime', 'prince', 'princess', 'principal', 'prior', 'prison', 'prisoner', 'private', 'private ryan', 'prize', 'pro', 'probably', 'probably best', 'problem', 'problem film', 'proceeding', 'proceeds', 'process', 'prodigy', 'produce', 'produced', 'producer', 'product', 'production', 'production design', 'production value', 'prof', 'profanity', 'profession', 'professional', 'professor', 'profile', 'program', 'progress', 'project', 'prologue', 'prom', 'promise', 'promising', 'proof', 'proper', 'properly', 'proportion', 'prostitute', 'protagonist', 'protect', 'proud', 'prove', 'provide', 'provided', 'providence', 'provides', 'providing', 'provoking', 'pryce', 'pseudo', 'psychiatrist', 'psychlos', 'psycho', 'psychological', 'psychologist', 'psychotic', 'public', 'pull', 'pulled', 'pulp', 'pulp fiction', 'pun', 'punch', 'punishment', 'pupil', 'pure', 'purely', 'purpose', 'pursuit', 'push', 'pushing', 'put', 'putman', 'putting', 'pyramid', 'quaid', 'quality', 'quarter', 'queen', 'quentin', 'quentin tarantino', 'quest', 'question', 'quick', 'quickly', 'quiet', 'quinn', 'quirky', 'quite', 'quite good', 'quite sure', 'quite well', 'race', 'rachel', 'racism', 'racist', 'radio', 'rage', 'raider', 'raimi', 'rain', 'raise', 'raised', 'raising', 'ralph', 'ramsey', 'ran', 'random', 'randy', 'range', 'rank', 'ransom', 'rap', 'rapidly', 'rare', 'rarely', 'rat', 'rate', 'rated', 'rated pg', 'rated star', 'rated violence', 'rather', 'rating', 'ratio', 'ratio directed', 'raw', 'ray', 'reach', 'reached', 'reaction', 'read', 'reader', 'reading', 'ready', 'real', 'real life', 'real world', 'realism', 'realistic', 'reality', 'realize', 'realized', 'realizes', 'realizing', 'really', 'really bad', 'really care', 'really get', 'really make', 'reason', 'reasonable', 'rebel', 'recall', 'receive', 'receiving', 'recent', 'recently', 'recognition', 'recognize', 'recommend', 'record', 'red', 'red planet', 'redford', 'redgrave', 'redman', 'redman bvoice', 'reduced', 'reef', 'reel', 'reel deal', 'reference', 'referred', 'refreshing', 'refuse', 'regardless', 'regular', 'reid', 'reject', 'relate', 'related', 'relationship', 'relative', 'relatively', 'release', 'release date', 'released', 'released uk', 'relevant', 'relief', 'relies', 'religion', 'religious', 'reluctant', 'reluctantly', 'remain', 'remaining', 'remains', 'remake', 'remarkable', 'remarkably', 'remember', 'remembered', 'remind', 'reminded', 'reminds', 'reminiscent', 'remote', 'remotely', 'removed', 'rene', 'rent', 'repeat', 'repeated', 'repeatedly', 'repetitive', 'replacement', 'reply', 'report', 'reporter', 'reputation', 'request', 'required', 'requires', 'rescue', 'research', 'resembles', 'reserved', 'resident', 'resolution', 'respect', 'respected', 'respective', 'respectively', 'response', 'responsible', 'rest', 'rest cast', 'rest film', 'rest movie', 'restaurant', 'result', 'retrieve', 'return', 'return home', 'returned', 'returning', 'reveal', 'revealed', 'revealing', 'reveals', 'revelation', 'revenge', 'review', 'review archive', 'review full', 'review http', 'review movie', 'review staff', 'reviewed', 'reviewer', 'reviews_by', 'reviewsby', 'revolution', 'revolutionary', 'revolves', 'revolves around', 'reward', 'reynolds', 'reza', 'ribisi', 'rich', 'richard', 'richards', 'richardson', 'rick', 'ricky', 'rico', 'rid', 'ride', 'ridiculous', 'ridiculously', 'ridley', 'right', 'ring', 'rip', 'rise', 'rising', 'risk', 'rival', 'river', 'road', 'rob', 'rob schneider', 'robbery', 'robbie', 'robbins', 'robert', 'robert de', 'robert duvall', 'robert forster', 'robin', 'robin williams', 'robinson', 'robot', 'rock', 'rocky', 'rod', 'rodriguez', 'roger', 'roger ebert', 'role', 'roll', 'rolling', 'roman', 'romance', 'romantic', 'romantic comedy', 'ron', 'room', 'roommate', 'root', 'rooting', 'rose', 'rosenberg', 'rosie', 'ross', 'rough', 'round', 'rounder', 'routine', 'row', 'rudy', 'ruin', 'ruined', 'rule', 'rumble', 'run', 'runaway', 'runner', 'running', 'running time', 'runtime', 'rupert', 'rush', 'rushmore', 'russell', 'russian', 'ruth', 'ryan', 'sad', 'sadly', 'safe', 'safety', 'said', 'saint', 'sake', 'sally', 'salma', 'salma hayek', 'sam', 'samuel', 'samuel jackson', 'san', 'sandler', 'sandra', 'sandra bullock', 'sappy', 'sara', 'sarah', 'sarcastic', 'sat', 'satan', 'satire', 'satisfy', 'satisfying', 'saturday', 'saturday night', 'savage', 'save', 'saved', 'saving', 'saving grace', 'saving private', 'saw', 'say', 'saying', 'scale', 'scale screening', 'scare', 'scared', 'scary', 'scary movie', 'scenario', 'scene', 'scene film', 'scene ha', 'scene involving', 'scene like', 'scene movie', 'scenery', 'scheme', 'schindler', 'schindler list', 'schneider', 'school', 'schreiber', 'schumacher', 'schwarzenegger', 'schwimmer', 'sci', 'sci fi', 'science', 'science fiction', 'scientist', 'score', 'scott', 'scream', 'screaming', 'screen', 'screen time', 'screening', 'screening venue', 'screenplay', 'screenwriter', 'screw', 'screwball', 'screwed', 'script', 'sea', 'seagal', 'sean', 'search', 'searching', 'season', 'seat', 'seattle', 'sebastian', 'second', 'second half', 'secret', 'secretary', 'secretly', 'section', 'security', 'security guard', 'see', 'see film', 'see movie', 'see one', 'seeing', 'seek', 'seem', 'seem like', 'seemed', 'seemed like', 'seemingly', 'seems', 'seems like', 'seen', 'seen film', 'seen movie', 'segment', 'self', 'selfish', 'sell', 'selling', 'semi', 'senator', 'send', 'sends', 'senior', 'sens', 'sense', 'sense humor', 'senseless', 'sensibility', 'sensitive', 'sent', 'sentence', 'sentimental', 'separate', 'separated', 'sequel', 'sequence', 'serf', 'serial', 'serial killer', 'series', 'serious', 'seriously', 'serve', 'served', 'service', 'serving', 'session', 'set', 'set piece', 'seth', 'setting', 'settle', 'setup', 'seven', 'several', 'several time', 'sex', 'sex scene', 'sexual', 'sexuality', 'sexually', 'sexy', 'sgt', 'shadow', 'shakespeare', 'shalhoub', 'shallow', 'shame', 'shannon', 'shannon patrick', 'share', 'shark', 'sharon', 'sharon stone', 'sharp', 'shaw', 'shawn', 'sheedy', 'sheen', 'sheer', 'sheriff', 'shift', 'shine', 'shining', 'ship', 'shirt', 'shock', 'shocked', 'shocking', 'shoddy', 'shoe', 'shoot', 'shooting', 'shop', 'shopping', 'short', 'shot', 'shoulder', 'shout', 'shouting', 'show', 'showcase', 'showdown', 'showed', 'shower', 'showing', 'shown', 'shrek', 'shue', 'shut', 'shy', 'sick', 'side', 'sidekick', 'sidney', 'siege', 'sight', 'sign', 'significant', 'silence', 'silent', 'silly', 'silver', 'similar', 'similarity', 'similarly', 'simon', 'simple', 'simplistic', 'simply', 'sin', 'since', 'sing', 'singer', 'singing', 'single', 'sinise', 'sinister', 'sink', 'sir', 'sister', 'sit', 'sitcom', 'site', 'sits', 'sitting', 'situation', 'six', 'six year', 'sixth', 'size', 'sketch', 'skill', 'skin', 'skinhead', 'skip', 'skull', 'sky', 'slacker', 'slade', 'slapstick', 'slasher', 'slave', 'slavery', 'sleazy', 'sleep', 'sleeping', 'slick', 'sliding', 'sliding door', 'slight', 'slightest', 'slightly', 'slip', 'sliver', 'slow', 'slow motion', 'slowly', 'sly', 'small', 'small role', 'small town', 'smaller', 'smart', 'smell', 'smile', 'smith', 'smoke', 'smoking', 'smooth', 'snake', 'sneak', 'snipe', 'snow', 'soap', 'soap opera', 'social', 'society', 'soft', 'sold', 'soldier', 'sole', 'solely', 'solid', 'solution', 'solve', 'somebody', 'somehow', 'someone', 'someone else', 'something', 'something like', 'something mary', 'sometimes', 'somewhat', 'somewhere', 'son', 'song', 'sonny', 'soon', 'sophisticated', 'sorry', 'sort', 'sorvino', 'soul', 'sound', 'sound like', 'sounded', 'soundtrack', 'source', 'source material', 'south', 'south park', 'southern', 'space', 'spaceship', 'span', 'spanish', 'spare', 'spark', 'spawn', 'speak', 'speaking', 'special', 'special effect', 'specie', 'specific', 'specifically', 'spectacular', 'speech', 'speed', 'spell', 'spend', 'spending', 'spends', 'spends time', 'spent', 'sphere', 'spice', 'spice girl', 'spice world', 'spider', 'spielberg', 'spike', 'spike lee', 'spin', 'spirit', 'spirited', 'spiritual', 'split', 'spoil', 'spoiler', 'spoken', 'spoof', 'sport', 'spot', 'spread', 'spring', 'sps', 'sps movie', 'spy', 'squad', 'square', 'st', 'stab', 'staff', 'staff member', 'stage', 'staged', 'stahl', 'stale', 'stallone', 'stand', 'standard', 'standing', 'standout', 'stanley', 'stanley kubrick', 'star', 'star scale', 'star trek', 'star war', 'stardom', 'stare', 'stark', 'starred', 'starring', 'starship', 'starship trooper', 'start', 'started', 'starting', 'state', 'statement', 'station', 'status', 'stay', 'staying', 'steal', 'stealing', 'steam', 'step', 'stephen', 'stereotype', 'stereotypical', 'stern', 'steve', 'steve buscemi', 'steve martin', 'steven', 'steven seagal', 'steven spielberg', 'stewart', 'stick', 'stiff', 'stigma', 'still', 'still ha', 'still know', 'stiller', 'stock', 'stolen', 'stone', 'stop', 'stopped', 'store', 'storm', 'story', 'story line', 'story two', 'storyline', 'storytelling', 'straight', 'straightforward', 'strange', 'strangely', 'stranger', 'street', 'strength', 'stretch', 'strictly', 'strike', 'striking', 'string', 'strip', 'strong', 'structure', 'struggle', 'struggling', 'stuart', 'stuart little', 'stuck', 'student', 'studio', 'study', 'stuff', 'stumble', 'stunning', 'stunt', 'stupid', 'stupidity', 'style', 'stylish', 'sub', 'subject', 'subject matter', 'subplot', 'subplot involving', 'subplots', 'subscribe', 'substance', 'subtitle', 'subtle', 'subtlety', 'succeed', 'succeeds', 'success', 'successful', 'successfully', 'suck', 'sudden', 'suddenly', 'suffer', 'suffered', 'suffering', 'suffers', 'suggest', 'suggestion', 'suggests', 'suicidal', 'suicide', 'suit', 'sullivan', 'sullivan archived', 'sum', 'summer', 'summer movie', 'sun', 'super', 'superb', 'superficial', 'superior', 'supernatural', 'supply', 'support', 'supporting', 'supporting cast', 'supporting character', 'supporting role', 'suppose', 'supposed', 'supposedly', 'sure', 'surely', 'surface', 'surprise', 'surprised', 'surprising', 'surprisingly', 'surreal', 'surround', 'surrounded', 'surrounding', 'survive', 'survivor', 'susan', 'suspect', 'suspense', 'suspenseful', 'suspicious', 'sutherland', 'suzanne', 'swamp', 'sweet', 'switch', 'sword', 'syd', 'sylvester', 'symbol', 'sympathetic', 'sympathy', 'synopsis', 'system', 'table', 'tackle', 'take', 'take one', 'take place', 'take seriously', 'taken', 'taking', 'tale', 'talent', 'talented', 'talk', 'talking', 'tall', 'tango', 'tank', 'tape', 'tarantino', 'target', 'tarzan', 'task', 'taste', 'taxi', 'taylor', 'teach', 'teacher', 'team', 'tear', 'technical', 'technically', 'technique', 'technology', 'ted', 'tedious', 'teen', 'teenage', 'teenager', 'television', 'television series', 'television show', 'tell', 'tell story', 'telling', 'ten', 'ten minute', 'ten year', 'tend', 'tense', 'tension', 'term', 'terrible', 'terribly', 'terrific', 'terrifying', 'terror', 'terrorist', 'terry', 'test', 'texas', 'text', 'th', 'th century', 'thank', 'thankfully', 'thanks', 'theater', 'theatre', 'theatrical', 'theme', 'theory', 'therefore', 'theron', 'thief', 'thin', 'thing', 'thing film', 'thing like', 'thing movie', 'think', 'think wa', 'think would', 'thinking', 'third', 'thirteenth', 'thirty', 'thomas', 'thompson', 'thornton', 'thoroughly', 'though', 'thought', 'thought provoking', 'thought wa', 'thoughtful', 'thousand', 'thread', 'threat', 'threatening', 'three', 'three year', 'thrill', 'thriller', 'thrilling', 'throughout', 'throughout film', 'throughout movie', 'throw', 'throwing', 'thrown', 'thug', 'thurman', 'thus', 'tibbs', 'ticket', 'tie', 'tight', 'till', 'tim', 'time', 'time around', 'time film', 'time minute', 'time movie', 'time time', 'time travel', 'timing', 'timothy', 'tiny', 'tip', 'tired', 'titanic', 'title', 'titled', 'today', 'todd', 'together', 'toilet', 'token', 'told', 'tom', 'tom cruise', 'tom hank', 'tomb', 'tomb raider', 'tommy', 'tommy lee', 'ton', 'tone', 'tongue', 'tony', 'tony shalhoub', 'took', 'top', 'top notch', 'topic', 'torgo', 'torture', 'tossed', 'total', 'totally', 'touch', 'touching', 'tough', 'tour', 'toward', 'towards', 'towards end', 'town', 'toy', 'toy story', 'trace', 'track', 'trade', 'trademark', 'tradition', 'traditional', 'tragedy', 'tragic', 'trailer', 'train', 'training', 'trait', 'transition', 'trap', 'trapped', 'trash', 'travel', 'travolta', 'treat', 'treated', 'treatment', 'tree', 'trek', 'trend', 'trial', 'tribe', 'trick', 'tried', 'trilogy', 'trio', 'trip', 'trite', 'triumph', 'trooper', 'trouble', 'truck', 'true', 'true love', 'true story', 'truly', 'truman', 'truman show', 'trust', 'truth', 'try', 'try catch', 'try get', 'try hard', 'trying', 'trying find', 'trying get', 'tucker', 'tune', 'turkey', 'turn', 'turned', 'turning', 'tv', 'tv series', 'tv show', 'twenty', 'twenty minute', 'twice', 'twin', 'twin peak', 'twist', 'twisted', 'two', 'two character', 'two film', 'two hour', 'two lead', 'two men', 'two thing', 'two year', 'tyler', 'type', 'typical', 'typically', 'ugly', 'uh', 'uk', 'ukcritic', 'ultimate', 'ultimately', 'ultra', 'uma', 'uma thurman', 'umbc', 'umbc edu', 'un', 'unable', 'unbelievable', 'uncle', 'uncomfortable', 'unconventional', 'unconvincing', 'underdeveloped', 'underground', 'underrated', 'understand', 'understanding', 'understood', 'underused', 'underwater', 'underwritten', 'uneven', 'unexpected', 'unexpectedly', 'unfolds', 'unfortunate', 'unfortunately', 'unfunny', 'uninspired', 'uninteresting', 'unique', 'united', 'united state', 'universal', 'universal soldier', 'universe', 'university', 'unknown', 'unless', 'unlike', 'unlikely', 'unnecessary', 'unpredictable', 'unrelated', 'unusual', 'upcoming', 'update', 'upon', 'upper', 'ups', 'upset', 'urban', 'urban legend', 'url', 'url http', 'us', 'usa', 'use', 'used', 'useless', 'user', 'using', 'usual', 'usual suspect', 'usually', 'utter', 'utterly', 'vacation', 'vague', 'vaguely', 'value', 'vampire', 'van', 'van damme', 'variation', 'variety', 'various', 'varsity', 'varsity blue', 'vega', 'vehicle', 'velvet', 'venice', 'venture', 'venue', 'verhoeven', 'veronica', 'version', 'veteran', 'via', 'vice', 'vicious', 'victim', 'video', 'video game', 'vietnam', 'view', 'viewed', 'viewer', 'viewing', 'vignette', 'village', 'villain', 'vince', 'vincent', 'violence', 'violence gore', 'violence language', 'violent', 'virgil', 'virtual', 'virtual reality', 'virtually', 'virus', 'vision', 'visit', 'visit http', 'visual', 'visual effect', 'visual style', 'visually', 'visuals', 'voice', 'voiced', 'voight', 'volcano', 'von', 'von bulow', 'wa', 'wa actually', 'wa also', 'wa born', 'wa going', 'wa good', 'wa great', 'wa made', 'wa one', 'wa originally', 'wa really', 'wa released', 'wa supposed', 'wa written', 'wacky', 'wag', 'wag dog', 'wahlberg', 'wait', 'waiting', 'waitress', 'wake', 'waking', 'waldron', 'walk', 'walked', 'walking', 'wall', 'wallace', 'walsh', 'walter', 'wanders', 'wannabe', 'want', 'want know', 'want see', 'wanted', 'wanting', 'war', 'ward', 'warm', 'warner', 'warner brother', 'warning', 'warren', 'warrior', 'washington', 'waste', 'waste time', 'wasted', 'watch', 'watch film', 'watched', 'watching', 'watching film', 'watching movie', 'water', 'watson', 'wave', 'way', 'way film', 'way wa', 'wayans', 'wayne', 'weak', 'wealthy', 'weapon', 'wear', 'wearing', 'weather', 'web', 'webb', 'website', 'website http', 'wedding', 'week', 'weekend', 'weekly', 'weight', 'weird', 'welcome', 'well', 'well done', 'well known', 'well made', 'well written', 'welles', 'went', 'wes', 'wes craven', 'wesley', 'wesley snipe', 'west', 'western', 'whatever', 'whatsoever', 'wheel', 'whenever', 'whereas', 'whether', 'whisperer', 'white', 'whitman', 'whole', 'whole film', 'whole lot', 'whole thing', 'whose', 'wide', 'widow', 'wife', 'wigand', 'wild', 'wild thing', 'wild west', 'wilde', 'william', 'williams', 'williamson', 'willing', 'willis', 'wilson', 'win', 'wind', 'window', 'wing', 'wink', 'winner', 'winning', 'winslet', 'winter', 'wire', 'wisdom', 'wise', 'wisely', 'wish', 'wit', 'witch', 'witch project', 'within', 'without', 'witness', 'witty', 'wolf', 'woman', 'wonder', 'wonderful', 'wonderfully', 'wondering', 'wong', 'woo', 'wood', 'wooden', 'woody', 'woody allen', 'woody harrelson', 'word', 'work', 'work film', 'work well', 'worked', 'worker', 'working', 'world', 'world war', 'worm', 'worn', 'worry', 'worse', 'worst', 'worst film', 'worst movie', 'worth', 'worthless', 'worthwhile', 'worthy', 'would', 'would like', 'would made', 'would make', 'would probably', 'would say', 'wound', 'wow', 'wrap', 'wrapped', 'wreck', 'wrestling', 'write', 'writer', 'writer director', 'writes', 'writing', 'written', 'written directed', 'wrong', 'wrote', 'www', 'www geocities', 'www gl', 'www jaxfilmjournal', 'www joblo', 'www physic', 'xa', 'xa jamie', 'xa shannon', 'xb', 'xe', 'xf', 'yahoo', 'yard', 'yawn', 'yeah', 'year', 'year ago', 'year ha', 'year later', 'year old', 'yell', 'yes', 'yet', 'yet another', 'york', 'york city', 'young', 'young boy', 'young man', 'young woman', 'younger', 'youngster', 'youth', 'zane', 'zero', 'zeta', 'zeta jones', 'zwick']\n"
          ]
        }
      ]
    },
    {
      "cell_type": "markdown",
      "source": [
        "We implement SVD to reduce the components to 100 (dimension of each vector)."
      ],
      "metadata": {
        "id": "WqwjOQYF9Euv"
      }
    },
    {
      "cell_type": "code",
      "source": [
        "# Reduce dimensionality using svd from 5000 to 100\n",
        "from sklearn.decomposition import TruncatedSVD\n",
        "\n",
        "svd = TruncatedSVD(n_components=100, random_state=1212)\n",
        "x_train_svd = svd.fit_transform(x_train_tfidf)\n",
        "x_dev_svd = svd.transform(x_dev_tfidf)\n",
        "x_test_svd = svd.transform(x_test_tfidf)"
      ],
      "metadata": {
        "id": "RliGhwsf9Euw"
      },
      "execution_count": null,
      "outputs": []
    },
    {
      "cell_type": "code",
      "source": [
        "print(f\"Shape of the train set after the SVD dimensionality reduction is: {x_train_svd.shape}\")"
      ],
      "metadata": {
        "colab": {
          "base_uri": "https://localhost:8080/"
        },
        "outputId": "de38c511-4d90-4b0e-94dd-73259673f1eb",
        "id": "gk_touVV9Euw"
      },
      "execution_count": null,
      "outputs": [
        {
          "output_type": "stream",
          "name": "stdout",
          "text": [
            "Shape of the train set after the SVD dimensionality reduction is: (831, 100)\n"
          ]
        }
      ]
    },
    {
      "cell_type": "markdown",
      "source": [
        "We are going to set **three baselines**.<br>For all three baselines, **Dummy (majority) Classifier, Logistic Regression and MLP**, SVD is implemented on the TF-IDF train, dev and test sets."
      ],
      "metadata": {
        "id": "7SBvhWjyBl5A"
      }
    },
    {
      "cell_type": "markdown",
      "source": [
        "## Baseline 1: Dummy Classifier"
      ],
      "metadata": {
        "id": "-7XXb5FyWs_g"
      }
    },
    {
      "cell_type": "code",
      "source": [
        "def set_baseline(baseline):\n",
        "  # Evaluate\n",
        "  predictions = baseline.predict(x_train_svd)\n",
        "  score = accuracy_score(y_train, predictions)\n",
        "  pred_train = baseline.predict_proba(x_train_svd)\n",
        "  print(\"Train accuracy: {:.2f}%\".format(score*100))\n",
        "\n",
        "  predictions_dev = baseline.predict(x_dev_svd)\n",
        "  score = accuracy_score(y_dev, predictions_dev)\n",
        "  pred_dev = baseline.predict_proba(x_dev_svd)\n",
        "  print(\"Dev accuracy: {:.2f}% \".format(score*100))\n",
        "\n",
        "  predictions_test = baseline.predict(x_test_svd)\n",
        "  score = accuracy_score(y_test, predictions_test)\n",
        "  pred_test = baseline.predict_proba(x_test_svd)\n",
        "  print(\"Test accuracy: {:.2f}% \\n\".format(score*100))\n",
        "\n",
        "  print('#Class 0 in Train dataset:', np.where(y_train == 0)[0].shape)\n",
        "  print('#Class 1 in Train dataset:', np.where(y_train == 1)[0].shape)\n",
        "\n",
        "  #Train Set\n",
        "  print(\"\\nPrecision, recall, F1 scores for each class(train set)\")\n",
        "  print(classification_report(y_train, predictions,labels=np.array([0,1])))\n",
        "  print(\"\\nPrecision Recall AUC score for the negative class(train set):\")\n",
        "  precision, recall, thresholds = precision_recall_curve(y_train, pred_train[:,0],pos_label=0)\n",
        "  area_train_1 = auc(recall, precision)\n",
        "  print(area_train_1)\n",
        "  print(\"\\nPrecision Recall AUC score for the positive class(train set):\")\n",
        "  precision, recall, thresholds = precision_recall_curve(y_train, pred_train[:,1],pos_label=1)\n",
        "  area_train_2 = auc(recall, precision)\n",
        "  print(area_train_2)\n",
        "  print(\"\\nMacro-averaged Precision Recall AUC score for the train set:\")\n",
        "  print((area_train_1+area_train_2)/2)\n",
        "  #Dev Set\n",
        "  print(\"\\nPrecision, recall, F1 scores for each class(dev set)\")\n",
        "  print(classification_report(y_dev, predictions_dev,labels=np.array([0,1])))\n",
        "  print(\"\\nPrecision Recall AUC score for the negative class(dev set):\")\n",
        "  precision, recall, thresholds = precision_recall_curve(y_dev, pred_dev[:,0],pos_label=0)\n",
        "  area_train_1 = auc(recall, precision)\n",
        "  print(area_train_1)\n",
        "  print(\"\\nPrecision Recall AUC score for the positive class(dev set):\")\n",
        "  precision, recall, thresholds = precision_recall_curve(y_dev, pred_dev[:,1],pos_label=1)\n",
        "  area_train_2 = auc(recall, precision)\n",
        "  print(area_train_2)\n",
        "  print(\"\\nMacro-averaged Precision Recall AUC score for the dev set:\")\n",
        "  print((area_train_1+area_train_2)/2)\n",
        "  #Test Set\n",
        "  print(\"\\nPrecision, recall, F1 scores for each class(test set)\")\n",
        "  print(classification_report(y_test, predictions_test,labels=np.array([0,1])))\n",
        "  print(\"\\nPrecision Recall AUC score for the negative class (test set):\")\n",
        "  precision, recall, thresholds = precision_recall_curve(y_test, pred_test[:,0],pos_label=0)\n",
        "  area_train_1 = auc(recall, precision)\n",
        "  print(area_train_1)\n",
        "  print(\"\\nPrecision Recall AUC score for the positive class (test set):\")\n",
        "  precision, recall, thresholds = precision_recall_curve(y_test, pred_test[:,1],pos_label=1)\n",
        "  area_train_2 = auc(recall, precision)\n",
        "  print(area_train_2)\n",
        "  print(\"\\nMacro-averaged Precision Recall AUC score for the test set:\")\n",
        "  print((area_train_1+area_train_2)/2)\n",
        "\n",
        "\n",
        "  print(\"\\nConfusion Matrix for test data:\")\n",
        "  plot_confusion_matrix(estimator=baseline, X=x_test_svd, y_true=y_test, values_format = '.0f')"
      ],
      "metadata": {
        "id": "O55xU6XNXMf6"
      },
      "execution_count": null,
      "outputs": []
    },
    {
      "cell_type": "code",
      "source": [
        "baseline = DummyClassifier(strategy='most_frequent')\n",
        "\n",
        "baseline.fit(x_train_svd, y_train)\n",
        "print(\"Baseline Dummy (majority) Classifier\")\n",
        "set_baseline(baseline)"
      ],
      "metadata": {
        "colab": {
          "base_uri": "https://localhost:8080/",
          "height": 1000
        },
        "id": "ZhzLrYpCYnV5",
        "outputId": "d287fac2-c4f5-4df5-94d8-4c5c9481ea6f"
      },
      "execution_count": null,
      "outputs": [
        {
          "output_type": "stream",
          "name": "stdout",
          "text": [
            "Baseline Dummy (majority) Classifier\n",
            "Train accuracy: 51.14%\n",
            "Dev accuracy: 49.46% \n",
            "Test accuracy: 46.76% \n",
            "\n",
            "#Class 0 in Train dataset: (425,)\n",
            "#Class 1 in Train dataset: (406,)\n",
            "\n",
            "Precision, recall, F1 scores for each class(train set)\n",
            "              precision    recall  f1-score   support\n",
            "\n",
            "           0       0.51      1.00      0.68       425\n",
            "           1       0.00      0.00      0.00       406\n",
            "\n",
            "    accuracy                           0.51       831\n",
            "   macro avg       0.26      0.50      0.34       831\n",
            "weighted avg       0.26      0.51      0.35       831\n",
            "\n",
            "\n",
            "Precision Recall AUC score for the negative class(train set):\n",
            "0.7557160048134777\n",
            "\n",
            "Precision Recall AUC score for the positive class(train set):\n",
            "0.7442839951865223\n",
            "\n",
            "Macro-averaged Precision Recall AUC score for the train set:\n",
            "0.75\n",
            "\n",
            "Precision, recall, F1 scores for each class(dev set)\n",
            "              precision    recall  f1-score   support\n",
            "\n",
            "           0       0.49      1.00      0.66       137\n",
            "           1       0.00      0.00      0.00       140\n",
            "\n",
            "    accuracy                           0.49       277\n",
            "   macro avg       0.25      0.50      0.33       277\n",
            "weighted avg       0.24      0.49      0.33       277\n",
            "\n",
            "\n",
            "Precision Recall AUC score for the negative class(dev set):\n",
            "0.7472924187725631\n",
            "\n",
            "Precision Recall AUC score for the positive class(dev set):\n",
            "0.7527075812274369\n",
            "\n",
            "Macro-averaged Precision Recall AUC score for the dev set:\n",
            "0.75\n",
            "\n",
            "Precision, recall, F1 scores for each class(test set)\n",
            "              precision    recall  f1-score   support\n",
            "\n",
            "           0       0.47      1.00      0.64       130\n",
            "           1       0.00      0.00      0.00       148\n",
            "\n",
            "    accuracy                           0.47       278\n",
            "   macro avg       0.23      0.50      0.32       278\n",
            "weighted avg       0.22      0.47      0.30       278\n",
            "\n",
            "\n",
            "Precision Recall AUC score for the negative class (test set):\n",
            "0.7338129496402878\n",
            "\n",
            "Precision Recall AUC score for the positive class (test set):\n",
            "0.7661870503597122\n",
            "\n",
            "Macro-averaged Precision Recall AUC score for the test set:\n",
            "0.75\n",
            "\n",
            "Confusion Matrix for test data:\n"
          ]
        },
        {
          "output_type": "display_data",
          "data": {
            "text/plain": [
              "<Figure size 432x288 with 2 Axes>"
            ],
            "image/png": "[encoded data removed]"
          },
          "metadata": {
            "needs_background": "light"
          }
        }
      ]
    },
    {
      "cell_type": "markdown",
      "source": [
        "## Baseline 2: Best model from the second assignment, Logistic Regression"
      ],
      "metadata": {
        "id": "wMDYO64lwJ_Z"
      }
    },
    {
      "cell_type": "code",
      "source": [
        "# Solver -- Algorithm to use in the optimization problem.\n",
        "clf = LogisticRegression(solver=\"liblinear\", C=1, max_iter=100, tol=0.0001)\n",
        "clf.fit(x_train_svd, y_train)\n",
        "print(\"Baseline Logistic Regression\")\n",
        "set_baseline(clf)"
      ],
      "metadata": {
        "colab": {
          "base_uri": "https://localhost:8080/",
          "height": 1000
        },
        "id": "Q2MzRh07ZREG",
        "outputId": "40d88443-ef33-4204-9ba9-5df9560c921c"
      },
      "execution_count": null,
      "outputs": [
        {
          "output_type": "stream",
          "name": "stdout",
          "text": [
            "Baseline Logistic Regression\n",
            "Train accuracy: 85.44%\n",
            "Dev accuracy: 77.98% \n",
            "Test accuracy: 78.42% \n",
            "\n",
            "#Class 0 in Train dataset: (425,)\n",
            "#Class 1 in Train dataset: (406,)\n",
            "\n",
            "Precision, recall, F1 scores for each class(train set)\n",
            "              precision    recall  f1-score   support\n",
            "\n",
            "           0       0.85      0.86      0.86       425\n",
            "           1       0.86      0.84      0.85       406\n",
            "\n",
            "    accuracy                           0.85       831\n",
            "   macro avg       0.85      0.85      0.85       831\n",
            "weighted avg       0.85      0.85      0.85       831\n",
            "\n",
            "\n",
            "Precision Recall AUC score for the negative class(train set):\n",
            "0.9323941651005087\n",
            "\n",
            "Precision Recall AUC score for the positive class(train set):\n",
            "0.9335693519530497\n",
            "\n",
            "Macro-averaged Precision Recall AUC score for the train set:\n",
            "0.9329817585267792\n",
            "\n",
            "Precision, recall, F1 scores for each class(dev set)\n",
            "              precision    recall  f1-score   support\n",
            "\n",
            "           0       0.76      0.81      0.78       137\n",
            "           1       0.80      0.75      0.77       140\n",
            "\n",
            "    accuracy                           0.78       277\n",
            "   macro avg       0.78      0.78      0.78       277\n",
            "weighted avg       0.78      0.78      0.78       277\n",
            "\n",
            "\n",
            "Precision Recall AUC score for the negative class(dev set):\n",
            "0.859459264563008\n",
            "\n",
            "Precision Recall AUC score for the positive class(dev set):\n",
            "0.8387568317177158\n",
            "\n",
            "Macro-averaged Precision Recall AUC score for the dev set:\n",
            "0.8491080481403619\n",
            "\n",
            "Precision, recall, F1 scores for each class(test set)\n",
            "              precision    recall  f1-score   support\n",
            "\n",
            "           0       0.74      0.84      0.78       130\n",
            "           1       0.84      0.74      0.78       148\n",
            "\n",
            "    accuracy                           0.78       278\n",
            "   macro avg       0.79      0.79      0.78       278\n",
            "weighted avg       0.79      0.78      0.78       278\n",
            "\n",
            "\n",
            "Precision Recall AUC score for the negative class (test set):\n",
            "0.8351950924181674\n",
            "\n",
            "Precision Recall AUC score for the positive class (test set):\n",
            "0.8914113213977659\n",
            "\n",
            "Macro-averaged Precision Recall AUC score for the test set:\n",
            "0.8633032069079667\n",
            "\n",
            "Confusion Matrix for test data:\n"
          ]
        },
        {
          "output_type": "display_data",
          "data": {
            "text/plain": [
              "<Figure size 432x288 with 2 Axes>"
            ],
            "image/png": "[encoded data removed]"
          },
          "metadata": {
            "needs_background": "light"
          }
        }
      ]
    },
    {
      "cell_type": "markdown",
      "source": [
        "## MLP Baseline"
      ],
      "metadata": {
        "id": "h4riU1v8m6vB"
      }
    },
    {
      "cell_type": "markdown",
      "source": [
        "Choice of approach: Architecture of the MLP from **scratch** based on the best parameter values provided by the Keras-tuner results."
      ],
      "metadata": {
        "id": "kRHtuSnTpjuG"
      }
    },
    {
      "cell_type": "code",
      "source": [
        "model = Sequential()\n",
        "model.add(Dense(512, input_dim=x_train_svd.shape[1], activation='relu'))\n",
        "model.add(Dense(512,  activation='relu'))\n",
        "model.add(Dense(1, activation='sigmoid'))\n",
        "print(model.summary())\n",
        "\n",
        "model.compile(\n",
        "      loss='binary_crossentropy', # Cross-entropy is the default loss function to use for binary classification problems!!!!!!!!!\n",
        "      metrics=[\"accuracy\"]\n",
        "      )\n",
        "\n",
        "history2 = model.fit(x_train_svd, y_train, epochs=40, callbacks=callbacks, validation_data=(x_dev_svd, y_dev)) # early_stopping_monitor.stopped_epoch\n",
        "# max(history.history['accuracy'])"
      ],
      "metadata": {
        "colab": {
          "base_uri": "https://localhost:8080/"
        },
        "id": "CMT3tti1XLC2",
        "outputId": "9b28ee0f-7e80-4eaf-e060-020419034f06"
      },
      "execution_count": null,
      "outputs": [
        {
          "output_type": "stream",
          "name": "stdout",
          "text": [
            "Model: \"sequential\"\n",
            "_________________________________________________________________\n",
            " Layer (type)                Output Shape              Param #   \n",
            "=================================================================\n",
            " dense (Dense)               (None, 512)               51712     \n",
            "                                                                 \n",
            " dense_1 (Dense)             (None, 512)               262656    \n",
            "                                                                 \n",
            " dense_2 (Dense)             (None, 1)                 513       \n",
            "                                                                 \n",
            "=================================================================\n",
            "Total params: 314,881\n",
            "Trainable params: 314,881\n",
            "Non-trainable params: 0\n",
            "_________________________________________________________________\n",
            "None\n",
            "Epoch 1/40\n",
            "26/26 [==============================] - 1s 17ms/step - loss: 0.6304 - accuracy: 0.6655 - val_loss: 0.5743 - val_accuracy: 0.7509 - lr: 0.0010\n",
            "Epoch 2/40\n",
            "26/26 [==============================] - 0s 15ms/step - loss: 0.4232 - accuracy: 0.8195 - val_loss: 0.4755 - val_accuracy: 0.7942 - lr: 0.0010\n",
            "Epoch 3/40\n",
            "26/26 [==============================] - 0s 13ms/step - loss: 0.3434 - accuracy: 0.8616 - val_loss: 0.4575 - val_accuracy: 0.7942 - lr: 0.0010\n",
            "Epoch 4/40\n",
            "26/26 [==============================] - 0s 16ms/step - loss: 0.2963 - accuracy: 0.8724 - val_loss: 0.4527 - val_accuracy: 0.7942 - lr: 0.0010\n",
            "Epoch 5/40\n",
            "26/26 [==============================] - 0s 13ms/step - loss: 0.2493 - accuracy: 0.9025 - val_loss: 0.4482 - val_accuracy: 0.7978 - lr: 0.0010\n",
            "Epoch 6/40\n",
            "26/26 [==============================] - 0s 12ms/step - loss: 0.2143 - accuracy: 0.9218 - val_loss: 0.4392 - val_accuracy: 0.8123 - lr: 0.0010\n",
            "Epoch 7/40\n",
            "26/26 [==============================] - 0s 15ms/step - loss: 0.1657 - accuracy: 0.9434 - val_loss: 0.5146 - val_accuracy: 0.7437 - lr: 0.0010\n",
            "Epoch 8/40\n",
            "26/26 [==============================] - 0s 13ms/step - loss: 0.1355 - accuracy: 0.9579 - val_loss: 0.4213 - val_accuracy: 0.8231 - lr: 0.0010\n",
            "Epoch 9/40\n",
            "26/26 [==============================] - 0s 14ms/step - loss: 0.0910 - accuracy: 0.9807 - val_loss: 0.4565 - val_accuracy: 0.8014 - lr: 0.0010\n",
            "Epoch 10/40\n",
            "26/26 [==============================] - 0s 15ms/step - loss: 0.0654 - accuracy: 0.9832 - val_loss: 0.4635 - val_accuracy: 0.8051 - lr: 0.0010\n",
            "Epoch 11/40\n",
            "26/26 [==============================] - 0s 15ms/step - loss: 0.0388 - accuracy: 0.9940 - val_loss: 0.6138 - val_accuracy: 0.7653 - lr: 0.0010\n"
          ]
        }
      ]
    },
    {
      "cell_type": "code",
      "source": [
        "model.evaluate(x_train_svd, y_train)"
      ],
      "metadata": {
        "colab": {
          "base_uri": "https://localhost:8080/"
        },
        "id": "GAdaSi9Bq13y",
        "outputId": "699cfc8a-4fe7-400f-c7e9-378f33ddfd6f"
      },
      "execution_count": null,
      "outputs": [
        {
          "output_type": "stream",
          "name": "stdout",
          "text": [
            "26/26 [==============================] - 0s 6ms/step - loss: 0.0869 - accuracy: 0.9795\n"
          ]
        },
        {
          "output_type": "execute_result",
          "data": {
            "text/plain": [
              "[0.08685378730297089, 0.9795427322387695]"
            ]
          },
          "metadata": {},
          "execution_count": 19
        }
      ]
    },
    {
      "cell_type": "code",
      "source": [
        "model.evaluate(x_dev_svd, y_dev)"
      ],
      "metadata": {
        "colab": {
          "base_uri": "https://localhost:8080/"
        },
        "id": "WKg9FoderCAV",
        "outputId": "448019ac-f05a-4830-8aea-d44bbdcae2ce"
      },
      "execution_count": null,
      "outputs": [
        {
          "output_type": "stream",
          "name": "stdout",
          "text": [
            "9/9 [==============================] - 0s 5ms/step - loss: 0.4213 - accuracy: 0.8231\n"
          ]
        },
        {
          "output_type": "execute_result",
          "data": {
            "text/plain": [
              "[0.4212924540042877, 0.8231046795845032]"
            ]
          },
          "metadata": {},
          "execution_count": 20
        }
      ]
    },
    {
      "cell_type": "code",
      "source": [
        "model.evaluate(x_test_svd, y_test)"
      ],
      "metadata": {
        "colab": {
          "base_uri": "https://localhost:8080/"
        },
        "id": "brv83qJurJMJ",
        "outputId": "efcbb68c-2c93-4201-bdb9-010c1e726208"
      },
      "execution_count": null,
      "outputs": [
        {
          "output_type": "stream",
          "name": "stdout",
          "text": [
            "9/9 [==============================] - 0s 5ms/step - loss: 0.4396 - accuracy: 0.8094\n"
          ]
        },
        {
          "output_type": "execute_result",
          "data": {
            "text/plain": [
              "[0.4395875930786133, 0.8093525171279907]"
            ]
          },
          "metadata": {},
          "execution_count": 21
        }
      ]
    },
    {
      "cell_type": "markdown",
      "source": [
        "Experimental characteristics-results of the MLP"
      ],
      "metadata": {
        "id": "XPP4B4VCJkAW"
      }
    },
    {
      "cell_type": "code",
      "source": [
        "def report(x, y, set_type):\n",
        "  probs_belong_to_class_1 = model.predict(x)\n",
        "  probs_belong_to_class_0 = 1-probs_belong_to_class_1\n",
        "  predict_proba_preds = np.concatenate((probs_belong_to_class_0, probs_belong_to_class_1), axis = 1)\n",
        "\n",
        "  print(f\"\\nPrecision, recall, F1 scores for each class({set_type} set)\")\n",
        "  print(classification_report(y, np.round(model.predict(x)).astype(\"int32\"), labels=np.array([0,1])))\n",
        "                                    # (model.predict(x_train_svd) >= 0.5).astype(\"int32\")\n",
        "\n",
        "  print(f\"\\nPrecision Recall AUC score for the negative class({set_type} set):\")\n",
        "  precision, recall, thresholds = precision_recall_curve(y, predict_proba_preds[:,0],pos_label=0)\n",
        "  area_train_1 = auc(recall, precision)\n",
        "  print(area_train_1)\n",
        "  print(f\"\\nPrecision Recall AUC score for the positive class({set_type} set):\")\n",
        "  precision, recall, thresholds = precision_recall_curve(y, predict_proba_preds[:,1],pos_label=1)\n",
        "  area_train_2 = auc(recall, precision)\n",
        "  print(area_train_2)\n",
        "  print(f\"\\nMacro-averaged Precision Recall AUC score for the {set_type} set:\")\n",
        "  print((area_train_1+area_train_2)/2)"
      ],
      "metadata": {
        "id": "rvJsXUft-KHh"
      },
      "execution_count": null,
      "outputs": []
    },
    {
      "cell_type": "markdown",
      "source": [
        "Results of the train set:"
      ],
      "metadata": {
        "id": "PoKHvQz4J3Zi"
      }
    },
    {
      "cell_type": "code",
      "source": [
        "# Train set\n",
        "report(x_train_svd, y_train, \"train\")"
      ],
      "metadata": {
        "colab": {
          "base_uri": "https://localhost:8080/"
        },
        "id": "pajDtaMSGvyu",
        "outputId": "1de5ee2a-e3cd-4036-9df4-9a7649416465"
      },
      "execution_count": null,
      "outputs": [
        {
          "output_type": "stream",
          "name": "stdout",
          "text": [
            "\n",
            "Precision, recall, F1 scores for each class(train set)\n",
            "              precision    recall  f1-score   support\n",
            "\n",
            "           0       0.90      0.96      0.93       425\n",
            "           1       0.95      0.89      0.92       406\n",
            "\n",
            "    accuracy                           0.93       831\n",
            "   macro avg       0.93      0.93      0.93       831\n",
            "weighted avg       0.93      0.93      0.93       831\n",
            "\n",
            "\n",
            "Precision Recall AUC score for the negative class(train set):\n",
            "0.9831038371925986\n",
            "\n",
            "Precision Recall AUC score for the positive class(train set):\n",
            "0.9831022409623265\n",
            "\n",
            "Macro-averaged Precision Recall AUC score for the train set:\n",
            "0.9831030390774625\n"
          ]
        }
      ]
    },
    {
      "cell_type": "markdown",
      "source": [
        "Results of the dev set:"
      ],
      "metadata": {
        "id": "X4rOMd7TJ-1F"
      }
    },
    {
      "cell_type": "code",
      "source": [
        "# Dev set\n",
        "report(x_dev_svd, y_dev, \"dev\")"
      ],
      "metadata": {
        "colab": {
          "base_uri": "https://localhost:8080/"
        },
        "id": "3vanhSLIG7yD",
        "outputId": "571b0332-0667-40b9-8859-6cbd03c14ddd"
      },
      "execution_count": null,
      "outputs": [
        {
          "output_type": "stream",
          "name": "stdout",
          "text": [
            "\n",
            "Precision, recall, F1 scores for each class(dev set)\n",
            "              precision    recall  f1-score   support\n",
            "\n",
            "           0       0.78      0.80      0.79       137\n",
            "           1       0.80      0.78      0.79       140\n",
            "\n",
            "    accuracy                           0.79       277\n",
            "   macro avg       0.79      0.79      0.79       277\n",
            "weighted avg       0.79      0.79      0.79       277\n",
            "\n",
            "\n",
            "Precision Recall AUC score for the negative class(dev set):\n",
            "0.8817744263240535\n",
            "\n",
            "Precision Recall AUC score for the positive class(dev set):\n",
            "0.8605324574738351\n",
            "\n",
            "Macro-averaged Precision Recall AUC score for the dev set:\n",
            "0.8711534418989443\n"
          ]
        }
      ]
    },
    {
      "cell_type": "markdown",
      "source": [
        "Results of the test set:"
      ],
      "metadata": {
        "id": "5HDuVn5FKEoi"
      }
    },
    {
      "cell_type": "code",
      "source": [
        "# Test set\n",
        "report(x_test_svd, y_test, \"test\")"
      ],
      "metadata": {
        "colab": {
          "base_uri": "https://localhost:8080/"
        },
        "id": "PPfOi3CJG9hm",
        "outputId": "100d65b6-31cc-44e9-e538-ee8df29d3be5"
      },
      "execution_count": null,
      "outputs": [
        {
          "output_type": "stream",
          "name": "stdout",
          "text": [
            "\n",
            "Precision, recall, F1 scores for each class(test set)\n",
            "              precision    recall  f1-score   support\n",
            "\n",
            "           0       0.77      0.85      0.81       130\n",
            "           1       0.85      0.78      0.82       148\n",
            "\n",
            "    accuracy                           0.81       278\n",
            "   macro avg       0.81      0.81      0.81       278\n",
            "weighted avg       0.82      0.81      0.81       278\n",
            "\n",
            "\n",
            "Precision Recall AUC score for the negative class(test set):\n",
            "0.8558188004118252\n",
            "\n",
            "Precision Recall AUC score for the positive class(test set):\n",
            "0.9040022024642915\n",
            "\n",
            "Macro-averaged Precision Recall AUC score for the test set:\n",
            "0.8799105014380584\n"
          ]
        }
      ]
    },
    {
      "cell_type": "markdown",
      "source": [
        "# **RNN**"
      ],
      "metadata": {
        "id": "QgkLXhv3SqRu"
      }
    },
    {
      "cell_type": "markdown",
      "source": [
        "## **Preprocessing**\n",
        "\n",
        "\n"
      ],
      "metadata": {
        "id": "h3K4-A99UAfv"
      }
    },
    {
      "cell_type": "markdown",
      "source": [
        "Loading the review-files and their assigned class, 0 for negative and 1 for positive"
      ],
      "metadata": {
        "id": "DVlCriNFU3nA"
      }
    },
    {
      "cell_type": "code",
      "source": [
        "movies = load_files(container_path=\"tokens\") \n",
        "x, y = movies.data, movies.target"
      ],
      "metadata": {
        "id": "zE2HJRQ-Um9i"
      },
      "execution_count": null,
      "outputs": []
    },
    {
      "cell_type": "markdown",
      "source": [
        "Removing unecessary characters from the data"
      ],
      "metadata": {
        "id": "tz5ULjCTVHUv"
      }
    },
    {
      "cell_type": "code",
      "source": [
        "nltk.download('wordnet')\n",
        "\n",
        "docs = []\n",
        "docs_str=\"\"\n",
        "\n",
        "for doc in x: \n",
        "    \n",
        "    # Remove non-word (special) characters such as punctuation, numbers etc\n",
        "    document = re.sub(r'\\W', ' ', str(doc))              # \\W matches any single letter, number or underscore\n",
        "\n",
        "    document = re.sub(r'[0-9]',' ', document)\n",
        "\n",
        "    # Remove all single characters\n",
        "    document = re.sub(r'\\s+[a-zA-Z]\\s+', ' ', document)  # unnecessary\n",
        "    \n",
        "    #Remove the bs from the begining.\n",
        "    document = re.sub(r'^[a-zA-Z]\\s+', ' ', document)\n",
        "    # Substitute multiple spaces with single space\n",
        "    document = re.sub(r'\\s+', ' ', document, flags=re.I) # \\s+ means a string of whitespace characters\n",
        "\n",
        "    # Convert to Lowercase\n",
        "    document = document.lower()\n",
        "\n",
        "    # Split the document based on whitespaces (--> List of words)\n",
        "    document = document.split()\n",
        "    \n",
        "    # Reconstruct the document by joining the words on each whitespace\n",
        "    document = ' '.join(document)\n",
        "\n",
        "    # Append all documents into a list 'docs'\n",
        "    docs.append(document)\n",
        "    docs_str = ''.join(document)"
      ],
      "metadata": {
        "colab": {
          "base_uri": "https://localhost:8080/"
        },
        "id": "3xBNl3myU8XS",
        "outputId": "1045852e-4a49-47eb-c773-ff3964f61a08"
      },
      "execution_count": null,
      "outputs": [
        {
          "output_type": "stream",
          "name": "stdout",
          "text": [
            "[nltk_data] Downloading package wordnet to /root/nltk_data...\n",
            "[nltk_data]   Package wordnet is already up-to-date!\n"
          ]
        }
      ]
    },
    {
      "cell_type": "markdown",
      "source": [
        "Train, Test, Dev Split"
      ],
      "metadata": {
        "id": "58ySJzNFVXTG"
      }
    },
    {
      "cell_type": "code",
      "source": [
        "x_train, x_test, y_train, y_test = train_test_split(docs, y, test_size=0.2, random_state=13579)\n",
        "\n",
        "x_train, x_dev, y_train, y_dev = train_test_split(x_train, y_train, test_size=0.25, random_state=13579)"
      ],
      "metadata": {
        "id": "1Y6INYxlU8CL"
      },
      "execution_count": null,
      "outputs": []
    },
    {
      "cell_type": "markdown",
      "metadata": {
        "id": "LMiXrWM5g1uX"
      },
      "source": [
        "#### **Download, unzip & load fasttext word embeddings**"
      ]
    },
    {
      "cell_type": "code",
      "execution_count": null,
      "metadata": {
        "colab": {
          "base_uri": "https://localhost:8080/"
        },
        "id": "XYc43EKwgwJD",
        "outputId": "56901be5-1a79-4bd2-e9d3-e16d85d9be63"
      },
      "outputs": [
        {
          "output_type": "stream",
          "name": "stdout",
          "text": [
            "--2022-03-18 19:26:25--  https://dl.fbaipublicfiles.com/fasttext/vectors-crawl/cc.en.300.vec.gz\n",
            "Resolving dl.fbaipublicfiles.com (dl.fbaipublicfiles.com)... 104.22.75.142, 104.22.74.142, 172.67.9.4, ...\n",
            "Connecting to dl.fbaipublicfiles.com (dl.fbaipublicfiles.com)|104.22.75.142|:443... connected.\n",
            "HTTP request sent, awaiting response... 200 OK\n",
            "Length: 1325960915 (1.2G) [binary/octet-stream]\n",
            "Saving to: ‘cc.en.300.vec.gz’\n",
            "\n",
            "cc.en.300.vec.gz    100%[===================>]   1.23G  50.3MB/s    in 27s     \n",
            "\n",
            "2022-03-18 19:26:52 (46.1 MB/s) - ‘cc.en.300.vec.gz’ saved [1325960915/1325960915]\n",
            "\n",
            "gzip: cc.en.300.vec already exists; do you wish to overwrite (y or n)? y\n"
          ]
        }
      ],
      "source": [
        "!wget https://dl.fbaipublicfiles.com/fasttext/vectors-crawl/cc.en.300.vec.gz\n",
        "!gzip -d cc.en.300.vec.gz"
      ]
    },
    {
      "cell_type": "markdown",
      "metadata": {
        "id": "lXYe641ahLpL"
      },
      "source": [
        "#### **Load fasttext embeddings**\n",
        "To load fasttext pre-trained embeddings more efficiently, we can read only once the embeddings file and save:\n",
        "\n",
        "1. A 2D np-array for the embedding vectors\n",
        "2. A dictionary that maps each word to the row index of its embedding on the 2D np-array"
      ]
    },
    {
      "cell_type": "code",
      "execution_count": null,
      "metadata": {
        "id": "ZRyjUOlTg9Sq"
      },
      "outputs": [],
      "source": [
        "idx = 0\n",
        "vocab = {}\n",
        "# Save embeddings to numpy array (vocab_size x dimensions)\n",
        "# We manually add 2 special tokens (for padding & unknown words)\n",
        "with open(\"cc.en.300.vec\", 'r', encoding=\"utf-8\", newline='\\n',errors='ignore') as f:\n",
        "    for l in f:\n",
        "        line = l.rstrip().split(' ')\n",
        "        if idx == 0:\n",
        "            vocab_size = int(line[0]) + 2\n",
        "            dim = int(line[1])\n",
        "            vecs = np.zeros(vocab_size*dim).reshape(vocab_size,dim)\n",
        "            vocab[\"__PADDING__\"] = 0\n",
        "            vocab[\"__UNK__\"] = 1\n",
        "            idx = 2\n",
        "        else:\n",
        "            vocab[line[0]] = idx\n",
        "            emb = np.array(line[1:]).astype(np.float)\n",
        "            if (emb.shape[0] == dim):\n",
        "                vecs[idx,:] = emb  # Embeddings are saved in an numpy array vecs\n",
        "                idx+=1\n",
        "            else:\n",
        "                continue\n",
        "\n",
        "    # Serialize vocab & embeddings\n",
        "    pickle.dump(vocab,open(\"/content/drive/MyDrive/fasttext_voc.pkl\" ,'wb'))\n",
        "    np.save(\"/content/drive/MyDrive/fasttext.npy\",vecs)\n",
        "    \n",
        "    # Free ram\n",
        "    vecs = None\n",
        "    vocab = None\n",
        "    emb = None"
      ]
    },
    {
      "cell_type": "code",
      "source": [
        "fasttext_embed = np.load(\"/content/drive/MyDrive/fasttext.npy\")\n",
        "fasttext_word_to_index = pickle.load(open(\"/content/drive/MyDrive/fasttext_voc.pkl\", 'rb'))"
      ],
      "metadata": {
        "id": "DBhGL4ZRumQN"
      },
      "execution_count": null,
      "outputs": []
    },
    {
      "cell_type": "markdown",
      "metadata": {
        "id": "-dnDmeZYhz_Y"
      },
      "source": [
        "#### **Use spacy for sentence splitting & tokenization**"
      ]
    },
    {
      "cell_type": "code",
      "source": [
        "nlp = spacy.load('en_core_web_sm',disable=[\"tagger\", \"parser\",\"ner\"])\n",
        "nlp.add_pipe(nlp.create_pipe('sentencizer')) \n",
        "\n",
        "def tokenize_samples(samples):\n",
        "  \n",
        "  tokenized_samples = []\n",
        "  for i in range(len(samples)):\n",
        "    doc = nlp(samples[i])  # Tokenize the sample into sentences\n",
        "    tokens = []\n",
        "    for sent in doc.sents:\n",
        "      for tok in sent:  # Iterate through the words of the sentence\n",
        "        if '\\n' in tok.text or \"\\t\" in tok.text or \"--\" in tok.text or \"*\" in tok.text or tok.text.lower() in STOP_WORDS:\n",
        "          continue\n",
        "        if tok.text.strip():  \n",
        "          tokens.append(tok.text.replace('\"',\"'\").strip())\n",
        "    tokenized_samples.append(tokens)\n",
        "\n",
        "  return tokenized_samples\n",
        "\n",
        "X_train_tokenized = tokenize_samples(x_train)\n",
        "X_val_tokenized = tokenize_samples(x_dev)\n",
        "X_test_tokenized = tokenize_samples(x_test)"
      ],
      "metadata": {
        "id": "dbH8P4Sdzzjj"
      },
      "execution_count": null,
      "outputs": []
    },
    {
      "cell_type": "code",
      "source": [
        "# Get mean and std for length on trainning set\n",
        "print('Average length of samples: {}'.format(np.mean([len(x) for x in X_train_tokenized])))\n",
        "print('Std length of samples: {}'.format(np.std([len(x) for x in X_train_tokenized])))\n",
        "print('#Samples with length > 100: {} \\n'.format(np.sum([len(x) > 1000 for x in X_train_tokenized])))\n",
        "print('X_example: {}'.format(X_train_tokenized[0]))"
      ],
      "metadata": {
        "colab": {
          "base_uri": "https://localhost:8080/"
        },
        "id": "c6MFJq_MXf29",
        "outputId": "970f346e-92d7-4ceb-ce4f-349e1128dcac"
      },
      "execution_count": null,
      "outputs": [
        {
          "output_type": "stream",
          "name": "stdout",
          "text": [
            "Average length of smples: 322.36943441636583\n",
            "Std length of samples: 136.93265881044567\n",
            "#Samples with length > 100: 0 \n",
            "\n",
            "X_example: ['mr', 'nice', 'guy', 'latest', 'jackie', 'chan', 'film', 'know', 'expect', 'weak', 'plot', 'terrible', 'dialogue', 'little', 'acting', 'ability', 'jaw', 'dropping', 'action', 'sequences', 'nearly', 'rest', 'worthwhile', 'mr', 'nice', 'guy', 'lacks', 'sparkle', 'jackie', 'best', 'efforts', 'weaknesses', 'glaring', 'jackie', 'chan', 'plays', 'jackie', 'time', 'famous', 'chef', 'hosts', 'australian', 'cooking', 'makes', 'difference', 'plot', 'scenes', 'cooking', 'rest', 'film', 'mutates', 'jackie', 'chan', 'supercop', 'explain', 'character', 'superb', 'martial', 'arts', 'skills', 'cooking', 'class', 'steven', 'seagal', 'siege', 'tv', 'newswoman', 'diana', 'gabrielle', 'fitzpatrick', 'covertly', 'tapes', 'drug', 'deal', 'involving', 'kingpin', 'giancarlo', 'richard', 'norton', 'local', 'gang', 'toughs', 'demons', 'camcorder', 'result', 'close', 'ups', 'multiple', 'angles', 'hmmm', 'shades', 'broadcast', 'news', 'goons', 'discover', 'diana', 'recover', 'tape', 'lies', 'crucial', 'flaw', 'story', 'doesn', 'realize', 'copy', 'tape', 'oh', 'said', 'jackie', 'chan', 'movies', 'sense', 'luck', 'diana', 'runs', 'jackie', 'wouldn', 'know', 'jackie', 'accidentally', 'ends', 'tape', 'leads', 'countless', 'chase', 'fight', 'scenes', 'look', 'like', 'lifted', 'rumble', 'bronx', 'nearly', 'jackie', 'chan', 'movie', 'apparently', 'designed', 'woo', 'american', 'english', 'speaking', 'audiences', 'film', 'uses', 'english', 'primary', 'language', 'doesn', 'mean', 'end', 'atrocious', 'dubbing', 'afflicted', 'jackie', 'recent', 'americanized', 'releases', 'strangely', 'characters', 'speaking', 'english', 'overdubbed', 'english', 'poorly', 'bad', 'case', 'looping', 'effort', 'minimize', 'accents', 'simple', 'case', 'nostalgia', 'achieve', 'level', 'distraction', 'present', 'jackie', 'dubbed', 'films', 'plot', 'mr', 'nice', 'guy', 'negligible', 'merely', 'excuse', 'jackie', 'run', 'goons', 'plots', 'second', 'action', 'jackie', 'films', 'odd', 'filmmakers', 'stuck', 'tired', 'retread', 'look', 'jackie', 'chan', 'playing', 'chef', 'use', 'advantage', 'watching', 'jackie', 'stuff', 'kitchen', 'beating', 'bad', 'guys', 'foodstuffs', 'sounds', 'like', 'perfect', 'setup', 'innumerable', 'comic', 'stunts', 'action', 'mixed', 'bag', 'holds', 'barred', 'fight', 'scenes', 'trademark', 'jackie', 'films', 'takes', 'place', 'arbitrary', 'location', 'construction', 'site', 'apparently', 'sole', 'reason', 'lots', 'nifty', 'things', 'lying', 'useful', 'ala', 'jackie', 'chan', 'action', 'film', 'jackie', 'best', 'worst', 'long', 'inspiration', 'scenes', 'film', 'gratuitous', 'use', 'slow', 'motion', 'distracting', 'twice', 'useful', 'highlight', 'spectacular', 'stunt', 'sequence', 'slo', 'mo', 'jackie', 'running', 'nod', 'million', 'dollar', 'man', 'pathetic', 'attempt', 'disguise', 'fact', 'jackie', 'slowing', 've', 'seen', 'jackie', 'films', 'need', 'fix', 'ahead', 'mr', 'nice', 'guy', 'mood', 'good', 'action', 'better', 'hitting', 'video', 'store', 'better', 'work', 'supercop', 'n']\n"
          ]
        }
      ]
    },
    {
      "cell_type": "markdown",
      "source": [
        "#### **Convert labels to 1-hot vectors**"
      ],
      "metadata": {
        "id": "a0K20yOgHM2e"
      }
    },
    {
      "cell_type": "code",
      "source": [
        "lb = LabelBinarizer()\n",
        "target_list = ['Negative', 'Positive']\n",
        "\n",
        "y_train_1_hot = lb.fit_transform([target_list[x] for x in y_train])\n",
        "y_val_1_hot = lb.transform([target_list[x] for x in y_dev])\n",
        "y_test_1_hot = lb.transform([target_list[x] for x in y_test])\n",
        "\n",
        "print('Y_example: {}'.format(y_train_1_hot[0]))"
      ],
      "metadata": {
        "colab": {
          "base_uri": "https://localhost:8080/"
        },
        "id": "fyIHQnGaHGa3",
        "outputId": "215c24a0-d685-4b1e-c235-3519039f2d33"
      },
      "execution_count": null,
      "outputs": [
        {
          "output_type": "stream",
          "name": "stdout",
          "text": [
            "Y_example: [0]\n"
          ]
        }
      ]
    },
    {
      "cell_type": "markdown",
      "metadata": {
        "id": "3nc-nrOOiIhs"
      },
      "source": [
        "#### **Tokenize, convert text (sequence of words) to sequence of indexes and PAD the sequences**\n",
        "\n",
        "Tensorflow's tokenizer: https://www.tensorflow.org/api_docs/python/tf/keras/preprocessing/text/Tokenizer\n",
        "\n",
        "Tensorflow's pad_sequences: https://www.tensorflow.org/api_docs/python/tf/keras/preprocessing/sequence/pad_sequences"
      ]
    },
    {
      "cell_type": "code",
      "execution_count": null,
      "metadata": {
        "id": "Yb49ofcQiIqD"
      },
      "outputs": [],
      "source": [
        "MAX_WORDS = 1000#WAS 100000 EPAIRNE POLY\n",
        "MAX_SEQUENCE_LENGTH = 350\n",
        "EMBEDDING_DIM = fasttext_embed.shape[1]       # --> 300\n",
        "                                              # .shape[0] --> 2000002\n",
        "# Init tokenizer\n",
        "tokenizer = Tokenizer(num_words=MAX_WORDS, oov_token='__UNK__')\n",
        "# num_words: the maximum number of words to keep, based on word frequency.\n",
        "# oov_token: will be used to replace OOV WORDS\n",
        "\n",
        "# Fit tokenizer (Updates internal vocabulary based on a list of texts.)\n",
        "tokenizer.fit_on_texts([\" \".join(x) for x in X_train_tokenized])\n",
        "\n",
        "# Converts text to sequences of IDs\n",
        "train_seqs = tokenizer.texts_to_sequences([\" \".join(x) for x in X_train_tokenized])      # --> len > or < 350 (or coincidencally =)\n",
        "val_seqs = tokenizer.texts_to_sequences([\" \".join(x) for x in X_val_tokenized])          # --> len > or < 350 (or coincidencally =)\n",
        "test_seqs = tokenizer.texts_to_sequences([\" \".join(x) for x in X_test_tokenized])\n",
        "\n",
        "train_data = pad_sequences(train_seqs, maxlen=MAX_SEQUENCE_LENGTH, padding='post')       # --> len=350 --> num_timesteps\n",
        "val_data = pad_sequences(val_seqs, maxlen=MAX_SEQUENCE_LENGTH, padding='post')           # --> len=350\n",
        "test_data = pad_sequences(test_seqs, maxlen=MAX_SEQUENCE_LENGTH, padding='post')"
      ]
    },
    {
      "cell_type": "code",
      "source": [
        "print(train_seqs[11])\n",
        "print(train_data[11])"
      ],
      "metadata": {
        "colab": {
          "base_uri": "https://localhost:8080/"
        },
        "id": "8PprTBLG3LIH",
        "outputId": "56790f52-8e02-4ca1-ffce-06a3294b439b"
      },
      "execution_count": null,
      "outputs": [
        {
          "output_type": "stream",
          "name": "stdout",
          "text": [
            "[1, 1, 111, 379, 1, 1, 1, 272, 1, 272, 1, 379, 1, 1, 1, 393, 1, 1, 1, 1, 733, 97, 1, 80, 97, 1, 747, 1, 66, 1, 1, 146, 342, 1, 34, 19, 106, 1, 1, 1, 1, 599, 111, 1, 150, 224, 36, 586, 1, 1, 734, 358, 1, 1, 1, 487, 1, 1, 1, 1, 1, 821, 1, 1, 118, 379, 1, 69, 1, 36, 397, 3, 870, 1, 54, 1, 870, 1, 442, 99, 1, 1, 1, 1, 1, 311, 1, 65, 1, 1, 558, 1, 520, 1, 124, 1, 1, 1, 124, 1, 1, 1, 1, 1, 1, 1, 275, 1, 436, 1, 1, 1, 272, 1, 1, 1, 68, 1, 851, 1, 1, 1, 1, 83, 1, 1, 1, 1, 1, 1, 1, 1, 1, 22, 1, 276, 1, 1, 1, 1, 1, 1, 851, 1, 1, 1, 1, 1, 1, 1, 1, 221, 45, 1, 97, 1, 747, 1, 1, 46, 237, 521, 851, 1, 237, 1, 1, 1, 134, 605, 1, 1, 1, 15, 484, 1, 1, 388, 17, 660, 10, 1, 748, 1, 1, 1, 561, 1, 1, 1, 69, 1, 1, 1, 1, 1, 926, 3, 69, 168, 1, 590, 1, 1, 311, 1, 1, 1, 24, 149, 1, 1, 195, 1, 9, 69, 1, 1, 1, 739, 1, 232, 197, 75, 1, 6, 75, 198, 1, 1, 1, 156, 1, 1, 450, 121, 1, 1, 10, 1, 1, 1, 1, 69, 941, 367, 344, 1, 1, 577, 1, 2, 742, 1, 1, 1, 1, 329, 1, 1, 1, 40, 1, 1, 419, 116, 1, 172, 108, 1, 40, 1, 1, 1, 116, 172, 1, 1, 3, 1, 70, 108, 1, 40, 116, 1, 577, 1, 8]\n",
            "[  1   1 111 379   1   1   1 272   1 272   1 379   1   1   1 393   1   1\n",
            "   1   1 733  97   1  80  97   1 747   1  66   1   1 146 342   1  34  19\n",
            " 106   1   1   1   1 599 111   1 150 224  36 586   1   1 734 358   1   1\n",
            "   1 487   1   1   1   1   1 821   1   1 118 379   1  69   1  36 397   3\n",
            " 870   1  54   1 870   1 442  99   1   1   1   1   1 311   1  65   1   1\n",
            " 558   1 520   1 124   1   1   1 124   1   1   1   1   1   1   1 275   1\n",
            " 436   1   1   1 272   1   1   1  68   1 851   1   1   1   1  83   1   1\n",
            "   1   1   1   1   1   1   1  22   1 276   1   1   1   1   1   1 851   1\n",
            "   1   1   1   1   1   1   1 221  45   1  97   1 747   1   1  46 237 521\n",
            " 851   1 237   1   1   1 134 605   1   1   1  15 484   1   1 388  17 660\n",
            "  10   1 748   1   1   1 561   1   1   1  69   1   1   1   1   1 926   3\n",
            "  69 168   1 590   1   1 311   1   1   1  24 149   1   1 195   1   9  69\n",
            "   1   1   1 739   1 232 197  75   1   6  75 198   1   1   1 156   1   1\n",
            " 450 121   1   1  10   1   1   1   1  69 941 367 344   1   1 577   1   2\n",
            " 742   1   1   1   1 329   1   1   1  40   1   1 419 116   1 172 108   1\n",
            "  40   1   1   1 116 172   1   1   3   1  70 108   1  40 116   1 577   1\n",
            "   8   0   0   0   0   0   0   0   0   0   0   0   0   0   0   0   0   0\n",
            "   0   0   0   0   0   0   0   0   0   0   0   0   0   0   0   0   0   0\n",
            "   0   0   0   0   0   0   0   0   0   0   0   0   0   0   0   0   0   0\n",
            "   0   0   0   0   0   0   0   0]\n"
          ]
        }
      ]
    },
    {
      "cell_type": "code",
      "source": [
        "word_index = tokenizer.word_index\n",
        "print('Found {} unique tokens.\\n'.format(len(word_index)))\n",
        "\n",
        "print(word_index)"
      ],
      "metadata": {
        "colab": {
          "base_uri": "https://localhost:8080/"
        },
        "id": "6JKWYT8y4kKU",
        "outputId": "a667499e-da6c-4fad-b9c0-0415d73cc4b0"
      },
      "execution_count": null,
      "outputs": [
        {
          "output_type": "stream",
          "name": "stdout",
          "text": [
            "Found 27316 unique tokens.\n",
            "\n",
            "{'__UNK__': 1, 'film': 2, 'movie': 3, 'like': 4, 'time': 5, 'good': 6, 'story': 7, 'n': 8, 'character': 9, 'characters': 10, 'way': 11, 'little': 12, 'people': 13, 'films': 14, 'plot': 15, 'life': 16, 'don': 17, 'director': 18, 'bad': 19, 'scene': 20, 'man': 21, 'movies': 22, 'scenes': 23, 'great': 24, 'best': 25, 'new': 26, 'doesn': 27, 'action': 28, 'know': 29, 'love': 30, 'big': 31, 'john': 32, 'end': 33, 'minutes': 34, 'going': 35, 'cast': 36, 'year': 37, 'makes': 38, 'better': 39, 'com': 40, 'things': 41, 'actually': 42, 'real': 43, 'old': 44, 'think': 45, 'audience': 46, 'gets': 47, 'role': 48, 'work': 49, 've': 50, 'world': 51, 'isn': 52, 'performance': 53, 'comedy': 54, 'seen': 55, 'thing': 56, 'fact': 57, 'long': 58, 'look': 59, 'young': 60, 'years': 61, 'm': 62, 'played': 63, 'comes': 64, 'plays': 65, 'directed': 66, 'right': 67, 'family': 68, 'funny': 69, 'http': 70, 'original': 71, 'find': 72, 'script': 73, 'lot': 74, 'come': 75, 'takes': 76, 'star': 77, 'actors': 78, 'point': 79, 'written': 80, 'interesting': 81, 'screen': 82, 'course': 83, 'fun': 84, 'michael': 85, 'acting': 86, 'effects': 87, 'day': 88, 'american': 89, 'having': 90, 'goes': 91, 'high': 92, 'hard': 93, 'guy': 94, 'far': 95, 'away': 96, 'david': 97, 'making': 98, 'picture': 99, 'll': 100, 'instead': 101, 'pretty': 102, 'woman': 103, 'half': 104, 'times': 105, 'set': 106, 'home': 107, 'www': 108, 'probably': 109, 'sure': 110, 'starring': 111, 'music': 112, 'screenplay': 113, 'hollywood': 114, 'didn': 115, 'reviews': 116, 'watch': 117, 'stars': 118, 'trying': 119, 'sense': 120, 'based': 121, 'running': 122, 'review': 123, 'kind': 124, 'place': 125, 'want': 126, 'looking': 127, 'watching': 128, 'james': 129, 'bit': 130, 'money': 131, 'got': 132, 'play': 133, 'special': 134, 'wife': 135, 'job': 136, 'school': 137, 'series': 138, 'help': 139, 'wants': 140, 'given': 141, 'black': 142, 'gives': 143, 'dialogue': 144, 'death': 145, 'rated': 146, 'jackie': 147, 'violence': 148, 'actor': 149, 'night': 150, 'father': 151, 'house': 152, 'robert': 153, 'rest': 154, 'case': 155, 'second': 156, 'feel': 157, 'moments': 158, 'different': 159, 'mother': 160, 'especially': 161, 'men': 162, 'sex': 163, 'tries': 164, 'dead': 165, 'horror': 166, 'soon': 167, 'small': 168, 'line': 169, 'shows': 170, 'friends': 171, 'found': 172, 'looks': 173, 'turns': 174, 'use': 175, 'head': 176, 'getting': 177, 'lee': 178, 'ending': 179, 'past': 180, 'city': 181, 'thought': 182, 'performances': 183, 'problem': 184, 'named': 185, 'reason': 186, 'left': 187, 'human': 188, 'simply': 189, 'friend': 190, 'tv': 191, 'style': 192, 'main': 193, 'nice': 194, 'playing': 195, 'couple': 196, 'humor': 197, 'entire': 198, 'idea': 199, 'xa': 200, 'girl': 201, 'let': 202, 'tom': 203, 'group': 204, 'maybe': 205, 'town': 206, 'said': 207, 'joe': 208, 'kids': 209, 'certainly': 210, 'later': 211, 'car': 212, 'children': 213, 'boy': 214, 'tell': 215, 'true': 216, 'turn': 217, 'sequence': 218, 'begins': 219, 'including': 220, 'mind': 221, 'face': 222, 'called': 223, 'live': 224, 'unfortunately': 225, 'finds': 226, 'team': 227, 'hour': 228, 'start': 229, 'wrong': 230, 'relationship': 231, 'try': 232, 'lost': 233, 'won': 234, 'despite': 235, 'run': 236, 'believe': 237, 'days': 238, 'finally': 239, 'final': 240, 'seeing': 241, 'entertaining': 242, 'war': 243, 'comic': 244, 'works': 245, 'hand': 246, 'able': 247, 'matter': 248, 'completely': 249, 'lives': 250, 'white': 251, 'book': 252, 'writer': 253, 'person': 254, 'starts': 255, 'hit': 256, 'shot': 257, 'scream': 258, 'disney': 259, 'nearly': 260, 'video': 261, 'early': 262, 'short': 263, 'summer': 264, 'evil': 265, 'camera': 266, 'production': 267, 'genre': 268, 'de': 269, 'supposed': 270, 'roles': 271, 'peter': 272, 'game': 273, 'example': 274, 'son': 275, 'computer': 276, 'obvious': 277, 'kevin': 278, 'mr': 279, 'close': 280, 'worst': 281, 'language': 282, 'guys': 283, 'voice': 284, 'scott': 285, 'daughter': 286, 'perfect': 287, 'care': 288, 'jones': 289, 'women': 290, 'title': 291, 'lines': 292, 'talent': 293, 'direction': 294, 'level': 295, 'need': 296, 'boring': 297, 'aren': 298, 'fall': 299, 'number': 300, 'opening': 301, 'order': 302, 'earth': 303, 'worth': 304, 'thriller': 305, 'xe': 306, 'act': 307, 'moment': 308, 'drama': 309, 'sets': 310, 'feature': 311, 'sequences': 312, 'piece': 313, 'william': 314, 'late': 315, 'known': 316, 'elements': 317, 'self': 318, 'says': 319, 'beautiful': 320, 'certain': 321, 'planet': 322, 'major': 323, 'appears': 324, 'wild': 325, 'dark': 326, 'harry': 327, 'visit': 328, 'mail': 329, 'career': 330, 'classic': 331, 'fight': 332, 'extremely': 333, 'paul': 334, 'parents': 335, 'beginning': 336, 'alien': 337, 'child': 338, 'interest': 339, 'killer': 340, 'fiction': 341, 'pg': 342, 'supporting': 343, 'd': 344, 'oscar': 345, 'exactly': 346, 'strong': 347, 'release': 348, 'husband': 349, 'yes': 350, 'version': 351, 'space': 352, 'experience': 353, 'tells': 354, 'talking': 355, 'ends': 356, 'problems': 357, 'credits': 358, 'co': 359, 'fine': 360, 'truly': 361, 'york': 362, 'brother': 363, 'kid': 364, 'sound': 365, 'involved': 366, 'kill': 367, 'brothers': 368, 'george': 369, 'sort': 370, 'body': 371, 'bill': 372, 'deep': 373, 'particularly': 374, 'hours': 375, 'eventually': 376, 'deal': 377, 'result': 378, 'chris': 379, 'murder': 380, 'attention': 381, 'coming': 382, 'rating': 383, 'eyes': 384, 'involving': 385, 'novel': 386, 'knows': 387, 'happens': 388, 'sexual': 389, 'working': 390, 'wasn': 391, 'room': 392, 'richard': 393, 'mean': 394, 'attempt': 395, 'material': 396, 'members': 397, 's': 398, 'laughs': 399, 'usually': 400, 'office': 401, 'simple': 402, 'obviously': 403, 'xb': 404, 'read': 405, 'heart': 406, 'manages': 407, 'important': 408, 'steve': 409, 'wonderful': 410, 'note': 411, 'science': 412, 'question': 413, 'wonder': 414, 'runs': 415, 'enjoy': 416, 'worse': 417, 'stupid': 418, 'net': 419, 'meet': 420, 'bring': 421, 'released': 422, 'word': 423, 'laugh': 424, 'single': 425, 'romantic': 426, 'oh': 427, 'leads': 428, 'taken': 429, 'theater': 430, 'attempts': 431, 'somewhat': 432, 'save': 433, 'history': 434, 'free': 435, 'crime': 436, 'quickly': 437, 'allen': 438, 'emotional': 439, 'lack': 440, 'apparently': 441, 'motion': 442, 'produced': 443, 'park': 444, 'words': 445, 'straight': 446, 'saw': 447, 'jack': 448, 'king': 449, 'features': 450, 'martin': 451, 'hope': 452, 'police': 453, 'television': 454, 'brings': 455, 'filmmakers': 456, 'easily': 457, 'business': 458, 'lead': 459, 'america': 460, 'stop': 461, 'talk': 462, 'brief': 463, 'form': 464, 'middle': 465, 'dog': 466, 'complete': 467, 'personal': 468, 'ben': 469, 'local': 470, 'open': 471, 'happy': 472, 'success': 473, 'crew': 474, 'feels': 475, 'falls': 476, 'power': 477, 'jokes': 478, 'surprise': 479, 'smith': 480, 'uses': 481, 'slow': 482, 'writing': 483, 'predictable': 484, 'law': 485, 'dr': 486, 'needs': 487, 'subject': 488, 'difficult': 489, 'large': 490, 'latest': 491, 'max': 492, 'smart': 493, 'leave': 494, 'girls': 495, 'suspense': 496, 'recent': 497, 'art': 498, 'pictures': 499, 'ones': 500, 'battle': 501, 'viewer': 502, 'woody': 503, 'poor': 504, 'fans': 505, 'actress': 506, 'government': 507, 'cut': 508, 'successful': 509, 'hilarious': 510, 'romance': 511, 'entertainment': 512, 'near': 513, 'sequel': 514, 'drug': 515, 'budget': 516, 'visual': 517, 'turned': 518, 'mission': 519, 'jim': 520, 'intelligent': 521, 'follow': 522, 'killed': 523, 'reviewed': 524, 'low': 525, 'guess': 526, 'van': 527, 'ago': 528, 'cool': 529, 'annoying': 530, 'sci': 531, 'taking': 532, 'ways': 533, 'girlfriend': 534, 'gone': 535, 'wouldn': 536, 'stuff': 537, 'scary': 538, 'fi': 539, 'air': 540, 'mark': 541, 'possible': 542, 'secret': 543, 'tale': 544, 'mars': 545, 'easy': 546, 'robin': 547, 'type': 548, 'meets': 549, 'red': 550, 'living': 551, 'bruce': 552, 'forced': 553, 'affair': 554, 'project': 555, 'learn': 556, 'parts': 557, 'jerry': 558, 'remember': 559, 'class': 560, 'situations': 561, 'following': 562, 'slightly': 563, 'similar': 564, 'age': 565, 'nick': 566, 'tony': 567, 'saying': 568, 'audiences': 569, 'mystery': 570, 'die': 571, 'minute': 572, 'chance': 573, 'surprisingly': 574, 'giant': 575, 'cop': 576, 'bob': 577, 'couldn': 578, 'begin': 579, 'etc': 580, 'box': 581, 'premise': 582, 'basically': 583, 'plenty': 584, 'decides': 585, 'member': 586, 'told': 587, 'joke': 588, 'break': 589, 'presence': 590, 'ryan': 591, 'ship': 592, 'thinking': 593, 'water': 594, 'expect': 595, 'country': 596, 'light': 597, 'potential': 598, 'disaster': 599, 'entirely': 600, 'stand': 601, 'follows': 602, 'present': 603, 'million': 604, 'agent': 605, 'hero': 606, 'figure': 607, 'blood': 608, 'huge': 609, 'williams': 610, 'happen': 611, 'flick': 612, 'patrick': 613, 'god': 614, 'dull': 615, 'rock': 616, 'absolutely': 617, 'wedding': 618, 'gun': 619, 'html': 620, 'chan': 621, 'took': 622, 'dream': 623, 'doubt': 624, 'date': 625, 'danny': 626, 'news': 627, 'english': 628, 'aspect': 629, 'nature': 630, 'fast': 631, 'married': 632, 'shots': 633, 'keeps': 634, 'clever': 635, 'add': 636, 'opens': 637, 'clear': 638, 'ex': 639, 'change': 640, 'usual': 641, 'society': 642, 'viewers': 643, 'cinema': 644, 'created': 645, 'came': 646, 'dramatic': 647, 'moving': 648, 'hell': 649, 'thomas': 650, 'popular': 651, 'rich': 652, 'wanted': 653, 'non': 654, 'future': 655, 'nudity': 656, 'giving': 657, 'totally': 658, 'stone': 659, 'create': 660, 'highly': 661, 'sam': 662, 'sister': 663, 'ultimately': 664, 'cute': 665, 'amusing': 666, 'questions': 667, 'impressive': 668, 'prison': 669, 'likely': 670, 'mike': 671, 'marty': 672, 'lots': 673, 'mary': 674, 'critics': 675, 'control': 676, 'french': 677, 'aliens': 678, 'student': 679, 'powerful': 680, 'immediately': 681, 'score': 682, 'musical': 683, 'steven': 684, 'sounds': 685, 'means': 686, 'cinematography': 687, 'heard': 688, 'filled': 689, 'catch': 690, 'chemistry': 691, 'leaving': 692, 'hands': 693, 'private': 694, 'hear': 695, 'felt': 696, 'plan': 697, 'situation': 698, 'impact': 699, 'brown': 700, 'redman': 701, 'impossible': 702, 'jackson': 703, 'feeling': 704, 'ask': 705, 'quality': 706, 'sight': 707, 'violent': 708, 'band': 709, 'master': 710, 'happened': 711, 'anderson': 712, 'famous': 713, 'effort': 714, 'definitely': 715, 'flat': 716, 'female': 717, 'interested': 718, 'lynch': 719, 'overall': 720, 'went': 721, 'sweet': 722, 'previous': 723, 'return': 724, 'depth': 725, 'understand': 726, 'constantly': 727, 'russell': 728, 'charlie': 729, 'today': 730, 'pay': 731, 'leaves': 732, 'fan': 733, 'appear': 734, 'clearly': 735, 'screenwriter': 736, 'energy': 737, 'excellent': 738, 'writers': 739, 'stories': 740, 'copyright': 741, 'critic': 742, 'bunch': 743, 'contains': 744, 'street': 745, 'solid': 746, 'jason': 747, 'familiar': 748, 'west': 749, 'frank': 750, 'ideas': 751, 'strange': 752, 'effective': 753, 'climax': 754, 'julia': 755, 'stephen': 756, 'fox': 757, 'producers': 758, 'effect': 759, 'cold': 760, 'truth': 761, 'inside': 762, 'teen': 763, 'seriously': 764, 'events': 765, 'earlier': 766, 'fails': 767, 'amazing': 768, 'song': 769, 'wish': 770, 'party': 771, 'murphy': 772, 'animated': 773, 'arts': 774, 'chase': 775, 'general': 776, 'enjoyable': 777, 'actual': 778, 'adam': 779, 'heavy': 780, 'twist': 781, 'details': 782, 'conclusion': 783, 'fire': 784, 'christopher': 785, 'martial': 786, 'merely': 787, 'okay': 788, 'points': 789, 'typical': 790, 'outside': 791, 'older': 792, 'perfectly': 793, 'bond': 794, 'humans': 795, 'talented': 796, 'states': 797, 'decent': 798, 'occasionally': 799, 'delivers': 800, 'blue': 801, 'thinks': 802, 'double': 803, 'focus': 804, 'realize': 805, 'haven': 806, 'force': 807, 'moves': 808, 'hits': 809, 'charm': 810, 'trouble': 811, 'message': 812, 'president': 813, 'cinematic': 814, 'view': 815, 'leading': 816, 'event': 817, 'wait': 818, 'matthew': 819, 'intelligence': 820, 'public': 821, 'dude': 822, 'quick': 823, 'tim': 824, 'biggest': 825, 'cage': 826, 'travolta': 827, 'sean': 828, 'slowly': 829, 'liked': 830, 'soldier': 831, 'dumb': 832, 'matt': 833, 'asks': 834, 'showing': 835, 'carpenter': 836, 'batman': 837, 'tarantino': 838, 'ridiculous': 839, 'discovers': 840, 'younger': 841, 'wrote': 842, 'stay': 843, 'animation': 844, 'th': 845, 'pass': 846, 'flaws': 847, 'escape': 848, 'brian': 849, 'particular': 850, 'fbi': 851, 'exciting': 852, 'edward': 853, 'teenage': 854, 'list': 855, 'provide': 856, 'hill': 857, 'puts': 858, 'wilson': 859, 'barely': 860, 'subplot': 861, 'approach': 862, 'thanks': 863, 'terrible': 864, 'sit': 865, 'hate': 866, 'prove': 867, 'jennifer': 868, 'recommend': 869, 'hardly': 870, 'wide': 871, 'provides': 872, 'believable': 873, 'reality': 874, 'memorable': 875, 'wars': 876, 'remake': 877, 'mess': 878, 'baby': 879, 'british': 880, 'hold': 881, 'grace': 882, 'complex': 883, 'offers': 884, 'element': 885, 'incredibly': 886, 'shown': 887, 'cheap': 888, 'central': 889, 'doctor': 890, 'purpose': 891, 'taylor': 892, 'drive': 893, 'suddenly': 894, 'villain': 895, 'needed': 896, 'ability': 897, 'caught': 898, 'college': 899, 'apart': 900, 'tension': 901, 'spent': 902, 'tone': 903, 'kelly': 904, 'political': 905, 'key': 906, 'share': 907, 'male': 908, 'company': 909, 'brilliant': 910, 'fear': 911, 'building': 912, 'greatest': 913, 'ii': 914, 'eddie': 915, 'considering': 916, 'hong': 917, 'store': 918, 'week': 919, 'ride': 920, 'profanity': 921, 'lame': 922, 'win': 923, 'development': 924, 'consider': 925, 'carry': 926, 'apartment': 927, 'inspired': 928, 'boys': 929, 'fellow': 930, 'ready': 931, 'eye': 932, 'subtle': 933, 'recently': 934, 'campbell': 935, 'army': 936, 'modern': 937, 'background': 938, 'hot': 939, 'blues': 940, 'road': 941, 'awful': 942, 'dennis': 943, 'sandler': 944, 'gore': 945, 'waste': 946, 'credit': 947, 'producer': 948, 'hanks': 949, 'thin': 950, 'winning': 951, 'editing': 952, 'mysterious': 953, 'unlike': 954, 'social': 955, 'personality': 956, 'island': 957, 'loud': 958, 'choice': 959, 'charles': 960, 'titanic': 961, 'jonathan': 962, 'tarzan': 963, 'larry': 964, 'lady': 965, 'telling': 966, 'expected': 967, 'proves': 968, 'directing': 969, 'ground': 970, 'falling': 971, 'partner': 972, 'humour': 973, 'introduced': 974, 'stage': 975, 'state': 976, 'convincing': 977, 'led': 978, 'haunting': 979, 'write': 980, 'trailer': 981, 'jane': 982, 'charming': 983, 'wasted': 984, 'storyline': 985, 'step': 986, 'tough': 987, 'check': 988, 'walk': 989, 'pointless': 990, 'washington': 991, 'offer': 992, 'woods': 993, 'miss': 994, 'send': 995, 'images': 996, 'genuine': 997, 'detective': 998, 'favorite': 999, 'hall': 1000, 'ass': 1001, 'track': 1002, 'speak': 1003, 'killing': 1004, 'waiting': 1005, 'looked': 1006, 'lawyer': 1007, 'fairly': 1008, 'tommy': 1009, 'food': 1010, 'williamson': 1011, 'carter': 1012, 'appearance': 1013, 'lies': 1014, 'scale': 1015, 'enjoyed': 1016, 'culture': 1017, 'willis': 1018, 'longer': 1019, 'filmed': 1020, 'rarely': 1021, 'comedies': 1022, 'innocent': 1023, 'journal': 1024, 'beauty': 1025, 'gibson': 1026, 'edge': 1027, 'average': 1028, 'soundtrack': 1029, 'theme': 1030, 'imagine': 1031, 'la': 1032, 'debut': 1033, 'rick': 1034, 'minor': 1035, 'manner': 1036, 'pie': 1037, 'pain': 1038, 'discover': 1039, 'bizarre': 1040, 'remains': 1041, 'knew': 1042, 'cash': 1043, 'sees': 1044, 'adult': 1045, 'race': 1046, 'creating': 1047, 'confused': 1048, 'casting': 1049, 'jr': 1050, 'adults': 1051, 'pure': 1052, 'jamie': 1053, 'spielberg': 1054, 'heroes': 1055, 'stuart': 1056, 'godzilla': 1057, 'patch': 1058, 'difference': 1059, 'generally': 1060, 'pull': 1061, 'dimensional': 1062, 'gary': 1063, 'simon': 1064, 'gave': 1065, 'opportunity': 1066, 'witty': 1067, 'include': 1068, 'decided': 1069, 'contact': 1070, 'club': 1071, 'mrs': 1072, 'concept': 1073, 'camp': 1074, 'information': 1075, 'officer': 1076, 'damon': 1077, 'learns': 1078, 'silly': 1079, 'spends': 1080, 'apes': 1081, 'thrown': 1082, 'dvd': 1083, 'claire': 1084, 'damme': 1085, 'sent': 1086, 'aol': 1087, 'seven': 1088, 'laughing': 1089, 'baldwin': 1090, 'aside': 1091, 'wood': 1092, 'rules': 1093, 'lord': 1094, 'detail': 1095, 'touch': 1096, 'spend': 1097, 'portrayed': 1098, 'setting': 1099, 'pace': 1100, 'realistic': 1101, 'pop': 1102, 'disturbing': 1103, 'reasons': 1104, 'studio': 1105, 'admit': 1106, 'atmosphere': 1107, 'spice': 1108, 'alan': 1109, 'gay': 1110, 'mention': 1111, 'land': 1112, 'machine': 1113, 'baker': 1114, 'brought': 1115, 'clooney': 1116, 'generation': 1117, 'chinese': 1118, 'gang': 1119, 'odd': 1120, 'footage': 1121, 'buy': 1122, 'intended': 1123, 'pieces': 1124, 'worked': 1125, 'dean': 1126, 'sad': 1127, 'comedic': 1128, 'respect': 1129, 'roger': 1130, 'imdb': 1131, 'oliver': 1132, 'trip': 1133, 'twists': 1134, 'content': 1135, 'rate': 1136, 'search': 1137, 'surprising': 1138, 'answer': 1139, 'numerous': 1140, 'jon': 1141, 'surprised': 1142, 'roberts': 1143, 'standard': 1144, 'rescue': 1145, 'hair': 1146, 'seconds': 1147, 'japanese': 1148, 'holds': 1149, 'twice': 1150, 'train': 1151, 'hasn': 1152, 'shoot': 1153, 'accident': 1154, 'finale': 1155, 'adventure': 1156, 'ed': 1157, 'fake': 1158, 'internet': 1159, 'billy': 1160, 'pair': 1161, 'system': 1162, 'jeff': 1163, 'sitting': 1164, 'cause': 1165, 'cameo': 1166, 'sadly': 1167, 'includes': 1168, 'common': 1169, 'involves': 1170, 'games': 1171, 'songs': 1172, 'smile': 1173, 'places': 1174, 'singer': 1175, 'radio': 1176, 'dance': 1177, 'south': 1178, 'arquette': 1179, 'shakespeare': 1180, 'shannon': 1181, 'todd': 1182, 'lacks': 1183, 'reading': 1184, 'meaning': 1185, 'suspect': 1186, 'cross': 1187, 'dollars': 1188, 'likes': 1189, 'exception': 1190, 'sign': 1191, 'catherine': 1192, 'walter': 1193, 'contrived': 1194, 'moore': 1195, 'natural': 1196, 'creates': 1197, 'conflict': 1198, 'door': 1199, 'fresh': 1200, 'bulworth': 1201, 'dies': 1202, 'plans': 1203, 'anthony': 1204, 'rush': 1205, 'boyfriend': 1206, 'kong': 1207, 'began': 1208, 'saving': 1209, 'monster': 1210, 'grant': 1211, 'fighting': 1212, 'weeks': 1213, 'attitude': 1214, 'chosen': 1215, 'adams': 1216, 'mulan': 1217, 'duvall': 1218, 'species': 1219, 'necessary': 1220, 'ian': 1221, 'cover': 1222, 'century': 1223, 'forget': 1224, 'length': 1225, 'shooting': 1226, 'touching': 1227, 'avoid': 1228, 'decide': 1229, 'faces': 1230, 'united': 1231, 'sub': 1232, 'horrible': 1233, 'dreams': 1234, 'nicely': 1235, 'presents': 1236, 'douglas': 1237, 'cameron': 1238, 'bacon': 1239, 'horse': 1240, 'justin': 1241, 'chicken': 1242, 'truman': 1243, 'screening': 1244, 'emotions': 1245, 'missing': 1246, 'names': 1247, 'compelling': 1248, 'crazy': 1249, 'allow': 1250, 'pulp': 1251, 'buddy': 1252, 'seemingly': 1253, 'dustin': 1254, 'fare': 1255, 'slasher': 1256, 'feet': 1257, 'wonderfully': 1258, 'driving': 1259, 'issues': 1260, 'lebowski': 1261, 'current': 1262, 'boss': 1263, 'managed': 1264, 'wall': 1265, 'academy': 1266, 'develop': 1267, 'fate': 1268, 'total': 1269, 'helen': 1270, 'fully': 1271, 'asked': 1272, 'born': 1273, 'johnson': 1274, 'yeah': 1275, 'faith': 1276, 'affleck': 1277, 'bright': 1278, 'green': 1279, 'badly': 1280, 'normal': 1281, 'comments': 1282, 'paris': 1283, 'deserves': 1284, 'paltrow': 1285, 'disappointing': 1286, 'weak': 1287, 'speaking': 1288, 'surface': 1289, 'lose': 1290, 'students': 1291, 'unique': 1292, 'heavily': 1293, 'calls': 1294, 'pick': 1295, 'developed': 1296, 'deals': 1297, 'andrew': 1298, 'addition': 1299, 'lovers': 1300, 'basic': 1301, 'leader': 1302, 'owner': 1303, 'shock': 1304, 'press': 1305, 'crowd': 1306, 'ultimate': 1307, 'frightening': 1308, 'quiet': 1309, 'unfunny': 1310, 'rare': 1311, 'generated': 1312, 'changes': 1313, 'ice': 1314, 'built': 1315, 'jean': 1316, 'technology': 1317, 'alex': 1318, 'serial': 1319, 'opposite': 1320, 'wayans': 1321, 'flynt': 1322, 'poorly': 1323, 'tired': 1324, 'sarah': 1325, 'realized': 1326, 'intriguing': 1327, 'plain': 1328, 'driver': 1329, 'universal': 1330, 'utterly': 1331, 'visuals': 1332, 'fair': 1333, 'joblo': 1334, 'award': 1335, 'kept': 1336, 'joan': 1337, 'guilty': 1338, 'fame': 1339, 'matrix': 1340, 'uninteresting': 1341, 'product': 1342, 'opinion': 1343, 'forever': 1344, 'cheesy': 1345, 'epic': 1346, 'nights': 1347, 'vampire': 1348, 'superb': 1349, 'ups': 1350, 'photography': 1351, 'considered': 1352, 'alive': 1353, 'grand': 1354, 'cops': 1355, 'terrific': 1356, 'lawrence': 1357, 'barry': 1358, 'device': 1359, 'desperate': 1360, 'security': 1361, 'stands': 1362, 'saved': 1363, 'blame': 1364, 'carrey': 1365, 'throw': 1366, 'daniel': 1367, 'military': 1368, 'join': 1369, 'loved': 1370, 'technical': 1371, 'travel': 1372, 'rise': 1373, 'shame': 1374, 'appeal': 1375, 'continues': 1376, 'weren': 1377, 'months': 1378, 'trust': 1379, 'attack': 1380, 'blair': 1381, 'laughable': 1382, 'finding': 1383, 'spirit': 1384, 'jay': 1385, 'impression': 1386, 'adds': 1387, 'bed': 1388, 'goofy': 1389, 'appeared': 1390, 'beach': 1391, 'cartoon': 1392, 'fashion': 1393, 'journey': 1394, 'cliches': 1395, 'queen': 1396, 'ford': 1397, 'andy': 1398, 'drunken': 1399, 'bland': 1400, 'page': 1401, 'books': 1402, 'instance': 1403, 'phone': 1404, 'kiss': 1405, 'mpaa': 1406, 'paced': 1407, 'moral': 1408, 'screenwriters': 1409, 'bloom': 1410, 'pleasure': 1411, 'niro': 1412, 'process': 1413, 'results': 1414, 'died': 1415, 'superior': 1416, 'speech': 1417, 'trash': 1418, 'speed': 1419, 'angry': 1420, 'risk': 1421, 'witch': 1422, 'jolie': 1423, 'desperately': 1424, 'al': 1425, 'welcome': 1426, 'bar': 1427, 'humorous': 1428, 'hunt': 1429, 'presented': 1430, 'captain': 1431, 'comet': 1432, 'beatty': 1433, 'woo': 1434, 'miller': 1435, 'started': 1436, 'fat': 1437, 'expecting': 1438, 'painful': 1439, 'crap': 1440, 'tried': 1441, 'liners': 1442, 'missed': 1443, 'rob': 1444, 'web': 1445, 'period': 1446, 'enter': 1447, 'lover': 1448, 'ray': 1449, 'goodman': 1450, 'artist': 1451, 'parker': 1452, 'western': 1453, 'shouldn': 1454, 'target': 1455, 'flying': 1456, 'engaging': 1457, 'mouth': 1458, 'episode': 1459, 'weird': 1460, 'doors': 1461, 'theatrical': 1462, 'reach': 1463, 'meant': 1464, 'hopes': 1465, 'virtually': 1466, 'funniest': 1467, 'naked': 1468, 'forces': 1469, 'sympathetic': 1470, 'super': 1471, 'subplots': 1472, 'magic': 1473, 'likable': 1474, 'decision': 1475, 'flashbacks': 1476, 'theaters': 1477, 'humanity': 1478, 'apparent': 1479, 'sexy': 1480, 'gags': 1481, 'files': 1482, 'jimmy': 1483, 'failed': 1484, 'troopers': 1485, 'ordell': 1486, 'sidney': 1487, 'cars': 1488, 'teacher': 1489, 'explain': 1490, 'source': 1491, 'feelings': 1492, 'exist': 1493, 'urban': 1494, 'zero': 1495, 'creepy': 1496, 'post': 1497, 'assistant': 1498, 'rising': 1499, 'adaptation': 1500, 'gold': 1501, 'struggle': 1502, 'explosions': 1503, 'theatre': 1504, 'amy': 1505, 'match': 1506, 'deliver': 1507, 'henry': 1508, 'dealing': 1509, 'themes': 1510, 'court': 1511, 'confusing': 1512, 'fit': 1513, 'fantasy': 1514, 'thirty': 1515, 'held': 1516, 'appreciate': 1517, 'bigger': 1518, 'anne': 1519, 'brain': 1520, 'possibly': 1521, 'goal': 1522, 'fascinating': 1523, 'chief': 1524, 'heads': 1525, 'station': 1526, 'beat': 1527, 'warner': 1528, 'mix': 1529, 'offensive': 1530, 'slapstick': 1531, 'suspects': 1532, 'hunter': 1533, 'season': 1534, 'webb': 1535, 'accidentally': 1536, 'bag': 1537, 'spectacular': 1538, 'edited': 1539, 'survive': 1540, 'documentary': 1541, 'bored': 1542, 'tucker': 1543, 'responsible': 1544, 'compared': 1545, 'scientist': 1546, 'davis': 1547, 'visually': 1548, 'ok': 1549, 'evidence': 1550, 'pacing': 1551, 'laura': 1552, 'breaks': 1553, 'mel': 1554, 'relief': 1555, 'witness': 1556, 'hotel': 1557, 'loving': 1558, 'mighty': 1559, 'trek': 1560, 'michelle': 1561, 'filmmaking': 1562, 'jump': 1563, 'physical': 1564, 'viewing': 1565, 'guns': 1566, 'disappointment': 1567, 'chases': 1568, 'hanging': 1569, 'hurt': 1570, 'lucy': 1571, 'banderas': 1572, 'image': 1573, 'floor': 1574, 'incredible': 1575, 'accent': 1576, 'references': 1577, 'naturally': 1578, 'annie': 1579, 'jacksonville': 1580, 'narrative': 1581, 'wise': 1582, 'build': 1583, 'toy': 1584, 'decade': 1585, 'walking': 1586, 'added': 1587, 'formula': 1588, 'drawn': 1589, 'starship': 1590, 'edu': 1591, 'oz': 1592, 'anna': 1593, 'strength': 1594, 'warren': 1595, 'returns': 1596, 'knock': 1597, 'terms': 1598, 'francis': 1599, 'steals': 1600, 'snake': 1601, 'f': 1602, 'leila': 1603, 'stuck': 1604, 'international': 1605, 'ratio': 1606, 'shallow': 1607, 'cuts': 1608, 'murray': 1609, 'talks': 1610, 'bus': 1611, 'forgotten': 1612, 'routine': 1613, 'conspiracy': 1614, 'teenagers': 1615, 'magazine': 1616, 'connection': 1617, 'blow': 1618, 'halfway': 1619, 'willing': 1620, 'streets': 1621, 'dad': 1622, 'soldiers': 1623, 'arthur': 1624, 'happening': 1625, 'actions': 1626, 'largely': 1627, 'armageddon': 1628, 'unexpected': 1629, 'christmas': 1630, 'psychological': 1631, 'turning': 1632, 'loves': 1633, 'thankfully': 1634, 'originally': 1635, 'eccentric': 1636, 'appealing': 1637, 'putting': 1638, 'serves': 1639, 'headed': 1640, 'folks': 1641, 'test': 1642, 'angels': 1643, 'expectations': 1644, 'martha': 1645, 'sell': 1646, 'keaton': 1647, 'fantastic': 1648, 'josh': 1649, 'matters': 1650, 'fu': 1651, 'brooks': 1652, 'stigmata': 1653, 'wong': 1654, 'stunts': 1655, 'pathetic': 1656, 'mood': 1657, 'uk': 1658, 'suppose': 1659, 'onscreen': 1660, 'design': 1661, 'thrillers': 1662, 'dangerous': 1663, 'rival': 1664, 'protagonist': 1665, 'failure': 1666, 'hoffman': 1667, 'hitchcock': 1668, 'encounter': 1669, 'jeffrey': 1670, 'agree': 1671, 'acts': 1672, 'plus': 1673, 'bride': 1674, 'email': 1675, 'portrayal': 1676, 'succeeds': 1677, 'eat': 1678, 'blown': 1679, 'church': 1680, 'filmmaker': 1681, 'sandra': 1682, 'record': 1683, 'sat': 1684, 'talents': 1685, 'hoping': 1686, 'field': 1687, 'suit': 1688, 'directly': 1689, 'sudden': 1690, 'ted': 1691, 'terry': 1692, 'path': 1693, 'online': 1694, 'ape': 1695, 'era': 1696, 'comparison': 1697, 'model': 1698, 'equally': 1699, 'plane': 1700, 'passion': 1701, 'frame': 1702, 'kung': 1703, 'notice': 1704, 'obsessed': 1705, 'stallone': 1706, 'players': 1707, 'memphis': 1708, 'effectively': 1709, 'filmcritic': 1710, 'freeman': 1711, 'skills': 1712, 'luck': 1713, 'excuse': 1714, 'thoughts': 1715, 'na': 1716, 'con': 1717, 'hearted': 1718, 'lacking': 1719, 'rain': 1720, 'determined': 1721, 'anti': 1722, 'dan': 1723, 'harris': 1724, 'watched': 1725, 'veteran': 1726, 'intense': 1727, 'included': 1728, 'lethal': 1729, 'dogs': 1730, 'honest': 1731, 'marriage': 1732, 'everett': 1733, 'research': 1734, 'believes': 1735, 'mediocre': 1736, 'afraid': 1737, 'creative': 1738, 'donald': 1739, 'cliched': 1740, 'squad': 1741, 'nomination': 1742, 'center': 1743, 'limited': 1744, 'criminal': 1745, 'americans': 1746, 'phil': 1747, 'suspenseful': 1748, 'neeson': 1749, 'zeta': 1750, 'thrills': 1751, 'treat': 1752, 'placed': 1753, 'lonely': 1754, 'mentioned': 1755, 'regular': 1756, 'victim': 1757, 'fallen': 1758, 'donnell': 1759, 'wilde': 1760, 'mitchell': 1761, 'table': 1762, 'reeves': 1763, 'related': 1764, 'community': 1765, 'parody': 1766, 'usa': 1767, 'direct': 1768, 'samuel': 1769, 'previously': 1770, 'elwood': 1771, 'jungle': 1772, 'multiple': 1773, 'copy': 1774, 'designed': 1775, 'sole': 1776, 'author': 1777, 'values': 1778, 'knowledge': 1779, 'attempting': 1780, 'commentary': 1781, 'serve': 1782, 'stick': 1783, 'worthy': 1784, 'blade': 1785, 'gag': 1786, 'basis': 1787, 'disappointed': 1788, 'player': 1789, 'danger': 1790, 'heather': 1791, 'individual': 1792, 'bomb': 1793, 'fights': 1794, 'guard': 1795, 'keeping': 1796, 'haunted': 1797, 'followed': 1798, 'wealthy': 1799, 'albeit': 1800, 'spanish': 1801, 'virgil': 1802, 'agrees': 1803, 'meg': 1804, 'contrast': 1805, 'graphic': 1806, 'sorts': 1807, 'aspects': 1808, 'inevitable': 1809, 'tragedy': 1810, 'neil': 1811, 'characterization': 1812, 'kills': 1813, 'kate': 1814, 'literally': 1815, 'nation': 1816, 'supposedly': 1817, 'mid': 1818, 'lovely': 1819, 'villains': 1820, 'count': 1821, 'sea': 1822, 'kenneth': 1823, 'paper': 1824, 'breaking': 1825, 'fault': 1826, 'forward': 1827, 'shop': 1828, 'cat': 1829, 'moved': 1830, 'fits': 1831, 'flashback': 1832, 'vincent': 1833, 'masterpiece': 1834, 'august': 1835, 'hospital': 1836, 'extra': 1837, 'reminiscent': 1838, 'grows': 1839, 'cry': 1840, 'elizabeth': 1841, 'stock': 1842, 'ribisi': 1843, 'reveal': 1844, 'substance': 1845, 'bloomington': 1846, 'sullivan': 1847, 'cooper': 1848, 'legal': 1849, 'roll': 1850, 'dave': 1851, 'paxton': 1852, 'harrelson': 1853, 'efforts': 1854, 'setup': 1855, 'hey': 1856, 'cruise': 1857, 'bear': 1858, 'showed': 1859, 'overly': 1860, 'signs': 1861, 'numbers': 1862, 'luke': 1863, 'professional': 1864, 'describe': 1865, 'semi': 1866, 'obligatory': 1867, 'menace': 1868, 'craven': 1869, 'logic': 1870, 'figures': 1871, 'sexuality': 1872, 'flicks': 1873, 'mask': 1874, 'legend': 1875, 'constant': 1876, 'wondering': 1877, 'commercial': 1878, 'platt': 1879, 'acted': 1880, 'relationships': 1881, 'spot': 1882, 'task': 1883, 'crash': 1884, 'helps': 1885, 'explanation': 1886, 'media': 1887, 'tyler': 1888, 'emotion': 1889, 'sorry': 1890, 'mad': 1891, 'broken': 1892, 'terrorist': 1893, 'bore': 1894, 'virus': 1895, 'suicide': 1896, 'aware': 1897, 'greater': 1898, 'remarkable': 1899, 'shining': 1900, 'adapted': 1901, 'russian': 1902, 'steal': 1903, 'creature': 1904, 'loses': 1905, 'amanda': 1906, 'touches': 1907, 'sing': 1908, 'stolen': 1909, 'capable': 1910, 'wit': 1911, 'hopkins': 1912, 'lisa': 1913, 'mainly': 1914, 'farrelly': 1915, 'claude': 1916, 'bobby': 1917, 'devito': 1918, 'quaid': 1919, 'voices': 1920, 'punch': 1921, 'drugs': 1922, 'mun': 1923, 'putman': 1924, 'warm': 1925, 'industry': 1926, 'endless': 1927, 'kline': 1928, 'metal': 1929, 'vehicle': 1930, 'arnold': 1931, 'beloved': 1932, 'bvoice': 1933, 'norton': 1934, 'flaw': 1935, 'handle': 1936, 'gon': 1937, 'genius': 1938, 'cares': 1939, 'e': 1940, 'winner': 1941, 'program': 1942, 'continue': 1943, 'clich': 1944, 'existence': 1945, 'throwing': 1946, 'dozen': 1947, 'critique': 1948, 'ethan': 1949, 'lets': 1950, 'charge': 1951, 'meeting': 1952, 'vision': 1953, 'goldberg': 1954, 'sleep': 1955, 'tragic': 1956, 'susan': 1957, 'geocities': 1958, 'exercise': 1959, 'asking': 1960, 'staff': 1961, 'realizes': 1962, 'letter': 1963, 'ghosts': 1964, 'promise': 1965, 'frankie': 1966, 'scenario': 1967, 'appropriate': 1968, 'loose': 1969, 'investigation': 1970, 'slick': 1971, 'creatures': 1972, 'granted': 1973, 'childhood': 1974, 'quirky': 1975, 'bringing': 1976, 'popcorn': 1977, 'singing': 1978, 'laurie': 1979, 'performers': 1980, 'sheer': 1981, 'handful': 1982, 'thoroughly': 1983, 'animal': 1984, 'instant': 1985, 'growing': 1986, 'embarrassing': 1987, 'spike': 1988, 'excitement': 1989, 'angel': 1990, 'hip': 1991, 'bound': 1992, 'london': 1993, 'remotely': 1994, 'contemporary': 1995, 'mona': 1996, 'manage': 1997, 'necessarily': 1998, 'dillon': 1999, 'denise': 2000, 'ended': 2001, 'learned': 2002, 'index': 2003, 'inner': 2004, 'fiennes': 2005, 'devil': 2006, 'reminded': 2007, 'fonda': 2008, 'dicaprio': 2009, 'joel': 2010, 'palma': 2011, 'sphere': 2012, 'exact': 2013, 'iron': 2014, 'theory': 2015, 'alice': 2016, 'chow': 2017, 'mixed': 2018, 'inspiration': 2019, 'price': 2020, 'knowing': 2021, 'claims': 2022, 'window': 2023, 'celebrity': 2024, 'gotten': 2025, 'priest': 2026, 'behavior': 2027, 'persona': 2028, 'football': 2029, 'ho': 2030, 'wes': 2031, 'hopefully': 2032, 'grow': 2033, 'directors': 2034, 'surely': 2035, 'board': 2036, 'personally': 2037, 'weapon': 2038, 'by': 2039, 'jake': 2040, 'religious': 2041, 'marry': 2042, 'originality': 2043, 'satisfying': 2044, 'blind': 2045, 'soul': 2046, 'animals': 2047, 'dying': 2048, 'deserve': 2049, 'painfully': 2050, 'cinematographer': 2051, 'stanley': 2052, 'scientists': 2053, 'occur': 2054, 'bloody': 2055, 'encounters': 2056, 'antonio': 2057, 'sinise': 2058, 'experiences': 2059, 'archive': 2060, 'warning': 2061, 'emily': 2062, 'burns': 2063, 'craig': 2064, 'brad': 2065, 'safe': 2066, 'aforementioned': 2067, 'twisted': 2068, 'featuring': 2069, 'seth': 2070, 'bone': 2071, 'chuckd': 2072, 'sick': 2073, 'perspective': 2074, 'italian': 2075, 'neighbor': 2076, 'wearing': 2077, 'favor': 2078, 'sly': 2079, 'synopsis': 2080, 'voiced': 2081, 'toys': 2082, 'facts': 2083, 'eating': 2084, 'rose': 2085, 'memories': 2086, 'identity': 2087, 'neve': 2088, 'structure': 2089, 'satire': 2090, 'wave': 2091, 'graham': 2092, 'mamet': 2093, 'beast': 2094, 'china': 2095, 'gorilla': 2096, 'mann': 2097, 'pacino': 2098, 'raise': 2099, 'kathleen': 2100, 'sir': 2101, 'southern': 2102, 'clean': 2103, 'natasha': 2104, 'ill': 2105, 'sutherland': 2106, 'broderick': 2107, 'wigand': 2108, 'march': 2109, 'heroine': 2110, 'protagonists': 2111, 'christian': 2112, 'packed': 2113, 'luc': 2114, 'met': 2115, 'issue': 2116, 'ugly': 2117, 'standing': 2118, 'murderer': 2119, 'golden': 2120, 'increasingly': 2121, 'trailers': 2122, 'changed': 2123, 'strike': 2124, 'reel': 2125, 'directorial': 2126, 'pulled': 2127, 'soft': 2128, 'established': 2129, 'execution': 2130, 'market': 2131, 'convinced': 2132, 'accused': 2133, 'akiva': 2134, 'excite': 2135, 'medical': 2136, 'unnecessary': 2137, 'color': 2138, 'forth': 2139, 'mom': 2140, 'loss': 2141, 'fail': 2142, 'org': 2143, 'suffers': 2144, 'pilot': 2145, 'captured': 2146, 'jail': 2147, 'ellen': 2148, 'concerned': 2149, 'fashioned': 2150, 'network': 2151, 'campaign': 2152, 'friendly': 2153, 'howard': 2154, 'owen': 2155, 'cell': 2156, 'glass': 2157, 'senses': 2158, 'luis': 2159, 'wake': 2160, 'hunting': 2161, 'existenz': 2162, 'regardless': 2163, 'dinner': 2164, 'surprises': 2165, 'cusack': 2166, 'damn': 2167, 'herring': 2168, 'threatening': 2169, 'provided': 2170, 'genuinely': 2171, 'passed': 2172, 'chuck': 2173, 'festival': 2174, 'silent': 2175, 'crude': 2176, 'sports': 2177, 'twin': 2178, 'robbins': 2179, 'fly': 2180, 'faced': 2181, 'scheme': 2182, 'jpeck': 2183, 'gl': 2184, 'umbc': 2185, 'selling': 2186, 'whatsoever': 2187, 'eric': 2188, 'leo': 2189, 'section': 2190, 'silver': 2191, 'victims': 2192, 'weapons': 2193, 'suggest': 2194, 'ordinary': 2195, 'xf': 2196, 'promising': 2197, 'bother': 2198, 'cox': 2199, 'stab': 2200, 'derek': 2201, 'mouse': 2202, 'kinds': 2203, 'outrageous': 2204, 'horizon': 2205, 'clothes': 2206, 'floating': 2207, 'poker': 2208, 'alvin': 2209, 'curtis': 2210, 'ellis': 2211, 'psycho': 2212, 'cards': 2213, 'thurman': 2214, 'reporter': 2215, 'journalist': 2216, 'costumes': 2217, 'uncomfortable': 2218, 'karen': 2219, 'crisis': 2220, 'climactic': 2221, 'ross': 2222, 'choices': 2223, 'morning': 2224, 'sky': 2225, 'inane': 2226, 'r': 2227, 'screaming': 2228, 'crystal': 2229, 'foot': 2230, 'nasty': 2231, 'seat': 2232, 'tight': 2233, 'combination': 2234, 'opera': 2235, 'allowed': 2236, 'flash': 2237, 'carries': 2238, 'julianne': 2239, 'editor': 2240, 'explains': 2241, 'sorvino': 2242, 'realism': 2243, 'patients': 2244, 'mildly': 2245, 'convince': 2246, 'african': 2247, 'unbelievable': 2248, 'professor': 2249, 'support': 2250, 'bug': 2251, 'massive': 2252, 'frankly': 2253, 'expert': 2254, 'cameras': 2255, 'notes': 2256, 'allows': 2257, 'study': 2258, 'segment': 2259, 'draw': 2260, 'revenge': 2261, 'newman': 2262, 'website': 2263, 'powers': 2264, 'ron': 2265, 'grade': 2266, 'liam': 2267, 'kubrick': 2268, 'bang': 2269, 'attractive': 2270, 'hired': 2271, 'delightful': 2272, 'eyed': 2273, 'hank': 2274, 'department': 2275, 'suggests': 2276, 'closer': 2277, 'reference': 2278, 'deadly': 2279, 'mistake': 2280, 'introduces': 2281, 'fortune': 2282, 'luckily': 2283, 'ring': 2284, 'service': 2285, 'pulls': 2286, 'pat': 2287, 'monkey': 2288, 'erin': 2289, 'thief': 2290, 'lucas': 2291, 'capture': 2292, 'investigate': 2293, 'national': 2294, 'ms': 2295, 'traditional': 2296, 'gwyneth': 2297, 'prime': 2298, 'indiana': 2299, 'johnny': 2300, 'distribution': 2301, 'extent': 2302, 'handled': 2303, 'sonny': 2304, 'gavin': 2305, 'bowfinger': 2306, 'sharp': 2307, 'dragons': 2308, 'mental': 2309, 'lopez': 2310, 'dollar': 2311, 'unable': 2312, 'foreign': 2313, 'grown': 2314, 'irritating': 2315, 'everybody': 2316, 'ticket': 2317, 'amazingly': 2318, 'helped': 2319, 'mindless': 2320, 'formulaic': 2321, 'stewart': 2322, 'birth': 2323, 'host': 2324, 'ad': 2325, 'wrestling': 2326, 'training': 2327, 'dirty': 2328, 'denzel': 2329, 'taste': 2330, 'saturday': 2331, 'described': 2332, 'kilmer': 2333, 'treatment': 2334, 'occurs': 2335, 'rodriguez': 2336, 'capsule': 2337, 'notable': 2338, 'senator': 2339, 'subtlety': 2340, 'silence': 2341, 'minds': 2342, 'civil': 2343, 'dialog': 2344, 'unfortunate': 2345, 'cab': 2346, 'richards': 2347, 'receive': 2348, 'available': 2349, 'wayne': 2350, 'variety': 2351, 'scare': 2352, 'handed': 2353, 'jobs': 2354, 'essentially': 2355, 'tricks': 2356, 'cameos': 2357, 'brandon': 2358, 'worker': 2359, 'likeable': 2360, 'gabriel': 2361, 'pitch': 2362, 'ain': 2363, 'stopped': 2364, 'escapes': 2365, 'jeremy': 2366, 'drag': 2367, 'area': 2368, 'randy': 2369, 'discovered': 2370, 'ensemble': 2371, 'hidden': 2372, 'mtv': 2373, 'consists': 2374, 'pool': 2375, 'independent': 2376, 'danes': 2377, 'epps': 2378, 'giovanni': 2379, 'driven': 2380, 'grier': 2381, 'runtime': 2382, 'accept': 2383, 'lucky': 2384, 'judge': 2385, 'hadn': 2386, 'downright': 2387, 'altman': 2388, 'guest': 2389, 'courtroom': 2390, 'tape': 2391, 'strangely': 2392, 'stunt': 2393, 'contain': 2394, 'slave': 2395, 'struggling': 2396, 'alec': 2397, 'harold': 2398, 'distributor': 2399, 'scenery': 2400, 'installment': 2401, 'uninspired': 2402, 'university': 2403, 'faculty': 2404, 'terrifying': 2405, 'justice': 2406, 'darkness': 2407, 'holding': 2408, 'noticed': 2409, 'types': 2410, 'reached': 2411, 'soap': 2412, 'freedom': 2413, 'upper': 2414, 'france': 2415, 'skin': 2416, 'bridges': 2417, 'paid': 2418, 'buscemi': 2419, 'outstanding': 2420, 'north': 2421, 'norm': 2422, 'hide': 2423, 'subscribe': 2424, 'bathroom': 2425, 'gina': 2426, 'frequently': 2427, 'explained': 2428, 'brutal': 2429, 'complicated': 2430, 'historical': 2431, 'range': 2432, 'display': 2433, 'kidnapped': 2434, 'jan': 2435, 'holes': 2436, 'julie': 2437, 'term': 2438, 'sends': 2439, 'arrives': 2440, 'circumstances': 2441, 'entry': 2442, 'blockbuster': 2443, 'antics': 2444, 'paulie': 2445, 'starting': 2446, 'buddies': 2447, 'nonetheless': 2448, 'c': 2449, 'stops': 2450, 'successfully': 2451, 'obnoxious': 2452, 'quest': 2453, 'ages': 2454, 'garbage': 2455, 'insult': 2456, 'coach': 2457, 'greg': 2458, 'bay': 2459, 'wooden': 2460, 'watson': 2461, 'storm': 2462, 'value': 2463, 'physics': 2464, 'noir': 2465, 'emma': 2466, 'distant': 2467, 'drop': 2468, 'mild': 2469, 'branagh': 2470, 'studios': 2471, 'fill': 2472, 'spoken': 2473, 'brosnan': 2474, 'chucky': 2475, 'ocean': 2476, 'politics': 2477, 'thornton': 2478, 'quinn': 2479, 'vampires': 2480, 'boat': 2481, 'henstridge': 2482, 'fei': 2483, 'kaufman': 2484, 'leder': 2485, 'siege': 2486, 'crucial': 2487, 'rumble': 2488, 'releases': 2489, 'beating': 2490, 'distracting': 2491, 'corner': 2492, 'arms': 2493, 'strikes': 2494, 'interview': 2495, 'appearing': 2496, 'suits': 2497, 'wind': 2498, 'hang': 2499, 'disbelief': 2500, 'millions': 2501, 'killers': 2502, 'cliche': 2503, 'sun': 2504, 'murders': 2505, 'ancient': 2506, 'sin': 2507, 'relatively': 2508, 'families': 2509, 'digital': 2510, 'princess': 2511, 'innocence': 2512, 'los': 2513, 'angeles': 2514, 'bowling': 2515, 'refuses': 2516, 'refreshing': 2517, 'jesus': 2518, 'pregnant': 2519, 'trial': 2520, 'staying': 2521, 'makers': 2522, 'pre': 2523, 'unknown': 2524, 'caused': 2525, 'confusion': 2526, 'proceedings': 2527, 'eugene': 2528, 'bleak': 2529, 'plotting': 2530, 'destruction': 2531, 'eve': 2532, 'gain': 2533, 'admittedly': 2534, 'mansion': 2535, 'corny': 2536, 'recognize': 2537, 'holly': 2538, 'walks': 2539, 'nuclear': 2540, 'classics': 2541, 'flawed': 2542, 'challenge': 2543, 'moon': 2544, 'timing': 2545, 'ironic': 2546, 'doll': 2547, 'truck': 2548, 'throws': 2549, 'reynolds': 2550, 'url': 2551, 'trend': 2552, 'drunk': 2553, 'slight': 2554, 'insurance': 2555, 'misses': 2556, 'spy': 2557, 'lifeless': 2558, 'dating': 2559, 'dragon': 2560, 'horribly': 2561, 'kick': 2562, 'destroyed': 2563, 'entertained': 2564, 'ebert': 2565, 'crack': 2566, 'artistic': 2567, 'remembered': 2568, 'secretly': 2569, 'theron': 2570, 'fish': 2571, 'ha': 2572, 'qualities': 2573, 'stiller': 2574, 'aged': 2575, 'prior': 2576, 'redford': 2577, 'pam': 2578, 'parodies': 2579, 'nathaniel': 2580, 'sisters': 2581, 'ludicrous': 2582, 'odyssey': 2583, 'sharon': 2584, 'crichton': 2585, 'cgi': 2586, 'decades': 2587, 'peak': 2588, 'ramsey': 2589, 'dry': 2590, 'destroy': 2591, 'vs': 2592, 'dancing': 2593, 'fortunately': 2594, 'irene': 2595, 'nominated': 2596, 'von': 2597, 'nielsen': 2598, 'gattaca': 2599, 'seagal': 2600, 'angles': 2601, 'countless': 2602, 'gratuitous': 2603, 'highlight': 2604, 'ahead': 2605, 'photographed': 2606, 'position': 2607, 'jealous': 2608, 'designer': 2609, 'appropriately': 2610, 'laughter': 2611, 'wisdom': 2612, 'losing': 2613, 'fifth': 2614, 'rolling': 2615, 'hughes': 2616, 'orders': 2617, 'nightmare': 2618, 'joins': 2619, 'erotic': 2620, 'stupidity': 2621, 'suffered': 2622, 'dressed': 2623, 'disease': 2624, 'gross': 2625, 'extreme': 2626, 'official': 2627, 'stereotypical': 2628, 'marshall': 2629, 'east': 2630, 'lived': 2631, 'advice': 2632, 'flesh': 2633, 'colors': 2634, 'outcome': 2635, 'collection': 2636, 'agents': 2637, 'bird': 2638, 'handsome': 2639, 'cases': 2640, 'mature': 2641, 'standout': 2642, 'briefly': 2643, 'subtitles': 2644, 'terror': 2645, 'terribly': 2646, 'phantom': 2647, 'core': 2648, 'workers': 2649, 'remain': 2650, 'nearby': 2651, 'heaven': 2652, 'alfred': 2653, 'dress': 2654, 'framed': 2655, 'intensity': 2656, 'viewed': 2657, 'smoking': 2658, 'cia': 2659, 'command': 2660, 'served': 2661, 'shares': 2662, 'abilities': 2663, 'bont': 2664, 'experiment': 2665, 'reaction': 2666, 'racism': 2667, 'size': 2668, 'foster': 2669, 'hopper': 2670, 'discovery': 2671, 'obsession': 2672, 'extraordinary': 2673, 'native': 2674, 'rent': 2675, 'elderly': 2676, 'laughed': 2677, 'diamond': 2678, 'desire': 2679, 'fugitive': 2680, 'featured': 2681, 'notch': 2682, 'oddly': 2683, 'blah': 2684, 'root': 2685, 'episodes': 2686, 'england': 2687, 'boxing': 2688, 't': 2689, 'snow': 2690, 'closely': 2691, 'appearances': 2692, 'imagination': 2693, 'cult': 2694, 'canadian': 2695, 'forest': 2696, 'suffering': 2697, 'nervous': 2698, 'steps': 2699, 'asian': 2700, 'nicholson': 2701, 'picks': 2702, 'youth': 2703, 'felix': 2704, 'thousand': 2705, 'text': 2706, 'un': 2707, 'accomplished': 2708, 'quentin': 2709, 'leonard': 2710, 'miramax': 2711, 'decidedly': 2712, 'december': 2713, 'neal': 2714, 'october': 2715, 'balance': 2716, 'wrapped': 2717, 'initial': 2718, 'majority': 2719, 'sheriff': 2720, 'extended': 2721, 'elaborate': 2722, 'multi': 2723, 'respectively': 2724, 'prisoners': 2725, 'phillip': 2726, 'shocking': 2727, 'sliding': 2728, 'cheadle': 2729, 'harrison': 2730, 'carlos': 2731, 'meyer': 2732, 'catholic': 2733, 'german': 2734, 'morgan': 2735, 'rudy': 2736, 'remote': 2737, 'tango': 2738, 'melvin': 2739, 'rachel': 2740, 'plots': 2741, 'location': 2742, 'walsh': 2743, 'pseudo': 2744, 'inept': 2745, 'jesse': 2746, 'j': 2747, 'degree': 2748, 'hostage': 2749, 'code': 2750, 'emmerich': 2751, 'previews': 2752, 'columbia': 2753, 'legends': 2754, 'clue': 2755, 'virtual': 2756, 'random': 2757, 'marie': 2758, 'wonders': 2759, 'basketball': 2760, 'handles': 2761, 'penn': 2762, 'weight': 2763, 'courier': 2764, 'beatrice': 2765, 'mere': 2766, 'unusual': 2767, 'bare': 2768, 'melodramatic': 2769, 'enjoying': 2770, 'fargo': 2771, 'coen': 2772, 'executed': 2773, 'competition': 2774, 'monty': 2775, 'manipulative': 2776, 'rule': 2777, 'warrior': 2778, 'proper': 2779, 'conventions': 2780, 'dreamworks': 2781, 'upcoming': 2782, 'ghost': 2783, 'computers': 2784, 'spending': 2785, 'providing': 2786, 'overcome': 2787, 'factor': 2788, 'debate': 2789, 'philosophy': 2790, 'sinister': 2791, 'cutting': 2792, 'showdown': 2793, 'ott': 2794, 'nuvo': 2795, 'ejohnsonott': 2796, 'rocky': 2797, 'solely': 2798, 'joker': 2799, 'invisible': 2800, 'underrated': 2801, 'cole': 2802, 'suffer': 2803, 'superficial': 2804, 'pretend': 2805, 'finished': 2806, 'drinking': 2807, 'requires': 2808, 'influence': 2809, 'calling': 2810, 'hearing': 2811, 'asleep': 2812, 'gene': 2813, 'enemy': 2814, 'chain': 2815, 'holiday': 2816, 'interviews': 2817, 'watches': 2818, 'levels': 2819, 'joy': 2820, 'hires': 2821, 'learning': 2822, 'armed': 2823, 'louis': 2824, 'item': 2825, 'hates': 2826, 'keanu': 2827, 'alicia': 2828, 'pleasant': 2829, 'robot': 2830, 'sequels': 2831, 'household': 2832, 'trapped': 2833, 'battlefield': 2834, 'er': 2835, 'tiny': 2836, 'threat': 2837, 'saves': 2838, 'survivors': 2839, 'endings': 2840, 'chambers': 2841, 'occasional': 2842, 'jurassic': 2843, 'causes': 2844, 'texas': 2845, 'ali': 2846, 'produce': 2847, 'attacks': 2848, 'disc': 2849, 'bergman': 2850, 'california': 2851, 'frequency': 2852, 'passes': 2853, 'crosses': 2854, 'shue': 2855, 'gallery': 2856, 'sps': 2857, 'kennedy': 2858, 'spoilers': 2859, 'gale': 2860, 'weekend': 2861, 'energetic': 2862, 'esque': 2863, 'covered': 2864, 'daisy': 2865, 'satan': 2866, 'memory': 2867, 'mile': 2868, 'insight': 2869, 'irons': 2870, 'continually': 2871, 'ambitious': 2872, 'newton': 2873, 'repetitive': 2874, 'halloween': 2875, 'marketing': 2876, 'magoo': 2877, 'roman': 2878, 'operation': 2879, 'partly': 2880, 'jill': 2881, 'ellie': 2882, 'carlito': 2883, 'worthwhile': 2884, 'lifted': 2885, 'primary': 2886, 'achieve': 2887, 'origin': 2888, 'patricia': 2889, 'angle': 2890, 'narration': 2891, 'fantasies': 2892, 'discuss': 2893, 'sheen': 2894, 'assume': 2895, 'fourth': 2896, 'hokey': 2897, 'beautifully': 2898, 'independence': 2899, 'till': 2900, 'entertain': 2901, 'achievement': 2902, 'proceeds': 2903, 'enjoyment': 2904, 'fred': 2905, 'enters': 2906, 'deserved': 2907, 'planned': 2908, 'unconvincing': 2909, 'lane': 2910, 'endearing': 2911, 'provoking': 2912, 'stereotypes': 2913, 'sensitive': 2914, 'diaz': 2915, 'sara': 2916, 'gory': 2917, 'speeches': 2918, 'statement': 2919, 'busy': 2920, 'nicholas': 2921, 'degeneres': 2922, 'harmless': 2923, 'deja': 2924, 'delivery': 2925, 'accurate': 2926, 'shalhoub': 2927, 'crafted': 2928, 'depressing': 2929, 'dare': 2930, 'combined': 2931, 'offering': 2932, 'hollow': 2933, 'disappears': 2934, 'beck': 2935, 'miami': 2936, 'strictly': 2937, 'ann': 2938, 'importantly': 2939, 'bank': 2940, 'mickey': 2941, 'tradition': 2942, 'filming': 2943, 'skip': 2944, 'dick': 2945, 'philip': 2946, 'bitter': 2947, 'patient': 2948, 'colorful': 2949, 'closing': 2950, 'consistently': 2951, 'drives': 2952, 'altogether': 2953, 'ball': 2954, 'explaining': 2955, 'forgettable': 2956, 'hackman': 2957, 'voight': 2958, 'byrne': 2959, 'dowling': 2960, 'tour': 2961, 'heat': 2962, 'emotionally': 2963, 'paramount': 2964, 'opened': 2965, 'smoke': 2966, 'libby': 2967, 'robinson': 2968, 'inspector': 2969, 'generic': 2970, 'object': 2971, 'vaguely': 2972, 'waters': 2973, 'worm': 2974, 'judging': 2975, 'false': 2976, 'shy': 2977, 'duke': 2978, 'inventive': 2979, 'improved': 2980, 'delivered': 2981, 'bullock': 2982, 'understanding': 2983, 'stays': 2984, 'trilogy': 2985, 'stahl': 2986, 'blonde': 2987, 'bat': 2988, 'archived': 2989, 'cromwell': 2990, 'remarkably': 2991, 'believed': 2992, 'pretentious': 2993, 'harvey': 2994, 'flair': 2995, 'conversations': 2996, 'iii': 2997, 'interaction': 2998, 'leonardo': 2999, 'primarily': 3000, 'gellar': 3001, 'portions': 3002, 'crown': 3003, 'pierce': 3004, 'funnier': 3005, 'absolute': 3006, 'rights': 3007, 'indian': 3008, 'choose': 3009, 'standards': 3010, 'credible': 3011, 'raising': 3012, 'marlon': 3013, 'levy': 3014, 'revealed': 3015, 'kingsley': 3016, 'boogie': 3017, 'picked': 3018, 'village': 3019, 'civilization': 3020, 'syd': 3021, 'cd': 3022, 'hype': 3023, 'clara': 3024, 'cuba': 3025, 'winter': 3026, 'kudrow': 3027, 'insane': 3028, 'screwed': 3029, 'devoted': 3030, 'birdee': 3031, 'kermit': 3032, 'reza': 3033, 'broadcast': 3034, 'distraction': 3035, 'intellectual': 3036, 'uma': 3037, 'blows': 3038, 'perry': 3039, 'promises': 3040, 'kim': 3041, 'treats': 3042, 'outing': 3043, 'hiding': 3044, 'developing': 3045, 'failing': 3046, 'rip': 3047, 'rapidly': 3048, 'sally': 3049, 'receiving': 3050, 'bastard': 3051, 'tense': 3052, 'ward': 3053, 'lewis': 3054, 'naive': 3055, 'develops': 3056, 'month': 3057, 'uncle': 3058, 'zwick': 3059, 'imagery': 3060, 'genres': 3061, 'higher': 3062, 'sleeping': 3063, 'january': 3064, 'travels': 3065, 'relate': 3066, 'succeed': 3067, 'corporate': 3068, 'possibility': 3069, 'businessman': 3070, 'beneath': 3071, 'starred': 3072, 'affairs': 3073, 'shoots': 3074, 'doctors': 3075, 'deeper': 3076, 'lili': 3077, 'mirror': 3078, 'keith': 3079, 'attempted': 3080, 'gas': 3081, 'sake': 3082, 'anybody': 3083, 'x': 3084, 'corrupt': 3085, 'magical': 3086, 'angelina': 3087, 'thompson': 3088, 'initially': 3089, 'carefully': 3090, 'legs': 3091, 'possibilities': 3092, 'campy': 3093, 'ran': 3094, 'lange': 3095, 'adventures': 3096, 'inevitably': 3097, 'approaches': 3098, 'instantly': 3099, 'tree': 3100, 'ideal': 3101, 'sits': 3102, 'experienced': 3103, 'babe': 3104, 'museum': 3105, 'ratings': 3106, 'ephron': 3107, 'friendship': 3108, 'enormous': 3109, 'reminds': 3110, 'brilliantly': 3111, 'conceived': 3112, 'roxbury': 3113, 'creator': 3114, 'idiotic': 3115, 'worn': 3116, 'vacation': 3117, 'stranger': 3118, 'surreal': 3119, 'abyss': 3120, 'technique': 3121, 'spots': 3122, 'neo': 3123, 'adding': 3124, 'tickets': 3125, 'steam': 3126, 'commercials': 3127, 'monsters': 3128, 'wanders': 3129, 'artificial': 3130, 'chicago': 3131, 'gloria': 3132, 'broadway': 3133, 'smooth': 3134, 'trio': 3135, 'brand': 3136, 'revolution': 3137, 'sebastian': 3138, 'contest': 3139, 'unlikely': 3140, 'lively': 3141, 'rod': 3142, 'wahlberg': 3143, 'heston': 3144, 'resolution': 3145, 'hugh': 3146, 'montage': 3147, 'psychotic': 3148, 'worry': 3149, 'jimmie': 3150, 'heist': 3151, 'executive': 3152, 'consequences': 3153, 'mod': 3154, 'card': 3155, 'status': 3156, 'bridget': 3157, 'exchange': 3158, 'flight': 3159, 'melanie': 3160, 'notably': 3161, 'joey': 3162, 'bits': 3163, 'charismatic': 3164, 'misguided': 3165, 'bet': 3166, 'grease': 3167, 'pile': 3168, 'neat': 3169, 'expensive': 3170, 'schneider': 3171, 'penned': 3172, 'damned': 3173, 'ironically': 3174, 'albert': 3175, 'mcdonald': 3176, 'macdonald': 3177, 'hotmail': 3178, 'geoffrey': 3179, 'destination': 3180, 'products': 3181, 'heche': 3182, 'arm': 3183, 'flashy': 3184, 'christina': 3185, 'gadget': 3186, 'confidence': 3187, 'lately': 3188, 'wear': 3189, 'senseless': 3190, 'perform': 3191, 'darryl': 3192, 'astronauts': 3193, 'leoni': 3194, 'elijah': 3195, 'depalma': 3196, 'granger': 3197, 'tibbs': 3198, 'bronx': 3199, 'dubbed': 3200, 'site': 3201, 'reveals': 3202, 'argue': 3203, 'lake': 3204, 'crossing': 3205, 'searching': 3206, 'rough': 3207, 'staged': 3208, 'prince': 3209, 'runner': 3210, 'anger': 3211, 'ingredients': 3212, 'mercury': 3213, 'hook': 3214, 'nonsense': 3215, 'cheese': 3216, 'kurt': 3217, 'sucks': 3218, 'devine': 3219, 'reaches': 3220, 'reads': 3221, 'striking': 3222, 'opportunities': 3223, 'comment': 3224, 'thrilling': 3225, 'dirt': 3226, 'teach': 3227, 'respected': 3228, 'raised': 3229, 'norman': 3230, 'conventional': 3231, 'thugs': 3232, 'butt': 3233, 'crying': 3234, 'returned': 3235, 'advance': 3236, 'ned': 3237, 'november': 3238, 'finest': 3239, 'timothy': 3240, 'forms': 3241, 'duo': 3242, 'paying': 3243, 'divorce': 3244, 'spin': 3245, 'carried': 3246, 'deaths': 3247, 'ridley': 3248, 'broad': 3249, 'treated': 3250, 'listening': 3251, 'purely': 3252, 'awkward': 3253, 'rooms': 3254, 'discussion': 3255, 'advanced': 3256, 'chasing': 3257, 'mckellar': 3258, 'st': 3259, 'base': 3260, 'reviewer': 3261, 'apple': 3262, 'elise': 3263, 'bening': 3264, 'illegal': 3265, 'crimes': 3266, 'sitcom': 3267, 'courage': 3268, 'apollo': 3269, 'cynical': 3270, 'underdeveloped': 3271, 'resembles': 3272, 'gorgeous': 3273, 'lousy': 3274, 'dawn': 3275, 'bodies': 3276, 'breasts': 3277, 'frantic': 3278, 'decisions': 3279, 'leslie': 3280, 'et': 3281, 'titled': 3282, 'desert': 3283, 'surrounded': 3284, 'vegas': 3285, 'bitch': 3286, 'abandoned': 3287, 'kyle': 3288, 'ear': 3289, 'pleasing': 3290, 'separated': 3291, 'trite': 3292, 'azaria': 3293, 'ricky': 3294, 'cruel': 3295, 'birthday': 3296, 'loser': 3297, 'alas': 3298, 'lou': 3299, 'crow': 3300, 'rosie': 3301, 'busey': 3302, 'required': 3303, 'worthless': 3304, 'mob': 3305, 'pushing': 3306, 'considerable': 3307, 'committed': 3308, 'pursuit': 3309, 'loosely': 3310, 'presenting': 3311, 'sword': 3312, 'confident': 3313, 'racist': 3314, 'les': 3315, 'rupert': 3316, 'troubles': 3317, 'shrek': 3318, 'swamp': 3319, 'category': 3320, 'jet': 3321, 'raw': 3322, 'explosive': 3323, 'spirited': 3324, 'praise': 3325, 'passengers': 3326, 'stealing': 3327, 'hood': 3328, 'properly': 3329, 'revolves': 3330, 'uneven': 3331, 'significant': 3332, 'removed': 3333, 'determine': 3334, 'buildings': 3335, 'hole': 3336, 'wire': 3337, 'cheating': 3338, 'glover': 3339, 'li': 3340, 'slavery': 3341, 'devoid': 3342, 'projects': 3343, 'unfolds': 3344, 'charisma': 3345, 'diane': 3346, 'wallace': 3347, 'onegin': 3348, 'smaller': 3349, 'separate': 3350, 'htm': 3351, 'omar': 3352, 'letting': 3353, 'activities': 3354, 'audio': 3355, 'universe': 3356, 'cable': 3357, 'controlled': 3358, 'dante': 3359, 'prologue': 3360, 'focuses': 3361, 'paranoid': 3362, 'dimension': 3363, 'connell': 3364, 'stunning': 3365, 'ads': 3366, 'equal': 3367, 'answers': 3368, 'gift': 3369, 'gordon': 3370, 'sylvester': 3371, 'acclaimed': 3372, 'mainstream': 3373, 'grady': 3374, 'hannah': 3375, 'trick': 3376, 'sentimental': 3377, 'thirteenth': 3378, 'masters': 3379, 'bamboozled': 3380, 'wears': 3381, 'hundreds': 3382, 'vietnam': 3383, 'rosenberg': 3384, 'gal': 3385, 'sharks': 3386, 'snipes': 3387, 'dawson': 3388, 'portrays': 3389, 'remaining': 3390, 'stark': 3391, 'cookie': 3392, 'compare': 3393, 'mass': 3394, 'demands': 3395, 'displays': 3396, 'motives': 3397, 'musicians': 3398, 'buck': 3399, 'keitel': 3400, 'connery': 3401, 'eva': 3402, 'gerry': 3403, 'hush': 3404, 'argento': 3405, 'rico': 3406, 'chickens': 3407, 'michel': 3408, 'malkovich': 3409, 'owens': 3410, 'slade': 3411, 'sliver': 3412, 'hilary': 3413, 'geronimo': 3414, 'australian': 3415, 'certificate': 3416, 'thank': 3417, 'shouting': 3418, 'writes': 3419, 'discussing': 3420, 'lighting': 3421, 'vicious': 3422, 'rushmore': 3423, 'franklin': 3424, 'groups': 3425, 'prisoner': 3426, 'futuristic': 3427, 'hockey': 3428, 'acceptable': 3429, 'avoiding': 3430, 'generate': 3431, 'glenn': 3432, 'useless': 3433, 'suicidal': 3434, 'irony': 3435, 'comparisons': 3436, 'positive': 3437, 'database': 3438, 'venice': 3439, 'concerning': 3440, 'lower': 3441, 'lifestyle': 3442, 'ignored': 3443, 'elliott': 3444, 'wanting': 3445, 'predecessor': 3446, 'plight': 3447, 'actresses': 3448, 'waking': 3449, 'scripts': 3450, 'recognition': 3451, 'sympathy': 3452, 'mexico': 3453, 'circle': 3454, 'destined': 3455, 'archer': 3456, 'switch': 3457, 'bookstore': 3458, 'notting': 3459, 'manager': 3460, 'kurosawa': 3461, 'supernatural': 3462, 'connected': 3463, 'stale': 3464, 'farce': 3465, 'aka': 3466, 'midnight': 3467, 'cronenberg': 3468, 'utter': 3469, 'rage': 3470, 'moronic': 3471, 'shower': 3472, 'frequent': 3473, 'kidnapping': 3474, 'investigating': 3475, 'charged': 3476, 'excessive': 3477, 'shopping': 3478, 'exists': 3479, 'pride': 3480, 'glory': 3481, 'chose': 3482, 'rene': 3483, 'stretch': 3484, 'hint': 3485, 'prodigy': 3486, 'cuban': 3487, 'coffee': 3488, 'mate': 3489, 'stumbles': 3490, 'claudia': 3491, 'ninety': 3492, 'tedious': 3493, 'lloyd': 3494, 'stages': 3495, 'babysitter': 3496, 'context': 3497, 'changing': 3498, 'tunes': 3499, 'minnie': 3500, 'delight': 3501, 'relies': 3502, 'realizing': 3503, 'psychologist': 3504, 'stylish': 3505, 'excited': 3506, 'diesel': 3507, 'seattle': 3508, 'remind': 3509, 'par': 3510, 'lights': 3511, 'sticks': 3512, 'distance': 3513, 'boston': 3514, 'vague': 3515, 'arrive': 3516, 'concerns': 3517, 'immediate': 3518, 'attraction': 3519, 'blatantly': 3520, 'turkey': 3521, 'maria': 3522, 'marc': 3523, 'faithful': 3524, 'cultural': 3525, 'robbie': 3526, 'absurd': 3527, 'tune': 3528, 'productions': 3529, 'suck': 3530, 'awards': 3531, 'finger': 3532, 'laid': 3533, 'dedicated': 3534, 'homage': 3535, 'varsity': 3536, 'merit': 3537, 'safety': 3538, 'awake': 3539, 'walked': 3540, 'jaxfilmjournal': 3541, 'kinnear': 3542, 'junk': 3543, 'peck': 3544, 'concert': 3545, 'settle': 3546, 'legendary': 3547, 'stardom': 3548, 'jewish': 3549, 'nurse': 3550, 'embarrassed': 3551, 'pays': 3552, 'whitman': 3553, 'galaxy': 3554, 'skill': 3555, 'maggie': 3556, 'yahoo': 3557, 'mins': 3558, 'clad': 3559, 'ralph': 3560, 'clark': 3561, 'spare': 3562, 'connie': 3563, 'potentially': 3564, 'preview': 3565, 'ruined': 3566, 'sexually': 3567, 'forster': 3568, 'straightforward': 3569, 'row': 3570, 'shut': 3571, 'guessing': 3572, 'mimi': 3573, 'gimmick': 3574, 'griffith': 3575, 'liev': 3576, 'authentic': 3577, 'response': 3578, 'jumping': 3579, 'miscast': 3580, 'lynn': 3581, 'jenny': 3582, 'insists': 3583, 'individuals': 3584, 'dealt': 3585, 'awfully': 3586, 'visions': 3587, 'coyote': 3588, 'storytelling': 3589, 'february': 3590, 'lara': 3591, 'b': 3592, 'thoughtful': 3593, 'hogarth': 3594, 'sidekick': 3595, 'profile': 3596, 'account': 3597, 'combat': 3598, 'awesome': 3599, 'kenny': 3600, 'toilet': 3601, 'inspiring': 3602, 'happily': 3603, 'schwarzenegger': 3604, 'instinct': 3605, 'crowe': 3606, 'anymore': 3607, 'profession': 3608, 'anaconda': 3609, 'defense': 3610, 'volcano': 3611, 'items': 3612, 'underwater': 3613, 'sheedy': 3614, 'molly': 3615, 'sum': 3616, 'attorney': 3617, 'nazi': 3618, 'schindler': 3619, 'deeply': 3620, 'burning': 3621, 'battles': 3622, 'gangster': 3623, 'murdered': 3624, 'drags': 3625, 'louisiana': 3626, 'childish': 3627, 'montana': 3628, 'shawn': 3629, 'betty': 3630, 'pryce': 3631, 'mcconaughey': 3632, 'peel': 3633, 'expression': 3634, 'hideous': 3635, 'spawn': 3636, 'vince': 3637, 'fatal': 3638, 'hints': 3639, 'mulder': 3640, 'bunny': 3641, 'richardson': 3642, 'drowning': 3643, 'schwimmer': 3644, 'flubber': 3645, 'lancelot': 3646, 'humbert': 3647, 'griffiths': 3648, 'muriel': 3649, 'nifty': 3650, 'mo': 3651, 'trade': 3652, 'glimpse': 3653, 'ah': 3654, 'waldron': 3655, 'ukcritic': 3656, 'fictional': 3657, 'finish': 3658, 'detailed': 3659, 'eats': 3660, 'foul': 3661, 'wow': 3662, 'taxi': 3663, 'dealer': 3664, 'condition': 3665, 'ultra': 3666, 'passing': 3667, 'replacement': 3668, 'neurotic': 3669, 'colonel': 3670, 'melodrama': 3671, 'prevent': 3672, 'revelation': 3673, 'wisely': 3674, 'tall': 3675, 'currently': 3676, 'sides': 3677, 'corky': 3678, 'kattan': 3679, 'shaw': 3680, 'pops': 3681, 'veronica': 3682, 'marco': 3683, 'sons': 3684, 'poetry': 3685, 'overbearing': 3686, 'assured': 3687, 'enhanced': 3688, 'specifically': 3689, 'eager': 3690, 'narrator': 3691, 'conversation': 3692, 'reluctant': 3693, 'predictability': 3694, 'depicted': 3695, 'sophisticated': 3696, 'austin': 3697, 'secretary': 3698, 'blatant': 3699, 'kit': 3700, 'method': 3701, 'involve': 3702, 'breath': 3703, 'poignant': 3704, 'destiny': 3705, 'k': 3706, 'blank': 3707, 'scared': 3708, 'causing': 3709, 'underwritten': 3710, 'slips': 3711, 'sketch': 3712, 'describes': 3713, 'thrill': 3714, 'terrorists': 3715, 'operations': 3716, 'hubbard': 3717, 'annette': 3718, 'sounded': 3719, 'activity': 3720, 'examples': 3721, 'catching': 3722, 'helicopter': 3723, 'noble': 3724, 'ransom': 3725, 'contacted': 3726, 'weekly': 3727, 'gentle': 3728, 'subjects': 3729, 'possessed': 3730, 'guessed': 3731, 'challenging': 3732, 'wreck': 3733, 'momentum': 3734, 'token': 3735, 'according': 3736, 'forsythe': 3737, 'reid': 3738, 'sarcastic': 3739, 'psychiatrist': 3740, 'reviewsby': 3741, 'loyal': 3742, 'suspicious': 3743, 'lauren': 3744, 'hometown': 3745, 'fell': 3746, 'joshua': 3747, 'daily': 3748, 'absent': 3749, 'minded': 3750, 'techniques': 3751, 'gigantic': 3752, 'ken': 3753, 'newspaper': 3754, 'hated': 3755, 'creation': 3756, 'curious': 3757, 'cesar': 3758, 'fishburne': 3759, 'endure': 3760, 'biggs': 3761, 'listen': 3762, 'cliff': 3763, 'alda': 3764, 'mia': 3765, 'reserved': 3766, 'aging': 3767, 'labor': 3768, 'permission': 3769, 'amounts': 3770, 'needless': 3771, 'correct': 3772, 'gradually': 3773, 'seats': 3774, 'bros': 3775, 'assembled': 3776, 'wacky': 3777, 'spoil': 3778, 'progresses': 3779, 'homosexual': 3780, 'differences': 3781, 'ashley': 3782, 'doomed': 3783, 'trials': 3784, 'criticism': 3785, 'myers': 3786, 'reluctantly': 3787, 'visits': 3788, 'laughably': 3789, 'shocked': 3790, 'essential': 3791, 'composed': 3792, 'phony': 3793, 'assigned': 3794, 'screwball': 3795, 'sleazy': 3796, 'crush': 3797, 'factory': 3798, 'breakdown': 3799, 'hurricane': 3800, 'river': 3801, 'topic': 3802, 'makeup': 3803, 'wins': 3804, 'gambling': 3805, 'casablanca': 3806, 'judgment': 3807, 'rid': 3808, 'religion': 3809, 'passable': 3810, 'heartfelt': 3811, 'happiness': 3812, 'polish': 3813, 'sappy': 3814, 'somebody': 3815, 'round': 3816, 'protect': 3817, 'bail': 3818, 'payoff': 3819, 'verhoeven': 3820, 'elisabeth': 3821, 'linda': 3822, 'recall': 3823, 'triumph': 3824, 'spider': 3825, 'joseph': 3826, 'charlize': 3827, 'performer': 3828, 'insightful': 3829, 'pinkett': 3830, 'schreiber': 3831, 'principal': 3832, 'dewey': 3833, 'brutally': 3834, 'focused': 3835, 'specific': 3836, 'performing': 3837, 'hayek': 3838, 'kissing': 3839, 'struggles': 3840, 'consequently': 3841, 'critically': 3842, 'attacked': 3843, 'gem': 3844, 'package': 3845, 'wag': 3846, 'boasts': 3847, 'angela': 3848, 'possesses': 3849, 'juvenile': 3850, 'expressions': 3851, 'underground': 3852, 'wannabe': 3853, 'freak': 3854, 'spread': 3855, 'tracks': 3856, 'block': 3857, 'providence': 3858, 'dungeons': 3859, 'fisher': 3860, 'farm': 3861, 'nicolas': 3862, 'candy': 3863, 'shines': 3864, 'mankind': 3865, 'centre': 3866, 'demonstrates': 3867, 'zane': 3868, 'san': 3869, 'dreyfuss': 3870, 'bulow': 3871, 'engrossing': 3872, 'shoddy': 3873, 'exorcist': 3874, 'acid': 3875, 'carmen': 3876, 'goldblum': 3877, 'normally': 3878, 'marvelous': 3879, 'mortal': 3880, 'childers': 3881, 'residents': 3882, 'avengers': 3883, 'clown': 3884, 'astronaut': 3885, 'respective': 3886, 'macy': 3887, 'technically': 3888, 'fichtner': 3889, 'carl': 3890, 'aykroyd': 3891, 'bresson': 3892, 'bah': 3893, 'hrundi': 3894, 'torgo': 3895, 'venue': 3896, 'proud': 3897, 'chilling': 3898, 'poetic': 3899, 'passive': 3900, 'typically': 3901, 'heck': 3902, 'unintentionally': 3903, 'restaurant': 3904, 'welles': 3905, 'nerves': 3906, 'filling': 3907, 'developments': 3908, 'relevant': 3909, 'ladies': 3910, 'friday': 3911, 'gilmore': 3912, 'convenient': 3913, 'solve': 3914, 'solution': 3915, 'jackal': 3916, 'morrison': 3917, 'hart': 3918, 'prize': 3919, 'campus': 3920, 'screams': 3921, 'practically': 3922, 'coincidence': 3923, 'understood': 3924, 'retrieve': 3925, 'contempt': 3926, 'insulting': 3927, 'reduced': 3928, 'lit': 3929, 'fluff': 3930, 'sold': 3931, 'prostitute': 3932, 'captures': 3933, 'millionaire': 3934, 'league': 3935, 'glad': 3936, 'macho': 3937, 'unexpectedly': 3938, 'irish': 3939, 'kirk': 3940, 'el': 3941, 'associate': 3942, 'strip': 3943, 'odds': 3944, 'slightest': 3945, 'inkpot': 3946, 'camerawork': 3947, 'transition': 3948, 'hugo': 3949, 'unconventional': 3950, 'bought': 3951, 'reasonable': 3952, 'abuse': 3953, 'impressed': 3954, 'portraying': 3955, 'ties': 3956, 'identify': 3957, 'covers': 3958, 'rooting': 3959, 'seek': 3960, 'arab': 3961, 'countries': 3962, 'sights': 3963, 'mill': 3964, 'incoherent': 3965, 'credibility': 3966, 'marks': 3967, 'dud': 3968, 'encourage': 3969, 'mermaid': 3970, 'chooses': 3971, 'twins': 3972, 'larger': 3973, 'lie': 3974, 'babies': 3975, 'fitting': 3976, 'faster': 3977, 'string': 3978, 'nicole': 3979, 'mcgregor': 3980, 'pal': 3981, 'musicals': 3982, 'cream': 3983, 'waves': 3984, 'einstein': 3985, 'velvet': 3986, 'admire': 3987, 'laurence': 3988, 'bite': 3989, 'stereotype': 3990, 'runaway': 3991, 'beings': 3992, 'personalities': 3993, 'owns': 3994, 'chuckles': 3995, 'evening': 3996, 'views': 3997, 'distributed': 3998, 'serving': 3999, 'users': 4000, 'hopelessly': 4001, 'pack': 4002, 'performed': 4003, 'lazy': 4004, 'maguire': 4005, 'brains': 4006, 'judd': 4007, 'redgrave': 4008, 'judy': 4009, 'admirable': 4010, 'belief': 4011, 'unpredictable': 4012, 'leather': 4013, 'referred': 4014, 'selfish': 4015, 'canada': 4016, 'empire': 4017, 'injury': 4018, 'mountain': 4019, 'beaten': 4020, 'preston': 4021, 'psychlos': 4022, 'messenger': 4023, 'posey': 4024, 'express': 4025, 'milk': 4026, 'guidance': 4027, 'explore': 4028, 'simplistic': 4029, 'ranks': 4030, 'hewitt': 4031, 'tales': 4032, 'stiff': 4033, 'punishment': 4034, 'push': 4035, 'revealing': 4036, 'curiosity': 4037, 'messages': 4038, 'uh': 4039, 'improvement': 4040, 'spring': 4041, 'instances': 4042, 'influenced': 4043, 'wing': 4044, 'affected': 4045, 'shark': 4046, 'shifts': 4047, 'measure': 4048, 'fired': 4049, 'magnificent': 4050, 'awe': 4051, 'poster': 4052, 'gere': 4053, 'rap': 4054, 'proof': 4055, 'larter': 4056, 'chuckle': 4057, 'lifetime': 4058, 'located': 4059, 'hal': 4060, 'robbery': 4061, 'split': 4062, 'apt': 4063, 'offered': 4064, 'underused': 4065, 'newest': 4066, 'farina': 4067, 'lerner': 4068, 'kay': 4069, 'undercover': 4070, 'conscious': 4071, 'kicking': 4072, 'satisfy': 4073, 'abandon': 4074, 'blast': 4075, 'parent': 4076, 'famke': 4077, 'celebrities': 4078, 'forewarned': 4079, 'burst': 4080, 'similarly': 4081, 'sneak': 4082, 'returning': 4083, 'peculiar': 4084, 'newcomer': 4085, 'corruption': 4086, 'salma': 4087, 'monkeys': 4088, 'incomprehensible': 4089, 'mafia': 4090, 'proportions': 4091, 'tend': 4092, 'repeatedly': 4093, 'jordan': 4094, 'explicit': 4095, 'helping': 4096, 'carnage': 4097, 'levinson': 4098, 'dubious': 4099, 'tomb': 4100, 'raider': 4101, 'aimed': 4102, 'degrees': 4103, 'arrival': 4104, 'distinctive': 4105, 'pot': 4106, 'contract': 4107, 'assignment': 4108, 'surrounding': 4109, 'doom': 4110, 'containing': 4111, 'prepared': 4112, 'distracted': 4113, 'klein': 4114, 'kaye': 4115, 'prom': 4116, 'spoof': 4117, 'repeated': 4118, 'meadows': 4119, 'sgt': 4120, 'unrelated': 4121, 'sixth': 4122, 'hara': 4123, 'bedroom': 4124, 'atlantic': 4125, 'comeback': 4126, 'spaceship': 4127, 'airplane': 4128, 'forcing': 4129, 'fool': 4130, 'invasion': 4131, 'le': 4132, 'australia': 4133, 'teens': 4134, 'phillips': 4135, 'premiere': 4136, 'wesley': 4137, 'schumacher': 4138, 'awry': 4139, 'ally': 4140, 'suzanne': 4141, 'load': 4142, 'misc': 4143, 'emporium': 4144, 'nsf': 4145, 'opendocument': 4146, 'farrellys': 4147, 'kane': 4148, 'pamela': 4149, 'tossed': 4150, 'ridiculously': 4151, 'grim': 4152, 'winslet': 4153, 'ruth': 4154, 'critical': 4155, 'reputation': 4156, 'whisperer': 4157, 'upset': 4158, 'assassin': 4159, 'dated': 4160, 'torture': 4161, 'reports': 4162, 'leigh': 4163, 'musketeers': 4164, 'beliefs': 4165, 'bud': 4166, 'spiritual': 4167, 'federation': 4168, 'peaks': 4169, 'mailto': 4170, 'comical': 4171, 'mulholland': 4172, 'pro': 4173, 'africa': 4174, 'movement': 4175, 'foley': 4176, 'shouts': 4177, 'stern': 4178, 'garofalo': 4179, 'madness': 4180, 'danza': 4181, 'knights': 4182, 'kip': 4183, 'malick': 4184, 'raimi': 4185, 'polanski': 4186, 'beaumarchais': 4187, 'lama': 4188, 'dropping': 4189, 'lying': 4190, 'mansfield': 4191, 'letters': 4192, 'charges': 4193, 'environment': 4194, 'prevents': 4195, 'ignore': 4196, 'en': 4197, 'mantgani': 4198, 'imaginative': 4199, 'ta': 4200, 'empathy': 4201, 'appreciated': 4202, 'channel': 4203, 'oldman': 4204, 'em': 4205, 'correctly': 4206, 'rodman': 4207, 'automatically': 4208, 'assumes': 4209, 'grandmother': 4210, 'bottle': 4211, 'puzzle': 4212, 'tristar': 4213, 'sinks': 4214, 'redemption': 4215, 'shadow': 4216, 'compliment': 4217, 'cost': 4218, 'rocks': 4219, 'rookie': 4220, 'lesson': 4221, 'embarrassment': 4222, 'implausible': 4223, 'areas': 4224, 'mccormack': 4225, 'seriousness': 4226, 'europe': 4227, 'centers': 4228, 'elite': 4229, 'greatly': 4230, 'dramas': 4231, 'convinces': 4232, 'artists': 4233, 'mentioning': 4234, 'turturro': 4235, 'objects': 4236, 'jazz': 4237, 'covering': 4238, 'flawless': 4239, 'precisely': 4240, 'financial': 4241, 'represents': 4242, 'understated': 4243, 'crossed': 4244, 'belong': 4245, 'wilcock': 4246, 'rogue': 4247, 'tongue': 4248, 'drill': 4249, 'gershon': 4250, 'cared': 4251, 'phenomenon': 4252, 'cardboard': 4253, 'profound': 4254, 'cure': 4255, 'disturbed': 4256, 'worlds': 4257, 'plastic': 4258, 'electronic': 4259, 'convey': 4260, 'screens': 4261, 'notion': 4262, 'kidnap': 4263, 'commits': 4264, 'federal': 4265, 'territory': 4266, 'sounding': 4267, 'allowing': 4268, 'races': 4269, 'spooky': 4270, 'gritty': 4271, 'vice': 4272, 'shortcomings': 4273, 'requests': 4274, 'fianc': 4275, 'photo': 4276, 'choreographed': 4277, 'pet': 4278, 'waitress': 4279, 'torn': 4280, 'honey': 4281, 'dim': 4282, 'yawn': 4283, 'throwaway': 4284, 'las': 4285, 'motivations': 4286, 'romeo': 4287, 'struck': 4288, 'tad': 4289, 'hypnotic': 4290, 'sadistic': 4291, 'gerard': 4292, 'immensely': 4293, 'basement': 4294, 'owners': 4295, 'buying': 4296, 'zahn': 4297, 'banks': 4298, 'hoped': 4299, 'engagement': 4300, 'bread': 4301, 'southeast': 4302, 'neighborhood': 4303, 'fares': 4304, 'clueless': 4305, 'adequate': 4306, 'bickering': 4307, 'ominous': 4308, 'teeth': 4309, 'eerie': 4310, 'carrying': 4311, 'presumably': 4312, 'doug': 4313, 'backdrop': 4314, 'shirts': 4315, 'maintain': 4316, 'feat': 4317, 'cowboy': 4318, 'joint': 4319, 'staring': 4320, 'careers': 4321, 'julian': 4322, 'fry': 4323, 'vanessa': 4324, 'du': 4325, 'union': 4326, 'explosion': 4327, 'habit': 4328, 'requisite': 4329, 'fairy': 4330, 'royal': 4331, 'movements': 4332, 'racing': 4333, 'warned': 4334, 'cringe': 4335, 'circus': 4336, 'jumps': 4337, 'attended': 4338, 'horrific': 4339, 'hills': 4340, 'menacing': 4341, 'threatens': 4342, 'pairing': 4343, 'rubin': 4344, 'theresa': 4345, 'counselor': 4346, 'pulling': 4347, 'clumsy': 4348, 'shared': 4349, 'prinze': 4350, 'displayed': 4351, 'spoiler': 4352, 'rohmer': 4353, 'cave': 4354, 'proceed': 4355, 'fancy': 4356, 'pierre': 4357, 'burton': 4358, 'survives': 4359, 'severely': 4360, 'incident': 4361, 'plausible': 4362, 'association': 4363, 'equivalent': 4364, 'tank': 4365, 'pfeiffer': 4366, 'edition': 4367, 'ruin': 4368, 'dislike': 4369, 'wanda': 4370, 'article': 4371, 'disgust': 4372, 'baseball': 4373, 'kathy': 4374, 'tribe': 4375, 'dust': 4376, 'guilt': 4377, 'hat': 4378, 'videos': 4379, 'brooke': 4380, 'painting': 4381, 'miles': 4382, 'rebecca': 4383, 'picking': 4384, 'pleased': 4385, 'placement': 4386, 'chair': 4387, 'secrets': 4388, 'minimum': 4389, 'carver': 4390, 'sid': 4391, 'bumbling': 4392, 'forman': 4393, 'weather': 4394, 'offbeat': 4395, 'depp': 4396, 'negative': 4397, 'employed': 4398, 'lab': 4399, 'receives': 4400, 'mountains': 4401, 'replies': 4402, 'min': 4403, 'amidst': 4404, 'screenwriting': 4405, 'reunion': 4406, 'surviving': 4407, 'drew': 4408, 'barrymore': 4409, 'weary': 4410, 'newly': 4411, 'troubled': 4412, 'circles': 4413, 'july': 4414, 'update': 4415, 'wheelchair': 4416, 'destroying': 4417, 'mechanical': 4418, 'virgin': 4419, 'array': 4420, 'adorable': 4421, 'senior': 4422, 'boot': 4423, 'ny': 4424, 'mctiernan': 4425, 'downey': 4426, 'convention': 4427, 'harrowing': 4428, 'riding': 4429, 'unpleasant': 4430, 'kinky': 4431, 'tea': 4432, 'nightmares': 4433, 'pacific': 4434, 'fooled': 4435, 'showcase': 4436, 'warriors': 4437, 'lesbian': 4438, 'thieves': 4439, 'lesser': 4440, 'substantial': 4441, 'touchstone': 4442, 'buzz': 4443, 'dunst': 4444, 'adolescent': 4445, 'depressed': 4446, 'diabolical': 4447, 'introduction': 4448, 'manic': 4449, 'affection': 4450, 'trey': 4451, 'emerge': 4452, 'robotech': 4453, 'ton': 4454, 'thousands': 4455, 'suffice': 4456, 'earn': 4457, 'bucks': 4458, 'deuce': 4459, 'dates': 4460, 'haired': 4461, 'description': 4462, 'rhames': 4463, 'stan': 4464, 'proven': 4465, 'delivering': 4466, 'commanding': 4467, 'dozens': 4468, 'paradise': 4469, 'trap': 4470, 'shane': 4471, 'commander': 4472, 'carla': 4473, 'informs': 4474, 'dynamic': 4475, 'witnesses': 4476, 'roots': 4477, 'havoc': 4478, 'osmosis': 4479, 'egg': 4480, 'devices': 4481, 'noise': 4482, 'nelson': 4483, 'skulls': 4484, 'preposterous': 4485, 'dependentfilms': 4486, 'michele': 4487, 'april': 4488, 'versions': 4489, 'farley': 4490, 'madsen': 4491, 'bats': 4492, 'lieutenant': 4493, 'ships': 4494, 'powder': 4495, 'require': 4496, 'steiger': 4497, 'maximum': 4498, 'sucked': 4499, 'wandering': 4500, 'juan': 4501, 'valerie': 4502, 'rice': 4503, 'deliberately': 4504, 'fiancee': 4505, 'rugrats': 4506, 'alea': 4507, 'romy': 4508, 'patterns': 4509, 'pi': 4510, 'anime': 4511, 'rounders': 4512, 'totoro': 4513, 'mazursky': 4514, 'alain': 4515, 'fletcher': 4516, 'theories': 4517, 'valjean': 4518, 'manos': 4519, 'atrocious': 4520, 'accents': 4521, 'nostalgia': 4522, 'trademark': 4523, 'useful': 4524, 'novels': 4525, 'aunt': 4526, 'estate': 4527, 'cousin': 4528, 'relatives': 4529, 'print': 4530, 'manhattan': 4531, 'shoes': 4532, 'inability': 4533, 'cocaine': 4534, 'jarring': 4535, 'washed': 4536, 'polished': 4537, 'bale': 4538, 'morality': 4539, 'autobiographical': 4540, 'quarter': 4541, 'possess': 4542, 'exclusive': 4543, 'paint': 4544, 'casts': 4545, 'marine': 4546, 'cartoonish': 4547, 'tiresome': 4548, 'closet': 4549, 'roland': 4550, 'advertising': 4551, 'neill': 4552, 'pyramid': 4553, 'chased': 4554, 'replaced': 4555, 'sammy': 4556, 'disgusting': 4557, 'builds': 4558, 'vulnerable': 4559, 'sloppy': 4560, 'tie': 4561, 'operative': 4562, 'abound': 4563, 'advances': 4564, 'braveheart': 4565, 'aided': 4566, 'ferrara': 4567, 'rug': 4568, 'combine': 4569, 'colleague': 4570, 'commit': 4571, 'approaching': 4572, 'gottlieb': 4573, 'mira': 4574, 'nathan': 4575, 'involvement': 4576, 'protective': 4577, 'overlong': 4578, 'bars': 4579, 'syndrome': 4580, 'portrait': 4581, 'subsequently': 4582, 'wicked': 4583, 'champion': 4584, 'perfection': 4585, 'victor': 4586, 'otto': 4587, 'bugs': 4588, 'directs': 4589, 'mexican': 4590, 'definite': 4591, 'navy': 4592, 'seal': 4593, 'dismal': 4594, 'castor': 4595, 'wakes': 4596, 'dreadful': 4597, 'testing': 4598, 'disappear': 4599, 'parallels': 4600, 'maurice': 4601, 'predict': 4602, 'desperation': 4603, 'opposed': 4604, 'payback': 4605, 'porter': 4606, 'twilight': 4607, 'chest': 4608, 'terrorism': 4609, 'tagline': 4610, 'thirds': 4611, 'rises': 4612, 'exploring': 4613, 'demise': 4614, 'maintains': 4615, 'russo': 4616, 'lindo': 4617, 'houses': 4618, 'shape': 4619, 'anticipation': 4620, 'pale': 4621, 'methods': 4622, 'ineffective': 4623, 'clues': 4624, 'candidate': 4625, 'sunday': 4626, 'function': 4627, 'examination': 4628, 'gregory': 4629, 'kicks': 4630, 'valley': 4631, 'communication': 4632, 'shortly': 4633, 'incidentally': 4634, 'rape': 4635, 'garry': 4636, 'walt': 4637, 'framework': 4638, 'damage': 4639, 'impress': 4640, 'simmons': 4641, 'confrontation': 4642, 'analyze': 4643, 'spell': 4644, 'homes': 4645, 'maclachlan': 4646, 'glance': 4647, 'begun': 4648, 'mistress': 4649, 'ivy': 4650, 'youngsters': 4651, 'grasp': 4652, 'paycheck': 4653, 'shifting': 4654, 'taught': 4655, 'kinda': 4656, 'evident': 4657, 'engaged': 4658, 'tones': 4659, 'whining': 4660, 'rings': 4661, 'presentation': 4662, 'harder': 4663, 'unseen': 4664, 'chances': 4665, 'xad': 4666, 'conviction': 4667, 'emphasis': 4668, 'stretches': 4669, 'scope': 4670, 'clubs': 4671, 'thick': 4672, 'misery': 4673, 'holy': 4674, 'supply': 4675, 'firm': 4676, 'hangs': 4677, 'buried': 4678, 'strict': 4679, 'assault': 4680, 'saint': 4681, 'masterful': 4682, 'ivory': 4683, 'sadness': 4684, 'carrie': 4685, 'watchable': 4686, 'wolf': 4687, 'distress': 4688, 'dumber': 4689, 'sporting': 4690, 'maid': 4691, 'nude': 4692, 'planning': 4693, 'facial': 4694, 'bowl': 4695, 'closest': 4696, 'nolte': 4697, 'suitable': 4698, 'lombardo': 4699, 'financially': 4700, 'admits': 4701, 'detectives': 4702, 'rebel': 4703, 'bowden': 4704, 'talked': 4705, 'coincidentally': 4706, 'anastasia': 4707, 'courtesy': 4708, 'defined': 4709, 'harsh': 4710, 'tears': 4711, 'seeks': 4712, 'horses': 4713, 'subtitled': 4714, 'increasing': 4715, 'investigator': 4716, 'streamline': 4717, 'figured': 4718, 'rhys': 4719, 'roommate': 4720, 'jerk': 4721, 'jaws': 4722, 'meaningful': 4723, 'rita': 4724, 'favourite': 4725, 'junkie': 4726, 'speaks': 4727, 'june': 4728, 'alexander': 4729, 'zellweger': 4730, 'airport': 4731, 'slacker': 4732, 'reasonably': 4733, 'relative': 4734, 'tear': 4735, 'brolin': 4736, 'locals': 4737, 'ernest': 4738, 'hawtrey': 4739, 'dear': 4740, 'milos': 4741, 'mortensen': 4742, 'drawing': 4743, 'maker': 4744, 'letdown': 4745, 'merits': 4746, 'wink': 4747, 'dose': 4748, 'streak': 4749, 'morals': 4750, 'mall': 4751, 'frost': 4752, 'respectable': 4753, 'addicted': 4754, 'janssen': 4755, 'imitation': 4756, 'jada': 4757, 'associated': 4758, 'flies': 4759, 'significantly': 4760, 'companion': 4761, 'ghostface': 4762, 'roth': 4763, 'butler': 4764, 'employ': 4765, 'vignettes': 4766, 'corleone': 4767, 'honor': 4768, 'forgot': 4769, 'inexplicably': 4770, 'daddy': 4771, 'hears': 4772, 'geniuses': 4773, 'cook': 4774, 'exotic': 4775, 'pearl': 4776, 'rushed': 4777, 'highlights': 4778, 'pitt': 4779, 'coherent': 4780, 'glam': 4781, 'surveillance': 4782, 'holmes': 4783, 'tip': 4784, 'romp': 4785, 'edwin': 4786, 'hartman': 4787, 'uninvolving': 4788, 'arrived': 4789, 'heels': 4790, 'internal': 4791, 'bernard': 4792, 'liking': 4793, 'blowing': 4794, 'chauffeur': 4795, 'owned': 4796, 'jar': 4797, 'chaos': 4798, 'orphan': 4799, 'dramatically': 4800, 'laced': 4801, 'fetched': 4802, 'strongest': 4803, 'introduce': 4804, 'uncut': 4805, 'controversial': 4806, 'liner': 4807, 'similarities': 4808, 'noted': 4809, 'drinks': 4810, 'immense': 4811, 'trees': 4812, 'ving': 4813, 'daniels': 4814, 'knight': 4815, 'mentor': 4816, 'jerome': 4817, 'earthquake': 4818, 'disappoint': 4819, 'postman': 4820, 'checking': 4821, 'asteroid': 4822, 'transformed': 4823, 'shadows': 4824, 'tomorrow': 4825, 'kersey': 4826, 'casey': 4827, 'atcheson': 4828, 'pupil': 4829, 'intent': 4830, 'creek': 4831, 'hustler': 4832, 'proved': 4833, 'coleman': 4834, 'resembling': 4835, 'jessica': 4836, 'opinions': 4837, 'negotiator': 4838, 'steel': 4839, 'execpc': 4840, 'kinnopio': 4841, 'butcher': 4842, 'parade': 4843, 'globe': 4844, 'chad': 4845, 'widow': 4846, 'depiction': 4847, 'dien': 4848, 'alcohol': 4849, 'blend': 4850, 'jacket': 4851, 'wardrobe': 4852, 'l': 4853, 'genetic': 4854, 'sil': 4855, 'christ': 4856, 'costner': 4857, 'belongs': 4858, 'square': 4859, 'japan': 4860, 'aid': 4861, 'hapless': 4862, 'natured': 4863, 'italians': 4864, 'brendan': 4865, 'norris': 4866, 'occasion': 4867, 'column': 4868, 'cancer': 4869, 'alternative': 4870, 'trace': 4871, 'proving': 4872, 'twohy': 4873, 'madonna': 4874, 'trivia': 4875, 'cisco': 4876, 'duty': 4877, 'soderbergh': 4878, 'whale': 4879, 'stare': 4880, 'plates': 4881, 'mute': 4882, 'provocative': 4883, 'scully': 4884, 'vessel': 4885, 'janeane': 4886, 'raymond': 4887, 'wang': 4888, 'mack': 4889, 'admired': 4890, 'animators': 4891, 'ambrose': 4892, 'trekkies': 4893, 'unsettling': 4894, 'everyday': 4895, 'crawford': 4896, 'lesly': 4897, 'ballard': 4898, 'shine': 4899, 'lolita': 4900, 'niccol': 4901, 'dml': 4902, 'gwis': 4903, 'simms': 4904, 'amistad': 4905, 'hacking': 4906, 'hogan': 4907, 'ivan': 4908, 'lurie': 4909, 'insider': 4910, 'paradine': 4911, 'tampopo': 4912, 'tenebrae': 4913, 'gabrielle': 4914, 'recover': 4915, 'disguise': 4916, 'fix': 4917, 'adaptations': 4918, 'notorious': 4919, 'edgy': 4920, 'depths': 4921, 'grating': 4922, 'slap': 4923, 'walls': 4924, 'glasses': 4925, 'deadpan': 4926, 'restraint': 4927, 'winds': 4928, 'feminist': 4929, 'vain': 4930, 'quote': 4931, 'prominent': 4932, 'owes': 4933, 'amazed': 4934, 'socially': 4935, 'stayed': 4936, 'conscience': 4937, 'motivation': 4938, 'pulse': 4939, 'derivative': 4940, 'lackluster': 4941, 'heap': 4942, 'attending': 4943, 'failures': 4944, 'resources': 4945, 'portray': 4946, 'pray': 4947, 'pointed': 4948, 'caring': 4949, 'dire': 4950, 'dilemma': 4951, 'palpable': 4952, 'traffic': 4953, 'skilled': 4954, 'venture': 4955, 'jacqueline': 4956, 'joanna': 4957, 'weber': 4958, 'interpretation': 4959, 'classes': 4960, 'wealth': 4961, 'mentions': 4962, 'famed': 4963, 'playful': 4964, 'variation': 4965, 'demanding': 4966, 'gifted': 4967, 'drink': 4968, 'convicted': 4969, 'winkler': 4970, 'val': 4971, 'styles': 4972, 'sympathize': 4973, 'zorro': 4974, 'lovable': 4975, 'benefit': 4976, 'pointing': 4977, 'exceptional': 4978, 'indie': 4979, 'ana': 4980, 'genetically': 4981, 'cockroaches': 4982, 'fest': 4983, 'characterizations': 4984, 'easier': 4985, 'overblown': 4986, 'hackneyed': 4987, 'error': 4988, 'spirits': 4989, 'isolation': 4990, 'tremendous': 4991, 'catches': 4992, 'producing': 4993, 'concentrate': 4994, 'interrupted': 4995, 'population': 4996, 'citizens': 4997, 'ordered': 4998, 'considers': 4999, 'valid': 5000, 'contained': 5001, 'cup': 5002, 'spark': 5003, 'lily': 5004, 'fears': 5005, 'engage': 5006, 'divorced': 5007, 'superfluous': 5008, 'nail': 5009, 'penelope': 5010, 'newsweekly': 5011, 'subscription': 5012, 'onelist': 5013, 'landing': 5014, 'dolls': 5015, 'suitably': 5016, 'lips': 5017, 'mistakes': 5018, 'spacey': 5019, 'arrested': 5020, 'evolution': 5021, 'bonus': 5022, 'lobby': 5023, 'colleagues': 5024, 'fills': 5025, 'catchy': 5026, 'stellan': 5027, 'footsteps': 5028, 'greatness': 5029, 'sticking': 5030, 'cruz': 5031, 'smashing': 5032, 'huh': 5033, 'eh': 5034, 'imprisoned': 5035, 'billing': 5036, 'goodbye': 5037, 'silverman': 5038, 'brash': 5039, 'concern': 5040, 'downhill': 5041, 'greedy': 5042, 'nora': 5043, 'reed': 5044, 'perfunctory': 5045, 'essence': 5046, 'pepper': 5047, 'lean': 5048, 'vibrant': 5049, 'committee': 5050, 'meat': 5051, 'thread': 5052, 'scorsese': 5053, 'chazz': 5054, 'palminteri': 5055, 'map': 5056, 'noises': 5057, 'frustrating': 5058, 'select': 5059, 'hedaya': 5060, 'centered': 5061, 'outfit': 5062, 'dignity': 5063, 'medium': 5064, 'gothic': 5065, 'malcolm': 5066, 'diner': 5067, 'jeopardy': 5068, 'copycat': 5069, 'greenwood': 5070, 'sony': 5071, 'g': 5072, 'lion': 5073, 'exploits': 5074, 'despicable': 5075, 'photographs': 5076, 'accomplish': 5077, 'meantime': 5078, 'peace': 5079, 'castle': 5080, 'wheel': 5081, 'drivel': 5082, 'caan': 5083, 'mcgowan': 5084, 'landau': 5085, 'savage': 5086, 'miserable': 5087, 'guru': 5088, 'cavemen': 5089, 'precious': 5090, 'fdn': 5091, 'stronger': 5092, 'aspiring': 5093, 'revelations': 5094, 'compensate': 5095, 'tease': 5096, 'vulnerability': 5097, 'toned': 5098, 'suggestions': 5099, 'cliffhanger': 5100, 'domestic': 5101, 'accepts': 5102, 'metaphor': 5103, 'screened': 5104, 'bridge': 5105, 'drops': 5106, 'helena': 5107, 'bent': 5108, 'fog': 5109, 'leaps': 5110, 'lends': 5111, 'superstar': 5112, 'verbal': 5113, 'soaked': 5114, 'subsequent': 5115, 'compassion': 5116, 'midst': 5117, 'fires': 5118, 'slaves': 5119, 'dentist': 5120, 'shift': 5121, 'debt': 5122, 'couples': 5123, 'billed': 5124, 'godfather': 5125, 'gusto': 5126, 'earned': 5127, 'pages': 5128, 'departure': 5129, 'funeral': 5130, 'fingers': 5131, 'ireland': 5132, 'poem': 5133, 'gray': 5134, 'positively': 5135, 'despair': 5136, 'translation': 5137, 'renee': 5138, 'mariah': 5139, 'carey': 5140, 'grandfather': 5141, 'clocks': 5142, 'populated': 5143, 'duds': 5144, 'caviezel': 5145, 'communicate': 5146, 'segments': 5147, 'attract': 5148, 'pun': 5149, 'dial': 5150, 'workings': 5151, 'miracle': 5152, 'passionate': 5153, 'faults': 5154, 'rental': 5155, 'nookey': 5156, 'jacques': 5157, 'barbara': 5158, 'platoon': 5159, 'missouri': 5160, 'hatred': 5161, 'complaints': 5162, 'hire': 5163, 'wildly': 5164, 'reservoir': 5165, 'argument': 5166, 'nods': 5167, 'caliber': 5168, 'pan': 5169, 'chore': 5170, 'mfcb': 5171, 'services': 5172, 'arrogant': 5173, 'gutter': 5174, 'drwho': 5175, 'snowman': 5176, 'dylan': 5177, 'crashing': 5178, 'slater': 5179, 'marianne': 5180, 'infamous': 5181, 'mayhem': 5182, 'strapped': 5183, 'deceiver': 5184, 'pivotal': 5185, 'grab': 5186, 'announces': 5187, 'sinking': 5188, 'ruthless': 5189, 'boarding': 5190, 'vehicles': 5191, 'predictably': 5192, 'rapid': 5193, 'honestly': 5194, 'bulk': 5195, 'ponder': 5196, 'executives': 5197, 'costs': 5198, 'preparing': 5199, 'bible': 5200, 'artsy': 5201, 'lyrics': 5202, 'miserably': 5203, 'paintings': 5204, 'noticeable': 5205, 'rely': 5206, 'credited': 5207, 'aa': 5208, 'afterward': 5209, 'tripp': 5210, 'exploit': 5211, 'longtime': 5212, 'mystical': 5213, 'scripted': 5214, 'questionable': 5215, 'ease': 5216, 'titles': 5217, 'rade': 5218, 'serbedzija': 5219, 'frustration': 5220, 'coast': 5221, 'believability': 5222, 'greed': 5223, 'gangsters': 5224, 'span': 5225, 'discussions': 5226, 'clothing': 5227, 'clash': 5228, 'physically': 5229, 'imposing': 5230, 'spotlight': 5231, 'carlyle': 5232, 'shall': 5233, 'chapter': 5234, 'stamp': 5235, 'christine': 5236, 'seann': 5237, 'quartet': 5238, 'graduation': 5239, 'studying': 5240, 'novelty': 5241, 'judi': 5242, 'dench': 5243, 'irresistible': 5244, 'gather': 5245, 'nails': 5246, 'unforgettable': 5247, 'popularity': 5248, 'daylight': 5249, 'outs': 5250, 'troma': 5251, 'subway': 5252, 'locker': 5253, 'companions': 5254, 'risky': 5255, 'pig': 5256, 'fascination': 5257, 'enthusiasm': 5258, 'nostalgic': 5259, 'wan': 5260, 'jedi': 5261, 'forgive': 5262, 'newer': 5263, 'spacecraft': 5264, 'bujold': 5265, 'eruption': 5266, 'patton': 5267, 'titular': 5268, 'tasteless': 5269, 'chinatown': 5270, 'nasa': 5271, 'sandy': 5272, 'lorenzo': 5273, 'settled': 5274, 'rat': 5275, 'fields': 5276, 'pushes': 5277, 'slew': 5278, 'cycle': 5279, 'phrases': 5280, 'motorcycle': 5281, 'attracted': 5282, 'johansson': 5283, 'revolutionary': 5284, 'claw': 5285, 'elena': 5286, 'health': 5287, 'remakes': 5288, 'refuse': 5289, 'victoria': 5290, 'european': 5291, 'publicity': 5292, 'daring': 5293, 'berry': 5294, 'horrifying': 5295, 'inhabitants': 5296, 'thematic': 5297, 'sink': 5298, 'accessible': 5299, 'betsy': 5300, 'gordy': 5301, 'mouths': 5302, 'odeon': 5303, 'liverpool': 5304, 'edgar': 5305, 'doo': 5306, 'meyers': 5307, 'casper': 5308, 'moviereviewheaven': 5309, 'homer': 5310, 'awhile': 5311, 'sunny': 5312, 'shandling': 5313, 'basinger': 5314, 'politically': 5315, 'hides': 5316, 'atheist': 5317, 'wounds': 5318, 'nc': 5319, 'comedian': 5320, 'bates': 5321, 'yards': 5322, 'evans': 5323, 'vast': 5324, 'duration': 5325, 'wash': 5326, 'aaron': 5327, 'irrelevant': 5328, 'horrors': 5329, 'nazis': 5330, 'lunch': 5331, 'isolated': 5332, 'knife': 5333, 'karate': 5334, 'annoyed': 5335, 'curdled': 5336, 'lambs': 5337, 'wraps': 5338, 'option': 5339, 'highway': 5340, 'outlandish': 5341, 'elias': 5342, 'friedkin': 5343, 'unrealistic': 5344, 'midler': 5345, 'dixon': 5346, 'deniro': 5347, 'steed': 5348, 'dressing': 5349, 'ringwald': 5350, 'repeating': 5351, 'sethe': 5352, 'strasser': 5353, 'bullet': 5354, 'cleese': 5355, 'blake': 5356, 'sincerity': 5357, 'dela': 5358, 'hitman': 5359, 'phrase': 5360, 'machines': 5361, 'martian': 5362, 'pills': 5363, 'ace': 5364, 'underworld': 5365, 'crashes': 5366, 'cardinal': 5367, 'wished': 5368, 'arizona': 5369, 'dune': 5370, 'ensues': 5371, 'scares': 5372, 'aboard': 5373, 'dove': 5374, 'sergeant': 5375, 'beam': 5376, 'fa': 5377, 'endlessly': 5378, 'modine': 5379, 'onofrio': 5380, 'cube': 5381, 'precinct': 5382, 'mayor': 5383, 'haynes': 5384, 'collette': 5385, 'weddings': 5386, 'stu': 5387, 'reitman': 5388, 'laserman': 5389, 'maximus': 5390, 'roro': 5391, 'kombat': 5392, 'cosette': 5393, 'coens': 5394, 'rudolph': 5395, 'abby': 5396, 'andreas': 5397, 'dalai': 5398, 'tibet': 5399, 'fishes': 5400, 'jaw': 5401, 'kingpin': 5402, 'demons': 5403, 'advantage': 5404, 'kitchen': 5405, 'nod': 5406, 'additional': 5407, 'connor': 5408, 'ma': 5409, 'pressure': 5410, 'hack': 5411, 'colourful': 5412, 'resemble': 5413, 'smug': 5414, 'readers': 5415, 'calm': 5416, 'mannered': 5417, 'describing': 5418, 'lessons': 5419, 'shell': 5420, 'aim': 5421, 'mouthed': 5422, 'report': 5423, 'defeat': 5424, 'assumed': 5425, 'beer': 5426, 'combines': 5427, 'exceptionally': 5428, 'cracked': 5429, 'trains': 5430, 'overdone': 5431, 'egypt': 5432, 'limits': 5433, 'slain': 5434, 'dig': 5435, 'showgirls': 5436, 'costume': 5437, 'stir': 5438, 'convincingly': 5439, 'hopeless': 5440, 'salvage': 5441, 'meal': 5442, 'lengthy': 5443, 'teaches': 5444, 'laws': 5445, 'predicament': 5446, 'redundant': 5447, 'crimson': 5448, 'unsuspecting': 5449, 'idiot': 5450, 'youngest': 5451, 'homosexuality': 5452, 'watts': 5453, 'outsider': 5454, 'exquisite': 5455, 'classical': 5456, 'stylized': 5457, 'snatchers': 5458, 'bold': 5459, 'recommendation': 5460, 'caricature': 5461, 'acceptance': 5462, 'leary': 5463, 'riveting': 5464, 'angelfire': 5465, 'davison': 5466, 'peaceful': 5467, 'splash': 5468, 'mimic': 5469, 'restrained': 5470, 'fabulous': 5471, 'dumping': 5472, 'closed': 5473, 'savvy': 5474, 'versus': 5475, 'sixties': 5476, 'recalls': 5477, 'rampage': 5478, 'farcical': 5479, 'curiously': 5480, 'coincidences': 5481, 'draws': 5482, 'mama': 5483, 'interestingly': 5484, 'arrow': 5485, 'troy': 5486, 'capshaw': 5487, 'blythe': 5488, 'danner': 5489, 'surround': 5490, 'wet': 5491, 'afternoon': 5492, 'spite': 5493, 'equipment': 5494, 'tucci': 5495, 'completed': 5496, 'stares': 5497, 'zany': 5498, 'internetreviews': 5499, 'accurately': 5500, 'toronto': 5501, 'accepted': 5502, 'maturity': 5503, 'parking': 5504, 'bothered': 5505, 'uns': 5506, 'teenagemoviecritic': 5507, 'employs': 5508, 'ripped': 5509, 'laden': 5510, 'depicts': 5511, 'soil': 5512, 'bombs': 5513, 'pursue': 5514, 'devereaux': 5515, 'immigrants': 5516, 'detract': 5517, 'reward': 5518, 'wits': 5519, 'shelf': 5520, 'helpless': 5521, 'paranoia': 5522, 'frankenheimer': 5523, 'deserving': 5524, 'wary': 5525, 'selected': 5526, 'glorious': 5527, 'neck': 5528, 'hbo': 5529, 'startling': 5530, 'bon': 5531, 'jovi': 5532, 'tech': 5533, 'applies': 5534, 'feeble': 5535, 'mini': 5536, 'harm': 5537, 'nowadays': 5538, 'seldom': 5539, 'kicked': 5540, 'garden': 5541, 'kidman': 5542, 'reactions': 5543, 'understandable': 5544, 'stated': 5545, 'ranging': 5546, 'vulgar': 5547, 'loaded': 5548, 'sant': 5549, 'hauser': 5550, 'lambeau': 5551, 'therapy': 5552, 'overrated': 5553, 'lounge': 5554, 'mannerisms': 5555, 'breathing': 5556, 'paragraph': 5557, 'walker': 5558, 'pound': 5559, 'peet': 5560, 'intentions': 5561, 'boost': 5562, 'advocate': 5563, 'factors': 5564, 'lightly': 5565, 'sweeping': 5566, 'botched': 5567, 'excruciatingly': 5568, 'regina': 5569, 'lightning': 5570, 'heroin': 5571, 'nerve': 5572, 'abruptly': 5573, 'sham': 5574, 'arguing': 5575, 'cleverly': 5576, 'constructed': 5577, 'sustain': 5578, 'patience': 5579, 'screensavers': 5580, 'immortal': 5581, 'payne': 5582, 'ham': 5583, 'waiter': 5584, 'arriving': 5585, 'fernando': 5586, 'dresses': 5587, 'overwhelming': 5588, 'schlock': 5589, 'goings': 5590, 'stomach': 5591, 'minister': 5592, 'astonishing': 5593, 'determination': 5594, 'jude': 5595, 'temple': 5596, 'wilkinson': 5597, 'mistaken': 5598, 'reception': 5599, 'rude': 5600, 'alcoholic': 5601, 'unappealing': 5602, 'protected': 5603, 'companies': 5604, 'incessantly': 5605, 'draft': 5606, 'abysmal': 5607, 'arguably': 5608, 'favorites': 5609, 'induced': 5610, 'helmed': 5611, 'shore': 5612, 'bio': 5613, 'wcw': 5614, 'extensive': 5615, 'whitaker': 5616, 'smarmy': 5617, 'filmjax': 5618, 'reviewers': 5619, 'contrary': 5620, 'collision': 5621, 'vega': 5622, 'wagner': 5623, 'mcnaughton': 5624, 'raucous': 5625, 'florida': 5626, 'classmate': 5627, 'accusations': 5628, 'amusement': 5629, 'colin': 5630, 'ariel': 5631, 'freddie': 5632, 'idiots': 5633, 'fisherman': 5634, 'absence': 5635, 'grandma': 5636, 'machinations': 5637, 'september': 5638, 'anticipated': 5639, 'zone': 5640, 'spoke': 5641, 'reverse': 5642, 'battling': 5643, 'ol': 5644, 'wives': 5645, 'unbeknownst': 5646, 'banter': 5647, 'plotline': 5648, 'react': 5649, 'lighthearted': 5650, 'profit': 5651, 'donner': 5652, 'glimpses': 5653, 'cleaning': 5654, 'enjoys': 5655, 'paths': 5656, 'hopeful': 5657, 'gear': 5658, 'inherent': 5659, 'landscape': 5660, 'mae': 5661, 'tribulations': 5662, 'viewings': 5663, 'darth': 5664, 'accepting': 5665, 'smiles': 5666, 'fierce': 5667, 'dumped': 5668, 'addiction': 5669, 'bello': 5670, 'yelling': 5671, 'slang': 5672, 'cutesy': 5673, 'liv': 5674, 'toby': 5675, 'pronounced': 5676, 'loneliness': 5677, 'buster': 5678, 'uttered': 5679, 'aimlessly': 5680, 'sooner': 5681, 'wretched': 5682, 'comfortable': 5683, 'noting': 5684, 'lucrative': 5685, 'columbus': 5686, 'robots': 5687, 'unspoken': 5688, 'stairs': 5689, 'models': 5690, 'ambiguous': 5691, 'regulars': 5692, 'matron': 5693, 'butterworth': 5694, 'screw': 5695, 'homepage': 5696, 'abraham': 5697, 'difficulty': 5698, 'elmore': 5699, 'cherry': 5700, 'criminally': 5701, 'extras': 5702, 'marlowe': 5703, 'invention': 5704, 'motions': 5705, 'bogged': 5706, 'gremlins': 5707, 'harvard': 5708, 'inducing': 5709, 'earnest': 5710, 'ryder': 5711, 'succeeded': 5712, 'metcalf': 5713, 'olyphant': 5714, 'achieved': 5715, 'weathers': 5716, 'di': 5717, 'banana': 5718, 'wayland': 5719, 'iq': 5720, 'boils': 5721, 'claustrophobic': 5722, 'parallel': 5723, 'importance': 5724, 'sanity': 5725, 'mib': 5726, 'solomon': 5727, 'creativity': 5728, 'urgency': 5729, 'gravity': 5730, 'spinning': 5731, 'wishes': 5732, 'partially': 5733, 'pains': 5734, 'turner': 5735, 'delightfully': 5736, 'cheek': 5737, 'uptight': 5738, 'extraneous': 5739, 'shirt': 5740, 'coal': 5741, 'germany': 5742, 'hedwig': 5743, 'unanswered': 5744, 'renegade': 5745, 'femme': 5746, 'sparks': 5747, 'tendency': 5748, 'flowing': 5749, 'unsatisfying': 5750, 'stilted': 5751, 'collapses': 5752, 'academic': 5753, 'puns': 5754, 'cheerful': 5755, 'stanton': 5756, 'liquor': 5757, 'hoot': 5758, 'principle': 5759, 'electric': 5760, 'improbable': 5761, 'proverbial': 5762, 'spaces': 5763, 'elevator': 5764, 'guaranteed': 5765, 'tsui': 5766, 'brained': 5767, 'apply': 5768, 'rochon': 5769, 'received': 5770, 'cheated': 5771, 'croft': 5772, 'exposition': 5773, 'graphics': 5774, 'rousing': 5775, 'snails': 5776, 'connect': 5777, 'resolved': 5778, 'unfamiliar': 5779, 'rumpo': 5780, 'chick': 5781, 'riot': 5782, 'inferior': 5783, 'porn': 5784, 'posing': 5785, 'alike': 5786, 'ought': 5787, 'motive': 5788, 'ambassador': 5789, 'neighbors': 5790, 'breathtaking': 5791, 'global': 5792, 'goldman': 5793, 'chubby': 5794, 'organization': 5795, 'griffin': 5796, 'renfro': 5797, 'tara': 5798, 'perky': 5799, 'election': 5800, 'breakfast': 5801, 'bell': 5802, 'stoppard': 5803, 'confronts': 5804, 'resistance': 5805, 'cartman': 5806, 'admirably': 5807, 'predecessors': 5808, 'frustrated': 5809, 'attached': 5810, 'cracks': 5811, 'swearing': 5812, 'sucker': 5813, 'blessed': 5814, 'geek': 5815, 'bigalow': 5816, 'brainless': 5817, 'courtney': 5818, 'intentionally': 5819, 'keen': 5820, 'backed': 5821, 'sf': 5822, 'continued': 5823, 'obi': 5824, 'coma': 5825, 'entering': 5826, 'overkill': 5827, 'squid': 5828, 'bruckheimer': 5829, 'tidy': 5830, 'float': 5831, 'arlington': 5832, 'faraday': 5833, 'mason': 5834, 'notices': 5835, 'unbelievably': 5836, 'oil': 5837, 'moviegoers': 5838, 'sings': 5839, 'sal': 5840, 'topless': 5841, 'hunky': 5842, 'illustrate': 5843, 'sue': 5844, 'epilogue': 5845, 'tunney': 5846, 'nate': 5847, 'alley': 5848, 'inject': 5849, 'thanksgiving': 5850, 'teenager': 5851, 'freeze': 5852, 'sprinkled': 5853, 'radha': 5854, 'photographer': 5855, 'ricci': 5856, 'tightly': 5857, 'carol': 5858, 'gadgets': 5859, 'smell': 5860, 'skull': 5861, 'indicate': 5862, 'facing': 5863, 'elton': 5864, 'msn': 5865, 'halle': 5866, 'narrow': 5867, 'mentally': 5868, 'yellow': 5869, 'comparing': 5870, 'benigni': 5871, 'camps': 5872, 'borgnine': 5873, 'profoundly': 5874, 'tragically': 5875, 'mates': 5876, 'sending': 5877, 'incidents': 5878, 'teri': 5879, 'uplifting': 5880, 'shelton': 5881, 'rickman': 5882, 'homeless': 5883, 'shady': 5884, 'athletic': 5885, 'considerably': 5886, 'discovering': 5887, 'colored': 5888, 'hung': 5889, 'overtones': 5890, 'lillard': 5891, 'subjected': 5892, 'partners': 5893, 'respects': 5894, 'wondered': 5895, 'frightened': 5896, 'juice': 5897, 'wilder': 5898, 'jacobi': 5899, 'firefighters': 5900, 'cloud': 5901, 'concepts': 5902, 'hatcher': 5903, 'ba': 5904, 'ku': 5905, 'neatly': 5906, 'performs': 5907, 'unreal': 5908, 'koteas': 5909, 'underwood': 5910, 'francisco': 5911, 'teddy': 5912, 'beverly': 5913, 'attitudes': 5914, 'horrendous': 5915, 'cbs': 5916, 'forgets': 5917, 'brenner': 5918, 'thandie': 5919, 'route': 5920, 'cigarette': 5921, 'concentration': 5922, 'underneath': 5923, 'crisp': 5924, 'weaver': 5925, 'lawyers': 5926, 'webber': 5927, 'mothers': 5928, 'poachers': 5929, 'fraser': 5930, 'minimal': 5931, 'marginally': 5932, 'sand': 5933, 'gauge': 5934, 'complexity': 5935, 'relentless': 5936, 'ears': 5937, 'nell': 5938, 'authorities': 5939, 'marrow': 5940, 'absorbing': 5941, 'soup': 5942, 'atlantis': 5943, 'godard': 5944, 'eighteen': 5945, 'matthau': 5946, 'pill': 5947, 'wainwright': 5948, 'skeptical': 5949, 'niagara': 5950, 'herbert': 5951, 'leap': 5952, 'palmetto': 5953, 'belushi': 5954, 'gunton': 5955, 'cheerleaders': 5956, 'palmer': 5957, 'funnest': 5958, 'pies': 5959, 'python': 5960, 'yells': 5961, 'popping': 5962, 'arraki': 5963, 'calogero': 5964, 'furtwangler': 5965, 'helgeland': 5966, 'techno': 5967, 'rea': 5968, 'supreme': 5969, 'passenger': 5970, 'ronin': 5971, 'gretchen': 5972, 'aros': 5973, 'nominations': 5974, 'certification': 5975, 'colonists': 5976, 'lock': 5977, 'terra': 5978, 'dina': 5979, 'africans': 5980, 'logical': 5981, 'emerging': 5982, 'eachother': 5983, 'miserables': 5984, 'frog': 5985, 'muppet': 5986, 'glaring': 5987, 'chef': 5988, 'cooking': 5989, 'shades': 5990, 'construction': 5991, 'hitting': 5992, 'vista': 5993, 'austen': 5994, 'comprehend': 5995, 'frances': 5996, 'lindsay': 5997, 'duncan': 5998, 'explicitly': 5999, 'hinted': 6000, 'breast': 6001, 'invent': 6002, 'vivid': 6003, 'trips': 6004, 'novelist': 6005, 'peers': 6006, 'orson': 6007, 'integrity': 6008, 'slice': 6009, 'frenchman': 6010, 'kaplan': 6011, 'gentlemen': 6012, 'ruby': 6013, 'raises': 6014, 'golf': 6015, 'temper': 6016, 'rolled': 6017, 'autistic': 6018, 'suspension': 6019, 'recycled': 6020, 'resolve': 6021, 'defies': 6022, 'nerds': 6023, 'pounding': 6024, 'chewing': 6025, 'ruled': 6026, 'davidson': 6027, 'consisting': 6028, 'offs': 6029, 'organized': 6030, 'counts': 6031, 'echoes': 6032, 'downs': 6033, 'scum': 6034, 'hawke': 6035, 'tide': 6036, 'confidential': 6037, 'romano': 6038, 'approx': 6039, 'snl': 6040, 'outcast': 6041, 'superman': 6042, 'nerd': 6043, 'illogical': 6044, 'unsuccessfully': 6045, 'stinks': 6046, 'lafayette': 6047, 'jconline': 6048, 'clicking': 6049, 'golafayette': 6050, 'venier': 6051, 'cassidy': 6052, 'forbidden': 6053, 'trail': 6054, 'capital': 6055, 'glowing': 6056, 'approached': 6057, 'unemployed': 6058, 'intricate': 6059, 'firmly': 6060, 'rambling': 6061, 'repeat': 6062, 'indra': 6063, 'mmapes': 6064, 'musician': 6065, 'clint': 6066, 'touched': 6067, 'denis': 6068, 'irwin': 6069, 'architect': 6070, 'session': 6071, 'stroke': 6072, 'puppy': 6073, 'grew': 6074, 'balanced': 6075, 'tricky': 6076, 'discussed': 6077, 'shoulder': 6078, 'buff': 6079, 'sincere': 6080, 'whoopi': 6081, 'camille': 6082, 'furthermore': 6083, 'strategy': 6084, 'creaky': 6085, 'potent': 6086, 'cryptic': 6087, 'martinez': 6088, 'transcends': 6089, 'culminating': 6090, 'subdued': 6091, 'gloomy': 6092, 'tied': 6093, 'capacity': 6094, 'commonplace': 6095, 'hearts': 6096, 'boats': 6097, 'employee': 6098, 'turmoil': 6099, 'exhibit': 6100, 'secondary': 6101, 'novikov': 6102, 'disk': 6103, 'exploitation': 6104, 'dread': 6105, 'shakespearean': 6106, 'rhodes': 6107, 'exudes': 6108, 'betrayed': 6109, 'stole': 6110, 'depending': 6111, 'kristofferson': 6112, 'liu': 6113, 'bogart': 6114, 'narrates': 6115, 'accompany': 6116, 'resulting': 6117, 'responds': 6118, 'realm': 6119, 'authority': 6120, 'permanent': 6121, 'nbc': 6122, 'wings': 6123, 'gained': 6124, 'composer': 6125, 'opposition': 6126, 'gripping': 6127, 'haunt': 6128, 'forrest': 6129, 'gump': 6130, 'delroy': 6131, 'decorated': 6132, 'guise': 6133, 'dope': 6134, 'plant': 6135, 'placing': 6136, 'floors': 6137, 'connections': 6138, 'offended': 6139, 'refers': 6140, 'virtue': 6141, 'pitiful': 6142, 'settings': 6143, 'mindset': 6144, 'clerk': 6145, 'ignorance': 6146, 'mount': 6147, 'broke': 6148, 'flame': 6149, 'ego': 6150, 'exposed': 6151, 'tobey': 6152, 'stood': 6153, 'janitor': 6154, 'dern': 6155, 'stockwell': 6156, 'dealers': 6157, 'recommended': 6158, 'alejandro': 6159, 'begs': 6160, 'ugh': 6161, 'mohr': 6162, 'statements': 6163, 'sized': 6164, 'differently': 6165, 'reacting': 6166, 'equipped': 6167, 'compulsive': 6168, 'sleepless': 6169, 'seeking': 6170, 'escapist': 6171, 'maze': 6172, 'promotional': 6173, 'jabs': 6174, 'outfits': 6175, 'raunchy': 6176, 'darn': 6177, 'reprinted': 6178, 'rehash': 6179, 'flavor': 6180, 'link': 6181, 'recurring': 6182, 'ferrell': 6183, 'se': 6184, 'insipid': 6185, 'overacting': 6186, 'unhappy': 6187, 'befriends': 6188, 'halt': 6189, 'fulci': 6190, 'witted': 6191, 'favour': 6192, 'bust': 6193, 'zombie': 6194, 'engages': 6195, 'understands': 6196, 'parole': 6197, 'debbie': 6198, 'represented': 6199, 'morse': 6200, 'spoiled': 6201, 'uncanny': 6202, 'openly': 6203, 'hackers': 6204, 'amateur': 6205, 'silverstone': 6206, 'lowest': 6207, 'ogre': 6208, 'scottish': 6209, 'fond': 6210, 'petty': 6211, 'farquaad': 6212, 'resides': 6213, 'damsel': 6214, 'fiona': 6215, 'accompanied': 6216, 'graduate': 6217, 'expense': 6218, 'cabin': 6219, 'kingdom': 6220, 'palace': 6221, 'mentality': 6222, 'stature': 6223, 'mocking': 6224, 'rubber': 6225, 'travelling': 6226, 'lay': 6227, 'unit': 6228, 'staging': 6229, 'incapable': 6230, 'counting': 6231, 'herzfeld': 6232, 'transform': 6233, 'shaking': 6234, 'fluid': 6235, 'defend': 6236, 'brow': 6237, 'dive': 6238, 'vocabulary': 6239, 'impressively': 6240, 'sultry': 6241, 'paulina': 6242, 'grainy': 6243, 'mm': 6244, 'videotape': 6245, 'corey': 6246, 'conquered': 6247, 'goods': 6248, 'grocery': 6249, 'conflicts': 6250, 'occasions': 6251, 'concocted': 6252, 'fund': 6253, 'allure': 6254, 'experimental': 6255, 'dreamlife': 6256, 'hans': 6257, 'limp': 6258, 'cinemas': 6259, 'recreation': 6260, 'dreary': 6261, 'serling': 6262, 'intention': 6263, 'visceral': 6264, 'chess': 6265, 'primitive': 6266, 'steady': 6267, 'insecure': 6268, 'geared': 6269, 'visiting': 6270, 'franchise': 6271, 'pesci': 6272, 'armor': 6273, 'automatic': 6274, 'enemies': 6275, 'marrying': 6276, 'confront': 6277, 'flees': 6278, 'entirety': 6279, 'sentimentality': 6280, 'earl': 6281, 'betrayal': 6282, 'appeals': 6283, 'allegedly': 6284, 'redeeming': 6285, 'gambler': 6286, 'nuts': 6287, 'ounce': 6288, 'unspecified': 6289, 'filmfreakcentral': 6290, 'countryside': 6291, 'implied': 6292, 'vital': 6293, 'intact': 6294, 'brisk': 6295, 'artie': 6296, 'proposal': 6297, 'bachelor': 6298, 'rom': 6299, 'dominated': 6300, 'inspire': 6301, 'pressed': 6302, 'andre': 6303, 'braugher': 6304, 'noah': 6305, 'warns': 6306, 'moviereviews': 6307, 'attend': 6308, 'warrant': 6309, 'accomplishment': 6310, 'forgiven': 6311, 'midway': 6312, 'windsor': 6313, 'sung': 6314, 'alright': 6315, 'obscene': 6316, 'dusk': 6317, 'linear': 6318, 'deliciously': 6319, 'trunk': 6320, 'legitimate': 6321, 'attendant': 6322, 'convoluted': 6323, 'elm': 6324, 'widescreen': 6325, 'enthusiastic': 6326, 'alternate': 6327, 'invisibility': 6328, 'visible': 6329, 'characterisation': 6330, 'appalling': 6331, 'delve': 6332, 'realise': 6333, 'cannon': 6334, 'restaurants': 6335, 'quit': 6336, 'filmfan': 6337, 'winona': 6338, 'acclaim': 6339, 'outset': 6340, 'tabloid': 6341, 'joined': 6342, 'cotton': 6343, 'duane': 6344, 'salt': 6345, 'rossi': 6346, 'hilariously': 6347, 'rosanna': 6348, 'mgm': 6349, 'abusive': 6350, 'unfinished': 6351, 'invested': 6352, 'behalf': 6353, 'disagree': 6354, 'leg': 6355, 'hop': 6356, 'billie': 6357, 'frozen': 6358, 'fragile': 6359, 'guards': 6360, 'bubble': 6361, 'fulfill': 6362, 'plagued': 6363, 'baked': 6364, 'sophistication': 6365, 'restored': 6366, 'powell': 6367, 'spoofs': 6368, 'handling': 6369, 'theatres': 6370, 'bowie': 6371, 'suspicion': 6372, 'establish': 6373, 'pittsburgh': 6374, 'aptly': 6375, 'crowded': 6376, 'tiffany': 6377, 'distract': 6378, 'oriented': 6379, 'juggling': 6380, 'roberto': 6381, 'illinois': 6382, 'pad': 6383, 'reliable': 6384, 'marcus': 6385, 'hark': 6386, 'altered': 6387, 'grisham': 6388, 'collaboration': 6389, 'barnes': 6390, 'craft': 6391, 'formed': 6392, 'glen': 6393, 'varying': 6394, 'highest': 6395, 'tacked': 6396, 'chop': 6397, 'hysterical': 6398, 'stretched': 6399, 'fed': 6400, 'nicknamed': 6401, 'connick': 6402, 'exaggerated': 6403, 'satirical': 6404, 'fighter': 6405, 'shtick': 6406, 'existent': 6407, 'sans': 6408, 'intrigue': 6409, 'peoples': 6410, 'philosophical': 6411, 'kirsten': 6412, 'monk': 6413, 'stripped': 6414, 'scholarship': 6415, 'careful': 6416, 'absorbed': 6417, 'aspirations': 6418, 'pretends': 6419, 'naughty': 6420, 'biting': 6421, 'gee': 6422, 'tunnel': 6423, 'rats': 6424, 'robocop': 6425, 'distraught': 6426, 'strongly': 6427, 'designs': 6428, 'roommates': 6429, 'gigolo': 6430, 'olds': 6431, 'heading': 6432, 'settles': 6433, 'mixing': 6434, 'locked': 6435, 'profion': 6436, 'kristen': 6437, 'behold': 6438, 'peacemaker': 6439, 'suave': 6440, 'flashing': 6441, 'fries': 6442, 'shit': 6443, 'bounce': 6444, 'systems': 6445, 'severe': 6446, 'restore': 6447, 'transported': 6448, 'purposes': 6449, 'launch': 6450, 'supervisor': 6451, 'retired': 6452, 'angelo': 6453, 'lang': 6454, 'nefarious': 6455, 'rosemary': 6456, 'stendhal': 6457, 'static': 6458, 'perverse': 6459, 'seedy': 6460, 'commune': 6461, 'foreigners': 6462, 'cries': 6463, 'bananas': 6464, 'targets': 6465, 'unintentional': 6466, 'nary': 6467, 'wholly': 6468, 'sentence': 6469, 'disco': 6470, 'trait': 6471, 'assassination': 6472, 'schell': 6473, 'slayer': 6474, 'darkly': 6475, 'poison': 6476, 'climate': 6477, 'niece': 6478, 'villainous': 6479, 'edwards': 6480, 'literal': 6481, 'clarkson': 6482, 'goldwyn': 6483, 'fiorentino': 6484, 'lure': 6485, 'injured': 6486, 'cracking': 6487, 'jewison': 6488, 'layered': 6489, 'explode': 6490, 'tailor': 6491, 'conveniently': 6492, 'moderately': 6493, 'usage': 6494, 'ginger': 6495, 'referential': 6496, 'speeding': 6497, 'gathering': 6498, 'violently': 6499, 'johnbeachem': 6500, 'twentieth': 6501, 'nina': 6502, 'flavour': 6503, 'negotiate': 6504, 'competent': 6505, 'slimy': 6506, 'backdraft': 6507, 'dora': 6508, 'rounded': 6509, 'customers': 6510, 'bothers': 6511, 'saddled': 6512, 'paints': 6513, 'darker': 6514, 'spectacle': 6515, 'stevens': 6516, 'uip': 6517, 'intimate': 6518, 'linklater': 6519, 'observations': 6520, 'melinda': 6521, 'natalie': 6522, 'shopgirl': 6523, 'chapelle': 6524, 'coat': 6525, 'clone': 6526, 'incompetent': 6527, 'dna': 6528, 'o': 6529, 'insulted': 6530, 'prefer': 6531, 'cope': 6532, 'mysteries': 6533, 'germans': 6534, 'conditions': 6535, 'jocks': 6536, 'arcane': 6537, 'pod': 6538, 'entitled': 6539, 'bags': 6540, 'supermodel': 6541, 'reflect': 6542, 'laser': 6543, 'skinheads': 6544, 'affecting': 6545, 'flanery': 6546, 'terminator': 6547, 'sawa': 6548, 'browning': 6549, 'introducing': 6550, 'instructor': 6551, 'choreography': 6552, 'convert': 6553, 'panic': 6554, 'flames': 6555, 'goodfellas': 6556, 'addresses': 6557, 'panned': 6558, 'exclusively': 6559, 'obsessively': 6560, 'tidbits': 6561, 'yeoh': 6562, 'annual': 6563, 'sales': 6564, 'whiz': 6565, 'davidtz': 6566, 'gandolfini': 6567, 'chamber': 6568, 'voiceover': 6569, 'hodges': 6570, 'answered': 6571, 'bette': 6572, 'ramis': 6573, 'jeremiah': 6574, 'twister': 6575, 'olivia': 6576, 'sells': 6577, 'madeline': 6578, 'kahn': 6579, 'clan': 6580, 'lapaglia': 6581, 'comprised': 6582, 'gooding': 6583, 'sensibility': 6584, 'tudeski': 6585, 'lazard': 6586, 'unsuccessful': 6587, 'pattern': 6588, 'toni': 6589, 'stumble': 6590, 'sane': 6591, 'barb': 6592, 'funding': 6593, 'cities': 6594, 'hungry': 6595, 'pirates': 6596, 'reindeer': 6597, 'melissa': 6598, 'jingle': 6599, 'scored': 6600, 'mcconnell': 6601, 'clutches': 6602, 'contribute': 6603, 'grosse': 6604, 'pointe': 6605, 'cavanaugh': 6606, 'tectonic': 6607, 'captivating': 6608, 'demand': 6609, 'walken': 6610, 'guantanamera': 6611, 'adolfo': 6612, 'duchovny': 6613, 'borrowers': 6614, 'tug': 6615, 'willie': 6616, 'pete': 6617, 'trappings': 6618, 'jodie': 6619, 'underlying': 6620, 'indifferent': 6621, 'downfall': 6622, 'clea': 6623, 'teachers': 6624, 'judgement': 6625, 'threads': 6626, 'invited': 6627, 'conductor': 6628, 'exhausting': 6629, 'challenged': 6630, 'claim': 6631, 'caesar': 6632, 'flirting': 6633, 'schaech': 6634, 'hannibal': 6635, 'lizard': 6636, 'elusive': 6637, 'keener': 6638, 'blockbusters': 6639, 'hatosy': 6640, 'salesman': 6641, 'sleeps': 6642, 'indepen': 6643, 'dushku': 6644, 'odin': 6645, 'arroway': 6646, 'spunky': 6647, 'billion': 6648, 'flooding': 6649, 'reject': 6650, 'shockingly': 6651, 'aronofsky': 6652, 'eraserhead': 6653, 'thankless': 6654, 'enigmatic': 6655, 'koepp': 6656, 'zoolander': 6657, 'wrongfully': 6658, 'scent': 6659, 'dussander': 6660, 'myles': 6661, 'principals': 6662, 'jeanne': 6663, 'tandy': 6664, 'folk': 6665, 'sarone': 6666, 'mol': 6667, 'yun': 6668, 'riddick': 6669, 'francie': 6670, 'privacy': 6671, 'osnard': 6672, 'miyazaki': 6673, 'teaching': 6674, 'parador': 6675, 'doyle': 6676, 'besieged': 6677, 'chabat': 6678, 'spade': 6679, 'balls': 6680, 'breillat': 6681, 'collector': 6682, 'propaganda': 6683, 'proft': 6684, 'fishing': 6685, 'berenger': 6686, 'knees': 6687, 'swayze': 6688, 'rome': 6689, 'zaillian': 6690, 'pr': 6691, 'mans': 6692, 'nicky': 6693, 'amores': 6694, 'perros': 6695, 'fantine': 6696, 'donny': 6697, 'nova': 6698, 'hav': 6699, 'magnolia': 6700, 'lyne': 6701, 'stargher': 6702, 'albom': 6703, 'morrie': 6704, 'weaknesses': 6705, 'supercop': 6706, 'diana': 6707, 'goons': 6708, 'dubbing': 6709, 'afflicted': 6710, 'retread': 6711, 'rozema': 6712, 'sentences': 6713, 'desires': 6714, 'fanny': 6715, 'jonny': 6716, 'ignorant': 6717, 'bret': 6718, 'imagining': 6719, 'exit': 6720, 'grin': 6721, 'barrel': 6722, 'inappropriate': 6723, 'inhabit': 6724, 'reminder': 6725, 'harron': 6726, 'instincts': 6727, 'dwelling': 6728, 'impeccable': 6729, 'precise': 6730, 'comfort': 6731, 'backbone': 6732, 'complain': 6733, 'holm': 6734, 'crooked': 6735, 'resort': 6736, 'definately': 6737, 'fetish': 6738, 'tormented': 6739, 'miko': 6740, 'chi': 6741, 'becker': 6742, 'rosenthal': 6743, 'swallow': 6744, 'enforcement': 6745, 'characterized': 6746, 'observe': 6747, 'fleeing': 6748, 'listed': 6749, 'hum': 6750, 'fading': 6751, 'combining': 6752, 'locks': 6753, 'howie': 6754, 'marathon': 6755, 'ottman': 6756, 'flow': 6757, 'meaningless': 6758, 'intellect': 6759, 'elegant': 6760, 'belt': 6761, 'choosing': 6762, 'ineffectual': 6763, 'clients': 6764, 'alongside': 6765, 'bathtub': 6766, 'requiem': 6767, 'languages': 6768, 'bobbloom': 6769, 'iquest': 6770, 'herskovitz': 6771, 'franco': 6772, 'naomi': 6773, 'republic': 6774, 'educated': 6775, 'transformation': 6776, 'newfound': 6777, 'canal': 6778, 'transparent': 6779, 'avoids': 6780, 'leisurely': 6781, 'replace': 6782, 'bowler': 6783, 'boast': 6784, 'eastwood': 6785, 'reflecting': 6786, 'ev': 6787, 'unscrupulous': 6788, 'awakenings': 6789, 'nyc': 6790, 'surgery': 6791, 'comforting': 6792, 'juicy': 6793, 'illness': 6794, 'claiming': 6795, 'laurel': 6796, 'neuwirth': 6797, 'lend': 6798, 'purple': 6799, 'fascinated': 6800, 'bull': 6801, 'breed': 6802, 'predator': 6803, 'tons': 6804, 'plods': 6805, 'suited': 6806, 'ml': 6807, 'demi': 6808, 'kilter': 6809, 'recruits': 6810, 'swain': 6811, 'heated': 6812, 'selleck': 6813, 'trusted': 6814, 'marginal': 6815, 'wisecracks': 6816, 'impostors': 6817, 'molina': 6818, 'embarrassingly': 6819, 'sporadically': 6820, 'stones': 6821, 'escapades': 6822, 'insistence': 6823, 'paiva': 6824, 'swpstke': 6825, 'expage': 6826, 'policy': 6827, 'headlines': 6828, 'missile': 6829, 'troops': 6830, 'uncover': 6831, 'spies': 6832, 'agency': 6833, 'wright': 6834, 'assertive': 6835, 'lebanese': 6836, 'heritage': 6837, 'horner': 6838, 'themed': 6839, 'scores': 6840, 'neutral': 6841, 'enhance': 6842, 'missteps': 6843, 'farther': 6844, 'deranged': 6845, 'shirley': 6846, 'fright': 6847, 'furniture': 6848, 'climaxes': 6849, 'conclusions': 6850, 'gestures': 6851, 'unbearable': 6852, 'cristofer': 6853, 'waltz': 6854, 'denied': 6855, 'healthy': 6856, 'horny': 6857, 'practical': 6858, 'infinitely': 6859, 'accounts': 6860, 'complains': 6861, 'pathos': 6862, 'taunts': 6863, 'tackles': 6864, 'zest': 6865, 'cuteness': 6866, 'del': 6867, 'implications': 6868, 'periods': 6869, 'declares': 6870, 'moulin': 6871, 'ewan': 6872, 'leguizamo': 6873, 'broadbent': 6874, 'pearce': 6875, 'barrage': 6876, 'quietly': 6877, 'ballroom': 6878, 'gus': 6879, 'mathematical': 6880, 'regret': 6881, 'joking': 6882, 'reasoning': 6883, 'conservative': 6884, 'incessant': 6885, 'library': 6886, 'spain': 6887, 'hi': 6888, 'har': 6889, 'parrot': 6890, 'unfairly': 6891, 'pawn': 6892, 'rowlands': 6893, 'cartoons': 6894, 'aniston': 6895, 'meandering': 6896, 'experiencing': 6897, 'darren': 6898, 'askew': 6899, 'benefits': 6900, 'brackett': 6901, 'accidental': 6902, 'ambitions': 6903, 'prevalent': 6904, 'grip': 6905, 'surroundings': 6906, 'spouse': 6907, 'sacrifice': 6908, 'filler': 6909, 'philadelphia': 6910, 'nineties': 6911, 'timed': 6912, 'bury': 6913, 'wendt': 6914, 'elvis': 6915, 'fuller': 6916, 'cleavage': 6917, 'roughly': 6918, 'anonymous': 6919, 'bruno': 6920, 'throat': 6921, 'witnessed': 6922, 'nightclub': 6923, 'institution': 6924, 'skits': 6925, 'structured': 6926, 'incarnation': 6927, 'disjointed': 6928, 'spontaneously': 6929, 'semblance': 6930, 'rosalba': 6931, 'pants': 6932, 'demeanor': 6933, 'sparkling': 6934, 'rivers': 6935, 'gates': 6936, 'saints': 6937, 'axe': 6938, 'stuffed': 6939, 'flimsy': 6940, 'collaborator': 6941, 'veers': 6942, 'cemetery': 6943, 'oscars': 6944, 'inclusion': 6945, 'symbol': 6946, 'expects': 6947, 'invented': 6948, 'gilbert': 6949, 'raging': 6950, 'chaplin': 6951, 'theo': 6952, 'tackle': 6953, 'marries': 6954, 'insults': 6955, 'enormously': 6956, 'generous': 6957, 'bald': 6958, 'thug': 6959, 'reaching': 6960, 'grass': 6961, 'vicky': 6962, 'sail': 6963, 'yard': 6964, 'bears': 6965, 'grounds': 6966, 'clock': 6967, 'ashamed': 6968, 'montreal': 6969, 'garnered': 6970, 'endured': 6971, 'tornado': 6972, 'pursues': 6973, 'rangers': 6974, 'digs': 6975, 'transport': 6976, 'knack': 6977, 'belly': 6978, 'disposable': 6979, 'raped': 6980, 'wilderness': 6981, 'terl': 6982, 'reclaim': 6983, 'definition': 6984, 'everyman': 6985, 'spencer': 6986, 'peckrating': 6987, 'peters': 6988, 'suzie': 6989, 'shorter': 6990, 'simultaneously': 6991, 'lengths': 6992, 'cannes': 6993, 'cafe': 6994, 'playboy': 6995, 'kiddie': 6996, 'rebellious': 6997, 'brandy': 6998, 'phifer': 6999, 'summers': 7000, 'booth': 7001, 'deserted': 7002, 'wielding': 7003, 'gaze': 7004, 'sweep': 7005, 'painted': 7006, 'cruelty': 7007, 'ish': 7008, 'avoided': 7009, 'adapting': 7010, 'expressive': 7011, 'wizard': 7012, 'tends': 7013, 'elfman': 7014, 'bullets': 7015, 'reviewing': 7016, 'magician': 7017, 'crooks': 7018, 'embark': 7019, 'replete': 7020, 'cue': 7021, 'rounds': 7022, 'murtaugh': 7023, 'netdirect': 7024, 'wonderland': 7025, 'melancholy': 7026, 'fearing': 7027, 'tidal': 7028, 'escaping': 7029, 'impending': 7030, 'linz': 7031, 'yuppie': 7032, 'satisfaction': 7033, 'shoved': 7034, 'caution': 7035, 'remaking': 7036, 'yada': 7037, 'attributes': 7038, 'mismatched': 7039, 'eventual': 7040, 'manipulation': 7041, 'strung': 7042, 'sweeney': 7043, 'smitten': 7044, 'vladimir': 7045, 'tatyana': 7046, 'breathe': 7047, 'gaps': 7048, 'holbrook': 7049, 'shields': 7050, 'cohen': 7051, 'girlfriends': 7052, 'persuade': 7053, 'limbs': 7054, 'tops': 7055, 'deciding': 7056, 'stumbling': 7057, 'bartender': 7058, 'generations': 7059, 'interests': 7060, 'mac': 7061, 'capra': 7062, 'jenkins': 7063, 'execute': 7064, 'layer': 7065, 'desk': 7066, 'pin': 7067, 'alluring': 7068, 'pornography': 7069, 'dale': 7070, 'superiors': 7071, 'sims': 7072, 'commendable': 7073, 'ming': 7074, 'screws': 7075, 'uniform': 7076, 'nutshell': 7077, 'mushu': 7078, 'salieri': 7079, 'operas': 7080, 'measures': 7081, 'monologue': 7082, 'questioning': 7083, 'perpetually': 7084, 'caper': 7085, 'saxon': 7086, 'nancy': 7087, 'informative': 7088, 'access': 7089, 'murderous': 7090, 'snowball': 7091, 'bully': 7092, 'releasing': 7093, 'esteem': 7094, 'thrust': 7095, 'noisy': 7096, 'cameraman': 7097, 'whodunit': 7098, 'scheming': 7099, 'shoulders': 7100, 'bloodshed': 7101, 'untimely': 7102, 'jonas': 7103, 'charlotte': 7104, 'unclear': 7105, 'wrap': 7106, 'dismissed': 7107, 'stylistic': 7108, 'spelled': 7109, 'copolla': 7110, 'coppola': 7111, 'sonnenfeld': 7112, 'influential': 7113, 'dice': 7114, 'identical': 7115, 'tactics': 7116, 'pleasantly': 7117, 'expose': 7118, 'pursued': 7119, 'treating': 7120, 'chocolate': 7121, 'dramatics': 7122, 'shaped': 7123, 'shadowy': 7124, 'rural': 7125, 'depression': 7126, 'outtakes': 7127, 'symbolic': 7128, 'marijuana': 7129, 'tracking': 7130, 'lumet': 7131, 'mic': 7132, 'jamey': 7133, 'click': 7134, 'entrapment': 7135, 'faye': 7136, 'dunaway': 7137, 'scattered': 7138, 'intend': 7139, 'enigma': 7140, 'heterosexual': 7141, 'misplaced': 7142, 'lapd': 7143, 'starr': 7144, 'ramirez': 7145, 'ins': 7146, 'estranged': 7147, 'electricity': 7148, 'sour': 7149, 'jeans': 7150, 'lela': 7151, 'spouting': 7152, 'jadzia': 7153, 'pertwee': 7154, 'generates': 7155, 'crawl': 7156, 'retirement': 7157, 'funds': 7158, 'difficulties': 7159, 'prepares': 7160, 'believing': 7161, 'justify': 7162, 'terrance': 7163, 'tighter': 7164, 'vin': 7165, 'barn': 7166, 'mansley': 7167, 'akin': 7168, 'avenge': 7169, 'talky': 7170, 'interminable': 7171, 'boyle': 7172, 'windows': 7173, 'curse': 7174, 'artwork': 7175, 'hyped': 7176, 'brando': 7177, 'masses': 7178, 'client': 7179, 'shout': 7180, 'buffs': 7181, 'border': 7182, 'appreciation': 7183, 'finch': 7184, 'suburban': 7185, 'alyson': 7186, 'amuse': 7187, 'eighties': 7188, 'raunch': 7189, 'gosselaar': 7190, 'astonishingly': 7191, 'exploding': 7192, 'smartest': 7193, 'fend': 7194, 'condescending': 7195, 'terrence': 7196, 'tribute': 7197, 'apocalypse': 7198, 'grotesque': 7199, 'posters': 7200, 'industrial': 7201, 'disposal': 7202, 'unwatchable': 7203, 'address': 7204, 'superbly': 7205, 'hugely': 7206, 'dragged': 7207, 'unsure': 7208, 'rake': 7209, 'chaotic': 7210, 'culkin': 7211, 'cartoony': 7212, 'participants': 7213, 'regard': 7214, 'utters': 7215, 'shorty': 7216, 'fart': 7217, 'creators': 7218, 'canadians': 7219, 'commended': 7220, 'dangling': 7221, 'hefty': 7222, 'remained': 7223, 'skywalker': 7224, 'restless': 7225, 'autopilot': 7226, 'displaying': 7227, 'neighbourhood': 7228, 'repeats': 7229, 'eccleston': 7230, 'dominic': 7231, 'sena': 7232, 'gripe': 7233, 'plunkett': 7234, 'macleane': 7235, 'edits': 7236, 'gamble': 7237, 'brady': 7238, 'gems': 7239, 'analysis': 7240, 'announcement': 7241, 'mauvais': 7242, 'gout': 7243, 'mene': 7244, 'au': 7245, 'jahiel': 7246, 'prairienet': 7247, 'ejahiel': 7248, 'stellar': 7249, 'birds': 7250, 'bandstand': 7251, 'trainspotting': 7252, 'adopt': 7253, 'tourist': 7254, 'swim': 7255, 'idyllic': 7256, 'cigarettes': 7257, 'survivor': 7258, 'mercilessly': 7259, 'aidan': 7260, 'custody': 7261, 'ira': 7262, 'unfair': 7263, 'dunne': 7264, 'maximilian': 7265, 'goals': 7266, 'gotham': 7267, 'awaiting': 7268, 'perceptive': 7269, 'heartbreaking': 7270, 'cons': 7271, 'mulroney': 7272, 'arch': 7273, 'vocal': 7274, 'hyde': 7275, 'targeted': 7276, 'drowns': 7277, 'souls': 7278, 'dietz': 7279, 'britt': 7280, 'um': 7281, 'eclectic': 7282, 'morgue': 7283, 'cattle': 7284, 'arrest': 7285, 'slack': 7286, 'quarterback': 7287, 'chloe': 7288, 'hooks': 7289, 'mantra': 7290, 'amusingly': 7291, 'satisfactory': 7292, 'borrows': 7293, 'hamilton': 7294, 'politicians': 7295, 'politician': 7296, 'dominate': 7297, 'perpetrator': 7298, 'shifty': 7299, 'accidents': 7300, 'fable': 7301, 'burt': 7302, 'rugged': 7303, 'drown': 7304, 'corporation': 7305, 'roley': 7306, 'figgis': 7307, 'ufo': 7308, 'inspirational': 7309, 'arguments': 7310, 'rolls': 7311, 'lasting': 7312, 'schroeder': 7313, 'rotten': 7314, 'contradictory': 7315, 'referring': 7316, 'stripper': 7317, 'liberal': 7318, 'mixes': 7319, 'dunn': 7320, 'deny': 7321, 'jawed': 7322, 'feed': 7323, 'junior': 7324, 'coupled': 7325, 'fanatic': 7326, 'backwards': 7327, 'damaged': 7328, 'inflicted': 7329, 'amaze': 7330, 'digging': 7331, 'railroad': 7332, 'india': 7333, 'survived': 7334, 'marisa': 7335, 'refreshingly': 7336, 'morrow': 7337, 'scam': 7338, 'grades': 7339, 'dangerously': 7340, 'agreement': 7341, 'renowned': 7342, 'garage': 7343, 'splitting': 7344, 'excess': 7345, 'seduction': 7346, 'imaginable': 7347, 'directions': 7348, 'feast': 7349, 'exchanges': 7350, 'tyrone': 7351, 'orlando': 7352, 'aggressive': 7353, 'symbols': 7354, 'whimsical': 7355, 'delicious': 7356, 'devon': 7357, 'kerr': 7358, 'uneasy': 7359, 'progressively': 7360, 'jock': 7361, 'maniac': 7362, 'grandpa': 7363, 'dough': 7364, 'electrical': 7365, 'education': 7366, 'jacob': 7367, 'wires': 7368, 'fearless': 7369, 'upside': 7370, 'seventies': 7371, 'afterglow': 7372, 'sneaks': 7373, 'raul': 7374, 'gabriela': 7375, 'lift': 7376, 'claimed': 7377, 'argues': 7378, 'optimistic': 7379, 'prefers': 7380, 'sank': 7381, 'gate': 7382, 'insurrection': 7383, 'riker': 7384, 'utilize': 7385, 'embeth': 7386, 'hoblit': 7387, 'marketed': 7388, 'hobbes': 7389, 'marines': 7390, 'inconsistent': 7391, 'mold': 7392, 'sailors': 7393, 'mobster': 7394, 'orange': 7395, 'matches': 7396, 'revival': 7397, 'schemes': 7398, 'helgenberger': 7399, 'realization': 7400, 'awfulness': 7401, 'fruit': 7402, 'economy': 7403, 'explored': 7404, 'casino': 7405, 'afford': 7406, 'plantation': 7407, 'remarks': 7408, 'fuzzy': 7409, 'boredom': 7410, 'controlling': 7411, 'rendered': 7412, 'superhero': 7413, 'borchardt': 7414, 'mock': 7415, 'frantically': 7416, 'willard': 7417, 'shake': 7418, 'reader': 7419, 'honesty': 7420, 'jai': 7421, 'lovitz': 7422, 'cap': 7423, 'stranded': 7424, 'terri': 7425, 'occurred': 7426, 'mikey': 7427, 'fleshed': 7428, 'monolith': 7429, 'drove': 7430, 'punches': 7431, 'concentrating': 7432, 'brilliance': 7433, 'gorillas': 7434, 'gregg': 7435, 'traps': 7436, 'avery': 7437, 'keiko': 7438, 'hitmen': 7439, 'teaming': 7440, 'frankenstein': 7441, 'clayton': 7442, 'mckellan': 7443, 'roads': 7444, 'bluemarble': 7445, 'links': 7446, 'ozon': 7447, 'property': 7448, 'potter': 7449, 'mummy': 7450, 'vacuous': 7451, 'forlani': 7452, 'usher': 7453, 'expectation': 7454, 'relish': 7455, 'trickery': 7456, 'ditch': 7457, 'chills': 7458, 'jamaica': 7459, 'devastation': 7460, 'latifah': 7461, 'psychologically': 7462, 'hartnett': 7463, 'willem': 7464, 'dafoe': 7465, 'sheila': 7466, 'monotonous': 7467, 'fong': 7468, 'packs': 7469, 'dazzling': 7470, 'engine': 7471, 'ringo': 7472, 'advertised': 7473, 'cradle': 7474, 'trashy': 7475, 'stormare': 7476, 'meteor': 7477, 'hicks': 7478, 'georgia': 7479, 'rewarding': 7480, 'gospel': 7481, 'vanity': 7482, 'blucas': 7483, 'calmly': 7484, 'flynn': 7485, 'poking': 7486, 'leto': 7487, 'stakes': 7488, 'hudson': 7489, 'reno': 7490, 'deed': 7491, 'nuances': 7492, 'turboman': 7493, 'landis': 7494, 'thrilled': 7495, 'format': 7496, 'clinic': 7497, 'sensibilities': 7498, 'tor': 7499, 'dancers': 7500, 'gardner': 7501, 'phoenix': 7502, 'rodgers': 7503, 'engineered': 7504, 'unisol': 7505, 'bava': 7506, 'idealistic': 7507, 'records': 7508, 'joss': 7509, 'dropped': 7510, 'clinton': 7511, 'sawalha': 7512, 'tweedy': 7513, 'pixar': 7514, 'priceless': 7515, 'swimming': 7516, 'asylum': 7517, 'guts': 7518, 'ordeal': 7519, 'narrowly': 7520, 'flip': 7521, 'fades': 7522, 'bursts': 7523, 'tests': 7524, 'phyllis': 7525, 'insects': 7526, 'polley': 7527, 'belonging': 7528, 'eagerly': 7529, 'skarsgard': 7530, 'pascal': 7531, 'ostensibly': 7532, 'moody': 7533, 'pans': 7534, 'boundaries': 7535, 'levity': 7536, 'dogma': 7537, 'apostle': 7538, 'snuff': 7539, 'mommie': 7540, 'chronicles': 7541, 'coke': 7542, 'gruff': 7543, 'rylance': 7544, 'cake': 7545, 'sophie': 7546, 'althea': 7547, 'expedition': 7548, 'sarandon': 7549, 'swingers': 7550, 'eleanor': 7551, 'tripplehorn': 7552, 'hoke': 7553, 'ghostbusters': 7554, 'floats': 7555, 'largest': 7556, 'voyage': 7557, 'panama': 7558, 'gleeson': 7559, 'unknowingly': 7560, 'dubs': 7561, 'sarcasm': 7562, 'disguised': 7563, 'weir': 7564, 'pyle': 7565, 'ermey': 7566, 'matty': 7567, 'asides': 7568, 'bertolucci': 7569, 'sydney': 7570, 'cinque': 7571, 'officers': 7572, 'conveys': 7573, 'kang': 7574, 'management': 7575, 'sagemiller': 7576, 'tanner': 7577, 'warmth': 7578, 'matinee': 7579, 'nyah': 7580, 'assist': 7581, 'scarface': 7582, 'interact': 7583, 'diquan': 7584, 'sutton': 7585, 'carly': 7586, 'camelot': 7587, 'morton': 7588, 'cabel': 7589, 'josie': 7590, 'roach': 7591, 'pollack': 7592, 'mallory': 7593, 'gingerbread': 7594, 'dade': 7595, 'kieslowski': 7596, 'mallrats': 7597, 'brean': 7598, 'motss': 7599, 'violet': 7600, 'switchback': 7601, 'mongkut': 7602, 'lemmon': 7603, 'tapes': 7604, 'innumerable': 7605, 'buena': 7606, 'lavish': 7607, 'invites': 7608, 'controversy': 7609, 'unavoidable': 7610, 'alienated': 7611, 'brat': 7612, 'whiny': 7613, 'limo': 7614, 'resemblance': 7615, 'pompous': 7616, 'inexperienced': 7617, 'counterpart': 7618, 'consumer': 7619, 'bateman': 7620, 'lip': 7621, 'resist': 7622, 'defending': 7623, 'banal': 7624, 'overboard': 7625, 'swears': 7626, 'translates': 7627, 'unlikeable': 7628, 'dickens': 7629, 'exploration': 7630, 'maverick': 7631, 'confronted': 7632, 'swiss': 7633, 'eliminated': 7634, 'spader': 7635, 'yea': 7636, 'wanna': 7637, 'outer': 7638, 'reese': 7639, 'tolerate': 7640, 'achievements': 7641, 'punk': 7642, 'lib': 7643, 'somber': 7644, 'muresan': 7645, 'rescued': 7646, 'corruptor': 7647, 'lorne': 7648, 'michaels': 7649, 'renamed': 7650, 'courtesan': 7651, 'margaret': 7652, 'rufus': 7653, 'sewell': 7654, 'fundamental': 7655, 'abundance': 7656, 'daughters': 7657, 'secure': 7658, 'obtain': 7659, 'utilizing': 7660, 'consumed': 7661, 'unwilling': 7662, 'smoothly': 7663, 'plague': 7664, 'overlooked': 7665, 'hypocrisy': 7666, 'threatened': 7667, 'reportedly': 7668, 'hippie': 7669, 'russians': 7670, 'tub': 7671, 'separately': 7672, 'winded': 7673, 'astute': 7674, 'carpet': 7675, 'risks': 7676, 'beachum': 7677, 'physician': 7678, 'arise': 7679, 'telegraphed': 7680, 'tested': 7681, 'unscathed': 7682, 'bannen': 7683, 'sleepy': 7684, 'officially': 7685, 'bebe': 7686, 'barriers': 7687, 'imaginary': 7688, 'devious': 7689, 'fraud': 7690, 'illicit': 7691, 'identification': 7692, 'nutty': 7693, 'unfolding': 7694, 'fumbling': 7695, 'pizza': 7696, 'dash': 7697, 'singapore': 7698, 'messiah': 7699, 'vet': 7700, 'wondrous': 7701, 'roller': 7702, 'conveying': 7703, 'blocks': 7704, 'beau': 7705, 'hustling': 7706, 'brutality': 7707, 'percent': 7708, 'disastrous': 7709, 'reservations': 7710, 'switching': 7711, 'hen': 7712, 'wishing': 7713, 'couch': 7714, 'incorrect': 7715, 'apocalyptic': 7716, 'morbid': 7717, 'curtain': 7718, 'infected': 7719, 'marked': 7720, 'milked': 7721, 'smash': 7722, 'veritable': 7723, 'sentiments': 7724, 'callum': 7725, 'rennie': 7726, 'transcend': 7727, 'perversion': 7728, 'urge': 7729, 'kris': 7730, 'affect': 7731, 'explores': 7732, 'committing': 7733, 'escalate': 7734, 'minority': 7735, 'relegated': 7736, 'immigrant': 7737, 'gesture': 7738, 'tycoon': 7739, 'unusually': 7740, 'phones': 7741, 'kidnappers': 7742, 'devilish': 7743, 'entered': 7744, 'muddled': 7745, 'insomnia': 7746, 'skg': 7747, 'blaring': 7748, 'intellectually': 7749, 'oklahoma': 7750, 'clumsily': 7751, 'active': 7752, 'unorthodox': 7753, 'screenings': 7754, 'rewards': 7755, 'francois': 7756, 'mississippi': 7757, 'retire': 7758, 'crotch': 7759, 'climb': 7760, 'pout': 7761, 'finishes': 7762, 'establishing': 7763, 'kleiser': 7764, 'locate': 7765, 'rube': 7766, 'droll': 7767, 'aficionados': 7768, 'knotts': 7769, 'luther': 7770, 'dreamed': 7771, 'bleeding': 7772, 'rouge': 7773, 'marius': 7774, 'juliet': 7775, 'smells': 7776, 'sumptuous': 7777, 'rd': 7778, 'jam': 7779, 'rant': 7780, 'flowers': 7781, 'adjective': 7782, 'severed': 7783, 'sofia': 7784, 'lo': 7785, 'tbs': 7786, 'pm': 7787, 'est': 7788, 'utilizes': 7789, 'savior': 7790, 'hardy': 7791, 'pounds': 7792, 'hallie': 7793, 'succession': 7794, 'gena': 7795, 'jewelry': 7796, 'neglect': 7797, 'infant': 7798, 'sassy': 7799, 'customer': 7800, 'flop': 7801, 'shotgun': 7802, 'lunatic': 7803, 'madman': 7804, 'garner': 7805, 'applause': 7806, 'pouring': 7807, 'prone': 7808, 'unforgivable': 7809, 'loren': 7810, 'aura': 7811, 'visited': 7812, 'deputy': 7813, 'cronies': 7814, 'wisecracking': 7815, 'advancing': 7816, 'hoskins': 7817, 'loaf': 7818, 'responsibility': 7819, 'muttering': 7820, 'moresco': 7821, 'pact': 7822, 'evoke': 7823, 'dissolves': 7824, 'undeniable': 7825, 'gilligan': 7826, 'ingenious': 7827, 'sums': 7828, 'authenticity': 7829, 'hotshot': 7830, 'housewife': 7831, 'tulips': 7832, 'gains': 7833, 'ganz': 7834, 'katherine': 7835, 'coffin': 7836, 'plodding': 7837, 'marches': 7838, 'woefully': 7839, 'expressed': 7840, 'sexist': 7841, 'collect': 7842, 'travis': 7843, 'valuable': 7844, 'excused': 7845, 'theft': 7846, 'criminals': 7847, 'queensberry': 7848, 'rear': 7849, 'lenny': 7850, 'scenarios': 7851, 'spying': 7852, 'soviet': 7853, 'codes': 7854, 'lighter': 7855, 'groan': 7856, 'assisted': 7857, 'moss': 7858, 'babysitting': 7859, 'universally': 7860, 'stoop': 7861, 'schulman': 7862, 'loads': 7863, 'snappy': 7864, 'lava': 7865, 'motor': 7866, 'sabotage': 7867, 'suggestion': 7868, 'zingers': 7869, 'furious': 7870, 'skinny': 7871, 'pistol': 7872, 'celebrating': 7873, 'pantoliano': 7874, 'cheers': 7875, 'wrestler': 7876, 'opponent': 7877, 'gordie': 7878, 'hardcore': 7879, 'witnessing': 7880, 'vulgarity': 7881, 'duck': 7882, 'acknowledge': 7883, 'cheerleader': 7884, 'objectivity': 7885, 'checked': 7886, 'amateurish': 7887, 'guarantee': 7888, 'bearable': 7889, 'scientology': 7890, 'denver': 7891, 'refer': 7892, 'mining': 7893, 'unaware': 7894, 'headache': 7895, 'quaint': 7896, 'affable': 7897, 'reporters': 7898, 'sabrina': 7899, 'peterson': 7900, 'daphne': 7901, 'palatable': 7902, 'alleged': 7903, 'drawback': 7904, 'blond': 7905, 'wig': 7906, 'tables': 7907, 'natacha': 7908, 'impoverished': 7909, 'jo': 7910, 'realistically': 7911, 'graceful': 7912, 'vault': 7913, 'listened': 7914, 'promised': 7915, 'ized': 7916, 'phase': 7917, 'scales': 7918, 'carroll': 7919, 'asses': 7920, 'hurry': 7921, 'mekhi': 7922, 'esposito': 7923, 'terrorized': 7924, 'observes': 7925, 'abstract': 7926, 'lofty': 7927, 'crowds': 7928, 'cheering': 7929, 'theatrics': 7930, 'inch': 7931, 'stake': 7932, 'reacts': 7933, 'maintaining': 7934, 'servants': 7935, 'vote': 7936, 'uncertain': 7937, 'technicolor': 7938, 'swift': 7939, 'questioned': 7940, 'articulate': 7941, 'investment': 7942, 'defying': 7943, 'ustinov': 7944, 'borrowed': 7945, 'millennium': 7946, 'inconsequential': 7947, 'drenched': 7948, 'michell': 7949, 'lump': 7950, 'refrigerator': 7951, 'kisses': 7952, 'detached': 7953, 'supplied': 7954, 'caption': 7955, 'orbit': 7956, 'holland': 7957, 'platform': 7958, 'littered': 7959, 'disasters': 7960, 'vader': 7961, 'treasure': 7962, 'teamed': 7963, 'progressed': 7964, 'ike': 7965, 'firestorm': 7966, 'intoxicated': 7967, 'altar': 7968, 'managing': 7969, 'poets': 7970, 'manipulate': 7971, 'traits': 7972, 'retelling': 7973, 'autobiography': 7974, 'deleted': 7975, 'rivals': 7976, 'uttering': 7977, 'betting': 7978, 'unoriginal': 7979, 'alternately': 7980, 'intrigued': 7981, 'worldwide': 7982, 'stephens': 7983, 'lena': 7984, 'sweaty': 7985, 'rejects': 7986, 'affections': 7987, 'snob': 7988, 'helm': 7989, 'antique': 7990, 'brewster': 7991, 'bullying': 7992, 'buffalo': 7993, 'fran': 7994, 'strings': 7995, 'timely': 7996, 'delia': 7997, 'recognizable': 7998, 'triple': 7999, 'untalented': 8000, 'sundance': 8001, 'satisfied': 8002, 'collecting': 8003, 'tuned': 8004, 'bicentennial': 8005, 'sought': 8006, 'suburbia': 8007, 'freely': 8008, 'foil': 8009, 'preferred': 8010, 'orgasm': 8011, 'disliked': 8012, 'possession': 8013, 'fools': 8014, 'amadeus': 8015, 'institute': 8016, 'mozart': 8017, 'hulce': 8018, 'piano': 8019, 'complaint': 8020, 'viggo': 8021, 'skillful': 8022, 'suchet': 8023, 'unfriendly': 8024, 'fanfare': 8025, 'bravura': 8026, 'lone': 8027, 'icon': 8028, 'nicolet': 8029, 'feds': 8030, 'jules': 8031, 'heavier': 8032, 'diversion': 8033, 'contender': 8034, 'exposure': 8035, 'confirmed': 8036, 'grave': 8037, 'dolby': 8038, 'relating': 8039, 'interactive': 8040, 'moviemaking': 8041, 'ethical': 8042, 'reversal': 8043, 'fodder': 8044, 'headquarters': 8045, 'quasi': 8046, 'miraculously': 8047, 'vacant': 8048, 'celebrate': 8049, 'courteney': 8050, 'sleeper': 8051, 'advertisements': 8052, 'contribution': 8053, 'rank': 8054, 'riley': 8055, 'buffy': 8056, 'adequately': 8057, 'parks': 8058, 'harbor': 8059, 'graduated': 8060, 'unfaithful': 8061, 'hammered': 8062, 'height': 8063, 'reunited': 8064, 'beard': 8065, 'unacceptable': 8066, 'glitter': 8067, 'barbie': 8068, 'listens': 8069, 'scratching': 8070, 'fist': 8071, 'exclaims': 8072, 'elude': 8073, 'smiling': 8074, 'howling': 8075, 'diving': 8076, 'hairdresser': 8077, 'robs': 8078, 'psyche': 8079, 'kooky': 8080, 'embodies': 8081, 'horrocks': 8082, 'laughton': 8083, 'winters': 8084, 'contend': 8085, 'harassed': 8086, 'symbolism': 8087, 'patrons': 8088, 'props': 8089, 'consideration': 8090, 'uniformly': 8091, 'dancer': 8092, 'thou': 8093, 'bo': 8094, 'penchant': 8095, 'aroused': 8096, 'representative': 8097, 'banning': 8098, 'sunglasses': 8099, 'breezy': 8100, 'whacked': 8101, 'hanson': 8102, 'katie': 8103, 'upstairs': 8104, 'corpse': 8105, 'identities': 8106, 'aimless': 8107, 'tilly': 8108, 'jersey': 8109, 'relaxed': 8110, 'sustained': 8111, 'strangers': 8112, 'sessions': 8113, 'disorder': 8114, 'disappeared': 8115, 'thickens': 8116, 'broadly': 8117, 'numbing': 8118, 'outline': 8119, 'fled': 8120, 'premises': 8121, 'elliot': 8122, 'disgusted': 8123, 'collapse': 8124, 'goers': 8125, 'additionally': 8126, 'wasteland': 8127, 'unstoppable': 8128, 'males': 8129, 'planets': 8130, 'hala': 8131, 'reckless': 8132, 'pregnancy': 8133, 'statue': 8134, 'shootings': 8135, 'engineer': 8136, 'doc': 8137, 'slows': 8138, 'seated': 8139, 'invest': 8140, 'pitched': 8141, 'needing': 8142, 'strengths': 8143, 'simpsons': 8144, 'wager': 8145, 'shelved': 8146, 'sluggish': 8147, 'soulful': 8148, 'crazed': 8149, 'daffy': 8150, 'contributes': 8151, 'gaping': 8152, 'touted': 8153, 'russia': 8154, 'sway': 8155, 'forming': 8156, 'anya': 8157, 'abc': 8158, 'announce': 8159, 'division': 8160, 'riff': 8161, 'troupe': 8162, 'agreed': 8163, 'innovative': 8164, 'defy': 8165, 'baranski': 8166, 'herz': 8167, 'lacrosse': 8168, 'hannigan': 8169, 'skillfully': 8170, 'cohn': 8171, 'mugging': 8172, 'demented': 8173, 'buckley': 8174, 'rocker': 8175, 'madden': 8176, 'firth': 8177, 'donna': 8178, 'optimism': 8179, 'matched': 8180, 'detestable': 8181, 'hateful': 8182, 'conveyed': 8183, 'heights': 8184, 'benevolent': 8185, 'eastern': 8186, 'applied': 8187, 'signed': 8188, 'trucks': 8189, 'mud': 8190, 'jurai': 8191, 'embrace': 8192, 'glee': 8193, 'kabukiman': 8194, 'transferred': 8195, 'sling': 8196, 'syegul': 8197, 'netcom': 8198, 'ironside': 8199, 'blunt': 8200, 'instrument': 8201, 'buys': 8202, 'glue': 8203, 'lads': 8204, 'predominantly': 8205, 'gail': 8206, 'whore': 8207, 'holidays': 8208, 'knee': 8209, 'knocking': 8210, 'santa': 8211, 'threats': 8212, 'birch': 8213, 'user': 8214, 'imaginations': 8215, 'prowess': 8216, 'diamonds': 8217, 'detroit': 8218, 'protection': 8219, 'southpark': 8220, 'scratch': 8221, 'mysteriously': 8222, 'nose': 8223, 'merchandise': 8224, 'kenobi': 8225, 'han': 8226, 'westerns': 8227, 'demonic': 8228, 'buildup': 8229, 'phenomena': 8230, 'honour': 8231, 'successes': 8232, 'hams': 8233, 'charlton': 8234, 'bless': 8235, 'worried': 8236, 'towering': 8237, 'hottest': 8238, 'gentleman': 8239, 'undoubtedly': 8240, 'polite': 8241, 'solving': 8242, 'cheryl': 8243, 'victory': 8244, 'gratification': 8245, 'protracted': 8246, 'eliminate': 8247, 'patriotism': 8248, 'mega': 8249, 'hunk': 8250, 'mumbo': 8251, 'jumbo': 8252, 'persons': 8253, 'attracts': 8254, 'oddities': 8255, 'flea': 8256, 'guides': 8257, 'plants': 8258, 'mucho': 8259, 'publisher': 8260, 'moniker': 8261, 'annibal': 8262, 'phillippe': 8263, 'lyrical': 8264, 'noteworthy': 8265, 'anita': 8266, 'dismiss': 8267, 'nic': 8268, 'steadicam': 8269, 'valek': 8270, 'varied': 8271, 'translated': 8272, 'depend': 8273, 'informed': 8274, 'goldsman': 8275, 'prominently': 8276, 'chew': 8277, 'overshadowed': 8278, 'terrestrial': 8279, 'duties': 8280, 'landed': 8281, 'jewel': 8282, 'cholodenko': 8283, 'leak': 8284, 'scarlett': 8285, 'denominator': 8286, 'cocky': 8287, 'emerged': 8288, 'robber': 8289, 'robbing': 8290, 'joely': 8291, 'dabney': 8292, 'pedestrian': 8293, 'brenda': 8294, 'foods': 8295, 'shave': 8296, 'zoo': 8297, 'pumping': 8298, 'citizen': 8299, 'switches': 8300, 'sleepwalks': 8301, 'confines': 8302, 'ritual': 8303, 'absurdity': 8304, 'gaining': 8305, 'infectious': 8306, 'ballad': 8307, 'rendition': 8308, 'vignette': 8309, 'encourages': 8310, 'slipped': 8311, 'brush': 8312, 'freed': 8313, 'unstable': 8314, 'concentrates': 8315, 'pauses': 8316, 'spectacularly': 8317, 'paralyzed': 8318, 'grief': 8319, 'townsfolk': 8320, 'destructive': 8321, 'boiling': 8322, 'calendar': 8323, 'urges': 8324, 'cal': 8325, 'jinnie': 8326, 'ceo': 8327, 'villa': 8328, 'recorded': 8329, 'plotless': 8330, 'slip': 8331, 'mythology': 8332, 'extraterrestrial': 8333, 'anniversary': 8334, 'planes': 8335, 'mastery': 8336, 'gradual': 8337, 'insanity': 8338, 'ronnie': 8339, 'mogul': 8340, 'trooper': 8341, 'adopts': 8342, 'woke': 8343, 'dershowitz': 8344, 'blanks': 8345, 'morally': 8346, 'distinction': 8347, 'stuntman': 8348, 'celluloid': 8349, 'candles': 8350, 'houdini': 8351, 'truths': 8352, 'compton': 8353, 'wry': 8354, 'accuracy': 8355, 'toe': 8356, 'screwing': 8357, 'beams': 8358, 'abrasive': 8359, 'cloth': 8360, 'exterior': 8361, 'greeted': 8362, 'waterboy': 8363, 'implies': 8364, 'booker': 8365, 'momentarily': 8366, 'emerges': 8367, 'distorted': 8368, 'tomei': 8369, 'boyce': 8370, 'sarajevo': 8371, 'approximately': 8372, 'bodyguard': 8373, 'framing': 8374, 'ensures': 8375, 'powered': 8376, 'multitude': 8377, 'sucking': 8378, 'benny': 8379, 'guitar': 8380, 'album': 8381, 'snicker': 8382, 'lawn': 8383, 'homicidal': 8384, 'filth': 8385, 'corelli': 8386, 'eclipse': 8387, 'miracles': 8388, 'brits': 8389, 'w': 8390, 'unlikable': 8391, 'skinhead': 8392, 'matherly': 8393, 'bmath': 8394, 'crab': 8395, 'mobile': 8396, 'submarine': 8397, 'biehn': 8398, 'memorably': 8399, 'cloke': 8400, 'donella': 8401, 'replaces': 8402, 'shrink': 8403, 'survival': 8404, 'subtly': 8405, 'convenience': 8406, 'kindly': 8407, 'exercises': 8408, 'longest': 8409, 'reels': 8410, 'randall': 8411, 'braddock': 8412, 'roaring': 8413, 'gasoline': 8414, 'monica': 8415, 'trained': 8416, 'heroic': 8417, 'ronald': 8418, 'blacks': 8419, 'miguel': 8420, 'naval': 8421, 'examines': 8422, 'interpretations': 8423, 'handcuffed': 8424, 'brent': 8425, 'trusty': 8426, 'existed': 8427, 'pose': 8428, 'loggia': 8429, 'shaved': 8430, 'demon': 8431, 'weirdness': 8432, 'azazel': 8433, 'murdering': 8434, 'milano': 8435, 'embraced': 8436, 'unarmed': 8437, 'complaining': 8438, 'evacuate': 8439, 'represent': 8440, 'leaders': 8441, 'arena': 8442, 'fucking': 8443, 'mostow': 8444, 'spiders': 8445, 'wynter': 8446, 'clones': 8447, 'repartee': 8448, 'lipnicki': 8449, 'psychology': 8450, 'tepid': 8451, 'vivian': 8452, 'slam': 8453, 'weakest': 8454, 'flood': 8455, 'conference': 8456, 'favreau': 8457, 'contraption': 8458, 'recipe': 8459, 'pollak': 8460, 'inadvertently': 8461, 'medak': 8462, 'vapid': 8463, 'hiring': 8464, 'badness': 8465, 'heartless': 8466, 'demme': 8467, 'winfrey': 8468, 'clouds': 8469, 'incorporates': 8470, 'continuity': 8471, 'wisconsin': 8472, 'documentaries': 8473, 'suspected': 8474, 'progress': 8475, 'losers': 8476, 'veterans': 8477, 'adrien': 8478, 'collins': 8479, 'temporarily': 8480, 'advised': 8481, 'pink': 8482, 'grounded': 8483, 'superhuman': 8484, 'recognizes': 8485, 'astronomer': 8486, 'marital': 8487, 'atkinson': 8488, 'zucker': 8489, 'blaine': 8490, 'madcap': 8491, 'packer': 8492, 'accompanying': 8493, 'cannibal': 8494, 'logo': 8495, 'interior': 8496, 'refusing': 8497, 'confined': 8498, 'obstacles': 8499, 'professionals': 8500, 'denying': 8501, 'hailed': 8502, 'smithee': 8503, 'literature': 8504, 'embarassing': 8505, 'mos': 8506, 'dunwitty': 8507, 'sloane': 8508, 'manray': 8509, 'womack': 8510, 'julius': 8511, 'traitor': 8512, 'dysfunctional': 8513, 'separation': 8514, 'wider': 8515, 'evita': 8516, 'dictator': 8517, 'falter': 8518, 'facade': 8519, 'paymer': 8520, 'loveable': 8521, 'dangers': 8522, 'applegate': 8523, 'bokeem': 8524, 'woodbine': 8525, 'invincible': 8526, 'overweight': 8527, 'gods': 8528, 'boone': 8529, 'intensely': 8530, 'puppet': 8531, 'desolate': 8532, 'antz': 8533, 'lapage': 8534, 'mariano': 8535, 'fuel': 8536, 'engineering': 8537, 'guide': 8538, 'statistics': 8539, 'dragging': 8540, 'labeled': 8541, 'astounding': 8542, 'ash': 8543, 'infantry': 8544, 'recognized': 8545, 'classified': 8546, 'remainder': 8547, 'ditto': 8548, 'mesmerizing': 8549, 'smarter': 8550, 'warhol': 8551, 'ventura': 8552, 'beats': 8553, 'piper': 8554, 'pretending': 8555, 'reagan': 8556, 'escapism': 8557, 'dalton': 8558, 'cynicism': 8559, 'henchmen': 8560, 'colours': 8561, 'guffman': 8562, 'ling': 8563, 'patiently': 8564, 'emmanuelle': 8565, 'testosterone': 8566, 'towne': 8567, 'suicides': 8568, 'ado': 8569, 'guardian': 8570, 'nest': 8571, 'fling': 8572, 'marcy': 8573, 'muscle': 8574, 'letterman': 8575, 'swinging': 8576, 'propel': 8577, 'puppets': 8578, 'mutant': 8579, 'audrey': 8580, 'dragnet': 8581, 'hostile': 8582, 'juxtaposed': 8583, 'hayes': 8584, 'loathsome': 8585, 'easter': 8586, 'randomly': 8587, 'shadyac': 8588, 'scientific': 8589, 'skipping': 8590, 'minus': 8591, 'postal': 8592, 'bard': 8593, 'tragedies': 8594, 'columbine': 8595, 'berkeley': 8596, 'barbieri': 8597, 'drumlin': 8598, 'boards': 8599, 'miranda': 8600, 'mousy': 8601, 'swing': 8602, 'baffled': 8603, 'dana': 8604, 'chappelle': 8605, 'worrying': 8606, 'customs': 8607, 'flooded': 8608, 'creep': 8609, 'marsden': 8610, 'dazed': 8611, 'spelling': 8612, 'prescott': 8613, 'robertson': 8614, 'lassez': 8615, 'ongoing': 8616, 'governments': 8617, 'wreak': 8618, 'naboo': 8619, 'portman': 8620, 'qui': 8621, 'pervasive': 8622, 'muster': 8623, 'terminally': 8624, 'thereof': 8625, 'pauline': 8626, 'knocked': 8627, 'bands': 8628, 'indifference': 8629, 'counterpoint': 8630, 'seymour': 8631, 'fetch': 8632, 'dearest': 8633, 'musketeer': 8634, 'artagnan': 8635, 'foolish': 8636, 'delves': 8637, 'dormant': 8638, 'heavenly': 8639, 'lam': 8640, 'corrente': 8641, 'anarchic': 8642, 'bach': 8643, 'intimacy': 8644, 'aiming': 8645, 'comparable': 8646, 'seigner': 8647, 'fated': 8648, 'frontal': 8649, 'bloodlust': 8650, 'lands': 8651, 'trent': 8652, 'chock': 8653, 'sizemore': 8654, 'cale': 8655, 'flores': 8656, 'testimony': 8657, 'sweetness': 8658, 'coburn': 8659, 'wheat': 8660, 'deeds': 8661, 'jessie': 8662, 'meetings': 8663, 'dub': 8664, 'amid': 8665, 'exuberant': 8666, 'stalking': 8667, 'burbank': 8668, 'landers': 8669, 'leon': 8670, 'guzman': 8671, 'bernardo': 8672, 'shandurai': 8673, 'kinsky': 8674, 'dizzy': 8675, 'adulthood': 8676, 'escaped': 8677, 'der': 8678, 'humble': 8679, 'buren': 8680, 'josiane': 8681, 'balasko': 8682, 'tong': 8683, 'cassie': 8684, 'advantages': 8685, 'beiderman': 8686, 'bliss': 8687, 'logan': 8688, 'bass': 8689, 'bernice': 8690, 'panache': 8691, 'northern': 8692, 'rains': 8693, 'slaughter': 8694, 'lent': 8695, 'regards': 8696, 'diaries': 8697, 'tenant': 8698, 'allie': 8699, 'disguises': 8700, 'calitri': 8701, 'weaving': 8702, 'stoltz': 8703, 'mcteer': 8704, 'bonifant': 8705, 'commodus': 8706, 'mehrjui': 8707, 'hatami': 8708, 'obsessive': 8709, 'josef': 8710, 'arritu': 8711, 'huddleston': 8712, 'tretiak': 8713, 'elle': 8714, 'sources': 8715, 'tobacco': 8716, 'yugo': 8717, 'treehorn': 8718, 'canyon': 8719, 'bean': 8720, 'stavros': 8721, 'reilly': 8722, 'survey': 8723, 'brodie': 8724, 'pignon': 8725, 'brockovich': 8726, 'goro': 8727, 'ohh': 8728, 'ee': 8729, 'almodovar': 8730, 'kimmy': 8731, 'singh': 8732, 'camcorder': 8733, 'hmmm': 8734, 'respond': 8735, 'surrounds': 8736, 'sigh': 8737, 'easton': 8738, 'chord': 8739, 'icy': 8740, 'someday': 8741, 'glib': 8742, 'volatile': 8743, 'understandably': 8744, 'unimaginative': 8745, 'hyper': 8746, 'translate': 8747, 'assortment': 8748, 'eyebrow': 8749, 'hammy': 8750, 'obscenities': 8751, 'underway': 8752, 'stargate': 8753, 'taxes': 8754, 'sociopath': 8755, 'redeemed': 8756, 'aggression': 8757, 'masquerading': 8758, 'konner': 8759, 'pearson': 8760, 'weighs': 8761, 'bluntly': 8762, 'decipher': 8763, 'hello': 8764, 'quintessential': 8765, 'ya': 8766, 'loretta': 8767, 'materials': 8768, 'prestigious': 8769, 'tiring': 8770, 'soulless': 8771, 'fencing': 8772, 'spreading': 8773, 'omen': 8774, 'propensity': 8775, 'agreeing': 8776, 'maudlin': 8777, 'spades': 8778, 'wrestle': 8779, 'berg': 8780, 'roundtree': 8781, 'garrett': 8782, 'qualifies': 8783, 'sophomoric': 8784, 'infiltrate': 8785, 'hacker': 8786, 'circa': 8787, 'opts': 8788, 'viewpoint': 8789, 'aristocracy': 8790, 'ensure': 8791, 'outsiders': 8792, 'afforded': 8793, 'factual': 8794, 'flows': 8795, 'dreaded': 8796, 'inquisition': 8797, 'chiefly': 8798, 'sensual': 8799, 'stirring': 8800, 'discernible': 8801, 'flourish': 8802, 'exploitative': 8803, 'abel': 8804, 'brazil': 8805, 'shrug': 8806, 'slob': 8807, 'lusty': 8808, 'teammates': 8809, 'interrupt': 8810, 'biography': 8811, 'unforgiven': 8812, 'drunkard': 8813, 'aftermath': 8814, 'register': 8815, 'engrossed': 8816, 'mcgillis': 8817, 'documented': 8818, 'penny': 8819, 'upstate': 8820, 'blindness': 8821, 'strain': 8822, 'noticably': 8823, 'pity': 8824, 'ditzy': 8825, 'hooker': 8826, 'truthful': 8827, 'flare': 8828, 'misstep': 8829, 'procedure': 8830, 'lottery': 8831, 'elimination': 8832, 'rail': 8833, 'ruins': 8834, 'dianne': 8835, 'wiest': 8836, 'aims': 8837, 'gender': 8838, 'fictitious': 8839, 'caucasian': 8840, 'fabricated': 8841, 'exploited': 8842, 'grumpy': 8843, 'gotcha': 8844, 'najwa': 8845, 'nimri': 8846, 'fele': 8847, 'medem': 8848, 'julio': 8849, 'arctic': 8850, 'drift': 8851, 'spans': 8852, 'judas': 8853, 'infuriating': 8854, 'geeky': 8855, 'spectacles': 8856, 'recieve': 8857, 'quarters': 8858, 'toes': 8859, 'preserved': 8860, 'manufactured': 8861, 'meals': 8862, 'injecting': 8863, 'snatches': 8864, 'dominique': 8865, 'y': 8866, 'damning': 8867, 'conjure': 8868, 'seance': 8869, 'superficially': 8870, 'passage': 8871, 'nightmarish': 8872, 'aide': 8873, 'bloated': 8874, 'cornucopia': 8875, 'starving': 8876, 'sledgehammer': 8877, 'remarked': 8878, 'leaden': 8879, 'catastrophic': 8880, 'informing': 8881, 'dismay': 8882, 'alternates': 8883, 'partying': 8884, 'label': 8885, 'facility': 8886, 'ahmed': 8887, 'unwittingly': 8888, 'spook': 8889, 'yorkers': 8890, 'liberties': 8891, 'declaration': 8892, 'pursuing': 8893, 'notoriety': 8894, 'prolific': 8895, 'punctuate': 8896, 'intrusive': 8897, 'psychopath': 8898, 'tin': 8899, 'cathrine': 8900, 'guinea': 8901, 'bisexual': 8902, 'intends': 8903, 'adrenaline': 8904, 'homicide': 8905, 'outlook': 8906, 'merry': 8907, 'telephone': 8908, 'culminates': 8909, 'incorporating': 8910, 'wholesome': 8911, 'pessimistic': 8912, 'allison': 8913, 'pedro': 8914, 'slated': 8915, 'reflects': 8916, 'treasures': 8917, 'freshman': 8918, 'frumpy': 8919, 'confesses': 8920, 'deception': 8921, 'lovemaking': 8922, 'accordingly': 8923, 'impassioned': 8924, 'whiplash': 8925, 'stable': 8926, 'pining': 8927, 'reigns': 8928, 'pathetically': 8929, 'moranis': 8930, 'richer': 8931, 'colossal': 8932, 'increases': 8933, 'ooh': 8934, 'radiation': 8935, 'bump': 8936, 'mcalpine': 8937, 'adjectives': 8938, 'skarsg': 8939, 'math': 8940, 'fakes': 8941, 'skylar': 8942, 'quoting': 8943, 'relations': 8944, 'typecast': 8945, 'amenabar': 8946, 'morpheus': 8947, 'thrive': 8948, 'glamorous': 8949, 'relax': 8950, 'btw': 8951, 'mon': 8952, 'bites': 8953, 'hackett': 8954, 'judith': 8955, 'choppy': 8956, 'dugan': 8957, 'compassionate': 8958, 'gears': 8959, 'righteous': 8960, 'pullman': 8961, 'unabashedly': 8962, 'unnecessarily': 8963, 'staggering': 8964, 'supports': 8965, 'spiers': 8966, 'bursting': 8967, 'lifelong': 8968, 'rooftop': 8969, 'counterfeit': 8970, 'myth': 8971, 'likelihood': 8972, 'squeaky': 8973, 'dilapidated': 8974, 'the': 8975, 'skit': 8976, 'uncredited': 8977, 'forgivable': 8978, 'dependent': 8979, 'familiarity': 8980, 'traced': 8981, 'corners': 8982, 'highlander': 8983, 'dudes': 8984, 'inexplicable': 8985, 'italy': 8986, 'lambert': 8987, 'adrian': 8988, 'masseuse': 8989, 'maglietta': 8990, 'tomatoes': 8991, 'prospective': 8992, 'closure': 8993, 'knocks': 8994, 'lukewarm': 8995, 'stormy': 8996, 'evocative': 8997, 'fabio': 8998, 'massachusetts': 8999, 'drained': 9000, 'frivolous': 9001, 'gruesome': 9002, 'tennessee': 9003, 'lars': 9004, 'lindahl': 9005, 'larsattacks': 9006, 'parsons': 9007, 'beresford': 9008, 'burglary': 9009, 'samuelson': 9010, 'constance': 9011, 'zoe': 9012, 'emile': 9013, 'versa': 9014, 'merchant': 9015, 'playwright': 9016, 'officials': 9017, 'volume': 9018, 'applauded': 9019, 'bosie': 9020, 'inflicting': 9021, 'ferland': 9022, 'understatement': 9023, 'fantasizes': 9024, 'salinger': 9025, 'renting': 9026, 'lithgow': 9027, 'h': 9028, 'functions': 9029, 'basics': 9030, 'fanciful': 9031, 'bargain': 9032, 'cheeky': 9033, 'maiden': 9034, 'peppy': 9035, 'employer': 9036, 'defining': 9037, 'rejected': 9038, 'definitive': 9039, 'surfer': 9040, 'deedle': 9041, 'deedles': 9042, 'scheduled': 9043, 'twisting': 9044, 'spaghetti': 9045, 'jeep': 9046, 'elephant': 9047, 'dallas': 9048, 'bodily': 9049, 'gel': 9050, 'fanatics': 9051, 'bewildered': 9052, 'madly': 9053, 'capturing': 9054, 'skirmish': 9055, 'indulged': 9056, 'wrestlers': 9057, 'sting': 9058, 'finishing': 9059, 'dinosaur': 9060, 'opportunistic': 9061, 'jets': 9062, 'hose': 9063, 'dreck': 9064, 'compelled': 9065, 'bookstores': 9066, 'prices': 9067, 'trivial': 9068, 'speakers': 9069, 'tracy': 9070, 'arouse': 9071, 'springer': 9072, 'washing': 9073, 'duquette': 9074, 'perez': 9075, 'examining': 9076, 'menage': 9077, 'gleefully': 9078, 'charmed': 9079, 'bikini': 9080, 'malicious': 9081, 'flaunt': 9082, 'dynamics': 9083, 'bouchez': 9084, 'isa': 9085, 'tearing': 9086, 'diary': 9087, 'crust': 9088, 'hotels': 9089, 'benson': 9090, 'skips': 9091, 'forbids': 9092, 'condemnation': 9093, 'combs': 9094, 'q': 9095, 'faking': 9096, 'hacks': 9097, 'copying': 9098, 'auteur': 9099, 'parlor': 9100, 'halls': 9101, 'decisive': 9102, 'blooded': 9103, 'achieves': 9104, 'pole': 9105, 'stunned': 9106, 'futile': 9107, 'bluescreen': 9108, 'debacle': 9109, 'foundation': 9110, 'insubstantial': 9111, 'kwai': 9112, 'reversed': 9113, 'goldsmith': 9114, 'limit': 9115, 'limbo': 9116, 'acquired': 9117, 'crop': 9118, 'guffaws': 9119, 'recap': 9120, 'purchase': 9121, 'goddess': 9122, 'assures': 9123, 'mckee': 9124, 'cues': 9125, 'endangered': 9126, 'riggs': 9127, 'humourous': 9128, 'silences': 9129, 'contributors': 9130, 'connecting': 9131, 'parked': 9132, 'ramble': 9133, 'oblivious': 9134, 'herrings': 9135, 'slower': 9136, 'lingering': 9137, 'soccer': 9138, 'fulfilled': 9139, 'exceptions': 9140, 'substitute': 9141, 'commited': 9142, 'raiders': 9143, 'ark': 9144, 'bordering': 9145, 'prostitution': 9146, 'cheat': 9147, 'alf': 9148, 'hardball': 9149, 'ghetto': 9150, 'salvation': 9151, 'mcglone': 9152, 'cuddly': 9153, 'justinfelix': 9154, 'lagoon': 9155, 'behaviour': 9156, 'manor': 9157, 'dashing': 9158, 'asner': 9159, 'commitment': 9160, 'proposition': 9161, 'clause': 9162, 'sharply': 9163, 'options': 9164, 'pidgeon': 9165, 'classification': 9166, 'pleasures': 9167, 'abortion': 9168, 'triangle': 9169, 'thespian': 9170, 'luster': 9171, 'faded': 9172, 'firefighter': 9173, 'warehouse': 9174, 'disappearing': 9175, 'cheered': 9176, 'zip': 9177, 'banished': 9178, 'actively': 9179, 'robotic': 9180, 'stepmom': 9181, 'reserve': 9182, 'interviewed': 9183, 'boyish': 9184, 'eternity': 9185, 'frederick': 9186, 'stoppidge': 9187, 'tropical': 9188, 'excels': 9189, 'cunning': 9190, 'dame': 9191, 'huns': 9192, 'mercy': 9193, 'sidekicks': 9194, 'solved': 9195, 'yesterday': 9196, 'wolfgang': 9197, 'conducting': 9198, 'awarded': 9199, 'afi': 9200, 'wheeler': 9201, 'painter': 9202, 'rum': 9203, 'gunfire': 9204, 'perspectives': 9205, 'revive': 9206, 'bondsman': 9207, 'tipping': 9208, 'drugged': 9209, 'wannabes': 9210, 'lin': 9211, 'burned': 9212, 'renders': 9213, 'capabilities': 9214, 'locations': 9215, 'caine': 9216, 'antidote': 9217, 'anatomy': 9218, 'robbed': 9219, 'suggesting': 9220, 'amused': 9221, 'tower': 9222, 'catastrophes': 9223, 'melting': 9224, 'splendidly': 9225, 'deceased': 9226, 'pushed': 9227, 'henson': 9228, 'seasonal': 9229, 'mantegna': 9230, 'loathing': 9231, 'enlightening': 9232, 'misfire': 9233, 'indulgent': 9234, 'cathy': 9235, 'topping': 9236, 'fortunes': 9237, 'screenplays': 9238, 'freakish': 9239, 'gleeful': 9240, 'sharing': 9241, 'studies': 9242, 'backstory': 9243, 'sorority': 9244, 'staple': 9245, 'hampered': 9246, 'alter': 9247, 'sparring': 9248, 'rooker': 9249, 'burstyn': 9250, 'braxton': 9251, 'kennesaw': 9252, 'terrorizing': 9253, 'gimmicks': 9254, 'characteristic': 9255, 'mario': 9256, 'vatican': 9257, 'conrad': 9258, 'teams': 9259, 'artemus': 9260, 'arliss': 9261, 'loveless': 9262, 'launched': 9263, 'marvel': 9264, 'hats': 9265, 'enduring': 9266, 'tripe': 9267, 'effeminate': 9268, 'drooling': 9269, 'adopted': 9270, 'infested': 9271, 'bratty': 9272, 'virginity': 9273, 'invade': 9274, 'arrogance': 9275, 'curry': 9276, 'growth': 9277, 'scariest': 9278, 'gig': 9279, 'reverend': 9280, 'widows': 9281, 'harper': 9282, 'graves': 9283, 'ruining': 9284, 'tattoos': 9285, 'testament': 9286, 'evelyn': 9287, 'spoon': 9288, 'lapse': 9289, 'seinfeld': 9290, 'hansel': 9291, 'incoherence': 9292, 'retain': 9293, 'labour': 9294, 'fatale': 9295, 'boom': 9296, 'hughton': 9297, 'mcqueen': 9298, 'floppy': 9299, 'hairdo': 9300, 'meander': 9301, 'mastermind': 9302, 'uncomfortably': 9303, 'begging': 9304, 'dour': 9305, 'iceberg': 9306, 'seize': 9307, 'battered': 9308, 'contenders': 9309, 'ritter': 9310, 'enlist': 9311, 'vintage': 9312, 'improvised': 9313, 'mornay': 9314, 'tri': 9315, 'hungarian': 9316, 'womanizer': 9317, 'slept': 9318, 'gently': 9319, 'fuck': 9320, 'puerto': 9321, 'wine': 9322, 'stress': 9323, 'catastrophe': 9324, 'dazzle': 9325, 'traveling': 9326, 'ineptitude': 9327, 'silliness': 9328, 'crashed': 9329, 'halperin': 9330, 'mathematician': 9331, 'descend': 9332, 'bowels': 9333, 'resume': 9334, 'travesty': 9335, 'atop': 9336, 'bouncing': 9337, 'baywatch': 9338, 'locales': 9339, 'statues': 9340, 'assure': 9341, 'connelly': 9342, 'jumbled': 9343, 'bolek': 9344, 'fiery': 9345, 'dealings': 9346, 'summary': 9347, 'burke': 9348, 'goth': 9349, 'continuing': 9350, 'showering': 9351, 'costar': 9352, 'insanely': 9353, 'indication': 9354, 'rash': 9355, 'corman': 9356, 'encouraging': 9357, 'modest': 9358, 'lad': 9359, 'scrap': 9360, 'kent': 9361, 'satirizing': 9362, 'diego': 9363, 'venora': 9364, 'clashes': 9365, 'disillusioned': 9366, 'thailand': 9367, 'khondji': 9368, 'borders': 9369, 'bootsector': 9370, 'empress': 9371, 'flashes': 9372, 'kelsey': 9373, 'liz': 9374, 'orphanage': 9375, 'glamour': 9376, 'yorker': 9377, 'accountant': 9378, 'proposes': 9379, 'jiff': 9380, 'racial': 9381, 'stifler': 9382, 'nadia': 9383, 'standouts': 9384, 'underappreciated': 9385, 'warn': 9386, 'booze': 9387, 'bred': 9388, 'parties': 9389, 'poke': 9390, 'introspective': 9391, 'viola': 9392, 'unrecognizable': 9393, 'sync': 9394, 'alliance': 9395, 'ruler': 9396, 'demonstrated': 9397, 'archival': 9398, 'eyrie': 9399, 'dishonest': 9400, 'worldly': 9401, 'cablehouse': 9402, 'dyn': 9403, 'barren': 9404, 'rebels': 9405, 'ilm': 9406, 'occurrences': 9407, 'champions': 9408, 'shattering': 9409, 'mena': 9410, 'suvari': 9411, 'pratfalls': 9412, 'fehr': 9413, 'quirk': 9414, 'alaska': 9415, 'storyboards': 9416, 'cousins': 9417, 'attic': 9418, 'mistakenly': 9419, 'sibling': 9420, 'mundane': 9421, 'smallest': 9422, 'cartwright': 9423, 'whalin': 9424, 'mclellan': 9425, 'thirteen': 9426, 'curly': 9427, 'enchanted': 9428, 'apprentice': 9429, 'dwarf': 9430, 'recovery': 9431, 'lois': 9432, 'surpasses': 9433, 'marshal': 9434, 'positions': 9435, 'bum': 9436, 'quinlan': 9437, 'monastery': 9438, 'objective': 9439, 'unmatched': 9440, 'sentiment': 9441, 'authors': 9442, 'comics': 9443, 'oblivion': 9444, 'casualties': 9445, 'imperial': 9446, 'wwii': 9447, 'samurai': 9448, 'oppressive': 9449, 'trends': 9450, 'deprived': 9451, 'churning': 9452, 'messes': 9453, 'stating': 9454, 'pic': 9455, 'erupts': 9456, 'wounded': 9457, 'inferno': 9458, 'nephew': 9459, 'assorted': 9460, 'thumb': 9461, 'kruger': 9462, 'badalamenti': 9463, 'opus': 9464, 'alienating': 9465, 'excuses': 9466, 'wastes': 9467, 'clarity': 9468, 'lamb': 9469, 'oops': 9470, 'stamper': 9471, 'cooler': 9472, 'conaway': 9473, 'microtec': 9474, 'drsuess': 9475, 'darling': 9476, 'sale': 9477, 'stoned': 9478, 'neighboring': 9479, 'aids': 9480, 'newcomers': 9481, 'waterfall': 9482, 'butch': 9483, 'detriment': 9484, 'sexes': 9485, 'promotion': 9486, 'collar': 9487, 'vanishes': 9488, 'amoral': 9489, 'conducted': 9490, 'posted': 9491, 'dejanews': 9492, 'facinelli': 9493, 'malone': 9494, 'masochistic': 9495, 'originated': 9496, 'rubell': 9497, 'reservation': 9498, 'recreate': 9499, 'increase': 9500, 'powerhouse': 9501, 'jakoby': 9502, 'cigar': 9503, 'slammed': 9504, 'dracula': 9505, 'hammer': 9506, 'wickedly': 9507, 'misogynistic': 9508, 'bitten': 9509, 'offend': 9510, 'caped': 9511, 'swanson': 9512, 'figuring': 9513, 'drastic': 9514, 'unimpressive': 9515, 'tool': 9516, 'license': 9517, 'judged': 9518, 'pit': 9519, 'marvelously': 9520, 'margit': 9521, 'rebellion': 9522, 'dermot': 9523, 'flintstones': 9524, 'ferris': 9525, 'distinctly': 9526, 'tame': 9527, 'revolve': 9528, 'addict': 9529, 'invaded': 9530, 'boiled': 9531, 'primate': 9532, 'rife': 9533, 'installments': 9534, 'formidable': 9535, 'programs': 9536, 'experiments': 9537, 'illusion': 9538, 'honeymoon': 9539, 'grateful': 9540, 'wristwatch': 9541, 'notions': 9542, 'caricatures': 9543, 'sporty': 9544, 'posh': 9545, 'clifford': 9546, 'introductions': 9547, 'signature': 9548, 'stumbled': 9549, 'cutter': 9550, 'softly': 9551, 'spit': 9552, 'garde': 9553, 'ridden': 9554, 'warden': 9555, 'economic': 9556, 'corporations': 9557, 'obligation': 9558, 'ubiquitous': 9559, 'shakes': 9560, 'resolves': 9561, 'proclaiming': 9562, 'ensue': 9563, 'attributed': 9564, 'deft': 9565, 'egoyan': 9566, 'ambulance': 9567, 'observer': 9568, 'settlement': 9569, 'clinics': 9570, 'interiors': 9571, 'holocaust': 9572, 'jew': 9573, 'minions': 9574, 'proclaimed': 9575, 'paddy': 9576, 'angie': 9577, 'catholicism': 9578, 'spillane': 9579, 'unattractive': 9580, 'delighted': 9581, 'fateful': 9582, 'undertones': 9583, 'penniless': 9584, 'imply': 9585, 'toast': 9586, 'kristy': 9587, 'haas': 9588, 'belinda': 9589, 'novella': 9590, 'strains': 9591, 'kristin': 9592, 'observed': 9593, 'marx': 9594, 'examine': 9595, 'tosses': 9596, 'realities': 9597, 'scooby': 9598, 'colonization': 9599, 'reciting': 9600, 'depicting': 9601, 'saffron': 9602, 'burrows': 9603, 'intercut': 9604, 'neary': 9605, 'byron': 9606, 'extraterrestrials': 9607, 'northwest': 9608, 'grey': 9609, 'boo': 9610, 'recommending': 9611, 'johnston': 9612, 'virginia': 9613, 'robust': 9614, 'freaks': 9615, 'occured': 9616, 'examined': 9617, 'hesitant': 9618, 'verdict': 9619, 'lap': 9620, 'drifting': 9621, 'consequence': 9622, 'withdrawn': 9623, 'feldman': 9624, 'doorstep': 9625, 'rep': 9626, 'malt': 9627, 'exhibits': 9628, 'divine': 9629, 'skirts': 9630, 'donaldson': 9631, 'yell': 9632, 'patriotic': 9633, 'stereotyped': 9634, 'torment': 9635, 'fairuza': 9636, 'balk': 9637, 'appalled': 9638, 'utah': 9639, 'pilgrim': 9640, 'ample': 9641, 'recite': 9642, 'ranch': 9643, 'loyalty': 9644, 'achieving': 9645, 'mortality': 9646, 'atrocities': 9647, 'firing': 9648, 'conformity': 9649, 'strays': 9650, 'strive': 9651, 'repressed': 9652, 'schizophrenic': 9653, 'billionaire': 9654, 'upbeat': 9655, 'teaser': 9656, 'portion': 9657, 'edged': 9658, 'fueled': 9659, 'gilliam': 9660, 'gonzo': 9661, 'uppers': 9662, 'mumbling': 9663, 'breakup': 9664, 'asset': 9665, 'keenen': 9666, 'pastiche': 9667, 'loudly': 9668, 'hassidic': 9669, 'moron': 9670, 'franks': 9671, 'groundbreaking': 9672, 'greek': 9673, 'pen': 9674, 'jolly': 9675, 'bella': 9676, 'kret': 9677, 'viciously': 9678, 'fincher': 9679, 'repulsive': 9680, 'fury': 9681, 'locating': 9682, 'pipes': 9683, 'borrowing': 9684, 'dish': 9685, 'swarm': 9686, 'evaluate': 9687, 'rig': 9688, 'trigger': 9689, 'demonstrate': 9690, 'roebuck': 9691, 'scholars': 9692, 'foreboding': 9693, 'mutters': 9694, 'tap': 9695, 'reddick': 9696, 'grandparents': 9697, 'panther': 9698, 'imitate': 9699, 'scanned': 9700, 'superguy': 9701, 'listserv': 9702, 'clinical': 9703, 'sheep': 9704, 'louise': 9705, 'cranked': 9706, 'sperm': 9707, 'quiz': 9708, 'cosmopolitan': 9709, 'specializes': 9710, 'firefighting': 9711, 'simulated': 9712, 'mercifully': 9713, 'blaze': 9714, 'entity': 9715, 'castro': 9716, 'button': 9717, 'maybury': 9718, 'boxer': 9719, 'shoe': 9720, 'makings': 9721, 'projected': 9722, 'desmond': 9723, 'farmer': 9724, 'frakes': 9725, 'aptitude': 9726, 'stance': 9727, 'fantastically': 9728, 'fought': 9729, 'yemen': 9730, 'embassy': 9731, 'occupies': 9732, 'alert': 9733, 'lilly': 9734, 'innocuous': 9735, 'secondly': 9736, 'kudos': 9737, 'income': 9738, 'macnee': 9739, 'rigg': 9740, 'surrealistic': 9741, 'geena': 9742, 'adoption': 9743, 'rocket': 9744, 'rapaport': 9745, 'pianist': 9746, 'prompted': 9747, 'groom': 9748, 'expresses': 9749, 'msnbc': 9750, 'haul': 9751, 'clarke': 9752, 'tulip': 9753, 'exceedingly': 9754, 'samples': 9755, 'marg': 9756, 'bounty': 9757, 'brancato': 9758, 'morris': 9759, 'hacked': 9760, 'accuses': 9761, 'chunks': 9762, 'madeleine': 9763, 'hutton': 9764, 'clarence': 9765, 'sunderland': 9766, 'intertwined': 9767, 'sordid': 9768, 'illustrates': 9769, 'accompaniment': 9770, 'contrivances': 9771, 'solaris': 9772, 'oprah': 9773, 'kimberly': 9774, 'easiest': 9775, 'tougher': 9776, 'chopping': 9777, 'malevolent': 9778, 'fulfilling': 9779, 'commands': 9780, 'depict': 9781, 'britain': 9782, 'bees': 9783, 'crushing': 9784, 'vengeance': 9785, 'dorff': 9786, 'illiterate': 9787, 'errors': 9788, 'recording': 9789, 'protests': 9790, 'injustice': 9791, 'blanket': 9792, 'hamlet': 9793, 'vows': 9794, 'elaine': 9795, 'karaszewski': 9796, 'grenier': 9797, 'kipp': 9798, 'harring': 9799, 'floyd': 9800, 'suggested': 9801, 'randle': 9802, 'scatological': 9803, 'clip': 9804, 'destroys': 9805, 'wargames': 9806, 'misadventures': 9807, 'ceremony': 9808, 'prospect': 9809, 'launching': 9810, 'saturated': 9811, 'canaan': 9812, 'wendy': 9813, 'atkins': 9814, 'drowned': 9815, 'eileen': 9816, 'dot': 9817, 'def': 9818, 'mantan': 9819, 'poverty': 9820, 'cultures': 9821, 'quirks': 9822, 'rapper': 9823, 'andrea': 9824, 'muted': 9825, 'andrews': 9826, 'blurred': 9827, 'tremors': 9828, 'preserve': 9829, 'crunch': 9830, 'nishi': 9831, 'selecting': 9832, 'resorts': 9833, 'leaking': 9834, 'screeching': 9835, 'deaf': 9836, 'clerks': 9837, 'blather': 9838, 'frames': 9839, 'ponders': 9840, 'fleeting': 9841, 'puppeteer': 9842, 'devastating': 9843, 'bittersweet': 9844, 'lil': 9845, 'excruciating': 9846, 'inter': 9847, 'reconciliation': 9848, 'exec': 9849, 'arkin': 9850, 'alberto': 9851, 'candido': 9852, 'yoyita': 9853, 'lung': 9854, 'singers': 9855, 'brass': 9856, 'enchanting': 9857, 'balancing': 9858, 'practice': 9859, 'necessity': 9860, 'thwarted': 9861, 'oncoming': 9862, 'faked': 9863, 'obstacle': 9864, 'starters': 9865, 'housing': 9866, 'seamless': 9867, 'freeing': 9868, 'chainsaw': 9869, 'zombies': 9870, 'typhoon': 9871, 'izzard': 9872, 'voicemail': 9873, 'epitome': 9874, 'rebound': 9875, 'jabii': 9876, 'serviceable': 9877, 'heightened': 9878, 'desperado': 9879, 'bowen': 9880, 'assessment': 9881, 'stephanie': 9882, 'occupation': 9883, 'bailey': 9884, 'shamberg': 9885, 'biblical': 9886, 'counterparts': 9887, 'wb': 9888, 'policeman': 9889, 'convict': 9890, 'petersen': 9891, 'backfires': 9892, 'egotistical': 9893, 'wade': 9894, 'crappy': 9895, 'arrange': 9896, 'allan': 9897, 'swear': 9898, 'intelligently': 9899, 'cecilia': 9900, 'familial': 9901, 'theodore': 9902, 'emmannuelle': 9903, 'lance': 9904, 'allcroft': 9905, 'railway': 9906, 'midget': 9907, 'emmy': 9908, 'progression': 9909, 'romantically': 9910, 'revolving': 9911, 'lisbon': 9912, 'alzheimer': 9913, 'rekindle': 9914, 'rushes': 9915, 'agreeable': 9916, 'juggle': 9917, 'distressing': 9918, 'pooch': 9919, 'rosary': 9920, 'kiernan': 9921, 'believers': 9922, 'possessing': 9923, 'monstrous': 9924, 'channing': 9925, 'byrnes': 9926, 'carr': 9927, 'backgrounds': 9928, 'oeuvre': 9929, 'cape': 9930, 'finn': 9931, 'leguiziamo': 9932, 'brooklyn': 9933, 'crook': 9934, 'stalks': 9935, 'segal': 9936, 'cinemax': 9937, 'johnathon': 9938, 'witt': 9939, 'sleek': 9940, 'emperor': 9941, 'reptilian': 9942, 'picky': 9943, 'contrasts': 9944, 'bumps': 9945, 'fence': 9946, 'punctuated': 9947, 'utilized': 9948, 'christians': 9949, 'edges': 9950, 'document': 9951, 'implausibilities': 9952, 'mercenary': 9953, 'injected': 9954, 'arises': 9955, 'megan': 9956, 'invaders': 9957, 'businesses': 9958, 'supporters': 9959, 'strips': 9960, 'eliza': 9961, 'disturbingly': 9962, 'cheerleading': 9963, 'missy': 9964, 'realises': 9965, 'routines': 9966, 'retarded': 9967, 'poitier': 9968, 'discoveries': 9969, 'promptly': 9970, 'heir': 9971, 'sensitivity': 9972, 'weaves': 9973, 'seti': 9974, 'hadden': 9975, 'signal': 9976, 'haygarth': 9977, 'karey': 9978, 'kirkpatrick': 9979, 'reduces': 9980, 'rooster': 9981, 'trousers': 9982, 'yanks': 9983, 'radical': 9984, 'strives': 9985, 'cats': 9986, 'diet': 9987, 'nutter': 9988, 'behave': 9989, 'expand': 9990, 'consistent': 9991, 'outright': 9992, 'deborah': 9993, 'humiliated': 9994, 'tori': 9995, 'argued': 9996, 'buxom': 9997, 'spilled': 9998, 'vastly': 9999, 'dominant': 10000, 'indulge': 10001, 'nigel': 10002, 'anselm': 10003, 'weakness': 10004, 'budding': 10005, 'snakes': 10006, 'emergency': 10007, 'shaky': 10008, 'wizardry': 10009, 'ennio': 10010, 'morricone': 10011, 'lasseter': 10012, 'colony': 10013, 'jargon': 10014, 'strategies': 10015, 'gut': 10016, 'harlin': 10017, 'quantity': 10018, 'flexibility': 10019, 'preacher': 10020, 'anakin': 10021, 'marred': 10022, 'casual': 10023, 'noticeably': 10024, 'origins': 10025, 'spirituality': 10026, 'brett': 10027, 'orchestra': 10028, 'marion': 10029, 'seductive': 10030, 'vendor': 10031, 'lawnmower': 10032, 'chet': 10033, 'embittered': 10034, 'forgetting': 10035, 'assed': 10036, 'dedication': 10037, 'wore': 10038, 'diversity': 10039, 'unger': 10040, 'investing': 10041, 'punching': 10042, 'ripe': 10043, 'cram': 10044, 'envelope': 10045, 'bishop': 10046, 'sleaze': 10047, 'stretching': 10048, 'bills': 10049, 'outraged': 10050, 'protector': 10051, 'vogue': 10052, 'mugatu': 10053, 'brainy': 10054, 'inquires': 10055, 'absurdist': 10056, 'karaoke': 10057, 'earthly': 10058, 'finely': 10059, 'strippers': 10060, 'franz': 10061, 'lush': 10062, 'pinnacle': 10063, 'declining': 10064, 'shipping': 10065, 'unravel': 10066, 'specialist': 10067, 'bomber': 10068, 'vein': 10069, 'disappointingly': 10070, 'rhode': 10071, 'widowed': 10072, 'pinter': 10073, 'refined': 10074, 'janet': 10075, 'flag': 10076, 'overtly': 10077, 'prompts': 10078, 'eszterhas': 10079, 'landscapes': 10080, 'degenerates': 10081, 'vu': 10082, 'craze': 10083, 'frenzied': 10084, 'refused': 10085, 'corridors': 10086, 'lydia': 10087, 'fates': 10088, 'bombing': 10089, 'congregation': 10090, 'decline': 10091, 'bike': 10092, 'barber': 10093, 'inventions': 10094, 'sailing': 10095, 'gabe': 10096, 'kgb': 10097, 'dahl': 10098, 'fuqua': 10099, 'johns': 10100, 'solar': 10101, 'imam': 10102, 'leukemia': 10103, 'scoundrel': 10104, 'conniving': 10105, 'flock': 10106, 'strangelove': 10107, 'starbucks': 10108, 'cagliostro': 10109, 'barney': 10110, 'armin': 10111, 'mueller': 10112, 'deemed': 10113, 'steamy': 10114, 'feared': 10115, 'anton': 10116, 'automobile': 10117, 'pirate': 10118, 'dorian': 10119, 'statham': 10120, 'matriarchal': 10121, 'lt': 10122, 'addled': 10123, 'blackout': 10124, 'indulges': 10125, 'noodles': 10126, 'mutated': 10127, 'patillo': 10128, 'rushing': 10129, 'dump': 10130, 'holliday': 10131, 'latin': 10132, 'fooling': 10133, 'insights': 10134, 'promiscuous': 10135, 'enlisted': 10136, 'skerritt': 10137, 'eden': 10138, 'spared': 10139, 'maxwell': 10140, 'pasolini': 10141, 'salo': 10142, 'junkies': 10143, 'jared': 10144, 'cooked': 10145, 'beek': 10146, 'underdog': 10147, 'rhythm': 10148, 'pretense': 10149, 'hounsou': 10150, 'mechanic': 10151, 'dicillo': 10152, 'lowbrow': 10153, 'uncertainty': 10154, 'forests': 10155, 'sherilyn': 10156, 'fenn': 10157, 'laziness': 10158, 'kozmo': 10159, 'chester': 10160, 'empathetic': 10161, 'furlong': 10162, 'bubbles': 10163, 'alyssa': 10164, 'annihilation': 10165, 'xefs': 10166, 'stoic': 10167, 'justified': 10168, 'sailboat': 10169, 'tolkin': 10170, 'satana': 10171, 'sprouse': 10172, 'trejo': 10173, 'frain': 10174, 'saddened': 10175, 'ramona': 10176, 'muppets': 10177, 'bernie': 10178, 'cabbie': 10179, 'leblanc': 10180, 'guadalcanal': 10181, 'praised': 10182, 'renault': 10183, 'bernhard': 10184, 'brunette': 10185, 'posed': 10186, 'rewrite': 10187, 'unrated': 10188, 'bimbo': 10189, 'revels': 10190, 'darcy': 10191, 'reprises': 10192, 'fusion': 10193, 'shang': 10194, 'raines': 10195, 'alma': 10196, 'reincarnation': 10197, 'patric': 10198, 'angus': 10199, 'lifeform': 10200, 'poland': 10201, 'guinevere': 10202, 'evan': 10203, 'calloway': 10204, 'masks': 10205, 'iowa': 10206, 'ramifications': 10207, 'ernie': 10208, 'gladiator': 10209, 'franzoni': 10210, 'mcculloch': 10211, 'dispute': 10212, 'kahl': 10213, 'schwartzman': 10214, 'precocious': 10215, 'blume': 10216, 'anand': 10217, 'respectability': 10218, 'welsh': 10219, 'doss': 10220, 'clyde': 10221, 'lyle': 10222, 'explodes': 10223, 'fairies': 10224, 'gould': 10225, 'flower': 10226, 'javert': 10227, 'matheson': 10228, 'gaerity': 10229, 'maude': 10230, 'taye': 10231, 'diggs': 10232, 'howitt': 10233, 'rusnak': 10234, 'middleditch': 10235, 'giallo': 10236, 'phylida': 10237, 'copies': 10238, 'minkoff': 10239, 'garlington': 10240, 'chandelier': 10241, 'plummer': 10242, 'mullet': 10243, 'grossing': 10244, 'bilko': 10245, 'pagemaster': 10246, 'tingle': 10247, 'depardieu': 10248, 'kundun': 10249, 'ginseng': 10250, 'geological': 10251, 'bethlehem': 10252, 'clutterbuck': 10253, 'stripes': 10254, 'correctness': 10255, 'robotics': 10256, 'dolores': 10257, 'ramen': 10258, 'noodle': 10259, 'apaches': 10260, 'novak': 10261, 'hosts': 10262, 'barred': 10263, 'ala': 10264, 'slo': 10265, 'manchester': 10266, 'pause': 10267, 'absorb': 10268, 'goodness': 10269, 'journalists': 10270, 'prose': 10271, 'kidding': 10272, 'emptiness': 10273, 'adolescence': 10274, 'snooty': 10275, 'passages': 10276, 'gerald': 10277, 'conceit': 10278, 'perils': 10279, 'bestseller': 10280, 'vow': 10281, 'compares': 10282, 'mug': 10283, 'wallet': 10284, 'illuminate': 10285, 'readings': 10286, 'sparse': 10287, 'maniacal': 10288, 'reducing': 10289, 'retreat': 10290, 'slippery': 10291, 'swore': 10292, 'annoyingly': 10293, 'sweeps': 10294, 'roar': 10295, 'bellow': 10296, 'tournament': 10297, 'tantrums': 10298, 'clothesline': 10299, 'smashes': 10300, 'unsavory': 10301, 'shrill': 10302, 'mcbride': 10303, 'ryne': 10304, 'autism': 10305, 'alcoholism': 10306, 'exceeds': 10307, 'intangible': 10308, 'establishes': 10309, 'gunned': 10310, 'bonding': 10311, 'nsa': 10312, 'sneering': 10313, 'counted': 10314, 'malice': 10315, 'langenkamp': 10316, 'marshals': 10317, 'advent': 10318, 'indy': 10319, 'lectures': 10320, 'duh': 10321, 'earp': 10322, 'snap': 10323, 'opaque': 10324, 'boardman': 10325, 'semester': 10326, 'inspires': 10327, 'succeeding': 10328, 'masked': 10329, 'designers': 10330, 'schools': 10331, 'admission': 10332, 'goliath': 10333, 'seltzer': 10334, 'meanders': 10335, 'gheorghe': 10336, 'bounds': 10337, 'vomiting': 10338, 'terminal': 10339, 'seasoned': 10340, 'falk': 10341, 'sheridan': 10342, 'fledged': 10343, 'olympic': 10344, 'bisset': 10345, 'paola': 10346, 'grandiose': 10347, 'intolerance': 10348, 'brightly': 10349, 'renaissance': 10350, 'revered': 10351, 'poet': 10352, 'assistance': 10353, 'gifts': 10354, 'liotta': 10355, 'sophomore': 10356, 'thirtysomething': 10357, 'severity': 10358, 'namesake': 10359, 'kidnaped': 10360, 'schoolers': 10361, 'nihilists': 10362, 'hay': 10363, 'viking': 10364, 'lovingly': 10365, 'isaiah': 10366, 'massage': 10367, 'shameless': 10368, 'aphrodite': 10369, 'therapist': 10370, 'paltry': 10371, 'risque': 10372, 'dinky': 10373, 'geriatric': 10374, 'eli': 10375, 'communications': 10376, 'sexism': 10377, 'dons': 10378, 'fixes': 10379, 'discrimination': 10380, 'doubtfire': 10381, 'mystic': 10382, 'olivier': 10383, 'mariachi': 10384, 'carson': 10385, 'strobe': 10386, 'rendering': 10387, 'rosa': 10388, 'morales': 10389, 'import': 10390, 'destinies': 10391, 'paternal': 10392, 'coaster': 10393, 'bothering': 10394, 'mailing': 10395, 'plausibility': 10396, 'endurance': 10397, 'brassy': 10398, 'bancroft': 10399, 'upstaged': 10400, 'bevy': 10401, 'treatments': 10402, 'cans': 10403, 'doubted': 10404, 'villian': 10405, 'misunderstood': 10406, 'ensuing': 10407, 'fireman': 10408, 'quits': 10409, 'interactions': 10410, 'insincere': 10411, 'miscalculation': 10412, 'inserting': 10413, 'taguchi': 10414, 'software': 10415, 'overflowing': 10416, 'hayashi': 10417, 'campfire': 10418, 'imaged': 10419, 'pursuers': 10420, 'vaudeville': 10421, 'fella': 10422, 'tagged': 10423, 'quibble': 10424, 'panicking': 10425, 'occurring': 10426, 'humphrey': 10427, 'punched': 10428, 'desired': 10429, 'anytime': 10430, 'sheik': 10431, 'bin': 10432, 'bombings': 10433, 'kraft': 10434, 'patriot': 10435, 'appropriateness': 10436, 'inflection': 10437, 'haddad': 10438, 'excesses': 10439, 'cobra': 10440, 'rockets': 10441, 'preachy': 10442, 'focusing': 10443, 'instructed': 10444, 'inform': 10445, 'mice': 10446, 'marian': 10447, 'visitors': 10448, 'tricked': 10449, 'researching': 10450, 'guarded': 10451, 'cherubic': 10452, 'sheets': 10453, 'curtains': 10454, 'ceiling': 10455, 'hallucinations': 10456, 'outbursts': 10457, 'manchurian': 10458, 'fairness': 10459, 'shabby': 10460, 'squadron': 10461, 'barf': 10462, 'cornell': 10463, 'woolrich': 10464, 'offerings': 10465, 'marketplace': 10466, 'failings': 10467, 'lurid': 10468, 'diggers': 10469, 'dissuade': 10470, 'tits': 10471, 'mantle': 10472, 'pouting': 10473, 'rubbing': 10474, 'cheeks': 10475, 'dominance': 10476, 'dwells': 10477, 'explanations': 10478, 'unchecked': 10479, 'blew': 10480, 'randal': 10481, 'thom': 10482, 'marcia': 10483, 'depends': 10484, 'chores': 10485, 'mar': 10486, 'venerable': 10487, 'technobabble': 10488, 'laboratory': 10489, 'challenges': 10490, 'baz': 10491, 'luhrmann': 10492, 'numb': 10493, 'incongruous': 10494, 'stereo': 10495, 'courses': 10496, 'punks': 10497, 'probation': 10498, 'impromptu': 10499, 'psych': 10500, 'adored': 10501, 'chicks': 10502, 'downside': 10503, 'equals': 10504, 'chuckie': 10505, 'breathes': 10506, 'isabella': 10507, 'dickerson': 10508, 'dourif': 10509, 'masterfully': 10510, 'ambiguity': 10511, 'indies': 10512, 'lacked': 10513, 'cursing': 10514, 'eduardo': 10515, 'noriega': 10516, 'navarro': 10517, 'rendezvous': 10518, 'junket': 10519, 'exaggeration': 10520, 'roof': 10521, 'crud': 10522, 'planner': 10523, 'cheech': 10524, 'marin': 10525, 'misha': 10526, 'blamed': 10527, 'participate': 10528, 'purchased': 10529, 'newborn': 10530, 'animatronic': 10531, 'hysterically': 10532, 'lefessier': 10533, 'afloat': 10534, 'cutbacks': 10535, 'demoted': 10536, 'reporting': 10537, 'negotiations': 10538, 'frenzy': 10539, 'kirshner': 10540, 'bitchy': 10541, 'tackled': 10542, 'drab': 10543, 'recommendable': 10544, 'strangle': 10545, 'widower': 10546, 'spontaneity': 10547, 'butter': 10548, 'unprecedented': 10549, 'lenses': 10550, 'stocks': 10551, 'reign': 10552, 'brill': 10553, 'lending': 10554, 'responsibilities': 10555, 'earning': 10556, 'skimpy': 10557, 'intentioned': 10558, 'tastes': 10559, 'gedrick': 10560, 'kirby': 10561, 'labored': 10562, 'disorientation': 10563, 'confessional': 10564, 'clearing': 10565, 'bugged': 10566, 'collective': 10567, 'clearer': 10568, 'whereabouts': 10569, 'a': 10570, 'at': 10571, 'butabi': 10572, 'justification': 10573, 'linked': 10574, 'entrance': 10575, 'takeoff': 10576, 'nope': 10577, 'trophy': 10578, 'hobby': 10579, 'nuff': 10580, 'mimmo': 10581, 'marina': 10582, 'gaudy': 10583, 'fried': 10584, 'solemn': 10585, 'tendencies': 10586, 'negatives': 10587, 'mccoll': 10588, 'awakens': 10589, 'grisly': 10590, 'unspeakable': 10591, 'geezer': 10592, 'mattered': 10593, 'islam': 10594, 'meshes': 10595, 'knowingly': 10596, 'commenting': 10597, 'auto': 10598, 'ellmann': 10599, 'intro': 10600, 'patron': 10601, 'biopics': 10602, 'muni': 10603, 'cautious': 10604, 'pell': 10605, 'rapport': 10606, 'trendy': 10607, 'maclean': 10608, 'scholar': 10609, 'dandy': 10610, 'upbringing': 10611, 'steadfast': 10612, 'exponentially': 10613, 'springs': 10614, 'rotund': 10615, 'quickie': 10616, 'leftover': 10617, 'actioner': 10618, 'unruly': 10619, 'onset': 10620, 'puberty': 10621, 'erotica': 10622, 'alcoholics': 10623, 'bottles': 10624, 'catcher': 10625, 'rye': 10626, 'truthfully': 10627, 'boozing': 10628, 'cents': 10629, 'solitary': 10630, 'disturbs': 10631, 'tyrant': 10632, 'enraged': 10633, 'throne': 10634, 'donkey': 10635, 'domain': 10636, 'slams': 10637, 'relentlessly': 10638, 'katzenberg': 10639, 'competing': 10640, 'diminutive': 10641, 'squeeze': 10642, 'jerky': 10643, 'data': 10644, 'arc': 10645, 'paranormal': 10646, 'dolph': 10647, 'lundgren': 10648, 'rollins': 10649, 'pumped': 10650, 'redeem': 10651, 'stew': 10652, 'coolest': 10653, 'iv': 10654, 'boyum': 10655, 'limps': 10656, 'gratingly': 10657, 'yellowstone': 10658, 'celebration': 10659, 'inanity': 10660, 'negotiating': 10661, 'airline': 10662, 'tramp': 10663, 'alarming': 10664, 'goofball': 10665, 'stampede': 10666, 'pauly': 10667, 'dome': 10668, 'nitro': 10669, 'monday': 10670, 'sinclair': 10671, 'boots': 10672, 'dignified': 10673, 'resourceful': 10674, 'boob': 10675, 'chuckled': 10676, 'proclaims': 10677, 'toss': 10678, 'blends': 10679, 'recreations': 10680, 'coates': 10681, 'tyson': 10682, 'tag': 10683, 'bidding': 10684, 'buffoonish': 10685, 'bones': 10686, 'whines': 10687, 'cleaned': 10688, 'captivated': 10689, 'pets': 10690, 'disappointments': 10691, 'unresolved': 10692, 'shyer': 10693, 'notoriously': 10694, 'slutty': 10695, 'redneck': 10696, 'gator': 10697, 'toller': 10698, 'brace': 10699, 'damages': 10700, 'trois': 10701, 'needlessly': 10702, 'flipping': 10703, 'bombshell': 10704, 'precision': 10705, 'regnier': 10706, 'drifter': 10707, 'immediacy': 10708, 'counter': 10709, 'monopoly': 10710, 'shrewd': 10711, 'forbid': 10712, 'glancing': 10713, 'rational': 10714, 'seaside': 10715, 'hooked': 10716, 'decapitated': 10717, 'graces': 10718, 'complimentary': 10719, 'ants': 10720, 'telescope': 10721, 'revolutionaries': 10722, 'seasons': 10723, 'temptation': 10724, 'foreigner': 10725, 'dreyfus': 10726, 'swell': 10727, 'societal': 10728, 'activist': 10729, 'persecution': 10730, 'searches': 10731, 'circumstance': 10732, 'advisors': 10733, 'episodic': 10734, 'wobbly': 10735, 'detachment': 10736, 'enthusiasts': 10737, 'coping': 10738, 'partial': 10739, 'honoring': 10740, 'dominating': 10741, 'ari': 10742, 'bonham': 10743, 'cerebral': 10744, 'distances': 10745, 'boris': 10746, 'giamatti': 10747, 'conjures': 10748, 'trance': 10749, 'sexpot': 10750, 'galore': 10751, 'generating': 10752, 'sweaters': 10753, 'arrangement': 10754, 'leans': 10755, 'ifans': 10756, 'pairings': 10757, 'cheque': 10758, 'cent': 10759, 'earnings': 10760, 'smuggling': 10761, 'ancestors': 10762, 'humane': 10763, 'lorna': 10764, 'detailing': 10765, 'carefree': 10766, 'responses': 10767, 'biologist': 10768, 'aquarium': 10769, 'counterbalanced': 10770, 'fundamentally': 10771, 'sticky': 10772, 'guiness': 10773, 'rotj': 10774, 'tesb': 10775, 'soundtracks': 10776, 'hmm': 10777, 'alot': 10778, 'sugar': 10779, 'coats': 10780, 'shameful': 10781, 'inflate': 10782, 'prequel': 10783, 'curve': 10784, 'berserk': 10785, 'whopping': 10786, 'outta': 10787, 'droning': 10788, 'imagined': 10789, 'owe': 10790, 'solutions': 10791, 'merciless': 10792, 'coasts': 10793, 'uninspiring': 10794, 'rally': 10795, 'hawkes': 10796, 'forte': 10797, 'experimented': 10798, 'biological': 10799, 'patently': 10800, 'supermodels': 10801, 'conditioned': 10802, 'pushkin': 10803, 'aristocrat': 10804, 'petersburg': 10805, 'inherited': 10806, 'olga': 10807, 'overwhelmed': 10808, 'confirmation': 10809, 'remorse': 10810, 'callous': 10811, 'echo': 10812, 'divided': 10813, 'expressing': 10814, 'distinguished': 10815, 'clicks': 10816, 'atypical': 10817, 'engulf': 10818, 'lucid': 10819, 'shenanigans': 10820, 'lapses': 10821, 'distinguishes': 10822, 'britton': 10823, 'seclusion': 10824, 'sunshine': 10825, 'wasting': 10826, 'construct': 10827, 'monumentally': 10828, 'specified': 10829, 'dc': 10830, 'verify': 10831, 'maine': 10832, 'laborious': 10833, 'ventures': 10834, 'gautier': 10835, 'hymie': 10836, 'needn': 10837, 'lanier': 10838, 'sergi': 10839, 'pez': 10840, 'dorky': 10841, 'screwer': 10842, 'backing': 10843, 'benefactor': 10844, 'hattie': 10845, 'patsy': 10846, 'pocahontas': 10847, 'wen': 10848, 'matchmaker': 10849, 'cricket': 10850, 'decrepit': 10851, 'backyard': 10852, 'tires': 10853, 'hun': 10854, 'fierstein': 10855, 'giddy': 10856, 'epics': 10857, 'shortened': 10858, 'rider': 10859, 'sunk': 10860, 'knott': 10861, 'loft': 10862, 'guillermo': 10863, 'surfacing': 10864, 'unmemorable': 10865, 'trademarks': 10866, 'womens': 10867, 'narratives': 10868, 'innovation': 10869, 'akira': 10870, 'blaxploitation': 10871, 'transporting': 10872, 'smuggle': 10873, 'invigorating': 10874, 'grungy': 10875, 'englund': 10876, 'shaye': 10877, 'freddy': 10878, 'transfer': 10879, 'remastered': 10880, 'laserdisc': 10881, 'wander': 10882, 'sneaking': 10883, 'synch': 10884, 'assistants': 10885, 'fundamentals': 10886, 'downward': 10887, 'exhausted': 10888, 'immersed': 10889, 'foremost': 10890, 'eroticism': 10891, 'vanish': 10892, 'gizmo': 10893, 'clamp': 10894, 'networks': 10895, 'heros': 10896, 'rescues': 10897, 'genetics': 10898, 'pipe': 10899, 'es': 10900, 'heartwarming': 10901, 'gabby': 10902, 'punished': 10903, 'believably': 10904, 'terrified': 10905, 'cleverness': 10906, 'da': 10907, 'bumble': 10908, 'armored': 10909, 'insecurity': 10910, 'deconstructing': 10911, 'orgasmic': 10912, 'maddalena': 10913, 'bait': 10914, 'scoring': 10915, 'reap': 10916, 'scribe': 10917, 'chops': 10918, 'allusions': 10919, 'artificially': 10920, 'grabbing': 10921, 'crammed': 10922, 'relocated': 10923, 'omnipresent': 10924, 'simpering': 10925, 'portia': 10926, 'seams': 10927, 'perceived': 10928, 'applaud': 10929, 'pate': 10930, 'wednesday': 10931, 'carolina': 10932, 'cum': 10933, 'princeton': 10934, 'heinous': 10935, 'stressful': 10936, 'foibles': 10937, 'telephones': 10938, 'elegantly': 10939, 'skyscrapers': 10940, 'invests': 10941, 'forgiveness': 10942, 'payoffs': 10943, 'composition': 10944, 'garcia': 10945, 'vito': 10946, 'saga': 10947, 'swallows': 10948, 'silverado': 10949, 'excessively': 10950, 'helming': 10951, 'blacker': 10952, 'dj': 10953, 'tended': 10954, 'deer': 10955, 'virginal': 10956, 'aplomb': 10957, 'evidenced': 10958, 'derived': 10959, 'dom': 10960, 'gum': 10961, 'gasp': 10962, 'salon': 10963, 'devotes': 10964, 'yields': 10965, 'strained': 10966, 'mitchum': 10967, 'courting': 10968, 'crooning': 10969, 'leaning': 10970, 'guardians': 10971, 'gish': 10972, 'lawsuit': 10973, 'sober': 10974, 'metaphors': 10975, 'investigated': 10976, 'mesh': 10977, 'serpico': 10978, 'glossy': 10979, 'decoy': 10980, 'attends': 10981, 'debonair': 10982, 'drawbacks': 10983, 'additions': 10984, 'whim': 10985, 'mechanics': 10986, 'devised': 10987, 'benefited': 10988, 'disdain': 10989, 'classmates': 10990, 'complication': 10991, 'narrating': 10992, 'illustrated': 10993, 'harried': 10994, 'inhabits': 10995, 'voodoo': 10996, 'moaning': 10997, 'misfired': 10998, 'funner': 10999, 'stuntwork': 11000, 'stakeout': 11001, 'snatch': 11002, 'howl': 11003, 'alumnus': 11004, 'rican': 11005, 'magically': 11006, 'plotted': 11007, 'enclosed': 11008, 'cages': 11009, 'muscles': 11010, 'boasting': 11011, 'amazes': 11012, 'impersonation': 11013, 'grabbed': 11014, 'charms': 11015, 'cellar': 11016, 'preparation': 11017, 'honored': 11018, 'machina': 11019, 'beth': 11020, 'doctorate': 11021, 'fielding': 11022, 'temporary': 11023, 'inclined': 11024, 'disclosure': 11025, 'ninth': 11026, 'iain': 11027, 'gazes': 11028, 'muscular': 11029, 'dual': 11030, 'cord': 11031, 'cavernous': 11032, 'matte': 11033, 'lamest': 11034, 'align': 11035, 'olin': 11036, 'saucy': 11037, 'complications': 11038, 'pickles': 11039, 'centres': 11040, 'stodge': 11041, 'misunderstanding': 11042, 'sanitary': 11043, 'oakley': 11044, 'raping': 11045, 'transforming': 11046, 'donut': 11047, 'lawsuits': 11048, 'ontario': 11049, 'anxiety': 11050, 'cohorts': 11051, 'tempted': 11052, 'mitch': 11053, 'thankful': 11054, 'reformed': 11055, 'remembers': 11056, 'unknowns': 11057, 'residence': 11058, 'programming': 11059, 'mahoney': 11060, 'swashbuckling': 11061, 'rafael': 11062, 'tastefully': 11063, 'marvellous': 11064, 'eaters': 11065, 'messy': 11066, 'melange': 11067, 'sorta': 11068, 'opponents': 11069, 'habits': 11070, 'tags': 11071, 'wince': 11072, 'savages': 11073, 'maul': 11074, 'amok': 11075, 'swords': 11076, 'lair': 11077, 'clutter': 11078, 'menzies': 11079, 'tilda': 11080, 'swinton': 11081, 'virginie': 11082, 'ledoyen': 11083, 'guillaume': 11084, 'canet': 11085, 'oise': 11086, 'darius': 11087, 'outdone': 11088, 'unfocused': 11089, 'merchandising': 11090, 'phoned': 11091, 'rumor': 11092, 'presumed': 11093, 'dimitri': 11094, 'freshly': 11095, 'challenger': 11096, 'wound': 11097, 'wily': 11098, 'photograph': 11099, 'terence': 11100, 'entourage': 11101, 'veneer': 11102, 'schtick': 11103, 'nonsensical': 11104, 'brightest': 11105, 'weitz': 11106, 'chronic': 11107, 'crass': 11108, 'rumours': 11109, 'impossibly': 11110, 'sctv': 11111, 'condom': 11112, 'on': 11113, 'med': 11114, 'charter': 11115, 'lochlyn': 11116, 'munro': 11117, 'hastily': 11118, 'pearlstein': 11119, 'weinstein': 11120, 'charmingly': 11121, 'debts': 11122, 'ethel': 11123, 'sap': 11124, 'felicity': 11125, 'thespians': 11126, 'deepest': 11127, 'auteurs': 11128, 'intimidating': 11129, 'waning': 11130, 'cinematically': 11131, 'dragonheart': 11132, 'woven': 11133, 'toxic': 11134, 'crapshoot': 11135, 'uncompelling': 11136, 'nypd': 11137, 'chopsticks': 11138, 'booming': 11139, 'cohagen': 11140, 'arnie': 11141, 'reprising': 11142, 'plugs': 11143, 'observing': 11144, 'founded': 11145, 'void': 11146, 'acute': 11147, 'proxy': 11148, 'chalk': 11149, 'edit': 11150, 'rogers': 11151, 'intrinsic': 11152, 'separates': 11153, 'chums': 11154, 'degrading': 11155, 'hormones': 11156, 'imbues': 11157, 'arija': 11158, 'bareikis': 11159, 'oded': 11160, 'madison': 11161, 'cleaner': 11162, 'ney': 11163, 'featurette': 11164, 'storyboard': 11165, 'yep': 11166, 'eaten': 11167, 'deliberate': 11168, 'beds': 11169, 'potato': 11170, 'chips': 11171, 'fabric': 11172, 'macaulay': 11173, 'threaten': 11174, 'lilien': 11175, 'peppered': 11176, 'izmer': 11177, 'brink': 11178, 'savina': 11179, 'allies': 11180, 'hostages': 11181, 'crafting': 11182, 'scarcely': 11183, 'gaming': 11184, 'rooted': 11185, 'laboured': 11186, 'duller': 11187, 'olsen': 11188, 'rub': 11189, 'cary': 11190, 'successor': 11191, 'threesome': 11192, 'cramped': 11193, 'elevates': 11194, 'jailbreak': 11195, 'calculated': 11196, 'profane': 11197, 'chip': 11198, 'ping': 11199, 'longing': 11200, 'studied': 11201, 'pointers': 11202, 'burdened': 11203, 'watergate': 11204, 'thx': 11205, 'solo': 11206, 'lore': 11207, 'superiority': 11208, 'improve': 11209, 'levison': 11210, 'console': 11211, 'gaby': 11212, 'sites': 11213, 'grossed': 11214, 'rappaport': 11215, 'duval': 11216, 'vinnie': 11217, 'pablo': 11218, 'meaty': 11219, 'shiny': 11220, 'rowdy': 11221, 'undeveloped': 11222, 'gen': 11223, 'ehren': 11224, 'wolfe': 11225, 'whit': 11226, 'unexplained': 11227, 'bloodied': 11228, 'burnt': 11229, 'goofs': 11230, 'sneakers': 11231, 'fireworks': 11232, 'ness': 11233, 'suspicions': 11234, 'goof': 11235, 'financed': 11236, 'ridge': 11237, 'u': 11238, 'showcasing': 11239, 'zuko': 11240, 'kotter': 11241, 'contagious': 11242, 'showings': 11243, 'francoise': 11244, 'etienne': 11245, 'bangkok': 11246, 'facto': 11247, 'tourists': 11248, 'evade': 11249, 'farmers': 11250, 'bronson': 11251, 'avenging': 11252, 'organisations': 11253, 'reiner': 11254, 'dumbed': 11255, 'intentional': 11256, 'entertains': 11257, 'masterminded': 11258, 'sleeve': 11259, 'amos': 11260, 'reflected': 11261, 'elevated': 11262, 'pales': 11263, 'whalberg': 11264, 'subtleties': 11265, 'recreated': 11266, 'expertise': 11267, 'faceless': 11268, 'nicer': 11269, 'gugino': 11270, 'sunlight': 11271, 'safely': 11272, 'motley': 11273, 'deservedly': 11274, 'garish': 11275, 'poisoned': 11276, 'bane': 11277, 'temperature': 11278, 'batcave': 11279, 'helpfully': 11280, 'solemnly': 11281, 'stifling': 11282, 'offscreen': 11283, 'relaxation': 11284, 'dives': 11285, 'joining': 11286, 'treacherous': 11287, 'summed': 11288, 'bath': 11289, 'greta': 11290, 'idealized': 11291, 'lesbianism': 11292, 'portraits': 11293, 'risen': 11294, 'blossoming': 11295, 'rhapsody': 11296, 'rdos': 11297, 'blasting': 11298, 'gardos': 11299, 'tucked': 11300, 'sacrifices': 11301, 'grit': 11302, 'minnesota': 11303, 'nemesis': 11304, 'molded': 11305, 'manning': 11306, 'kellogg': 11307, 'trachtenberg': 11308, 'uncharismatic': 11309, 'bueller': 11310, 'bradford': 11311, 'unsubtle': 11312, 'thrax': 11313, 'tips': 11314, 'cells': 11315, 'incorporate': 11316, 'longstreet': 11317, 'practices': 11318, 'slapping': 11319, 'ahem': 11320, 'scar': 11321, 'silliest': 11322, 'gimmicky': 11323, 'geri': 11324, 'plotlines': 11325, 'capped': 11326, 'bouncy': 11327, 'dispenses': 11328, 'personas': 11329, 'spices': 11330, 'mirrors': 11331, 'derring': 11332, 'storylines': 11333, 'enterprise': 11334, 'sorely': 11335, 'mayfield': 11336, 'ulfc': 11337, 'swoon': 11338, 'garb': 11339, 'netpast': 11340, 'epinions': 11341, 'elerad': 11342, 'beachem': 11343, 'profiles': 11344, 'scathing': 11345, 'democratic': 11346, 'feeds': 11347, 'senate': 11348, 'elections': 11349, 'rarity': 11350, 'sensational': 11351, 'pikser': 11352, 'reds': 11353, 'structural': 11354, 'scrutiny': 11355, 'identified': 11356, 'sears': 11357, 'pressures': 11358, 'nixon': 11359, 'fourteen': 11360, 'chaser': 11361, 'outlet': 11362, 'resonates': 11363, 'undeniably': 11364, 'thematically': 11365, 'guido': 11366, 'persuades': 11367, 'jews': 11368, 'awkwardly': 11369, 'delbert': 11370, 'chayefsky': 11371, 'esther': 11372, 'awaken': 11373, 'catholics': 11374, 'fruitless': 11375, 'objectionable': 11376, 'admitting': 11377, 'blouse': 11378, 'reduce': 11379, 'clips': 11380, 'replica': 11381, 'waterworld': 11382, 'cornball': 11383, 'steerage': 11384, 'dewitt': 11385, 'bukater': 11386, 'deck': 11387, 'stunningly': 11388, 'royce': 11389, 'promote': 11390, 'cheesiness': 11391, 'tolerable': 11392, 'chadpolenz': 11393, 'insert': 11394, 'guests': 11395, 'refugee': 11396, 'davies': 11397, 'menial': 11398, 'reply': 11399, 'nobility': 11400, 'typewriter': 11401, 'jfk': 11402, 'sands': 11403, 'narcissistic': 11404, 'capability': 11405, 'categories': 11406, 'ww': 11407, 'roy': 11408, 'jillian': 11409, 'hawks': 11410, 'melody': 11411, 'zellwegar': 11412, 'anser': 11413, 'apologize': 11414, 'dumbest': 11415, 'sensuality': 11416, 'emphasizing': 11417, 'sorrow': 11418, 'emoting': 11419, 'throwback': 11420, 'sputnik': 11421, 'enhances': 11422, 'log': 11423, 'chats': 11424, 'specifics': 11425, 'magazines': 11426, 'slump': 11427, 'scoop': 11428, 'congratulations': 11429, 'requirements': 11430, 'esteemed': 11431, 'claus': 11432, 'comatose': 11433, 'extraordinarily': 11434, 'concocts': 11435, 'neglected': 11436, 'legally': 11437, 'dares': 11438, 'dork': 11439, 'oral': 11440, 'hurlyburly': 11441, 'snorting': 11442, 'extremes': 11443, 'auditions': 11444, 'bonnie': 11445, 'sedated': 11446, 'coaxed': 11447, 'cody': 11448, 'jenna': 11449, 'needles': 11450, 'ingrained': 11451, 'insincerity': 11452, 'bewilderment': 11453, 'transmission': 11454, 'experts': 11455, 'empath': 11456, 'pillsbury': 11457, 'lens': 11458, 'dunno': 11459, 'dripping': 11460, 'revisit': 11461, 'blending': 11462, 'pissed': 11463, 'subtitle': 11464, 'bearing': 11465, 'strategic': 11466, 'thumping': 11467, 'hee': 11468, 'linebacker': 11469, 'herlihy': 11470, 'surpassed': 11471, 'feral': 11472, 'tuesday': 11473, 'cowboys': 11474, 'contrasted': 11475, 'fraction': 11476, 'devotion': 11477, 'indecent': 11478, 'toll': 11479, 'laying': 11480, 'distancing': 11481, 'dillane': 11482, 'kerry': 11483, 'cottrell': 11484, 'winterbottom': 11485, 'powerless': 11486, 'eschews': 11487, 'montgomery': 11488, 'prospects': 11489, 'heartbreak': 11490, 'milks': 11491, 'beavis': 11492, 'butthead': 11493, 'embedded': 11494, 'immerse': 11495, 'functioning': 11496, 'videodrome': 11497, 'scanners': 11498, 'commercially': 11499, 'aloof': 11500, 'scripting': 11501, 'crafty': 11502, 'tools': 11503, 'confronting': 11504, 'finance': 11505, 'bushes': 11506, 'abducted': 11507, 'removing': 11508, 'excerpt': 11509, 'breakthrough': 11510, 'morsel': 11511, 'toro': 11512, 'consume': 11513, 'pint': 11514, 'chews': 11515, 'fabrications': 11516, 'roam': 11517, 'rapture': 11518, 'slide': 11519, 'seduce': 11520, 'communities': 11521, 'richly': 11522, 'promoted': 11523, 'cheezy': 11524, 'faris': 11525, 'assess': 11526, 'screamed': 11527, 'stalked': 11528, 'grabs': 11529, 'waving': 11530, 'intriguingly': 11531, 'winners': 11532, 'confession': 11533, 'beans': 11534, 'wartime': 11535, 'pelagia': 11536, 'syrupy': 11537, 'channeling': 11538, 'accented': 11539, 'platitudes': 11540, 'define': 11541, 'comeuppance': 11542, 'gilliard': 11543, 'v': 11544, 'ritzy': 11545, 'assisting': 11546, 'excursion': 11547, 'nosed': 11548, 'mastrantonio': 11549, 'civilian': 11550, 'strands': 11551, 'befall': 11552, 'detmer': 11553, 'guenveur': 11554, 'occurrence': 11555, 'topics': 11556, 'premonition': 11557, 'investigators': 11558, 'manners': 11559, 'granddaddy': 11560, 'reaper': 11561, 'conflicting': 11562, 'uncaring': 11563, 'frighten': 11564, 'haze': 11565, 'cafeteria': 11566, 'sissy': 11567, 'spacek': 11568, 'ladder': 11569, 'acrobatics': 11570, 'hyena': 11571, 'kei': 11572, 'ying': 11573, 'thrash': 11574, 'tasks': 11575, 'ballet': 11576, 'likewise': 11577, 'hilarity': 11578, 'whoa': 11579, 'vhs': 11580, 'crane': 11581, 'shaolin': 11582, 'folklore': 11583, 'manual': 11584, 'warped': 11585, 'mangled': 11586, 'sweater': 11587, 'frigid': 11588, 'findings': 11589, 'lays': 11590, 'reb': 11591, 'articles': 11592, 'attuned': 11593, 'likeability': 11594, 'outrageously': 11595, 'dances': 11596, 'wolves': 11597, 'cowgirl': 11598, 'gung': 11599, 'zooms': 11600, 'perkins': 11601, 'engulfed': 11602, 'hoods': 11603, 'convicts': 11604, 'suzy': 11605, 'amis': 11606, 'flings': 11607, 'faint': 11608, 'sitcoms': 11609, 'rivalry': 11610, 'torches': 11611, 'renewed': 11612, 'hosted': 11613, 'nite': 11614, 'marsha': 11615, 'chains': 11616, 'rightly': 11617, 'hernandez': 11618, 'herman': 11619, 'blasted': 11620, 'cautionary': 11621, 'op': 11622, 'fawning': 11623, 'avant': 11624, 'sterile': 11625, 'sadomasochism': 11626, 'crawls': 11627, 'ensued': 11628, 'engineers': 11629, 'gadgetry': 11630, 'llewelyn': 11631, 'samantha': 11632, 'obscure': 11633, 'pony': 11634, 'banker': 11635, 'embezzlement': 11636, 'vivica': 11637, 'collaborators': 11638, 'evaluation': 11639, 'horde': 11640, 'promoting': 11641, 'bummer': 11642, 'tan': 11643, 'fairbanks': 11644, 'wreaking': 11645, 'theology': 11646, 'primal': 11647, 'liberty': 11648, 'burly': 11649, 'distanced': 11650, 'audacious': 11651, 'gaghan': 11652, 'unfold': 11653, 'forged': 11654, 'ordering': 11655, 'civilians': 11656, 'ethics': 11657, 'policies': 11658, 'paychecks': 11659, 'proclaim': 11660, 'creeps': 11661, 'valet': 11662, 'prick': 11663, 'erik': 11664, 'palladino': 11665, 'noseworthy': 11666, 'struggled': 11667, 'technologically': 11668, 'arachnophobia': 11669, 'churn': 11670, 'balloon': 11671, 'utmost': 11672, 'bewildering': 11673, 'underplayed': 11674, 'littles': 11675, 'perception': 11676, 'mustache': 11677, 'bout': 11678, 'poof': 11679, 'loeb': 11680, 'showcased': 11681, 'toback': 11682, 'prevented': 11683, 'messed': 11684, 'seizes': 11685, 'dee': 11686, 'extends': 11687, 'skeet': 11688, 'ulrich': 11689, 'distinct': 11690, 'tacky': 11691, 'brit': 11692, 'yanni': 11693, 'gogolack': 11694, 'amiss': 11695, 'hybrid': 11696, 'mykelti': 11697, 'cribbing': 11698, 'horrified': 11699, 'audition': 11700, 'retrospect': 11701, 'chariot': 11702, 'talentless': 11703, 'stowe': 11704, 'pour': 11705, 'resentment': 11706, 'whomever': 11707, 'undermined': 11708, 'judgments': 11709, 'unto': 11710, 'umbilical': 11711, 'das': 11712, 'anguish': 11713, 'lodging': 11714, 'nipples': 11715, 'tortured': 11716, 'orbiting': 11717, 'cohesive': 11718, 'identifiable': 11719, 'raving': 11720, 'sensible': 11721, 'burden': 11722, 'costing': 11723, 'gala': 11724, 'oversized': 11725, 'bigelow': 11726, 'indecipherable': 11727, 'tinkering': 11728, 'shreds': 11729, 'summoning': 11730, 'mediums': 11731, 'recieved': 11732, 'documents': 11733, 'intimately': 11734, 'earnestness': 11735, 'unforced': 11736, 'blurs': 11737, 'tina': 11738, 'fundamentalists': 11739, 'loosing': 11740, 'looses': 11741, 'ethnic': 11742, 'identifying': 11743, 'confirm': 11744, 'assert': 11745, 'crock': 11746, 'stud': 11747, 'burger': 11748, 'amnesia': 11749, 'traumatic': 11750, 'translating': 11751, 'wynn': 11752, 'minion': 11753, 'manipulates': 11754, 'rowan': 11755, 'chapman': 11756, 'breckin': 11757, 'breckman': 11758, 'pear': 11759, 'squirrel': 11760, 'cow': 11761, 'segues': 11762, 'hitler': 11763, 'abrahams': 11764, 'schwartz': 11765, 'mchugh': 11766, 'walters': 11767, 'ute': 11768, 'motif': 11769, 'videocassette': 11770, 'dvds': 11771, 'smack': 11772, 'components': 11773, 'manned': 11774, 'transmit': 11775, 'ohlmyer': 11776, 'reflection': 11777, 'adage': 11778, 'connecticut': 11779, 'sigourney': 11780, 'continuously': 11781, 'lures': 11782, 'buttoned': 11783, 'boyfriends': 11784, 'delacroix': 11785, 'blackface': 11786, 'nigga': 11787, 'comically': 11788, 'visionary': 11789, 'nailed': 11790, 'gladly': 11791, 'cork': 11792, 'conceptually': 11793, 'mourning': 11794, 'suitcase': 11795, 'tact': 11796, 'ch': 11797, 'exposing': 11798, 'patti': 11799, 'lupone': 11800, 'mandy': 11801, 'rko': 11802, 'pressman': 11803, 'regarded': 11804, 'mist': 11805, 'blazing': 11806, 'climbing': 11807, 'helicopters': 11808, 'smiley': 11809, 'jiro': 11810, 'idiocy': 11811, 'ridiculousness': 11812, 'amiable': 11813, 'kidnapper': 11814, 'gunfights': 11815, 'masturbation': 11816, 'overdue': 11817, 'stuttering': 11818, 'pothead': 11819, 'sisco': 11820, 'manhunt': 11821, 'bells': 11822, 'smoothes': 11823, 'biopic': 11824, 'bricks': 11825, 'possessions': 11826, 'seamstress': 11827, 'devastated': 11828, 'traditions': 11829, 'agonizing': 11830, 'heartstrings': 11831, 'huston': 11832, 'fighters': 11833, 'dill': 11834, 'coolness': 11835, 'inherently': 11836, 'rex': 11837, 'carnival': 11838, 'scaring': 11839, 'variations': 11840, 'gwen': 11841, 'scandal': 11842, 'tomas': 11843, 'tabio': 11844, 'mirtha': 11845, 'georgina': 11846, 'titon': 11847, 'tee': 11848, 'happenings': 11849, 'economics': 11850, 'burial': 11851, 'fraught': 11852, 'sellers': 11853, 'bureaucrat': 11854, 'tolerance': 11855, 'cubans': 11856, 'ooze': 11857, 'gillian': 11858, 'checks': 11859, 'antarctica': 11860, 'unsympathetic': 11861, 'lenders': 11862, 'distressed': 11863, 'celia': 11864, 'imrie': 11865, 'predicaments': 11866, 'cursed': 11867, 'ringing': 11868, 'mir': 11869, 'wiped': 11870, 'recycling': 11871, 'studi': 11872, 'waits': 11873, 'superheroes': 11874, 'boatload': 11875, 'swings': 11876, 'killings': 11877, 'hallmark': 11878, 'looney': 11879, 'sloppiness': 11880, 'modeling': 11881, 'falsehood': 11882, 'contributed': 11883, 'fee': 11884, 'stun': 11885, 'submission': 11886, 'rigged': 11887, 'crumbling': 11888, 'jamaican': 11889, 'quips': 11890, 'cheaper': 11891, 'stepping': 11892, 'stacey': 11893, 'sher': 11894, 'schiff': 11895, 'dictionary': 11896, 'ambition': 11897, 'shapiro': 11898, 'characteristics': 11899, 'clifton': 11900, 'professionally': 11901, 'prophecy': 11902, 'gio': 11903, 'ideals': 11904, 'masterpieces': 11905, 'homoerotic': 11906, 'adore': 11907, 'elie': 11908, 'apparatus': 11909, 'armies': 11910, 'comrades': 11911, 'declaring': 11912, 'intros': 11913, 'shun': 11914, 'wah': 11915, 'metropolis': 11916, 'bing': 11917, 'integrate': 11918, 'domineering': 11919, 'elder': 11920, 'eldest': 11921, 'fulfillment': 11922, 'myriad': 11923, 'valentine': 11924, 'lacklustre': 11925, 'warranted': 11926, 'engines': 11927, 'sections': 11928, 'zoom': 11929, 'mara': 11930, 'universes': 11931, 'dodge': 11932, 'spells': 11933, 'obsolete': 11934, 'exploiting': 11935, 'submerged': 11936, 'choked': 11937, 'pare': 11938, 'separating': 11939, 'higgins': 11940, 'diverting': 11941, 'phoebe': 11942, 'lazarus': 11943, 'trotting': 11944, 'belonged': 11945, 'devout': 11946, 'posessed': 11947, 'compound': 11948, 'readily': 11949, 'winding': 11950, 'descent': 11951, 'dreaming': 11952, 'jury': 11953, 'innuendo': 11954, 'stockard': 11955, 'dinah': 11956, 'reminding': 11957, 'quieter': 11958, 'blossoms': 11959, 'effectiveness': 11960, 'weiss': 11961, 'detour': 11962, 'cod': 11963, 'occupied': 11964, 'climbs': 11965, 'numbingly': 11966, 'whirry': 11967, 'despise': 11968, 'sporadic': 11969, 'brainer': 11970, 'dino': 11971, 'amicable': 11972, 'inanimate': 11973, 'bathed': 11974, 'nauseating': 11975, 'latex': 11976, 'controls': 11977, 'comfortably': 11978, 'groomed': 11979, 'keeslar': 11980, 'willed': 11981, 'rituals': 11982, 'toho': 11983, 'gojira': 11984, 'tokyo': 11985, 'burr': 11986, 'remade': 11987, 'tatopoulos': 11988, 'pitillo': 11989, 'clout': 11990, 'birdcage': 11991, 'impersonators': 11992, 'decreasing': 11993, 'disprove': 11994, 'preaching': 11995, 'overt': 11996, 'resents': 11997, 'lineup': 11998, 'accomplice': 11999, 'linger': 12000, 'jordanna': 12001, 'zeke': 12002, 'quitting': 12003, 'culturally': 12004, 'polar': 12005, 'sinbad': 12006, 'cereal': 12007, 'cookies': 12008, 'delay': 12009, 'dependency': 12010, 'wares': 12011, 'goofiness': 12012, 'file': 12013, 'adept': 12014, 'mode': 12015, 'oedekerk': 12016, 'kimball': 12017, 'hoax': 12018, 'cola': 12019, 'restaraunt': 12020, 'entranced': 12021, 'vanilla': 12022, 'classy': 12023, 'rancho': 12024, 'carne': 12025, 'perpetual': 12026, 'recruit': 12027, 'cribbed': 12028, 'leadership': 12029, 'cease': 12030, 'underwear': 12031, 'sport': 12032, 'abused': 12033, 'townspeople': 12034, 'suspiciously': 12035, 'influences': 12036, 'crux': 12037, 'ntsb': 12038, 'bosses': 12039, 'vann': 12040, 'stiles': 12041, 'kaaya': 12042, 'corp': 12043, 'desi': 12044, 'villainy': 12045, 'wheels': 12046, 'showers': 12047, 'defensive': 12048, 'irrational': 12049, 'trainer': 12050, 'consultant': 12051, 'xander': 12052, 'trauma': 12053, 'dario': 12054, 'headphones': 12055, 'berlin': 12056, 'professes': 12057, 'stepfather': 12058, 'skepticism': 12059, 'selection': 12060, 'participation': 12061, 'ideology': 12062, 'imelda': 12063, 'staunton': 12064, 'benjamin': 12065, 'noun': 12066, 'webster': 12067, 'plucky': 12068, 'cackling': 12069, 'hitchcockian': 12070, 'incongruity': 12071, 'parodying': 12072, 'conversely': 12073, 'trading': 12074, 'attentive': 12075, 'paraphrase': 12076, 'sweetheart': 12077, 'kinetic': 12078, 'tonight': 12079, 'dominguez': 12080, 'trask': 12081, 'mayer': 12082, 'clamoring': 12083, 'plush': 12084, 'kouf': 12085, 'pitching': 12086, 'mooney': 12087, 'yearbook': 12088, 'hierarchy': 12089, 'nair': 12090, 'dubey': 12091, 'decoration': 12092, 'looters': 12093, 'raining': 12094, 'scarier': 12095, 'brooding': 12096, 'sadler': 12097, 'phantoms': 12098, 'inserted': 12099, 'timid': 12100, 'hallways': 12101, 'wigger': 12102, 'keg': 12103, 'epiphany': 12104, 'heightens': 12105, 'problematic': 12106, 'subversive': 12107, 'seller': 12108, 'shocks': 12109, 'denouement': 12110, 'sayles': 12111, 'genieveve': 12112, 'choses': 12113, 'pics': 12114, 'cheer': 12115, 'snively': 12116, 'contracts': 12117, 'yeller': 12118, 'quicker': 12119, 'newspapers': 12120, 'forecast': 12121, 'gullette': 12122, 'eccentricity': 12123, 'phobia': 12124, 'repetitiveness': 12125, 'dizzying': 12126, 'emphasized': 12127, 'invaluable': 12128, 'kerchak': 12129, 'burroughs': 12130, 'noticing': 12131, 'hawthorne': 12132, 'capsules': 12133, 'leisure': 12134, 'glove': 12135, 'fiendish': 12136, 'robo': 12137, 'schrager': 12138, 'vineyard': 12139, 'purports': 12140, 'smartly': 12141, 'evolve': 12142, 'ranking': 12143, 'ne': 12144, 'disconcerting': 12145, 'bush': 12146, 'batters': 12147, 'divide': 12148, 'delaney': 12149, 'shuttle': 12150, 'capitalize': 12151, 'flik': 12152, 'rehashed': 12153, 'attacking': 12154, 'intersect': 12155, 'tying': 12156, 'renny': 12157, 'uniquely': 12158, 'cutthroat': 12159, 'comedians': 12160, 'nonexistent': 12161, 'awaited': 12162, 'outdid': 12163, 'whispers': 12164, 'supported': 12165, 'rambo': 12166, 'addressed': 12167, 'collage': 12168, 'bloodless': 12169, 'legacy': 12170, 'deux': 12171, 'vengo': 12172, 'cacao': 12173, 'evokes': 12174, 'respectfully': 12175, 'uncontrollable': 12176, 'giggles': 12177, 'crosby': 12178, 'envy': 12179, 'fade': 12180, 'receptionist': 12181, 'kara': 12182, 'inauspicious': 12183, 'smashed': 12184, 'riddled': 12185, 'immersing': 12186, 'lecter': 12187, 'jolts': 12188, 'morons': 12189, 'stealer': 12190, 'overacts': 12191, 'kasdan': 12192, 'joaquin': 12193, 'heald': 12194, 'interacting': 12195, 'employees': 12196, 'spotting': 12197, 'eloquent': 12198, 'downstairs': 12199, 'loomis': 12200, 'spawned': 12201, 'imitators': 12202, 'simpleton': 12203, 'efficient': 12204, 'dumas': 12205, 'coordinator': 12206, 'overthrow': 12207, 'aramis': 12208, 'athos': 12209, 'porthos': 12210, 'wacko': 12211, 'macleod': 12212, 'incestuous': 12213, 'autumn': 12214, 'drawings': 12215, 'whew': 12216, 'wchamber': 12217, 'billchambers': 12218, 'recounting': 12219, 'boldly': 12220, 'rows': 12221, 'interference': 12222, 'nab': 12223, 'gunplay': 12224, 'flourishes': 12225, 'regularly': 12226, 'oddest': 12227, 'nothingness': 12228, 'ranting': 12229, 'guinness': 12230, 'blunders': 12231, 'pawtucket': 12232, 'dunphy': 12233, 'kidnaps': 12234, 'slope': 12235, 'resonance': 12236, 'cluttered': 12237, 'hyperactive': 12238, 'spall': 12239, 'unassuming': 12240, 'ripley': 12241, 'seduces': 12242, 'newsletter': 12243, 'evolved': 12244, 'elicited': 12245, 'mixture': 12246, 'outrageousness': 12247, 'isaacman': 12248, 'eliciting': 12249, 'propelled': 12250, 'candle': 12251, 'copious': 12252, 'bathing': 12253, 'mercenaries': 12254, 'undead': 12255, 'relying': 12256, 'earns': 12257, 'dinosaurs': 12258, 'breeds': 12259, 'instructional': 12260, 'jerks': 12261, 'imitating': 12262, 'maintained': 12263, 'maneuvers': 12264, 'hysteria': 12265, 'baring': 12266, 'liman': 12267, 'gloriously': 12268, 'infidelity': 12269, 'uhry': 12270, 'atlanta': 12271, 'boolie': 12272, 'feisty': 12273, 'pond': 12274, 'flirt': 12275, 'delicate': 12276, 'dilemmas': 12277, 'stripping': 12278, 'pained': 12279, 'tuna': 12280, 'mcdermott': 12281, 'bid': 12282, 'widely': 12283, 'epstein': 12284, 'caroline': 12285, 'doubts': 12286, 'terrain': 12287, 'unveiled': 12288, 'ragtag': 12289, 'mccabe': 12290, 'videotaping': 12291, 'unrelentingly': 12292, 'boorman': 12293, 'flips': 12294, 'purposefully': 12295, 'collects': 12296, 'lupin': 12297, 'hospitalized': 12298, 'buddhism': 12299, 'greene': 12300, 'seventh': 12301, 'unbearably': 12302, 'undermines': 12303, 'palance': 12304, 'luxury': 12305, 'advisor': 12306, 'bets': 12307, 'shelves': 12308, 'coufax': 12309, 'billboard': 12310, 'betray': 12311, 'militia': 12312, 'crusader': 12313, 'romero': 12314, 'jovial': 12315, 'announced': 12316, 'christof': 12317, 'whitey': 12318, 'punish': 12319, 'documenting': 12320, 'sulkis': 12321, 'desolation': 12322, 'jericho': 12323, 'emotive': 12324, 'wrapping': 12325, 'earthworms': 12326, 'printed': 12327, 'thumbs': 12328, 'bee': 12329, 'sonia': 12330, 'braga': 12331, 'polly': 12332, 'mop': 12333, 'thrives': 12334, 'trimmings': 12335, 'avid': 12336, 'hispanic': 12337, 'criticisms': 12338, 'employing': 12339, 'powerfully': 12340, 'brundage': 12341, 'input': 12342, 'mommy': 12343, 'pouty': 12344, 'doogie': 12345, 'thinly': 12346, 'eno': 12347, 'plunge': 12348, 'pimp': 12349, 'luxurious': 12350, 'unsinkable': 12351, 'clancy': 12352, 'psychopathic': 12353, 'karla': 12354, 'cargo': 12355, 'djimon': 12356, 'tappan': 12357, 'urging': 12358, 'quincy': 12359, 'abril': 12360, 'cheats': 12361, 'marijo': 12362, 'afterthought': 12363, 'wile': 12364, 'boyd': 12365, 'explorers': 12366, 'eagle': 12367, 'lowell': 12368, 'yost': 12369, 'rotating': 12370, 'rips': 12371, 'zemeckis': 12372, 'spokesman': 12373, 'ornery': 12374, 'ashton': 12375, 'kutcher': 12376, 'annabel': 12377, 'purgatory': 12378, 'intervention': 12379, 'charts': 12380, 'replacing': 12381, 'county': 12382, 'git': 12383, 'nichols': 12384, 'spurgeon': 12385, 'indoctrinated': 12386, 'settlers': 12387, 'nipple': 12388, 'dastardly': 12389, 'voyeurism': 12390, 'borderline': 12391, 'compulsory': 12392, 'monologues': 12393, 'biederman': 12394, 'flipper': 12395, 'annoyance': 12396, 'octane': 12397, 'pussycat': 12398, 'supervision': 12399, 'restricted': 12400, 'arcade': 12401, 'tensions': 12402, 'outlaws': 12403, 'outlaw': 12404, 'yulin': 12405, 'payroll': 12406, 'equations': 12407, 'cds': 12408, 'sheesh': 12409, 'tread': 12410, 'careless': 12411, 'heartbreakers': 12412, 'irs': 12413, 'unsophisticated': 12414, 'poise': 12415, 'percentage': 12416, 'plummets': 12417, 'lethargic': 12418, 'evils': 12419, 'conclude': 12420, 'transforms': 12421, 'duckling': 12422, 'stieger': 12423, 'blanchett': 12424, 'falzone': 12425, 'disappoints': 12426, 'obradors': 12427, 'visas': 12428, 'laszlo': 12429, 'ilsa': 12430, 'brock': 12431, 'wavering': 12432, 'legged': 12433, 'sentenced': 12434, 'hendrix': 12435, 'interlude': 12436, 'wholesale': 12437, 'levin': 12438, 'unethical': 12439, 'accomplices': 12440, 'cora': 12441, 'scroll': 12442, 'snack': 12443, 'plug': 12444, 'twentyfourseven': 12445, 'aired': 12446, 'vaughn': 12447, 'livingston': 12448, 'unwelcome': 12449, 'simplicity': 12450, 'salonga': 12451, 'lohan': 12452, 'hayley': 12453, 'mills': 12454, 'deadline': 12455, 'adrenalin': 12456, 'acknowledging': 12457, 'duguay': 12458, 'jumble': 12459, 'frenetic': 12460, 'lite': 12461, 'compensation': 12462, 'desaster': 12463, 'colliding': 12464, 'nagging': 12465, 'worries': 12466, 'meteorite': 12467, 'flaming': 12468, 'arthurian': 12469, 'judicial': 12470, 'racy': 12471, 'aretha': 12472, 'striving': 12473, 'disliking': 12474, 'postmodern': 12475, 'shale': 12476, 'pastels': 12477, 'immoral': 12478, 'mosaffa': 12479, 'jamileh': 12480, 'sheikhi': 12481, 'necklace': 12482, 'spiteful': 12483, 'sizes': 12484, 'ferguson': 12485, 'snaps': 12486, 'schlichtmann': 12487, 'impeccably': 12488, 'woburn': 12489, 'giants': 12490, 'associates': 12491, 'discreet': 12492, 'weave': 12493, 'lowry': 12494, 'fischer': 12495, 'anwar': 12496, 'rabid': 12497, 'brody': 12498, 'dearly': 12499, 'leeanne': 12500, 'greasy': 12501, 'branaugh': 12502, 'jalla': 12503, 'yasmin': 12504, 'burn': 12505, 'farnsworth': 12506, 'shea': 12507, 'robinsons': 12508, 'criticized': 12509, 'paradoxically': 12510, 'footnote': 12511, 'grieving': 12512, 'prosecuting': 12513, 'illegitimate': 12514, 'clapton': 12515, 'abba': 12516, 'conan': 12517, 'sobocinski': 12518, 'krzysztof': 12519, 'threw': 12520, 'chivo': 12521, 'squalor': 12522, 'plastered': 12523, 'leland': 12524, 'rhino': 12525, 'swells': 12526, 'brigette': 12527, 'mcferran': 12528, 'simulation': 12529, 'templar': 12530, 'cronin': 12531, 'kelman': 12532, 'margie': 12533, 'perrineau': 12534, 'dime': 12535, 'macpherson': 12536, 'tamahori': 12537, 'predatory': 12538, 'boogieman': 12539, 'piggy': 12540, 'fozzie': 12541, 'sleezo': 12542, 'breathless': 12543, 'silkwood': 12544, 'arlene': 12545, 'cockburn': 12546, 'voe': 12547, 'thurgood': 12548, 'rya': 12549, 'kihlstedt': 12550, 'leelee': 12551, 'sobieski': 12552, 'eldard': 12553, 'crippled': 12554, 'steinfeld': 12555, 'manipulations': 12556, 'malibu': 12557, 'detractors': 12558, 'pronged': 12559, 'satellites': 12560, 'towns': 12561, 'abhorrent': 12562, 'technological': 12563, 'sealed': 12564, 'consciousness': 12565, 'vile': 12566, 'audible': 12567, 'mirren': 12568, 'moretti': 12569, 'frail': 12570, 'commoner': 12571, 'patterson': 12572, 'dreamy': 12573, 'becky': 12574, 'rittenhouse': 12575, 'lovett': 12576, 'receipts': 12577, 'lien': 12578, 'alston': 12579, 'plowright': 12580, 'normalcy': 12581, 'cates': 12582, 'yaz': 12583, 'keeble': 12584, 'philippe': 12585, 'locklear': 12586, 'dzundza': 12587, 'pals': 12588, 'songcatcher': 12589, 'tibetan': 12590, 'gap': 12591, 'mui': 12592, 'ti': 12593, 'amish': 12594, 'ivf': 12595, 'wando': 12596, 'buh': 12597, 'doubtful': 12598, 'rolf': 12599, 'sacrificing': 12600, 'larroquette': 12601, 'conspirator': 12602, 'jeb': 12603, 'chromium': 12604, 'dohlen': 12605, 'nationwide': 12606, 'interface': 12607, 'negroponte': 12608, 'thirties': 12609, 'norad': 12610, 'modem': 12611, 'macintosh': 12612, 'dutton': 12613, 'zeik': 12614, 'gatewood': 12615, 'tarsem': 12616, 'marcelo': 12617, 'eyro': 12618, 'neyman': 12619, 'nielson': 12620, 'franciosa': 12621, 'moses': 12622, 'pharaoh': 12623, 'mutates': 12624, 'newswoman': 12625, 'fitzpatrick': 12626, 'giancarlo': 12627, 'toughs': 12628, 'americanized': 12629, 'minimize': 12630, 'negligible': 12631, 'arbitrary': 12632, 'cornerhouse': 12633, 'journals': 12634, 'structures': 12635, 'individually': 12636, 'harmful': 12637, 'impose': 12638, 'coldness': 12639, 'prevail': 12640, 'analyse': 12641, 'profits': 12642, 'incidental': 12643, 'citing': 12644, 'narcissism': 12645, 'valium': 12646, 'aloud': 12647, 'privileged': 12648, 'cuz': 12649, 'twitches': 12650, 'protesting': 12651, 'nihilistic': 12652, 'hoodlum': 12653, 'wrongly': 12654, 'investigative': 12655, 'conquer': 12656, 'reappear': 12657, 'besson': 12658, 'hott': 12659, 'definate': 12660, 'disquieting': 12661, 'pavement': 12662, 'schrader': 12663, 'thunder': 12664, 'loners': 12665, 'trajectory': 12666, 'motivated': 12667, 'raves': 12668, 'thorough': 12669, 'efficiency': 12670, 'standby': 12671, 'marooned': 12672, 'jeffries': 12673, 'handedly': 12674, 'protecting': 12675, 'sleepwalk': 12676, 'glengarry': 12677, 'pallid': 12678, 'devlin': 12679, 'russel': 12680, 'jaye': 12681, 'ra': 12682, 'asthma': 12683, 'premier': 12684, 'bochner': 12685, 'thesis': 12686, 'coveted': 12687, 'culprit': 12688, 'competitors': 12689, 'allergy': 12690, 'sylvie': 12691, 'lugubrious': 12692, 'slickers': 12693, 'dwarfs': 12694, 'narcotics': 12695, 'bend': 12696, 'dang': 12697, 'shaft': 12698, 'glave': 12699, 'uncoordinated': 12700, 'bureau': 12701, 'moreso': 12702, 'klutzy': 12703, 'contemptible': 12704, 'bolster': 12705, 'folly': 12706, 'mounting': 12707, 'advise': 12708, 'swerve': 12709, 'moira': 12710, 'jeroen': 12711, 'krabb': 12712, 'cultured': 12713, 'livelier': 12714, 'thrived': 12715, 'bourgeoisie': 12716, 'lifestyles': 12717, 'merriment': 12718, 'aristocratic': 12719, 'ravishing': 12720, 'privilege': 12721, 'rulers': 12722, 'courtesans': 12723, 'rejecting': 12724, 'adversarial': 12725, 'obtaining': 12726, 'treasured': 12727, 'improbably': 12728, 'overdosing': 12729, 'luscious': 12730, 'bazelli': 12731, 'kalifornia': 12732, 'panoramic': 12733, 'gabriella': 12734, 'pescucci': 12735, 'transgressions': 12736, 'soak': 12737, 'pleading': 12738, 'urinate': 12739, 'kidnapers': 12740, 'subjective': 12741, 'respectful': 12742, 'condescension': 12743, 'greaser': 12744, 'vaginal': 12745, 'tagalong': 12746, 'listeners': 12747, 'artforms': 12748, 'decreased': 12749, 'womanizing': 12750, 'digest': 12751, 'sacks': 12752, 'stressed': 12753, 'appointment': 12754, 'soothing': 12755, 'masseur': 12756, 'repair': 12757, 'hesitance': 12758, 'eventful': 12759, 'debuting': 12760, 'multifaceted': 12761, 'swept': 12762, 'kelley': 12763, 'clutching': 12764, 'stout': 12765, 'codgers': 12766, 'graced': 12767, 'petrie': 12768, 'ayres': 12769, 'daly': 12770, 'pendleton': 12771, 'competitive': 12772, 'menstrual': 12773, 'starkly': 12774, 'analyst': 12775, 'cutty': 12776, 'engagingly': 12777, 'insatiable': 12778, 'competitor': 12779, 'androgynous': 12780, 'smarts': 12781, 'pressing': 12782, 'shatters': 12783, 'perpetuates': 12784, 'mend': 12785, 'prejudice': 12786, 'bullfighting': 12787, 'unleashes': 12788, 'hooking': 12789, 'forbes': 12790, 'bullfighter': 12791, 'ripoff': 12792, 'comprehensible': 12793, 'kristel': 12794, 'stricken': 12795, 'kinship': 12796, 'nearer': 12797, 'babbling': 12798, 'alienates': 12799, 'btinternet': 12800, 'wilcockmovie': 12801, 'wmp': 12802, 'makelist': 12803, 'shaves': 12804, 'outlines': 12805, 'faintest': 12806, 'conceits': 12807, 'coordinated': 12808, 'scrubbing': 12809, 'glaringly': 12810, 'hopping': 12811, 'ammo': 12812, 'boner': 12813, 'competence': 12814, 'nivola': 12815, 'standoff': 12816, 'cushions': 12817, 'thoughtless': 12818, 'complexities': 12819, 'thoughtfully': 12820, 'torturous': 12821, 'kiyoshi': 12822, 'hanged': 12823, 'viruses': 12824, 'disturbances': 12825, 'piled': 12826, 'obscured': 12827, 'metaphysical': 12828, 'sputtering': 12829, 'engenders': 12830, 'stewards': 12831, 'unending': 12832, 'sneeze': 12833, 'darting': 12834, 'staterooms': 12835, 'chapters': 12836, 'placards': 12837, 'dailies': 12838, 'cloudy': 12839, 'chests': 12840, 'innocents': 12841, 'abroad': 12842, 'manufacturing': 12843, 'talal': 12844, 'retaliation': 12845, 'nosing': 12846, 'tentative': 12847, 'allegiances': 12848, 'revisiting': 12849, 'wrought': 12850, 'hypothesis': 12851, 'heady': 12852, 'underestimate': 12853, 'spitting': 12854, 'innate': 12855, 'portrayals': 12856, 'scowl': 12857, 'fixed': 12858, 'interfere': 12859, 'integration': 12860, 'naturalness': 12861, 'revell': 12862, 'ethnicity': 12863, 'firepower': 12864, 'verisimilitude': 12865, 'cellular': 12866, 'commented': 12867, 'seldes': 12868, 'rationality': 12869, 'monstrously': 12870, 'veiny': 12871, 'stained': 12872, 'eyeballs': 12873, 'fireplace': 12874, 'extravagant': 12875, 'fledgling': 12876, 'extravaganza': 12877, 'hichock': 12878, 'stem': 12879, 'supremacy': 12880, 'cincinnati': 12881, 'limitations': 12882, 'bumped': 12883, 'sprinkling': 12884, 'entertainingly': 12885, 'truffaut': 12886, 'significance': 12887, 'positioned': 12888, 'instructs': 12889, 'chirping': 12890, 'cleans': 12891, 'dopey': 12892, 'trashiness': 12893, 'nastiness': 12894, 'humiliate': 12895, 'verbally': 12896, 'enlivened': 12897, 'stifled': 12898, 'skipped': 12899, 'restrain': 12900, 'swoons': 12901, 'shalikar': 12902, 'grammar': 12903, 'reported': 12904, 'zapped': 12905, 'discombobulated': 12906, 'flexible': 12907, 'suburb': 12908, 'diapers': 12909, 'prehistoric': 12910, 'spectators': 12911, 'redhead': 12912, 'ollie': 12913, 'organ': 12914, 'stabbed': 12915, 'dialouge': 12916, 'spooked': 12917, 'armstrong': 12918, 'ethereal': 12919, 'plimpton': 12920, 'brew': 12921, 'mit': 12922, 'mathematics': 12923, 'honorable': 12924, 'historian': 12925, 'rightfully': 12926, 'overwritten': 12927, 'overstuffed': 12928, 'nance': 12929, 'lawns': 12930, 'murderers': 12931, 'assumptions': 12932, 'spontaneous': 12933, 'harshness': 12934, 'congratulate': 12935, 'artisan': 12936, 'chete': 12937, 'lera': 12938, 'wrecking': 12939, 'subconscious': 12940, 'distributors': 12941, 'reunite': 12942, 'kewl': 12943, 'greenlight': 12944, 'upstages': 12945, 'ricardo': 12946, 'sniffing': 12947, 'eisenberg': 12948, 'trini': 12949, 'alvarado': 12950, 'apprehended': 12951, 'strutting': 12952, 'miniature': 12953, 'doubles': 12954, 'tykes': 12955, 'lassie': 12956, 'moms': 12957, 'sesame': 12958, 'uncommon': 12959, 'barges': 12960, 'tempered': 12961, 'deem': 12962, 'anxious': 12963, 'bonds': 12964, 'coaches': 12965, 'ole': 12966, 'prosky': 12967, 'hollander': 12968, 'intern': 12969, 'exotica': 12970, 'blossom': 12971, 'malinger': 12972, 'jonah': 12973, 'textbook': 12974, 'greased': 12975, 'laptop': 12976, 'extremist': 12977, 'principles': 12978, 'sneer': 12979, 'mckenney': 12980, 'costello': 12981, 'upholding': 12982, 'teary': 12983, 'assante': 12984, 'breuer': 12985, 'hugging': 12986, 'mumbled': 12987, 'coverage': 12988, 'dramatization': 12989, 'mishap': 12990, 'dwindle': 12991, 'camaraderie': 12992, 'nicotine': 12993, 'antsy': 12994, 'circulating': 12995, 'tediously': 12996, 'thrusts': 12997, 'butabis': 12998, 'grieco': 12999, 'conspicuously': 13000, 'theirs': 13001, 'clubbing': 13002, 'dimwitted': 13003, 'obeys': 13004, 'messiness': 13005, 'atrocity': 13006, 'stench': 13007, 'goer': 13008, 'stinky': 13009, 'swordplay': 13010, 'fiddle': 13011, 'zooming': 13012, 'purposely': 13013, 'accordion': 13014, 'easygoing': 13015, 'squares': 13016, 'silvio': 13017, 'soldini': 13018, 'plumber': 13019, 'novice': 13020, 'weepy': 13021, 'cheery': 13022, 'pump': 13023, 'passports': 13024, 'retrospective': 13025, 'lucio': 13026, 'golly': 13027, 'sergio': 13028, 'frizzi': 13029, 'dunwich': 13030, 'graveyard': 13031, 'crusty': 13032, 'dullness': 13033, 'salvageable': 13034, 'stylist': 13035, 'idiosyncrasies': 13036, 'funded': 13037, 'overlook': 13038, 'disregard': 13039, 'evolving': 13040, 'documentarian': 13041, 'slant': 13042, 'roadside': 13043, 'steer': 13044, 'parfitt': 13045, 'marquess': 13046, 'biographical': 13047, 'dieterle': 13048, 'florence': 13049, 'nightingale': 13050, 'napoleon': 13051, 'faulted': 13052, 'inaccuracies': 13053, 'stevie': 13054, 'acquits': 13055, 'opted': 13056, 'versatile': 13057, 'civilized': 13058, 'gehrig': 13059, 'hurts': 13060, 'flaunts': 13061, 'sportsman': 13062, 'wildean': 13063, 'scandals': 13064, 'latent': 13065, 'taller': 13066, 'helper': 13067, 'wachowski': 13068, 'wachowskis': 13069, 'coover': 13070, 'iago': 13071, 'binge': 13072, 'titillating': 13073, 'fistfight': 13074, 'cassel': 13075, 'adamson': 13076, 'substances': 13077, 'momentous': 13078, 'storybook': 13079, 'pinocchio': 13080, 'storms': 13081, 'announcer': 13082, 'captive': 13083, 'icons': 13084, 'bellows': 13085, 'queue': 13086, 'troubling': 13087, 'betrays': 13088, 'reinforcing': 13089, 'rollicking': 13090, 'junkyard': 13091, 'info': 13092, 'uneventful': 13093, 'segue': 13094, 'cyber': 13095, 'hobo': 13096, 'vancouver': 13097, 'overdrive': 13098, 'razzie': 13099, 'bandaged': 13100, 'modestly': 13101, 'kodak': 13102, 'waikiki': 13103, 'ski': 13104, 'bums': 13105, 'overpopulation': 13106, 'prairie': 13107, 'petey': 13108, 'hennings': 13109, 'prosaic': 13110, 'skateboarders': 13111, 'encased': 13112, 'nickolas': 13113, 'enthusiastically': 13114, 'sewage': 13115, 'reigning': 13116, 'weep': 13117, 'diarrhea': 13118, 'bolstered': 13119, 'asinine': 13120, 'humdrum': 13121, 'undisputed': 13122, 'psyched': 13123, 'rioting': 13124, 'idol': 13125, 'lewd': 13126, 'puerile': 13127, 'fluctuates': 13128, 'tally': 13129, 'fatty': 13130, 'pep': 13131, 'historic': 13132, 'suarez': 13133, 'confusingly': 13134, 'mandell': 13135, 'colorado': 13136, 'babble': 13137, 'herd': 13138, 'deposit': 13139, 'unattended': 13140, 'knox': 13141, 'replayed': 13142, 'insides': 13143, 'chat': 13144, 'impersonal': 13145, 'discount': 13146, 'meter': 13147, 'scooping': 13148, 'collides': 13149, 'snodgress': 13150, 'broadcasts': 13151, 'poolside': 13152, 'slinks': 13153, 'tearfully': 13154, 'oversexed': 13155, 'showmanship': 13156, 'caps': 13157, 'vengeful': 13158, 'erick': 13159, 'zonca': 13160, 'surplus': 13161, 'elodie': 13162, 'mullan': 13163, 'homemade': 13164, 'sewing': 13165, 'charly': 13166, 'theatrically': 13167, 'reintroduced': 13168, 'boardwalk': 13169, 'bra': 13170, 'shells': 13171, 'jodi': 13172, 'wrecked': 13173, 'analogy': 13174, 'interracial': 13175, 'shrine': 13176, 'octopus': 13177, 'tentacles': 13178, 'corn': 13179, 'pads': 13180, 'flounder': 13181, 'muse': 13182, 'bahamas': 13183, 'islands': 13184, 'gym': 13185, 'slicker': 13186, 'freakin': 13187, 'gruesomely': 13188, 'slaughtered': 13189, 'animator': 13190, 'hunch': 13191, 'fizzles': 13192, 'boulevard': 13193, 'xvi': 13194, 'terrace': 13195, 'glistening': 13196, 'tumultuous': 13197, 'sherry': 13198, 'memoirs': 13199, 'headstrong': 13200, 'snobbish': 13201, 'attire': 13202, 'orleans': 13203, 'encountered': 13204, 'tranquil': 13205, 'endures': 13206, 'thuggish': 13207, 'pampered': 13208, 'withstand': 13209, 'upheaval': 13210, 'inaction': 13211, 'literary': 13212, 'passions': 13213, 'mechanism': 13214, 'backdrops': 13215, 'recreating': 13216, 'boulle': 13217, 'gulliver': 13218, 'surmise': 13219, 'homages': 13220, 'drool': 13221, 'abandonment': 13222, 'interplay': 13223, 'screentime': 13224, 'crouching': 13225, 'tiger': 13226, 'posture': 13227, 'karloff': 13228, 'trader': 13229, 'charleton': 13230, 'husbands': 13231, 'jewels': 13232, 'noirish': 13233, 'fluffy': 13234, 'tossing': 13235, 'equality': 13236, 'yum': 13237, 'digress': 13238, 'vibe': 13239, 'thacker': 13240, 'indicating': 13241, 'interviewer': 13242, 'hound': 13243, 'worsened': 13244, 'flops': 13245, 'pleases': 13246, 'warlord': 13247, 'getz': 13248, 'hesitation': 13249, 'deluding': 13250, 'frisky': 13251, 'goggles': 13252, 'unhurried': 13253, 'measured': 13254, 'yuck': 13255, 'drummer': 13256, 'demeaning': 13257, 'entertainments': 13258, 'manipulated': 13259, 'irvin': 13260, 'suprising': 13261, 'hesitate': 13262, 'defied': 13263, 'smirks': 13264, 'journalism': 13265, 'grooms': 13266, 'projecting': 13267, 'fad': 13268, 'veloz': 13269, 'reminisces': 13270, 'rethinking': 13271, 'pronto': 13272, 'cache': 13273, 'absentee': 13274, 'championship': 13275, 'gatins': 13276, 'smothered': 13277, 'whipped': 13278, 'repercussions': 13279, 'pap': 13280, 'annoy': 13281, 'lockhart': 13282, 'flee': 13283, 'packaged': 13284, 'plentiful': 13285, 'wipe': 13286, 'headey': 13287, 'yevgeny': 13288, 'confuse': 13289, 'philandering': 13290, 'scarce': 13291, 'donovan': 13292, 'irresistable': 13293, 'brushed': 13294, 'sang': 13295, 'til': 13296, 'ditties': 13297, 'wanton': 13298, 'furnishings': 13299, 'remi': 13300, 'sinyor': 13301, 'propose': 13302, 'gowns': 13303, 'groans': 13304, 'leaping': 13305, 'pinky': 13306, 'fused': 13307, 'silk': 13308, 'rockwell': 13309, 'delayed': 13310, 'irritation': 13311, 'gramercy': 13312, 'tweaking': 13313, 'invigorate': 13314, 'momentary': 13315, 'dislikable': 13316, 'prolonged': 13317, 'rainy': 13318, 'undying': 13319, 'maxine': 13320, 'wunderkind': 13321, 'undistinguished': 13322, 'variable': 13323, 'portland': 13324, 'referenced': 13325, 'unexplored': 13326, 'appliance': 13327, 'reruns': 13328, 'ineptly': 13329, 'mourn': 13330, 'begged': 13331, 'outings': 13332, 'nathalie': 13333, 'baye': 13334, 'hoo': 13335, 'candidates': 13336, 'professions': 13337, 'hallway': 13338, 'blink': 13339, 'enthralled': 13340, 'nuance': 13341, 'lined': 13342, 'hairy': 13343, 'vividly': 13344, 'overs': 13345, 'naturalistic': 13346, 'tracked': 13347, 'decadence': 13348, 'slimming': 13349, 'practitioner': 13350, 'unofficial': 13351, 'hercules': 13352, 'drum': 13353, 'pleads': 13354, 'summon': 13355, 'descendent': 13356, 'aladdin': 13357, 'introductory': 13358, 'heigh': 13359, 'medieval': 13360, 'donnie': 13361, 'osmond': 13362, 'accompanies': 13363, 'custom': 13364, 'morita': 13365, 'sulu': 13366, 'takei': 13367, 'shaffer': 13368, 'royalty': 13369, 'curses': 13370, 'strauss': 13371, 'wigs': 13372, 'constitutes': 13373, 'differs': 13374, 'chopra': 13375, 'interpreter': 13376, 'bilking': 13377, 'bender': 13378, 'twisty': 13379, 'favorably': 13380, 'rashomon': 13381, 'unsurprisingly': 13382, 'grifters': 13383, 'tier': 13384, 'fleischer': 13385, 'digitally': 13386, 'mono': 13387, 'labyrinth': 13388, 'espionage': 13389, 'wells': 13390, 'quantum': 13391, 'serums': 13392, 'succumb': 13393, 'spiral': 13394, 'enliven': 13395, 'posturing': 13396, 'bankruptcy': 13397, 'turtles': 13398, 'archery': 13399, 'winged': 13400, 'puppetry': 13401, 'jjmhome': 13402, 'lmann': 13403, 'addy': 13404, 'concoctions': 13405, 'cancel': 13406, 'melts': 13407, 'wittiness': 13408, 'clunker': 13409, 'flawlessly': 13410, 'fellatio': 13411, 'attachment': 13412, 'entrenched': 13413, 'konrad': 13414, 'observers': 13415, 'shockwaves': 13416, 'limelight': 13417, 'singularly': 13418, 'indicative': 13419, 'font': 13420, 'affirmation': 13421, 'envision': 13422, 'licking': 13423, 'attained': 13424, 'dole': 13425, 'rejection': 13426, 'riotously': 13427, 'preface': 13428, 'smalltown': 13429, 'ohio': 13430, 'falsely': 13431, 'cici': 13432, 'gayheart': 13433, 'straining': 13434, 'frothing': 13435, 'diatribe': 13436, 'satirized': 13437, 'escalates': 13438, 'render': 13439, 'catatonic': 13440, 'syndicate': 13441, 'delights': 13442, 'transpires': 13443, 'dimly': 13444, 'succumbs': 13445, 'undoing': 13446, 'pates': 13447, 'underlining': 13448, 'drips': 13449, 'treading': 13450, 'evaluating': 13451, 'sixteen': 13452, 'nino': 13453, 'casinos': 13454, 'unimaginable': 13455, 'puzo': 13456, 'tavoularis': 13457, 'accomplishes': 13458, 'miscasting': 13459, 'unemotional': 13460, 'pangs': 13461, 'hagen': 13462, 'vincenzo': 13463, 'superweapon': 13464, 'magnet': 13465, 'blades': 13466, 'demo': 13467, 'moviegoer': 13468, 'scarred': 13469, 'disarmingly': 13470, 'shrieking': 13471, 'kinder': 13472, 'heep': 13473, 'toddler': 13474, 'unlock': 13475, 'efficiently': 13476, 'furiously': 13477, 'captors': 13478, 'deluise': 13479, 'wrench': 13480, 'cement': 13481, 'birdsall': 13482, 'touchingly': 13483, 'satirist': 13484, 'sauce': 13485, 'ucla': 13486, 'stash': 13487, 'battleship': 13488, 'potemkin': 13489, 'blaming': 13490, 'sampling': 13491, 'knuckle': 13492, 'induces': 13493, 'unease': 13494, 'maxim': 13495, 'gleason': 13496, 'preceded': 13497, 'eerily': 13498, 'tours': 13499, 'tickle': 13500, 'aisles': 13501, 'transsexual': 13502, 'fuss': 13503, 'dietl': 13504, 'immune': 13505, 'mafioso': 13506, 'bregman': 13507, 'ingeniously': 13508, 'scanning': 13509, 'burglar': 13510, 'uninvited': 13511, 'nd': 13512, 'valiantly': 13513, 'accustomed': 13514, 'sneaky': 13515, 'paired': 13516, 'moustache': 13517, 'positives': 13518, 'firstly': 13519, 'ogled': 13520, 'smirk': 13521, 'kloves': 13522, 'chabon': 13523, 'pleasurable': 13524, 'spaced': 13525, 'leer': 13526, 'wordfest': 13527, 'gaskells': 13528, 'canine': 13529, 'publication': 13530, 'deceptions': 13531, 'seethes': 13532, 'apathy': 13533, 'complementing': 13534, 'debuted': 13535, 'suspenseless': 13536, 'diplomat': 13537, 'babysit': 13538, 'explosives': 13539, 'motormouthing': 13540, 'professed': 13541, 'stooges': 13542, 'byplay': 13543, 'minimally': 13544, 'criterion': 13545, 'jarrett': 13546, 'promisingly': 13547, 'selves': 13548, 'succinct': 13549, 'biker': 13550, 'wines': 13551, 'tasting': 13552, 'vigorous': 13553, 'obituary': 13554, 'plethora': 13555, 'overabundance': 13556, 'railings': 13557, 'brussels': 13558, 'excursions': 13559, 'dresser': 13560, 'implanted': 13561, 'mole': 13562, 'stoops': 13563, 'baffle': 13564, 'nauseous': 13565, 'freezes': 13566, 'barrels': 13567, 'scars': 13568, 'kickboxing': 13569, 'crates': 13570, 'attanasio': 13571, 'crave': 13572, 'amalgamation': 13573, 'inexcusably': 13574, 'deus': 13575, 'biochemist': 13576, 'astrophysicist': 13577, 'latifa': 13578, 'recognizing': 13579, 'butchered': 13580, 'disallows': 13581, 'participant': 13582, 'plow': 13583, 'consecutive': 13584, 'rubble': 13585, 'keys': 13586, 'puffy': 13587, 'bungee': 13588, 'skies': 13589, 'moons': 13590, 'menaces': 13591, 'reassembled': 13592, 'dropout': 13593, 'fathered': 13594, 'belle': 13595, 'solidifies': 13596, 'pinup': 13597, 'implants': 13598, 'peeking': 13599, 'trodden': 13600, 'kyra': 13601, 'sedgwick': 13602, 'proctologist': 13603, 'pileggi': 13604, 'jaded': 13605, 'transfers': 13606, 'resident': 13607, 'occupying': 13608, 'lords': 13609, 'stinkers': 13610, 'updating': 13611, 'marienthal': 13612, 'assembles': 13613, 'sightings': 13614, 'frasier': 13615, 'integral': 13616, 'ditched': 13617, 'bedtime': 13618, 'hallmarks': 13619, 'rollercoaster': 13620, 'montero': 13621, 'letscher': 13622, 'swipe': 13623, 'slashed': 13624, 'goldeneye': 13625, 'trimmed': 13626, 'peasants': 13627, 'mines': 13628, 'sharif': 13629, 'overworked': 13630, 'warfare': 13631, 'decapitating': 13632, 'icky': 13633, 'draped': 13634, 'herald': 13635, 'shwarzenegger': 13636, 'utopia': 13637, 'existing': 13638, 'abundantly': 13639, 'cynics': 13640, 'inadequacies': 13641, 'czar': 13642, 'chabert': 13643, 'grammer': 13644, 'chorus': 13645, 'impostor': 13646, 'recollection': 13647, 'premature': 13648, 'hauntingly': 13649, 'flaherty': 13650, 'rasputin': 13651, 'cummings': 13652, 'albino': 13653, 'shoehorned': 13654, 'facets': 13655, 'essays': 13656, 'spares': 13657, 'tinseltown': 13658, 'mockery': 13659, 'venting': 13660, 'frustrations': 13661, 'malle': 13662, 'raindrops': 13663, 'surreptitiously': 13664, 'stricter': 13665, 'founder': 13666, 'requiring': 13667, 'bigwig': 13668, 'blush': 13669, 'acknowledges': 13670, 'kev': 13671, 'tuning': 13672, 'nickname': 13673, 'unsatisfied': 13674, 'striptease': 13675, 'fluids': 13676, 'athlete': 13677, 'emulate': 13678, 'whip': 13679, 'pecker': 13680, 'slackers': 13681, 'loophole': 13682, 'abrams': 13683, 'larson': 13684, 'mishandle': 13685, 'boorish': 13686, 'sociopathic': 13687, 'callow': 13688, 'endeavors': 13689, 'commissioned': 13690, 'henslowe': 13691, 'lesseps': 13692, 'radiant': 13693, 'heiress': 13694, 'wessex': 13695, 'tyrannical': 13696, 'deficit': 13697, 'wringing': 13698, 'conceivable': 13699, 'harmonizing': 13700, 'obtuse': 13701, 'proposing': 13702, 'hoodlums': 13703, 'shackles': 13704, 'syllable': 13705, 'mis': 13706, 'saddam': 13707, 'hussein': 13708, 'ing': 13709, 'canvas': 13710, 'shrugged': 13711, 'drivers': 13712, 'jilted': 13713, 'truckload': 13714, 'setbacks': 13715, 'jars': 13716, 'rec': 13717, 'redistribution': 13718, 'enjoyably': 13719, 'griswold': 13720, 'massacre': 13721, 'grubby': 13722, 'wallows': 13723, 'ix': 13724, 'efnet': 13725, 'irc': 13726, 'ginrei': 13727, 'icq': 13728, 'rekall': 13729, 'implant': 13730, 'workmates': 13731, 'mutants': 13732, 'reactor': 13733, 'produces': 13734, 'stylishly': 13735, 'bloke': 13736, 'emotionless': 13737, 'poltergeist': 13738, 'dissection': 13739, 'wee': 13740, 'osment': 13741, 'healing': 13742, 'siskel': 13743, 'blessing': 13744, 'prelude': 13745, 'contradictions': 13746, 'mythical': 13747, 'discomfort': 13748, 'wiser': 13749, 'overseas': 13750, 'heaped': 13751, 'lesbians': 13752, 'poehler': 13753, 'scruffy': 13754, 'narcolepsy': 13755, 'tourette': 13756, 'mcalisters': 13757, 'masse': 13758, 'littlest': 13759, 'starve': 13760, 'alarm': 13761, 'accounted': 13762, 'laundry': 13763, 'eggs': 13764, 'softener': 13765, 'furnace': 13766, 'shovel': 13767, 'request': 13768, 'malls': 13769, 'viable': 13770, 'faux': 13771, 'pas': 13772, 'impressions': 13773, 'topper': 13774, 'predisposed': 13775, 'thora': 13776, 'adheres': 13777, 'ruling': 13778, 'council': 13779, 'mages': 13780, 'brutish': 13781, 'underling': 13782, 'damodar': 13783, 'permit': 13784, 'uncovers': 13785, 'norda': 13786, 'mazes': 13787, 'fabled': 13788, 'dispensed': 13789, 'raspy': 13790, 'lipstick': 13791, 'cowardly': 13792, 'verges': 13793, 'curling': 13794, 'batting': 13795, 'repertoire': 13796, 'cohort': 13797, 'promoter': 13798, 'germane': 13799, 'cementing': 13800, 'torch': 13801, 'default': 13802, 'unbeatable': 13803, 'cf': 13804, 'scorcese': 13805, 'fucker': 13806, 'inaccurate': 13807, 'scapegoat': 13808, 'declared': 13809, 'ditty': 13810, 'nevermind': 13811, 'pong': 13812, 'improvisational': 13813, 'reappears': 13814, 'infuse': 13815, 'wrecks': 13816, 'monks': 13817, 'lilianna': 13818, 'pacula': 13819, 'carrot': 13820, 'judges': 13821, 'tens': 13822, 'concede': 13823, 'childlike': 13824, 'responded': 13825, 'dystopic': 13826, 'synonym': 13827, 'graffiti': 13828, 'leia': 13829, 'humanoid': 13830, 'po': 13831, 'hamill': 13832, 'hermit': 13833, 'spaceport': 13834, 'serials': 13835, 'civilisation': 13836, 'establishment': 13837, 'dykstra': 13838, 'westworld': 13839, 'schrieber': 13840, 'sillier': 13841, 'rubbish': 13842, 'outlined': 13843, 'genevieve': 13844, 'stupendously': 13845, 'magma': 13846, 'toppled': 13847, 'hirsch': 13848, 'simpson': 13849, 'kietal': 13850, 'youths': 13851, 'dosen': 13852, 'aswell': 13853, 'warbling': 13854, 'starnet': 13855, 'fl': 13856, 'moby': 13857, 'exasperated': 13858, 'improvise': 13859, 'ramp': 13860, 'interludes': 13861, 'tails': 13862, 'stott': 13863, 'sore': 13864, 'ck': 13865, 'splattered': 13866, 'xers': 13867, 'gazzara': 13868, 'huffman': 13869, 'puzzled': 13870, 'beguiling': 13871, 'therese': 13872, 'vecsey': 13873, 'miner': 13874, 'throes': 13875, 'langs': 13876, 'hummer': 13877, 'kosher': 13878, 'guesses': 13879, 'disclose': 13880, 'arty': 13881, 'deviousness': 13882, 'consciously': 13883, 'stepford': 13884, 'rescuing': 13885, 'detected': 13886, 'driller': 13887, 'drillers': 13888, 'vivacious': 13889, 'rydell': 13890, 'blasts': 13891, 'lamas': 13892, 'paterson': 13893, 'pockets': 13894, 'conformist': 13895, 'vices': 13896, 'cannabis': 13897, 'sufficient': 13898, 'tattoo': 13899, 'copulation': 13900, 'condoms': 13901, 'scenic': 13902, 'handy': 13903, 'ists': 13904, 'dory': 13905, 'periodical': 13906, 'carousing': 13907, 'tent': 13908, 'ther': 13909, 'intruders': 13910, 'outpost': 13911, 'hallucinates': 13912, 'kurtz': 13913, 'exodus': 13914, 'retards': 13915, 'instigated': 13916, 'lenz': 13917, 'overdose': 13918, 'philes': 13919, 'skinner': 13920, 'foreman': 13921, 'whisper': 13922, 'yanked': 13923, 'ringer': 13924, 'hotheaded': 13925, 'frighteningly': 13926, 'mined': 13927, 'psychic': 13928, 'spam': 13929, 'newsreading': 13930, 'banner': 13931, 'brecklin': 13932, 'impulses': 13933, 'sturdy': 13934, 'peer': 13935, 'wading': 13936, 'santaro': 13937, 'realised': 13938, 'razzle': 13939, 'altering': 13940, 'shrubbery': 13941, 'theshrubbery': 13942, 'prohosting': 13943, 'sheryl': 13944, 'turkeys': 13945, 'cycles': 13946, 'starman': 13947, 'bela': 13948, 'lugosi': 13949, 'abode': 13950, 'remarkedly': 13951, 'montoya': 13952, 'priesthood': 13953, 'rewarded': 13954, 'gough': 13955, 'macgregor': 13956, 'campiness': 13957, 'epitomizes': 13958, 'slinky': 13959, 'helplessly': 13960, 'dispatch': 13961, 'grunting': 13962, 'hulk': 13963, 'suspended': 13964, 'homefront': 13965, 'astonished': 13966, 'neon': 13967, 'revamped': 13968, 'unintelligble': 13969, 'reassess': 13970, 'kissed': 13971, 'seniors': 13972, 'diminishing': 13973, 'fingerprints': 13974, 'sage': 13975, 'anh': 13976, 'duong': 13977, 'feuer': 13978, 'managers': 13979, 'editors': 13980, 'coated': 13981, 'factly': 13982, 'obtains': 13983, 'rediscover': 13984, 'hungary': 13985, 'kinski': 13986, 'hoops': 13987, 'airplanes': 13988, 'endresz': 13989, 'banlaki': 13990, 'nursing': 13991, 'awakes': 13992, 'tutelage': 13993, 'brags': 13994, 'hardware': 13995, 'inquisitive': 13996, 'fondly': 13997, 'shatner': 13998, 'rages': 13999, 'invading': 14000, 'siblings': 14001, 'scatology': 14002, 'foresee': 14003, 'chimp': 14004, 'drix': 14005, 'fathom': 14006, 'mumble': 14007, 'qualifications': 14008, 'lyndon': 14009, 'pronounce': 14010, 'pammy': 14011, 'bibb': 14012, 'stupor': 14013, 'stifle': 14014, 'yale': 14015, 'marveling': 14016, 'suffocating': 14017, 'vegetable': 14018, 'prototype': 14019, 'pogue': 14020, 'howlers': 14021, 'initiation': 14022, 'bedside': 14023, 'conspicuous': 14024, 'paddles': 14025, 'mandrake': 14026, 'diminished': 14027, 'strapping': 14028, 'indefinitely': 14029, 'moderate': 14030, 'junky': 14031, 'bunton': 14032, 'halliwell': 14033, 'spicy': 14034, 'mckinney': 14035, 'willingness': 14036, 'lyric': 14037, 'entails': 14038, 'wiping': 14039, 'hah': 14040, 'blankly': 14041, 'vainly': 14042, 'gall': 14043, 'dared': 14044, 'composing': 14045, 'malina': 14046, 'favours': 14047, 'democrat': 14048, 'assassinate': 14049, 'voters': 14050, 'reinvents': 14051, 'euphoria': 14052, 'undisciplined': 14053, 'haggard': 14054, 'tipped': 14055, 'scorn': 14056, 'district': 14057, 'niebaum': 14058, 'motivational': 14059, 'sabian': 14060, 'saps': 14061, 'lucked': 14062, 'rifkin': 14063, 'pleasantville': 14064, 'careens': 14065, 'effortless': 14066, 'eighty': 14067, 'behemoth': 14068, 'atom': 14069, 'silently': 14070, 'notebook': 14071, 'grips': 14072, 'units': 14073, 'nicoletta': 14074, 'braschi': 14075, 'precarious': 14076, 'extraordinaire': 14077, 'schoolteacher': 14078, 'reich': 14079, 'seducing': 14080, 'spinoff': 14081, 'circular': 14082, 'reprise': 14083, 'watchers': 14084, 'minciotti': 14085, 'mantell': 14086, 'attribute': 14087, 'oldest': 14088, 'unattached': 14089, 'scruples': 14090, 'slur': 14091, 'dismissive': 14092, 'brave': 14093, 'underplays': 14094, 'abrupt': 14095, 'trump': 14096, 'decks': 14097, 'stuffy': 14098, 'hockley': 14099, 'roescher': 14100, 'macallister': 14101, 'garms': 14102, 'donadio': 14103, 'sipes': 14104, 'robson': 14105, 'tangent': 14106, 'nah': 14107, 'somerset': 14108, 'maugham': 14109, 'emphasised': 14110, 'shortages': 14111, 'opposing': 14112, 'austrian': 14113, 'tempting': 14114, 'immerses': 14115, 'inadequacy': 14116, 'democracy': 14117, 'conspiracies': 14118, 'warming': 14119, 'televisions': 14120, 'oddballs': 14121, 'slowed': 14122, 'conventionality': 14123, 'gallo': 14124, 'triumphs': 14125, 'millius': 14126, 'abduction': 14127, 'signals': 14128, 'virtues': 14129, 'gloom': 14130, 'acquaintances': 14131, 'ufos': 14132, 'marley': 14133, 'omega': 14134, 'washout': 14135, 'thier': 14136, 'gyllenhaal': 14137, 'tendancy': 14138, 'yesteryear': 14139, 'brainiac': 14140, 'molds': 14141, 'finesse': 14142, 'nonexistant': 14143, 'acquit': 14144, 'increased': 14145, 'adulterous': 14146, 'entendres': 14147, 'obstetrician': 14148, 'pussy': 14149, 'hairs': 14150, 'scriptwriters': 14151, 'rambles': 14152, 'hookers': 14153, 'gq': 14154, 'darlene': 14155, 'paquin': 14156, 'semantics': 14157, 'calculating': 14158, 'injection': 14159, 'desirable': 14160, 'mace': 14161, 'neufeld': 14162, 'psychiatric': 14163, 'holliston': 14164, 'bettis': 14165, 'worshipping': 14166, 'telekinesis': 14167, 'defector': 14168, 'baddies': 14169, 'billington': 14170, 'caustic': 14171, 'lemon': 14172, 'ideological': 14173, 'succumbed': 14174, 'materialistic': 14175, 'downtrodden': 14176, 'bribes': 14177, 'contributions': 14178, 'rhetoric': 14179, 'schedule': 14180, 'escapade': 14181, 'refusal': 14182, 'abandons': 14183, 'harlem': 14184, 'snoop': 14185, 'doggy': 14186, 'dogg': 14187, 'adopting': 14188, 'monetary': 14189, 'debauchery': 14190, 'infests': 14191, 'forehead': 14192, 'consist': 14193, 'elaborately': 14194, 'resevoir': 14195, 'vigor': 14196, 'salvaged': 14197, 'ticking': 14198, 'flashlight': 14199, 'countdown': 14200, 'impaled': 14201, 'microwaves': 14202, 'cups': 14203, 'nuke': 14204, 'terrors': 14205, 'underwent': 14206, 'porno': 14207, 'soviets': 14208, 'missiles': 14209, 'montages': 14210, 'sickening': 14211, 'barker': 14212, 'bulletproof': 14213, 'indignity': 14214, 'meryl': 14215, 'streep': 14216, 'bayou': 14217, 'meager': 14218, 'dummy': 14219, 'supervise': 14220, 'karten': 14221, 'ph': 14222, 'suite': 14223, 'mutual': 14224, 'dissolved': 14225, 'celebrated': 14226, 'properties': 14227, 'turf': 14228, 'snowy': 14229, 'ap': 14230, 'camron': 14231, 'injuries': 14232, 'deputies': 14233, 'rampant': 14234, 'authorized': 14235, 'untamed': 14236, 'encompasses': 14237, 'funk': 14238, 'kindness': 14239, 'attractions': 14240, 'salads': 14241, 'prayer': 14242, 'morocco': 14243, 'dweller': 14244, 'tumble': 14245, 'cherished': 14246, 'bares': 14247, 'dependable': 14248, 'dramatized': 14249, 'inhuman': 14250, 'optimum': 14251, 'output': 14252, 'burma': 14253, 'pow': 14254, 'lest': 14255, 'cunningham': 14256, 'parasites': 14257, 'expendable': 14258, 'norms': 14259, 'nusevic': 14260, 'nesbitt': 14261, 'igor': 14262, 'damian': 14263, 'risible': 14264, 'departs': 14265, 'mawkishness': 14266, 'victorious': 14267, 'segel': 14268, 'werewolf': 14269, 'guarantees': 14270, 'intensive': 14271, 'aussie': 14272, 'hr': 14273, 'secretive': 14274, 'mutilation': 14275, 'cheapskate': 14276, 'savings': 14277, 'freeway': 14278, 'hearty': 14279, 'uproarious': 14280, 'systematically': 14281, 'seventy': 14282, 'shaker': 14283, 'quart': 14284, 'tequila': 14285, 'psychedelic': 14286, 'inhaling': 14287, 'stray': 14288, 'overgrown': 14289, 'reprehensible': 14290, 'barkin': 14291, 'partnership': 14292, 'joon': 14293, 'uncompleted': 14294, 'kentucky': 14295, 'razor': 14296, 'insure': 14297, 'pitting': 14298, 'makeshift': 14299, 'hail': 14300, 'hanger': 14301, 'arrows': 14302, 'incredulous': 14303, 'miraculous': 14304, 'hamstrung': 14305, 'cindy': 14306, 'mandolin': 14307, 'celebrates': 14308, 'iannis': 14309, 'betrothed': 14310, 'mussolini': 14311, 'glimmers': 14312, 'incredulously': 14313, 'greeks': 14314, 'exclaiming': 14315, 'bambina': 14316, 'swarthy': 14317, 'jolt': 14318, 'harmony': 14319, 'aimee': 14320, 'elexa': 14321, 'randolph': 14322, 'unrelenting': 14323, 'assaulting': 14324, 'abusers': 14325, 'factions': 14326, 'disclaimer': 14327, 'contributing': 14328, 'victories': 14329, 'pariah': 14330, 'recycles': 14331, 'unmistakably': 14332, 'unamusing': 14333, 'meddling': 14334, 'unworthy': 14335, 'diverted': 14336, 'divers': 14337, 'coffey': 14338, 'brewing': 14339, 'credentials': 14340, 'wills': 14341, 'escalating': 14342, 'schmaltz': 14343, 'alum': 14344, 'grudgingly': 14345, 'tod': 14346, 'lewton': 14347, 'coworker': 14348, 'idle': 14349, 'bullseye': 14350, 'freaky': 14351, 'ridicule': 14352, 'silverware': 14353, 'demonstration': 14354, 'contemplating': 14355, 'copout': 14356, 'overlooking': 14357, 'yuen': 14358, 'indeterminate': 14359, 'afield': 14360, 'roundly': 14361, 'jugs': 14362, 'strengthening': 14363, 'benches': 14364, 'vegetables': 14365, 'copycats': 14366, 'sloshed': 14367, 'availability': 14368, 'affordable': 14369, 'stacks': 14370, 'misinformed': 14371, 'pervert': 14372, 'impotent': 14373, 'abounds': 14374, 'tb': 14375, 'sodomy': 14376, 'caresses': 14377, 'wool': 14378, 'intercourse': 14379, 'homosexuals': 14380, 'kathie': 14381, 'laborers': 14382, 'gorham': 14383, 'corbin': 14384, 'maass': 14385, 'marvin': 14386, 'scrapbook': 14387, 'compromising': 14388, 'auspicious': 14389, 'semler': 14390, 'smokejumper': 14391, 'mawkish': 14392, 'chopper': 14393, 'chemicals': 14394, 'pounders': 14395, 'windshield': 14396, 'rides': 14397, 'transitions': 14398, 'pyrotechnics': 14399, 'mccaffrey': 14400, 'firemen': 14401, 'rimgale': 14402, 'investigations': 14403, 'bartel': 14404, 'arresting': 14405, 'yarn': 14406, 'pairs': 14407, 'cara': 14408, 'warfield': 14409, 'maher': 14410, 'cabs': 14411, 'jive': 14412, 'rollers': 14413, 'unoriginality': 14414, 'lucinda': 14415, 'parental': 14416, 'afterschool': 14417, 'commission': 14418, 'poop': 14419, 'securing': 14420, 'congressman': 14421, 'accolades': 14422, 'pondered': 14423, 'policemen': 14424, 'reflections': 14425, 'dyer': 14426, 'sliced': 14427, 'mounts': 14428, 'loews': 14429, 'denim': 14430, 'wai': 14431, 'skyscraper': 14432, 'goldfinger': 14433, 'bookey': 14434, 'shucks': 14435, 'tito': 14436, 'pryor': 14437, 'similarity': 14438, 'spiner': 14439, 'berman': 14440, 'missions': 14441, 'fountain': 14442, 'aesthetically': 14443, 'picard': 14444, 'habitat': 14445, 'magnetic': 14446, 'anthem': 14447, 'pleaser': 14448, 'herek': 14449, 'mcbainbridge': 14450, 'gbsn': 14451, 'capitalist': 14452, 'flatness': 14453, 'marketer': 14454, 'tire': 14455, 'garbed': 14456, 'spouts': 14457, 'toothy': 14458, 'weaken': 14459, 'peddling': 14460, 'sigel': 14461, 'architecture': 14462, 'landmark': 14463, 'excel': 14464, 'sleepwalking': 14465, 'narratively': 14466, 'helpful': 14467, 'ponderous': 14468, 'disgustingly': 14469, 'unfit': 14470, 'snipers': 14471, 'yemeni': 14472, 'mowed': 14473, 'friedklin': 14474, 'earliest': 14475, 'professionalism': 14476, 'racially': 14477, 'paula': 14478, 'passionately': 14479, 'ditches': 14480, 'irresponsible': 14481, 'nucci': 14482, 'adultery': 14483, 'republican': 14484, 'fucked': 14485, 'incomplete': 14486, 'bias': 14487, 'socks': 14488, 'dahlgren': 14489, 'exhilarating': 14490, 'multiplicity': 14491, 'verge': 14492, 'deceiving': 14493, 'markets': 14494, 'retires': 14495, 'collectibles': 14496, 'wonderment': 14497, 'boxes': 14498, 'boomers': 14499, 'forties': 14500, 'fifties': 14501, 'wasps': 14502, 'pastel': 14503, 'medley': 14504, 'chechik': 14505, 'diabolique': 14506, 'estelle': 14507, 'getty': 14508, 'fur': 14509, 'timon': 14510, 'sworn': 14511, 'insomniacs': 14512, 'creeped': 14513, 'waaaaay': 14514, 'relied': 14515, 'undergo': 14516, 'counseling': 14517, 'prostitutes': 14518, 'pornographic': 14519, 'schiffer': 14520, 'lastly': 14521, 'elixir': 14522, 'periphery': 14523, 'formally': 14524, 'chivalry': 14525, 'slop': 14526, 'lovestruck': 14527, 'spotted': 14528, 'compulsion': 14529, 'chill': 14530, 'backers': 14531, 'regurgitated': 14532, 'stack': 14533, 'hating': 14534, 'vans': 14535, 'vinny': 14536, 'filtered': 14537, 'oseransky': 14538, 'hijinks': 14539, 'otherworldly': 14540, 'oozing': 14541, 'sludge': 14542, 'pupils': 14543, 'hive': 14544, 'inc': 14545, 'breakout': 14546, 'discernable': 14547, 'roomie': 14548, 'grants': 14549, 'fellas': 14550, 'zack': 14551, 'dutch': 14552, 'kicker': 14553, 'descriptions': 14554, 'souza': 14555, 'mania': 14556, 'lambasted': 14557, 'stefanson': 14558, 'bertolini': 14559, 'demille': 14560, 'atchesonthe': 14561, 'obscenity': 14562, 'issued': 14563, 'fetishes': 14564, 'standpoint': 14565, 'feeding': 14566, 'landfill': 14567, 'sided': 14568, 'lem': 14569, 'andrei': 14570, 'tarkovsky': 14571, 'conceive': 14572, 'activated': 14573, 'electronics': 14574, 'outbreak': 14575, 'lagravenese': 14576, 'shield': 14577, 'hellish': 14578, 'reminiscing': 14579, 'daugher': 14580, 'materialized': 14581, 'redux': 14582, 'tediousness': 14583, 'anticipate': 14584, 'contentious': 14585, 'banality': 14586, 'splendid': 14587, 'regrettably': 14588, 'bemused': 14589, 'cohesion': 14590, 'contractual': 14591, 'gleaming': 14592, 'adeptly': 14593, 'thundering': 14594, 'enticing': 14595, 'hunts': 14596, 'deacon': 14597, 'manga': 14598, 'cg': 14599, 'colour': 14600, 'choreographing': 14601, 'dazzles': 14602, 'slapped': 14603, 'notches': 14604, 'piss': 14605, 'naivet': 14606, 'schank': 14607, 'endearingly': 14608, 'fundamentalist': 14609, 'branch': 14610, 'islamic': 14611, 'declare': 14612, 'palestinian': 14613, 'unlawful': 14614, 'evoked': 14615, 'objections': 14616, 'sadist': 14617, 'provoke': 14618, 'provokes': 14619, 'hounded': 14620, 'stritch': 14621, 'benzali': 14622, 'embarrassments': 14623, 'insidious': 14624, 'rusty': 14625, 'penguin': 14626, 'plum': 14627, 'tapestry': 14628, 'sydni': 14629, 'beaudoin': 14630, 'z': 14631, 'dippe': 14632, 'mcelroy': 14633, 'gooey': 14634, 'lurches': 14635, 'detonate': 14636, 'celibacy': 14637, 'lanai': 14638, 'vieluf': 14639, 'unpretentious': 14640, 'vera': 14641, 'merrill': 14642, 'referee': 14643, 'mishaps': 14644, 'touchy': 14645, 'dian': 14646, 'bachar': 14647, 'kemler': 14648, 'cannibalism': 14649, 'indians': 14650, 'maddeningly': 14651, 'comedically': 14652, 'humming': 14653, 'jensen': 14654, 'baseketball': 14655, 'artifacts': 14656, 'drunker': 14657, 'garbled': 14658, 'unremarkable': 14659, 'molecules': 14660, 'temptress': 14661, 'frann': 14662, 'coworkers': 14663, 'strangled': 14664, 'clement': 14665, 'appleton': 14666, 'entangled': 14667, 'pasts': 14668, 'teeming': 14669, 'joints': 14670, 'savion': 14671, 'blackchicks': 14672, 'mortgage': 14673, 'minstrel': 14674, 'maumau': 14675, 'minstrels': 14676, 'maumaus': 14677, 'denigrate': 14678, 'oreo': 14679, 'bougie': 14680, 'undefined': 14681, 'keepin': 14682, 'slinging': 14683, 'ills': 14684, 'blueprint': 14685, 'repetition': 14686, 'fascist': 14687, 'unsung': 14688, 'undermine': 14689, 'buenos': 14690, 'aires': 14691, 'narrated': 14692, 'balcony': 14693, 'argentina': 14694, 'comanding': 14695, 'patinkin': 14696, 'naveen': 14697, 'politely': 14698, 'environmentally': 14699, 'softens': 14700, 'improves': 14701, 'awash': 14702, 'poacher': 14703, 'conservatory': 14704, 'displaced': 14705, 'che': 14706, 'sab': 14707, 'shimono': 14708, 'catharsis': 14709, 'goddaughter': 14710, 'blames': 14711, 'conduit': 14712, 'rhythms': 14713, 'straighten': 14714, 'whistles': 14715, 'mckellen': 14716, 'chunk': 14717, 'deceptive': 14718, 'lust': 14719, 'ciudad': 14720, 'destitute': 14721, 'listless': 14722, 'receipt': 14723, 'avert': 14724, 'stockton': 14725, 'rerelease': 14726, 'simian': 14727, 'exteriors': 14728, 'chewed': 14729, 'coulda': 14730, 'shouted': 14731, 'creepiness': 14732, 'gignac': 14733, 'celine': 14734, 'bonnier': 14735, 'mettler': 14736, 'mouthpieces': 14737, 'scotland': 14738, 'unimportant': 14739, 'inoffensive': 14740, 'assembly': 14741, 'befriended': 14742, 'bides': 14743, 'encore': 14744, 'scaling': 14745, 'dazzled': 14746, 'sweethearts': 14747, 'tolan': 14748, 'froth': 14749, 'gutierrez': 14750, 'jose': 14751, 'ibarra': 14752, 'jorge': 14753, 'ramon': 14754, 'maestro': 14755, 'penultimate': 14756, 'guantanamo': 14757, 'reminiscences': 14758, 'gigi': 14759, 'administration': 14760, 'pea': 14761, 'centuries': 14762, 'troublesome': 14763, 'foreground': 14764, 'munch': 14765, 'agricultural': 14766, 'port': 14767, 'czech': 14768, 'fidel': 14769, 'regime': 14770, 'schoolmates': 14771, 'militant': 14772, 'colorfully': 14773, 'deviously': 14774, 'iku': 14775, 'terminate': 14776, 'yankees': 14777, 'alibi': 14778, 'educate': 14779, 'demonstrating': 14780, 'graft': 14781, 'mysticism': 14782, 'bulb': 14783, 'cornfield': 14784, 'metallic': 14785, 'mouthy': 14786, 'penis': 14787, 'weakling': 14788, 'chin': 14789, 'hick': 14790, 'miki': 14791, 'bathe': 14792, 'continuous': 14793, 'winks': 14794, 'schoolboy': 14795, 'enthused': 14796, 'exterminator': 14797, 'surpass': 14798, 'imhotep': 14799, 'scarab': 14800, 'beetles': 14801, 'mummies': 14802, 'ideally': 14803, 'plea': 14804, 'radar': 14805, 'artistry': 14806, 'reubens': 14807, 'cuthbert': 14808, 'kinka': 14809, 'underachieving': 14810, 'cassanova': 14811, 'pee': 14812, 'sardonic': 14813, 'fax': 14814, 'voicechat': 14815, 'quot': 14816, 'mails': 14817, 'rave': 14818, 'whatnot': 14819, 'hunted': 14820, 'zilch': 14821, 'commences': 14822, 'permanently': 14823, 'beaman': 14824, 'assuming': 14825, 'sizeable': 14826, 'linc': 14827, 'waited': 14828, 'cabo': 14829, 'dargus': 14830, 'paroled': 14831, 'flap': 14832, 'literate': 14833, 'stream': 14834, 'reputedly': 14835, 'recount': 14836, 'terrorize': 14837, 'insufferable': 14838, 'grouchy': 14839, 'mopey': 14840, 'photogenic': 14841, 'munsters': 14842, 'befitting': 14843, 'researcher': 14844, 'recoup': 14845, 'fluke': 14846, 'cloaked': 14847, 'ghoul': 14848, 'sectors': 14849, 'banking': 14850, 'organizations': 14851, 'owing': 14852, 'regulations': 14853, 'speaker': 14854, 'cardiologist': 14855, 'nurses': 14856, 'dumps': 14857, 'modernized': 14858, 'endowed': 14859, 'showcases': 14860, 'raid': 14861, 'penetrate': 14862, 'vela': 14863, 'reluctance': 14864, 'pankow': 14865, 'presidential': 14866, 'economical': 14867, 'suckered': 14868, 'decay': 14869, 'debra': 14870, 'goetz': 14871, 'shiavelli': 14872, 'admittingly': 14873, 'ingenius': 14874, 'bmw': 14875, 'majesty': 14876, 'samaha': 14877, 'enslaved': 14878, 'revolt': 14879, 'tubes': 14880, 'defeated': 14881, 'programme': 14882, 'biology': 14883, 'unrecognisable': 14884, 'pall': 14885, 'clair': 14886, 'saddening': 14887, 'yip': 14888, 'pang': 14889, 'ching': 14890, 'sciences': 14891, 'truthfulness': 14892, 'teetering': 14893, 'communist': 14894, 'pertaining': 14895, 'emphasize': 14896, 'chans': 14897, 'remarking': 14898, 'fracture': 14899, 'gar': 14900, 'immigration': 14901, 'papers': 14902, 'cheerfully': 14903, 'acutely': 14904, 'spreads': 14905, 'environments': 14906, 'danielle': 14907, 'confirms': 14908, 'dann': 14909, 'lyons': 14910, 'leyland': 14911, 'cringeworthy': 14912, 'controller': 14913, 'granddaughter': 14914, 'whistle': 14915, 'splatter': 14916, 'plato': 14917, 'tortuous': 14918, 'sunrise': 14919, 'maternity': 14920, 'attach': 14921, 'manhood': 14922, 'issacs': 14923, 'arrogantly': 14924, 'batch': 14925, 'hurd': 14926, 'fellini': 14927, 'profitable': 14928, 'ominously': 14929, 'strangest': 14930, 'hayman': 14931, 'cruisers': 14932, 'solondz': 14933, 'mcgillicuddy': 14934, 'cinemaniac': 14935, 'xoom': 14936, 'lmcgill': 14937, 'movpage': 14938, 'dramedy': 14939, 'feminine': 14940, 'admitted': 14941, 'exasperating': 14942, 'shapeless': 14943, 'pestering': 14944, 'muck': 14945, 'maddy': 14946, 'eternal': 14947, 'ramage': 14948, 'dullest': 14949, 'dedicates': 14950, 'houseman': 14951, 'concealing': 14952, 'collapsing': 14953, 'drawer': 14954, 'jammed': 14955, 'throats': 14956, 'priests': 14957, 'atherton': 14958, 'monroe': 14959, 'devote': 14960, 'acquainted': 14961, 'dementia': 14962, 'barking': 14963, 'shoves': 14964, 'disorganised': 14965, 'stability': 14966, 'whimper': 14967, 'didi': 14968, 'conn': 14969, 'manoff': 14970, 'arden': 14971, 'avalon': 14972, 'edd': 14973, 'continent': 14974, 'rizzo': 14975, 'compromise': 14976, 'jabba': 14977, 'timeless': 14978, 'unnamed': 14979, 'neurological': 14980, 'tics': 14981, 'modulation': 14982, 'poignance': 14983, 'biel': 14984, 'slamming': 14985, 'tenley': 14986, 'endangers': 14987, 'pitcher': 14988, 'durham': 14989, 'barroom': 14990, 'teammate': 14991, 'butts': 14992, 'amply': 14993, 'orbach': 14994, 'julliana': 14995, 'athena': 14996, 'massey': 14997, 'bullies': 14998, 'homework': 14999, 'droppingly': 15000, 'tedium': 15001, 'diaphragm': 15002, 'stupefying': 15003, 'buttocks': 15004, 'anticlimactic': 15005, 'dissatisfying': 15006, 'entries': 15007, 'lieu': 15008, 'fiasco': 15009, 'lynchian': 15010, 'sydow': 15011, 'oranges': 15012, 'confounding': 15013, 'atreities': 15014, 'homeland': 15015, 'fremen': 15016, 'baron': 15017, 'harkonnen': 15018, 'ambush': 15019, 'regal': 15020, 'casually': 15021, 'niko': 15022, 'footprints': 15023, 'phillipe': 15024, 'topples': 15025, 'nit': 15026, 'weighed': 15027, 'unexciting': 15028, 'ferocity': 15029, 'remark': 15030, 'hadley': 15031, 'poked': 15032, 'coughing': 15033, 'odette': 15034, 'sevigny': 15035, 'puzzling': 15036, 'lingerie': 15037, 'procedures': 15038, 'abortions': 15039, 'vary': 15040, 'abortionist': 15041, 'gunn': 15042, 'convictions': 15043, 'extremists': 15044, 'sarita': 15045, 'choudhury': 15046, 'kopelson': 15047, 'wreckage': 15048, 'borrow': 15049, 'cuckolded': 15050, 'payment': 15051, 'extramarital': 15052, 'gekko': 15053, 'forceful': 15054, 'glances': 15055, 'bargen': 15056, 'gallagher': 15057, 'stokely': 15058, 'delilah': 15059, 'marybeth': 15060, 'meek': 15061, 'alienation': 15062, 'misleading': 15063, 'susceptible': 15064, 'kindergarten': 15065, 'elves': 15066, 'olympics': 15067, 'elmo': 15068, 'mull': 15069, 'ode': 15070, 'lesley': 15071, 'colleen': 15072, 'henderson': 15073, 'menu': 15074, 'pox': 15075, 'genesis': 15076, 'diseases': 15077, 'hmos': 15078, 'resonate': 15079, 'inundated': 15080, 'chords': 15081, 'joyful': 15082, 'expos': 15083, 'coca': 15084, 'crucifix': 15085, 'flocking': 15086, 'baggage': 15087, 'peyton': 15088, 'bendinger': 15089, 'paedophilia': 15090, 'couches': 15091, 'isis': 15092, 'litany': 15093, 'misunderstandings': 15094, 'wrongs': 15095, 'squirming': 15096, 'rethink': 15097, 'choreographer': 15098, 'pedantic': 15099, 'vergil': 15100, 'bigots': 15101, 'analyses': 15102, 'preceding': 15103, 'foolishness': 15104, 'investigates': 15105, 'pits': 15106, 'ladd': 15107, 'debated': 15108, 'hampton': 15109, 'poisons': 15110, 'keegan': 15111, 'shrew': 15112, 'prep': 15113, 'wreaked': 15114, 'treachery': 15115, 'utility': 15116, 'ferocious': 15117, 'distrust': 15118, 'mascot': 15119, 'fasano': 15120, 'ageing': 15121, 'multiplex': 15122, 'fizzle': 15123, 'successors': 15124, 'indestructible': 15125, 'fuelled': 15126, 'ordinator': 15127, 'squarely': 15128, 'practiced': 15129, 'artfully': 15130, 'sagan': 15131, 'pulsing': 15132, 'atheism': 15133, 'dichotomy': 15134, 'stems': 15135, 'lowe': 15136, 'qualms': 15137, 'leno': 15138, 'whitrow': 15139, 'conjugated': 15140, 'aardman': 15141, 'comforts': 15142, 'gromit': 15143, 'owed': 15144, 'stalag': 15145, 'grinder': 15146, 'ribbing': 15147, 'nationality': 15148, 'opinionated': 15149, 'organizing': 15150, 'babs': 15151, 'crocheting': 15152, 'theologians': 15153, 'wearisome': 15154, 'clay': 15155, 'figurines': 15156, 'painstaking': 15157, 'unwavering': 15158, 'weighty': 15159, 'delany': 15160, 'columnist': 15161, 'bookseller': 15162, 'pillow': 15163, 'procreate': 15164, 'enlightened': 15165, 'doze': 15166, 'ziggy': 15167, 'stardust': 15168, 'sensory': 15169, 'overload': 15170, 'emilio': 15171, 'sagebrush': 15172, 'stills': 15173, 'consisted': 15174, 'ridiculed': 15175, 'weirdoes': 15176, 'pudgy': 15177, 'verma': 15178, 'festivities': 15179, 'bombay': 15180, 'dhawan': 15181, 'caterer': 15182, 'taboo': 15183, 'floodwaters': 15184, 'dam': 15185, 'speedboat': 15186, 'outsmart': 15187, 'asbestos': 15188, 'mindfuck': 15189, 'divergent': 15190, 'peanut': 15191, 'taped': 15192, 'unbreakable': 15193, 'bernstein': 15194, 'microchip': 15195, 'shamelessly': 15196, 'elfont': 15197, 'embry': 15198, 'korsmo': 15199, 'mocks': 15200, 'homecoming': 15201, 'dominions': 15202, 'quotes': 15203, 'grafitti': 15204, 'tart': 15205, 'vonnegut': 15206, 'satirize': 15207, 'oxymoron': 15208, 'cynic': 15209, 'witherspoon': 15210, 'spheeris': 15211, 'trifle': 15212, 'bogus': 15213, 'janice': 15214, 'tamara': 15215, 'doozy': 15216, 'carved': 15217, 'egomania': 15218, 'ava': 15219, 'weirdest': 15220, 'setups': 15221, 'coin': 15222, 'zegers': 15223, 'jeter': 15224, 'cobbs': 15225, 'surfaces': 15226, 'oversimplification': 15227, 'maximillian': 15228, 'eminent': 15229, 'imposed': 15230, 'debilitating': 15231, 'digit': 15232, 'consuming': 15233, 'friendliness': 15234, 'avidly': 15235, 'linney': 15236, 'nosferatu': 15237, 'jittery': 15238, 'splashes': 15239, 'kafkaesque': 15240, 'entices': 15241, 'coos': 15242, 'henriksen': 15243, 'crossgates': 15244, 'kala': 15245, 'zoologist': 15246, 'prof': 15247, 'branches': 15248, 'trunks': 15249, 'skateboarding': 15250, 'angst': 15251, 'plumb': 15252, 'shannen': 15253, 'doherty': 15254, 'abductions': 15255, 'hodgepodge': 15256, 'abounding': 15257, 'jigsaw': 15258, 'tissue': 15259, 'limousine': 15260, 'impersonates': 15261, 'giggle': 15262, 'zoot': 15263, 'coax': 15264, 'endeavor': 15265, 'editorial': 15266, 'sensation': 15267, 'infomercials': 15268, 'squandered': 15269, 'descends': 15270, 'jellyfish': 15271, 'personnel': 15272, 'churned': 15273, 'mosh': 15274, 'headings': 15275, 'perplexing': 15276, 'alluded': 15277, 'mardi': 15278, 'eaddress': 15279, 'detect': 15280, 'reek': 15281, 'untouchables': 15282, 'bothersome': 15283, 'inexcusable': 15284, 'vomit': 15285, 'measurements': 15286, 'whirlwind': 15287, 'scientifically': 15288, 'claustrophobia': 15289, 'wholeheartedly': 15290, 'strap': 15291, 'ranft': 15292, 'insect': 15293, 'ant': 15294, 'leaf': 15295, 'gypsy': 15296, 'yawning': 15297, 'friggin': 15298, 'cranking': 15299, 'wrenching': 15300, 'extraction': 15301, 'hormone': 15302, 'affects': 15303, 'crotchety': 15304, 'blockade': 15305, 'amidala': 15306, 'treaty': 15307, 'holographic': 15308, 'disciples': 15309, 'tantamount': 15310, 'binks': 15311, 'eisley': 15312, 'offense': 15313, 'commentators': 15314, 'hotcakes': 15315, 'pandering': 15316, 'daunting': 15317, 'insignificant': 15318, 'scowls': 15319, 'flown': 15320, 'interfering': 15321, 'lillo': 15322, 'commend': 15323, 'lulls': 15324, 'tremor': 15325, 'wilhelm': 15326, 'szabo': 15327, 'communists': 15328, 'cooperation': 15329, 'calculation': 15330, 'obtained': 15331, 'langlet': 15332, 'arielle': 15333, 'greggory': 15334, 'atkine': 15335, 'brosse': 15336, 'rosette': 15337, 'normandy': 15338, 'shallowness': 15339, 'vocalist': 15340, 'chronicled': 15341, 'vocals': 15342, 'showy': 15343, 'trumpet': 15344, 'offspring': 15345, 'hushed': 15346, 'pa': 15347, 'maltin': 15348, 'mscf': 15349, 'upenn': 15350, 'fabiani': 15351, 'aggravating': 15352, 'assedness': 15353, 'santoro': 15354, 'kirkland': 15355, 'heavyweight': 15356, 'lincoln': 15357, 'blocked': 15358, 'idolizes': 15359, 'disasterous': 15360, 'warring': 15361, 'caravacas': 15362, 'tasha': 15363, 'yar': 15364, 'oed': 15365, 'uproar': 15366, 'lark': 15367, 'anecdotes': 15368, 'drank': 15369, 'permitted': 15370, 'klingon': 15371, 'bogs': 15372, 'impersonator': 15373, 'alexis': 15374, 'mcbeal': 15375, 'resounding': 15376, 'tellingly': 15377, 'mewes': 15378, 'ludicrousness': 15379, 'stoners': 15380, 'speculation': 15381, 'outdoors': 15382, 'mancini': 15383, 'surrandon': 15384, 'douriff': 15385, 'udall': 15386, 'conelly': 15387, 'nicholsons': 15388, 'melvins': 15389, 'zimmer': 15390, 'straw': 15391, 'urinating': 15392, 'marky': 15393, 'seventeen': 15394, 'dirk': 15395, 'amber': 15396, 'andersons': 15397, 'mcclane': 15398, 'cryogenic': 15399, 'thawed': 15400, 'strut': 15401, 'programmers': 15402, 'traces': 15403, 'evenly': 15404, 'relates': 15405, 'unleashed': 15406, 'capitalise': 15407, 'concludes': 15408, 'hysterics': 15409, 'sacked': 15410, 'hangers': 15411, 'outburst': 15412, 'pepsi': 15413, 'murmuring': 15414, 'obligations': 15415, 'whitebread': 15416, 'ignoring': 15417, 'strode': 15418, 'wrinkles': 15419, 'stogie': 15420, 'underside': 15421, 'piles': 15422, 'aspires': 15423, 'bigwigs': 15424, 'flamboyant': 15425, 'maury': 15426, 'garofolo': 15427, 'asia': 15428, 'xing': 15429, 'richelieu': 15430, 'febre': 15431, 'coo': 15432, 'hyams': 15433, 'womb': 15434, 'pancakes': 15435, 'clairvoyant': 15436, 'guiding': 15437, 'trades': 15438, 'discouraging': 15439, 'brest': 15440, 'casella': 15441, 'intensively': 15442, 'bryan': 15443, 'conducts': 15444, 'repulsion': 15445, 'marching': 15446, 'cathartic': 15447, 'upmanship': 15448, 'forking': 15449, 'restraining': 15450, 'silberling': 15451, 'wim': 15452, 'wenders': 15453, 'bartlett': 15454, 'merlin': 15455, 'sunrises': 15456, 'sunsets': 15457, 'juxtaposition': 15458, 'surgeon': 15459, 'operating': 15460, 'seale': 15461, 'aerial': 15462, 'sheds': 15463, 'surf': 15464, 'kendrick': 15465, 'bigfoot': 15466, 'jimkendrick': 15467, 'tcheky': 15468, 'incarnate': 15469, 'bullshit': 15470, 'nikita': 15471, 'noon': 15472, 'offis': 15473, 'gratuitously': 15474, 'planting': 15475, 'dakota': 15476, 'llosa': 15477, 'alexandra': 15478, 'solos': 15479, 'penthouse': 15480, 'moscow': 15481, 'rented': 15482, 'curveball': 15483, 'brandis': 15484, 'cerrone': 15485, 'dildo': 15486, 'protects': 15487, 'beers': 15488, 'licence': 15489, 'cornwall': 15490, 'misfit': 15491, 'dormitory': 15492, 'predilection': 15493, 'imbue': 15494, 'submarines': 15495, 'quota': 15496, 'luckiest': 15497, 'fortunate': 15498, 'uncompromising': 15499, 'chereau': 15500, 'tender': 15501, 'carnal': 15502, 'haste': 15503, 'disgruntled': 15504, 'minimalist': 15505, 'pensively': 15506, 'unblinking': 15507, 'crawling': 15508, 'pubs': 15509, 'bangs': 15510, 'pouts': 15511, 'abuzz': 15512, 'xefve': 15513, 'intruder': 15514, 'recites': 15515, 'dagger': 15516, 'concrete': 15517, 'distasteful': 15518, 'hypochondriac': 15519, 'goode': 15520, 'expectant': 15521, 'cyril': 15522, 'chronological': 15523, 'leasure': 15524, 'amendment': 15525, 'construed': 15526, 'stapleton': 15527, 'aw': 15528, 'carleton': 15529, 'copes': 15530, 'beleive': 15531, 'rodney': 15532, 'serpentine': 15533, 'risqu': 15534, 'clothed': 15535, 'confessing': 15536, 'perverted': 15537, 'lopped': 15538, 'fiefdoms': 15539, 'werewolves': 15540, 'hunters': 15541, 'affluent': 15542, 'knives': 15543, 'booty': 15544, 'qualified': 15545, 'buchman': 15546, 'overrun': 15547, 'imitations': 15548, 'presiding': 15549, 'dinos': 15550, 'execrable': 15551, 'checker': 15552, 'nightclubs': 15553, 'savoy': 15554, 'stations': 15555, 'presidency': 15556, 'hips': 15557, 'shimmying': 15558, 'condensed': 15559, 'ames': 15560, 'crusade': 15561, 'depressive': 15562, 'snapshots': 15563, 'tantric': 15564, 'sermon': 15565, 'blessedly': 15566, 'ecstatic': 15567, 'agenda': 15568, 'ingenue': 15569, 'depraved': 15570, 'lectured': 15571, 'absorption': 15572, 'stung': 15573, 'untapped': 15574, 'speciality': 15575, 'dawns': 15576, 'rickety': 15577, 'talkative': 15578, 'ye': 15579, 'recovering': 15580, 'distinguish': 15581, 'distinguishing': 15582, 'pulitzer': 15583, 'cranky': 15584, 'driveway': 15585, 'gravely': 15586, 'smidgen': 15587, 'blueprints': 15588, 'addressing': 15589, 'rascal': 15590, 'sponge': 15591, 'nightly': 15592, 'losses': 15593, 'gaz': 15594, 'fellows': 15595, 'prey': 15596, 'tastelessness': 15597, 'davidovich': 15598, 'regions': 15599, 'boxers': 15600, 'natives': 15601, 'unwillingly': 15602, 'chokes': 15603, 'wasp': 15604, 'singular': 15605, 'echelon': 15606, 'munching': 15607, 'slides': 15608, 'risking': 15609, 'lodge': 15610, 'answering': 15611, 'professors': 15612, 'peach': 15613, 'stitches': 15614, 'pretentiousness': 15615, 'comprehension': 15616, 'sturdiest': 15617, 'sighs': 15618, 'reunites': 15619, 'forthcoming': 15620, 'crashlands': 15621, 'suns': 15622, 'culprits': 15623, 'clockwork': 15624, 'cruising': 15625, 'saturn': 15626, 'frights': 15627, 'landlady': 15628, 'transplant': 15629, 'exam': 15630, 'drummond': 15631, 'aisling': 15632, 'overheard': 15633, 'robe': 15634, 'earnestly': 15635, 'extort': 15636, 'sternly': 15637, 'scowling': 15638, 'derelict': 15639, 'recess': 15640, 'troublemaker': 15641, 'conceptions': 15642, 'leonor': 15643, 'varela': 15644, 'leering': 15645, 'relishes': 15646, 'upscale': 15647, 'concocting': 15648, 'louisa': 15649, 'wooing': 15650, 'savoring': 15651, 'polito': 15652, 'taco': 15653, 'swaying': 15654, 'kazaam': 15655, 'genie': 15656, 'overpowered': 15657, 'hayao': 15658, 'prodigiously': 15659, 'macek': 15660, 'purist': 15661, 'laputa': 15662, 'translations': 15663, 'prays': 15664, 'shelter': 15665, 'buddha': 15666, 'praying': 15667, 'relieves': 15668, 'kanji': 15669, 'advertise': 15670, 'mast': 15671, 'heroics': 15672, 'druggie': 15673, 'occult': 15674, 'stepdaughter': 15675, 'footed': 15676, 'investor': 15677, 'mush': 15678, 'electrocuted': 15679, 'boiler': 15680, 'fanboy': 15681, 'posts': 15682, 'maureen': 15683, 'neighbour': 15684, 'iconic': 15685, 'laughless': 15686, 'weaker': 15687, 'deming': 15688, 'beltrami': 15689, 'prequels': 15690, 'tollbooth': 15691, 'stateside': 15692, 'shootout': 15693, 'pileup': 15694, 'machineguns': 15695, 'vidal': 15696, 'urine': 15697, 'glow': 15698, 'batfans': 15699, 'airwaves': 15700, 'knockout': 15701, 'furst': 15702, 'underpinnings': 15703, 'jams': 15704, 'quell': 15705, 'subjecting': 15706, 'criticize': 15707, 'competently': 15708, 'permeates': 15709, 'awakening': 15710, 'mongo': 15711, 'brownlee': 15712, 'jerod': 15713, 'mixon': 15714, 'bowman': 15715, 'labeling': 15716, 'incorrectly': 15717, 'unafraid': 15718, 'instrumental': 15719, 'infused': 15720, 'rote': 15721, 'mouthing': 15722, 'patented': 15723, 'solace': 15724, 'gomer': 15725, 'gustav': 15726, 'punishing': 15727, 'corps': 15728, 'rag': 15729, 'humiliation': 15730, 'decapitations': 15731, 'pulsating': 15732, 'mineo': 15733, 'backus': 15734, 'milestone': 15735, 'notwithstanding': 15736, 'rut': 15737, 'hoary': 15738, 'credence': 15739, 'chemical': 15740, 'maelstrom': 15741, 'nebbish': 15742, 'weighted': 15743, 'zerd': 15744, 'headline': 15745, 'telltale': 15746, 'blip': 15747, 'radiated': 15748, 'shearer': 15749, 'bickers': 15750, 'sweets': 15751, 'reproduces': 15752, 'capetanos': 15753, 'jarre': 15754, 'dipping': 15755, 'tempo': 15756, 'strausmann': 15757, 'cahoots': 15758, 'impersonate': 15759, 'tannenbaum': 15760, 'dimensionality': 15761, 'focal': 15762, 'reassuring': 15763, 'roster': 15764, 'envious': 15765, 'indirectly': 15766, 'intrusion': 15767, 'beauties': 15768, 'loading': 15769, 'boyhood': 15770, 'sherbet': 15771, 'communicating': 15772, 'microsoft': 15773, 'genital': 15774, 'warts': 15775, 'willy': 15776, 'cayhall': 15777, 'fold': 15778, 'angrily': 15779, 'cayhill': 15780, 'consummate': 15781, 'noses': 15782, 'hag': 15783, 'mortician': 15784, 'pigeonholed': 15785, 'thewlis': 15786, 'females': 15787, 'phenomenal': 15788, 'carradine': 15789, 'strangling': 15790, 'hospitable': 15791, 'matures': 15792, 'outcasts': 15793, 'ibanez': 15794, 'howser': 15795, 'arachnid': 15796, 'inquiries': 15797, 'goldmine': 15798, 'unengaging': 15799, 'radiate': 15800, 'narcotic': 15801, 'iggy': 15802, 'assasination': 15803, 'needle': 15804, 'docked': 15805, 'shudder': 15806, 'retro': 15807, 'resorting': 15808, 'fashionable': 15809, 'violin': 15810, 'unglamorous': 15811, 'badgers': 15812, 'paste': 15813, 'duplicate': 15814, 'specifications': 15815, 'nt': 15816, 'feats': 15817, 'wane': 15818, 'bonet': 15819, 'robards': 15820, 'emergence': 15821, 'chilly': 15822, 'masterminds': 15823, 'darkened': 15824, 'freaked': 15825, 'chilled': 15826, 'evaporated': 15827, 'justly': 15828, 'abolitionists': 15829, 'joadson': 15830, 'calhoun': 15831, 'advancement': 15832, 'traders': 15833, 'borman': 15834, 'ville': 15835, 'midsummer': 15836, 'collars': 15837, 'cuffs': 15838, 'daytime': 15839, 'caulfield': 15840, 'crest': 15841, 'daryl': 15842, 'buffoons': 15843, 'accusing': 15844, 'howlingly': 15845, 'buckets': 15846, 'requirement': 15847, 'emitting': 15848, 'supplies': 15849, 'jupiter': 15850, 'inadequate': 15851, 'humankind': 15852, 'flamed': 15853, 'amazon': 15854, 'attracting': 15855, 'ceased': 15856, 'expertly': 15857, 'lampoon': 15858, 'fiftieth': 15859, 'fatigue': 15860, 'cadence': 15861, 'induce': 15862, 'liable': 15863, 'cassandra': 15864, 'bentley': 15865, 'ghastly': 15866, 'calming': 15867, 'sexiness': 15868, 'tortures': 15869, 'vying': 15870, 'throttle': 15871, 'curricular': 15872, 'majors': 15873, 'piercing': 15874, 'airing': 15875, 'concerts': 15876, 'dissimilar': 15877, 'obligated': 15878, 'mcpherson': 15879, 'conversational': 15880, 'bind': 15881, 'sanders': 15882, 'hassled': 15883, 'impregnating': 15884, 'susanne': 15885, 'volcanoes': 15886, 'astronomy': 15887, 'stirred': 15888, 'widespread': 15889, 'craving': 15890, 'opposites': 15891, 'gladiators': 15892, 'intergalactic': 15893, 'unceremoniously': 15894, 'conquering': 15895, 'col': 15896, 'jacobson': 15897, 'formality': 15898, 'wildlife': 15899, 'pretext': 15900, 'digitized': 15901, 'arid': 15902, 'incompetently': 15903, 'reboux': 15904, 'slurping': 15905, 'transitory': 15906, 'purveyor': 15907, 'shadowing': 15908, 'dougray': 15909, 'phelps': 15910, 'imf': 15911, 'blackmail': 15912, 'pharmaceutical': 15913, 'retrieving': 15914, 'gutsy': 15915, 'troop': 15916, 'journeys': 15917, 'detracts': 15918, 'populate': 15919, 'scandalous': 15920, 'debatable': 15921, 'tura': 15922, 'harboring': 15923, 'fetishistic': 15924, 'deluge': 15925, 'ambient': 15926, 'cozy': 15927, 'shed': 15928, 'annihilate': 15929, 'mimics': 15930, 'preteen': 15931, 'buddying': 15932, 'isaac': 15933, 'premiered': 15934, 'cellmate': 15935, 'bauer': 15936, 'manolo': 15937, 'elvira': 15938, 'pruitt': 15939, 'smithville': 15940, 'employment': 15941, 'matisse': 15942, 'lodie': 15943, 'barr': 15944, 'subculture': 15945, 'worship': 15946, 'vacuum': 15947, 'lowered': 15948, 'coinciding': 15949, 'mugge': 15950, 'southwestern': 15951, 'instruments': 15952, 'commentaries': 15953, 'discards': 15954, 'ratzenberger': 15955, 'rickles': 15956, 'varney': 15957, 'lightyear': 15958, 'prospector': 15959, 'storage': 15960, 'edison': 15961, 'farrell': 15962, 'sanitized': 15963, 'revisionist': 15964, 'lightweight': 15965, 'waitresses': 15966, 'yup': 15967, 'dokken': 15968, 'toughest': 15969, 'yo': 15970, 'uproariously': 15971, 'unforgiving': 15972, 'unwise': 15973, 'swindle': 15974, 'trysts': 15975, 'settlements': 15976, 'tensy': 15977, 'lovelorn': 15978, 'backstabbing': 15979, 'molecular': 15980, 'grope': 15981, 'tzi': 15982, 'hsu': 15983, 'ratner': 15984, 'consul': 15985, 'tasmania': 15986, 'surfing': 15987, 'sherlock': 15988, 'momma': 15989, 'arabic': 15990, 'gibberish': 15991, 'nut': 15992, 'muggers': 15993, 'palin': 15994, 'immature': 15995, 'houston': 15996, 'pubescent': 15997, 'perched': 15998, 'sloppily': 15999, 'hathaway': 16000, 'goodall': 16001, 'miniscule': 16002, 'luminous': 16003, 'makeover': 16004, 'cane': 16005, 'terrifically': 16006, 'exits': 16007, 'controllers': 16008, 'newell': 16009, 'circulation': 16010, 'rants': 16011, 'lace': 16012, 'panties': 16013, 'youngster': 16014, 'tomato': 16015, 'stimulating': 16016, 'flustered': 16017, 'privates': 16018, 'mullally': 16019, 'selick': 16020, 'miley': 16021, 'roaming': 16022, 'kitty': 16023, 'temuera': 16024, 'weston': 16025, 'goofily': 16026, 'slim': 16027, 'naysayers': 16028, 'koch': 16029, 'refugees': 16030, 'henreid': 16031, 'preserving': 16032, 'coupling': 16033, 'happier': 16034, 'conversion': 16035, 'infinite': 16036, 'crenna': 16037, 'mcgraw': 16038, 'humorless': 16039, 'swami': 16040, 'zen': 16041, 'execs': 16042, 'unedifying': 16043, 'pajamas': 16044, 'prejudices': 16045, 'cuss': 16046, 'voyeur': 16047, 'technologies': 16048, 'exaggerates': 16049, 'oriental': 16050, 'confidently': 16051, 'barbed': 16052, 'bondage': 16053, 'liberated': 16054, 'congressional': 16055, 'retina': 16056, 'bi': 16057, 'recorder': 16058, 'runyon': 16059, 'oval': 16060, 'jogs': 16061, 'xbd': 16062, 'jacott': 16063, 'creations': 16064, 'instructions': 16065, 'ignites': 16066, 'dishes': 16067, 'emission': 16068, 'eligibility': 16069, 'delving': 16070, 'misfortune': 16071, 'jackman': 16072, 'underpants': 16073, 'midair': 16074, 'highs': 16075, 'photos': 16076, 'fancies': 16077, 'expenses': 16078, 'currency': 16079, 'dwell': 16080, 'stacked': 16081, 'cuckoo': 16082, 'osborne': 16083, 'relive': 16084, 'crushed': 16085, 'mindful': 16086, 'tarentino': 16087, 'regenerated': 16088, 'cyborgs': 16089, 'messier': 16090, 'refuge': 16091, 'startlingly': 16092, 'capitalizes': 16093, 'antagonizes': 16094, 'lea': 16095, 'charging': 16096, 'technicians': 16097, 'technician': 16098, 'erich': 16099, 'kunz': 16100, 'divorcing': 16101, 'fallacy': 16102, 'diverse': 16103, 'foppish': 16104, 'courtship': 16105, 'feuding': 16106, 'cutedom': 16107, 'annoyances': 16108, 'overseen': 16109, 'autos': 16110, 'castlebeck': 16111, 'consigned': 16112, 'litter': 16113, 'blandest': 16114, 'meditation': 16115, 'hustles': 16116, 'ovens': 16117, 'concoction': 16118, 'uninformed': 16119, 'scarborough': 16120, 'kiefer': 16121, 'rope': 16122, 'alias': 16123, 'swims': 16124, 'brainard': 16125, 'harden': 16126, 'medfield': 16127, 'denies': 16128, 'identically': 16129, 'schlocky': 16130, 'geiger': 16131, 'stored': 16132, 'tanker': 16133, 'profs': 16134, 'sabihy': 16135, 'vitti': 16136, 'arbitrarily': 16137, 'anguished': 16138, 'headset': 16139, 'arisen': 16140, 'lampooning': 16141, 'deteriorates': 16142, 'morass': 16143, 'bosna': 16144, 'intervene': 16145, 'bosnia': 16146, 'denial': 16147, 'gulp': 16148, 'animatronics': 16149, 'lac': 16150, 'condominas': 16151, 'balsan': 16152, 'gawain': 16153, 'prescribed': 16154, 'grail': 16155, 'beefy': 16156, 'pedophilia': 16157, 'interspersed': 16158, 'chamberlain': 16159, 'traveler': 16160, 'cough': 16161, 'clive': 16162, 'mysterians': 16163, 'biebe': 16164, 'resentful': 16165, 'lasts': 16166, 'mysterty': 16167, 'smugly': 16168, 'moot': 16169, 'rearing': 16170, 'disingenuous': 16171, 'slots': 16172, 'mandel': 16173, 'homeboys': 16174, 'kod': 16175, 'upright': 16176, 'prematurely': 16177, 'ordained': 16178, 'vendetta': 16179, 'slime': 16180, 'scraping': 16181, 'parkes': 16182, 'canines': 16183, 'singles': 16184, 'dariush': 16185, 'iranian': 16186, 'prosperous': 16187, 'iran': 16188, 'sacred': 16189, 'polygamy': 16190, 'boundary': 16191, 'potency': 16192, 'pyramids': 16193, 'revolted': 16194, 'squabbles': 16195, 'mutilate': 16196, 'businessmen': 16197, 'impulse': 16198, 'ilk': 16199, 'allied': 16200, 'seductress': 16201, 'wahrman': 16202, 'facher': 16203, 'polluted': 16204, 'jumped': 16205, 'confrontations': 16206, 'synonymous': 16207, 'wessell': 16208, 'orgy': 16209, 'embellish': 16210, 'presently': 16211, 'outwitting': 16212, 'steadily': 16213, 'offenbach': 16214, 'binoculars': 16215, 'mileage': 16216, 'mccawley': 16217, 'founding': 16218, 'idiosyncratic': 16219, 'quirkiness': 16220, 'concierge': 16221, 'rewritten': 16222, 'morrissey': 16223, 'flutist': 16224, 'cello': 16225, 'piers': 16226, 'shattered': 16227, 'lovejoy': 16228, 'henchman': 16229, 'johanssen': 16230, 'p': 16231, 'lout': 16232, 'textured': 16233, 'retains': 16234, 'magruder': 16235, 'dug': 16236, 'gu': 16237, 'leafy': 16238, 'backwoods': 16239, 'sweden': 16240, 'enhancers': 16241, 'custodians': 16242, 'innocently': 16243, 'emmanuel': 16244, 'nikon': 16245, 'renoly': 16246, 'santiago': 16247, 'phreak': 16248, 'geeks': 16249, 'cada': 16250, 'baffling': 16251, 'swayed': 16252, 'mower': 16253, 'brakes': 16254, 'steep': 16255, 'verlyn': 16256, 'tavern': 16257, 'pondering': 16258, 'penitentiary': 16259, 'mater': 16260, 'formalism': 16261, 'evers': 16262, 'gathers': 16263, 'parachutes': 16264, 'heroism': 16265, 'asteriked': 16266, 'schlictmann': 16267, 'apology': 16268, 'counsel': 16269, 'worrisome': 16270, 'protestors': 16271, 'stutter': 16272, 'scout': 16273, 'kin': 16274, 'nauseatingly': 16275, 'heslop': 16276, 'developer': 16277, 'labels': 16278, 'omaha': 16279, 'warnings': 16280, 'condolences': 16281, 'cedars': 16282, 'harwich': 16283, 'yelchin': 16284, 'boorem': 16285, 'institutions': 16286, 'confinement': 16287, 'copied': 16288, 'maternal': 16289, 'flickers': 16290, 'gunmen': 16291, 'xeda': 16292, 'valeria': 16293, 'natch': 16294, 'unconditional': 16295, 'downbeat': 16296, 'isaak': 16297, 'oregon': 16298, 'microscope': 16299, 'bille': 16300, 'thenardiers': 16301, 'yglesias': 16302, 'heft': 16303, 'youthful': 16304, 'laziest': 16305, 'nihilist': 16306, 'pocket': 16307, 'roseanne': 16308, 'jansen': 16309, 'ghallager': 16310, 'splattering': 16311, 'impacts': 16312, 'platinum': 16313, 'bierko': 16314, 'sentient': 16315, 'tapert': 16316, 'irina': 16317, 'liaisons': 16318, 'jeanette': 16319, 'teo': 16320, 'mournful': 16321, 'defence': 16322, 'complemented': 16323, 'bart': 16324, 'zeal': 16325, 'rowlf': 16326, 'durning': 16327, 'lew': 16328, 'banjo': 16329, 'brach': 16330, 'steen': 16331, 'guffroy': 16332, 'vanished': 16333, 'complicating': 16334, 'miseries': 16335, 'haughty': 16336, 'vertical': 16337, 'filmic': 16338, 'andrzej': 16339, 'liberally': 16340, 'biggerstaff': 16341, 'kamen': 16342, 'meatiest': 16343, 'elspeth': 16344, 'timers': 16345, 'chong': 16346, 'swapping': 16347, 'inviting': 16348, 'consult': 16349, 'schenkel': 16350, 'legions': 16351, 'advocating': 16352, 'registers': 16353, 'ravens': 16354, 'waddington': 16355, 'explorer': 16356, 'monotone': 16357, 'weismuller': 16358, 'concluding': 16359, 'brigante': 16360, 'remorseful': 16361, 'jerker': 16362, 'piven': 16363, 'orser': 16364, 'mckenzie': 16365, 'courageous': 16366, 'crises': 16367, 'hotchner': 16368, 'doughan': 16369, 'shyamalan': 16370, 'snowbell': 16371, 'supervisors': 16372, 'chen': 16373, 'slumber': 16374, 'katt': 16375, 'tweed': 16376, 'scantily': 16377, 'buttafuoco': 16378, 'dolce': 16379, 'vita': 16380, 'darrow': 16381, 'landlords': 16382, 'inhabited': 16383, 'healed': 16384, 'compete': 16385, 'confidentiality': 16386, 'applying': 16387, 'encouraged': 16388, 'remove': 16389, 'smear': 16390, 'exaggerations': 16391, 'sustaining': 16392, 'gomez': 16393, 'personalized': 16394, 'uniqueness': 16395, 'cabinets': 16396, 'pointedly': 16397, 'albanian': 16398, 'schumann': 16399, 'warchus': 16400, 'scatter': 16401, 'hudsucker': 16402, 'nymphomaniac': 16403, 'harbors': 16404, 'truer': 16405, 'equinox': 16406, 'unhappily': 16407, 'christie': 16408, 'assassins': 16409, 'cylk': 16410, 'cozart': 16411, 'potters': 16412, 'memorizing': 16413, 'preventing': 16414, 'hospitals': 16415, 'cheapest': 16416, 'luchini': 16417, 'radiantly': 16418, 'lauded': 16419, 'brannon': 16420, 'riffs': 16421, 'foch': 16422, 'johnathan': 16423, 'darby': 16424, 'kilronan': 16425, 'bolt': 16426, 'dysart': 16427, 'mikael': 16428, 'salomon': 16429, 'bryce': 16430, 'huntingburg': 16431, 'ulterior': 16432, 'shred': 16433, 'fukienese': 16434, 'compass': 16435, 'predicting': 16436, 'amiel': 16437, 'undemanding': 16438, 'chaykin': 16439, 'millenium': 16440, 'peacefully': 16441, 'reversals': 16442, 'stalker': 16443, 'bungalow': 16444, 'theroux': 16445, 'mchale': 16446, 'coughlan': 16447, 'nanni': 16448, 'jonze': 16449, 'portal': 16450, 'gushing': 16451, 'barrister': 16452, 'violins': 16453, 'horfield': 16454, 'fastest': 16455, 'playtone': 16456, 'wandered': 16457, 'havilland': 16458, 'recommends': 16459, 'vultures': 16460, 'borg': 16461, 'censorship': 16462, 'morissey': 16463, 'auriol': 16464, 'keely': 16465, 'flanders': 16466, 'tearjerker': 16467, 'cellist': 16468, 'effortlessly': 16469, 'misirables': 16470, 'hunger': 16471, 'metro': 16472, 'aiello': 16473, 'cruttwell': 16474, 'glenne': 16475, 'headly': 16476, 'splendor': 16477, 'bilal': 16478, 'moroccan': 16479, 'mackinnon': 16480, 'rudner': 16481, 'telescopes': 16482, 'majestic': 16483, 'forgiveable': 16484, 'nabbed': 16485, 'solanas': 16486, 'seas': 16487, 'gait': 16488, 'laurentiis': 16489, 'texture': 16490, 'dynamite': 16491, 'possibilites': 16492, 'cherot': 16493, 'inge': 16494, 'goulet': 16495, 'cleghorne': 16496, 'jukebox': 16497, 'loony': 16498, 'attentions': 16499, 'thelma': 16500, 'shan': 16501, 'yu': 16502, 'ferrer': 16503, 'decrees': 16504, 'zhou': 16505, 'tek': 16506, 'disgrace': 16507, 'vibrance': 16508, 'conscripted': 16509, 'foray': 16510, 'lurking': 16511, 'psychiatrists': 16512, 'corpses': 16513, 'gist': 16514, 'karl': 16515, 'hideously': 16516, 'servant': 16517, 'dromey': 16518, 'keogh': 16519, 'adversary': 16520, 'wilma': 16521, 'rourke': 16522, 'lindinger': 16523, 'basket': 16524, 'digimon': 16525, 'dubya': 16526, 'cleophus': 16527, 'schmaltzy': 16528, 'bubbling': 16529, 'infatuated': 16530, 'harmon': 16531, 'petaluma': 16532, 'earthlings': 16533, 'mastered': 16534, 'accentuate': 16535, 'exposes': 16536, 'tate': 16537, 'signify': 16538, 'elna': 16539, 'intimidate': 16540, 'tibetans': 16541, 'mandala': 16542, 'grains': 16543, 'tobolowsky': 16544, 'chinlund': 16545, 'mcdowell': 16546, 'myron': 16547, 'impaired': 16548, 'dreadfully': 16549, 'dalmatians': 16550, 'ingmar': 16551, 'lumps': 16552, 'thal': 16553, 'lau': 16554, 'subtitling': 16555, 'hazy': 16556, 'jade': 16557, 'shante': 16558, 'chestnut': 16559, 'kirstie': 16560, 'stepped': 16561, 'skipper': 16562, 'inconceivable': 16563, 'burlesque': 16564, 'befuddled': 16565, 'melora': 16566, 'hiatus': 16567, 'volcanic': 16568, 'proprietor': 16569, 'amorous': 16570, 'deduction': 16571, 'donahue': 16572, 'decieving': 16573, 'shou': 16574, 'soto': 16575, 'kitana': 16576, 'bahbuh': 16577, 'remar': 16578, 'melrose': 16579, 'reprogrammed': 16580, 'performence': 16581, 'forcibly': 16582, 'skeleton': 16583, 'holnists': 16584, 'topple': 16585, 'sidetracked': 16586, 'moodysson': 16587, 'organic': 16588, 'flirts': 16589, 'buyers': 16590, 'bakshi': 16591, 'mckinley': 16592, 'num': 16593, 'perado': 16594, 'torsos': 16595, 'welder': 16596, 'rabbit': 16597, 'brandi': 16598, 'updated': 16599, 'para': 16600, 'inconsistencies': 16601, 'lists': 16602, 'briscoe': 16603, 'chelcie': 16604, 'shootouts': 16605, 'belone': 16606, 'preferences': 16607, 'nudie': 16608, 'bai': 16609, 'masry': 16610, 'heeled': 16611, 'angrier': 16612, 'olek': 16613, 'krupa': 16614, 'haviland': 16615, 'kilner': 16616, 'raja': 16617, 'gosnell': 16618, 'incapacitate': 16619, 'torrid': 16620, 'quilty': 16621, 'hinge': 16622, 'conedison': 16623, 'itami': 16624, 'terk': 16625, 'rapping': 16626, 'storyteller': 16627, 'eomann': 16628, 'sinead': 16629, 'beringer': 16630, 'interpol': 16631, 'castles': 16632, 'massah': 16633, 'archbishop': 16634, 'weirder': 16635, 'picoy': 16636, 'joff': 16637, 'chiseled': 16638, 'governmental': 16639, 'cristal': 16640, 'roald': 16641, 'tantoo': 16642, 'cherokee': 16643, 'kathryn': 16644, 'erbe': 16645, 'natascha': 16646, 'mcelhone': 16647, 'uprising': 16648, 'protosevich': 16649, 'mahree': 16650, 'costuming': 16651, 'cloak': 16652, 'satyr': 16653, 'goat': 16654, 'tuesdays': 16655, 'rameses': 16656, 'miners': 16657, 'sparkle': 16658, 'covertly': 16659, 'overdubbed': 16660, 'looping': 16661, 'foodstuffs': 16662, 'slowing': 16663, 'coulter': 16664, 'defunct': 16665, 'bertram': 16666, 'shuffle': 16667, 'confiding': 16668, 'edmund': 16669, 'priggish': 16670, 'levelled': 16671, 'purists': 16672, 'insinuated': 16673, 'flagrante': 16674, 'bonkfest': 16675, 'cretins': 16676, 'falsities': 16677, 'dissuaded': 16678, 'skimming': 16679, 'scoff': 16680, 'dramatizations': 16681, 'glamorama': 16682, 'kaleidoscope': 16683, 'disservice': 16684, 'hogging': 16685, 'vapidity': 16686, 'tailored': 16687, 'embossed': 16688, 'introverted': 16689, 'declan': 16690, 'facile': 16691, 'tract': 16692, 'sensationalized': 16693, 'doublespeak': 16694, 'embracing': 16695, 'amphetamines': 16696, 'apparantly': 16697, 'gratuity': 16698, 'leverage': 16699, 'scalper': 16700, 'hatchett': 16701, 'involvment': 16702, 'frivilous': 16703, 'milla': 16704, 'jovivovich': 16705, 'orginally': 16706, 'annialation': 16707, 'unltimate': 16708, 'billioniare': 16709, 'zorg': 16710, 'leeloo': 16711, 'surprime': 16712, 'rodd': 16713, 'orpah': 16714, 'whinfrey': 16715, 'dolllar': 16716, 'wasnted': 16717, 'guarenteed': 16718, 'charmless': 16719, 'splintering': 16720, 'counselors': 16721, 'enrages': 16722, 'cobb': 16723, 'grazer': 16724, 'kehela': 16725, 'seresin': 16726, 'cloying': 16727, 'accord': 16728, 'threshold': 16729, 'intuitive': 16730, 'sample': 16731, 'manufacture': 16732, 'crouched': 16733, 'obviousness': 16734, 'davidon': 16735, 'encompassed': 16736, 'writed': 16737, 'eqypt': 16738, 'hieroglyphics': 16739, 'decipherer': 16740, 'wyat': 16741, 'fetal': 16742, 'goddam': 16743, 'cilvilization': 16744, 'androginous': 16745, 'modifier': 16746, 'tut': 16747, 'asswhole': 16748, 'lemme': 16749, 'pesudo': 16750, 'mst': 16751, 'godforsaken': 16752, 'ime': 16753, 'trysha': 16754, 'bakker': 16755, 'deveu': 16756, 'pronouncing': 16757, 'graduates': 16758, 'rumors': 16759, 'lamely': 16760, 'lehmann': 16761, 'reusing': 16762, 'languidly': 16763, 'charitable': 16764, 'romanian': 16765, 'putrid': 16766, 'amen': 16767, 'complained': 16768, 'taint': 16769, 'nooks': 16770, 'crannies': 16771, 'busts': 16772, 'bangers': 16773, 'vinessa': 16774, 'matthrew': 16775, 'pritts': 16776, 'foisting': 16777, 'manchild': 16778, 'spastic': 16779, 'veterinarian': 16780, 'reputed': 16781, 'drafted': 16782, 'incompetence': 16783, 'shoelaces': 16784, 'pissant': 16785, 'marksman': 16786, 'crimefighters': 16787, 'numbs': 16788, 'foretold': 16789, 'spurts': 16790, 'illiteracy': 16791, 'pyrite': 16792, 'jeannine': 16793, 'dominy': 16794, 'maffio': 16795, 'domenico': 16796, 'guila': 16797, 'lezze': 16798, 'pietro': 16799, 'lapaine': 16800, 'serafino': 16801, 'eauty': 16802, 'subordination': 16803, 'genial': 16804, 'juncture': 16805, 'commerce': 16806, 'livelihoods': 16807, 'hedonistic': 16808, 'transaction': 16809, 'wining': 16810, 'dining': 16811, 'envied': 16812, 'lieutenants': 16813, 'publish': 16814, 'richest': 16815, 'awestruck': 16816, 'bantering': 16817, 'serenely': 16818, 'turks': 16819, 'encroachment': 16820, 'ire': 16821, 'inarguable': 16822, 'transmits': 16823, 'partnered': 16824, 'distinctions': 16825, 'ribald': 16826, 'bojan': 16827, 'sixteenth': 16828, 'garwood': 16829, 'indelible': 16830, 'penalty': 16831, 'nailbiter': 16832, 'foregone': 16833, 'denizen': 16834, 'millionaires': 16835, 'pornographers': 16836, 'bowlers': 16837, 'jee': 16838, 'zus': 16839, 'soos': 16840, 'rebuked': 16841, 'observant': 16842, 'cinematographr': 16843, 'deakins': 16844, 'pissers': 16845, 'immortalizing': 16846, 'unforgettably': 16847, 'oakland': 16848, 'tribune': 16849, 'wasington': 16850, 'fishy': 16851, 'composure': 16852, 'adapt': 16853, 'klavan': 16854, 'perfromance': 16855, 'physicfirst': 16856, 'vibrantly': 16857, 'handicap': 16858, 'retinal': 16859, 'maladjustment': 16860, 'starrer': 16861, 'massaging': 16862, 'joyous': 16863, 'glimpsed': 16864, 'satisfyingly': 16865, 'levitt': 16866, 'deduce': 16867, 'winnings': 16868, 'thuroughly': 16869, 'divulge': 16870, 'villiage': 16871, 'jenaro': 16872, 'prieto': 16873, 'socio': 16874, 'thiel': 16875, 'doogan': 16876, 'wallach': 16877, 'fallon': 16878, 'interscope': 16879, 'polygram': 16880, 'dispel': 16881, 'prejudicial': 16882, 'patterned': 16883, 'perpetuating': 16884, 'ruthlessly': 16885, 'testorone': 16886, 'tilted': 16887, 'sweetie': 16888, 'enlargements': 16889, 'proceeding': 16890, 'interpreted': 16891, 'stereotupical': 16892, 'errected': 16893, 'deservesbecause': 16894, 'achives': 16895, 'gleefulness': 16896, 'subpoenaed': 16897, 'fathers': 16898, 'overcoming': 16899, 'steely': 16900, 'marginalized': 16901, 'ver': 16902, 'storline': 16903, 'dealth': 16904, 'cariacatures': 16905, 'imbalance': 16906, 'retells': 16907, 'gored': 16908, 'tng': 16909, 'pumpkin': 16910, 'mutter': 16911, 'nacho': 16912, 'novo': 16913, 'maru': 16914, 'valdivieso': 16915, 'oliveira': 16916, 'valiente': 16917, 'peru': 16918, 'jaroslav': 16919, 'bielski': 16920, 'earthshaking': 16921, 'palindromic': 16922, 'foreshadowed': 16923, 'crafts': 16924, 'squishing': 16925, 'cronos': 16926, 'embarrsingly': 16927, 'disoreitating': 16928, 'peformances': 16929, 'sterotypes': 16930, 'timer': 16931, 'irredeemably': 16932, 'pigheaded': 16933, 'deployment': 16934, 'grafted': 16935, 'squeaking': 16936, 'grinding': 16937, 'airheadedness': 16938, 'indecisiveness': 16939, 'bleats': 16940, 'preferential': 16941, 'protocols': 16942, 'marcienko': 16943, 'enlistees': 16944, 'seargeants': 16945, 'plodded': 16946, 'onwards': 16947, 'beholden': 16948, 'alessandro': 16949, 'ture': 16950, 'aiplaones': 16951, 'hangars': 16952, 'pullocks': 16953, 'peachy': 16954, 'planted': 16955, 'rediculous': 16956, 'prolems': 16957, 'acadamy': 16958, 'gerhon': 16959, 'rainbow': 16960, 'doves': 16961, 'megillah': 16962, 'prob': 16963, 'stor': 16964, 'unaddressed': 16965, 'undermining': 16966, 'yearnings': 16967, 'abomination': 16968, 'niftiest': 16969, 'mildew': 16970, 'inhabiting': 16971, 'lifeforce': 16972, 'hunches': 16973, 'junichiro': 16974, 'silhouettes': 16975, 'likeablity': 16976, 'companionship': 16977, 'behavious': 16978, 'believabilty': 16979, 'hammers': 16980, 'whips': 16981, 'spanked': 16982, 'categorization': 16983, 'sanctioned': 16984, 'retaliating': 16985, 'tomahawk': 16986, 'plaza': 16987, 'invitation': 16988, 'backfire': 16989, 'curtail': 16990, 'arabs': 16991, 'violated': 16992, 'authorizes': 16993, 'suspending': 16994, 'forcefully': 16995, 'constitutionality': 16996, 'invocation': 16997, 'menno': 16998, 'meyjes': 16999, 'fortitude': 17000, 'evidencing': 17001, 'filial': 17002, 'graeme': 17003, 'arabian': 17004, 'curtolo': 17005, 'mullen': 17006, 'wiring': 17007, 'thickened': 17008, 'collide': 17009, 'gleiberman': 17010, 'ope': 17011, 'mabe': 17012, 'pigs': 17013, 'primordial': 17014, 'rumbles': 17015, 'hums': 17016, 'belches': 17017, 'portals': 17018, 'lions': 17019, 'gapes': 17020, 'filmy': 17021, 'billowy': 17022, 'computerized': 17023, 'spooketeria': 17024, 'lamps': 17025, 'terrify': 17026, 'hash': 17027, 'morphing': 17028, 'projections': 17029, 'subconscience': 17030, 'paralells': 17031, 'linking': 17032, 'baseless': 17033, 'shopkeeper': 17034, 'supremacist': 17035, 'relevance': 17036, 'atrociously': 17037, 'kressler': 17038, 'wkrp': 17039, 'interrogates': 17040, 'itzin': 17041, 'mackie': 17042, 'pringle': 17043, 'cordelia': 17044, 'armendariz': 17045, 'patronize': 17046, 'elitism': 17047, 'vargas': 17048, 'arrangements': 17049, 'listing': 17050, 'erotically': 17051, 'stupidest': 17052, 'corresponded': 17053, 'blissful': 17054, 'operatic': 17055, 'adjusting': 17056, 'vamping': 17057, 'cagey': 17058, 'accelerates': 17059, 'snidely': 17060, 'potboiler': 17061, 'egomaniacal': 17062, 'eberhardt': 17063, 'elbling': 17064, 'goodrow': 17065, 'hora': 17066, 'dilley': 17067, 'strassman': 17068, 'oliveri': 17069, 'shrunk': 17070, 'variously': 17071, 'electromagnetic': 17072, 'inventor': 17073, 'szalinski': 17074, 'quotient': 17075, 'aah': 17076, 'retained': 17077, 'szalinskis': 17078, 'mythological': 17079, 'freudian': 17080, 'sociological': 17081, 'ft': 17082, 'howls': 17083, 'regulation': 17084, 'overawed': 17085, 'squids': 17086, 'lilliputians': 17087, 'watchman': 17088, 'straws': 17089, 'heggs': 17090, 'setter': 17091, 'homeier': 17092, 'beckett': 17093, 'sargent': 17094, 'overnite': 17095, 'shears': 17096, 'unsuitable': 17097, 'ober': 17098, 'passageway': 17099, 'bulldoze': 17100, 'roxburgh': 17101, 'vries': 17102, 'enthusiast': 17103, 'skunk': 17104, 'scurrying': 17105, 'opulent': 17106, 'operates': 17107, 'casy': 17108, 'connundrum': 17109, 'cappuccino': 17110, 'proffessor': 17111, 'agreements': 17112, 'therapists': 17113, 'psyches': 17114, 'hypnotist': 17115, 'launches': 17116, 'roomate': 17117, 'mcguire': 17118, 'buds': 17119, 'kasinsky': 17120, 'schmuck': 17121, 'exstensive': 17122, 'hypocritical': 17123, 'generalization': 17124, 'parallelism': 17125, 'acheives': 17126, 'awesomeness': 17127, 'posessing': 17128, 'reccomending': 17129, 'rossellini': 17130, 'mowing': 17131, 'nominally': 17132, 'sadists': 17133, 'oddness': 17134, 'obscurity': 17135, 'miracuously': 17136, 'rossellinia': 17137, 'esoteric': 17138, 'theatens': 17139, 'barray': 17140, 'pepe': 17141, 'mateo': 17142, 'gil': 17143, 'fascinate': 17144, 'infact': 17145, 'interrogated': 17146, 'pelayo': 17147, 'chatting': 17148, 'nuria': 17149, 'embarrasing': 17150, 'congrats': 17151, 'wallpapers': 17152, 'puttering': 17153, 'bitchiness': 17154, 'unfetching': 17155, 'aaaaaah': 17156, 'senor': 17157, 'wences': 17158, 'idio': 17159, 'dammit': 17160, 'friendssynopsis': 17161, 'languishing': 17162, 'regales': 17163, 'impediment': 17164, 'dalmatian': 17165, 'pup': 17166, 'parrots': 17167, 'furball': 17168, 'exclaim': 17169, 'dads': 17170, 'bambi': 17171, 'oomph': 17172, 'mcnugent': 17173, 'topnotch': 17174, 'nelkan': 17175, 'setback': 17176, 'baily': 17177, 'laments': 17178, 'apprehension': 17179, 'resulted': 17180, 'uncooperative': 17181, 'panicky': 17182, 'newsman': 17183, 'smalltime': 17184, 'affiliate': 17185, 'fickle': 17186, 'nunn': 17187, 'potts': 17188, 'nationally': 17189, 'outshine': 17190, 'gloves': 17191, 'sensationalistic': 17192, 'enjoyability': 17193, 'botches': 17194, 'gullible': 17195, 'repectively': 17196, 'expediency': 17197, 'cumbersome': 17198, 'mindel': 17199, 'surveilance': 17200, 'offed': 17201, 'naturalist': 17202, 'posession': 17203, 'ominpotence': 17204, 'mysterioso': 17205, 'authorties': 17206, 'streetwalkers': 17207, 'commitments': 17208, 'extentions': 17209, 'mockingly': 17210, 'spewing': 17211, 'envoke': 17212, 'assemble': 17213, 'jeopardize': 17214, 'catalog': 17215, 'overemotional': 17216, 'armand': 17217, 'impregnates': 17218, 'falcone': 17219, 'toning': 17220, 'helds': 17221, 'biggie': 17222, 'rationally': 17223, 'vernacular': 17224, 'rations': 17225, 'disintegrates': 17226, 'jonesing': 17227, 'twigs': 17228, 'draining': 17229, 'wracking': 17230, 'cnet': 17231, 'despondence': 17232, 'exhaustion': 17233, 'improv': 17234, 'scotch': 17235, 'haddaway': 17236, 'heckerling': 17237, 'brotherly': 17238, 'hotties': 17239, 'pelvic': 17240, 'fortenberry': 17241, 'koren': 17242, 'rift': 17243, 'stonily': 17244, 'spray': 17245, 'bravest': 17246, 'thee': 17247, 'whack': 17248, 'mightiest': 17249, 'hullo': 17250, 'motorcycles': 17251, 'yipes': 17252, 'gracefully': 17253, 'kell': 17254, 'barletta': 17255, 'licia': 17256, 'hitchhike': 17257, 'catania': 17258, 'unattainable': 17259, 'groceries': 17260, 'florist': 17261, 'holistic': 17262, 'grazia': 17263, 'massironi': 17264, 'unmarried': 17265, 'overreacts': 17266, 'moonlit': 17267, 'ironed': 17268, 'applicant': 17269, 'giuseppe': 17270, 'battiston': 17271, 'misfortunes': 17272, 'gunfight': 17273, 'salvati': 17274, 'howler': 17275, 'cadavers': 17276, 'quotable': 17277, 'erratic': 17278, 'patchy': 17279, 'electro': 17280, 'completists': 17281, 'vindicate': 17282, 'unbiased': 17283, 'busload': 17284, 'reggie': 17285, 'bythewood': 17286, 'hurried': 17287, 'eliminates': 17288, 'farrakhan': 17289, 'dollies': 17290, 'cranes': 17291, 'tripods': 17292, 'ossie': 17293, 'listener': 17294, 'lehman': 17295, 'kimble': 17296, 'disobeying': 17297, 'slipups': 17298, 'fuhrer': 17299, 'bradsell': 17300, 'djurkovic': 17301, 'wiseman': 17302, 'speranza': 17303, 'ehle': 17304, 'gemma': 17305, 'wanamaker': 17306, 'ada': 17307, 'leverson': 17308, 'celebre': 17309, 'compromises': 17310, 'impossibility': 17311, 'nastier': 17312, 'condensations': 17313, 'simplifications': 17314, 'reverent': 17315, 'pasteur': 17316, 'oscared': 17317, 'zola': 17318, 'juarez': 17319, 'reuter': 17320, 'erlich': 17321, 'sacrosanct': 17322, 'gance': 17323, 'viva': 17324, 'zapata': 17325, 'cite': 17326, 'mell': 17327, 'gogh': 17328, 'arabia': 17329, 'tous': 17330, 'matins': 17331, 'monde': 17332, 'claudel': 17333, 'luxemburg': 17334, 'hanussen': 17335, 'honorably': 17336, 'viv': 17337, 'unrevolutionary': 17338, 'arabesque': 17339, 'burgess': 17340, 'reconstruct': 17341, 'selective': 17342, 'inspirations': 17343, 'esthete': 17344, 'poseur': 17345, 'plunges': 17346, 'parlance': 17347, 'houseguest': 17348, 'capricious': 17349, 'epigrams': 17350, 'concurrently': 17351, 'temperamental': 17352, 'prodded': 17353, 'initiating': 17354, 'libel': 17355, 'victorian': 17356, 'programmer': 17357, 'fisburne': 17358, 'swooping': 17359, 'motherlode': 17360, 'irritate': 17361, 'saxophone': 17362, 'catatonically': 17363, 'peeping': 17364, 'inception': 17365, 'infinitum': 17366, 'rossio': 17367, 'stillman': 17368, 'steig': 17369, 'jenson': 17370, 'yucky': 17371, 'fractured': 17372, 'nobleman': 17373, 'awk': 17374, 'impolite': 17375, 'banishes': 17376, 'unveils': 17377, 'purrs': 17378, 'selects': 17379, 'moat': 17380, 'pests': 17381, 'grump': 17382, 'domicile': 17383, 'souvenir': 17384, 'swipes': 17385, 'acrimony': 17386, 'honcho': 17387, 'eisner': 17388, 'issuing': 17389, 'sandbox': 17390, 'farquaads': 17391, 'irreverence': 17392, 'tainted': 17393, 'trot': 17394, 'taunting': 17395, 'uploaded': 17396, 'overloaded': 17397, 'seeps': 17398, 'uploading': 17399, 'hilarities': 17400, 'dolphin': 17401, 'longo': 17402, 'immigrated': 17403, 'neuromancer': 17404, 'cyberpunk': 17405, 'unconscious': 17406, 'yanking': 17407, 'tapeheads': 17408, 'geyser': 17409, 'haystack': 17410, 'parasail': 17411, 'truant': 17412, 'heirs': 17413, 'wetsuits': 17414, 'surfboards': 17415, 'skateboards': 17416, 'hawaiian': 17417, 'armoire': 17418, 'ranger': 17419, 'billionth': 17420, 'odoriferous': 17421, 'wormer': 17422, 'demonstrable': 17423, 'skateboard': 17424, 'moist': 17425, 'ingested': 17426, 'dumbo': 17427, 'messily': 17428, 'septic': 17429, 'leaks': 17430, 'booted': 17431, 'potty': 17432, 'ingenuity': 17433, 'laxative': 17434, 'accommodates': 17435, 'handcuff': 17436, 'boggs': 17437, 'dawkins': 17438, 'titus': 17439, 'pummel': 17440, 'tarp': 17441, 'dethroning': 17442, 'auditorium': 17443, 'encouragement': 17444, 'sh': 17445, 'rasslin': 17446, 'aficionado': 17447, 'frightfully': 17448, 'misbegotten': 17449, 'retardation': 17450, 'scattershot': 17451, 'diddly': 17452, 'groaned': 17453, 'chunky': 17454, 'dampens': 17455, 'nirto': 17456, 'bountiful': 17457, 'ahhh': 17458, 'shoestring': 17459, 'hardworking': 17460, 'funari': 17461, 'bitterly': 17462, 'overexposed': 17463, 'jarringly': 17464, 'repulse': 17465, 'fondled': 17466, 'bucket': 17467, 'sinner': 17468, 'aztec': 17469, 'priestess': 17470, 'zillion': 17471, 'grunt': 17472, 'crawled': 17473, 'shrubs': 17474, 'weeds': 17475, 'installations': 17476, 'fort': 17477, 'foreheads': 17478, 'pointy': 17479, 'goatee': 17480, 'bureaucratic': 17481, 'ooooo': 17482, 'xxv': 17483, 'scrutinize': 17484, 'eyelids': 17485, 'converted': 17486, 'whelming': 17487, 'reeled': 17488, 'sinker': 17489, 'everytime': 17490, 'cancerogenic': 17491, 'raison': 17492, 'xeatre': 17493, 'katharine': 17494, 'hepburn': 17495, 'tawdry': 17496, 'bisexuality': 17497, 'threesomes': 17498, 'catfights': 17499, 'bimbos': 17500, 'topicality': 17501, 'campfest': 17502, 'smattering': 17503, 'yachting': 17504, 'enclave': 17505, 'seductively': 17506, 'fundraiser': 17507, 'trollop': 17508, 'allegations': 17509, 'rapes': 17510, 'afoot': 17511, 'grinds': 17512, 'titillation': 17513, 'crate': 17514, 'corkscrews': 17515, 'stitch': 17516, 'stunner': 17517, 'bombshells': 17518, 'flexes': 17519, 'chameleonic': 17520, 'conspiring': 17521, 'postcards': 17522, 'mercado': 17523, 'fredo': 17524, 'prestia': 17525, 'bouncers': 17526, 'gregoire': 17527, 'aversion': 17528, 'marketers': 17529, 'seashell': 17530, 'seagull': 17531, 'orient': 17532, 'triton': 17533, 'merpeople': 17534, 'lusting': 17535, 'deter': 17536, 'ursula': 17537, 'potbelly': 17538, 'scholl': 17539, 'pricks': 17540, 'cauldron': 17541, 'caters': 17542, 'logically': 17543, 'tanning': 17544, 'seals': 17545, 'rained': 17546, 'hacky': 17547, 'spyglass': 17548, 'beheaded': 17549, 'visualizing': 17550, 'regicide': 17551, 'afar': 17552, 'gentlewoman': 17553, 'maidservant': 17554, 'meudon': 17555, 'tinier': 17556, 'patriots': 17557, 'resisting': 17558, 'implodes': 17559, 'blueblood': 17560, 'unprepared': 17561, 'philipe': 17562, 'massacres': 17563, 'procession': 17564, 'rioters': 17565, 'brandishing': 17566, 'stagy': 17567, 'disembodied': 17568, 'drifts': 17569, 'sheltering': 17570, 'passport': 17571, 'robespierre': 17572, 'equalizers': 17573, 'ceaseless': 17574, 'monitoring': 17575, 'imprisonment': 17576, 'correspondence': 17577, 'imperious': 17578, 'intrusions': 17579, 'deliberation': 17580, 'disconnects': 17581, 'foolery': 17582, 'didactic': 17583, 'imperfect': 17584, 'staunch': 17585, 'artifice': 17586, 'vastness': 17587, 'groundlessness': 17588, 'houyhnhnms': 17589, 'justifying': 17590, 'concluded': 17591, 'paws': 17592, 'usefulness': 17593, 'sudan': 17594, 'hil': 17595, 'stifles': 17596, 'spotty': 17597, 'dropper': 17598, 'visualization': 17599, 'lon': 17600, 'chaney': 17601, 'emotes': 17602, 'spartacus': 17603, 'allusion': 17604, 'schnook': 17605, 'energize': 17606, 'exchanged': 17607, 'reinvention': 17608, 'hypnotized': 17609, 'clung': 17610, 'harumph': 17611, 'jazzy': 17612, 'zippy': 17613, 'flagging': 17614, 'bookshop': 17615, 'enamored': 17616, 'premieres': 17617, 'limousines': 17618, 'carpets': 17619, 'resurfaces': 17620, 'bumbles': 17621, 'apricots': 17622, 'hurting': 17623, 'iniquity': 17624, 'bonneville': 17625, 'treetop': 17626, 'enhancement': 17627, 'thrower': 17628, 'slickest': 17629, 'bruising': 17630, 'uniting': 17631, 'moviehunt': 17632, 'htmlare': 17633, 'predestination': 17634, 'castleton': 17635, 'belongings': 17636, 'rails': 17637, 'accomplishing': 17638, 'backpedaling': 17639, 'suitors': 17640, 'poseurs': 17641, 'plumbing': 17642, 'loan': 17643, 'lyn': 17644, 'vaus': 17645, 'romances': 17646, 'subliminally': 17647, 'persistence': 17648, 'terrel': 17649, 'glorified': 17650, 'cont': 17651, 'inually': 17652, 'springsteen': 17653, 'snapped': 17654, 'paperback': 17655, 'continuations': 17656, 'clunky': 17657, 'bwa': 17658, 'kershner': 17659, 'disarming': 17660, 'wildy': 17661, 'esentially': 17662, 'libelous': 17663, 'amounted': 17664, 'eater': 17665, 'bridal': 17666, 'actionable': 17667, 'vindication': 17668, 'complicate': 17669, 'flowed': 17670, 'digested': 17671, 'eulogy': 17672, 'underdogs': 17673, 'strikeout': 17674, 'bookie': 17675, 'guam': 17676, 'stipend': 17677, 'drowsy': 17678, 'gangs': 17679, 'coyle': 17680, 'dewayne': 17681, 'tactic': 17682, 'nap': 17683, 'scummy': 17684, 'taut': 17685, 'bleich': 17686, 'crashland': 17687, 'employers': 17688, 'gill': 17689, 'tempest': 17690, 'facilities': 17691, 'ettedgui': 17692, 'ignatieff': 17693, 'rhetorically': 17694, 'lulling': 17695, 'negg': 17696, 'relieve': 17697, 'rapacious': 17698, 'magnus': 17699, 'underpopulated': 17700, 'neighbouring': 17701, 'bloods': 17702, 'larina': 17703, 'lensky': 17704, 'romanticizing': 17705, 'flippant': 17706, 'nineteenth': 17707, 'inky': 17708, 'torrent': 17709, 'womanly': 17710, 'wordly': 17711, 'miserly': 17712, 'grouch': 17713, 'pines': 17714, 'ebeneezer': 17715, 'scrooge': 17716, 'constricted': 17717, 'petula': 17718, 'jealousy': 17719, 'loyalties': 17720, 'sketchy': 17721, 'archetypal': 17722, 'thoroughbreds': 17723, 'xtc': 17724, 'spasmodic': 17725, 'valleys': 17726, 'tableware': 17727, 'drippy': 17728, 'expressionistically': 17729, 'echoing': 17730, 'adafarasin': 17731, 'campion': 17732, 'stallions': 17733, 'roped': 17734, 'ownership': 17735, 'unjustified': 17736, 'groaning': 17737, 'brides': 17738, 'buses': 17739, 'oiled': 17740, 'blane': 17741, 'moor': 17742, 'pincus': 17743, 'distracts': 17744, 'sandow': 17745, 'nozik': 17746, 'prinzi': 17747, 'titanics': 17748, 'trotted': 17749, 'irritatingly': 17750, 'depress': 17751, 'peeks': 17752, 'bumming': 17753, 'shacking': 17754, 'housebound': 17755, 'branching': 17756, 'bahns': 17757, 'mcmullen': 17758, 'interval': 17759, 'repetitions': 17760, 'periodic': 17761, 'synchronized': 17762, 'assasinated': 17763, 'reappearing': 17764, 'eligible': 17765, 'verstandig': 17766, 'impuissant': 17767, 'neglecting': 17768, 'protagabot': 17769, 'jetsons': 17770, 'ventured': 17771, 'commonly': 17772, 'battery': 17773, 'tots': 17774, 'jerking': 17775, 'imperfection': 17776, 'bids': 17777, 'lookd': 17778, 'kuras': 17779, 'ajay': 17780, 'naidu': 17781, 'parisian': 17782, 'blur': 17783, 'booked': 17784, 'halting': 17785, 'dawned': 17786, 'mothered': 17787, 'flicker': 17788, 'courteous': 17789, 'tubby': 17790, 'cognac': 17791, 'sweeter': 17792, 'amour': 17793, 'gloss': 17794, 'trannsferred': 17795, 'gladstone': 17796, 'unpopular': 17797, 'perch': 17798, 'dimwit': 17799, 'campaigner': 17800, 'goldie': 17801, 'fosdick': 17802, 'wilfrid': 17803, 'brambell': 17804, 'steptoe': 17805, 'handedness': 17806, 'hunchback': 17807, 'notre': 17808, 'childishness': 17809, 'asians': 17810, 'feudal': 17811, 'emporer': 17812, 'groveling': 17813, 'stuggles': 17814, 'chang': 17815, 'libs': 17816, 'attilla': 17817, 'myagi': 17818, 'delinquent': 17819, 'battista': 17820, 'pergolesi': 17821, 'compositions': 17822, 'miroslav': 17823, 'ondr': 17824, 'xedcek': 17825, 'deepak': 17826, 'unfulfilling': 17827, 'uninterestingly': 17828, 'waxen': 17829, 'mohamed': 17830, 'karaman': 17831, 'unreasonable': 17832, 'palme': 17833, 'moonlighted': 17834, 'exuberance': 17835, 'chronology': 17836, 'edginess': 17837, 'famously': 17838, 'vantages': 17839, 'foxy': 17840, 'arranges': 17841, 'banyon': 17842, 'disloyal': 17843, 'ronee': 17844, 'blakley': 17845, 'wyss': 17846, 'corri': 17847, 'krueger': 17848, 'conceptual': 17849, 'spurned': 17850, 'credibly': 17851, 'scan': 17852, 'bios': 17853, 'boxed': 17854, 'encyclopedia': 17855, 'snippets': 17856, 'limitless': 17857, 'dormitories': 17858, 'pursuits': 17859, 'hg': 17860, 'megalomania': 17861, 'isabelle': 17862, 'undue': 17863, 'phantomlike': 17864, 'tantalising': 17865, 'hogtie': 17866, 'feebly': 17867, 'gosh': 17868, 'voicework': 17869, 'temptations': 17870, 'molests': 17871, 'surest': 17872, 'gamely': 17873, 'proactive': 17874, 'slotnick': 17875, 'hollowman': 17876, 'bttf': 17877, 'scraper': 17878, 'infest': 17879, 'mutate': 17880, 'gargoyle': 17881, 'microwaving': 17882, 'marge': 17883, 'popped': 17884, 'stratus': 17885, 'uunet': 17886, 'lectroid': 17887, 'harmonica': 17888, 'frosty': 17889, 'oversentimental': 17890, 'zinger': 17891, 'snowdad': 17892, 'featherbrained': 17893, 'prancer': 17894, 'doumanian': 17895, 'atchesonif': 17896, 'peons': 17897, 'conceited': 17898, 'deprecation': 17899, 'recruited': 17900, 'divorces': 17901, 'shacks': 17902, 'continuum': 17903, 'nailing': 17904, 'recaptured': 17905, 'remarries': 17906, 'disengaging': 17907, 'delighting': 17908, 'inexpensive': 17909, 'demographic': 17910, 'understate': 17911, 'meteoric': 17912, 'renown': 17913, 'oddity': 17914, 'prominence': 17915, 'drapes': 17916, 'wga': 17917, 'coup': 17918, 'satirically': 17919, 'tirade': 17920, 'splashy': 17921, 'nightmarishly': 17922, 'gutting': 17923, 'dizzyingly': 17924, 'exhilaratingly': 17925, 'campily': 17926, 'reuniting': 17927, 'roars': 17928, 'protectively': 17929, 'expanded': 17930, 'sirens': 17931, 'misdirection': 17932, 'unmasked': 17933, 'glazed': 17934, 'imaginatively': 17935, 'culled': 17936, 'incapacitated': 17937, 'ambles': 17938, 'defensively': 17939, 'rebukes': 17940, 'incompetency': 17941, 'substantive': 17942, 'augmented': 17943, 'zealousness': 17944, 'decimating': 17945, 'glatzer': 17946, 'gregson': 17947, 'summa': 17948, 'laude': 17949, 'captions': 17950, 'interrogation': 17951, 'detector': 17952, 'administered': 17953, 'epilepsy': 17954, 'deepens': 17955, 'questioners': 17956, 'credulity': 17957, 'unreliable': 17958, 'discrepancies': 17959, 'rotary': 17960, 'liven': 17961, 'tightrope': 17962, 'entrusted': 17963, 'majestically': 17964, 'pervious': 17965, 'rota': 17966, 'amassed': 17967, 'charities': 17968, 'sicily': 17969, 'corleones': 17970, 'fallible': 17971, 'crookier': 17972, 'carmine': 17973, 'grander': 17974, 'uncomplicated': 17975, 'talia': 17976, 'shire': 17977, 'completing': 17978, 'quicksand': 17979, 'reviewa': 17980, 'lasso': 17981, 'compiled': 17982, 'tarantula': 17983, 'hellbent': 17984, 'smidgeon': 17985, 'peephole': 17986, 'neckbraces': 17987, 'polarity': 17988, 'beatles': 17989, 'vapidly': 17990, 'warmers': 17991, 'beesley': 17992, 'puff': 17993, 'superstardom': 17994, 'unicorns': 17995, 'rainbows': 17996, 'balloons': 17997, 'loudest': 17998, 'headlights': 17999, 'watered': 18000, 'absurdly': 18001, 'playset': 18002, 'petrified': 18003, 'typewriters': 18004, 'downtown': 18005, 'designated': 18006, 'flailing': 18007, 'desktop': 18008, 'macnicol': 18009, 'cattrall': 18010, 'hahaha': 18011, 'snorkeling': 18012, 'clamor': 18013, 'haphazard': 18014, 'metamorphosis': 18015, 'introversion': 18016, 'seducer': 18017, 'disrupting': 18018, 'gielgud': 18019, 'assists': 18020, 'heywood': 18021, 'inedible': 18022, 'scalding': 18023, 'winthrop': 18024, 'maturation': 18025, 'gasped': 18026, 'veered': 18027, 'spill': 18028, 'willa': 18029, 'shelley': 18030, 'stepchildren': 18031, 'chapin': 18032, 'quartered': 18033, 'flaunted': 18034, 'salutes': 18035, 'stroller': 18036, 'raheem': 18037, 'crackled': 18038, 'rabbinical': 18039, 'torah': 18040, 'cortez': 18041, 'agee': 18042, 'birdie': 18043, 'spoons': 18044, 'varden': 18045, 'motherly': 18046, 'lillian': 18047, 'dueling': 18048, 'hymns': 18049, 'underdone': 18050, 'descending': 18051, 'retrospectives': 18052, 'seafood': 18053, 'fartsy': 18054, 'pretension': 18055, 'incongruent': 18056, 'priscilla': 18057, 'tangled': 18058, 'butterfly': 18059, 'gnosis': 18060, 'whimsy': 18061, 'ingrains': 18062, 'existential': 18063, 'pistols': 18064, 'mcgloneunfortunately': 18065, 'hardass': 18066, 'nun': 18067, 'movieviewsthe': 18068, 'dodging': 18069, 'mccann': 18070, 'persuasive': 18071, 'smoother': 18072, 'scrounge': 18073, 'legless': 18074, 'welch': 18075, 'dross': 18076, 'plod': 18077, 'daft': 18078, 'wisecrack': 18079, 'lynching': 18080, 'ineptness': 18081, 'ungainly': 18082, 'machinery': 18083, 'sonnenfelds': 18084, 'recalled': 18085, 'published': 18086, 'chancellor': 18087, 'gaskell': 18088, 'mcdormand': 18089, 'prescription': 18090, 'memorabilia': 18091, 'lugging': 18092, 'crabtree': 18093, 'dictated': 18094, 'offhandedly': 18095, 'grind': 18096, 'evading': 18097, 'ballooned': 18098, 'mammoth': 18099, 'manuscript': 18100, 'muses': 18101, 'valuables': 18102, 'fragmenting': 18103, 'placidness': 18104, 'wonderboys': 18105, 'sexstarring': 18106, 'heigl': 18107, 'stabile': 18108, 'enable': 18109, 'stow': 18110, 'eloped': 18111, 'harping': 18112, 'compute': 18113, 'sprightly': 18114, 'outstrips': 18115, 'margin': 18116, 'runaround': 18117, 'slimeballs': 18118, 'elbows': 18119, 'interleaved': 18120, 'fests': 18121, 'vase': 18122, 'elemer': 18123, 'ragalyi': 18124, 'silvi': 18125, 'rosario': 18126, 'pino': 18127, 'donaggio': 18128, 'raddison': 18129, 'len': 18130, 'cariou': 18131, 'kelleher': 18132, 'lipinski': 18133, 'cheski': 18134, 'knighted': 18135, 'unpraised': 18136, 'carbondale': 18137, 'tenuous': 18138, 'ergo': 18139, 'coarse': 18140, 'phrasing': 18141, 'unprintable': 18142, 'censorless': 18143, 'tattooed': 18144, 'discourses': 18145, 'connoisseur': 18146, 'impenetrability': 18147, 'incrementally': 18148, 'siliconed': 18149, 'theoretically': 18150, 'intermittently': 18151, 'suspecting': 18152, 'heater': 18153, 'electrocute': 18154, 'shipload': 18155, 'locomotives': 18156, 'partitions': 18157, 'freight': 18158, 'jails': 18159, 'separations': 18160, 'bursted': 18161, 'salesmen': 18162, 'weasel': 18163, 'microbombs': 18164, 'canoe': 18165, 'speeds': 18166, 'dodges': 18167, 'sprinter': 18168, 'stooped': 18169, 'greenberg': 18170, 'goldenthal': 18171, 'interminably': 18172, 'cadre': 18173, 'sincerely': 18174, 'optioned': 18175, 'devolves': 18176, 'welcoming': 18177, 'awed': 18178, 'automatons': 18179, 'quadruple': 18180, 'penance': 18181, 'absolution': 18182, 'barrie': 18183, 'massett': 18184, 'zinman': 18185, 'nubile': 18186, 'grins': 18187, 'bazooms': 18188, 'strolls': 18189, 'beefcake': 18190, 'grimy': 18191, 'smoggy': 18192, 'ugliest': 18193, 'pike': 18194, 'shiva': 18195, 'halves': 18196, 'poppa': 18197, 'pzoniaks': 18198, 'facelessness': 18199, 'hypocrite': 18200, 'wimp': 18201, 'experimentation': 18202, 'schuster': 18203, 'trese': 18204, 'miscues': 18205, 'dodgy': 18206, 'aggravate': 18207, 'knutt': 18208, 'revengeful': 18209, 'bresslaw': 18210, 'wealthiest': 18211, 'scathingly': 18212, 'jelly': 18213, 'sprinkle': 18214, 'alligators': 18215, 'ding': 18216, 'dong': 18217, 'paup': 18218, 'ooooh': 18219, 'affirm': 18220, 'guelph': 18221, 'hoser': 18222, 'restarted': 18223, 'gasping': 18224, 'mayough': 18225, 'dea': 18226, 'fulvio': 18227, 'bowles': 18228, 'encouragment': 18229, 'prostatic': 18230, 'lauer': 18231, 'wallstreet': 18232, 'timex': 18233, 'indiglo': 18234, 'dane': 18235, 'basing': 18236, 'traci': 18237, 'schlockfest': 18238, 'decently': 18239, 'rochelle': 18240, 'hypnotises': 18241, 'barondes': 18242, 'transfusions': 18243, 'caberat': 18244, 'modes': 18245, 'dapper': 18246, 'winkless': 18247, 'illogically': 18248, 'swoop': 18249, 'treks': 18250, 'antenna': 18251, 'sculptures': 18252, 'lodger': 18253, 'beatnik': 18254, 'outlast': 18255, 'bonked': 18256, 'murrieta': 18257, 'chugging': 18258, 'eskow': 18259, 'rosio': 18260, 'spielbergs': 18261, 'monotony': 18262, 'kulich': 18263, 'storh': 18264, 'bonnevie': 18265, 'mischa': 18266, 'hausserman': 18267, 'sven': 18268, 'wollter': 18269, 'desantis': 18270, 'asbj': 18271, 'rn': 18272, 'riis': 18273, 'wisher': 18274, 'superstitions': 18275, 'skirmishes': 18276, 'pungent': 18277, 'dismemberment': 18278, 'roving': 18279, 'cannibalistic': 18280, 'norse': 18281, 'unintelligible': 18282, 'hygiene': 18283, 'smelly': 18284, 'foils': 18285, 'demises': 18286, 'grouse': 18287, 'partaking': 18288, 'facepaint': 18289, 'murky': 18290, 'helmer': 18291, 'jurrasic': 18292, 'yielded': 18293, 'whimpering': 18294, 'mcdougall': 18295, 'tienne': 18296, 'abouts': 18297, 'travelers': 18298, 'degenerate': 18299, 'philosopher': 18300, 'swiftly': 18301, 'lacey': 18302, 'dowager': 18303, 'lansbury': 18304, 'unrest': 18305, 'buoyant': 18306, 'rumored': 18307, 'dokuchitz': 18308, 'bluth': 18309, 'vlad': 18310, 'callaway': 18311, 'articulates': 18312, 'prancing': 18313, 'capping': 18314, 'lullaby': 18315, 'verse': 18316, 'enveloping': 18317, 'ahrens': 18318, 'schoolhouse': 18319, 'adherence': 18320, 'hindrance': 18321, 'bartok': 18322, 'ragged': 18323, 'handdrawn': 18324, 'cinemascope': 18325, 'contests': 18326, 'hardback': 18327, 'compilation': 18328, 'filipino': 18329, 'cusp': 18330, 'alexi': 18331, 'fatter': 18332, 'latches': 18333, 'fraternizing': 18334, 'cultish': 18335, 'recruiting': 18336, 'combed': 18337, 'ignoramus': 18338, 'inferiority': 18339, 'scientologists': 18340, 'coloured': 18341, 'amphetamine': 18342, 'bigshot': 18343, 'affirmations': 18344, 'feeder': 18345, 'insiders': 18346, 'jumpers': 18347, 'cahiers': 18348, 'comediennes': 18349, 'masturbator': 18350, 'deflower': 18351, 'germphobe': 18352, 'michigan': 18353, 'studly': 18354, 'sharpest': 18355, 'makin': 18356, 'whoopee': 18357, 'guiltily': 18358, 'differentiates': 18359, 'evidently': 18360, 'libidinous': 18361, 'fresher': 18362, 'strait': 18363, 'blemish': 18364, 'fs': 18365, 'toilets': 18366, 'looming': 18367, 'dorm': 18368, 'traeger': 18369, 'broder': 18370, 'resurface': 18371, 'evaporates': 18372, 'grate': 18373, 'slogs': 18374, 'gigliotti': 18375, 'atchesonplaywright': 18376, 'seething': 18377, 'couplet': 18378, 'iambic': 18379, 'pentameter': 18380, 'defines': 18381, 'panders': 18382, 'slimeball': 18383, 'fennymann': 18384, 'searing': 18385, 'admires': 18386, 'overflows': 18387, 'rozencrantz': 18388, 'guildenstern': 18389, 'boundless': 18390, 'dabbling': 18391, 'pub': 18392, 'apothecary': 18393, 'quibbling': 18394, 'deplorable': 18395, 'controversies': 18396, 'shagwell': 18397, 'restrictions': 18398, 'wage': 18399, 'flatulent': 18400, 'rables': 18401, 'invariably': 18402, 'somethings': 18403, 'bulls': 18404, 'cruelly': 18405, 'unsparing': 18406, 'censoring': 18407, 'distinctively': 18408, 'fx': 18409, 'latura': 18410, 'carbon': 18411, 'paramedic': 18412, 'hk': 18413, 'trundle': 18414, 'batterings': 18415, 'beatings': 18416, 'immersion': 18417, 'stride': 18418, 'cyberspace': 18419, 'vehemence': 18420, 'stupidly': 18421, 'kabuki': 18422, 'sushi': 18423, 'foes': 18424, 'slog': 18425, 'tangents': 18426, 'io': 18427, 'mandate': 18428, 'scruches': 18429, 'intresting': 18430, 'colanised': 18431, 'blabbed': 18432, 'richter': 18433, 'drilled': 18434, 'excusable': 18435, 'ticoton': 18436, 'tranisition': 18437, 'dreamquest': 18438, 'appaling': 18439, 'quatto': 18440, 'imaganitive': 18441, 'intruded': 18442, 'haley': 18443, 'bludgeoned': 18444, 'colleges': 18445, 'callously': 18446, 'justifies': 18447, 'stupefied': 18448, 'negates': 18449, 'stumped': 18450, 'munchausen': 18451, 'dateline': 18452, 'brauva': 18453, 'ibn': 18454, 'fahdlan': 18455, 'tarveling': 18456, 'norsemen': 18457, 'choosen': 18458, 'arguement': 18459, 'casted': 18460, 'lyonne': 18461, 'steinberg': 18462, 'degradation': 18463, 'prude': 18464, 'travails': 18465, 'recipients': 18466, 'humiliations': 18467, 'outdated': 18468, 'commodity': 18469, 'comedown': 18470, 'riehle': 18471, 'larue': 18472, 'storyboarded': 18473, 'betcha': 18474, 'teasing': 18475, 'disrupts': 18476, 'spilling': 18477, 'teased': 18478, 'delegate': 18479, 'headcount': 18480, 'gobs': 18481, 'bandits': 18482, 'dessert': 18483, 'overwhelm': 18484, 'disadvantage': 18485, 'overplayed': 18486, 'gatherings': 18487, 'coda': 18488, 'gygax': 18489, 'objectively': 18490, 'whet': 18491, 'appetite': 18492, 'scarf': 18493, 'bbc': 18494, 'traditionally': 18495, 'sparsely': 18496, 'yahtzee': 18497, 'wields': 18498, 'roguish': 18499, 'accumulates': 18500, 'thieving': 18501, 'elven': 18502, 'tracker': 18503, 'marrina': 18504, 'gluttonous': 18505, 'arenberg': 18506, 'despatched': 18507, 'adventuring': 18508, 'alliterative': 18509, 'spur': 18510, 'soar': 18511, 'boobytrapped': 18512, 'marbles': 18513, 'surname': 18514, 'misapprehension': 18515, 'vicks': 18516, 'vapo': 18517, 'mitigated': 18518, 'covetous': 18519, 'copse': 18520, 'lamented': 18521, 'dungeonsanddragons': 18522, 'soderburgh': 18523, 'perfected': 18524, 'lightheartedness': 18525, 'inmate': 18526, 'frightful': 18527, 'selena': 18528, 'iconoclasm': 18529, 'underage': 18530, 'bribe': 18531, 'restriction': 18532, 'obsessing': 18533, 'spout': 18534, 'desensitize': 18535, 'mutterings': 18536, 'smeller': 18537, 'laurels': 18538, 'nationalities': 18539, 'sadam': 18540, 'softie': 18541, 'neural': 18542, 'ropes': 18543, 'serena': 18544, 'romania': 18545, 'longed': 18546, 'glutton': 18547, 'juries': 18548, 'judgements': 18549, 'legislation': 18550, 'snobbery': 18551, 'serialised': 18552, 'novelisation': 18553, 'traumatised': 18554, 'supplement': 18555, 'budgets': 18556, 'coincided': 18557, 'surge': 18558, 'pesimism': 18559, 'thorny': 18560, 'considerations': 18561, 'quash': 18562, 'organa': 18563, 'intercepted': 18564, 'cruiser': 18565, 'prowse': 18566, 'tatooine': 18567, 'defended': 18568, 'eisely': 18569, 'furry': 18570, 'chewbacca': 18571, 'mayhew': 18572, 'quashing': 18573, 'aviation': 18574, 'fortress': 18575, 'tolkien': 18576, 'supertechnology': 18577, 'cushing': 18578, 'stears': 18579, 'enchantment': 18580, 'majorly': 18581, 'jaunts': 18582, 'godawful': 18583, 'mick': 18584, 'poseidon': 18585, 'errupts': 18586, 'carrol': 18587, 'inanely': 18588, 'eruting': 18589, 'schweppervescent': 18590, 'pratically': 18591, 'keital': 18592, 'zabriskie': 18593, 'arye': 18594, 'overlord': 18595, 'rockin': 18596, 'particulars': 18597, 'suspensor': 18598, 'wham': 18599, 'highwaymen': 18600, 'irritable': 18601, 'rochester': 18602, 'cking': 18603, 'puttingly': 18604, 'deceived': 18605, 'dell': 18606, 'gazarra': 18607, 'ingenuous': 18608, 'justifiable': 18609, 'pellington': 18610, 'bukowski': 18611, 'deprez': 18612, 'gorai': 18613, 'gossett': 18614, 'scobee': 18615, 'paragon': 18616, 'voltaire': 18617, 'destroyers': 18618, 'cock': 18619, 'consoled': 18620, 'staggers': 18621, 'improbabilities': 18622, 'sneaker': 18623, 'flanked': 18624, 'neighborly': 18625, 'dis': 18626, 'disapproves': 18627, 'papa': 18628, 'uncharacteristically': 18629, 'woolly': 18630, 'naysayer': 18631, 'feverishly': 18632, 'phoning': 18633, 'chasers': 18634, 'broadsides': 18635, 'undamaged': 18636, 'evoking': 18637, 'indirection': 18638, 'uncalled': 18639, 'minutely': 18640, 'connects': 18641, 'obsessions': 18642, 'mudding': 18643, 'obliterated': 18644, 'rubish': 18645, 'retarted': 18646, 'cume': 18647, 'amercian': 18648, 'pheiffer': 18649, 'simpler': 18650, 'juggles': 18651, 'biased': 18652, 'schmoe': 18653, 'reeling': 18654, 'sweathog': 18655, 'fever': 18656, 'lemonade': 18657, 'fonzie': 18658, 'bowed': 18659, 'johnhodge': 18660, 'garland': 18661, 'masahiro': 18662, 'hirakubo': 18663, 'keaty': 18664, 'ea': 18665, 'dicapriocorn': 18666, 'reinforced': 18667, 'caprio': 18668, 'xer': 18669, 'druggies': 18670, 'hippies': 18671, 'communes': 18672, 'ipso': 18673, 'conformism': 18674, 'euphemism': 18675, 'beaches': 18676, 'lagoons': 18677, 'handmade': 18678, 'itinerary': 18679, 'immensity': 18680, 'coyly': 18681, 'riviera': 18682, 'pregnancies': 18683, 'dentists': 18684, 'symbolizes': 18685, 'dumfounded': 18686, 'twosome': 18687, 'cartoonishness': 18688, 'infantilism': 18689, 'mistrusts': 18690, 'nearest': 18691, 'kopenyang': 18692, 'vittels': 18693, 'tampons': 18694, 'doping': 18695, 'spinsterish': 18696, 'prudishly': 18697, 'tooth': 18698, 'mauled': 18699, 'agony': 18700, 'abundant': 18701, 'prayers': 18702, 'raft': 18703, 'astronomic': 18704, 'provocation': 18705, 'hallelujah': 18706, 'handel': 18707, 'doubting': 18708, 'crusades': 18709, 'vigilante': 18710, 'instigate': 18711, 'nozaki': 18712, 'teck': 18713, 'crackdown': 18714, 'predates': 18715, 'assassinates': 18716, 'mith': 18717, 'pilleggi': 18718, 'cannery': 18719, 'compulsively': 18720, 'budgeted': 18721, 'engrosses': 18722, 'spearheaded': 18723, 'ransomed': 18724, 'opec': 18725, 'gunpoint': 18726, 'recapped': 18727, 'liquidate': 18728, 'handshake': 18729, 'captives': 18730, 'mossad': 18731, 'mountingly': 18732, 'ingratiates': 18733, 'grasping': 18734, 'smartness': 18735, 'bassett': 18736, 'chuba': 18737, 'shay': 18738, 'bunk': 18739, 'trashing': 18740, 'deutchman': 18741, 'gladstein': 18742, 'dolly': 18743, 'arangements': 18744, 'soaring': 18745, 'shimmer': 18746, 'plagiarize': 18747, 'perceptiveness': 18748, 'guided': 18749, 'matarazzo': 18750, 'envelop': 18751, 'lanky': 18752, 'depthless': 18753, 'revolved': 18754, 'carpenters': 18755, 'padding': 18756, 'offshoot': 18757, 'cruncher': 18758, 'steakley': 18759, 'screamish': 18760, 'latecomer': 18761, 'resolidify': 18762, 'bram': 18763, 'stoker': 18764, 'myths': 18765, 'bloodsuckers': 18766, 'cables': 18767, 'ashes': 18768, 'vamp': 18769, 'passionless': 18770, 'posse': 18771, 'nears': 18772, 'disasterously': 18773, 'crusaders': 18774, 'returing': 18775, 'squaring': 18776, 'chemically': 18777, 'steroid': 18778, 'devise': 18779, 'vendela': 18780, 'degenerative': 18781, 'pennyworth': 18782, 'multimillion': 18783, 'flashiness': 18784, 'emblems': 18785, 'favourites': 18786, 'grunted': 18787, 'observatory': 18788, 'afred': 18789, 'graveness': 18790, 'permutation': 18791, 'lackadasically': 18792, 'undoubtably': 18793, 'villainess': 18794, 'utterance': 18795, 'yuk': 18796, 'aplenty': 18797, 'moniters': 18798, 'blinking': 18799, 'removal': 18800, 'marble': 18801, 'addams': 18802, 'recommeded': 18803, 'tammy': 18804, 'grimes': 18805, 'mendes': 18806, 'cindra': 18807, 'charis': 18808, 'michelson': 18809, 'negatively': 18810, 'beliner': 18811, 'conciousness': 18812, 'suger': 18813, 'portrtayal': 18814, 'characted': 18815, 'wh': 18816, 'riches': 18817, 'invlove': 18818, 'steaminess': 18819, 'insecurities': 18820, 'va': 18821, 'stealthily': 18822, 'nastassja': 18823, 'zsuzsa': 18824, 'czink': 18825, 'czi': 18826, 'bal': 18827, 'zs': 18828, 'galk': 18829, 'nurtured': 18830, 'hula': 18831, 'hamburgers': 18832, 'dabble': 18833, 'locking': 18834, 'dawdle': 18835, 'publishing': 18836, 'reacted': 18837, 'terse': 18838, 'sobbing': 18839, 'reassurances': 18840, 'gnes': 18841, 'nfalvy': 18842, 'grandchildren': 18843, 'pluck': 18844, 'settling': 18845, 'athan': 18846, 'bezaitis': 18847, 'ef': 18848, 'epitomized': 18849, 'fats': 18850, 'outsmarting': 18851, 'sorcerer': 18852, 'effigy': 18853, 'marek': 18854, 'kanievska': 18855, 'luminary': 18856, 'mckay': 18857, 'possum': 18858, 'ox': 18859, 'diminish': 18860, 'auberjonois': 18861, 'hagerty': 18862, 'sleuth': 18863, 'riverton': 18864, 'industrialist': 18865, 'cluey': 18866, 'harriet': 18867, 'fisted': 18868, 'gadgetmobile': 18869, 'accommodate': 18870, 'norwood': 18871, 'hyman': 18872, 'piet': 18873, 'kroon': 18874, 'sito': 18875, 'slovenly': 18876, 'unappetizing': 18877, 'infomercial': 18878, 'grungiest': 18879, 'consternation': 18880, 'plops': 18881, 'wresting': 18882, 'ingesting': 18883, 'painkiller': 18884, 'snitch': 18885, 'flu': 18886, 'fluish': 18887, 'sired': 18888, 'antic': 18889, 'puck': 18890, 'stint': 18891, 'chubbuck': 18892, 'breasted': 18893, 'sculptress': 18894, 'grad': 18895, 'transference': 18896, 'plaster': 18897, 'inmates': 18898, 'orientated': 18899, 'doppelganger': 18900, 'blazingly': 18901, 'herniated': 18902, 'mcnamara': 18903, 'townie': 18904, 'rowing': 18905, 'scouting': 18906, 'surfaced': 18907, 'membership': 18908, 'attains': 18909, 'branded': 18910, 'rulebook': 18911, 'voting': 18912, 'flipped': 18913, 'disagreement': 18914, 'chuckling': 18915, 'humiliating': 18916, 'pinch': 18917, 'fuses': 18918, 'ensuring': 18919, 'mutually': 18920, 'chairman': 18921, 'litten': 18922, 'levritt': 18923, 'caleb': 18924, 'preserves': 18925, 'chum': 18926, 'puncture': 18927, 'humoring': 18928, 'sheepishly': 18929, 'overlooks': 18930, 'barnacles': 18931, 'miscalculated': 18932, 'boneheaded': 18933, 'bubblegum': 18934, 'unifying': 18935, 'shite': 18936, 'quintet': 18937, 'chisolm': 18938, 'croon': 18939, 'silky': 18940, 'naoki': 18941, 'mori': 18942, 'humphries': 18943, 'shutterbug': 18944, 'brien': 18945, 'sketches': 18946, 'bootcamp': 18947, 'wonderbra': 18948, 'insurmountable': 18949, 'truncated': 18950, 'wardrobes': 18951, 'stemmed': 18952, 'hurrah': 18953, 'horta': 18954, 'derrickson': 18955, 'anson': 18956, 'punishable': 18957, 'comely': 18958, 'refund': 18959, 'swooning': 18960, 'cauffiel': 18961, 'irritated': 18962, 'insipidly': 18963, 'analyzed': 18964, 'touche': 18965, 'sarafian': 18966, 'astin': 18967, 'amiri': 18968, 'baraka': 18969, 'wendell': 18970, 'ariyan': 18971, 'divisions': 18972, 'bulington': 18973, 'admissions': 18974, 'hails': 18975, 'ghettos': 18976, 'spectrum': 18977, 'satires': 18978, 'vittorio': 18979, 'storaro': 18980, 'unenviable': 18981, 'facilitate': 18982, 'incriminating': 18983, 'embezzling': 18984, 'disability': 18985, 'badge': 18986, 'conventionalism': 18987, 'compressed': 18988, 'redeems': 18989, 'preconception': 18990, 'swat': 18991, 'itching': 18992, 'typecasting': 18993, 'breathers': 18994, 'characterizes': 18995, 'negotiators': 18996, 'skids': 18997, 'watery': 18998, 'futility': 18999, 'payload': 19000, 'columbian': 19001, 'catalyst': 19002, 'dent': 19003, 'scribbling': 19004, 'detox': 19005, 'kettle': 19006, 'plaintive': 19007, 'mychael': 19008, 'danna': 19009, 'shimmering': 19010, 'shivers': 19011, 'tingles': 19012, 'sarossy': 19013, 'mountainsides': 19014, 'fogs': 19015, 'giustino': 19016, 'durano': 19017, 'bini': 19018, 'bustric': 19019, 'horst': 19020, 'bucholz': 19021, 'lifeisbeaut': 19022, 'fostered': 19023, 'emphatically': 19024, 'outstandingly': 19025, 'orefice': 19026, 'giorgio': 19027, 'cantarini': 19028, 'occupy': 19029, 'imprison': 19030, 'relaxes': 19031, 'reassures': 19032, 'intially': 19033, 'mangold': 19034, 'paralysed': 19035, 'exceeded': 19036, 'practising': 19037, 'tas': 19038, 'dancefloor': 19039, 'cruellest': 19040, 'unspeakably': 19041, 'hurtful': 19042, 'girlie': 19043, 'mags': 19044, 'brainwashed': 19045, 'miffed': 19046, 'realisation': 19047, 'enthusing': 19048, 'contemptful': 19049, 'disruption': 19050, 'overdo': 19051, 'lancaster': 19052, 'guild': 19053, 'steams': 19054, 'transcending': 19055, 'ballyhooed': 19056, 'pricetag': 19057, 'dogging': 19058, 'fairs': 19059, 'overtures': 19060, 'freewheeling': 19061, 'haves': 19062, 'nots': 19063, 'snots': 19064, 'lookouts': 19065, 'disapproving': 19066, 'rama': 19067, 'sommers': 19068, 'chevillat': 19069, 'sybil': 19070, 'piglet': 19071, 'inflatable': 19072, 'processing': 19073, 'corniness': 19074, 'geoff': 19075, 'stier': 19076, 'maurizio': 19077, 'calvesi': 19078, 'bu': 19079, 'uel': 19080, 'panton': 19081, 'alluding': 19082, 'clarifications': 19083, 'quotations': 19084, 'cluttering': 19085, 'flint': 19086, 'munitions': 19087, 'factories': 19088, 'arsenals': 19089, 'sidetracks': 19090, 'bogging': 19091, 'conspirators': 19092, 'twentysomething': 19093, 'pervasiveness': 19094, 'anarchist': 19095, 'intellectuals': 19096, 'bribery': 19097, 'unhinged': 19098, 'theorist': 19099, 'strangeness': 19100, 'stefano': 19101, 'dionisi': 19102, 'femi': 19103, 'ogumbanjo': 19104, 'hanne': 19105, 'klintoe': 19106, 'pointlessly': 19107, 'intercutting': 19108, 'benoit': 19109, 'delhomme': 19110, 'deities': 19111, 'kauffman': 19112, 'unwritten': 19113, 'blockubuster': 19114, 'hynek': 19115, 'roswell': 19116, 'sonorra': 19117, 'coincide': 19118, 'muncie': 19119, 'guiler': 19120, 'lacombe': 19121, 'wyoming': 19122, 'perilous': 19123, 'pickets': 19124, 'disciplined': 19125, 'virtuoso': 19126, 'trumbull': 19127, 'haskin': 19128, 'conspiratorial': 19129, 'excitements': 19130, 'multidimensionality': 19131, 'garr': 19132, 'skinned': 19133, 'suppressing': 19134, 'zelweggar': 19135, 'typicalness': 19136, 'dispite': 19137, 'nerving': 19138, 'wayyyy': 19139, 'lindberg': 19140, 'canerday': 19141, 'undergone': 19142, 'realist': 19143, 'hickam': 19144, 'coalwood': 19145, 'scholarships': 19146, 'satellite': 19147, 'drafting': 19148, 'jumanji': 19149, 'rocketeer': 19150, 'orginality': 19151, 'inventory': 19152, 'annoys': 19153, 'eensy': 19154, 'teensy': 19155, 'squish': 19156, 'unflushed': 19157, 'newport': 19158, 'unhappiness': 19159, 'devastingly': 19160, 'cucumber': 19161, 'recovered': 19162, 'awoke': 19163, 'insulin': 19164, 'stepson': 19165, 'renowed': 19166, 'simplifies': 19167, 'semitic': 19168, 'prejudiced': 19169, 'liar': 19170, 'culpability': 19171, 'ambiguousness': 19172, 'reversalf': 19173, 'flutters': 19174, 'wallow': 19175, 'tinsel': 19176, 'indulging': 19177, 'unredeeming': 19178, 'decibel': 19179, 'rabe': 19180, 'drazan': 19181, 'bottomless': 19182, 'spellman': 19183, 'heim': 19184, 'vinegar': 19185, 'satanists': 19186, 'waved': 19187, 'ludicrously': 19188, 'danvers': 19189, 'cobweb': 19190, 'knitting': 19191, 'worshippers': 19192, 'infanticide': 19193, 'superimposed': 19194, 'mantganithe': 19195, 'crockett': 19196, 'davers': 19197, 'incumbent': 19198, 'waging': 19199, 'democrats': 19200, 'clintonesqe': 19201, 'weeping': 19202, 'stabs': 19203, 'teeter': 19204, 'flushed': 19205, 'doctoring': 19206, 'equaled': 19207, 'treason': 19208, 'trailing': 19209, 'gangsta': 19210, 'boyz': 19211, 'liability': 19212, 'rallies': 19213, 'rhythmless': 19214, 'lingo': 19215, 'unrequited': 19216, 'knockingly': 19217, 'synthesizing': 19218, 'crossbreeding': 19219, 'corralls': 19220, 'dopier': 19221, 'doughboy': 19222, 'smithson': 19223, 'runway': 19224, 'nookie': 19225, 'guilelessness': 19226, 'hammering': 19227, 'alwasy': 19228, 'swooshing': 19229, 'disturb': 19230, 'dimming': 19231, 'cows': 19232, 'believer': 19233, 'wrist': 19234, 'gushes': 19235, 'profusely': 19236, 'thereabouts': 19237, 'intervals': 19238, 'oy': 19239, 'doe': 19240, 'flirty': 19241, 'pier': 19242, 'jerseyite': 19243, 'missle': 19244, 'nukes': 19245, 'nametag': 19246, 'interspersing': 19247, 'reliving': 19248, 'equilibrium': 19249, 'lisp': 19250, 'accenting': 19251, 'haws': 19252, 'devastates': 19253, 'fancied': 19254, 'tackling': 19255, 'coraci': 19256, 'gravenese': 19257, 'sloth': 19258, 'incomprehension': 19259, 'inclination': 19260, 'adulation': 19261, 'greener': 19262, 'emerald': 19263, 'dissatisfied': 19264, 'skidding': 19265, 'injuring': 19266, 'plunged': 19267, 'traumatized': 19268, 'nolensville': 19269, 'tenn': 19270, 'quoted': 19271, 'administer': 19272, 'rancher': 19273, 'sophisticate': 19274, 'plains': 19275, 'horseman': 19276, 'ranchers': 19277, 'venerate': 19278, 'homespun': 19279, 'mashed': 19280, 'potatoes': 19281, 'thickly': 19282, 'buttered': 19283, 'bookers': 19284, 'wistfully': 19285, 'corral': 19286, 'ranches': 19287, 'marlboro': 19288, 'cowpokes': 19289, 'equine': 19290, 'rehabilitated': 19291, 'considerate': 19292, 'westerner': 19293, 'holdover': 19294, 'bushido': 19295, 'maximal': 19296, 'accountable': 19297, 'reticent': 19298, 'offending': 19299, 'comparatively': 19300, 'tenko': 19301, 'godawa': 19302, 'gordan': 19303, 'chapel': 19304, 'marched': 19305, 'arrivals': 19306, 'interchangeable': 19307, 'cogs': 19308, 'ideologies': 19309, 'sadism': 19310, 'gaelic': 19311, 'goran': 19312, 'visnjic': 19313, 'dzambazov': 19314, 'gordana': 19315, 'gadzic': 19316, 'mythic': 19317, 'portents': 19318, 'tumultuosness': 19319, 'tinge': 19320, 'schmaltziness': 19321, 'emira': 19322, 'overview': 19323, 'departing': 19324, 'yankee': 19325, 'cigarrettes': 19326, 'huggable': 19327, 'somesuch': 19328, 'sketchiness': 19329, 'hampers': 19330, 'blandness': 19331, 'poppy': 19332, 'mari': 19333, 'unheralded': 19334, 'slashing': 19335, 'excellence': 19336, 'whiff': 19337, 'debating': 19338, 'daleman': 19339, 'studious': 19340, 'joys': 19341, 'invulnerable': 19342, 'auspices': 19343, 'rockers': 19344, 'pretensions': 19345, 'minsthe': 19346, 'propels': 19347, 'tinges': 19348, 'vr': 19349, 'ports': 19350, 'spine': 19351, 'immersive': 19352, 'beta': 19353, 'realists': 19354, 'uncovering': 19355, 'indulgence': 19356, 'queasy': 19357, 'skewers': 19358, 'socky': 19359, 'emptying': 19360, 'peek': 19361, 'unknowing': 19362, 'tapping': 19363, 'purse': 19364, 'ninjas': 19365, 'scoundrels': 19366, 'buffoon': 19367, 'squeezed': 19368, 'fuels': 19369, 'corresponds': 19370, 'wackiness': 19371, 'hallucinogen': 19372, 'pellets': 19373, 'mescaline': 19374, 'blotter': 19375, 'downers': 19376, 'screamers': 19377, 'laughers': 19378, 'ether': 19379, 'amyls': 19380, 'correlated': 19381, 'whilst': 19382, 'appreciating': 19383, 'consumatory': 19384, 'lollipop': 19385, 'barmaid': 19386, 'watering': 19387, 'exaggerate': 19388, 'benicio': 19389, 'samoan': 19390, 'kaleidoscopic': 19391, 'expectedly': 19392, 'burner': 19393, 'ravaged': 19394, 'anarchy': 19395, 'doobie': 19396, 'aisle': 19397, 'unstimulated': 19398, 'snorted': 19399, 'powdered': 19400, 'quirkier': 19401, 'grape': 19402, 'oasis': 19403, 'wino': 19404, 'viper': 19405, 'conceal': 19406, 'cheeziness': 19407, 'locally': 19408, 'raiser': 19409, 'opportune': 19410, 'precautions': 19411, 'panicked': 19412, 'unsubstantial': 19413, 'authoritarians': 19414, 'pretzel': 19415, 'scrumptiously': 19416, 'overuses': 19417, 'wildest': 19418, 'beauman': 19419, 'friedberg': 19420, 'droves': 19421, 'spaceballs': 19422, 'merged': 19423, 'progenitor': 19424, 'electra': 19425, 'farted': 19426, 'signpost': 19427, 'subverts': 19428, 'toquing': 19429, 'chattering': 19430, 'pope': 19431, 'pointer': 19432, 'rudeness': 19433, 'explicitness': 19434, 'castmembers': 19435, 'ciphers': 19436, 'abhor': 19437, 'scarymovie': 19438, 'paradiso': 19439, 'villagers': 19440, 'choke': 19441, 'innocuously': 19442, 'exalts': 19443, 'toasts': 19444, 'royalties': 19445, 'bernieres': 19446, 'lope': 19447, 'isle': 19448, 'cephallonia': 19449, 'mandras': 19450, 'mettle': 19451, 'greece': 19452, 'puccini': 19453, 'boarder': 19454, 'surrendered': 19455, 'handing': 19456, 'liberate': 19457, 'onslaught': 19458, 'smatterings': 19459, 'painless': 19460, 'bucolic': 19461, 'cooing': 19462, 'incisive': 19463, 'varnish': 19464, 'chafin': 19465, 'padgett': 19466, 'weene': 19467, 'zupa': 19468, 'jarecki': 19469, 'estrada': 19470, 'hargett': 19471, 'tupelo': 19472, 'wadsworth': 19473, 'mccrary': 19474, 'odell': 19475, 'suspenders': 19476, 'shaun': 19477, 'affront': 19478, 'joyride': 19479, 'accost': 19480, 'begets': 19481, 'condone': 19482, 'eradicate': 19483, 'tarlov': 19484, 'durang': 19485, 'bushel': 19486, 'crabs': 19487, 'vansihes': 19488, 'foreclosure': 19489, 'rejuvenate': 19490, 'jubilation': 19491, 'pesky': 19492, 'bologna': 19493, 'aback': 19494, 'deprophesized': 19495, 'hindsight': 19496, 'putmam': 19497, 'borrowings': 19498, 'captained': 19499, 'trench': 19500, 'mirrored': 19501, 'intersecting': 19502, 'hubby': 19503, 'fleshes': 19504, 'restoration': 19505, 'maligned': 19506, 'gripped': 19507, 'spellbound': 19508, 'predetermined': 19509, 'tautly': 19510, 'overwrought': 19511, 'intellectualized': 19512, 'horrifyingly': 19513, 'preflight': 19514, 'jitters': 19515, 'ruckus': 19516, 'onboard': 19517, 'interrogate': 19518, 'fearful': 19519, 'unboarded': 19520, 'setpieces': 19521, 'boosts': 19522, 'orchestrated': 19523, 'goldbergesque': 19524, 'nervousness': 19525, 'underseen': 19526, 'loutish': 19527, 'equip': 19528, 'candyman': 19529, 'supererogatory': 19530, 'hovers': 19531, 'steenburgen': 19532, 'neverland': 19533, 'telepathic': 19534, 'chart': 19535, 'unplugging': 19536, 'hideaway': 19537, 'melodramas': 19538, 'assimilate': 19539, 'electrocution': 19540, 'hwang': 19541, 'jang': 19542, 'shek': 19543, 'stamped': 19544, 'stringing': 19545, 'chagrinned': 19546, 'institutes': 19547, 'regimen': 19548, 'soundly': 19549, 'su': 19550, 'hua': 19551, 'assigns': 19552, 'walnuts': 19553, 'bowls': 19554, 'fruits': 19555, 'unparallelled': 19556, 'schticks': 19557, 'lull': 19558, 'startled': 19559, 'mincemeat': 19560, 'letterboxed': 19561, 'magnum': 19562, 'priced': 19563, 'storywise': 19564, 'indisposed': 19565, 'decimal': 19566, 'reuben': 19567, 'foreplay': 19568, 'bask': 19569, 'calculators': 19570, 'aphrodisiacs': 19571, 'jester': 19572, 'chastity': 19573, 'congestion': 19574, 'woolite': 19575, 'ignores': 19576, 'harrowed': 19577, 'lasser': 19578, 'transvestites': 19579, 'perverts': 19580, 'recreates': 19581, 'panelists': 19582, 'regis': 19583, 'philbin': 19584, 'spanking': 19585, 'contestant': 19586, 'kinescope': 19587, 'squirt': 19588, 'ejaculation': 19589, 'erection': 19590, 'regains': 19591, 'ramsay': 19592, 'chiles': 19593, 'fuentes': 19594, 'puig': 19595, 'obssessively': 19596, 'preys': 19597, 'socialite': 19598, 'decapitate': 19599, 'advertisement': 19600, 'pfcs': 19601, 'forensic': 19602, 'perturbed': 19603, 'volunteers': 19604, 'messiest': 19605, 'esmerelda': 19606, 'villalobos': 19607, 'obssessed': 19608, 'curiousity': 19609, 'toeing': 19610, 'openings': 19611, 'pretentiously': 19612, 'smokejumpers': 19613, 'huddled': 19614, 'christianne': 19615, 'hirt': 19616, 'locates': 19617, 'windon': 19618, 'wynt': 19619, 'laconically': 19620, 'dollhouse': 19621, 'retardant': 19622, 'soth': 19623, 'palookaville': 19624, 'bused': 19625, 'ornithologist': 19626, 'hofstra': 19627, 'cheapens': 19628, 'turgid': 19629, 'astaire': 19630, 'combust': 19631, 'philadelphians': 19632, 'arson': 19633, 'crispers': 19634, 'arsonists': 19635, 'backdrafts': 19636, 'triggered': 19637, 'oxygen': 19638, 'demornay': 19639, 'parenthood': 19640, 'personifies': 19641, 'stalk': 19642, 'bestows': 19643, 'forsee': 19644, 'gottfried': 19645, 'facetiousness': 19646, 'flashdancer': 19647, 'roz': 19648, 'misfits': 19649, 'cadets': 19650, 'talker': 19651, 'barnett': 19652, 'honkey': 19653, 'mohawk': 19654, 'assemblage': 19655, 'continual': 19656, 'cabbies': 19657, 'osorio': 19658, 'rolando': 19659, 'soledad': 19660, 'hilaire': 19661, 'jenney': 19662, 'taryn': 19663, 'manfredi': 19664, 'spate': 19665, 'flighty': 19666, 'hearings': 19667, 'heebie': 19668, 'jeebies': 19669, 'newsweek': 19670, 'confiscate': 19671, 'palisades': 19672, 'calif': 19673, 'burgeoning': 19674, 'nunez': 19675, 'shading': 19676, 'updates': 19677, 'opt': 19678, 'policewomen': 19679, 'dumbass': 19680, 'superviser': 19681, 'dirtied': 19682, 'whores': 19683, 'heaps': 19684, 'unentertaining': 19685, 'brushstrokes': 19686, 'counterargument': 19687, 'amorality': 19688, 'aperitif': 19689, 'ecstasy': 19690, 'orgasmically': 19691, 'limb': 19692, 'metaphorical': 19693, 'mistaking': 19694, 'urinates': 19695, 'contentedly': 19696, 'horrid': 19697, 'bizarrely': 19698, 'viias': 19699, 'coexist': 19700, 'rearranging': 19701, 'gps': 19702, 'breached': 19703, 'manipulating': 19704, 'destroyer': 19705, 'hamburg': 19706, 'tuxedos': 19707, 'gutz': 19708, 'visage': 19709, 'outdo': 19710, 'operate': 19711, 'touchpad': 19712, 'moneypenny': 19713, 'athens': 19714, 'kino': 19715, 'mutt': 19716, 'cartel': 19717, 'federales': 19718, 'emu': 19719, 'rediscovers': 19720, 'jives': 19721, 'rot': 19722, 'puente': 19723, 'seahawks': 19724, 'bosworth': 19725, 'levar': 19726, 'dorn': 19727, 'mcfadden': 19728, 'sirtis': 19729, 'piller': 19730, 'atchesonone': 19731, 'archenemies': 19732, 'ru': 19733, 'afo': 19734, 'disfigured': 19735, 'reconstructive': 19736, 'heroines': 19737, 'strategically': 19738, 'biddle': 19739, 'trudy': 19740, 'silvestri': 19741, 'cryer': 19742, 'ultimatum': 19743, 'prayed': 19744, 'antagonism': 19745, 'impede': 19746, 'sponsors': 19747, 'hypnotizes': 19748, 'cerruti': 19749, 'cures': 19750, 'prestidigitation': 19751, 'rolex': 19752, 'postpones': 19753, 'debunks': 19754, 'skyrocketing': 19755, 'ebullience': 19756, 'patter': 19757, 'disconnected': 19758, 'overspouts': 19759, 'sr': 19760, 'hucksters': 19761, 'toothless': 19762, 'sluggishness': 19763, 'yawner': 19764, 'roven': 19765, 'kazan': 19766, 'dun': 19767, 'crossover': 19768, 'prophesy': 19769, 'distilled': 19770, 'philadephia': 19771, 'noblest': 19772, 'cryptically': 19773, 'pennsylvania': 19774, 'inkling': 19775, 'jonesy': 19776, 'monoliths': 19777, 'geno': 19778, 'steaks': 19779, 'unpromising': 19780, 'brimming': 19781, 'creepily': 19782, 'sidewalks': 19783, 'checkmate': 19784, 'gretta': 19785, 'overexplain': 19786, 'oppertunity': 19787, 'lifetimes': 19788, 'colonels': 19789, 'hays': 19790, 'sould': 19791, 'cowering': 19792, 'demonstrators': 19793, 'rooftops': 19794, 'violate': 19795, 'unobjective': 19796, 'contents': 19797, 'definable': 19798, 'depended': 19799, 'blindfolded': 19800, 'kingsly': 19801, 'inconclusive': 19802, 'muslim': 19803, 'denton': 19804, 'spouses': 19805, 'paparazzo': 19806, 'newlywed': 19807, 'consoling': 19808, 'rowena': 19809, 'quayle': 19810, 'unrepentantly': 19811, 'flake': 19812, 'substandard': 19813, 'guiry': 19814, 'estes': 19815, 'torpedoes': 19816, 'stranding': 19817, 'interim': 19818, 'sailor': 19819, 'mutiny': 19820, 'reviewhow': 19821, 'prompt': 19822, 'consultation': 19823, 'analyzation': 19824, 'rainforest': 19825, 'crawlies': 19826, 'kozak': 19827, 'arachnophobic': 19828, 'towel': 19829, 'fourths': 19830, 'appliances': 19831, 'goo': 19832, 'retailers': 19833, 'yogi': 19834, 'yore': 19835, 'zealous': 19836, 'messing': 19837, 'originals': 19838, 'teddies': 19839, 'waddle': 19840, 'escher': 19841, 'tornadoes': 19842, 'antiquated': 19843, 'michal': 19844, 'squirm': 19845, 'cusswords': 19846, 'adjusts': 19847, 'hesitating': 19848, 'homeward': 19849, 'grunts': 19850, 'netherworld': 19851, 'morice': 19852, 'creaks': 19853, 'moans': 19854, 'prerecorded': 19855, 'flabby': 19856, 'pleaded': 19857, 'aggravated': 19858, 'harassment': 19859, 'gatekeeper': 19860, 'dutchman': 19861, 'diaster': 19862, 'flashed': 19863, 'dinners': 19864, 'hector': 19865, 'elizondo': 19866, 'giacomo': 19867, 'prostituting': 19868, 'bijou': 19869, 'forsaken': 19870, 'misdemeanors': 19871, 'nonentity': 19872, 'knob': 19873, 'cropped': 19874, 'gentile': 19875, 'homey': 19876, 'prim': 19877, 'ostentatious': 19878, 'mingle': 19879, 'scrumptious': 19880, 'slum': 19881, 'tasteful': 19882, 'prevention': 19883, 'discloses': 19884, 'resigning': 19885, 'roughed': 19886, 'extinction': 19887, 'anchor': 19888, 'broadcasting': 19889, 'caves': 19890, 'highways': 19891, 'laps': 19892, 'ticks': 19893, 'fahrenheit': 19894, 'nighshift': 19895, 'unfathomable': 19896, 'smelling': 19897, 'discounted': 19898, 'essentials': 19899, 'telecommunicative': 19900, 'pooper': 19901, 'careening': 19902, 'mountainside': 19903, 'obliterating': 19904, 'kapner': 19905, 'nuns': 19906, 'unpromisingly': 19907, 'mooching': 19908, 'unfulfilled': 19909, 'enforcer': 19910, 'figs': 19911, 'wiseacre': 19912, 'xeff': 19913, 'pronunciation': 19914, 'vermin': 19915, 'yoots': 19916, 'dental': 19917, 'fervid': 19918, 'peevish': 19919, 'tightass': 19920, 'moralistic': 19921, 'fabricate': 19922, 'sewer': 19923, 'exploded': 19924, 'infects': 19925, 'cpw': 19926, 'mating': 19927, 'libido': 19928, 'hyperdrive': 19929, 'lennox': 19930, 'returnee': 19931, 'uninfected': 19932, 'shipmate': 19933, 'goddammit': 19934, 'dilate': 19935, 'giger': 19936, 'douse': 19937, 'flamethrowers': 19938, 'xfx': 19939, 'holed': 19940, 'unaccountably': 19941, 'blackness': 19942, 'bong': 19943, 'excusing': 19944, 'irrefutable': 19945, 'haphazardly': 19946, 'glued': 19947, 'adapters': 19948, 'houseboat': 19949, 'constructs': 19950, 'misconduct': 19951, 'sweat': 19952, 'handcuffs': 19953, 'stanislaw': 19954, 'plagarize': 19955, 'passively': 19956, 'norma': 19957, 'jokingly': 19958, 'discard': 19959, 'harkening': 19960, 'rivets': 19961, 'akosua': 19962, 'busia': 19963, 'beah': 19964, 'irma': 19965, 'fervent': 19966, 'guttural': 19967, 'psychoanalysts': 19968, 'slavehood': 19969, 'licked': 19970, 'prompting': 19971, 'presumedly': 19972, 'inquired': 19973, 'tarkofsky': 19974, 'cosmonaut': 19975, 'volumes': 19976, 'regretting': 19977, 'coating': 19978, 'conisderation': 19979, 'caligula': 19980, 'sittings': 19981, 'loomed': 19982, 'scrapped': 19983, 'slotted': 19984, 'hitters': 19985, 'demotion': 19986, 'joyless': 19987, 'loathed': 19988, 'salacious': 19989, 'catsuit': 19990, 'immortalized': 19991, 'imbuing': 19992, 'sassiness': 19993, 'appreciable': 19994, 'fatally': 19995, 'crippling': 19996, 'volley': 19997, 'fizzling': 19998, 'arthouse': 19999, 'inroad': 20000, 'commendably': 20001, 'kathyrn': 20002, 'cheekily': 20003, 'navigated': 20004, 'restlessly': 20005, 'alleviate': 20006, 'erstwhile': 20007, 'beckinsale': 20008, 'intrigues': 20009, 'veritably': 20010, 'twiggish': 20011, 'tandem': 20012, 'combating': 20013, 'sip': 20014, 'cloning': 20015, 'hijinx': 20016, 'disinterest': 20017, 'crisply': 20018, 'pratt': 20019, 'unremittingly': 20020, 'rates': 20021, 'slugging': 20022, 'quickest': 20023, 'promo': 20024, 'drearily': 20025, 'savoured': 20026, 'deficiencies': 20027, 'admitedly': 20028, 'deviation': 20029, 'understandthe': 20030, 'goyer': 20031, 'hematologist': 20032, 'bushe': 20033, 'titanium': 20034, 'hasan': 20035, 'capoeira': 20036, 'brazillian': 20037, 'exhaling': 20038, 'disintegration': 20039, 'independently': 20040, 'brainchild': 20041, 'adversity': 20042, 'inexperience': 20043, 'packing': 20044, 'northwestern': 20045, 'coven': 20046, 'spiritually': 20047, 'festivals': 20048, 'endeavours': 20049, 'doubling': 20050, 'unstructured': 20051, 'appall': 20052, 'grounding': 20053, 'bombed': 20054, 'crests': 20055, 'eventuality': 20056, 'distrustful': 20057, 'interments': 20058, 'palestinians': 20059, 'anette': 20060, 'snitches': 20061, 'tightens': 20062, 'emerich': 20063, 'undertake': 20064, 'broadsword': 20065, 'scalpel': 20066, 'spassvogel': 20067, 'rickert': 20068, 'penzance': 20069, 'pbs': 20070, 'diablo': 20071, 'plex': 20072, 'expositions': 20073, 'gumption': 20074, 'preference': 20075, 'streisand': 20076, 'laserdiscs': 20077, 'stag': 20078, 'hilarous': 20079, 'masculinity': 20080, 'waxes': 20081, 'senstivie': 20082, 'occaisionally': 20083, 'prissy': 20084, 'sustainably': 20085, 'doubly': 20086, 'reconciles': 20087, 'preist': 20088, 'consumated': 20089, 'quantify': 20090, 'sherman': 20091, 'hemsley': 20092, 'clarification': 20093, 'perfects': 20094, 'whoops': 20095, 'filmore': 20096, 'overhears': 20097, 'schultz': 20098, 'resurgence': 20099, 'britney': 20100, 'spears': 20101, 'miniseries': 20102, 'comaustralian': 20103, 'starlet': 20104, 'fantasia': 20105, 'elms': 20106, 'foundations': 20107, 'divulges': 20108, 'abstractions': 20109, 'nicol': 20110, 'korean': 20111, 'overtake': 20112, 'cyan': 20113, 'disproportioned': 20114, 'undergoes': 20115, 'ebola': 20116, 'lifeforms': 20117, 'asexual': 20118, 'reproduction': 20119, 'earlygoings': 20120, 'najimy': 20121, 'spiritedness': 20122, 'duffel': 20123, 'disgraced': 20124, 'templeton': 20125, 'pollini': 20126, 'racers': 20127, 'nutsy': 20128, 'commandeering': 20129, 'lucille': 20130, 'alikes': 20131, 'stopover': 20132, 'touring': 20133, 'braun': 20134, 'pepto': 20135, 'bismol': 20136, 'feely': 20137, 'negating': 20138, 'moderator': 20139, 'hardin': 20140, 'hegel': 20141, 'toddy': 20142, 'alferd': 20143, 'trappers': 20144, 'prized': 20145, 'snowmen': 20146, 'muff': 20147, 'dissenting': 20148, 'shpadoinkle': 20149, 'braniff': 20150, 'trapper': 20151, 'leit': 20152, 'admiration': 20153, 'packages': 20154, 'inclusions': 20155, 'scratched': 20156, 'lemmy': 20157, 'motorhead': 20158, 'firmer': 20159, 'aix': 20160, 'windup': 20161, 'whiffleball': 20162, 'fiercely': 20163, 'cobbles': 20164, 'crusoe': 20165, 'redolent': 20166, 'barbeque': 20167, 'scans': 20168, 'revisted': 20169, 'jackhammer': 20170, 'affability': 20171, 'contentiousness': 20172, 'friction': 20173, 'comraderie': 20174, 'embers': 20175, 'anomaly': 20176, 'aggressivelly': 20177, 'momumentally': 20178, 'climatic': 20179, 'unsatisying': 20180, 'janey': 20181, 'hann': 20182, 'byrd': 20183, 'explorations': 20184, 'doings': 20185, 'coattails': 20186, 'unappreciated': 20187, 'fonder': 20188, 'niciphor': 20189, 'hooky': 20190, 'pseudonym': 20191, 'unabomber': 20192, 'perfomances': 20193, 'yawns': 20194, 'belabors': 20195, 'newsreporter': 20196, 'defendant': 20197, 'washes': 20198, 'peiser': 20199, 'frenais': 20200, 'blatt': 20201, 'robberies': 20202, 'tarts': 20203, 'wheaton': 20204, 'unchanging': 20205, 'polka': 20206, 'eurythmics': 20207, 'debuts': 20208, 'attentively': 20209, 'labellers': 20210, 'sayin': 20211, 'bamboozledmovie': 20212, 'bamsbamboozled': 20213, 'schizophrenically': 20214, 'continental': 20215, 'cns': 20216, 'streetwise': 20217, 'cosby': 20218, 'reeee': 20219, 'aaaal': 20220, 'coons': 20221, 'longas': 20222, 'hoofin': 20223, 'undone': 20224, 'blackened': 20225, 'guzzling': 20226, 'upshot': 20227, 'wack': 20228, 'mau': 20229, 'mauing': 20230, 'negroes': 20231, 'tis': 20232, 'niggers': 20233, 'willingly': 20234, 'jumpcuts': 20235, 'unnatural': 20236, 'unbelievability': 20237, 'blackfaced': 20238, 'nigger': 20239, 'obdisclaimer': 20240, 'negro': 20241, 'labelling': 20242, 'bammer': 20243, 'neighborhoods': 20244, 'hoodwinked': 20245, 'yellowlight': 20246, 'corr': 20247, 'preferably': 20248, 'lyricist': 20249, 'gaity': 20250, 'slapstickness': 20251, 'forum': 20252, 'argentinian': 20253, 'unrewarding': 20254, 'culiminating': 20255, 'stopper': 20256, 'hater': 20257, 'omnipotent': 20258, 'giddily': 20259, 'ascend': 20260, 'reconnassaince': 20261, 'accessory': 20262, 'shunned': 20263, 'wooed': 20264, 'mourned': 20265, 'guevera': 20266, 'committments': 20267, 'bugsy': 20268, 'entertaning': 20269, 'enriching': 20270, 'becuase': 20271, 'remaning': 20272, 'wonderully': 20273, 'purl': 20274, 'retaining': 20275, 'schoedsack': 20276, 'guillerman': 20277, 'interacts': 20278, 'unbalance': 20279, 'encroaching': 20280, 'safest': 20281, 'landmarks': 20282, 'sewers': 20283, 'murkily': 20284, 'harryhausen': 20285, 'reworking': 20286, 'chantel': 20287, 'blunderheaded': 20288, 'bending': 20289, 'moonlighting': 20290, 'kiri': 20291, 'pimply': 20292, 'imported': 20293, 'vexatious': 20294, 'assaults': 20295, 'spews': 20296, 'unlucky': 20297, 'bragg': 20298, 'begrudgingly': 20299, 'prosper': 20300, 'trickier': 20301, 'lawman': 20302, 'affectation': 20303, 'fronts': 20304, 'untraditional': 20305, 'gardener': 20306, 'orientation': 20307, 'platonic': 20308, 'ailment': 20309, 'philistine': 20310, 'rejoiced': 20311, 'receptions': 20312, 'boroughs': 20313, 'endedness': 20314, 'demolished': 20315, 'sorrows': 20316, 'sweatshop': 20317, 'neorealism': 20318, 'inert': 20319, 'fatalism': 20320, 'pervades': 20321, 'solidarity': 20322, 'paunchy': 20323, 'skid': 20324, 'unmade': 20325, 'obstinately': 20326, 'passivity': 20327, 'virgien': 20328, 'kovalyov': 20329, 'kath': 20330, 'soucie': 20331, 'charendoff': 20332, 'pebble': 20333, 'hardee': 20334, 'anjelica': 20335, 'doa': 20336, 'slobbered': 20337, 'costumed': 20338, 'oozed': 20339, 'highlighted': 20340, 'reverted': 20341, 'ps': 20342, 'effaced': 20343, 'stagebound': 20344, 'undeserving': 20345, 'talkshow': 20346, 'chopin': 20347, 'soporific': 20348, 'prattle': 20349, 'bilingual': 20350, 'rootless': 20351, 'congo': 20352, 'unpredictability': 20353, 'wilds': 20354, 'guarding': 20355, 'conservationist': 20356, 'pallisades': 20357, 'bejesus': 20358, 'thrillseekers': 20359, 'patched': 20360, 'speechless': 20361, 'demoliton': 20362, 'tyke': 20363, 'flawlessness': 20364, 'wailing': 20365, 'publicist': 20366, 'summoned': 20367, 'orchestrate': 20368, 'megabuck': 20369, 'flack': 20370, 'depak': 20371, 'diva': 20372, 'unwind': 20373, 'entanglements': 20374, 'telegraphic': 20375, 'eliseo': 20376, 'burmann': 20377, 'onelia': 20378, 'larralde': 20379, 'nieto': 20380, 'frias': 20381, 'eguren': 20382, 'perugorria': 20383, 'gernandez': 20384, 'novoa': 20385, 'cochita': 20386, 'suset': 20387, 'malberti': 20388, 'oku': 20389, 'cinepix': 20390, 'picaresque': 20391, 'strawberry': 20392, 'accumulate': 20393, 'chevalier': 20394, 'hermione': 20395, 'gingold': 20396, 'provincial': 20397, 'supper': 20398, 'undisclosed': 20399, 'sidelined': 20400, 'burials': 20401, 'regain': 20402, 'conceives': 20403, 'savin': 20404, 'relays': 20405, 'cemeteries': 20406, 'auntie': 20407, 'havana': 20408, 'humanscape': 20409, 'witchcraft': 20410, 'edibles': 20411, 'marketeer': 20412, 'entrepreneur': 20413, 'coupons': 20414, 'cantina': 20415, 'riders': 20416, 'subterranean': 20417, 'epicenter': 20418, 'complicates': 20419, 'wipers': 20420, 'activate': 20421, 'celebrant': 20422, 'underdevelopment': 20423, 'misinterpretation': 20424, 'repeatedely': 20425, 'phrased': 20426, 'varations': 20427, 'counterproductive': 20428, 'egotistic': 20429, 'marxist': 20430, 'dialectics': 20431, 'uphold': 20432, 'castigate': 20433, 'misapplications': 20434, 'recounted': 20435, 'olofin': 20436, 'millenia': 20437, 'populations': 20438, 'deity': 20439, 'floods': 20440, 'impeding': 20441, 'immortality': 20442, 'slogans': 20443, 'socialism': 20444, 'seriocomic': 20445, 'algae': 20446, 'ecological': 20447, 'cyberdog': 20448, 'antony': 20449, 'scriptwriter': 20450, 'crewman': 20451, 'cosmos': 20452, 'proto': 20453, 'cocooned': 20454, 'caller': 20455, 'defuse': 20456, 'nevada': 20457, 'buzzing': 20458, 'environs': 20459, 'fc': 20460, 'cuckold': 20461, 'submissively': 20462, 'cooks': 20463, 'preliminary': 20464, 'jeremie': 20465, 'renier': 20466, 'salim': 20467, 'kechiouche': 20468, 'berating': 20469, 'sulkily': 20470, 'gretel': 20471, 'natty': 20472, 'manojlovic': 20473, 'fattening': 20474, 'ogres': 20475, 'illuminating': 20476, 'sado': 20477, 'titillate': 20478, 'nudges': 20479, 'cutaways': 20480, 'lender': 20481, 'ocious': 20482, 'demolish': 20483, 'floorboards': 20484, 'scavengers': 20485, 'homily': 20486, 'arrietty': 20487, 'flora': 20488, 'newbigin': 20489, 'peagreen': 20490, 'felton': 20491, 'enlists': 20492, 'osiris': 20493, 'pharoah': 20494, 'mummified': 20495, 'entombed': 20496, 'brandan': 20497, 'wiesz': 20498, 'amon': 20499, 'cheaply': 20500, 'unnerving': 20501, 'entombment': 20502, 'recylcled': 20503, 'leviathan': 20504, 'servicable': 20505, 'tugboat': 20506, 'santi': 20507, 'billers': 20508, 'kel': 20509, 'superpowers': 20510, 'supervillain': 20511, 'franchises': 20512, 'catchphrase': 20513, 'illustrations': 20514, 'rename': 20515, 'fatigues': 20516, 'overprotective': 20517, 'completes': 20518, 'rears': 20519, 'lovably': 20520, 'superbowl': 20521, 'clench': 20522, 'unclench': 20523, 'fists': 20524, 'moden': 20525, 'amato': 20526, 'rooney': 20527, 'grubbing': 20528, 'pagniacci': 20529, 'chistina': 20530, 'bench': 20531, 'stringer': 20532, 'foxx': 20533, 'crumbles': 20534, 'cutaway': 20535, 'famer': 20536, 'commisioner': 20537, 'embarassed': 20538, 'unwarranted': 20539, 'accumulated': 20540, 'botulism': 20541, 'insisting': 20542, 'contradicting': 20543, 'delinquents': 20544, 'trafficking': 20545, 'spiffy': 20546, 'levis': 20547, 'gabfest': 20548, 'inactive': 20549, 'movers': 20550, 'robbi': 20551, 'stashed': 20552, 'atf': 20553, 'ounces': 20554, 'operatives': 20555, 'relocating': 20556, 'jerked': 20557, 'zap': 20558, 'gara': 20559, 'clipped': 20560, 'offensiveness': 20561, 'meritorious': 20562, 'ooky': 20563, 'disorders': 20564, 'apparitions': 20565, 'ancestral': 20566, 'unloving': 20567, 'supernaturally': 20568, 'wiggy': 20569, 'obscenely': 20570, 'breezes': 20571, 'stairwell': 20572, 'redemptive': 20573, 'eugenio': 20574, 'zanetti': 20575, 'beef': 20576, 'nottinghamshire': 20577, 'harlaxton': 20578, 'goblins': 20579, 'domestically': 20580, 'unmistakable': 20581, 'airy': 20582, 'frighteners': 20583, 'plagiarist': 20584, 'delusions': 20585, 'humidity': 20586, 'tourism': 20587, 'struthers': 20588, 'tearful': 20589, 'kincaid': 20590, 'flush': 20591, 'theorists': 20592, 'initiatives': 20593, 'imports': 20594, 'accuse': 20595, 'lynzee': 20596, 'klingman': 20597, 'fenton': 20598, 'kisser': 20599, 'philly': 20600, 'parsimonious': 20601, 'avuncular': 20602, 'tropism': 20603, 'finland': 20604, 'turkmenistan': 20605, 'asterisk': 20606, 'confuses': 20607, 'concur': 20608, 'roundabout': 20609, 'avenue': 20610, 'doorman': 20611, 'operator': 20612, 'reciprocating': 20613, 'idioms': 20614, 'includeout': 20615, 'seized': 20616, 'apologizes': 20617, 'figment': 20618, 'uninterested': 20619, 'sighing': 20620, 'pornographer': 20621, 'mediocrity': 20622, 'zips': 20623, 'mirroring': 20624, 'elevate': 20625, 'lawler': 20626, 'microphone': 20627, 'aching': 20628, 'bongo': 20629, 'bushy': 20630, 'involvements': 20631, 'palladium': 20632, 'wiliams': 20633, 'georges': 20634, 'polti': 20635, 'asserted': 20636, 'restatement': 20637, 'ecclesiastes': 20638, 'measureable': 20639, 'parasitic': 20640, 'recognizeable': 20641, 'comers': 20642, 'raids': 20643, 'organisation': 20644, 'zamora': 20645, 'stink': 20646, 'tannen': 20647, 'illustrating': 20648, 'counterfeiters': 20649, 'jeopardise': 20650, 'counterfeiter': 20651, 'vukovich': 20652, 'gerrald': 20653, 'petievich': 20654, 'utilised': 20655, 'millieu': 20656, 'ultramaterialistic': 20657, 'ruthlessness': 20658, 'fibber': 20659, 'affliction': 20660, 'darlanne': 20661, 'fleugel': 20662, 'chung': 20663, 'unflattering': 20664, 'spottiswoode': 20665, 'feirstein': 20666, 'promiscuity': 20667, 'eighteenth': 20668, 'balderdash': 20669, 'psychotics': 20670, 'murdoch': 20671, 'bitching': 20672, 'cru': 20673, 'arian': 20674, 'motorcylce': 20675, 'northeast': 20676, 'giles': 20677, 'nuttgens': 20678, 'raspberry': 20679, 'thestinkers': 20680, 'dimensionless': 20681, 'neanderthal': 20682, 'chaps': 20683, 'goodboy': 20684, 'ker': 20685, 'chiefs': 20686, 'grumble': 20687, 'snarl': 20688, 'atari': 20689, 'snot': 20690, 'unbreathable': 20691, 'incompetents': 20692, 'drunkards': 20693, 'codpieces': 20694, 'restrict': 20695, 'tilt': 20696, 'bluish': 20697, 'bumper': 20698, 'stickers': 20699, 'guffaw': 20700, 'mockumentary': 20701, 'albertson': 20702, 'dense': 20703, 'dairy': 20704, 'humorously': 20705, 'rehearsal': 20706, 'rehearsals': 20707, 'ikin': 20708, 'cantonese': 20709, 'dislocation': 20710, 'takeover': 20711, 'labelled': 20712, 'bustling': 20713, 'spacious': 20714, 'immaculately': 20715, 'greenery': 20716, 'serene': 20717, 'wonderous': 20718, 'cooly': 20719, 'poisonous': 20720, 'ultraviolet': 20721, 'rays': 20722, 'ambling': 20723, 'scrambling': 20724, 'yelps': 20725, 'acclimatize': 20726, 'sunbathing': 20727, 'stringent': 20728, 'yen': 20729, 'manifesting': 20730, 'feng': 20731, 'shui': 20732, 'exacerbated': 20733, 'await': 20734, 'rejoining': 20735, 'detatched': 20736, 'philosopical': 20737, 'embraces': 20738, 'soliloquy': 20739, 'wallop': 20740, 'prevert': 20741, 'concorde': 20742, 'restoring': 20743, 'ardour': 20744, 'spire': 20745, 'beryl': 20746, 'dangle': 20747, 'richmond': 20748, 'amourous': 20749, 'permissive': 20750, 'flopped': 20751, 'fehrle': 20752, 'wisman': 20753, 'virtuous': 20754, 'scrapes': 20755, 'americanisation': 20756, 'pejorative': 20757, 'saccharine': 20758, 'stationary': 20759, 'reclusive': 20760, 'burnett': 20761, 'pixie': 20762, 'whitewashed': 20763, 'sodor': 20764, 'resupply': 20765, 'tablets': 20766, 'helmsman': 20767, 'prediction': 20768, 'cyborg': 20769, 'scaled': 20770, 'sedate': 20771, 'disposed': 20772, 'hensleigh': 20773, 'gilroy': 20774, 'salerno': 20775, 'biderman': 20776, 'slash': 20777, 'warhead': 20778, 'rockhound': 20779, 'viscera': 20780, 'obliterates': 20781, 'fireballs': 20782, 'erupting': 20783, 'obnoxiously': 20784, 'meteors': 20785, 'jutting': 20786, 'harnett': 20787, 'chelse': 20788, 'eugenides': 20789, 'sprinklers': 20790, 'lux': 20791, 'frustrate': 20792, 'leash': 20793, 'entitle': 20794, 'blossomed': 20795, 'womanhood': 20796, 'neckbrace': 20797, 'ogling': 20798, 'disconnect': 20799, 'sisterhood': 20800, 'palate': 20801, 'poignancy': 20802, 'fakery': 20803, 'tele': 20804, 'hurriedly': 20805, 'unrealized': 20806, 'airhead': 20807, 'slot': 20808, 'priority': 20809, 'expel': 20810, 'tweaked': 20811, 'studded': 20812, 'flurry': 20813, 'nia': 20814, 'kopache': 20815, 'enrico': 20816, 'colantoni': 20817, 'latessa': 20818, 'brazilian': 20819, 'disproving': 20820, 'exhibiting': 20821, 'excommunicated': 20822, 'whoaaaaaa': 20823, 'swelled': 20824, 'cellent': 20825, 'dir': 20826, 'ect': 20827, 'frying': 20828, 'arquettes': 20829, 'arrrrrrrghhhh': 20830, 'unworkable': 20831, 'wrists': 20832, 'curled': 20833, 'cackle': 20834, 'whichever': 20835, 'suppressed': 20836, 'mobsters': 20837, 'sharkskin': 20838, 'misrepresentation': 20839, 'dulled': 20840, 'quotation': 20841, 'peeves': 20842, 'cellphone': 20843, 'detest': 20844, 'emergencies': 20845, 'witless': 20846, 'cancelled': 20847, 'subscriptions': 20848, 'eruptions': 20849, 'receivers': 20850, 'beeps': 20851, 'telecommunication': 20852, 'cornerstone': 20853, 'phoney': 20854, 'wedged': 20855, 'bitches': 20856, 'gandhi': 20857, 'donnelly': 20858, 'blondell': 20859, 'ghostley': 20860, 'bronte': 20861, 'woodwardthose': 20862, 'trumpeting': 20863, 'beautician': 20864, 'frenchie': 20865, 'serenaded': 20866, 'supporter': 20867, 'emcee': 20868, 'fontaine': 20869, 'manhoff': 20870, 'olsson': 20871, 'screendom': 20872, 'effervescently': 20873, 'lightening': 20874, 'ack': 20875, 'carp': 20876, 'showpiece': 20877, 'tremendously': 20878, 'euphoric': 20879, 'cappers': 20880, 'lamenting': 20881, 'unjustly': 20882, 'hutt': 20883, 'bellbottoms': 20884, 'wop': 20885, 'poodle': 20886, 'transports': 20887, 'gosse': 20888, 'shoplifting': 20889, 'sweetly': 20890, 'beguilingly': 20891, 'creatively': 20892, 'pharmacist': 20893, 'dennehy': 20894, 'wilmer': 20895, 'valderrama': 20896, 'tollin': 20897, 'freakiest': 20898, 'preoccupation': 20899, 'elitist': 20900, 'glide': 20901, 'fielder': 20902, 'hind': 20903, 'objectifying': 20904, 'tidbit': 20905, 'summit': 20906, 'champa': 20907, 'marguilles': 20908, 'upn': 20909, 'squint': 20910, 'reynold': 20911, 'hairpiece': 20912, 'bruise': 20913, 'slaps': 20914, 'terpiece': 20915, 'brooklynite': 20916, 'noooo': 20917, 'tarnish': 20918, 'malloy': 20919, 'margiulles': 20920, 'delaurentiis': 20921, 'fangs': 20922, 'blanche': 20923, 'dubois': 20924, 'streetcar': 20925, 'oedipus': 20926, 'smokes': 20927, 'locket': 20928, 'unpardonable': 20929, 'consenting': 20930, 'palpitation': 20931, 'perversions': 20932, 'ballyhoo': 20933, 'greens': 20934, 'bluescreens': 20935, 'prague': 20936, 'tunisia': 20937, 'gauche': 20938, 'kimonos': 20939, 'summarize': 20940, 'fastidious': 20941, 'barons': 20942, 'emperors': 20943, 'stinking': 20944, 'stalwart': 20945, 'omens': 20946, 'forebode': 20947, 'prophesied': 20948, 'slobbering': 20949, 'mcneice': 20950, 'shaddam': 20951, 'giannini': 20952, 'saskia': 20953, 'tribes': 20954, 'ritualized': 20955, 'feyd': 20956, 'rautha': 20957, 'coasting': 20958, 'gaggle': 20959, 'geese': 20960, 'malarkey': 20961, 'kwizatz': 20962, 'haderach': 20963, 'atomic': 20964, 'weaponry': 20965, 'livingrooms': 20966, 'reptile': 20967, 'relocate': 20968, 'timmonds': 20969, 'ashore': 20970, 'palotti': 20971, 'roche': 20972, 'brushing': 20973, 'sidewinder': 20974, 'warheads': 20975, 'bombers': 20976, 'flights': 20977, 'aircraft': 20978, 'multiples': 20979, 'incongruities': 20980, 'proffesion': 20981, 'dragonslayer': 20982, 'truce': 20983, 'frye': 20984, 'sevignysynopsis': 20985, 'whiskey': 20986, 'rhea': 20987, 'seduced': 20988, 'bungler': 20989, 'overestimates': 20990, 'dilema': 20991, 'shemp': 20992, 'alabama': 20993, 'picketed': 20994, 'persecuted': 20995, 'shuddered': 20996, 'sect': 20997, 'monotonously': 20998, 'protesters': 20999, 'staunchly': 21000, 'abortionism': 21001, 'profiled': 21002, 'slepian': 21003, 'picket': 21004, 'offices': 21005, 'staffs': 21006, 'practitioners': 21007, 'mankiewicz': 21008, 'dariusz': 21009, 'wolski': 21010, 'ironing': 21011, 'shatter': 21012, 'blunder': 21013, 'mover': 21014, 'poirot': 21015, 'kama': 21016, 'sutra': 21017, 'karenina': 21018, 'superstars': 21019, 'incompatible': 21020, 'kafka': 21021, 'currents': 21022, 'honing': 21023, 'hatton': 21024, 'knowles': 21025, 'phoenx': 21026, 'herrington': 21027, 'academics': 21028, 'photojournalist': 21029, 'aquit': 21030, 'showstopping': 21031, 'actuality': 21032, 'resigns': 21033, 'consumption': 21034, 'molestation': 21035, 'dredges': 21036, 'successive': 21037, 'distrusts': 21038, 'breadwinner': 21039, 'unhealthy': 21040, 'discourage': 21041, 'nooooo': 21042, 'exonerating': 21043, 'wrongdoing': 21044, 'mailman': 21045, 'stampeding': 21046, 'bootleg': 21047, 'deejay': 21048, 'capitalism': 21049, 'chia': 21050, 'consumerism': 21051, 'brennan': 21052, 'mckean': 21053, 'hesseman': 21054, 'chutes': 21055, 'ladders': 21056, 'aliases': 21057, 'boddy': 21058, 'blackmailing': 21059, 'whodunnit': 21060, 'yvette': 21061, 'magnifying': 21062, 'patchingmediocrity': 21063, 'necessitates': 21064, 'prevailing': 21065, 'equation': 21066, 'clowning': 21067, 'devoting': 21068, 'enrolls': 21069, 'walcott': 21070, 'gesundheit': 21071, 'squirrels': 21072, 'patchwork': 21073, 'stodgy': 21074, 'mancuso': 21075, 'duthie': 21076, 'paige': 21077, 'fairytale': 21078, 'greeting': 21079, 'assesses': 21080, 'relic': 21081, 'cardinals': 21082, 'saviour': 21083, 'discrepancy': 21084, 'storing': 21085, 'beads': 21086, 'farfetched': 21087, 'factoids': 21088, 'autograph': 21089, 'mantganiplease': 21090, 'recapture': 21091, 'comppletely': 21092, 'tenth': 21093, 'eventhough': 21094, 'salem': 21095, 'featherweight': 21096, 'discriminating': 21097, 'melding': 21098, 'pigtails': 21099, 'demographics': 21100, 'torrance': 21101, 'shipman': 21102, 'nationals': 21103, 'championships': 21104, 'snobby': 21105, 'righted': 21106, 'pantie': 21107, 'moralising': 21108, 'subverted': 21109, 'homogeneous': 21110, 'spiced': 21111, 'discipline': 21112, 'uphill': 21113, 'gymnast': 21114, 'laudable': 21115, 'incurs': 21116, 'bringiton': 21117, 'oates': 21118, 'instantaneously': 21119, 'blocking': 21120, 'stentorian': 21121, 'hardships': 21122, 'mister': 21123, 'reversing': 21124, 'vigilant': 21125, 'boeing': 21126, 'bumping': 21127, 'cockpit': 21128, 'drawling': 21129, 'atc': 21130, 'clearances': 21131, 'senile': 21132, 'transportation': 21133, 'unkempt': 21134, 'aches': 21135, 'growls': 21136, 'foggiest': 21137, 'sop': 21138, 'swap': 21139, 'stv': 21140, 'pensive': 21141, 'fancher': 21142, 'owensville': 21143, 'elden': 21144, 'contemporizing': 21145, 'taming': 21146, 'denmark': 21147, 'ophelia': 21148, 'brable': 21149, 'othello': 21150, 'fidelity': 21151, 'eroding': 21152, 'erosion': 21153, 'machiavellian': 21154, 'deceit': 21155, 'adoration': 21156, 'carpings': 21157, 'counterbalance': 21158, 'heidi': 21159, 'schanz': 21160, 'baumgarten': 21161, 'stubbornly': 21162, 'persists': 21163, 'unwillingness': 21164, 'legionnaire': 21165, 'cotner': 21166, 'fiercer': 21167, 'axed': 21168, 'hillary': 21169, 'cringes': 21170, 'uhm': 21171, 'chandler': 21172, 'timbit': 21173, 'channels': 21174, 'weakened': 21175, 'daria': 21176, 'nicolodi': 21177, 'libra': 21178, 'bloodletting': 21179, 'lamberto': 21180, 'francesco': 21181, 'sow': 21182, 'nobly': 21183, 'skerrit': 21184, 'disdains': 21185, 'applications': 21186, 'pitches': 21187, 'bounced': 21188, 'decoding': 21189, 'boil': 21190, 'insincerely': 21191, 'godless': 21192, 'wormhole': 21193, 'discredited': 21194, 'clarice': 21195, 'starling': 21196, 'unconditionally': 21197, 'paternalistic': 21198, 'andromeda': 21199, 'seminary': 21200, 'denounced': 21201, 'doctrine': 21202, 'nakedly': 21203, 'transparently': 21204, 'voluntary': 21205, 'lifting': 21206, 'unreality': 21207, 'emissary': 21208, 'disqualified': 21209, 'grader': 21210, 'beal': 21211, 'faiths': 21212, 'daredevil': 21213, 'reifsnyder': 21214, 'heartening': 21215, 'kidvid': 21216, 'typing': 21217, 'berardinelli': 21218, 'adorably': 21219, 'collaborate': 21220, 'megahit': 21221, 'emailing': 21222, 'multimillionaire': 21223, 'bluntness': 21224, 'terminology': 21225, 'aunts': 21226, 'idealism': 21227, 'confection': 21228, 'shaping': 21229, 'eyeroll': 21230, 'loot': 21231, 'hamburger': 21232, 'miriam': 21233, 'shor': 21234, 'liscinski': 21235, 'aronov': 21236, 'wint': 21237, 'hubley': 21238, 'stephn': 21239, 'shakier': 21240, 'swank': 21241, 'marquee': 21242, 'proudly': 21243, 'cathleen': 21244, 'punchier': 21245, 'mirkin': 21246, 'aprhodite': 21247, 'weinberger': 21248, 'inseparable': 21249, 'garafolo': 21250, 'astounded': 21251, 'teenth': 21252, 'stores': 21253, 'slender': 21254, 'retorts': 21255, 'thinnest': 21256, 'caste': 21257, 'finfer': 21258, 'lightness': 21259, 'salaam': 21260, 'masala': 21261, 'delhi': 21262, 'nuptial': 21263, 'aditi': 21264, 'hemant': 21265, 'vikram': 21266, 'latit': 21267, 'naseeruddin': 21268, 'shah': 21269, 'pk': 21270, 'marigolds': 21271, 'heartbreaks': 21272, 'henna': 21273, 'westernized': 21274, 'townsperson': 21275, 'alecky': 21276, 'waylaid': 21277, 'skis': 21278, 'churchgoing': 21279, 'manmade': 21280, 'cleaners': 21281, 'gunk': 21282, 'unwraps': 21283, 'unwinding': 21284, 'pussyfoot': 21285, 'brrrrrrrrr': 21286, 'pent': 21287, 'tanktops': 21288, 'caruso': 21289, 'pledge': 21290, 'armyan': 21291, 'shestack': 21292, 'dwindled': 21293, 'blandly': 21294, 'philosophers': 21295, 'ribboners': 21296, 'assimilating': 21297, 'toucher': 21298, 'chairs': 21299, 'superviolent': 21300, 'caldicott': 21301, 'intuition': 21302, 'cliques': 21303, 'laptops': 21304, 'hone': 21305, 'potheads': 21306, 'regression': 21307, 'brookhurst': 21308, 'adeosun': 21309, 'faison': 21310, 'weirdly': 21311, 'misteps': 21312, 'shread': 21313, 'formal': 21314, 'outdoor': 21315, 'indoor': 21316, 'homcoming': 21317, 'freaking': 21318, 'noxema': 21319, 'spokesperson': 21320, 'publically': 21321, 'obscurities': 21322, 'desintegration': 21323, 'sacrificial': 21324, 'shack': 21325, 'eflman': 21326, 'stratford': 21327, 'straits': 21328, 'senseful': 21329, 'erb': 21330, 'mazin': 21331, 'recycle': 21332, 'senselessness': 21333, 'yearns': 21334, 'overzealous': 21335, 'edvard': 21336, 'populace': 21337, 'woodsboro': 21338, 'midwestern': 21339, 'meeks': 21340, 'chatty': 21341, 'inaugurate': 21342, 'lunchmeat': 21343, 'jokey': 21344, 'foreshadows': 21345, 'spoofy': 21346, 'riotous': 21347, 'outclass': 21348, 'skimp': 21349, 'marjoe': 21350, 'gartner': 21351, 'nolan': 21352, 'moffat': 21353, 'shook': 21354, 'skyjacked': 21355, 'soylent': 21356, 'humored': 21357, 'snore': 21358, 'mutha': 21359, 'quake': 21360, 'spiel': 21361, 'glenda': 21362, 'makkena': 21363, 'mendelson': 21364, 'tamasy': 21365, 'wags': 21366, 'retriever': 21367, 'fernwell': 21368, 'finals': 21369, 'rabies': 21370, 'splish': 21371, 'fanatical': 21372, 'ticker': 21373, 'espoused': 21374, 'assuredly': 21375, 'forecaster': 21376, 'psychosis': 21377, 'solitude': 21378, 'mindedly': 21379, 'toiling': 21380, 'sullenly': 21381, 'plauged': 21382, 'migraines': 21383, 'spits': 21384, 'perceptively': 21385, 'zeroing': 21386, 'mistrust': 21387, 'reductionism': 21388, 'individualism': 21389, 'numeric': 21390, 'identifiers': 21391, 'penchent': 21392, 'neighbours': 21393, 'curtly': 21394, 'rebuffed': 21395, 'spindly': 21396, 'pleasantries': 21397, 'aesthetics': 21398, 'ambivalence': 21399, 'fronted': 21400, 'resolutely': 21401, 'representatives': 21402, 'duplictious': 21403, 'hallucinatory': 21404, 'bridging': 21405, 'nosebleeding': 21406, 'maddening': 21407, 'skins': 21408, 'conjunction': 21409, 'lumbering': 21410, 'schreck': 21411, 'lensing': 21412, 'isolationism': 21413, 'snorri': 21414, 'cam': 21415, 'ably': 21416, 'mansell': 21417, 'dispassionate': 21418, 'virtuosity': 21419, 'tab': 21420, 'tzudiker': 21421, 'noni': 21422, 'lima': 21423, 'guilderland': 21424, 'hoyts': 21425, 'darwanism': 21426, 'archimedes': 21427, 'barbaric': 21428, 'safari': 21429, 'smugness': 21430, 'vines': 21431, 'pros': 21432, 'araki': 21433, 'mobbed': 21434, 'improving': 21435, 'evangelist': 21436, 'assassinated': 21437, 'decency': 21438, 'resurrected': 21439, 'nausea': 21440, 'grossly': 21441, 'stroking': 21442, 'unrightfully': 21443, 'overplays': 21444, 'courageously': 21445, 'rampaging': 21446, 'brick': 21447, 'hughley': 21448, 'functioned': 21449, 'quimby': 21450, 'schmancy': 21451, 'thaw': 21452, 'initiate': 21453, 'motivate': 21454, 'infighting': 21455, 'ingalls': 21456, 'humility': 21457, 'associating': 21458, 'cosmo': 21459, 'ir': 21460, 'nelligan': 21461, 'baird': 21462, 'poguerated': 21463, 'languagei': 21464, 'rosewood': 21465, 'adress': 21466, 'differing': 21467, 'disagreeing': 21468, 'hrs': 21469, 'dolittle': 21470, 'skyrocket': 21471, 'overnight': 21472, 'reinvigorated': 21473, 'endangering': 21474, 'goodhearted': 21475, 'sluggishly': 21476, 'cleansed': 21477, 'submergedone': 21478, 'undersea': 21479, 'stroll': 21480, 'operational': 21481, 'liquid': 21482, 'pragmatic': 21483, 'beasts': 21484, 'leagues': 21485, 'mish': 21486, 'truism': 21487, 'affectations': 21488, 'muddies': 21489, 'internally': 21490, 'manifestations': 21491, 'clarified': 21492, 'raccoons': 21493, 'moldy': 21494, 'cheddar': 21495, 'cheesefest': 21496, 'stapled': 21497, 'carelessly': 21498, 'leapfrog': 21499, 'elegance': 21500, 'craftsmanship': 21501, 'scarring': 21502, 'bonfire': 21503, 'vanities': 21504, 'lenient': 21505, 'barbecue': 21506, 'goddard': 21507, 'calculations': 21508, 'formation': 21509, 'suction': 21510, 'dispatched': 21511, 'landslide': 21512, 'supremely': 21513, 'optimists': 21514, 'savagely': 21515, 'hiss': 21516, 'muttered': 21517, 'jeez': 21518, 'funnyman': 21519, 'crevasse': 21520, 'abort': 21521, 'hayden': 21522, 'panettiere': 21523, 'diller': 21524, 'edie': 21525, 'mcclurg': 21526, 'debacles': 21527, 'harvest': 21528, 'grasshoppers': 21529, 'unwanted': 21530, 'threated': 21531, 'reinforcement': 21532, 'dung': 21533, 'beetle': 21534, 'moth': 21535, 'ladybug': 21536, 'caterpillar': 21537, 'outgrown': 21538, 'aviators': 21539, 'underwhelming': 21540, 'downshifts': 21541, 'nerdies': 21542, 'techie': 21543, 'crappiness': 21544, 'uninterrupted': 21545, 'genevi': 21546, 'fullscreen': 21547, 'ow': 21548, 'flaky': 21549, 'frankiln': 21550, 'aquatica': 21551, 'macalaester': 21552, 'alters': 21553, 'wreaks': 21554, 'gobbling': 21555, 'tripod': 21556, 'jackchoo': 21557, 'continuation': 21558, 'reshooting': 21559, 'bergl': 21560, 'globes': 21561, 'conspires': 21562, 'embarrass': 21563, 'pickpocket': 21564, 'schmoozes': 21565, 'moonshine': 21566, 'warrants': 21567, 'taxation': 21568, 'routes': 21569, 'armada': 21570, 'battleships': 21571, 'galactic': 21572, 'jinn': 21573, 'emissaries': 21574, 'uniforms': 21575, 'faithfully': 21576, 'doomsaying': 21577, 'pinnacles': 21578, 'symbiosis': 21579, 'dwellers': 21580, 'ified': 21581, 'stirrup': 21582, 'ratcheted': 21583, 'sportscasters': 21584, 'countrymen': 21585, 'margins': 21586, 'yoda': 21587, 'paralleling': 21588, 'mystify': 21589, 'mislead': 21590, 'rainer': 21591, 'consulate': 21592, 'clouded': 21593, 'jun': 21594, 'tao': 21595, 'excellently': 21596, 'scorsece': 21597, 'imaggio': 21598, 'gansters': 21599, 'palmenteri': 21600, 'fatherlike': 21601, 'ganster': 21602, 'nicknames': 21603, 'coffeecake': 21604, 'movieviewsafter': 21605, 'smuggles': 21606, 'salary': 21607, 'smuggled': 21608, 'oaf': 21609, 'bloodbath': 21610, 'lug': 21611, 'snubbed': 21612, 'saver': 21613, 'defeaning': 21614, 'cooperated': 21615, 'istvan': 21616, 'regimes': 21617, 'aristocrats': 21618, 'harwood': 21619, 'ambiguously': 21620, 'maj': 21621, 'prosecute': 21622, 'peculiarities': 21623, 'sameness': 21624, 'interviewees': 21625, 'tues': 21626, 'almanac': 21627, 'dombsale': 21628, 'fedoor': 21629, 'dombasle': 21630, 'fedoore': 21631, 'mauds': 21632, 'mcfarlane': 21633, 'monosyllabic': 21634, 'panel': 21635, 'morsels': 21636, 'baddie': 21637, 'skimps': 21638, 'flatulating': 21639, 'enables': 21640, 'chameleon': 21641, 'superdemon': 21642, 'prehensile': 21643, 'longs': 21644, 'banshee': 21645, 'evocatively': 21646, 'seamlessly': 21647, 'trumpeter': 21648, 'culminated': 21649, 'amsterdam': 21650, 'candid': 21651, 'iconoclastic': 21652, 'permeate': 21653, 'punctuating': 21654, 'pushy': 21655, 'mulligan': 21656, 'branched': 21657, 'angular': 21658, 'gracing': 21659, 'jackets': 21660, 'adonis': 21661, 'wizened': 21662, 'wrinkled': 21663, 'creases': 21664, 'hollowed': 21665, 'lipless': 21666, 'midas': 21667, 'leprous': 21668, 'affirmative': 21669, 'shambles': 21670, 'greats': 21671, 'nearing': 21672, 'elegy': 21673, 'zien': 21674, 'guzm': 21675, 'brauvara': 21676, 'complexly': 21677, 'eighth': 21678, 'interupts': 21679, 'deconstruction': 21680, 'adjacent': 21681, 'proposterous': 21682, 'offender': 21683, 'intereference': 21684, 'adorned': 21685, 'soundman': 21686, 'cheapened': 21687, 'disection': 21688, 'unearthed': 21689, 'machinas': 21690, 'gypsies': 21691, 'talkie': 21692, 'canales': 21693, 'repetitively': 21694, 'mesmerized': 21695, 'gatlif': 21696, 'nygard': 21697, 'trekker': 21698, 'polemic': 21699, 'oxford': 21700, 'cites': 21701, 'posit': 21702, 'apologetically': 21703, 'stripe': 21704, 'unheard': 21705, 'speedy': 21706, 'photocopying': 21707, 'juror': 21708, 'whitewater': 21709, 'vulcan': 21710, 'stoicism': 21711, 'fealty': 21712, 'laugher': 21713, 'avocations': 21714, 'auction': 21715, 'flitting': 21716, 'trekkie': 21717, 'hygienists': 21718, 'complainer': 21719, 'linguists': 21720, 'humanitarian': 21721, 'sandwiched': 21722, 'devane': 21723, 'rehabilitates': 21724, 'prositute': 21725, 'dominatrix': 21726, 'brightens': 21727, 'splat': 21728, 'purproses': 21729, 'reshoots': 21730, 'substituted': 21731, 'precedes': 21732, 'pious': 21733, 'rc': 21734, 'irreverent': 21735, 'schism': 21736, 'slate': 21737, 'obliteration': 21738, 'dusky': 21739, 'begot': 21740, 'alanis': 21741, 'morissette': 21742, 'carlin': 21743, 'interprets': 21744, 'prophets': 21745, 'fer': 21746, 'chrissakes': 21747, 'millennia': 21748, 'idolaters': 21749, 'expletive': 21750, 'terrorise': 21751, 'monahan': 21752, 'disrupt': 21753, 'departments': 21754, 'texan': 21755, 'lafia': 21756, 'swerdlow': 21757, 'colvin': 21758, 'guintoli': 21759, 'rougly': 21760, 'mechanically': 21761, 'nominees': 21762, 'chant': 21763, 'barclay': 21764, 'utlizes': 21765, 'toons': 21766, 'exprience': 21767, 'steers': 21768, 'horor': 21769, 'developers': 21770, 'homophobic': 21771, 'convience': 21772, 'jnr': 21773, 'yeardly': 21774, 'helluva': 21775, 'unbelivable': 21776, 'pardon': 21777, 'vomits': 21778, 'canister': 21779, 'solves': 21780, 'catagory': 21781, 'midriff': 21782, 'diggler': 21783, 'slickly': 21784, 'scotty': 21785, 'rollergirl': 21786, 'ambers': 21787, 'rollergirls': 21788, 'steadiocam': 21789, 'handheld': 21790, 'directional': 21791, 'tommorow': 21792, 'betters': 21793, 'niggles': 21794, 'dishing': 21795, 'josey': 21796, 'wales': 21797, 'gunslinger': 21798, 'covert': 21799, 'reliability': 21800, 'stooge': 21801, 'onion': 21802, 'taps': 21803, 'moviestar': 21804, 'racked': 21805, 'lonliness': 21806, 'campery': 21807, 'ballistic': 21808, 'trembling': 21809, 'dismember': 21810, 'sapling': 21811, 'tantrum': 21812, 'divest': 21813, 'directorship': 21814, 'etiquette': 21815, 'mildred': 21816, 'carjacking': 21817, 'thrusters': 21818, 'scarifying': 21819, 'rover': 21820, 'stickup': 21821, 'lauris': 21822, 'pleasance': 21823, 'hillrated': 21824, 'febuary': 21825, 'keyboard': 21826, 'haddonfield': 21827, 'shipped': 21828, 'wigged': 21829, 'kwc': 21830, 'glitz': 21831, 'tortoise': 21832, 'arthritis': 21833, 'vh': 21834, 'busting': 21835, 'hilfiger': 21836, 'potshots': 21837, 'malaysia': 21838, 'abolish': 21839, 'jacobim': 21840, 'drafts': 21841, 'brainwash': 21842, 'slumping': 21843, 'matilda': 21844, 'costanza': 21845, 'ballstein': 21846, 'dowdy': 21847, 'highbrow': 21848, 'pickings': 21849, 'xiong': 21850, 'sez': 21851, 'disbanded': 21852, 'moran': 21853, 'gregor': 21854, 'kremp': 21855, 'treville': 21856, 'chambermaid': 21857, 'francesca': 21858, 'footsy': 21859, 'deneuve': 21860, 'menancing': 21861, 'regroup': 21862, 'quintano': 21863, 'artangnan': 21864, 'mouseketeer': 21865, 'hyam': 21866, 'grime': 21867, 'wickedness': 21868, 'disgustedly': 21869, 'certifiably': 21870, 'diabolically': 21871, 'abnormal': 21872, 'hairbrush': 21873, 'foible': 21874, 'bedding': 21875, 'visitor': 21876, 'ripostes': 21877, 'temperamentally': 21878, 'cattily': 21879, 'rolfe': 21880, 'whimsically': 21881, 'captivate': 21882, 'guilfoyle': 21883, 'sleeplessness': 21884, 'scratcher': 21885, 'opulence': 21886, 'macabre': 21887, 'rustic': 21888, 'illustrator': 21889, 'knell': 21890, 'zenith': 21891, 'retching': 21892, 'applesauce': 21893, 'endanger': 21894, 'claymation': 21895, 'unite': 21896, 'nachos': 21897, 'osborn': 21898, 'tambor': 21899, 'ioshpe': 21900, 'caesella': 21901, 'mortals': 21902, 'speculate': 21903, 'phenomenas': 21904, 'executioner': 21905, 'ravishingly': 21906, 'donne': 21907, 'summarizing': 21908, 'inclement': 21909, 'honours': 21910, 'extracurricular': 21911, 'fearfully': 21912, 'denker': 21913, 'pseudonymous': 21914, 'dusting': 21915, 'daydreams': 21916, 'bystander': 21917, 'overrides': 21918, 'revives': 21919, 'doodles': 21920, 'swastikas': 21921, 'keyser': 21922, 'ze': 21923, 'ruses': 21924, 'bankrupt': 21925, 'hoodwink': 21926, 'schoolish': 21927, 'overdirected': 21928, 'kieran': 21929, 'counsellor': 21930, 'blackening': 21931, 'winningly': 21932, 'laudible': 21933, 'berkowitz': 21934, 'tia': 21935, 'carrere': 21936, 'marraige': 21937, 'worrysome': 21938, 'handke': 21939, 'andr': 21940, 'cassiel': 21941, 'messinger': 21942, 'colm': 21943, 'feore': 21944, 'teresa': 21945, 'outfield': 21946, 'lapping': 21947, 'eternally': 21948, 'soothe': 21949, 'reinterpretation': 21950, 'wender': 21951, 'banisters': 21952, 'charted': 21953, 'alleviated': 21954, 'interviewli': 21955, 'interviewfonda': 21956, 'whippings': 21957, 'kickass': 21958, 'dunking': 21959, 'karyo': 21960, 'gangbusters': 21961, 'voila': 21962, 'hoppy': 21963, 'acupuncture': 21964, 'thang': 21965, 'rippin': 21966, 'roarin': 21967, 'shanghai': 21968, 'rudimentary': 21969, 'copand': 21970, 'hardclone': 21971, 'exporter': 21972, 'wholesaler': 21973, 'dredd': 21974, 'triads': 21975, 'removes': 21976, 'rutger': 21977, 'hauer': 21978, 'specliast': 21979, 'credo': 21980, 'moll': 21981, 'ballisitic': 21982, 'mispaired': 21983, 'caffeine': 21984, 'woken': 21985, 'demolition': 21986, 'waller': 21987, 'zudina': 21988, 'fray': 21989, 'offset': 21990, 'squeamish': 21991, 'roadshow': 21992, 'bladwin': 21993, 'vorgna': 21994, 'ferver': 21995, 'leach': 21996, 'shorten': 21997, 'toma': 21998, 'turano': 21999, 'affectionately': 22000, 'seaquest': 22001, 'fugue': 22002, 'preparatory': 22003, 'humourless': 22004, 'zippers': 22005, 'flatulence': 22006, 'halcyon': 22007, 'spectre': 22008, 'bottoms': 22009, 'poofy': 22010, 'xxx': 22011, 'bared': 22012, 'petrice': 22013, 'ache': 22014, 'idols': 22015, 'bracing': 22016, 'unerringly': 22017, 'tactile': 22018, 'interconnectedness': 22019, 'rummages': 22020, 'drawers': 22021, 'icing': 22022, 'hanif': 22023, 'kureishi': 22024, 'dank': 22025, 'glum': 22026, 'workaday': 22027, 'dissatisfaction': 22028, 'corrupting': 22029, 'chareau': 22030, 'wielded': 22031, 'transit': 22032, 'workplaces': 22033, 'undress': 22034, 'trendsetters': 22035, 'scraped': 22036, 'highlighting': 22037, 'jocular': 22038, 'effacing': 22039, 'quizzical': 22040, 'overreaching': 22041, 'passageways': 22042, 'guile': 22043, 'insinuations': 22044, 'etched': 22045, 'hostility': 22046, 'propriety': 22047, 'tantalizing': 22048, 'groping': 22049, 'chabrol': 22050, 'monie': 22051, 'delineation': 22052, 'laurent': 22053, 'mathilde': 22054, 'corpulent': 22055, 'springy': 22056, 'bun': 22057, 'guillemin': 22058, 'reminisce': 22059, 'hedonist': 22060, 'misanthrope': 22061, 'unexpressive': 22062, 'diverts': 22063, 'accentuating': 22064, 'grotesquely': 22065, 'quarrelsome': 22066, 'disorganized': 22067, 'turbulent': 22068, 'magnanimous': 22069, 'conditioning': 22070, 'ami': 22071, 'vous': 22072, 'veut': 22073, 'bien': 22074, 'contraceptive': 22075, 'secrecy': 22076, 'crispin': 22077, 'carville': 22078, 'hanover': 22079, 'yang': 22080, 'hausman': 22081, 'valmont': 22082, 'unweaves': 22083, 'entrepreneurial': 22084, 'outback': 22085, 'publishers': 22086, 'railed': 22087, 'preached': 22088, 'incarceration': 22089, 'devotedly': 22090, 'apparel': 22091, 'subjectivity': 22092, 'occassionally': 22093, 'affectionate': 22094, 'tenderly': 22095, 'censors': 22096, 'irrepressible': 22097, 'stubborness': 22098, 'impulsive': 22099, 'flashier': 22100, 'sabotages': 22101, 'quibbles': 22102, 'unduly': 22103, 'rev': 22104, 'faldwell': 22105, 'fung': 22106, 'freenet': 22107, 'ncf': 22108, 'embarrasingly': 22109, 'benic': 22110, 'misconceived': 22111, 'liber': 22112, 'lobotomy': 22113, 'twenties': 22114, 'dupe': 22115, 'spatter': 22116, 'curvaceous': 22117, 'shyster': 22118, 'populating': 22119, 'flex': 22120, 'biceps': 22121, 'fetching': 22122, 'requested': 22123, 'throbbing': 22124, 'cel': 22125, 'hideyuki': 22126, 'kikuchi': 22127, 'dunpeal': 22128, 'meier': 22129, 'eurotrash': 22130, 'markus': 22131, 'crossbows': 22132, 'creeping': 22133, 'madhouse': 22134, 'yoshiaki': 22135, 'kawajiri': 22136, 'romanticism': 22137, 'amounting': 22138, 'overextended': 22139, 'lizards': 22140, 'trolley': 22141, 'chronicle': 22142, 'jumbles': 22143, 'spotlights': 22144, 'jiggle': 22145, 'romantini': 22146, 'begg': 22147, 'carole': 22148, 'scaldeferri': 22149, 'spada': 22150, 'floss': 22151, 'juke': 22152, 'smalls': 22153, 'midnighters': 22154, 'suggestive': 22155, 'notables': 22156, 'presley': 22157, 'jockeys': 22158, 'wdas': 22159, 'wfil': 22160, 'kiene': 22161, 'peatross': 22162, 'lingers': 22163, 'communicable': 22164, 'eisenhower': 22165, 'spawning': 22166, 'peppermint': 22167, 'commonfolk': 22168, 'saturating': 22169, 'spiraling': 22170, 'watusi': 22171, 'derivations': 22172, 'hully': 22173, 'gully': 22174, 'hucklebuck': 22175, 'paled': 22176, 'traded': 22177, 'mcluhan': 22178, 'bopping': 22179, 'jitterbugging': 22180, 'frug': 22181, 'millie': 22182, 'hayward': 22183, 'prance': 22184, 'disappearance': 22185, 'grieve': 22186, 'plaid': 22187, 'specialised': 22188, 'infiltrates': 22189, 'iranians': 22190, 'quashed': 22191, 'preferring': 22192, 'headaches': 22193, 'ronna': 22194, 'eviction': 22195, 'clubber': 22196, 'masterwork': 22197, 'zigzagged': 22198, 'unforeseen': 22199, 'torontonian': 22200, 'cashier': 22201, 'chipperly': 22202, 'vaughan': 22203, 'aped': 22204, 'anarchists': 22205, 'frothy': 22206, 'backstabbers': 22207, 'checkered': 22208, 'neccesary': 22209, 'denizens': 22210, 'dialagoue': 22211, 'reccomend': 22212, 'tripplehorningredients': 22213, 'junction': 22214, 'winsome': 22215, 'rejoice': 22216, 'shagging': 22217, 'wanker': 22218, 'untranslated': 22219, 'scrambles': 22220, 'starlight': 22221, 'heartache': 22222, 'indecisive': 22223, 'inconveniences': 22224, 'hairstyles': 22225, 'comebacks': 22226, 'vienna': 22227, 'norway': 22228, 'packard': 22229, 'cancels': 22230, 'salmon': 22231, 'escorted': 22232, 'cantankerous': 22233, 'incarnations': 22234, 'cocoon': 22235, 'uneducated': 22236, 'stepmother': 22237, 'housekeeper': 22238, 'idella': 22239, 'rolle': 22240, 'mercies': 22241, 'stagey': 22242, 'tugs': 22243, 'jugular': 22244, 'hickey': 22245, 'centennial': 22246, 'auctioning': 22247, 'embarking': 22248, 'renovation': 22249, 'outsmarts': 22250, 'smuntz': 22251, 'rodent': 22252, 'hushes': 22253, 'allotted': 22254, 'rainfall': 22255, 'dickie': 22256, 'sats': 22257, 'jett': 22258, 'budweiser': 22259, 'yippee': 22260, 'sonnenberg': 22261, 'fowler': 22262, 'officious': 22263, 'lomper': 22264, 'huison': 22265, 'graceless': 22266, 'speer': 22267, 'looker': 22268, 'sextet': 22269, 'choreograph': 22270, 'athleticism': 22271, 'mandatory': 22272, 'anthropologists': 22273, 'stolz': 22274, 'embroiled': 22275, 'hitchhikers': 22276, 'negated': 22277, 'feline': 22278, 'squeezes': 22279, 'eeeewwwww': 22280, 'sweathogs': 22281, 'woodman': 22282, 'casserole': 22283, 'goose': 22284, 'proficient': 22285, 'speakeasy': 22286, 'staking': 22287, 'cardshark': 22288, 'connives': 22289, 'folding': 22290, 'elk': 22291, 'goulash': 22292, 'bereft': 22293, 'knish': 22294, 'payments': 22295, 'slay': 22296, 'abe': 22297, 'petrovsky': 22298, 'facilitates': 22299, 'triumvirate': 22300, 'maduro': 22301, 'wrapper': 22302, 'narrations': 22303, 'apprise': 22304, 'antoine': 22305, 'collaborations': 22306, 'sanzel': 22307, 'tsang': 22308, 'dispatches': 22309, 'replacements': 22310, 'forger': 22311, 'serviced': 22312, 'scratches': 22313, 'erases': 22314, 'reverence': 22315, 'revelatory': 22316, 'cryogenically': 22317, 'docking': 22318, 'caverns': 22319, 'improbability': 22320, 'surgically': 22321, 'latitude': 22322, 'indistinct': 22323, 'corridor': 22324, 'futilely': 22325, 'breadth': 22326, 'permits': 22327, 'deathtrap': 22328, 'pitchblack': 22329, 'neophyte': 22330, 'baylor': 22331, 'excluded': 22332, 'suing': 22333, 'outgunned': 22334, 'oppose': 22335, 'rainmaker': 22336, 'conflicted': 22337, 'eamonn': 22338, 'unjustifyably': 22339, 'nosy': 22340, 'nugent': 22341, 'needy': 22342, 'anchoring': 22343, 'spree': 22344, 'layers': 22345, 'pentecostal': 22346, 'ruse': 22347, 'elmer': 22348, 'gantry': 22349, 'tack': 22350, 'smearing': 22351, 'implication': 22352, 'ministry': 22353, 'euliss': 22354, 'financier': 22355, 'claps': 22356, 'churches': 22357, 'orators': 22358, 'angers': 22359, 'farrah': 22360, 'fawcett': 22361, 'predominately': 22362, 'remodeled': 22363, 'holiness': 22364, 'rebaptizes': 22365, 'tithe': 22366, 'extend': 22367, 'donations': 22368, 'toosie': 22369, 'predestined': 22370, 'fatales': 22371, 'tropics': 22372, 'americas': 22373, 'antithesis': 22374, 'irks': 22375, 'pendel': 22376, 'unctuous': 22377, 'panamanian': 22378, 'saville': 22379, 'torching': 22380, 'gathered': 22381, 'clientele': 22382, 'comply': 22383, 'waterway': 22384, 'fretful': 22385, 'evenings': 22386, 'duplicity': 22387, 'shoring': 22388, 'activists': 22389, 'charades': 22390, 'adroitly': 22391, 'pulsates': 22392, 'croatto': 22393, 'af': 22394, 'duets': 22395, 'dandruff': 22396, 'waxy': 22397, 'discos': 22398, 'shaquille': 22399, 'shaq': 22400, 'dissapointment': 22401, 'flashly': 22402, 'glorifies': 22403, 'religiously': 22404, 'legality': 22405, 'huddles': 22406, 'goemon': 22407, 'kiki': 22408, 'nausicaa': 22409, 'bashing': 22410, 'concession': 22411, 'fansub': 22412, 'enthrall': 22413, 'nauseate': 22414, 'befriend': 22415, 'paddies': 22416, 'poppins': 22417, 'vcr': 22418, 'excatly': 22419, 'fansubbed': 22420, 'chanting': 22421, 'reframed': 22422, 'pronounces': 22423, 'ambiance': 22424, 'summing': 22425, 'backs': 22426, 'kiddies': 22427, 'verboten': 22428, 'batinkoff': 22429, 'boatman': 22430, 'flirtatious': 22431, 'bouts': 22432, 'appetizer': 22433, 'ingratiating': 22434, 'yearly': 22435, 'doldrums': 22436, 'meatier': 22437, 'agey': 22438, 'millennial': 22439, 'smits': 22440, 'comprising': 22441, 'aborts': 22442, 'randomness': 22443, 'slammer': 22444, 'municipal': 22445, 'propositions': 22446, 'tantalize': 22447, 'volker': 22448, 'schlondorff': 22449, 'rigorously': 22450, 'sleaziest': 22451, 'immorality': 22452, 'faltermeyer': 22453, 'synthesized': 22454, 'merrier': 22455, 'amoeba': 22456, 'nighttime': 22457, 'bicker': 22458, 'workable': 22459, 'weaponesque': 22460, 'meanies': 22461, 'crumble': 22462, 'disinvited': 22463, 'unsound': 22464, 'vip': 22465, 'ofcs': 22466, 'jab': 22467, 'dials': 22468, 'backseat': 22469, 'rutheford': 22470, 'attenuated': 22471, 'password': 22472, 'gossipy': 22473, 'entailing': 22474, 'umpteen': 22475, 'mutating': 22476, 'authored': 22477, 'reined': 22478, 'pais': 22479, 'persnickety': 22480, 'resurrecting': 22481, 'sendoff': 22482, 'sanctimony': 22483, 'crescendos': 22484, 'jangling': 22485, 'birthed': 22486, 'mothballs': 22487, 'preppy': 22488, 'peeing': 22489, 'tripping': 22490, 'garners': 22491, 'chopsocky': 22492, 'blockheaded': 22493, 'tang': 22494, 'fibe': 22495, 'samo': 22496, 'cart': 22497, 'carriage': 22498, 'mixers': 22499, 'buzzsaw': 22500, 'condor': 22501, 'brawl': 22502, 'pipeline': 22503, 'diluted': 22504, 'squeals': 22505, 'pontificate': 22506, 'nix': 22507, 'streamlined': 22508, 'crushes': 22509, 'zide': 22510, 'stupefyingly': 22511, 'surley': 22512, 'rambunctious': 22513, 'snipe': 22514, 'sabbato': 22515, 'handguns': 22516, 'breakdancing': 22517, 'grammatical': 22518, 'skew': 22519, 'handgun': 22520, 'grenades': 22521, 'outrun': 22522, 'tumbling': 22523, 'fractions': 22524, 'firearms': 22525, 'launchers': 22526, 'reiterate': 22527, 'cherish': 22528, 'dwarfed': 22529, 'procreating': 22530, 'petri': 22531, 'spawns': 22532, 'titan': 22533, 'paralized': 22534, 'eyelashes': 22535, 'cassini': 22536, 'roelfs': 22537, 'alienate': 22538, 'overpowering': 22539, 'tampering': 22540, 'heartwrenching': 22541, 'coding': 22542, 'gladnick': 22543, 'frightens': 22544, 'intolerable': 22545, 'inhibition': 22546, 'bozo': 22547, 'defacing': 22548, 'outwardly': 22549, 'disposition': 22550, 'eholy': 22551, 'ekeaton': 22552, 'halfheartedly': 22553, 'enothing': 22554, 'grimacing': 22555, 'ebringing': 22556, 'expressionist': 22557, 'bladerunner': 22558, 'elike': 22559, 'etransports': 22560, 'overflying': 22561, 'paneled': 22562, 'snoots': 22563, 'obstructions': 22564, 'obscuring': 22565, 'tangerine': 22566, 'timbre': 22567, 'powaqqatsi': 22568, 'keyboardist': 22569, 'capitalized': 22570, 'clicked': 22571, 'traylor': 22572, 'levying': 22573, 'misrepresenting': 22574, 'schizophrenia': 22575, 'protest': 22576, 'baileygaites': 22577, 'forgiving': 22578, 'manifests': 22579, 'roping': 22580, 'newsmagazine': 22581, 'sleight': 22582, 'grossness': 22583, 'midgets': 22584, 'albinos': 22585, 'curveballs': 22586, 'schitck': 22587, 'ceases': 22588, 'reeks': 22589, 'vocally': 22590, 'contort': 22591, 'latch': 22592, 'outsmarted': 22593, 'harewood': 22594, 'eightball': 22595, 'herr': 22596, 'hasford': 22597, 'effected': 22598, 'bodied': 22599, 'absorbs': 22600, 'interviewing': 22601, 'filmming': 22602, 'redder': 22603, 'pulplike': 22604, 'haywire': 22605, 'bossing': 22606, 'disturbance': 22607, 'cribs': 22608, 'repetitious': 22609, 'dustlike': 22610, 'particles': 22611, 'gangbangers': 22612, 'subordinate': 22613, 'martians': 22614, 'blares': 22615, 'snoozer': 22616, 'napping': 22617, 'doran': 22618, 'uniqe': 22619, 'insisted': 22620, 'lionize': 22621, 'perfume': 22622, 'durable': 22623, 'vampiric': 22624, 'bowel': 22625, 'michelangelo': 22626, 'antonioni': 22627, 'atrice': 22628, 'dalle': 22629, 'presentations': 22630, 'consulting': 22631, 'tooling': 22632, 'smacking': 22633, 'haunts': 22634, 'downing': 22635, 'kelsch': 22636, 'alternating': 22637, 'painterly': 22638, 'docu': 22639, 'arrrghhh': 22640, 'sod': 22641, 'yer': 22642, 'bloodstream': 22643, 'stubble': 22644, 'oily': 22645, 'kowalski': 22646, 'overtaken': 22647, 'vorld': 22648, 'overlit': 22649, 'warmer': 22650, 'blitz': 22651, 'heeere': 22652, 'enquirer': 22653, 'mushroom': 22654, 'sumo': 22655, 'singin': 22656, 'classier': 22657, 'fondle': 22658, 'footprint': 22659, 'dispels': 22660, 'vicki': 22661, 'newsradio': 22662, 'announcing': 22663, 'anamoly': 22664, 'abberation': 22665, 'syllables': 22666, 'anchorman': 22667, 'prowls': 22668, 'mispronouncing': 22669, 'intersection': 22670, 'asexually': 22671, 'swatch': 22672, 'sprint': 22673, 'pappe': 22674, 'pato': 22675, 'rey': 22676, 'charo': 22677, 'sagebrecht': 22678, 'carlotta': 22679, 'gerson': 22680, 'lorin': 22681, 'zenda': 22682, 'substitutions': 22683, 'dippily': 22684, 'raucousness': 22685, 'farces': 22686, 'dictatorship': 22687, 'inn': 22688, 'allegiance': 22689, 'retiree': 22690, 'boozer': 22691, 'wencher': 22692, 'eminence': 22693, 'oppress': 22694, 'nimble': 22695, 'masquerade': 22696, 'embellishes': 22697, 'sic': 22698, 'numero': 22699, 'uno': 22700, 'besa': 22701, 'cannily': 22702, 'evaluated': 22703, 'constructive': 22704, 'pats': 22705, 'charley': 22706, 'frosting': 22707, 'shticks': 22708, 'deride': 22709, 'anglo': 22710, 'compendium': 22711, 'grable': 22712, 'switched': 22713, 'moo': 22714, 'paraguay': 22715, 'stroessner': 22716, 'straussmann': 22717, 'stresses': 22718, 'starry': 22719, 'determinedly': 22720, 'illogicality': 22721, 'elastic': 22722, 'din': 22723, 'besame': 22724, 'mancha': 22725, 'teutonic': 22726, 'overestimated': 22727, 'complicity': 22728, 'bespeaks': 22729, 'myyself': 22730, 'diffusion': 22731, 'objection': 22732, 'unpruned': 22733, 'delerue': 22734, 'revel': 22735, 'sickened': 22736, 'mothering': 22737, 'validation': 22738, 'unconsciously': 22739, 'oedipal': 22740, 'sausalito': 22741, 'quantities': 22742, 'refrigerates': 22743, 'lettuce': 22744, 'wilted': 22745, 'iced': 22746, 'glaze': 22747, 'freezer': 22748, 'sequitur': 22749, 'yosarian': 22750, 'symptoms': 22751, 'softness': 22752, 'jibe': 22753, 'lovebirds': 22754, 'anchored': 22755, 'chipper': 22756, 'sullavan': 22757, 'honchos': 22758, 'capably': 22759, 'magnitude': 22760, 'prepare': 22761, 'chocolates': 22762, 'herpes': 22763, 'clumpy': 22764, 'discharge': 22765, 'downloads': 22766, 'loman': 22767, 'neglects': 22768, 'prostate': 22769, 'constipation': 22770, 'conjoined': 22771, 'myslexia': 22772, 'dirtier': 22773, 'grishamn': 22774, 'laywer': 22775, 'detonated': 22776, 'grandson': 22777, 'eleventh': 22778, 'unwound': 22779, 'warding': 22780, 'virulently': 22781, 'gratis': 22782, 'defenses': 22783, 'imminence': 22784, 'timeline': 22785, 'hug': 22786, 'ece': 22787, 'ab': 22788, 'ballbusted': 22789, 'foolproof': 22790, 'vigorously': 22791, 'karazewski': 22792, 'claudio': 22793, 'santamaria': 22794, 'landun': 22795, 'clare': 22796, 'peploe': 22797, 'plucks': 22798, 'tribal': 22799, 'scratchy': 22800, 'unkown': 22801, 'undercuts': 22802, 'satisying': 22803, 'drought': 22804, 'cianchetti': 22805, 'combinations': 22806, 'predominant': 22807, 'templates': 22808, 'hunan': 22809, 'leper': 22810, 'birthmark': 22811, 'cowlick': 22812, 'stutterers': 22813, 'lobotomized': 22814, 'juliette': 22815, 'roselake': 22816, 'watchful': 22817, 'kennedys': 22818, 'enroll': 22819, 'vocational': 22820, 'mork': 22821, 'mindy': 22822, 'laverne': 22823, 'flamingo': 22824, 'languageplanet': 22825, 'eznet': 22826, 'jpopick': 22827, 'waite': 22828, 'dejesus': 22829, 'lobo': 22830, 'beware': 22831, 'superglued': 22832, 'bypassed': 22833, 'gussied': 22834, 'outposts': 22835, 'headlining': 22836, 'indistinguishable': 22837, 'midlife': 22838, 'revolts': 22839, 'lighten': 22840, 'morphin': 22841, 'graduating': 22842, 'photographers': 22843, 'surpassing': 22844, 'thirst': 22845, 'recognizably': 22846, 'spoofery': 22847, 'severities': 22848, 'woof': 22849, 'ovular': 22850, 'androgony': 22851, 'newsreel': 22852, 'aspire': 22853, 'deliriously': 22854, 'addictively': 22855, 'accentuates': 22856, 'liberation': 22857, 'secluding': 22858, 'curt': 22859, 'wildness': 22860, 'cecil': 22861, 'reinventing': 22862, 'rebelliousness': 22863, 'molding': 22864, 'breaths': 22865, 'juxtaposing': 22866, 'decadent': 22867, 'ratttz': 22868, 'esuqe': 22869, 'camel': 22870, 'exhileration': 22871, 'frock': 22872, 'depressingly': 22873, 'roxy': 22874, 'yorke': 22875, 'uncannily': 22876, 'garbo': 22877, 'ism': 22878, 'composite': 22879, 'androgonys': 22880, 'fuse': 22881, 'unearths': 22882, 'unearth': 22883, 'regretful': 22884, 'perk': 22885, 'edf': 22886, 'ddd': 22887, 'sodom': 22888, 'implicating': 22889, 'disguising': 22890, 'coney': 22891, 'calvin': 22892, 'dilating': 22893, 'squeezing': 22894, 'sizzle': 22895, 'kronos': 22896, 'drums': 22897, 'torments': 22898, 'welt': 22899, 'goldfarb': 22900, 'apathetic': 22901, 'brighton': 22902, 'quack': 22903, 'gnashing': 22904, 'fawn': 22905, 'extolled': 22906, 'helplessness': 22907, 'lester': 22908, 'heartedfrom': 22909, 'meanspirited': 22910, 'moxin': 22911, 'ligaments': 22912, 'feuds': 22913, 'overstaying': 22914, 'typecasted': 22915, 'hasten': 22916, 'thoughtfulness': 22917, 'iliff': 22918, 'extemely': 22919, 'overstay': 22920, 'contends': 22921, 'marrickville': 22922, 'nadine': 22923, 'mimica': 22924, 'comer': 22925, 'bridie': 22926, 'uni': 22927, 'compiles': 22928, 'distributes': 22929, 'situated': 22930, 'fragmented': 22931, 'coined': 22932, 'zinema': 22933, 'methodology': 22934, 'artlessly': 22935, 'symptomatic': 22936, 'anew': 22937, 'docks': 22938, 'aft': 22939, 'realisticaly': 22940, 'brining': 22941, 'dicaprip': 22942, 'luxuries': 22943, 'wizards': 22944, 'wo': 22945, 'undertaken': 22946, 'marveled': 22947, 'smashingly': 22948, 'marconi': 22949, 'legros': 22950, 'hawn': 22951, 'boinked': 22952, 'kafkaism': 22953, 'raking': 22954, 'extinguishing': 22955, 'exacty': 22956, 'mishmash': 22957, 'favoring': 22958, 'nitwits': 22959, 'tyrell': 22960, 'secluded': 22961, 'disheartening': 22962, 'ikwydls': 22963, 'portuguese': 22964, 'senge': 22965, 'pieh': 22966, 'boarded': 22967, 'piracy': 22968, 'defendants': 22969, 'pawns': 22970, 'fees': 22971, 'frees': 22972, 'persuaded': 22973, 'pickin': 22974, 'shindler': 22975, 'reproach': 22976, 'presidents': 22977, 'doddering': 22978, 'phases': 22979, 'aubr': 22980, 'telsche': 22981, 'ticky': 22982, 'holgado': 22983, 'bos': 22984, 'foregin': 22985, 'aboslutely': 22986, 'indien': 22987, 'dans': 22988, 'gazon': 22989, 'maudit': 22990, 'loli': 22991, 'soons': 22992, 'sylvia': 22993, 'cesars': 22994, 'humerous': 22995, 'snail': 22996, 'brunettes': 22997, 'redheads': 22998, 'superficiality': 22999, 'wafer': 23000, 'nth': 23001, 'lookalike': 23002, 'berkley': 23003, 'supposes': 23004, 'hunks': 23005, 'frowns': 23006, 'babbles': 23007, 'marlo': 23008, 'belittling': 23009, 'swiped': 23010, 'taunt': 23011, 'reconsider': 23012, 'sammo': 23013, 'calorie': 23014, 'goofier': 23015, 'departures': 23016, 'fluidly': 23017, 'staney': 23018, 'boggling': 23019, 'cords': 23020, 'guignol': 23021, 'barbuscia': 23022, 'novi': 23023, 'hale': 23024, 'kimmel': 23025, 'macmillan': 23026, 'vanston': 23027, 'uncouth': 23028, 'bartholomew': 23029, 'fontenot': 23030, 'intrepid': 23031, 'eagles': 23032, 'conquistador': 23033, 'hildago': 23034, 'lunacy': 23035, 'bellowing': 23036, 'spinal': 23037, 'rapids': 23038, 'epitaph': 23039, 'stamina': 23040, 'outerbridge': 23041, 'jointly': 23042, 'emits': 23043, 'comrade': 23044, 'hull': 23045, 'breach': 23046, 'indicator': 23047, 'snobs': 23048, 'sued': 23049, 'breech': 23050, 'amputated': 23051, 'horne': 23052, 'artificiality': 23053, 'pattersoncontact': 23054, 'destructiveness': 23055, 'hybridization': 23056, 'refrains': 23057, 'ultraconservative': 23058, 'complementary': 23059, 'diametrically': 23060, 'representation': 23061, 'atheists': 23062, 'punchline': 23063, 'outweigh': 23064, 'fizzled': 23065, 'bases': 23066, 'mound': 23067, 'paperwork': 23068, 'stocked': 23069, 'necessities': 23070, 'couriers': 23071, 'sachs': 23072, 'yong': 23073, 'partnerships': 23074, 'boasted': 23075, 'ipo': 23076, 'startup': 23077, 'govworks': 23078, 'founders': 23079, 'wonsuk': 23080, 'juxtaposes': 23081, 'messengers': 23082, 'ceos': 23083, 'dries': 23084, 'dreamers': 23085, 'deadlines': 23086, 'titter': 23087, 'ostriches': 23088, 'saddles': 23089, 'doper': 23090, 'leiner': 23091, 'cerebrum': 23092, 'sarcastically': 23093, 'shibby': 23094, 'frat': 23095, 'prankster': 23096, 'winces': 23097, 'venomous': 23098, 'protocol': 23099, 'crestfallen': 23100, 'mopes': 23101, 'cass': 23102, 'drain': 23103, 'smutty': 23104, 'undercut': 23105, 'resumes': 23106, 'fetale': 23107, 'gawking': 23108, 'hillbillies': 23109, 'brokerage': 23110, 'thorpe': 23111, 'sponsorship': 23112, 'fraternity': 23113, 'wheedon': 23114, 'magnified': 23115, 'tenfold': 23116, 'disadvantageous': 23117, 'laflour': 23118, 'faddish': 23119, 'amor': 23120, 'pyromaniacs': 23121, 'blondes': 23122, 'resurrect': 23123, 'catergory': 23124, 'mutton': 23125, 'sideburns': 23126, 'damnedest': 23127, 'grogan': 23128, 'menacingly': 23129, 'hynes': 23130, 'disfiguring': 23131, 'bollocks': 23132, 'inventively': 23133, 'conor': 23134, 'breathnach': 23135, 'peat': 23136, 'hostelries': 23137, 'caffrey': 23138, 'leeson': 23139, 'hurls': 23140, 'infuriates': 23141, 'trimmend': 23142, 'shepard': 23143, 'voss': 23144, 'dysfunction': 23145, 'paradox': 23146, 'strikingly': 23147, 'postmodernism': 23148, 'twisters': 23149, 'geffen': 23150, 'mousehunt': 23151, 'subordinates': 23152, 'imminent': 23153, 'preparations': 23154, 'discoverers': 23155, 'contingency': 23156, 'dwindling': 23157, 'peacekeeper': 23158, 'clichesthe': 23159, 'jungian': 23160, 'archetypes': 23161, 'jung': 23162, 'manifest': 23163, 'societies': 23164, 'archetype': 23165, 'arcadia': 23166, 'shipwrecked': 23167, 'exiled': 23168, 'conduct': 23169, 'tote': 23170, 'lighted': 23171, 'mekum': 23172, 'isaacs': 23173, 'pencil': 23174, 'snidley': 23175, 'buffed': 23176, 'grimly': 23177, 'sidequel': 23178, 'replicants': 23179, 'hartley': 23180, 'atchesonmighty': 23181, 'gargantuan': 23182, 'volkswagen': 23183, 'clumsiness': 23184, 'sherbedgia': 23185, 'fulfills': 23186, 'fatuous': 23187, 'unequipped': 23188, 'coaxes': 23189, 'unbroken': 23190, 'rigors': 23191, 'hormonal': 23192, 'highness': 23193, 'bedfellows': 23194, 'labute': 23195, 'sultans': 23196, 'misanthropy': 23197, 'hauteurs': 23198, 'braced': 23199, 'mortified': 23200, 'forays': 23201, 'philosophically': 23202, 'hyperviolent': 23203, 'bundle': 23204, 'insouciance': 23205, 'morosely': 23206, 'roxane': 23207, 'mesquida': 23208, 'cottage': 23209, 'libero': 23210, 'rienzo': 23211, 'blowjob': 23212, 'girth': 23213, 'railing': 23214, 'paramour': 23215, 'nastiest': 23216, 'deadlier': 23217, 'pounce': 23218, 'tawdriness': 23219, 'soeur': 23220, 'annabeth': 23221, 'gaston': 23222, 'reoccurrence': 23223, 'gras': 23224, 'uncommonly': 23225, 'alerts': 23226, 'duct': 23227, 'cornered': 23228, 'tulley': 23229, 'cringing': 23230, 'mapother': 23231, 'swanbeck': 23232, 'chimera': 23233, 'nordoff': 23234, 'rectified': 23235, 'specimens': 23236, 'straying': 23237, 'soppy': 23238, 'sentimentally': 23239, 'spurting': 23240, 'rectify': 23241, 'tenets': 23242, 'oooooh': 23243, 'compounds': 23244, 'conglomeration': 23245, 'russ': 23246, 'mammary': 23247, 'raved': 23248, 'smuttier': 23249, 'pillar': 23250, 'varla': 23251, 'upped': 23252, 'cripple': 23253, 'prizes': 23254, 'staples': 23255, 'speedster': 23256, 'representational': 23257, 'flogged': 23258, 'wellspring': 23259, 'empowerment': 23260, 'califa': 23261, 'crediting': 23262, 'adventurous': 23263, 'scrapyard': 23264, 'mccoppin': 23265, 'reinforcements': 23266, 'moviephone': 23267, 'sandlerstarring': 23268, 'stewartsynopsis': 23269, 'koufax': 23270, 'wipes': 23271, 'apologizing': 23272, 'sugary': 23273, 'kindergartner': 23274, 'jollies': 23275, 'mistreatment': 23276, 'unsupervised': 23277, 'raucously': 23278, 'slumps': 23279, 'cider': 23280, 'disapproval': 23281, 'yelled': 23282, 'exchanging': 23283, 'interferes': 23284, 'manny': 23285, 'disclosing': 23286, 'participates': 23287, 'shapes': 23288, 'calvert': 23289, 'beem': 23290, 'terese': 23291, 'necrophiliac': 23292, 'voracity': 23293, 'clamps': 23294, 'gyrations': 23295, 'desensitized': 23296, 'orgies': 23297, 'adventuresome': 23298, 'transgressive': 23299, 'nullity': 23300, 'excavate': 23301, 'ignominiously': 23302, 'misunderstand': 23303, 'shriek': 23304, 'levangie': 23305, 'demoralised': 23306, 'cracker': 23307, 'signy': 23308, 'lecture': 23309, 'maps': 23310, 'discerning': 23311, 'cajun': 23312, 'creole': 23313, 'cappella': 23314, 'superfluously': 23315, 'panning': 23316, 'fro': 23317, 'expounds': 23318, 'glories': 23319, 'jockey': 23320, 'pearlee': 23321, 'tolliver': 23322, 'amuses': 23323, 'connoisseurs': 23324, 'musically': 23325, 'ruffins': 23326, 'barbeques': 23327, 'ledet': 23328, 'zydeco': 23329, 'clumped': 23330, 'discarged': 23331, 'collectible': 23332, 'roundup': 23333, 'acquire': 23334, 'hamm': 23335, 'potatohead': 23336, 'filters': 23337, 'remembrance': 23338, 'videogames': 23339, 'brs': 23340, 'charasmatic': 23341, 'macht': 23342, 'comanche': 23343, 'arcand': 23344, 'rebs': 23345, 'avaricious': 23346, 'thaddeus': 23347, 'pinkerton': 23348, 'ty': 23349, 'sabotaging': 23350, 'mimms': 23351, 'roderick': 23352, 'reichle': 23353, 'trevor': 23354, 'rabin': 23355, 'galloping': 23356, 'golfer': 23357, 'smooths': 23358, 'rebounding': 23359, 'crue': 23360, 'anthrax': 23361, 'ethic': 23362, 'zakk': 23363, 'wylde': 23364, 'ozzy': 23365, 'osbourne': 23366, 'pilson': 23367, 'stephan': 23368, 'blas': 23369, 'cuddy': 23370, 'girlfight': 23371, 'wasson': 23372, 'teenaged': 23373, 'polls': 23374, 'snipping': 23375, 'replenishing': 23376, 'suggestiveness': 23377, 'rivaled': 23378, 'lax': 23379, 'prank': 23380, 'censored': 23381, 'falwell': 23382, 'matrimony': 23383, 'advising': 23384, 'wheezing': 23385, 'toothed': 23386, 'turbulence': 23387, 'skintight': 23388, 'coughs': 23389, 'oneself': 23390, 'sleazepin': 23391, 'voyeuristic': 23392, 'glistens': 23393, 'flank': 23394, 'steak': 23395, 'reentry': 23396, 'thermal': 23397, 'bobbing': 23398, 'conversing': 23399, 'muchness': 23400, 'elects': 23401, 'ploy': 23402, 'pena': 23403, 'rushhour': 23404, 'bested': 23405, 'amateurs': 23406, 'standup': 23407, 'exude': 23408, 'resists': 23409, 'rattner': 23410, 'standoffish': 23411, 'rein': 23412, 'inxs': 23413, 'shrimp': 23414, 'barby': 23415, 'sprang': 23416, 'deriving': 23417, 'relativity': 23418, 'invents': 23419, 'unrefined': 23420, 'mc': 23421, 'overture': 23422, 'stinker': 23423, 'eyebrows': 23424, 'clearance': 23425, 'caffery': 23426, 'burglarizing': 23427, 'conglomerate': 23428, 'homogenized': 23429, 'latino': 23430, 'ejogo': 23431, 'tongued': 23432, 'henny': 23433, 'youngman': 23434, 'princes': 23435, 'pac': 23436, 'diceman': 23437, 'weisman': 23438, 'lopsided': 23439, 'louie': 23440, 'photocopied': 23441, 'cabdriver': 23442, 'foisted': 23443, 'lecturing': 23444, 'kernel': 23445, 'masculine': 23446, 'gibbering': 23447, 'erotomania': 23448, 'tolerates': 23449, 'serio': 23450, 'convinction': 23451, 'unspools': 23452, 'amazement': 23453, 'pestered': 23454, 'thunk': 23455, 'mk': 23456, 'appellation': 23457, 'stowaway': 23458, 'raff': 23459, 'flic': 23460, 'restructuring': 23461, 'chap': 23462, 'rounding': 23463, 'plainly': 23464, 'schepisi': 23465, 'johnstone': 23466, 'cabot': 23467, 'borrr': 23468, 'wendkos': 23469, 'whitney': 23470, 'braintree': 23471, 'fuddy': 23472, 'duddy': 23473, 'molasses': 23474, 'abyssinian': 23475, 'thermopolis': 23476, 'franciscan': 23477, 'serbia': 23478, 'genovia': 23479, 'tiara': 23480, 'combo': 23481, 'clarisse': 23482, 'renaldi': 23483, 'swan': 23484, 'schwarzeneggar': 23485, 'whala': 23486, 'schwarzneggar': 23487, 'impregnate': 23488, 'umm': 23489, 'cate': 23490, 'workmanlike': 23491, 'squiggly': 23492, 'circling': 23493, 'dudley': 23494, 'auctioneer': 23495, 'biz': 23496, 'hipper': 23497, 'flyboy': 23498, 'finite': 23499, 'exuding': 23500, 'whisker': 23501, 'hoop': 23502, 'newark': 23503, 'guardia': 23504, 'frown': 23505, 'tempestuous': 23506, 'monarch': 23507, 'solidly': 23508, 'plaything': 23509, 'teases': 23510, 'measly': 23511, 'inadvertent': 23512, 'reprint': 23513, 'reprintable': 23514, 'unwinds': 23515, 'negligees': 23516, 'intimidated': 23517, 'bras': 23518, 'estrogen': 23519, 'conversions': 23520, 'drills': 23521, 'hatch': 23522, 'iwo': 23523, 'jima': 23524, 'raeeyain': 23525, 'monkeybone': 23526, 'janney': 23527, 'concentrated': 23528, 'aviator': 23529, 'tahiti': 23530, 'shapely': 23531, 'castaways': 23532, 'inconvenience': 23533, 'arrrgh': 23534, 'undeserved': 23535, 'stammers': 23536, 'tributes': 23537, 'beeing': 23538, 'curtiz': 23539, 'collaborating': 23540, 'vichy': 23541, 'coincides': 23542, 'lund': 23543, 'gestapo': 23544, 'veidt': 23545, 'fascism': 23546, 'ingrid': 23547, 'lorre': 23548, 'maltese': 23549, 'falcon': 23550, 'tiranny': 23551, 'competiton': 23552, 'embodiment': 23553, 'undoubtful': 23554, 'symbolized': 23555, 'speculations': 23556, 'nitpickers': 23557, 'geographical': 23558, 'beliavable': 23559, 'proftthere': 23560, 'violinist': 23561, 'fergus': 23562, 'riffing': 23563, 'smirky': 23564, 'chested': 23565, 'jimi': 23566, 'tuxedo': 23567, 'opener': 23568, 'mentos': 23569, 'subliminal': 23570, 'lunges': 23571, 'bombarding': 23572, 'collaborated': 23573, 'termed': 23574, 'blindly': 23575, 'surefooted': 23576, 'doolittle': 23577, 'andhi': 23578, 'autama': 23579, 'expoundings': 23580, 'bly': 23581, 'riddles': 23582, 'enlightenment': 23583, 'unnerved': 23584, 'repairs': 23585, 'wackos': 23586, 'insinuates': 23587, 'unsellable': 23588, 'revamp': 23589, 'parable': 23590, 'sappiness': 23591, 'thimble': 23592, 'bloodthirsty': 23593, 'scabrous': 23594, 'viscellous': 23595, 'reon': 23596, 'armayan': 23597, 'harshly': 23598, 'dedicate': 23599, 'carters': 23600, 'mediator': 23601, 'shawshank': 23602, 'daytrippers': 23603, 'politcally': 23604, 'messageable': 23605, 'huiessan': 23606, 'noyce': 23607, 'starved': 23608, 'jogging': 23609, 'technogeek': 23610, 'cancelling': 23611, 'installs': 23612, 'tenants': 23613, 'anal': 23614, 'estimate': 23615, 'hawkins': 23616, 'ub': 23617, 'mutilated': 23618, 'hallucination': 23619, 'businesswoman': 23620, 'playmate': 23621, 'jeweler': 23622, 'silicone': 23623, 'trapeze': 23624, 'sprayed': 23625, 'wearer': 23626, 'directorate': 23627, 'transformers': 23628, 'busted': 23629, 'kickboxer': 23630, 'axel': 23631, 'tamuera': 23632, 'rowell': 23633, 'reef': 23634, 'bastards': 23635, 'armful': 23636, 'ammunitions': 23637, 'wazzoo': 23638, 'wookie': 23639, 'initiated': 23640, 'hackles': 23641, 'insomniac': 23642, 'perplexed': 23643, 'brunt': 23644, 'tryst': 23645, 'fashions': 23646, 'bfd': 23647, 'deterrence': 23648, 'appoint': 23649, 'laine': 23650, 'vp': 23651, 'vacancy': 23652, 'sheldon': 23653, 'nouement': 23654, 'smacks': 23655, 'chides': 23656, 'snapshot': 23657, 'immaterial': 23658, 'smooched': 23659, 'morneau': 23660, 'multiply': 23661, 'deftness': 23662, 'cdc': 23663, 'omnivorous': 23664, 'crib': 23665, 'terrorizes': 23666, 'mnemonic': 23667, 'disperses': 23668, 'cocks': 23669, 'disregards': 23670, 'indoors': 23671, 'curfew': 23672, 'shelia': 23673, 'install': 23674, 'cooling': 23675, 'cavern': 23676, 'feces': 23677, 'phosphorus': 23678, 'rubbery': 23679, 'nullified': 23680, 'topsy': 23681, 'turvy': 23682, 'fusing': 23683, 'hobbyist': 23684, 'strengthens': 23685, 'replied': 23686, 'emissions': 23687, 'galaxies': 23688, 'taxpayer': 23689, 'unviable': 23690, 'undaunted': 23691, 'contantly': 23692, 'pressured': 23693, 'hordes': 23694, 'cultist': 23695, 'pictorial': 23696, 'enrols': 23697, 'hopefuls': 23698, 'budge': 23699, 'kindred': 23700, 'zigman': 23701, 'husbandry': 23702, 'seed': 23703, 'pastures': 23704, 'incorrigibly': 23705, 'degenerating': 23706, 'softball': 23707, 'stimuli': 23708, 'stimulation': 23709, 'splits': 23710, 'enviable': 23711, 'richness': 23712, 'precedent': 23713, 'gents': 23714, 'uninviting': 23715, 'dostoevski': 23716, 'restroom': 23717, 'certified': 23718, 'mcarthur': 23719, 'gofer': 23720, 'berliner': 23721, 'mumbles': 23722, 'procures': 23723, 'transcendental': 23724, 'downer': 23725, 'starkness': 23726, 'bareness': 23727, 'intermittent': 23728, 'chronicling': 23729, 'nussbaum': 23730, 'substitutes': 23731, 'sculptor': 23732, 'spiritualist': 23733, 'afterlife': 23734, 'charlatan': 23735, 'shaven': 23736, 'longingly': 23737, 'dialing': 23738, 'grudge': 23739, 'cheerios': 23740, 'handicam': 23741, 'cumberland': 23742, 'stroehmann': 23743, 'defenseless': 23744, 'flattered': 23745, 'zipper': 23746, 'healy': 23747, 'residuals': 23748, 'cancellation': 23749, 'macchio': 23750, 'shae': 23751, 'magda': 23752, 'benji': 23753, 'decter': 23754, 'swagger': 23755, 'repelled': 23756, 'machismo': 23757, 'horn': 23758, 'competitively': 23759, 'kiana': 23760, 'drastically': 23761, 'woeful': 23762, 'hsiao': 23763, 'lazebnik': 23764, 'eugenia': 23765, 'bostwick': 23766, 'actualizing': 23767, 'skirting': 23768, 'pillaged': 23769, 'encapsulated': 23770, 'discarded': 23771, 'dispatching': 23772, 'consequential': 23773, 'conscript': 23774, 'cartoonishly': 23775, 'cavorting': 23776, 'revisitings': 23777, 'fables': 23778, 'iconography': 23779, 'invoking': 23780, 'beancurd': 23781, 'regiment': 23782, 'intrinsics': 23783, 'shorthand': 23784, 'strokes': 23785, 'perseverance': 23786, 'purity': 23787, 'pridefully': 23788, 'mainstays': 23789, 'trailed': 23790, 'subterfuge': 23791, 'presences': 23792, 'fondness': 23793, 'princesses': 23794, 'sails': 23795, 'hummable': 23796, 'obligingly': 23797, 'unimaginatively': 23798, 'lament': 23799, 'wondrously': 23800, 'dissuasive': 23801, 'briskly': 23802, 'scrubbedthere': 23803, 'xerox': 23804, 'rasta': 23805, 'sandworm': 23806, 'eyecandy': 23807, 'thai': 23808, 'planetarium': 23809, 'maneuvering': 23810, 'blinding': 23811, 'doppelite': 23812, 'lottchen': 23813, 'kastner': 23814, 'wrack': 23815, 'favorties': 23816, 'glimmer': 23817, 'rereleased': 23818, 'pinnochio': 23819, 'barage': 23820, 'swingin': 23821, 'feud': 23822, 'pranks': 23823, 'concoct': 23824, 'hypodermic': 23825, 'snotty': 23826, 'qe': 23827, 'migraine': 23828, 'dilemnas': 23829, 'reminscing': 23830, 'extracted': 23831, 'plagerism': 23832, 'boggle': 23833, 'kart': 23834, 'boosting': 23835, 'contacting': 23836, 'reenter': 23837, 'reconnaissance': 23838, 'hb': 23839, 'halicki': 23840, 'sacrificed': 23841, 'reencounters': 23842, 'spotlighting': 23843, 'lowers': 23844, 'stains': 23845, 'mattress': 23846, 'faintly': 23847, 'dismisses': 23848, 'gonein': 23849, 'ultraman': 23850, 'spiderman': 23851, 'fingertips': 23852, 'hectic': 23853, 'auxiliary': 23854, 'dyed': 23855, 'herbal': 23856, 'medicine': 23857, 'delicacies': 23858, 'matzo': 23859, 'soy': 23860, 'cuisine': 23861, 'copeland': 23862, 'maryann': 23863, 'urbano': 23864, 'meditate': 23865, 'copulate': 23866, 'leung': 23867, 'microwave': 23868, 'lu': 23869, 'lasers': 23870, 'forethought': 23871, 'slices': 23872, 'concordia': 23873, 'cranks': 23874, 'heartedness': 23875, 'retrospection': 23876, 'krishna': 23877, 'banji': 23878, 'ghandi': 23879, 'restfulness': 23880, 'bicycle': 23881, 'limping': 23882, 'unpredictabililty': 23883, 'barfing': 23884, 'financing': 23885, 'moviepage': 23886, 'trashes': 23887, 'tunnels': 23888, 'godzillas': 23889, 'multiplied': 23890, 'disorienting': 23891, 'joystick': 23892, 'overbeck': 23893, 'shear': 23894, 'antihero': 23895, 'macready': 23896, 'unaffected': 23897, 'unmask': 23898, 'weebo': 23899, 'glenwood': 23900, 'movieplex': 23901, 'oneida': 23902, 'philosophies': 23903, 'japanimation': 23904, 'clinched': 23905, 'forgetful': 23906, 'alzhiemer': 23907, 'promotions': 23908, 'mindedness': 23909, 'smurfs': 23910, 'snorks': 23911, 'ninja': 23912, 'differentiated': 23913, 'interchangable': 23914, 'pringles': 23915, 'chisholm': 23916, 'pierced': 23917, 'misfires': 23918, 'boating': 23919, 'conferences': 23920, 'lobbying': 23921, 'ernst': 23922, 'stavro': 23923, 'blofeld': 23924, 'storming': 23925, 'shelling': 23926, 'siegel': 23927, 'stylizations': 23928, 'suspend': 23929, 'dialogues': 23930, 'ies': 23931, 'defusing': 23932, 'defusal': 23933, 'frolicking': 23934, 'sickness': 23935, 'untidy': 23936, 'practise': 23937, 'dissembles': 23938, 'phantastic': 23939, 'vibrate': 23940, 'barring': 23941, 'emotionalism': 23942, 'prosperity': 23943, 'thomist': 23944, 'calvinist': 23945, 'viterelli': 23946, 'schull': 23947, 'castellano': 23948, 'bracco': 23949, 'sizable': 23950, 'ticked': 23951, 'rewound': 23952, 'psychoanalyst': 23953, 'sobel': 23954, 'lonergan': 23955, 'spoofing': 23956, 'tiresomely': 23957, 'clockwatchers': 23958, 'primo': 23959, 'rousingly': 23960, 'ganis': 23961, 'giarraputo': 23962, 'orphaned': 23963, 'bye': 23964, 'hooters': 23965, 'parisot': 23966, 'tinted': 23967, 'stepsons': 23968, 'flyboys': 23969, 'twinkling': 23970, 'gawk': 23971, 'hipness': 23972, 'weissman': 23973, 'parlay': 23974, 'ammunition': 23975, 'mitterand': 23976, 'henri': 23977, 'littering': 23978, 'diplomats': 23979, 'czechoslovakia': 23980, 'wordiness': 23981, 'prophet': 23982, 'hectoring': 23983, 'europeans': 23984, 'humanities': 23985, 'anthropologist': 23986, 'kahlberg': 23987, 'kari': 23988, 'wuhrer': 23989, 'westridge': 23990, 'hors': 23991, 'oevre': 23992, 'paddle': 23993, 'amazonas': 23994, 'splashing': 23995, 'unconcious': 23996, 'speedily': 23997, 'gush': 23998, 'devouring': 23999, 'wiggles': 24000, 'bulging': 24001, 'refrain': 24002, 'naming': 24003, 'chretien': 24004, 'troyes': 24005, 'antolek': 24006, 'oresek': 24007, 'modred': 24008, 'montalembert': 24009, 'lionel': 24010, 'ench': 24011, 'malory': 24012, 'morte': 24013, 'darthur': 24014, 'enshrining': 24015, 'dethrones': 24016, 'decimated': 24017, 'skeletal': 24018, 'smolder': 24019, 'external': 24020, 'mordred': 24021, 'expressionless': 24022, 'drumbeat': 24023, 'bagpipes': 24024, 'clanking': 24025, 'creaking': 24026, 'neighing': 24027, 'hooves': 24028, 'whispering': 24029, 'nonprofessional': 24030, 'strove': 24031, 'jousting': 24032, 'bagpipe': 24033, 'playgirl': 24034, 'supersexy': 24035, 'favors': 24036, 'undercutting': 24037, 'megabudget': 24038, 'instigates': 24039, 'sniff': 24040, 'delirious': 24041, 'breakneck': 24042, 'landiseverybody': 24043, 'revelator': 24044, 'corrections': 24045, 'bows': 24046, 'recieves': 24047, 'surrogate': 24048, 'yearning': 24049, 'supremacists': 24050, 'exhilerating': 24051, 'periodically': 24052, 'flushing': 24053, 'potenza': 24054, 'piscapo': 24055, 'ripping': 24056, 'spliced': 24057, 'prodigal': 24058, 'nhl': 24059, 'exhibition': 24060, 'compensating': 24061, 'skater': 24062, 'befouled': 24063, 'collegiate': 24064, 'skewed': 24065, 'verbalized': 24066, 'outrage': 24067, 'ivins': 24068, 'acknowledgment': 24069, 'clears': 24070, 'whammy': 24071, 'vest': 24072, 'dubuque': 24073, 'voyager': 24074, 'nutcase': 24075, 'melted': 24076, 'delusion': 24077, 'fetishist': 24078, 'barcode': 24079, 'pathological': 24080, 'dajani': 24081, 'chalks': 24082, 'yawk': 24083, 'adoring': 24084, 'marker': 24085, 'jetee': 24086, 'inscrutable': 24087, 'wayward': 24088, 'frumkes': 24089, 'ormsby': 24090, 'rocco': 24091, 'simonelli': 24092, 'pedagogical': 24093, 'tenure': 24094, 'sluts': 24095, 'wielders': 24096, 'ghostbuster': 24097, 'bazookas': 24098, 'busses': 24099, 'babes': 24100, 'bikinis': 24101, 'germania': 24102, 'reinstate': 24103, 'festering': 24104, 'revolutionist': 24105, 'aspirin': 24106, 'utopian': 24107, 'crispy': 24108, 'unshown': 24109, 'immaturely': 24110, 'depriving': 24111, 'nightsky': 24112, 'narrowed': 24113, 'subtracting': 24114, 'tightening': 24115, 'personalize': 24116, 'savagery': 24117, 'diluting': 24118, 'proximo': 24119, 'palindromos': 24120, 'aurelius': 24121, 'lucilla': 24122, 'juba': 24123, 'ralf': 24124, 'moeller': 24125, 'gracchus': 24126, 'lucius': 24127, 'hemmings': 24128, 'cassius': 24129, 'arana': 24130, 'quintus': 24131, 'wick': 24132, 'branko': 24133, 'lustig': 24134, 'shorts': 24135, 'rossanthony': 24136, 'rarer': 24137, 'eg': 24138, 'astrologer': 24139, 'numerologist': 24140, 'conflagration': 24141, 'paean': 24142, 'pukes': 24143, 'amir': 24144, 'pievar': 24145, 'turan': 24146, 'mehrzad': 24147, 'mohammad': 24148, 'sharifinia': 24149, 'shaqayeq': 24150, 'farahani': 24151, 'farsi': 24152, 'articulated': 24153, 'rosy': 24154, 'conceiving': 24155, 'hesitantly': 24156, 'shallowly': 24157, 'unquestionably': 24158, 'ingredient': 24159, 'uncontrollably': 24160, 'unrequisite': 24161, 'outraging': 24162, 'foolishly': 24163, 'punctiation': 24164, 'skewered': 24165, 'farrow': 24166, 'cassavettes': 24167, 'housewarming': 24168, 'mousse': 24169, 'foreshadowing': 24170, 'vitamin': 24171, 'potions': 24172, 'cranberries': 24173, 'wrapsancient': 24174, 'vandals': 24175, 'ravages': 24176, 'sirius': 24177, 'astronomical': 24178, 'indicators': 24179, 'egyptian': 24180, 'dispose': 24181, 'hypocrites': 24182, 'disapproved': 24183, 'appealed': 24184, 'technicalities': 24185, 'orchestral': 24186, 'coherence': 24187, 'hanley': 24188, 'halsley': 24189, 'andrjez': 24190, 'sekula': 24191, 'fitness': 24192, 'misogyny': 24193, 'egoism': 24194, 'championed': 24195, 'divides': 24196, 'appointments': 24197, 'butchering': 24198, 'stabbing': 24199, 'acquaintance': 24200, 'disappearances': 24201, 'earner': 24202, 'intrinsically': 24203, 'pomposity': 24204, 'deflation': 24205, 'stockbroker': 24206, 'impresses': 24207, 'onlookers': 24208, 'vicinity': 24209, 'ome': 24210, 'mindlessly': 24211, 'pedestrians': 24212, 'disparate': 24213, 'beret': 24214, 'oftentimes': 24215, 'relieved': 24216, 'harr': 24217, 'gropman': 24218, 'rudin': 24219, 'pfeffer': 24220, 'conway': 24221, 'zeljko': 24222, 'ivanek': 24223, 'crowley': 24224, 'cheeseman': 24225, 'jacobs': 24226, 'boyer': 24227, 'pinder': 24228, 'eustis': 24229, 'declines': 24230, 'porsche': 24231, 'coffers': 24232, 'mortgaging': 24233, 'meticulous': 24234, 'unquestionable': 24235, 'kitsch': 24236, 'flamboyance': 24237, 'yield': 24238, 'sketched': 24239, 'kongs': 24240, 'platoons': 24241, 'foxes': 24242, 'deposition': 24243, 'preamble': 24244, 'courts': 24245, 'unexplosive': 24246, 'populist': 24247, 'tearfulness': 24248, 'impoverishment': 24249, 'quirkily': 24250, 'kanish': 24251, 'levien': 24252, 'koppelman': 24253, 'stillerman': 24254, 'rotterdam': 24255, 'tradiational': 24256, 'brightness': 24257, 'gamblers': 24258, 'rounder': 24259, 'socialites': 24260, 'mansions': 24261, 'landou': 24262, 'gambled': 24263, 'despised': 24264, 'mayberly': 24265, 'supervising': 24266, 'costa': 24267, 'gavras': 24268, 'extremism': 24269, 'wingers': 24270, 'sensationalist': 24271, 'potraying': 24272, 'pursuer': 24273, 'deployed': 24274, 'fragment': 24275, 'chuteless': 24276, 'nosedive': 24277, 'homeric': 24278, 'whoami': 24279, 'pedigree': 24280, 'copter': 24281, 'motorcross': 24282, 'snakebite': 24283, 'atv': 24284, 'mitsubishi': 24285, 'netherlands': 24286, 'savate': 24287, 'stretcher': 24288, 'beuna': 24289, 'tanaka': 24290, 'mccole': 24291, 'suffuses': 24292, 'achiever': 24293, 'schemer': 24294, 'alumni': 24295, 'expelled': 24296, 'dislikeable': 24297, 'laconic': 24298, 'balaban': 24299, 'sonnenfield': 24300, 'broughton': 24301, 'marriages': 24302, 'sufficed': 24303, 'trashed': 24304, 'helfgott': 24305, 'defiantly': 24306, 'varieties': 24307, 'comepete': 24308, 'honors': 24309, 'seperate': 24310, 'bow': 24311, 'envigorating': 24312, 'disenfranchised': 24313, 'winstone': 24314, 'sunning': 24315, 'relaxing': 24316, 'boulder': 24317, 'mcshane': 24318, 'deedee': 24319, 'compact': 24320, 'mellis': 24321, 'scinto': 24322, 'widmark': 24323, 'beards': 24324, 'glazer': 24325, 'cockney': 24326, 'ld': 24327, 'nineteen': 24328, 'milagro': 24329, 'beanfield': 24330, 'chagrin': 24331, 'heals': 24332, 'delicately': 24333, 'vistas': 24334, 'squarish': 24335, 'authoritive': 24336, 'bradley': 24337, 'null': 24338, 'bd': 24339, 'ac': 24340, 'cited': 24341, 'discriminate': 24342, 'morose': 24343, 'thinredline': 24344, 'novelists': 24345, 'eloquence': 24346, 'omniscient': 24347, 'bugger': 24348, 'staros': 24349, 'corporals': 24350, 'doubtless': 24351, 'belittle': 24352, 'harlan': 24353, 'parodied': 24354, 'popeye': 24355, 'exponential': 24356, 'idealist': 24357, 'mercedes': 24358, 'savannah': 24359, 'visitation': 24360, 'catering': 24361, 'stringy': 24362, 'competency': 24363, 'begrudging': 24364, 'changwei': 24365, 'paneling': 24366, 'slumped': 24367, 'drawl': 24368, 'reliant': 24369, 'nashville': 24370, 'restart': 24371, 'lagging': 24372, 'decrement': 24373, 'torkel': 24374, 'petersson': 24375, 'knit': 24376, 'swede': 24377, 'laleh': 24378, 'pourkarim': 24379, 'tuva': 24380, 'novotny': 24381, 'impotence': 24382, 'override': 24383, 'goldstein': 24384, 'belford': 24385, 'softley': 24386, 'emphysema': 24387, 'laurens': 24388, 'zion': 24389, 'hitch': 24390, 'deere': 24391, 'minimality': 24392, 'writ': 24393, 'trundling': 24394, 'wrinkly': 24395, 'odysseus': 24396, 'mosaic': 24397, 'illuminated': 24398, 'wails': 24399, 'shaken': 24400, 'welfare': 24401, 'darla': 24402, 'riordan': 24403, 'wingert': 24404, 'riordans': 24405, 'heller': 24406, 'wiley': 24407, 'harker': 24408, 'tinged': 24409, 'coy': 24410, 'coaxing': 24411, 'farmland': 24412, 'judiciously': 24413, 'thestraightstory': 24414, 'ucs': 24415, 'nbaer': 24416, 'shuttlesworth': 24417, 'governor': 24418, 'athletes': 24419, 'heighten': 24420, 'clockers': 24421, 'beckwith': 24422, 'medger': 24423, 'myrlie': 24424, 'delaughter': 24425, 'kkk': 24426, 'uneeded': 24427, 'pleasureable': 24428, 'gluttony': 24429, 'worsening': 24430, 'paradoxes': 24431, 'remorseless': 24432, 'defends': 24433, 'campaigns': 24434, 'keenly': 24435, 'colonizing': 24436, 'pyrotechnic': 24437, 'granting': 24438, 'antagonist': 24439, 'scifi': 24440, 'unreachable': 24441, 'woodland': 24442, 'ignite': 24443, 'laxity': 24444, 'birdwatcher': 24445, 'peril': 24446, 'wildfire': 24447, 'deathiscoming': 24448, 'bamsfinaldest': 24449, 'laughfest': 24450, 'pictured': 24451, 'endear': 24452, 'nee': 24453, 'spooks': 24454, 'weine': 24455, 'bludworth': 24456, 'composers': 24457, 'astoundingly': 24458, 'uncommercial': 24459, 'magnetism': 24460, 'not': 24461, 'about': 24462, 'unmoved': 24463, 'dimensionally': 24464, 'unbilled': 24465, 'footloose': 24466, 'spaceflight': 24467, 'lovell': 24468, 'haise': 24469, 'swigert': 24470, 'module': 24471, 'diagnosed': 24472, 'measles': 24473, 'hurtling': 24474, 'footages': 24475, 'slimier': 24476, 'sokal': 24477, 'pinned': 24478, 'overwhelmingly': 24479, 'vc': 24480, 'submitting': 24481, 'gourmet': 24482, 'unsatisfactory': 24483, 'bluesman': 24484, 'inklings': 24485, 'nonchalantly': 24486, 'obstructing': 24487, 'intrude': 24488, 'ciby': 24489, 'lynda': 24490, 'jocelyn': 24491, 'moorhouse': 24492, 'porpoise': 24493, 'cliquey': 24494, 'eagerness': 24495, 'battler': 24496, 'chumming': 24497, 'crowing': 24498, 'slogan': 24499, 'rhonda': 24500, 'tormenters': 24501, 'pippa': 24502, 'grandison': 24503, 'rosalind': 24504, 'hammond': 24505, 'bumblingly': 24506, 'comprises': 24507, 'proportionately': 24508, 'flagrantly': 24509, 'writings': 24510, 'toole': 24511, 'plate': 24512, 'exposures': 24513, 'physcially': 24514, 'faires': 24515, 'confessed': 24516, 'seasick': 24517, 'strewn': 24518, 'bends': 24519, 'janusz': 24520, 'kaminsky': 24521, 'disembowelments': 24522, 'solider': 24523, 'resent': 24524, 'trudge': 24525, 'dramatism': 24526, 'extremity': 24527, 'sparked': 24528, 'truest': 24529, 'dosage': 24530, 'bashed': 24531, 'colonized': 24532, 'hibernation': 24533, 'unspectacular': 24534, 'dreamcatcher': 24535, 'hokum': 24536, 'garfield': 24537, 'rothhaar': 24538, 'tomboy': 24539, 'gerber': 24540, 'mika': 24541, 'winnie': 24542, 'fatherless': 24543, 'brautigan': 24544, 'prophetic': 24545, 'peeled': 24546, 'bookends': 24547, 'formative': 24548, 'piotr': 24549, 'inconsistency': 24550, 'saturdy': 24551, 'juiceless': 24552, 'classifies': 24553, 'rejections': 24554, 'weaselling': 24555, 'ultrahip': 24556, 'rinstance': 24557, 'weaselly': 24558, 'loni': 24559, 'mergingin': 24560, 'dimness': 24561, 'garth': 24562, 'lamentable': 24563, 'alumns': 24564, 'landlocked': 24565, 'quixotic': 24566, 'dexterity': 24567, 'antin': 24568, 'cassavetes': 24569, 'figueroa': 24570, 'northam': 24571, 'fatherly': 24572, 'broads': 24573, 'automated': 24574, 'announcements': 24575, 'discourse': 24576, 'demandingly': 24577, 'implausibilites': 24578, 'cowgirls': 24579, 'drech': 24580, 'calder': 24581, 'crudup': 24582, 'prefontaine': 24583, 'herding': 24584, 'rust': 24585, 'gonz': 24586, 'lez': 24587, 'interconnected': 24588, 'gunslinging': 24589, 'desperados': 24590, 'espanol': 24591, 'echevarr': 24592, 'triggers': 24593, 'shrouded': 24594, 'lurks': 24595, 'retribution': 24596, 'slighty': 24597, 'cheeseball': 24598, 'gael': 24599, 'garc': 24600, 'bernal': 24601, 'bauche': 24602, 'dogfights': 24603, 'combustive': 24604, 'goon': 24605, 'goya': 24606, 'toledo': 24607, 'alvaro': 24608, 'guerrero': 24609, 'petulant': 24610, 'reevaluate': 24611, 'mutts': 24612, 'scamps': 24613, 'unabashed': 24614, 'hyperkinetic': 24615, 'cacophony': 24616, 'slooooooow': 24617, 'overcrowded': 24618, 'kurtzweil': 24619, 'demunn': 24620, 'bronschweig': 24621, 'neville': 24622, 'manicured': 24623, 'spotnitz': 24624, 'profanityso': 24625, 'phile': 24626, 'caveman': 24627, 'bea': 24628, 'infrequent': 24629, 'afficianado': 24630, 'paces': 24631, 'villians': 24632, 'letdowns': 24633, 'lavatory': 24634, 'strand': 24635, 'chimes': 24636, 'briggs': 24637, 'shelly': 24638, 'ontkean': 24639, 'beymer': 24640, 'incest': 24641, 'reconstructed': 24642, 'gratifying': 24643, 'inadvertenty': 24644, 'apon': 24645, 'roddy': 24646, 'mcdowall': 24647, 'heresy': 24648, 'darwin': 24649, 'creationism': 24650, 'bf': 24651, 'interlocked': 24652, 'thuddingly': 24653, 'resonant': 24654, 'disrupted': 24655, 'workplace': 24656, 'fuming': 24657, 'flounders': 24658, 'hubbie': 24659, 'swishy': 24660, 'fidgety': 24661, 'hissy': 24662, 'purportedly': 24663, 'heats': 24664, 'anecdote': 24665, 'nra': 24666, 'vigau': 24667, 'unjust': 24668, 'caretakers': 24669, 'spanning': 24670, 'danish': 24671, 'smilla': 24672, 'sprawling': 24673, 'asp': 24674, 'jorgen': 24675, 'persson': 24676, 'modulated': 24677, 'quivering': 24678, 'cerebrally': 24679, 'dismayed': 24680, 'eponine': 24681, 'selflessly': 24682, 'jettisoned': 24683, 'sate': 24684, 'brainers': 24685, 'binary': 24686, 'thrillride': 24687, 'actionfest': 24688, 'eggert': 24689, 'betraying': 24690, 'emigrating': 24691, 'captivity': 24692, 'bateer': 24693, 'justifiably': 24694, 'shadowed': 24695, 'coasterthe': 24696, 'leboswki': 24697, 'sgoingonaroundhere': 24698, 'slothful': 24699, 'assailants': 24700, 'dudeness': 24701, 'enlisting': 24702, 'trademarked': 24703, 'nam': 24704, 'sheet': 24705, 'bikers': 24706, 'flamenco': 24707, 'lavender': 24708, 'embroidered': 24709, 'fingernail': 24710, 'licks': 24711, 'estuff': 24712, 'marsters': 24713, 'jurisdiction': 24714, 'dismays': 24715, 'blackburn': 24716, 'humorist': 24717, 'terrorfying': 24718, 'zara': 24719, 'phillipa': 24720, 'braithwaite': 24721, 'hocberg': 24722, 'adefarasin': 24723, 'hirschfelder': 24724, 'fork': 24725, 'irrevocably': 24726, 'contemplate': 24727, 'shortage': 24728, 'decalogue': 24729, 'veronique': 24730, 'triptych': 24731, 'expands': 24732, 'diverge': 24733, 'converge': 24734, 'helens': 24735, 'severs': 24736, 'embarks': 24737, 'philanderer': 24738, 'vixen': 24739, 'bemoaning': 24740, 'telecommunications': 24741, 'monogamy': 24742, 'unimpeachable': 24743, 'haysbert': 24744, 'schub': 24745, 'ravel': 24746, 'centeno': 24747, 'vacationing': 24748, 'necronomicon': 24749, 'unusable': 24750, 'smoked': 24751, 'apeximova': 24752, 'valeri': 24753, 'nikolayev': 24754, 'ilya': 24755, 'lucija': 24756, 'sofiya': 24757, 'persues': 24758, 'schoolwork': 24759, 'devestating': 24760, 'logs': 24761, 'freezing': 24762, 'formulas': 24763, 'geraldine': 24764, 'mcewan': 24765, 'twee': 24766, 'picturesque': 24767, 'loblolly': 24768, 'epistle': 24769, 'nestled': 24770, 'simmering': 24771, 'maggenti': 24772, 'satisfactorily': 24773, 'nag': 24774, 'avail': 24775, 'dendy': 24776, 'gebert': 24777, 'ritchie': 24778, 'zealand': 24779, 'natal': 24780, 'contingent': 24781, 'burgled': 24782, 'gumbert': 24783, 'dominates': 24784, 'weariness': 24785, 'suffused': 24786, 'allusive': 24787, 'curran': 24788, 'imbued': 24789, 'despaired': 24790, 'ength': 24791, 'molen': 24792, 'squishy': 24793, 'terrestrials': 24794, 'blended': 24795, 'proposed': 24796, 'imactive': 24797, 'macphersoni': 24798, 'overused': 24799, 'fittest': 24800, 'accumulation': 24801, 'cautiously': 24802, 'stitching': 24803, 'vllainous': 24804, 'bog': 24805, 'rhiana': 24806, 'fitz': 24807, 'blistering': 24808, 'leeched': 24809, 'scorching': 24810, 'jettison': 24811, 'authoritarian': 24812, 'shredded': 24813, 'catacombs': 24814, 'deviates': 24815, 'lifelessness': 24816, 'catalyze': 24817, 'recurrent': 24818, 'misperception': 24819, 'allah': 24820, 'blessings': 24821, 'selflessness': 24822, 'baddass': 24823, 'growl': 24824, 'nitpicked': 24825, 'freshest': 24826, 'lured': 24827, 'waldorf': 24828, 'milton': 24829, 'berle': 24830, 'krassman': 24831, 'compere': 24832, 'cloris': 24833, 'leachman': 24834, 'insolent': 24835, 'telly': 24836, 'savalas': 24837, 'spinney': 24838, 'anxiously': 24839, 'witold': 24840, 'yorgo': 24841, 'voyagis': 24842, 'warners': 24843, 'porridge': 24844, 'sondra': 24845, 'tax': 24846, 'exempt': 24847, 'sightseeing': 24848, 'lag': 24849, 'peripherique': 24850, 'totter': 24851, 'bleary': 24852, 'dutifully': 24853, 'croissants': 24854, 'noisily': 24855, 'assimilated': 24856, 'hitchcockians': 24857, 'puzzlement': 24858, 'interpreters': 24859, 'coop': 24860, 'gallic': 24861, 'compounding': 24862, 'cartesian': 24863, 'simpletons': 24864, 'gauntlet': 24865, 'unhelpful': 24866, 'paree': 24867, 'perdition': 24868, 'doggedly': 24869, 'fringe': 24870, 'figuratively': 24871, 'soberly': 24872, 'masterly': 24873, 'gimmickry': 24874, 'versatility': 24875, 'unpretentiousness': 24876, 'comedie': 24877, 'francaise': 24878, 'deportation': 24879, 'scenarist': 24880, 'vieil': 24881, 'homme': 24882, 'enfant': 24883, 'florette': 24884, 'manon': 24885, 'woolf': 24886, 'tess': 24887, 'wajda': 24888, 'cinematographers': 24889, 'lodz': 24890, 'gallows': 24891, 'perceive': 24892, 'existences': 24893, 'inputs': 24894, 'interlinked': 24895, 'atrophied': 24896, 'gleaned': 24897, 'plucked': 24898, 'clandestinely': 24899, 'oppression': 24900, 'straightforwardness': 24901, 'naught': 24902, 'gamut': 24903, 'proficiency': 24904, 'trinity': 24905, 'cartridges': 24906, 'component': 24907, 'sennett': 24908, 'reeler': 24909, 'trapdoor': 24910, 'eyeball': 24911, 'irrelevancy': 24912, 'unleash': 24913, 'mutations': 24914, 'epileptic': 24915, 'inflict': 24916, 'punishments': 24917, 'exacts': 24918, 'drilling': 24919, 'lipper': 24920, 'sharman': 24921, 'seamus': 24922, 'mcgarvey': 24923, 'unsurprised': 24924, 'resolving': 24925, 'ascribe': 24926, 'eroded': 24927, 'coldest': 24928, 'onshore': 24929, 'blankets': 24930, 'twosomes': 24931, 'stubborn': 24932, 'willful': 24933, 'argumentative': 24934, 'shoreline': 24935, 'nita': 24936, 'antagonistic': 24937, 'attendees': 24938, 'obituaries': 24939, 'cremation': 24940, 'horsing': 24941, 'replicate': 24942, 'harland': 24943, 'munchie': 24944, 'diabetic': 24945, 'keels': 24946, 'sampson': 24947, 'smokealot': 24948, 'scrape': 24949, 'contrasting': 24950, 'promotes': 24951, 'hardest': 24952, 'mutation': 24953, 'ripp': 24954, 'uncovered': 24955, 'sandstorms': 24956, 'waddingham': 24957, 'canter': 24958, 'dieter': 24959, 'geissler': 24960, 'baynard': 24961, 'gilpin': 24962, 'franke': 24963, 'burrough': 24964, 'propagated': 24965, 'graystoke': 24966, 'owning': 24967, 'opar': 24968, 'villages': 24969, 'wrath': 24970, 'shaman': 24971, 'unearthing': 24972, 'opal': 24973, 'pecs': 24974, 'annaud': 24975, 'defiency': 24976, 'nuisance': 24977, 'fiance': 24978, 'essayed': 24979, 'intricacies': 24980, 'entail': 24981, 'contrivance': 24982, 'unparalleled': 24983, 'situational': 24984, 'misogynist': 24985, 'choir': 24986, 'ale': 24987, 'finche': 24988, 'copulating': 24989, 'centerpiece': 24990, 'willow': 24991, 'falters': 24992, 'torres': 24993, 'rebhorn': 24994, 'viggio': 24995, 'porcel': 24996, 'pulpy': 24997, 'jailterm': 24998, 'technicality': 24999, 'awoken': 25000, 'ratso': 25001, 'blanco': 25002, 'goregeous': 25003, 'ballerina': 25004, 'backtrack': 25005, 'eleveate': 25006, 'flim': 25007, 'soprano': 25008, 'duet': 25009, 'trashcan': 25010, 'lid': 25011, 'foghorn': 25012, 'leghorn': 25013, 'residential': 25014, 'populus': 25015, 'zimmerman': 25016, 'unexpectantly': 25017, 'recouped': 25018, 'ignorable': 25019, 'desserts': 25020, 'crapper': 25021, 'oceans': 25022, 'treacly': 25023, 'aggressively': 25024, 'ostensible': 25025, 'underestimated': 25026, 'twofold': 25027, 'discoverer': 25028, 'baluyev': 25029, 'broadcaster': 25030, 'allyce': 25031, 'beasley': 25032, 'brooker': 25033, 'orphange': 25034, 'felines': 25035, 'aried': 25036, 'thecatrical': 25037, 'grouchland': 25038, 'nuttiest': 25039, 'nutcracker': 25040, 'babaloo': 25041, 'appreciative': 25042, 'ouija': 25043, 'streetwalker': 25044, 'suggestively': 25045, 'cryin': 25046, 'hanky': 25047, 'panky': 25048, 'somethine': 25049, 'intercuts': 25050, 'threeway': 25051, 'mastabatory': 25052, 'showtime': 25053, 'mottola': 25054, 'upteenth': 25055, 'lept': 25056, 'resembled': 25057, 'textual': 25058, 'entities': 25059, 'visibly': 25060, 'beethoven': 25061, 'freshness': 25062, 'yearn': 25063, 'gossip': 25064, 'congregate': 25065, 'boucing': 25066, 'polymorphously': 25067, 'ekberg': 25068, 'furthers': 25069, 'selfishly': 25070, 'sitations': 25071, 'narcissistically': 25072, 'groupies': 25073, 'equate': 25074, 'contradiction': 25075, 'harrassment': 25076, 'transvestite': 25077, 'leases': 25078, 'digust': 25079, 'delapidated': 25080, 'organs': 25081, 'cockroach': 25082, 'flabbergasted': 25083, 'kowtow': 25084, 'damaging': 25085, 'persuasion': 25086, 'substantiated': 25087, 'behaving': 25088, 'mailbox': 25089, 'leane': 25090, 'selfless': 25091, 'hardship': 25092, 'termination': 25093, 'severance': 25094, 'comprise': 25095, 'quietest': 25096, 'intervenes': 25097, 'caperelli': 25098, 'billions': 25099, 'autonomy': 25100, 'acquiesce': 25101, 'lackeys': 25102, 'dishonoring': 25103, 'murrow': 25104, 'enthralling': 25105, 'recalling': 25106, 'converse': 25107, 'undesirable': 25108, 'theinsider': 25109, 'squashed': 25110, 'supercool': 25111, 'rune': 25112, 'cosmic': 25113, 'rehearsing': 25114, 'gymnastics': 25115, 'playstation': 25116, 'plugged': 25117, 'approximate': 25118, 'verplanck': 25119, 'differentiating': 25120, 'sublimeness': 25121, 'siren': 25122, 'decked': 25123, 'skittering': 25124, 'pokes': 25125, 'tombstone': 25126, 'lynchpin': 25127, 'meanness': 25128, 'cutouts': 25129, 'personified': 25130, 'dutiful': 25131, 'aspiration': 25132, 'jeckle': 25133, 'hydes': 25134, 'shirking': 25135, 'coward': 25136, 'letch': 25137, 'dullard': 25138, 'ambitionless': 25139, 'fumble': 25140, 'tanks': 25141, 'fishtank': 25142, 'whoring': 25143, 'abundence': 25144, 'conread': 25145, 'untrue': 25146, 'derail': 25147, 'fervor': 25148, 'sunset': 25149, 'kitten': 25150, 'forge': 25151, 'electoral': 25152, 'outlets': 25153, 'correspondents': 25154, 'albania': 25155, 'reinventions': 25156, 'contradict': 25157, 'conceivably': 25158, 'decidely': 25159, 'undertaking': 25160, 'restlessness': 25161, 'underachieves': 25162, 'unpopularity': 25163, 'contacts': 25164, 'escorting': 25165, 'shoooting': 25166, 'chauvanism': 25167, 'unintended': 25168, 'unrepenting': 25169, 'indefensible': 25170, 'notle': 25171, 'ois': 25172, 'fonlupt': 25173, 'lupovitz': 25174, 'timm': 25175, 'oberwelland': 25176, 'breeder': 25177, 'horseracing': 25178, 'flavoring': 25179, 'simpatico': 25180, 'barton': 25181, 'fink': 25182, 'cheater': 25183, 'berated': 25184, 'tournaments': 25185, 'anticipating': 25186, 'quintana': 25187, 'fouls': 25188, 'briefcase': 25189, 'repay': 25190, 'entrances': 25191, 'creedence': 25192, 'clearwater': 25193, 'nutcases': 25194, 'gulf': 25195, 'berates': 25196, 'knowin': 25197, 'takin': 25198, 'posits': 25199, 'polarizing': 25200, 'strident': 25201, 'ovulating': 25202, 'donor': 25203, 'handyman': 25204, 'lounging': 25205, 'couplings': 25206, 'closeness': 25207, 'sickboy': 25208, 'uninhibited': 25209, 'reassure': 25210, 'additive': 25211, 'deceive': 25212, 'upstanding': 25213, 'sufficiently': 25214, 'coroner': 25215, 'lungs': 25216, 'chlorine': 25217, 'nada': 25218, 'podunk': 25219, 'exeter': 25220, 'georgetown': 25221, 'placerville': 25222, 'bakersfield': 25223, 'visalia': 25224, 'fresno': 25225, 'sported': 25226, 'kings': 25227, 'cali': 25228, 'wrangler': 25229, 'seger': 25230, 'chevy': 25231, 'camaros': 25232, 'tormentors': 25233, 'cuda': 25234, 'oak': 25235, 'mopping': 25236, 'corralled': 25237, 'ridicules': 25238, 'patches': 25239, 'carnie': 25240, 'brittany': 25241, 'pelted': 25242, 'chili': 25243, 'tubs': 25244, 'vitality': 25245, 'smalley': 25246, 'whitesnake': 25247, 'dobbs': 25248, 'kemp': 25249, 'minoff': 25250, 'newirth': 25251, 'atchesonthere': 25252, 'ovation': 25253, 'worded': 25254, 'plaguing': 25255, 'mishandled': 25256, 'undefeatable': 25257, 'indefatigable': 25258, 'carin': 25259, 'thwart': 25260, 'exams': 25261, 'recklessly': 25262, 'shaiman': 25263, 'aces': 25264, 'saviors': 25265, 'spheres': 25266, 'baggy': 25267, 'esophagus': 25268, 'xv': 25269, 'augustin': 25270, 'caron': 25271, 'seville': 25272, 'figaro': 25273, 'romping': 25274, 'lavishness': 25275, 'segonzac': 25276, 'fabrice': 25277, 'mesmerizes': 25278, 'determines': 25279, 'judgeship': 25280, 'docket': 25281, 'gudin': 25282, 'manuel': 25283, 'blanc': 25284, 'epp': 25285, 'kerdelhue': 25286, 'petit': 25287, 'flute': 25288, 'brisville': 25289, 'edouard': 25290, 'molinaro': 25291, 'sacha': 25292, 'guitry': 25293, 'disorganization': 25294, 'sandrine': 25295, 'kiberlain': 25296, 'superlative': 25297, 'filmography': 25298, 'blot': 25299, 'copybook': 25300, 'publicized': 25301, 'thon': 25302, 'marrieds': 25303, 'faithless': 25304, 'schnitzler': 25305, 'intellectualism': 25306, 'profundity': 25307, 'tootsie': 25308, 'stints': 25309, 'exorcise': 25310, 'baroque': 25311, 'lavishly': 25312, 'unkrich': 25313, 'docter': 25314, 'pioneering': 25315, 'synthespians': 25316, 'eared': 25317, 'rarest': 25318, 'outranks': 25319, 'grizzled': 25320, 'mint': 25321, 'derided': 25322, 'sprogs': 25323, 'mclachlan': 25324, 'distractions': 25325, 'impressionists': 25326, 'renderers': 25327, 'collectors': 25328, 'hermetically': 25329, 'ebay': 25330, 'pokemon': 25331, 'extortion': 25332, 'matchless': 25333, 'debi': 25334, 'mazar': 25335, 'lineback': 25336, 'kaiulani': 25337, 'rusconi': 25338, 'fearest': 25339, 'genteel': 25340, 'hospitality': 25341, 'grandchild': 25342, 'shoddier': 25343, 'conception': 25344, 'behaved': 25345, 'contractions': 25346, 'spiked': 25347, 'knits': 25348, 'rocking': 25349, 'medically': 25350, 'displeasure': 25351, 'exiting': 25352, 'cristian': 25353, 'rolston': 25354, 'levinsohn': 25355, 'aborted': 25356, 'underperforming': 25357, 'shifted': 25358, 'swill': 25359, 'byways': 25360, 'evacuated': 25361, 'rescuers': 25362, 'robbers': 25363, 'corrupted': 25364, 'helpfulness': 25365, 'sneers': 25366, 'derailed': 25367, 'ric': 25368, 'pucci': 25369, 'barrier': 25370, 'straightens': 25371, 'pattonmovie': 25372, 'movieviewsanyone': 25373, 'replay': 25374, 'rembrandts': 25375, 'gin': 25376, 'poses': 25377, 'differential': 25378, 'burglars': 25379, 'disappointement': 25380, 'budha': 25381, 'glides': 25382, 'bumpy': 25383, 'glanced': 25384, 'movieviews': 25385, 'collegue': 25386, 'mahem': 25387, 'sniper': 25388, 'resting': 25389, 'pitfall': 25390, 'runways': 25391, 'intercept': 25392, 'vortex': 25393, 'romantics': 25394, 'capitalizing': 25395, 'stalkers': 25396, 'amaral': 25397, 'airlines': 25398, 'rehab': 25399, 'wronged': 25400, 'amends': 25401, 'realtor': 25402, 'dodgers': 25403, 'eventless': 25404, 'romanced': 25405, 'roos': 25406, 'hare': 25407, 'farewell': 25408, 'checkout': 25409, 'concussion': 25410, 'unlocked': 25411, 'kesher': 25412, 'cammie': 25413, 'vibrancy': 25414, 'poiuyt': 25415, 'estimation': 25416, 'silvers': 25417, 'huckster': 25418, 'sleaziness': 25419, 'ren': 25420, 'magritte': 25421, 'surrealist': 25422, 'atmospheric': 25423, 'ghouls': 25424, 'unfortunatly': 25425, 'overpowers': 25426, 'unearned': 25427, 'aris': 25428, 'iliopulos': 25429, 'overstays': 25430, 'motel': 25431, 'onlooker': 25432, 'heartthrob': 25433, 'addictive': 25434, 'subtext': 25435, 'memorized': 25436, 'reams': 25437, 'provisions': 25438, 'subtexts': 25439, 'jekyll': 25440, 'headrush': 25441, 'unload': 25442, 'spinoffs': 25443, 'eyeful': 25444, 'embodied': 25445, 'unrepentant': 25446, 'apples': 25447, 'resented': 25448, 'uhhm': 25449, 'bitchiest': 25450, 'hardheaded': 25451, 'primed': 25452, 'zhivago': 25453, 'unprofessionalism': 25454, 'winches': 25455, 'leery': 25456, 'unsupportive': 25457, 'ilynea': 25458, 'mironoff': 25459, 'hackford': 25460, 'shores': 25461, 'bereavement': 25462, 'reprimand': 25463, 'foursome': 25464, 'morante': 25465, 'jasmine': 25466, 'trinca': 25467, 'mechanisms': 25468, 'paolo': 25469, 'broach': 25470, 'conciliatory': 25471, 'waterworks': 25472, 'graciously': 25473, 'bargaining': 25474, 'belgian': 25475, 'tingwell': 25476, 'reinvigorating': 25477, 'behaves': 25478, 'agnostic': 25479, 'litters': 25480, 'recurs': 25481, 'clashed': 25482, 'candlelit': 25483, 'indiscretion': 25484, 'forks': 25485, 'bravo': 25486, 'complacent': 25487, 'lan': 25488, 'golin': 25489, 'landay': 25490, 'stipe': 25491, 'acord': 25492, 'zumbrunnen': 25493, 'stella': 25494, 'schwarz': 25495, 'blasphemous': 25496, 'lotte': 25497, 'marionette': 25498, 'ceilings': 25499, 'turnpike': 25500, 'hyperbole': 25501, 'audacity': 25502, 'everlasting': 25503, 'plank': 25504, 'poisoning': 25505, 'alida': 25506, 'valli': 25507, 'waxman': 25508, 'divesting': 25509, 'garments': 25510, 'raiment': 25511, 'lunching': 25512, 'keane': 25513, 'ultraconfident': 25514, 'murderess': 25515, 'simplistically': 25516, 'upsets': 25517, 'deflects': 25518, 'acquitted': 25519, 'flaquer': 25520, 'dine': 25521, 'testifying': 25522, 'fallow': 25523, 'languid': 25524, 'dolan': 25525, 'mattingly': 25526, 'arrises': 25527, 'sensations': 25528, 'oneders': 25529, 'restricting': 25530, 'gigs': 25531, 'korngold': 25532, 'weyl': 25533, 'errol': 25534, 'locksley': 25535, 'derives': 25536, 'swashbuckler': 25537, 'schoolchild': 25538, 'fitzswalter': 25539, 'oversaturated': 25540, 'incognito': 25541, 'preordained': 25542, 'gisbourne': 25543, 'basil': 25544, 'rathbone': 25545, 'savor': 25546, 'hurdle': 25547, 'sudddenly': 25548, 'seafaring': 25549, 'tetsuo': 25550, 'circuits': 25551, 'hellraiser': 25552, 'methodical': 25553, 'reachable': 25554, 'reappeared': 25555, 'neptune': 25556, 'overtime': 25557, 'generously': 25558, 'spills': 25559, 'cotrell': 25560, 'penry': 25561, 'broadcasted': 25562, 'yasmeen': 25563, 'bleeth': 25564, 'modesty': 25565, 'obsesses': 25566, 'reknowned': 25567, 'storytellers': 25568, 'overdramaticizes': 25569, 'prodigies': 25570, 'kiffer': 25571, 'finzi': 25572, 'barenboim': 25573, 'overcloud': 25574, 'admittance': 25575, 'melodramtic': 25576, 'contracted': 25577, 'smiliar': 25578, 'brinks': 25579, 'overpraise': 25580, 'slurs': 25581, 'overpraising': 25582, 'newtons': 25583, 'neuroses': 25584, 'understudy': 25585, 'rainman': 25586, 'tome': 25587, 'hardened': 25588, 'reform': 25589, 'abider': 25590, 'benign': 25591, 'unwed': 25592, 'extorts': 25593, 'omitting': 25594, 'dims': 25595, 'ua': 25596, 'rysher': 25597, 'horton': 25598, 'grabbag': 25599, 'altmanesque': 25600, 'dosmo': 25601, 'pricked': 25602, 'understandeably': 25603, 'hailing': 25604, 'prostitues': 25605, 'kidney': 25606, 'cluelessness': 25607, 'chcaracters': 25608, 'linkage': 25609, 'webvisions': 25610, 'titillatingly': 25611, 'huggers': 25612, 'maleness': 25613, 'bungles': 25614, 'bossman': 25615, 'casket': 25616, 'hmmmm': 25617, 'foe': 25618, 'shortsighted': 25619, 'seeker': 25620, 'reconnect': 25621, 'accomplishments': 25622, 'carts': 25623, 'flares': 25624, 'trots': 25625, 'codger': 25626, 'nitrous': 25627, 'oxide': 25628, 'gussies': 25629, 'hues': 25630, 'pleasingly': 25631, 'yuks': 25632, 'fingerprint': 25633, 'countered': 25634, 'riza': 25635, 'taghmaoui': 25636, 'gillies': 25637, 'regeneration': 25638, 'spritual': 25639, 'alexandre': 25640, 'xiv': 25641, 'defenders': 25642, 'wield': 25643, 'sovereign': 25644, 'perceives': 25645, 'clownish': 25646, 'englishman': 25647, 'stiffly': 25648, 'alphonsia': 25649, 'slattery': 25650, 'phyllida': 25651, 'briers': 25652, 'exhilirating': 25653, 'incohesive': 25654, 'oppposed': 25655, 'baffles': 25656, 'wazoo': 25657, 'varies': 25658, 'peering': 25659, 'ele': 25660, 'compensated': 25661, 'absoltuely': 25662, 'disastrously': 25663, 'lapsed': 25664, 'shrieks': 25665, 'ellicit': 25666, 'acknowledgeable': 25667, 'illustrious': 25668, 'shocker': 25669, 'manifesto': 25670, 'deadliest': 25671, 'harsher': 25672, 'overcame': 25673, 'servicing': 25674, 'ohhhhhhh': 25675, 'noooooo': 25676, 'acoustic': 25677, 'winslett': 25678, 'southampton': 25679, 'accordance': 25680, 'debutante': 25681, 'mistrustful': 25682, 'porcelain': 25683, 'fabrizio': 25684, 'braeden': 25685, 'astor': 25686, 'archibald': 25687, 'gracie': 25688, 'crewmembers': 25689, 'lifeboats': 25690, 'layouts': 25691, 'meticulousness': 25692, 'splicing': 25693, 'analytic': 25694, 'detraction': 25695, 'unnoticed': 25696, 'stacy': 25697, 'heach': 25698, 'mckenna': 25699, 'nudty': 25700, 'vinyard': 25701, 'davin': 25702, 'vandalizing': 25703, 'preach': 25704, 'swastika': 25705, 'meanest': 25706, 'purging': 25707, 'skims': 25708, 'ayer': 25709, 'klough': 25710, 'emmett': 25711, 'coonan': 25712, 'urgent': 25713, 'telegram': 25714, 'archaic': 25715, 'tighten': 25716, 'metres': 25717, 'disorientate': 25718, 'impenetrable': 25719, 'verbatim': 25720, 'phew': 25721, 'complimenting': 25722, 'torpedo': 25723, 'allegory': 25724, 'amercan': 25725, 'socal': 25726, 'germ': 25727, 'deploy': 25728, 'revulsion': 25729, 'gussying': 25730, 'spun': 25731, 'serdar': 25732, 'gooden': 25733, 'tammi': 25734, 'chenoa': 25735, 'cobblers': 25736, 'arbiters': 25737, 'banish': 25738, 'elizabethan': 25739, 'unschooled': 25740, 'dissected': 25741, 'goddamn': 25742, 'klutzes': 25743, 'wordplay': 25744, 'humbug': 25745, 'katz': 25746, 'ehrin': 25747, 'munson': 25748, 'kraner': 25749, 'safan': 25750, 'tramonte': 25751, 'henke': 25752, 'cattell': 25753, 'culpepper': 25754, 'maddie': 25755, 'giveaway': 25756, 'acceptably': 25757, 'yoyo': 25758, 'eskimos': 25759, 'nonplussed': 25760, 'freezers': 25761, 'materializes': 25762, 'oldie': 25763, 'lonesome': 25764, 'breathlessly': 25765, 'coded': 25766, 'classiness': 25767, 'gentleness': 25768, 'shedding': 25769, 'unreasonably': 25770, 'suitor': 25771, 'worsens': 25772, 'scripters': 25773, 'impetus': 25774, 'microscopic': 25775, 'incomparable': 25776, 'bimboids': 25777, 'newscasts': 25778, 'pilgrimage': 25779, 'mecca': 25780, 'disneyland': 25781, 'horizontal': 25782, 'carnegie': 25783, 'mobilizes': 25784, 'botching': 25785, 'airplay': 25786, 'customary': 25787, 'artistically': 25788, 'disneyfied': 25789, 'unsheathes': 25790, 'yao': 25791, 'pugilistic': 25792, 'marni': 25793, 'eurocentrism': 25794, 'saigon': 25795, 'gedde': 25796, 'watanabe': 25797, 'shigeta': 25798, 'kusatsu': 25799, 'shards': 25800, 'disentangle': 25801, 'jog': 25802, 'shrift': 25803, 'flew': 25804, 'maniacs': 25805, 'softies': 25806, 'soldiering': 25807, 'wasteful': 25808, 'dispensing': 25809, 'cigars': 25810, 'enact': 25811, 'unenergetic': 25812, 'eet': 25813, 'naaaaaaah': 25814, 'bubbly': 25815, 'grammy': 25816, 'juilliard': 25817, 'simone': 25818, 'anders': 25819, 'mi': 25820, 'vida': 25821, 'loca': 25822, 'rickie': 25823, 'frederique': 25824, 'wal': 25825, 'bazaar': 25826, 'mademoiselle': 25827, 'lambton': 25828, 'newbould': 25829, 'munundating': 25830, 'lifeline': 25831, 'filter': 25832, 'awakened': 25833, 'ferociously': 25834, 'voyeurs': 25835, 'shakesperean': 25836, 'nero': 25837, 'disatisfaction': 25838, 'privelege': 25839, 'champagne': 25840, 'frequents': 25841, 'minors': 25842, 'stagnant': 25843, 'restraints': 25844, 'masochist': 25845, 'orgiastic': 25846, 'squeal': 25847, 'masturbates': 25848, 'odessa': 25849, 'eisenstein': 25850, 'pysche': 25851, 'universality': 25852, 'arduous': 25853, 'painstakingly': 25854, 'greenaway': 25855, 'dymanite': 25856, 'prunella': 25857, 'twits': 25858, 'ivorys': 25859, 'consequnces': 25860, 'cheekiness': 25861, 'solitaire': 25862, 'fionnula': 25863, 'flanagan': 25864, 'ryland': 25865, 'searchlight': 25866, 'charmer': 25867, 'tullymore': 25868, 'unclaimed': 25869, 'lotto': 25870, 'stocky': 25871, 'scrawny': 25872, 'cuff': 25873, 'outgoing': 25874, 'unrestrained': 25875, 'fictious': 25876, 'bedrock': 25877, 'flinstone': 25878, 'quarry': 25879, 'vandercave': 25880, 'skinnier': 25881, 'nostalgics': 25882, 'historians': 25883, 'strick': 25884, 'ribbons': 25885, 'bake': 25886, 'annually': 25887, 'mindwashing': 25888, 'purifying': 25889, 'ribbon': 25890, 'gorier': 25891, 'mones': 25892, 'hairdos': 25893, 'tipsy': 25894, 'bedpost': 25895, 'nba': 25896, 'exuberantly': 25897, 'timecop': 25898, 'antwerp': 25899, 'pau': 25900, 'brite': 25901, 'exhilarated': 25902, 'coliseum': 25903, 'shirtless': 25904, 'bleachers': 25905, 'killathon': 25906, 'juices': 25907, 'munchkin': 25908, 'bestow': 25909, 'kayla': 25910, 'ment': 25911, 'stimulate': 25912, 'gassing': 25913, 'minivan': 25914, 'pinpoint': 25915, 'beckham': 25916, 'foiling': 25917, 'chriqui': 25918, 'doofus': 25919, 'robed': 25920, 'clarinet': 25921, 'cutie': 25922, 'zena': 25923, 'valletta': 25924, 'noel': 25925, 'grownup': 25926, 'pisses': 25927, 'klebold': 25928, 'nixes': 25929, 'tampon': 25930, 'stylewise': 25931, 'farting': 25932, 'puking': 25933, 'hawk': 25934, 'cried': 25935, 'duplication': 25936, 'bluegrass': 25937, 'loquacious': 25938, 'flatter': 25939, 'mergers': 25940, 'rawhide': 25941, 'gills': 25942, 'tritt': 25943, 'pickett': 25944, 'erykah': 25945, 'badu': 25946, 'diddley': 25947, 'winwood': 25948, 'rewatch': 25949, 'perennial': 25950, 'gooder': 25951, 'merian': 25952, 'wowing': 25953, 'greystoke': 25954, 'trackers': 25955, 'unashamedly': 25956, 'jubilantly': 25957, 'extols': 25958, 'paraded': 25959, 'anthro': 25960, 'zoologists': 25961, 'lithuanian': 25962, 'someplace': 25963, 'twas': 25964, 'nottinghill': 25965, 'impetuous': 25966, 'surreptitious': 25967, 'junkets': 25968, 'wedge': 25969, 'tapped': 25970, 'groundhog': 25971, 'imagines': 25972, 'ordinaryness': 25973, 'imbecilic': 25974, 'flatmate': 25975, 'mcinnerny': 25976, 'brownie': 25977, 'saddest': 25978, 'convolutedly': 25979, 'surprisinly': 25980, 'egregious': 25981, 'lurch': 25982, 'lynchthere': 25983, 'begotten': 25984, 'jodorowsky': 25985, 'topo': 25986, 'nerdish': 25987, 'squalid': 25988, 'impregnated': 25989, 'thalidomide': 25990, 'spurt': 25991, 'deformed': 25992, 'radiator': 25993, 'darkest': 25994, 'saturate': 25995, 'rumbling': 25996, 'hissing': 25997, 'clattering': 25998, 'wonka': 25999, 'dock': 26000, 'alltime': 26001, 'commentry': 26002, 'ftycsiyeipoyc': 26003, 'reville': 26004, 'supercilious': 26005, 'deceitful': 26006, 'welcomed': 26007, 'thunderstorms': 26008, 'sepia': 26009, 'slugged': 26010, 'fuji': 26011, 'purported': 26012, 'ridding': 26013, 'damsels': 26014, 'exquisitely': 26015, 'spa': 26016, 'jourdan': 26017, 'henchwoman': 26018, 'lana': 26019, 'zurrell': 26020, 'succulents': 26021, 'lecherous': 26022, 'moonshiners': 26023, 'eyelash': 26024, 'lichen': 26025, 'mossy': 26026, 'stereotypically': 26027, 'twinkie': 26028, 'fibroid': 26029, 'avenger': 26030, 'wynorski': 26031, 'mcalester': 26032, 'valiant': 26033, 'confess': 26034, 'hid': 26035, 'loop': 26036, 'timelines': 26037, 'malfunction': 26038, 'cloned': 26039, 'incorporation': 26040, 'poles': 26041, 'fossils': 26042, 'goriest': 26043, 'elicit': 26044, 'troi': 26045, 'hindering': 26046, 'venus': 26047, 'ebb': 26048, 'df': 26049, 'pimpin': 26050, 'glennfillan': 26051, 'somethingsomething': 26052, 'upbeats': 26053, 'downfalls': 26054, 'overcomes': 26055, 'banalities': 26056, 'affirming': 26057, 'inadvertly': 26058, 'infuses': 26059, 'carelesness': 26060, 'gregarious': 26061, 'ingeniousness': 26062, 'profoundness': 26063, 'feasibility': 26064, 'revisited': 26065, 'fiascoes': 26066, 'appalachian': 26067, 'nominee': 26068, 'tumbleweeds': 26069, 'penleric': 26070, 'musicologist': 26071, 'professorship': 26072, 'trove': 26073, 'scots': 26074, 'ballads': 26075, 'insular': 26076, 'vinie': 26077, 'phonograph': 26078, 'cylinders': 26079, 'greenwald': 26080, 'olive': 26081, 'bearded': 26082, 'statuesque': 26083, 'vocalists': 26084, 'emmylou': 26085, 'iris': 26086, 'dement': 26087, 'taj': 26088, 'mahal': 26089, 'rossum': 26090, 'prot': 26091, 'childbirth': 26092, 'transcendent': 26093, 'compress': 26094, 'assuredness': 26095, 'arranged': 26096, 'schoonmaker': 26097, 'radios': 26098, 'modernize': 26099, 'herded': 26100, 'vestments': 26101, 'robes': 26102, 'reddish': 26103, 'grouped': 26104, 'textures': 26105, 'ellin': 26106, 'housed': 26107, 'overlay': 26108, 'frey': 26109, 'sportscaster': 26110, 'mili': 26111, 'avital': 26112, 'sofa': 26113, 'sherohman': 26114, 'tavera': 26115, 'representing': 26116, 'retreads': 26117, 'thud': 26118, 'apprehend': 26119, 'waldo': 26120, 'sledgehammers': 26121, 'precipices': 26122, 'misadventure': 26123, 'sami': 26124, 'bouajila': 26125, 'proval': 26126, 'helmi': 26127, 'kassim': 26128, 'offensively': 26129, 'caprenter': 26130, 'glares': 26131, 'rona': 26132, 'wyatt': 26133, 'stump': 26134, 'moive': 26135, 'roses': 26136, 'revolting': 26137, 'pearls': 26138, 'hamper': 26139, 'jeweller': 26140, 'traditionalist': 26141, 'cabalistic': 26142, 'unispiring': 26143, 'orthodox': 26144, 'avrech': 26145, 'rabbi': 26146, 'bartkowiak': 26147, 'matiko': 26148, 'bondish': 26149, 'assination': 26150, 'soared': 26151, 'stipulated': 26152, 'depictions': 26153, 'entrails': 26154, 'bemoans': 26155, 'gutted': 26156, 'signaling': 26157, 'excerpts': 26158, 'knowledgeable': 26159, 'converges': 26160, 'cece': 26161, 'marisol': 26162, 'unmasking': 26163, 'didya': 26164, 'tongues': 26165, 'fleeced': 26166, 'intercepting': 26167, 'fortuitously': 26168, 'interrelation': 26169, 'interception': 26170, 'divinely': 26171, 'badder': 26172, 'rambled': 26173, 'softening': 26174, 'obsess': 26175, 'belting': 26176, 'featherstone': 26177, 'heaping': 26178, 'spoonfuls': 26179, 'rubik': 26180, 'cubes': 26181, 'minutiae': 26182, 'gleam': 26183, 'vols': 26184, 'nonstop': 26185, 'lowly': 26186, 'carina': 26187, 'lungin': 26188, 'bilingually': 26189, 'tai': 26190, 'seng': 26191, 'nebulous': 26192, 'illegible': 26193, 'armour': 26194, 'practicing': 26195, 'bunyan': 26196, 'spiriting': 26197, 'relics': 26198, 'overworking': 26199, 'underpaying': 26200, 'supplicate': 26201, 'macguffin': 26202, 'medicinal': 26203, 'lackies': 26204, 'loyalist': 26205, 'manchu': 26206, 'coals': 26207, 'outtake': 26208, 'quicktime': 26209, 'conspire': 26210, 'bigscreen': 26211, 'distaste': 26212, 'databases': 26213, 'dissemination': 26214, 'wincer': 26215, 'rhett': 26216, 'spunk': 26217, 'exhale': 26218, 'nique': 26219, 'racquel': 26220, 'tamala': 26221, 'yuh': 26222, 'gots': 26223, 'devises': 26224, 'congratulatory': 26225, 'smirking': 26226, 'underscores': 26227, 'boisterous': 26228, 'scuzzy': 26229, 'placements': 26230, 'joblotv': 26231, 'assets': 26232, 'correlate': 26233, 'unanswerable': 26234, 'query': 26235, 'musters': 26236, 'tail': 26237, 'retreading': 26238, 'umpteenth': 26239, 'disavows': 26240, 'snickerable': 26241, 'rodeo': 26242, 'spicer': 26243, 'capita': 26244, 'swordfishing': 26245, 'gloucester': 26246, 'wittliff': 26247, 'junger': 26248, 'hauls': 26249, 'walhberg': 26250, 'flemish': 26251, 'lb': 26252, 'meteorologist': 26253, 'simulating': 26254, 'landowner': 26255, 'bargained': 26256, 'harbours': 26257, 'absconded': 26258, 'absurdism': 26259, 'reputable': 26260, 'nether': 26261, 'incite': 26262, 'sensuous': 26263, 'disobedience': 26264, 'remembering': 26265, 'antionio': 26266, 'swindles': 26267, 'reforming': 26268, 'scams': 26269, 'sacrilege': 26270, 'redbus': 26271, 'mcintyre': 26272, 'lanser': 26273, 'underlined': 26274, 'propped': 26275, 'tadpoles': 26276, 'observation': 26277, 'vitro': 26278, 'fertilisation': 26279, 'curiosities': 26280, 'heal': 26281, 'loudmouth': 26282, 'gynaecologist': 26283, 'sadistically': 26284, 'dangles': 26285, 'subconsciously': 26286, 'examiner': 26287, 'manufacturer': 26288, 'ikea': 26289, 'fistfights': 26290, 'referencing': 26291, 'blips': 26292, 'signifiers': 26293, 'projectionist': 26294, 'coarsely': 26295, 'meatloaf': 26296, 'blackman': 26297, 'petals': 26298, 'transitioning': 26299, 'genders': 26300, 'erroneous': 26301, 'givers': 26302, 'moviegoing': 26303, 'sulfuric': 26304, 'presume': 26305, 'signified': 26306, 'volcanologist': 26307, 'seismic': 26308, 'voted': 26309, 'alarmed': 26310, 'pledged': 26311, 'stirrings': 26312, 'dip': 26313, 'fissure': 26314, 'doff': 26315, 'busybody': 26316, 'hallahan': 26317, 'predictions': 26318, 'likens': 26319, 'crater': 26320, 'headlong': 26321, 'tsunami': 26322, 'councilmembers': 26323, 'positing': 26324, 'erupt': 26325, 'pompeii': 26326, 'lakes': 26327, 'pyroclastic': 26328, 'myrick': 26329, 'sanchez': 26330, 'woozy': 26331, 'libbed': 26332, 'reverts': 26333, 'giggling': 26334, 'niggling': 26335, 'camping': 26336, 'boggingly': 26337, 'unscary': 26338, 'blairwitch': 26339, 'pantelianosome': 26340, 'squaresoft': 26341, 'hyperbolic': 26342, 'pimples': 26343, 'gaffes': 26344, 'hironobu': 26345, 'sakaguchi': 26346, 'caged': 26347, 'ghostly': 26348, 'unexplainable': 26349, 'monomaniacal': 26350, 'hein': 26351, 'zeus': 26352, 'aki': 26353, 'collected': 26354, 'counteract': 26355, 'intricately': 26356, 'incorporated': 26357, 'fleming': 26358, 'floored': 26359, 'tailsa': 26360, 'leonetti': 26361, 'friedman': 26362, 'zabel': 26363, 'kasanoff': 26364, 'tobias': 26365, 'wexler': 26366, 'buhbuh': 26367, 'buhbahbuhbuhbah': 26368, 'outcry': 26369, 'bolts': 26370, 'dilutes': 26371, 'hess': 26372, 'sonya': 26373, 'bridgette': 26374, 'talisa': 26375, 'beefed': 26376, 'resembeling': 26377, 'litefoot': 26378, 'nightwolf': 26379, 'rayden': 26380, 'shao': 26381, 'linden': 26382, 'ashby': 26383, 'jax': 26384, 'sabre': 26385, 'cooke': 26386, 'subbie': 26387, 'manuvers': 26388, 'wiggins': 26389, 'mileena': 26390, 'pantaeva': 26391, 'overflow': 26392, 'advancements': 26393, 'animality': 26394, 'directoral': 26395, 'performences': 26396, 'buttons': 26397, 'grassroots': 26398, 'uprisings': 26399, 'wastelands': 26400, 'mule': 26401, 'holnist': 26402, 'cavalry': 26403, 'liberates': 26404, 'congress': 26405, 'walled': 26406, 'renews': 26407, 'afire': 26408, 'larenz': 26409, 'revived': 26410, 'tyranny': 26411, 'derivitive': 26412, 'horseback': 26413, 'eights': 26414, 'holism': 26415, 'prophesies': 26416, 'mayan': 26417, 'powering': 26418, 'nationalism': 26419, 'indianapolis': 26420, 'birnbaum': 26421, 'wallis': 26422, 'nicita': 26423, 'omit': 26424, 'yessssss': 26425, 'vindicated': 26426, 'boucher': 26427, 'loftier': 26428, 'communism': 26429, 'spousal': 26430, 'parenting': 26431, 'discontent': 26432, 'stockholm': 26433, 'hefner': 26434, 'hammertoe': 26435, 'lindgren': 26436, 'nyqvist': 26437, 'hubris': 26438, 'egos': 26439, 'lukas': 26440, 'flipbook': 26441, 'anja': 26442, 'lundkvist': 26443, 'cavalier': 26444, 'togetherness': 26445, 'samuelsson': 26446, 'henrik': 26447, 'lundstr': 26448, 'enqvist': 26449, 'fewer': 26450, 'leton': 26451, 'arie': 26452, 'verveen': 26453, 'mihok': 26454, 'badlands': 26455, 'costly': 26456, 'hurtle': 26457, 'awol': 26458, 'tranquillity': 26459, 'centrepiece': 26460, 'fortifications': 26461, 'queensland': 26462, 'queuing': 26463, 'meticulously': 26464, 'elegiac': 26465, 'allegra': 26466, 'geller': 26467, 'trainee': 26468, 'pikul': 26469, 'inspect': 26470, 'gameport': 26471, 'individuality': 26472, 'interrelate': 26473, 'autopsy': 26474, 'amfibium': 26475, 'cronenbergto': 26476, 'blooming': 26477, 'fandom': 26478, 'lining': 26479, 'overhyped': 26480, 'backpedal': 26481, 'evolves': 26482, 'ji': 26483, 'mcgreggor': 26484, 'improvements': 26485, 'editions': 26486, 'hur': 26487, 'droids': 26488, 'cityscapes': 26489, 'gungans': 26490, 'diehard': 26491, 'tusken': 26492, 'revisions': 26493, 'rewrites': 26494, 'swamped': 26495, 'noblewoman': 26496, 'fennyman': 26497, 'favorable': 26498, 'forementioned': 26499, 'bankable': 26500, 'buyer': 26501, 'beaumont': 26502, 'occurances': 26503, 'differentiation': 26504, 'superceded': 26505, 'grieg': 26506, 'replaying': 26507, 'winnfield': 26508, 'claudine': 26509, 'longet': 26510, 'monet': 26511, 'detonating': 26512, 'ejection': 26513, 'predicted': 26514, 'birdy': 26515, 'bartenders': 26516, 'cocktail': 26517, 'flashdance': 26518, 'doused': 26519, 'tyra': 26520, 'lynskey': 26521, 'izabella': 26522, 'absolut': 26523, 'jiggling': 26524, 'pitchers': 26525, 'perrier': 26526, 'gyrating': 26527, 'amboy': 26528, 'songwriter': 26529, 'fobbed': 26530, 'receptionists': 26531, 'ful': 26532, 'licious': 26533, 'barkeeps': 26534, 'thumbing': 26535, 'riots': 26536, 'flaunting': 26537, 'flambeeing': 26538, 'soaking': 26539, 'sprite': 26540, 'certifiable': 26541, 'subdues': 26542, 'blondie': 26543, 'cured': 26544, 'biloxi': 26545, 'meatballs': 26546, 'shaving': 26547, 'venkman': 26548, 'caddyshack': 26549, 'admonition': 26550, 'lifts': 26551, 'stove': 26552, 'jemima': 26553, 'shoving': 26554, 'spatula': 26555, 'region': 26556, 'brighter': 26557, 'expierience': 26558, 'menus': 26559, 'pc': 26560, 'sampler': 26561, 'mornings': 26562, 'steering': 26563, 'finder': 26564, 'averse': 26565, 'figgs': 26566, 'oppurtunity': 26567, 'approval': 26568, 'teller': 26569, 'desultorily': 26570, 'pointillist': 26571, 'orgasms': 26572, 'researches': 26573, 'alphabet': 26574, 'slipshod': 26575, 'crutches': 26576, 'witticism': 26577, 'resignation': 26578, 'defects': 26579, 'fallutin': 26580, 'pos': 26581, 'lol': 26582, 'tampered': 26583, 'imcomprehinsable': 26584, 'moviefan': 26585, 'moviereviewcentral': 26586, 'rightful': 26587, 'tiff': 26588, 'duffle': 26589, 'immeadiate': 26590, 'sift': 26591, 'simplest': 26592, 'depletion': 26593, 'stamping': 26594, 'streeming': 26595, 'distractedness': 26596, 'rifle': 26597, 'wittedness': 26598, 'acception': 26599, 'picturing': 26600, 'dostoevsky': 26601, 'protestations': 26602, 'clam': 26603, 'curdling': 26604, 'auteil': 26605, 'contemplates': 26606, 'aumont': 26607, 'anonymously': 26608, 'laroque': 26609, 'vandernoot': 26610, 'stanislas': 26611, 'crevillen': 26612, 'homophobe': 26613, 'repulsed': 26614, 'thierry': 26615, 'lhermite': 26616, 'grovel': 26617, 'verber': 26618, 'dissects': 26619, 'veering': 26620, 'auteuil': 26621, 'aux': 26622, 'folles': 26623, 'levine': 26624, 'gifford': 26625, 'nameless': 26626, 'fiend': 26627, 'amarillo': 26628, 'snowbound': 26629, 'seatbelts': 26630, 'dorado': 26631, 'hitchhiking': 26632, 'loner': 26633, 'midpoint': 26634, 'muddle': 26635, 'burdensome': 26636, 'grinning': 26637, 'yeehawing': 26638, 'rockies': 26639, 'tennant': 26640, 'leonowens': 26641, 'meerson': 26642, 'krikes': 26643, 'strides': 26644, 'regalia': 26645, 'ruminations': 26646, 'wanderlust': 26647, 'quicksilver': 26648, 'tow': 26649, 'tutor': 26650, 'surmises': 26651, 'germinate': 26652, 'clenched': 26653, 'awareness': 26654, 'cagily': 26655, 'monarchy': 26656, 'banquet': 26657, 'deepened': 26658, 'nuanced': 26659, 'concubines': 26660, 'siam': 26661, 'stomps': 26662, 'achingly': 26663, 'odoen': 26664, 'susannah': 26665, 'lachmann': 26666, 'woodward': 26667, 'condemn': 26668, 'judiciary': 26669, 'histories': 26670, 'statutes': 26671, 'filing': 26672, 'solicitor': 26673, 'finney': 26674, 'beg': 26675, 'supplier': 26676, 'hexavalent': 26677, 'hazards': 26678, 'interviewers': 26679, 'resum': 26680, 'victimisation': 26681, 'abominable': 26682, 'quiver': 26683, 'grandstanding': 26684, 'rattles': 26685, 'palette': 26686, 'independents': 26687, 'faa': 26688, 'cn': 26689, 'exterminating': 26690, 'exterminated': 26691, 'subsist': 26692, 'chimpanzees': 26693, 'hilton': 26694, 'macat': 26695, 'glennie': 26696, 'indicated': 26697, 'exhibited': 26698, 'exhumed': 26699, 'edging': 26700, 'cardiac': 26701, 'errands': 26702, 'integrated': 26703, 'circuit': 26704, 'booby': 26705, 'snowstorm': 26706, 'flakes': 26707, 'blizzard': 26708, 'wyle': 26709, 'flattened': 26710, 'acme': 26711, 'smacked': 26712, 'barbell': 26713, 'masterson': 26714, 'fouse': 26715, 'grabianski': 26716, 'polsky': 26717, 'snowden': 26718, 'emblazoned': 26719, 'defeats': 26720, 'grosses': 26721, 'overabundant': 26722, 'signing': 26723, 'sendup': 26724, 'nike': 26725, 'faired': 26726, 'blender': 26727, 'coalesce': 26728, 'panting': 26729, 'nabokov': 26730, 'franker': 26731, 'drearden': 26732, 'flavoured': 26733, 'demeanour': 26734, 'arouses': 26735, 'husbandly': 26736, 'misreads': 26737, 'urbane': 26738, 'nymphet': 26739, 'earthy': 26740, 'smouldering': 26741, 'langella': 26742, 'banned': 26743, 'glorifying': 26744, 'enriches': 26745, 'mantlepiece': 26746, 'burnout': 26747, 'encompassing': 26748, 'oddball': 26749, 'cad': 26750, 'pasadena': 26751, 'reparations': 26752, 'soiled': 26753, 'trampy': 26754, 'breathtakingly': 26755, 'loopy': 26756, 'marmet': 26757, 'busby': 26758, 'bounteous': 26759, 'cleanest': 26760, 'throaty': 26761, 'delectable': 26762, 'faction': 26763, 'hungus': 26764, 'ludwig': 26765, 'riche': 26766, 'atchesonclaire': 26767, 'slates': 26768, 'wring': 26769, 'repackaging': 26770, 'cropduster': 26771, 'geezers': 26772, 'mushy': 26773, 'amrriage': 26774, 'gester': 26775, 'evangelical': 26776, 'zealots': 26777, 'paving': 26778, 'crackerjack': 26779, 'departed': 26780, 'tribulation': 26781, 'antichrist': 26782, 'heathens': 26783, 'waned': 26784, 'scrubbed': 26785, 'correspondent': 26786, 'nations': 26787, 'chaim': 26788, 'rosenzweig': 26789, 'mushiness': 26790, 'theological': 26791, 'almighty': 26792, 'hoity': 26793, 'toity': 26794, 'mentors': 26795, 'stuggle': 26796, 'typed': 26797, 'crumb': 26798, 'automate': 26799, 'fixing': 26800, 'piping': 26801, 'honeybee': 26802, 'weld': 26803, 'ruptures': 26804, 'schematics': 26805, 'ibm': 26806, 'welding': 26807, 'inspection': 26808, 'frustratingly': 26809, 'eyesore': 26810, 'slipping': 26811, 'unobserved': 26812, 'dewy': 26813, 'poolman': 26814, 'pellegrino': 26815, 'coco': 26816, 'wad': 26817, 'staccato': 26818, 'soupy': 26819, 'caress': 26820, 'roast': 26821, 'pork': 26822, 'sobriety': 26823, 'juzo': 26824, 'forefront': 26825, 'tsutomu': 26826, 'yamazaki': 26827, 'nobuko': 26828, 'miyamoto': 26829, 'strongman': 26830, 'pisken': 26831, 'rikiya': 26832, 'yasuoka': 26833, 'ringleader': 26834, 'appetizing': 26835, 'adjoining': 26836, 'trepidation': 26837, 'gourmets': 26838, 'sommeliers': 26839, 'omelet': 26840, 'treehouse': 26841, 'leopard': 26842, 'henricksen': 26843, 'jungles': 26844, 'tantor': 26845, 'poombah': 26846, 'mischief': 26847, 'teapot': 26848, 'manly': 26849, 'diction': 26850, 'rollerblading': 26851, 'inordinate': 26852, 'mcflurry': 26853, 'craziest': 26854, 'politic': 26855, 'homeboy': 26856, 'cybill': 26857, 'bullworths': 26858, 'gangland': 26859, 'raps': 26860, 'feather': 26861, 'hannon': 26862, 'dreamworld': 26863, 'inhabitant': 26864, 'selflearning': 26865, 'download': 26866, 'conciseness': 26867, 'virile': 26868, 'playground': 26869, 'petrucelli': 26870, 'caricatured': 26871, 'harald': 26872, 'klose': 26873, 'amphibians': 26874, 'dissect': 26875, 'quarrels': 26876, 'putzulu': 26877, 'appointed': 26878, 'undecided': 26879, 'fret': 26880, 'nodded': 26881, 'complements': 26882, 'pillage': 26883, 'photographic': 26884, 'bastardizing': 26885, 'couplehood': 26886, 'fullerton': 26887, 'milo': 26888, 'deadeningly': 26889, 'uninvolivng': 26890, 'falken': 26891, 'thermo': 26892, 'premiss': 26893, 'contended': 26894, 'advertisment': 26895, 'protovision': 26896, 'frontgate': 26897, 'wopr': 26898, 'efficent': 26899, 'pentagon': 26900, 'grownups': 26901, 'admirer': 26902, 'porky': 26903, 'bps': 26904, 'impressing': 26905, 'backdoors': 26906, 'graphical': 26907, 'machinegun': 26908, 'refining': 26909, 'overexposure': 26910, 'ramboids': 26911, 'immortalised': 26912, 'harra': 26913, 'roper': 26914, 'megalomaniac': 26915, 'shih': 26916, 'kien': 26917, 'bondian': 26918, 'preclude': 26919, 'ocular': 26920, 'shielding': 26921, 'gaudily': 26922, 'palaces': 26923, 'swirls': 26924, 'whoosh': 26925, 'tolkein': 26926, 'barbarian': 26927, 'headdress': 26928, 'underfoot': 26929, 'commoners': 26930, 'scepter': 26931, 'unites': 26932, 'fetchit': 26933, 'sanctum': 26934, 'prop': 26935, 'fives': 26936, 'riddle': 26937, 'contorting': 26938, 'contorted': 26939, 'postscript': 26940, 'unwinable': 26941, 'mutilating': 26942, 'proclamations': 26943, 'lrighty': 26944, 'appreciates': 26945, 'racoon': 26946, 'haw': 26947, 'nonmembers': 26948, 'bulldog': 26949, 'testicles': 26950, 'strohmeyer': 26951, 'fd': 26952, 'ballplayer': 26953, 'razca': 26954, 'socking': 26955, 'horrendously': 26956, 'converting': 26957, 'tangle': 26958, 'shuffling': 26959, 'cairns': 26960, 'bungled': 26961, 'indemnity': 26962, 'hairstylist': 26963, 'jogger': 26964, 'wittier': 26965, 'pompano': 26966, 'dunmore': 26967, 'petite': 26968, 'peggy': 26969, 'gumcracking': 26970, 'gumshoe': 26971, 'stiletto': 26972, 'purchases': 26973, 'duplicitous': 26974, 'motorbiking': 26975, 'muldoon': 26976, 'reminiscient': 26977, 'reinvented': 26978, 'equivolence': 26979, 'persay': 26980, 'summations': 26981, 'bulletins': 26982, 'terminals': 26983, 'classrooms': 26984, 'klendathu': 26985, 'fleshing': 26986, 'unrelentless': 26987, 'neumeier': 26988, 'heinlein': 26989, 'lingered': 26990, 'cookiesfortune': 26991, 'topped': 26992, 'residing': 26993, 'fleetingly': 26994, 'excitable': 26995, 'salad': 26996, 'scattering': 26997, 'scrabble': 26998, 'unperturbed': 26999, 'renshaw': 27000, 'eccentricities': 27001, 'alexandria': 27002, 'kindhearted': 27003, 'que': 27004, 'hecho': 27005, 'merecer': 27006, 'esto': 27007, 'fernandez': 27008, 'arango': 27009, 'solcedo': 27010, 'bonezzi': 27011, 'maura': 27012, 'andres': 27013, 'forque': 27014, 'gonzalo': 27015, 'chus': 27016, 'lampreave': 27017, 'herranz': 27018, 'amparo': 27019, 'soler': 27020, 'leal': 27021, 'hostalot': 27022, 'tesauro': 27023, 'kaktus': 27024, 'coproduction': 27025, 'cinevista': 27026, 'instruct': 27027, 'unsettles': 27028, 'habitues': 27029, 'classify': 27030, 'ionesco': 27031, 'chauvinist': 27032, 'zarah': 27033, 'leander': 27034, 'handwriting': 27035, 'stingy': 27036, 'effrontery': 27037, 'mineral': 27038, 'telekinetic': 27039, 'imperturbably': 27040, 'husbanded': 27041, 'kleptomaniac': 27042, 'hatches': 27043, 'forgery': 27044, 'counsels': 27045, 'pederastic': 27046, 'baptizes': 27047, 'criss': 27048, 'crossings': 27049, 'arbitrariness': 27050, 'concentric': 27051, 'unliberated': 27052, 'cartoonist': 27053, 'improvisations': 27054, 'bunuel': 27055, 'spaniards': 27056, 'stultify': 27057, 'hambone': 27058, 'kendo': 27059, 'voluntarily': 27060, 'defiant': 27061, 'denunciation': 27062, 'validity': 27063, 'emblematic': 27064, 'bawdiness': 27065, 'parodistic': 27066, 'rabelaisian': 27067, 'misspellings': 27068, 'smak': 27069, 'nitwuit': 27070, 'ug': 27071, 'ironical': 27072, 'addenda': 27073, 'erroneously': 27074, 'scarsely': 27075, 'bouyant': 27076, 'unconventionally': 27077, 'triumphant': 27078, 'downes': 27079, 'innundated': 27080, 'mischievousness': 27081, 'helium': 27082, 'chipmunks': 27083, 'grasps': 27084, 'confidant': 27085, 'mischievous': 27086, 'formulaisms': 27087, 'reassured': 27088, 'honourable': 27089, 'weddding': 27090, 'serenade': 27091, 'infectuous': 27092, 'longstanding': 27093, 'lustre': 27094, 'usurped': 27095, 'canny': 27096, 'prestige': 27097, 'ante': 27098, 'cements': 27099, 'splendour': 27100, 'mca': 27101, 'disowned': 27102, 'downed': 27103, 'bickle': 27104, 'trophies': 27105, 'uncountable': 27106, 'shrugs': 27107, 'subscribers': 27108, 'publishes': 27109, 'oswald': 27110, 'friedenberg': 27111, 'greeneingredients': 27112, 'recollections': 27113, 'moonshiner': 27114, 'notched': 27115, 'internment': 27116, 'multiracial': 27117, 'corporeal': 27118, 'canned': 27119, 'teasers': 27120, 'tissues': 27121, 'tearjerkers': 27122, 'repugnant': 27123, 'undeservedly': 27124, 'overfiend': 27125, 'avowedly': 27126, 'destabilize': 27127, 'ops': 27128, 'unfeeling': 27129, 'nonentities': 27130, 'plugging': 27131, 'clocking': 27132, 'colder': 27133, 'hinged': 27134, 'chopped': 27135, 'overhead': 27136, 'terraformed': 27137, 'stagnated': 27138, 'rundown': 27139, 'napolean': 27140, 'moriarty': 27141, 'stein': 27142, 'vanquished': 27143, 'despondent': 27144, 'precariously': 27145, 'teeters': 27146, 'unconvincingly': 27147, 'vowing': 27148, 'bankroll': 27149, 'inversion': 27150, 'repessed': 27151, 'joie': 27152, 'vivre': 27153, 'ppreciate': 27154, 'thorougly': 27155, 'sympathise': 27156, 'plights': 27157, 'jaunt': 27158, 'urn': 27159, 'unfortunatetely': 27160, 'bedridden': 27161, 'realising': 27162, 'crept': 27163, 'sapping': 27164, 'tricking': 27165, 'wherewithal': 27166, 'stammering': 27167, 'huang': 27168, 'adeptness': 27169, 'timidity': 27170, 'ambitiously': 27171, 'processed': 27172, 'unempathetic': 27173, 'condemned': 27174, 'katarina': 27175, 'byline': 27176, 'explainable': 27177, 'moreau': 27178, 'afficianados': 27179, 'stoically': 27180, 'explosiveness': 27181, 'noteworthies': 27182, 'dierdre': 27183, 'motivator': 27184, 'slowness': 27185, 'uninitiated': 27186, 'mand': 27187, 'tapers': 27188, 'followers': 27189, 'guerrilla': 27190, 'southwest': 27191, 'sieber': 27192, 'oppressed': 27193, 'minorities': 27194, 'oppressors': 27195, 'admirers': 27196, 'magua': 27197, 'mohicans': 27198, 'disinterested': 27199, 'ry': 27200, 'cooder': 27201, 'ahern': 27202, 'melancholic': 27203, 'tightened': 27204, 'pooh': 27205, 'allotting': 27206, 'skanky': 27207, 'chompin': 27208, 'deane': 27209, 'adaption': 27210, 'gammon': 27211, 'bitterness': 27212, 'adamantly': 27213, 'hurl': 27214, 'pools': 27215, 'sbaraglia': 27216, 'echarri': 27217, 'leticia': 27218, 'br': 27219, 'figueras': 27220, 'piglia': 27221, 'snort': 27222, 'moviepie': 27223, 'relents': 27224, 'luggage': 27225, 'jackey': 27226, 'proctor': 27227, 'redd': 27228, 'vie': 27229, 'fertilizer': 27230, 'schooling': 27231, 'undergarments': 27232, 'anomalies': 27233, 'madam': 27234, 'rosalie': 27235, 'crutchley': 27236, 'bleed': 27237, 'jillion': 27238, 'brandeis': 27239, 'deteriorated': 27240, 'classroom': 27241, 'sportswriter': 27242, 'profiling': 27243, 'indomitable': 27244, 'undervalued': 27245, 'espn': 27246, 'sudsy': 27247, 'sins': 27248, 'emphasising': 27249, 'densely': 27250, 'benigness': 27251, 'psychosexual': 27252, 'peels': 27253, 'showbiz': 27254, 'jetset': 27255, 'ambivalent': 27256, 'profondo': 27257, 'rosso': 27258, 'suspiria': 27259, 'atmospheres': 27260, 'goblin': 27261, 'damnit': 27262, 'paragraphs': 27263, 'muffs': 27264, 'assailant': 27265, 'banged': 27266, 'permeated': 27267, 'concealed': 27268, 'motorbike': 27269, 'luciano': 27270, 'tovoli': 27271, 'ferrini': 27272, 'creepiest': 27273, 'donning': 27274, 'euuugh': 27275, 'televised': 27276, 'seahaven': 27277, 'fla': 27278, 'domed': 27279, 'townfolk': 27280, 'interruptions': 27281, 'revenue': 27282, 'blitzes': 27283, 'rainstorm': 27284, 'trusting': 27285, 'synthesizer': 27286, 'hinges': 27287, 'coordinate': 27288, 'merge': 27289, 'fcc': 27290, 'consent': 27291, 'hickner': 27292, 'analysts': 27293, 'baronial': 27294, 'conventionally': 27295, 'strayed': 27296, 'nimbly': 27297, 'spatial': 27298, 'heretofore': 27299, 'parting': 27300, 'hebrew': 27301, 'firstborn': 27302, 'nile': 27303, 'noteables': 27304, 'eco': 27305, 'boggles': 27306, 'thirsty': 27307, 'marauding': 27308, 'poppin': 27309, 'chryse': 27310, 'snatching': 27311, 'bonkers': 27312, 'remnants': 27313, 'lopping': 27314, 'incomprehensibly': 27315, 'thuds': 27316}\n"
          ]
        }
      ]
    },
    {
      "cell_type": "code",
      "source": [
        "# Previously, we saved all fasttext embeddings to a NumPy array for quick access\n",
        "# Now, we save the fasttext embeddings for the words that we only need, based on the tokenizer\n",
        "\n",
        "embedding_matrix = np.zeros((MAX_WORDS+2, EMBEDDING_DIM))  # +2 (pad, unkown)\n",
        "\n",
        "for word, i in word_index.items():\n",
        "    if i > MAX_WORDS:\n",
        "            continue\n",
        "    try:\n",
        "        embedding_vector = fasttext_embed[fasttext_word_to_index[word],:]\n",
        "        embedding_matrix[i] = embedding_vector\n",
        "    except:\n",
        "        pass\n",
        "\n",
        "print(embedding_matrix)"
      ],
      "metadata": {
        "colab": {
          "base_uri": "https://localhost:8080/"
        },
        "id": "k2acWQK15Myo",
        "outputId": "c30d3747-5939-4b35-9add-91dda41b1451"
      },
      "execution_count": null,
      "outputs": [
        {
          "output_type": "stream",
          "name": "stdout",
          "text": [
            "[[ 0.      0.      0.     ...  0.      0.      0.    ]\n",
            " [ 0.      0.      0.     ...  0.      0.      0.    ]\n",
            " [-0.0305  0.0716  0.0492 ...  0.1654 -0.0834 -0.036 ]\n",
            " ...\n",
            " [ 0.0334  0.062  -0.0906 ...  0.0348 -0.0584 -0.0572]\n",
            " [-0.0554  0.1676 -0.1192 ...  0.0731  0.0759 -0.0495]\n",
            " [ 0.      0.      0.     ...  0.      0.      0.    ]]\n"
          ]
        }
      ]
    },
    {
      "cell_type": "code",
      "source": [
        "np.nonzero(embedding_matrix)\n",
        "# used to Compute the indices of the elements that are non-zero. It returns a tuple of arrays,\n",
        "# one for each dimension of arr, containing the indices of the non-zero elements in that dimension.\n",
        "# The corresponding non-zero values in the array can be obtained with arr[nonzero(arr)] "
      ],
      "metadata": {
        "colab": {
          "base_uri": "https://localhost:8080/"
        },
        "id": "QvT61l1m5nBb",
        "outputId": "f8dfc78c-b886-4197-f5fb-3c43f4941431"
      },
      "execution_count": null,
      "outputs": [
        {
          "output_type": "execute_result",
          "data": {
            "text/plain": [
              "(array([   2,    2,    2, ..., 1000, 1000, 1000]),\n",
              " array([  0,   1,   2, ..., 297, 298, 299]))"
            ]
          },
          "metadata": {},
          "execution_count": 32
        }
      ]
    },
    {
      "cell_type": "markdown",
      "source": [
        "**---------------------------------------------------------------------**"
      ],
      "metadata": {
        "id": "1eQ1ScaACBxU"
      }
    },
    {
      "cell_type": "markdown",
      "source": [
        "## **Hyper-parameter tuning with Keras-tuner to define the architecture of our BiGRU + MLP model**\n"
      ],
      "metadata": {
        "id": "FcJvBM391XVg"
      }
    },
    {
      "cell_type": "code",
      "source": [
        "my_dir = os.getcwd()+'/drive/MyDrive/text_analytics_5'"
      ],
      "metadata": {
        "id": "IWJaibeuycS2"
      },
      "execution_count": null,
      "outputs": []
    },
    {
      "cell_type": "code",
      "source": [
        "print('Initial set shapes:')\n",
        "print(np.shape(x_train_svd))\n",
        "print(np.shape(y_train))\n",
        "print(np.shape(x_dev_svd))\n",
        "print(np.shape(y_dev))\n",
        "print(np.shape(x_test_svd))\n",
        "print(np.shape(y_test))"
      ],
      "metadata": {
        "colab": {
          "base_uri": "https://localhost:8080/"
        },
        "id": "u5Ge07oxWHs5",
        "outputId": "891cc854-7adc-4ccf-b029-4a035a5a0149"
      },
      "execution_count": null,
      "outputs": [
        {
          "output_type": "stream",
          "name": "stdout",
          "text": [
            "Initial set shapes:\n",
            "(831, 100)\n",
            "(831,)\n",
            "(277, 100)\n",
            "(277,)\n",
            "(278, 100)\n",
            "(278,)\n"
          ]
        }
      ]
    },
    {
      "cell_type": "code",
      "source": [
        "os.environ['TF_CPP_MIN_LOG_LEVEL'] = '3'\n",
        "\n",
        "def dot_product(x, kernel):\n",
        "    \"\"\"\n",
        "    Wrapper for dot product operation, in order to be compatible with both\n",
        "    Theano and Tensorflow\n",
        "    Args:\n",
        "        x (): input\n",
        "        kernel (): weights\n",
        "    Returns:\n",
        "    \"\"\"\n",
        "    if K.backend() == 'tensorflow':\n",
        "      return K.squeeze(K.dot(x, K.expand_dims(kernel)), axis=-1)\n",
        "    else:\n",
        "      return K.dot(x, kernel)\n",
        "\n",
        "\n",
        "class LinearAttention(Layer):\n",
        "    def __init__(self,\n",
        "                 kernel_regularizer=None, bias_regularizer=None,\n",
        "                 W_constraint=None, b_constraint=None,\n",
        "                 bias=True,\n",
        "                 return_attention=False,\n",
        "                 **kwargs):\n",
        "        \n",
        "        self.supports_masking = True\n",
        "        self.init = initializers.get('glorot_uniform')\n",
        "\n",
        "        self.W_regularizer = regularizers.get(kernel_regularizer)\n",
        "        self.b_regularizer = regularizers.get(bias_regularizer)\n",
        "\n",
        "        self.W_constraint = constraints.get(W_constraint)\n",
        "        self.b_constraint = constraints.get(b_constraint)\n",
        "\n",
        "        self.bias = bias\n",
        "        self.return_attention = return_attention\n",
        "        super(LinearAttention, self).__init__(**kwargs)\n",
        "\n",
        "    def build(self, input_shape):\n",
        "        assert len(input_shape) == 3\n",
        "\n",
        "        self.W = self.add_weight(shape=(input_shape[-1],),\n",
        "                                 initializer=self.init,\n",
        "                                 name='{}_W'.format(self.name),\n",
        "                                 regularizer=self.W_regularizer,\n",
        "                                 constraint=self.W_constraint)\n",
        "        if self.bias:\n",
        "            self.b = self.add_weight(shape=(1,),\n",
        "                                     initializer='zero',\n",
        "                                     name='{}_b'.format(self.name),\n",
        "                                     regularizer=self.b_regularizer,\n",
        "                                     constraint=self.b_constraint)\n",
        "        else:\n",
        "            self.b = None\n",
        "\n",
        "        self.built = True\n",
        "\n",
        "    def compute_mask(self, inputs, mask=None):\n",
        "        # do not pass the mask to the next layers\n",
        "        if self.return_attention:\n",
        "            return [None, None]\n",
        "        return None\n",
        "\n",
        "    def call(self, x, mask=None):\n",
        "        \n",
        "        # eij = Wx + b\n",
        "        eij = dot_product(x, self.W)\n",
        "\n",
        "        if self.bias:\n",
        "            eij += self.b\n",
        "\n",
        "        # Apply mask\n",
        "        if mask is not None:\n",
        "            eij *= K.cast(mask, K.floatx())\n",
        "\n",
        "        # a = softmax(eij)\n",
        "        a = K.expand_dims(K.softmax(eij, axis=-1))\n",
        "        weighted_input = x * a\n",
        "        result = K.sum(weighted_input, axis=1)\n",
        "\n",
        "        if self.return_attention:\n",
        "            return [result, a]\n",
        "        return result\n",
        "\n",
        "    def compute_output_shape(self, input_shape):\n",
        "        if self.return_attention:\n",
        "            return [(input_shape[0], input_shape[-1]),\n",
        "                    (input_shape[0], input_shape[1])]\n",
        "        else:\n",
        "            return input_shape[0], input_shape[-1]\n",
        "\n",
        "\n",
        "class DeepAttention(Layer):\n",
        "    def __init__(self,\n",
        "                 kernel_regularizer=None, u_regularizer=None, v_regularizer=None, bias_regularizer=None,\n",
        "                 W_constraint=None, u_constraint=None, b_constraint=None, v_constraint=None,\n",
        "                 bias=True,\n",
        "                 return_attention=False, layers=None,\n",
        "                 **kwargs):\n",
        "        self.layers = layers\n",
        "        self.supports_masking = True\n",
        "        self.init = initializers.get('glorot_uniform')\n",
        "\n",
        "        self.W_regularizer = regularizers.get(kernel_regularizer)\n",
        "        self.b1_regularizer = regularizers.get(bias_regularizer)\n",
        "        self.W_constraint = constraints.get(W_constraint)\n",
        "        self.b1_constraint = constraints.get(b_constraint)\n",
        "        \n",
        "        self.u_regularizer = regularizers.get(u_regularizer)\n",
        "        self.b2_regularizer = regularizers.get(bias_regularizer)\n",
        "        self.u_constraint = constraints.get(u_constraint)\n",
        "        self.b2_constraint = constraints.get(b_constraint)\n",
        "\n",
        "        self.v_regularizer = regularizers.get(v_regularizer)\n",
        "        self.b3_regularizer = regularizers.get(bias_regularizer)\n",
        "        self.v_constraint = constraints.get(v_constraint)\n",
        "        self.b3_constraint = constraints.get(b_constraint)\n",
        "\n",
        "        self.bias = bias\n",
        "        self.return_attention = return_attention\n",
        "        super(DeepAttention, self).__init__(**kwargs)\n",
        "\n",
        "    def build(self, input_shape):\n",
        "        assert len(input_shape) == 3\n",
        "\n",
        "        if self.layers==1:\n",
        "          self.W = self.add_weight(shape=(input_shape[-1],),\n",
        "                                 initializer=self.init,\n",
        "                                 name='{}_W'.format(self.name),\n",
        "                                 regularizer=self.W_regularizer,\n",
        "                                 constraint=self.W_constraint)\n",
        "          if self.bias:\n",
        "              self.b1 = self.add_weight(shape=(1,),\n",
        "                                      initializer='zero',\n",
        "                                      name='{}_b1'.format(self.name),\n",
        "                                      regularizer=self.b1_regularizer,\n",
        "                                      constraint=self.b1_constraint)\n",
        "          else:\n",
        "            self.b1=None\n",
        "        elif self.layers==2:\n",
        "          self.W = self.add_weight(shape=(input_shape[-1], input_shape[-1],),\n",
        "                                 initializer=self.init,\n",
        "                                 name='{}_W'.format(self.name),\n",
        "                                 regularizer=self.W_regularizer,\n",
        "                                 constraint=self.W_constraint)\n",
        "          if self.bias:            \n",
        "            self.b1 = self.add_weight(shape=(input_shape[-1],),\n",
        "                                     initializer='zero',\n",
        "                                     name='{}_b1'.format(self.name),\n",
        "                                     regularizer=self.b1_regularizer,\n",
        "                                     constraint=self.b1_constraint)\n",
        "            self.b2 = self.add_weight(shape=(1,),\n",
        "                                     initializer='zero',\n",
        "                                     name='{}_b2'.format(self.name),\n",
        "                                     regularizer=self.b2_regularizer,\n",
        "                                     constraint=self.b2_constraint)\n",
        "          else:\n",
        "            self.b1=None\n",
        "            self.b2=None\n",
        "          self.u = self.add_weight(shape=(input_shape[-1],),\n",
        "                                   initializer=self.init,\n",
        "                                   name='{}_u'.format(self.name),\n",
        "                                   regularizer=self.u_regularizer,\n",
        "                                   constraint=self.u_constraint)\n",
        "        else:\n",
        "          self.W = self.add_weight(shape=(input_shape[-1], input_shape[-1], input_shape[-1],),\n",
        "                                 initializer=self.init,\n",
        "                                 name='{}_W'.format(self.name),\n",
        "                                 regularizer=self.W_regularizer,\n",
        "                                 constraint=self.W_constraint)\n",
        "          if self.bias:\n",
        "            self.b1 = self.add_weight(shape=(input_shape[-1],input_shape[-1],),\n",
        "                                     initializer='zero',\n",
        "                                     name='{}_b1'.format(self.name),\n",
        "                                     regularizer=self.b1_regularizer,\n",
        "                                     constraint=self.b1_constraint)\n",
        "            self.b2 = self.add_weight(shape=(input_shape[-1],),\n",
        "                                     initializer='zero',\n",
        "                                     name='{}_b2'.format(self.name),\n",
        "                                     regularizer=self.b2_regularizer,\n",
        "                                     constraint=self.b2_constraint)\n",
        "            self.b3 = self.add_weight(shape=(1,),\n",
        "                                      initializer='zero',\n",
        "                                      name='{}_b3'.format(self.name),\n",
        "                                      regularizer=self.b3_regularizer,\n",
        "                                      constraint=self.b3_constraint)\n",
        "          else:\n",
        "            self.b1 = None\n",
        "            self.b2 = None\n",
        "            self.b3 = None\n",
        "          self.u = self.add_weight(shape=(input_shape[-1],),\n",
        "                                   initializer=self.init,\n",
        "                                   name='{}_u'.format(self.name),\n",
        "                                   regularizer=self.u_regularizer,\n",
        "                                   constraint=self.u_constraint)\n",
        "          self.v = self.add_weight(shape=(input_shape[-1],),\n",
        "                                   initializer=self.init,\n",
        "                                   name='{}_v'.format(self.name),\n",
        "                                   regularizer=self.v_regularizer,\n",
        "                                   constraint=self.v_constraint)\n",
        "\n",
        "        self.built = True\n",
        "\n",
        "\n",
        "    def compute_mask(self, inputs, mask=None):\n",
        "        # do not pass the mask to the next layers\n",
        "        if self.return_attention:\n",
        "            return [None, None]\n",
        "        return None\n",
        "\n",
        "\n",
        "\n",
        "    def call(self, x, mask=None):\n",
        "        uit = dot_product(x, self.W)\n",
        "\n",
        "        if self.bias:\n",
        "            uit += self.b1\n",
        "\n",
        "        \n",
        "\n",
        "        if self.layers>1:\n",
        "          uit = K.tanh(uit)\n",
        "          vij = dot_product(uit, self.u)\n",
        "          if self.bias:\n",
        "              vij += self.b2  \n",
        "        else:\n",
        "          eij=uit\n",
        "        \n",
        "        \n",
        "\n",
        "        if self.layers>2:\n",
        "          vij = K.tanh(vij)\n",
        "          eij = dot_product(vij, self.v)\n",
        "          if self.bias:\n",
        "              eij += self.b3\n",
        "        elif self.layers==1:\n",
        "          eij=uit\n",
        "        else:\n",
        "          eij=vij\n",
        "\n",
        "\n",
        "        # Apply mask\n",
        "        if mask is not None:\n",
        "            eij *= K.cast(mask, K.floatx())\n",
        "\n",
        "        a = K.expand_dims(K.softmax(eij, axis=-1))\n",
        "        \n",
        "        weighted_input = x * a\n",
        "        result = K.sum(weighted_input, axis=1)\n",
        "\n",
        "        if self.return_attention:\n",
        "            return [result, a]\n",
        "        return result\n",
        "\n",
        "    def compute_output_shape(self, input_shape):\n",
        "        if self.return_attention:\n",
        "            return [(input_shape[0], input_shape[-1]),\n",
        "                    (input_shape[0], input_shape[1])]\n",
        "        else:\n",
        "            return input_shape[0], input_shape[-1]"
      ],
      "metadata": {
        "id": "nEs15vLc7loU"
      },
      "execution_count": null,
      "outputs": []
    },
    {
      "cell_type": "code",
      "source": [
        "callbacks = [ReduceLROnPlateau(monitor='val_loss', patience=3, cooldown=0),\n",
        "        EarlyStopping(monitor='val_loss', min_delta=1e-4, patience=3, restore_best_weights=True)]\n",
        "                                                                          # If False, the model weights obtained at the last step of training are used.\n",
        "                                                                          # else, restores weights from the best epoch in that set."
      ],
      "metadata": {
        "id": "mFXFyws3eObk"
      },
      "execution_count": null,
      "outputs": []
    },
    {
      "cell_type": "markdown",
      "source": [
        "In the building process, we chose the Functional API modeling in order to use the Custom DeepAttention layer."
      ],
      "metadata": {
        "id": "VBmLEgYzeYM0"
      }
    },
    {
      "cell_type": "code",
      "source": [
        "def build_model(hp):\n",
        "  inputs = keras.Input(shape=(MAX_SEQUENCE_LENGTH,))\n",
        "\n",
        "  embedding = Embedding(input_dim=MAX_WORDS+2, output_dim=EMBEDDING_DIM, weights=[embedding_matrix],   # embedding_matrix.shape[0] should match MAX_WORDS+2\n",
        "                    input_length=MAX_SEQUENCE_LENGTH, mask_zero=True, trainable=False)(inputs)\n",
        "\n",
        "  emb_drop = Dropout(hp.Float('emb_drop_rate', 0, 0.5))(embedding)\n",
        "\n",
        "  bi = Bidirectional(GRU(hp.Choice('GRU_SIZE', [256]), return_sequences=True,\n",
        "                           recurrent_dropout = hp.Float('variational_drop', 0, 0.5), dropout = hp.Float('bi_dropout', 0, 0.5)))(emb_drop)\n",
        "\n",
        "  for i in range(hp.Int('BiGRU_layers', 1, 2)):\n",
        "    bi = Bidirectional(GRU(hp.Choice('GRU_SIZE_'+str(i), [128]), return_sequences=True,\n",
        "                           recurrent_dropout = hp.Float('variational_drop_'+str(i), 0, 0.5), dropout = hp.Float('bi_dropout_'+str(i), 0, 0.5)))(bi)\n",
        "  \n",
        "  # 1 Deep Attention Layer\n",
        "  x1, att1 = DeepAttention(return_attention=True, layers=hp.Choice(\"number_of_layers\",[1]))(bi)\n",
        "\n",
        "  drop_1 = Dropout(hp.Float('rate1', 0, 0.5))(x1)\n",
        "\n",
        "  # Αdd the output MLP layer\n",
        "  outputs = Dense(1, activation='sigmoid')(drop_1)\n",
        "\n",
        "  model = keras.Model(inputs=inputs, outputs=outputs, name=\"BiGRU_with_MLP\")\n",
        "\n",
        "  model.compile(loss='binary_crossentropy',\n",
        "              optimizer = Adam(lr=hp.Float(\"Adam_lr\",0.001,0.01)),#(hp.Float('learning_rate', 0.001, 0.01)),                # (hp.Float('learning_rate', 0.0001, 0.01, step=0.0001)),\n",
        "              metrics=[\"accuracy\"])\n",
        "  \n",
        "  return model"
      ],
      "metadata": {
        "id": "GJ9fTcGs2_K5"
      },
      "execution_count": null,
      "outputs": []
    },
    {
      "cell_type": "code",
      "source": [
        "tuner = kt.BayesianOptimization(\n",
        "    build_model,\n",
        "    objective='val_loss', seed = 11, overwrite = True, max_trials = 2)     # directory = my_dir # 10"
      ],
      "metadata": {
        "id": "ZoQSRkhg2_Ni"
      },
      "execution_count": null,
      "outputs": []
    },
    {
      "cell_type": "code",
      "source": [
        "tuner.search(train_data, y_train_1_hot, epochs=10, callbacks=callbacks, validation_data=(val_data, y_val_1_hot))"
      ],
      "metadata": {
        "colab": {
          "base_uri": "https://localhost:8080/"
        },
        "id": "1TUPvT6z2_QK",
        "outputId": "1da5c08a-2ec9-462d-c846-4664d658e326"
      },
      "execution_count": null,
      "outputs": [
        {
          "output_type": "stream",
          "name": "stdout",
          "text": [
            "Trial 2 Complete [00h 58m 42s]\n",
            "val_loss: 0.48985010385513306\n",
            "\n",
            "Best val_loss So Far: 0.48985010385513306\n",
            "Total elapsed time: 01h 50m 24s\n",
            "INFO:tensorflow:Oracle triggered exit\n"
          ]
        }
      ]
    },
    {
      "cell_type": "code",
      "source": [
        "tuner.results_summary(1)"
      ],
      "metadata": {
        "colab": {
          "base_uri": "https://localhost:8080/"
        },
        "id": "0QmoRy282_TR",
        "outputId": "a593937f-5170-41a2-fd75-613b0866312a"
      },
      "execution_count": null,
      "outputs": [
        {
          "output_type": "stream",
          "name": "stdout",
          "text": [
            "Results summary\n",
            "Results in ./untitled_project\n",
            "Showing 1 best trials\n",
            "Objective(name='val_loss', direction='min')\n",
            "Trial summary\n",
            "Hyperparameters:\n",
            "emb_drop_rate: 0.4791046899086364\n",
            "GRU_SIZE: 256\n",
            "variational_drop: 0.35617149391345926\n",
            "bi_dropout: 0.188481151195193\n",
            "BiGRU_layers: 2\n",
            "GRU_SIZE_0: 128\n",
            "variational_drop_0: 0.05647858508808151\n",
            "bi_dropout_0: 0.27405952690584956\n",
            "number_of_layers: 1\n",
            "rate1: 0.006139123698987725\n",
            "Adam_lr: 0.0016967960546797373\n",
            "GRU_SIZE_1: 128\n",
            "variational_drop_1: 0.26446769147020616\n",
            "bi_dropout_1: 0.2743473028219111\n",
            "Score: 0.48985010385513306\n"
          ]
        }
      ]
    },
    {
      "cell_type": "code",
      "source": [
        "best_model = tuner.get_best_models()[0]"
      ],
      "metadata": {
        "id": "Ffkfkmmo2_Y0"
      },
      "execution_count": null,
      "outputs": []
    },
    {
      "cell_type": "code",
      "source": [
        "best_model.summary()"
      ],
      "metadata": {
        "colab": {
          "base_uri": "https://localhost:8080/"
        },
        "id": "ai6NBwGLexUE",
        "outputId": "ac83937d-57e6-45bc-f426-7f7d0dc72bb7"
      },
      "execution_count": null,
      "outputs": [
        {
          "output_type": "stream",
          "name": "stdout",
          "text": [
            "Model: \"BiGRU_with_MLP\"\n",
            "_________________________________________________________________\n",
            " Layer (type)                Output Shape              Param #   \n",
            "=================================================================\n",
            " input_1 (InputLayer)        [(None, 350)]             0         \n",
            "                                                                 \n",
            " embedding (Embedding)       (None, 350, 300)          300600    \n",
            "                                                                 \n",
            " dropout (Dropout)           (None, 350, 300)          0         \n",
            "                                                                 \n",
            " bidirectional (Bidirectiona  (None, 350, 512)         857088    \n",
            " l)                                                              \n",
            "                                                                 \n",
            " bidirectional_1 (Bidirectio  (None, 350, 256)         493056    \n",
            " nal)                                                            \n",
            "                                                                 \n",
            " bidirectional_2 (Bidirectio  (None, 350, 256)         296448    \n",
            " nal)                                                            \n",
            "                                                                 \n",
            " deep_attention (DeepAttenti  [(None, 256),            257       \n",
            " on)                          (None, 350, 1)]                    \n",
            "                                                                 \n",
            " dropout_1 (Dropout)         (None, 256)               0         \n",
            "                                                                 \n",
            " dense (Dense)               (None, 1)                 257       \n",
            "                                                                 \n",
            "=================================================================\n",
            "Total params: 1,947,706\n",
            "Trainable params: 1,647,106\n",
            "Non-trainable params: 300,600\n",
            "_________________________________________________________________\n"
          ]
        }
      ]
    },
    {
      "cell_type": "markdown",
      "source": [
        "Building the architecture of the BiGRU with MLP model from **scratch**."
      ],
      "metadata": {
        "id": "dkZnBFVFtpse"
      }
    },
    {
      "cell_type": "code",
      "source": [
        "inputs = keras.Input(shape=(MAX_SEQUENCE_LENGTH,))\n",
        "\n",
        "embedding = Embedding(input_dim=MAX_WORDS+2, output_dim=EMBEDDING_DIM, weights=[embedding_matrix],   # embedding_matrix.shape[0] should match MAX_WORDS+2\n",
        "                    input_length=MAX_SEQUENCE_LENGTH, mask_zero=True, trainable=False)(inputs)\n",
        "emb_drop = Dropout(0.4791046899086364)(embedding)\n",
        "bi = Bidirectional(GRU(256, return_sequences=True,\n",
        "                           recurrent_dropout = 0.35617149391345926, dropout = 0.05341426885082784))(emb_drop)\n",
        "\n",
        "bi = Bidirectional(GRU(128, return_sequences=True,\n",
        "                           recurrent_dropout = 0.05647858508808151, dropout = 0.188481151195193))(bi)\n",
        "bi = Bidirectional(GRU(128, return_sequences=True,\n",
        "                           recurrent_dropout = 0.26446769147020616, dropout = 0.2743473028219111))(bi)\n",
        "x1, att1 = DeepAttention(return_attention=True, layers=1)(bi)\n",
        "\n",
        "drop_1 = Dropout(0.006139123698987725)(x1)\n",
        "\n",
        "outputs = Dense(1, activation='sigmoid')(drop_1)\n",
        "\n",
        "model5 = keras.Model(inputs=inputs, outputs=outputs, name=\"BiGRU_with_MLP\")\n",
        "\n",
        "model5.compile(loss='binary_crossentropy',\n",
        "              optimizer = Adam(lr=0.0016967960546797373),#(hp.Float('learning_rate', 0.001, 0.01)),                # (hp.Float('learning_rate', 0.0001, 0.01, step=0.0001)),\n",
        "              metrics=[\"accuracy\"])\n",
        "  \n",
        "  \n",
        "\n",
        "\n",
        "history5 = model5.fit(train_data, y_train_1_hot, epochs=10, callbacks=callbacks, validation_data=((val_data,y_val_1_hot)))"
      ],
      "metadata": {
        "colab": {
          "base_uri": "https://localhost:8080/"
        },
        "id": "gmutAHXxtoyJ",
        "outputId": "bec33bf4-01c0-4635-f063-448d75b22452"
      },
      "execution_count": null,
      "outputs": [
        {
          "output_type": "stream",
          "name": "stdout",
          "text": [
            "Epoch 1/10\n",
            "26/26 [==============================] - 363s 13s/step - loss: 0.7033 - accuracy: 0.5223 - val_loss: 0.6953 - val_accuracy: 0.4946 - lr: 0.0017\n",
            "Epoch 2/10\n",
            "26/26 [==============================] - 334s 13s/step - loss: 0.6798 - accuracy: 0.5475 - val_loss: 0.6455 - val_accuracy: 0.6823 - lr: 0.0017\n",
            "Epoch 3/10\n",
            "26/26 [==============================] - 336s 13s/step - loss: 0.6814 - accuracy: 0.5560 - val_loss: 0.6481 - val_accuracy: 0.5957 - lr: 0.0017\n",
            "Epoch 4/10\n",
            "26/26 [==============================] - 335s 13s/step - loss: 0.6570 - accuracy: 0.6667 - val_loss: 0.6642 - val_accuracy: 0.5812 - lr: 0.0017\n",
            "Epoch 5/10\n",
            "26/26 [==============================] - 334s 13s/step - loss: 0.6210 - accuracy: 0.6546 - val_loss: 0.6256 - val_accuracy: 0.6570 - lr: 0.0017\n",
            "Epoch 6/10\n",
            "26/26 [==============================] - 335s 13s/step - loss: 0.6152 - accuracy: 0.6474 - val_loss: 0.6080 - val_accuracy: 0.6751 - lr: 0.0017\n",
            "Epoch 7/10\n",
            "26/26 [==============================] - 334s 13s/step - loss: 0.5603 - accuracy: 0.7208 - val_loss: 0.5482 - val_accuracy: 0.6968 - lr: 0.0017\n",
            "Epoch 8/10\n",
            "26/26 [==============================] - 334s 13s/step - loss: 0.5118 - accuracy: 0.7292 - val_loss: 0.5368 - val_accuracy: 0.7112 - lr: 0.0017\n",
            "Epoch 9/10\n",
            "26/26 [==============================] - 351s 14s/step - loss: 0.5232 - accuracy: 0.7533 - val_loss: 0.5847 - val_accuracy: 0.6931 - lr: 0.0017\n",
            "Epoch 10/10\n",
            "26/26 [==============================] - 336s 13s/step - loss: 0.4959 - accuracy: 0.7690 - val_loss: 0.4924 - val_accuracy: 0.7473 - lr: 0.0017\n"
          ]
        }
      ]
    },
    {
      "cell_type": "code",
      "source": [
        "model5.evaluate(train_data, y_train_1_hot)"
      ],
      "metadata": {
        "colab": {
          "base_uri": "https://localhost:8080/"
        },
        "id": "olEuzEJ3to1D",
        "outputId": "4cfba626-5e95-4ecd-d24e-84ad85f010ec"
      },
      "execution_count": null,
      "outputs": [
        {
          "output_type": "stream",
          "name": "stdout",
          "text": [
            "26/26 [==============================] - 34s 1s/step - loss: 0.3889 - accuracy: 0.8448\n"
          ]
        },
        {
          "output_type": "execute_result",
          "data": {
            "text/plain": [
              "[0.38887423276901245, 0.8447653651237488]"
            ]
          },
          "metadata": {},
          "execution_count": 45
        }
      ]
    },
    {
      "cell_type": "code",
      "source": [
        "model5.evaluate(val_data,y_val_1_hot)"
      ],
      "metadata": {
        "colab": {
          "base_uri": "https://localhost:8080/"
        },
        "id": "ndU-wRtrto3u",
        "outputId": "a18dc0bd-8cd8-4595-d637-113275adcf63"
      },
      "execution_count": null,
      "outputs": [
        {
          "output_type": "stream",
          "name": "stdout",
          "text": [
            "9/9 [==============================] - 12s 1s/step - loss: 0.4924 - accuracy: 0.7473\n"
          ]
        },
        {
          "output_type": "execute_result",
          "data": {
            "text/plain": [
              "[0.49236825108528137, 0.7472923994064331]"
            ]
          },
          "metadata": {},
          "execution_count": 46
        }
      ]
    },
    {
      "cell_type": "code",
      "source": [
        "model5.evaluate(test_data, y_test_1_hot)"
      ],
      "metadata": {
        "colab": {
          "base_uri": "https://localhost:8080/"
        },
        "id": "vPecZClPf5Lc",
        "outputId": "d8fd4c50-cb98-446b-adbf-8b764b7d5505"
      },
      "execution_count": null,
      "outputs": [
        {
          "output_type": "stream",
          "name": "stdout",
          "text": [
            "9/9 [==============================] - 12s 1s/step - loss: 0.4836 - accuracy: 0.7626\n"
          ]
        },
        {
          "output_type": "execute_result",
          "data": {
            "text/plain": [
              "[0.48362889885902405, 0.7625899314880371]"
            ]
          },
          "metadata": {},
          "execution_count": 47
        }
      ]
    },
    {
      "cell_type": "markdown",
      "source": [
        "Learning Curves of the train and dev sets indicating the loss of our model as a function of epochs."
      ],
      "metadata": {
        "id": "6A-n7GW87BFQ"
      }
    },
    {
      "cell_type": "code",
      "source": [
        "# Learning Curves Loss-Epochs\n",
        "plt.figure(figsize=(10,8))\n",
        "plt.plot(history5.history['loss'])\n",
        "plt.plot(history5.history['val_loss'])\n",
        "plt.title('Model Loss', fontsize=17)\n",
        "plt.ylabel('Loss', fontsize=15)\n",
        "plt.xlabel('Epochs', fontsize=15)\n",
        "plt.legend(['Train', 'Dev'], fontsize = 15)\n",
        "plt.xticks(fontsize=13)   # range(-1,6), range(7), \n",
        "plt.yticks(fontsize=13)\n",
        "# plt.grid()\n",
        "plt.show()"
      ],
      "metadata": {
        "colab": {
          "base_uri": "https://localhost:8080/",
          "height": 524
        },
        "id": "77MoTE7Yt7T3",
        "outputId": "ec94a9d3-e7ba-45d9-f8a1-493aad820d7a"
      },
      "execution_count": null,
      "outputs": [
        {
          "output_type": "display_data",
          "data": {
            "text/plain": [
              "<Figure size 720x576 with 1 Axes>"
            ],
            "image/png": "[encoded data removed]"
          },
          "metadata": {
            "needs_background": "light"
          }
        }
      ]
    },
    {
      "cell_type": "markdown",
      "source": [
        "Experimental characteristics-results"
      ],
      "metadata": {
        "id": "EfEz28yo7Uxv"
      }
    },
    {
      "cell_type": "code",
      "source": [
        "def report(x, y, set_type):\n",
        "  probs_belong_to_class_1 = model5.predict(x)\n",
        "  probs_belong_to_class_0 = 1-probs_belong_to_class_1\n",
        "  predict_proba_preds = np.concatenate((probs_belong_to_class_0, probs_belong_to_class_1), axis = 1)\n",
        "\n",
        "  print(f\"\\nPrecision, recall, F1 scores for each class({set_type} set)\")\n",
        "  print(classification_report(y, np.round(model5.predict(x)).astype(\"int32\"), labels=np.array([0,1])))\n",
        "                                    # (model.predict(x_train_svd) >= 0.5).astype(\"int32\")\n",
        "\n",
        "  print(f\"\\nPrecision Recall AUC score for the negative class({set_type} set):\")\n",
        "  precision, recall, thresholds = precision_recall_curve(y, predict_proba_preds[:,0],pos_label=0)\n",
        "  area_train_1 = auc(recall, precision)\n",
        "  print(area_train_1)\n",
        "  print(f\"\\nPrecision Recall AUC score for the positive class({set_type} set):\")\n",
        "  precision, recall, thresholds = precision_recall_curve(y, predict_proba_preds[:,1],pos_label=1)\n",
        "  area_train_2 = auc(recall, precision)\n",
        "  print(area_train_2)\n",
        "  print(f\"\\nMacro-averaged Precision Recall AUC score for the {set_type} set:\")\n",
        "  print((area_train_1+area_train_2)/2)"
      ],
      "metadata": {
        "id": "unhbiCrjevfX"
      },
      "execution_count": null,
      "outputs": []
    },
    {
      "cell_type": "code",
      "source": [
        "report(train_data, y_train_1_hot, \"train\")"
      ],
      "metadata": {
        "colab": {
          "base_uri": "https://localhost:8080/"
        },
        "id": "faHmgwl9cO5w",
        "outputId": "1e030305-08d5-49c8-b47b-7b471fc05965"
      },
      "execution_count": null,
      "outputs": [
        {
          "output_type": "stream",
          "name": "stdout",
          "text": [
            "\n",
            "Precision, recall, F1 scores for each class(train set)\n",
            "              precision    recall  f1-score   support\n",
            "\n",
            "           0       0.87      0.82      0.84       425\n",
            "           1       0.82      0.87      0.85       406\n",
            "\n",
            "    accuracy                           0.84       831\n",
            "   macro avg       0.85      0.85      0.84       831\n",
            "weighted avg       0.85      0.84      0.84       831\n",
            "\n",
            "\n",
            "Precision Recall AUC score for the negative class(train set):\n",
            "0.90787285206513\n",
            "\n",
            "Precision Recall AUC score for the positive class(train set):\n",
            "0.9131592110546792\n",
            "\n",
            "Macro-averaged Precision Recall AUC score for the train set:\n",
            "0.9105160315599046\n"
          ]
        }
      ]
    },
    {
      "cell_type": "code",
      "source": [
        "report(val_data, y_val_1_hot, \"validation\")"
      ],
      "metadata": {
        "colab": {
          "base_uri": "https://localhost:8080/"
        },
        "id": "m2Eis3kV7Jjj",
        "outputId": "27ae468f-03a3-42dd-dc06-ce2f301407cc"
      },
      "execution_count": null,
      "outputs": [
        {
          "output_type": "stream",
          "name": "stdout",
          "text": [
            "\n",
            "Precision, recall, F1 scores for each class(validation set)\n",
            "              precision    recall  f1-score   support\n",
            "\n",
            "           0       0.77      0.70      0.73       137\n",
            "           1       0.73      0.79      0.76       140\n",
            "\n",
            "    accuracy                           0.75       277\n",
            "   macro avg       0.75      0.75      0.75       277\n",
            "weighted avg       0.75      0.75      0.75       277\n",
            "\n",
            "\n",
            "Precision Recall AUC score for the negative class(validation set):\n",
            "0.846573705885053\n",
            "\n",
            "Precision Recall AUC score for the positive class(validation set):\n",
            "0.8266069138575395\n",
            "\n",
            "Macro-averaged Precision Recall AUC score for the validation set:\n",
            "0.8365903098712962\n"
          ]
        }
      ]
    },
    {
      "cell_type": "code",
      "source": [
        "report(test_data, y_test_1_hot, \"test\")"
      ],
      "metadata": {
        "colab": {
          "base_uri": "https://localhost:8080/"
        },
        "id": "0ZUWO2GN7JZK",
        "outputId": "eed35dd5-3932-4cd7-fdff-348bd0c0f222"
      },
      "execution_count": null,
      "outputs": [
        {
          "output_type": "stream",
          "name": "stdout",
          "text": [
            "\n",
            "Precision, recall, F1 scores for each class(train set)\n",
            "              precision    recall  f1-score   support\n",
            "\n",
            "           0       0.75      0.75      0.75       130\n",
            "           1       0.78      0.78      0.78       148\n",
            "\n",
            "    accuracy                           0.76       278\n",
            "   macro avg       0.76      0.76      0.76       278\n",
            "weighted avg       0.76      0.76      0.76       278\n",
            "\n",
            "\n",
            "Precision Recall AUC score for the negative class(train set):\n",
            "0.8262165314894183\n",
            "\n",
            "Precision Recall AUC score for the positive class(train set):\n",
            "0.8618548687403423\n",
            "\n",
            "Macro-averaged Precision Recall AUC score for the train set:\n",
            "0.8440357001148804\n"
          ]
        }
      ]
    }
  ]
}